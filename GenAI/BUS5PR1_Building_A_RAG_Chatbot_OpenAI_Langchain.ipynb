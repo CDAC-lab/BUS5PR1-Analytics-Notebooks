{
  "cells": [
    {
      "cell_type": "markdown",
      "metadata": {
        "id": "I0966i2Jbc7z"
      },
      "source": [
        "[![Open In Colab](https://colab.research.google.com/assets/colab-badge.svg)](https://colab.research.google.com/github/pinecone-io/examples/blob/master/learn/generation/langchain/rag-chatbot.ipynb) [![Open nbviewer](https://raw.githubusercontent.com/pinecone-io/examples/master/assets/nbviewer-shield.svg)](https://nbviewer.org/github/pinecone-io/examples/blob/master/learn/generation/langchain/rag-chatbot.ipynb)"
      ]
    },
    {
      "cell_type": "markdown",
      "metadata": {
        "id": "wXMZ2sRIbc70"
      },
      "source": [
        "# Building RAG Chatbots with LangChain & OpenAI\n"
      ]
    },
    {
      "cell_type": "markdown",
      "metadata": {
        "id": "DjUaUXZbbc70"
      },
      "source": [
        "In this example, we'll guide you through building an AI chatbot from start to finish, using LangChain, OpenAI, and Chroma Vector Database. The chatbot will utilize **Retrieval Augmented Generation (RAG)** to enhance its responses by retrieving relevant information from external sources.\n",
        "\n",
        "We'll work with a sample document as part of the knowledge base.\n",
        "\n",
        "By the end of this tutorial, you'll have a fully functional chatbot integrated with a RAG pipeline, capable of holding meaningful conversations and providing informative responses based on the\n",
        "\n",
        "### Before you begin\n",
        "\n",
        "You'll need to get an [OpenAI API key](https://platform.openai.com/account/api-keys)"
      ]
    },
    {
      "cell_type": "markdown",
      "metadata": {
        "id": "_RpSN29Fbc71"
      },
      "source": [
        "### Prerequisites"
      ]
    },
    {
      "cell_type": "markdown",
      "metadata": {
        "id": "4_vBeVhqbc71"
      },
      "source": [
        "Before we start building our chatbot, we need to install some Python libraries. Here's a brief overview of what each library does:\n",
        "\n",
        "- **langchain**: This is a library for GenAI. We'll use it to chain together different language models and components for our chatbot.\n",
        "- **openai**: This is the official OpenAI Python client. We'll use it to interact with the OpenAI API and generate responses for our chatbot.\n",
        "- **datasets**: This library provides a vast array of datasets for machine learning. We'll use it to load our knowledge base for the chatbot.\n",
        "- **chromadb**:  a fast, open-source vector database for managing embeddings in machine learning applications.\n",
        "\n",
        "You can install these libraries using pip like so:"
      ]
    },
    {
      "cell_type": "code",
      "execution_count": 1,
      "metadata": {
        "id": "vaEuI0zXbc71",
        "colab": {
          "base_uri": "https://localhost:8080/"
        },
        "outputId": "29f2b791-5906-48f2-f8f3-e11f651f5501"
      },
      "outputs": [
        {
          "output_type": "stream",
          "name": "stdout",
          "text": [
            "Collecting langchain\n",
            "  Downloading langchain-0.3.3-py3-none-any.whl.metadata (7.1 kB)\n",
            "Collecting openai\n",
            "  Downloading openai-1.51.2-py3-none-any.whl.metadata (24 kB)\n",
            "Collecting chromadb\n",
            "  Downloading chromadb-0.5.13-py3-none-any.whl.metadata (6.8 kB)\n",
            "Collecting tiktoken\n",
            "  Downloading tiktoken-0.8.0-cp310-cp310-manylinux_2_17_x86_64.manylinux2014_x86_64.whl.metadata (6.6 kB)\n",
            "Collecting langchain-community\n",
            "  Downloading langchain_community-0.3.2-py3-none-any.whl.metadata (2.8 kB)\n",
            "Collecting langchain-openai\n",
            "  Downloading langchain_openai-0.2.2-py3-none-any.whl.metadata (2.6 kB)\n",
            "Collecting pypdf\n",
            "  Downloading pypdf-5.0.1-py3-none-any.whl.metadata (7.4 kB)\n",
            "Requirement already satisfied: PyYAML>=5.3 in /usr/local/lib/python3.10/dist-packages (from langchain) (6.0.2)\n",
            "Requirement already satisfied: SQLAlchemy<3,>=1.4 in /usr/local/lib/python3.10/dist-packages (from langchain) (2.0.35)\n",
            "Requirement already satisfied: aiohttp<4.0.0,>=3.8.3 in /usr/local/lib/python3.10/dist-packages (from langchain) (3.10.10)\n",
            "Requirement already satisfied: async-timeout<5.0.0,>=4.0.0 in /usr/local/lib/python3.10/dist-packages (from langchain) (4.0.3)\n",
            "Collecting langchain-core<0.4.0,>=0.3.10 (from langchain)\n",
            "  Downloading langchain_core-0.3.10-py3-none-any.whl.metadata (6.3 kB)\n",
            "Collecting langchain-text-splitters<0.4.0,>=0.3.0 (from langchain)\n",
            "  Downloading langchain_text_splitters-0.3.0-py3-none-any.whl.metadata (2.3 kB)\n",
            "Collecting langsmith<0.2.0,>=0.1.17 (from langchain)\n",
            "  Downloading langsmith-0.1.135-py3-none-any.whl.metadata (13 kB)\n",
            "Requirement already satisfied: numpy<2,>=1 in /usr/local/lib/python3.10/dist-packages (from langchain) (1.26.4)\n",
            "Requirement already satisfied: pydantic<3.0.0,>=2.7.4 in /usr/local/lib/python3.10/dist-packages (from langchain) (2.9.2)\n",
            "Requirement already satisfied: requests<3,>=2 in /usr/local/lib/python3.10/dist-packages (from langchain) (2.32.3)\n",
            "Collecting tenacity!=8.4.0,<9.0.0,>=8.1.0 (from langchain)\n",
            "  Downloading tenacity-8.5.0-py3-none-any.whl.metadata (1.2 kB)\n",
            "Requirement already satisfied: anyio<5,>=3.5.0 in /usr/local/lib/python3.10/dist-packages (from openai) (3.7.1)\n",
            "Requirement already satisfied: distro<2,>=1.7.0 in /usr/lib/python3/dist-packages (from openai) (1.7.0)\n",
            "Collecting httpx<1,>=0.23.0 (from openai)\n",
            "  Downloading httpx-0.27.2-py3-none-any.whl.metadata (7.1 kB)\n",
            "Collecting jiter<1,>=0.4.0 (from openai)\n",
            "  Downloading jiter-0.6.1-cp310-cp310-manylinux_2_17_x86_64.manylinux2014_x86_64.whl.metadata (5.2 kB)\n",
            "Requirement already satisfied: sniffio in /usr/local/lib/python3.10/dist-packages (from openai) (1.3.1)\n",
            "Requirement already satisfied: tqdm>4 in /usr/local/lib/python3.10/dist-packages (from openai) (4.66.5)\n",
            "Requirement already satisfied: typing-extensions<5,>=4.11 in /usr/local/lib/python3.10/dist-packages (from openai) (4.12.2)\n",
            "Requirement already satisfied: build>=1.0.3 in /usr/local/lib/python3.10/dist-packages (from chromadb) (1.2.2.post1)\n",
            "Collecting chroma-hnswlib==0.7.6 (from chromadb)\n",
            "  Downloading chroma_hnswlib-0.7.6-cp310-cp310-manylinux_2_17_x86_64.manylinux2014_x86_64.whl.metadata (252 bytes)\n",
            "Collecting fastapi>=0.95.2 (from chromadb)\n",
            "  Downloading fastapi-0.115.2-py3-none-any.whl.metadata (27 kB)\n",
            "Collecting uvicorn>=0.18.3 (from uvicorn[standard]>=0.18.3->chromadb)\n",
            "  Downloading uvicorn-0.32.0-py3-none-any.whl.metadata (6.6 kB)\n",
            "Collecting posthog>=2.4.0 (from chromadb)\n",
            "  Downloading posthog-3.7.0-py2.py3-none-any.whl.metadata (2.0 kB)\n",
            "Collecting onnxruntime>=1.14.1 (from chromadb)\n",
            "  Downloading onnxruntime-1.19.2-cp310-cp310-manylinux_2_27_x86_64.manylinux_2_28_x86_64.whl.metadata (4.5 kB)\n",
            "Requirement already satisfied: opentelemetry-api>=1.2.0 in /usr/local/lib/python3.10/dist-packages (from chromadb) (1.16.0)\n",
            "Collecting opentelemetry-exporter-otlp-proto-grpc>=1.2.0 (from chromadb)\n",
            "  Downloading opentelemetry_exporter_otlp_proto_grpc-1.27.0-py3-none-any.whl.metadata (2.3 kB)\n",
            "Collecting opentelemetry-instrumentation-fastapi>=0.41b0 (from chromadb)\n",
            "  Downloading opentelemetry_instrumentation_fastapi-0.48b0-py3-none-any.whl.metadata (2.1 kB)\n",
            "Requirement already satisfied: opentelemetry-sdk>=1.2.0 in /usr/local/lib/python3.10/dist-packages (from chromadb) (1.16.0)\n",
            "Requirement already satisfied: tokenizers>=0.13.2 in /usr/local/lib/python3.10/dist-packages (from chromadb) (0.19.1)\n",
            "Collecting pypika>=0.48.9 (from chromadb)\n",
            "  Downloading PyPika-0.48.9.tar.gz (67 kB)\n",
            "\u001b[2K     \u001b[90m━━━━━━━━━━━━━━━━━━━━━━━━━━━━━━━━━━━━━━━━\u001b[0m \u001b[32m67.3/67.3 kB\u001b[0m \u001b[31m3.1 MB/s\u001b[0m eta \u001b[36m0:00:00\u001b[0m\n",
            "\u001b[?25h  Installing build dependencies ... \u001b[?25l\u001b[?25hdone\n",
            "  Getting requirements to build wheel ... \u001b[?25l\u001b[?25hdone\n",
            "  Preparing metadata (pyproject.toml) ... \u001b[?25l\u001b[?25hdone\n",
            "Collecting overrides>=7.3.1 (from chromadb)\n",
            "  Downloading overrides-7.7.0-py3-none-any.whl.metadata (5.8 kB)\n",
            "Requirement already satisfied: importlib-resources in /usr/local/lib/python3.10/dist-packages (from chromadb) (6.4.5)\n",
            "Requirement already satisfied: grpcio>=1.58.0 in /usr/local/lib/python3.10/dist-packages (from chromadb) (1.64.1)\n",
            "Collecting bcrypt>=4.0.1 (from chromadb)\n",
            "  Downloading bcrypt-4.2.0-cp39-abi3-manylinux_2_28_x86_64.whl.metadata (9.6 kB)\n",
            "Requirement already satisfied: typer>=0.9.0 in /usr/local/lib/python3.10/dist-packages (from chromadb) (0.12.5)\n",
            "Collecting kubernetes>=28.1.0 (from chromadb)\n",
            "  Downloading kubernetes-31.0.0-py2.py3-none-any.whl.metadata (1.5 kB)\n",
            "Collecting mmh3>=4.0.1 (from chromadb)\n",
            "  Downloading mmh3-5.0.1-cp310-cp310-manylinux_2_5_x86_64.manylinux1_x86_64.manylinux_2_17_x86_64.manylinux2014_x86_64.whl.metadata (14 kB)\n",
            "Collecting orjson>=3.9.12 (from chromadb)\n",
            "  Downloading orjson-3.10.7-cp310-cp310-manylinux_2_17_x86_64.manylinux2014_x86_64.whl.metadata (50 kB)\n",
            "\u001b[2K     \u001b[90m━━━━━━━━━━━━━━━━━━━━━━━━━━━━━━━━━━━━━━━━\u001b[0m \u001b[32m50.4/50.4 kB\u001b[0m \u001b[31m787.4 kB/s\u001b[0m eta \u001b[36m0:00:00\u001b[0m\n",
            "\u001b[?25hRequirement already satisfied: rich>=10.11.0 in /usr/local/lib/python3.10/dist-packages (from chromadb) (13.9.2)\n",
            "Requirement already satisfied: regex>=2022.1.18 in /usr/local/lib/python3.10/dist-packages (from tiktoken) (2024.9.11)\n",
            "Collecting dataclasses-json<0.7,>=0.5.7 (from langchain-community)\n",
            "  Downloading dataclasses_json-0.6.7-py3-none-any.whl.metadata (25 kB)\n",
            "Collecting pydantic-settings<3.0.0,>=2.4.0 (from langchain-community)\n",
            "  Downloading pydantic_settings-2.5.2-py3-none-any.whl.metadata (3.5 kB)\n",
            "Requirement already satisfied: aiohappyeyeballs>=2.3.0 in /usr/local/lib/python3.10/dist-packages (from aiohttp<4.0.0,>=3.8.3->langchain) (2.4.3)\n",
            "Requirement already satisfied: aiosignal>=1.1.2 in /usr/local/lib/python3.10/dist-packages (from aiohttp<4.0.0,>=3.8.3->langchain) (1.3.1)\n",
            "Requirement already satisfied: attrs>=17.3.0 in /usr/local/lib/python3.10/dist-packages (from aiohttp<4.0.0,>=3.8.3->langchain) (24.2.0)\n",
            "Requirement already satisfied: frozenlist>=1.1.1 in /usr/local/lib/python3.10/dist-packages (from aiohttp<4.0.0,>=3.8.3->langchain) (1.4.1)\n",
            "Requirement already satisfied: multidict<7.0,>=4.5 in /usr/local/lib/python3.10/dist-packages (from aiohttp<4.0.0,>=3.8.3->langchain) (6.1.0)\n",
            "Requirement already satisfied: yarl<2.0,>=1.12.0 in /usr/local/lib/python3.10/dist-packages (from aiohttp<4.0.0,>=3.8.3->langchain) (1.14.0)\n",
            "Requirement already satisfied: idna>=2.8 in /usr/local/lib/python3.10/dist-packages (from anyio<5,>=3.5.0->openai) (3.10)\n",
            "Requirement already satisfied: exceptiongroup in /usr/local/lib/python3.10/dist-packages (from anyio<5,>=3.5.0->openai) (1.2.2)\n",
            "Requirement already satisfied: packaging>=19.1 in /usr/local/lib/python3.10/dist-packages (from build>=1.0.3->chromadb) (24.1)\n",
            "Requirement already satisfied: pyproject_hooks in /usr/local/lib/python3.10/dist-packages (from build>=1.0.3->chromadb) (1.2.0)\n",
            "Requirement already satisfied: tomli>=1.1.0 in /usr/local/lib/python3.10/dist-packages (from build>=1.0.3->chromadb) (2.0.2)\n",
            "Collecting marshmallow<4.0.0,>=3.18.0 (from dataclasses-json<0.7,>=0.5.7->langchain-community)\n",
            "  Downloading marshmallow-3.22.0-py3-none-any.whl.metadata (7.2 kB)\n",
            "Collecting typing-inspect<1,>=0.4.0 (from dataclasses-json<0.7,>=0.5.7->langchain-community)\n",
            "  Downloading typing_inspect-0.9.0-py3-none-any.whl.metadata (1.5 kB)\n",
            "Collecting starlette<0.41.0,>=0.37.2 (from fastapi>=0.95.2->chromadb)\n",
            "  Downloading starlette-0.40.0-py3-none-any.whl.metadata (6.0 kB)\n",
            "Requirement already satisfied: certifi in /usr/local/lib/python3.10/dist-packages (from httpx<1,>=0.23.0->openai) (2024.8.30)\n",
            "Collecting httpcore==1.* (from httpx<1,>=0.23.0->openai)\n",
            "  Downloading httpcore-1.0.6-py3-none-any.whl.metadata (21 kB)\n",
            "Collecting h11<0.15,>=0.13 (from httpcore==1.*->httpx<1,>=0.23.0->openai)\n",
            "  Downloading h11-0.14.0-py3-none-any.whl.metadata (8.2 kB)\n",
            "Requirement already satisfied: six>=1.9.0 in /usr/local/lib/python3.10/dist-packages (from kubernetes>=28.1.0->chromadb) (1.16.0)\n",
            "Requirement already satisfied: python-dateutil>=2.5.3 in /usr/local/lib/python3.10/dist-packages (from kubernetes>=28.1.0->chromadb) (2.8.2)\n",
            "Requirement already satisfied: google-auth>=1.0.1 in /usr/local/lib/python3.10/dist-packages (from kubernetes>=28.1.0->chromadb) (2.27.0)\n",
            "Requirement already satisfied: websocket-client!=0.40.0,!=0.41.*,!=0.42.*,>=0.32.0 in /usr/local/lib/python3.10/dist-packages (from kubernetes>=28.1.0->chromadb) (1.8.0)\n",
            "Requirement already satisfied: requests-oauthlib in /usr/local/lib/python3.10/dist-packages (from kubernetes>=28.1.0->chromadb) (1.3.1)\n",
            "Requirement already satisfied: oauthlib>=3.2.2 in /usr/local/lib/python3.10/dist-packages (from kubernetes>=28.1.0->chromadb) (3.2.2)\n",
            "Requirement already satisfied: urllib3>=1.24.2 in /usr/local/lib/python3.10/dist-packages (from kubernetes>=28.1.0->chromadb) (2.2.3)\n",
            "Collecting durationpy>=0.7 (from kubernetes>=28.1.0->chromadb)\n",
            "  Downloading durationpy-0.9-py3-none-any.whl.metadata (338 bytes)\n",
            "Collecting jsonpatch<2.0,>=1.33 (from langchain-core<0.4.0,>=0.3.10->langchain)\n",
            "  Downloading jsonpatch-1.33-py2.py3-none-any.whl.metadata (3.0 kB)\n",
            "Collecting requests-toolbelt<2.0.0,>=1.0.0 (from langsmith<0.2.0,>=0.1.17->langchain)\n",
            "  Downloading requests_toolbelt-1.0.0-py2.py3-none-any.whl.metadata (14 kB)\n",
            "Collecting coloredlogs (from onnxruntime>=1.14.1->chromadb)\n",
            "  Downloading coloredlogs-15.0.1-py2.py3-none-any.whl.metadata (12 kB)\n",
            "Requirement already satisfied: flatbuffers in /usr/local/lib/python3.10/dist-packages (from onnxruntime>=1.14.1->chromadb) (24.3.25)\n",
            "Requirement already satisfied: protobuf in /usr/local/lib/python3.10/dist-packages (from onnxruntime>=1.14.1->chromadb) (3.20.3)\n",
            "Requirement already satisfied: sympy in /usr/local/lib/python3.10/dist-packages (from onnxruntime>=1.14.1->chromadb) (1.13.3)\n",
            "Requirement already satisfied: deprecated>=1.2.6 in /usr/local/lib/python3.10/dist-packages (from opentelemetry-api>=1.2.0->chromadb) (1.2.14)\n",
            "Requirement already satisfied: setuptools>=16.0 in /usr/local/lib/python3.10/dist-packages (from opentelemetry-api>=1.2.0->chromadb) (71.0.4)\n",
            "Requirement already satisfied: googleapis-common-protos~=1.52 in /usr/local/lib/python3.10/dist-packages (from opentelemetry-exporter-otlp-proto-grpc>=1.2.0->chromadb) (1.65.0)\n",
            "Collecting opentelemetry-exporter-otlp-proto-common==1.27.0 (from opentelemetry-exporter-otlp-proto-grpc>=1.2.0->chromadb)\n",
            "  Downloading opentelemetry_exporter_otlp_proto_common-1.27.0-py3-none-any.whl.metadata (1.8 kB)\n",
            "Collecting opentelemetry-proto==1.27.0 (from opentelemetry-exporter-otlp-proto-grpc>=1.2.0->chromadb)\n",
            "  Downloading opentelemetry_proto-1.27.0-py3-none-any.whl.metadata (2.3 kB)\n",
            "Collecting opentelemetry-sdk>=1.2.0 (from chromadb)\n",
            "  Downloading opentelemetry_sdk-1.27.0-py3-none-any.whl.metadata (1.5 kB)\n",
            "Collecting opentelemetry-instrumentation-asgi==0.48b0 (from opentelemetry-instrumentation-fastapi>=0.41b0->chromadb)\n",
            "  Downloading opentelemetry_instrumentation_asgi-0.48b0-py3-none-any.whl.metadata (2.0 kB)\n",
            "Collecting opentelemetry-instrumentation==0.48b0 (from opentelemetry-instrumentation-fastapi>=0.41b0->chromadb)\n",
            "  Downloading opentelemetry_instrumentation-0.48b0-py3-none-any.whl.metadata (6.1 kB)\n",
            "Collecting opentelemetry-semantic-conventions==0.48b0 (from opentelemetry-instrumentation-fastapi>=0.41b0->chromadb)\n",
            "  Downloading opentelemetry_semantic_conventions-0.48b0-py3-none-any.whl.metadata (2.4 kB)\n",
            "Collecting opentelemetry-util-http==0.48b0 (from opentelemetry-instrumentation-fastapi>=0.41b0->chromadb)\n",
            "  Downloading opentelemetry_util_http-0.48b0-py3-none-any.whl.metadata (2.5 kB)\n",
            "Requirement already satisfied: wrapt<2.0.0,>=1.0.0 in /usr/local/lib/python3.10/dist-packages (from opentelemetry-instrumentation==0.48b0->opentelemetry-instrumentation-fastapi>=0.41b0->chromadb) (1.16.0)\n",
            "Collecting asgiref~=3.0 (from opentelemetry-instrumentation-asgi==0.48b0->opentelemetry-instrumentation-fastapi>=0.41b0->chromadb)\n",
            "  Downloading asgiref-3.8.1-py3-none-any.whl.metadata (9.3 kB)\n",
            "Collecting opentelemetry-api>=1.2.0 (from chromadb)\n",
            "  Downloading opentelemetry_api-1.27.0-py3-none-any.whl.metadata (1.4 kB)\n",
            "Collecting importlib-metadata<=8.4.0,>=6.0 (from opentelemetry-api>=1.2.0->chromadb)\n",
            "  Downloading importlib_metadata-8.4.0-py3-none-any.whl.metadata (4.7 kB)\n",
            "Collecting monotonic>=1.5 (from posthog>=2.4.0->chromadb)\n",
            "  Downloading monotonic-1.6-py2.py3-none-any.whl.metadata (1.5 kB)\n",
            "Collecting backoff>=1.10.0 (from posthog>=2.4.0->chromadb)\n",
            "  Downloading backoff-2.2.1-py3-none-any.whl.metadata (14 kB)\n",
            "Requirement already satisfied: annotated-types>=0.6.0 in /usr/local/lib/python3.10/dist-packages (from pydantic<3.0.0,>=2.7.4->langchain) (0.7.0)\n",
            "Requirement already satisfied: pydantic-core==2.23.4 in /usr/local/lib/python3.10/dist-packages (from pydantic<3.0.0,>=2.7.4->langchain) (2.23.4)\n",
            "Collecting python-dotenv>=0.21.0 (from pydantic-settings<3.0.0,>=2.4.0->langchain-community)\n",
            "  Downloading python_dotenv-1.0.1-py3-none-any.whl.metadata (23 kB)\n",
            "Requirement already satisfied: charset-normalizer<4,>=2 in /usr/local/lib/python3.10/dist-packages (from requests<3,>=2->langchain) (3.4.0)\n",
            "Requirement already satisfied: markdown-it-py>=2.2.0 in /usr/local/lib/python3.10/dist-packages (from rich>=10.11.0->chromadb) (3.0.0)\n",
            "Requirement already satisfied: pygments<3.0.0,>=2.13.0 in /usr/local/lib/python3.10/dist-packages (from rich>=10.11.0->chromadb) (2.18.0)\n",
            "Requirement already satisfied: greenlet!=0.4.17 in /usr/local/lib/python3.10/dist-packages (from SQLAlchemy<3,>=1.4->langchain) (3.1.1)\n",
            "Requirement already satisfied: huggingface-hub<1.0,>=0.16.4 in /usr/local/lib/python3.10/dist-packages (from tokenizers>=0.13.2->chromadb) (0.24.7)\n",
            "Requirement already satisfied: click>=8.0.0 in /usr/local/lib/python3.10/dist-packages (from typer>=0.9.0->chromadb) (8.1.7)\n",
            "Requirement already satisfied: shellingham>=1.3.0 in /usr/local/lib/python3.10/dist-packages (from typer>=0.9.0->chromadb) (1.5.4)\n",
            "Collecting httptools>=0.5.0 (from uvicorn[standard]>=0.18.3->chromadb)\n",
            "  Downloading httptools-0.6.2-cp310-cp310-manylinux_2_5_x86_64.manylinux1_x86_64.manylinux_2_17_x86_64.manylinux2014_x86_64.whl.metadata (3.6 kB)\n",
            "Collecting uvloop!=0.15.0,!=0.15.1,>=0.14.0 (from uvicorn[standard]>=0.18.3->chromadb)\n",
            "  Downloading uvloop-0.21.0-cp310-cp310-manylinux_2_17_x86_64.manylinux2014_x86_64.whl.metadata (4.9 kB)\n",
            "Collecting watchfiles>=0.13 (from uvicorn[standard]>=0.18.3->chromadb)\n",
            "  Downloading watchfiles-0.24.0-cp310-cp310-manylinux_2_17_x86_64.manylinux2014_x86_64.whl.metadata (4.9 kB)\n",
            "Collecting websockets>=10.4 (from uvicorn[standard]>=0.18.3->chromadb)\n",
            "  Downloading websockets-13.1-cp310-cp310-manylinux_2_5_x86_64.manylinux1_x86_64.manylinux_2_17_x86_64.manylinux2014_x86_64.whl.metadata (6.8 kB)\n",
            "Requirement already satisfied: cachetools<6.0,>=2.0.0 in /usr/local/lib/python3.10/dist-packages (from google-auth>=1.0.1->kubernetes>=28.1.0->chromadb) (5.5.0)\n",
            "Requirement already satisfied: pyasn1-modules>=0.2.1 in /usr/local/lib/python3.10/dist-packages (from google-auth>=1.0.1->kubernetes>=28.1.0->chromadb) (0.4.1)\n",
            "Requirement already satisfied: rsa<5,>=3.1.4 in /usr/local/lib/python3.10/dist-packages (from google-auth>=1.0.1->kubernetes>=28.1.0->chromadb) (4.9)\n",
            "Requirement already satisfied: filelock in /usr/local/lib/python3.10/dist-packages (from huggingface-hub<1.0,>=0.16.4->tokenizers>=0.13.2->chromadb) (3.16.1)\n",
            "Requirement already satisfied: fsspec>=2023.5.0 in /usr/local/lib/python3.10/dist-packages (from huggingface-hub<1.0,>=0.16.4->tokenizers>=0.13.2->chromadb) (2024.6.1)\n",
            "Requirement already satisfied: zipp>=0.5 in /usr/local/lib/python3.10/dist-packages (from importlib-metadata<=8.4.0,>=6.0->opentelemetry-api>=1.2.0->chromadb) (3.20.2)\n",
            "Collecting jsonpointer>=1.9 (from jsonpatch<2.0,>=1.33->langchain-core<0.4.0,>=0.3.10->langchain)\n",
            "  Downloading jsonpointer-3.0.0-py2.py3-none-any.whl.metadata (2.3 kB)\n",
            "Requirement already satisfied: mdurl~=0.1 in /usr/local/lib/python3.10/dist-packages (from markdown-it-py>=2.2.0->rich>=10.11.0->chromadb) (0.1.2)\n",
            "Collecting mypy-extensions>=0.3.0 (from typing-inspect<1,>=0.4.0->dataclasses-json<0.7,>=0.5.7->langchain-community)\n",
            "  Downloading mypy_extensions-1.0.0-py3-none-any.whl.metadata (1.1 kB)\n",
            "Requirement already satisfied: propcache>=0.2.0 in /usr/local/lib/python3.10/dist-packages (from yarl<2.0,>=1.12.0->aiohttp<4.0.0,>=3.8.3->langchain) (0.2.0)\n",
            "Collecting humanfriendly>=9.1 (from coloredlogs->onnxruntime>=1.14.1->chromadb)\n",
            "  Downloading humanfriendly-10.0-py2.py3-none-any.whl.metadata (9.2 kB)\n",
            "Requirement already satisfied: mpmath<1.4,>=1.1.0 in /usr/local/lib/python3.10/dist-packages (from sympy->onnxruntime>=1.14.1->chromadb) (1.3.0)\n",
            "Requirement already satisfied: pyasn1<0.7.0,>=0.4.6 in /usr/local/lib/python3.10/dist-packages (from pyasn1-modules>=0.2.1->google-auth>=1.0.1->kubernetes>=28.1.0->chromadb) (0.6.1)\n",
            "Downloading langchain-0.3.3-py3-none-any.whl (1.0 MB)\n",
            "\u001b[2K   \u001b[90m━━━━━━━━━━━━━━━━━━━━━━━━━━━━━━━━━━━━━━━━\u001b[0m \u001b[32m1.0/1.0 MB\u001b[0m \u001b[31m17.3 MB/s\u001b[0m eta \u001b[36m0:00:00\u001b[0m\n",
            "\u001b[?25hDownloading openai-1.51.2-py3-none-any.whl (383 kB)\n",
            "\u001b[2K   \u001b[90m━━━━━━━━━━━━━━━━━━━━━━━━━━━━━━━━━━━━━━━━\u001b[0m \u001b[32m383.7/383.7 kB\u001b[0m \u001b[31m20.1 MB/s\u001b[0m eta \u001b[36m0:00:00\u001b[0m\n",
            "\u001b[?25hDownloading chromadb-0.5.13-py3-none-any.whl (602 kB)\n",
            "\u001b[2K   \u001b[90m━━━━━━━━━━━━━━━━━━━━━━━━━━━━━━━━━━━━━━━━\u001b[0m \u001b[32m603.0/603.0 kB\u001b[0m \u001b[31m29.9 MB/s\u001b[0m eta \u001b[36m0:00:00\u001b[0m\n",
            "\u001b[?25hDownloading chroma_hnswlib-0.7.6-cp310-cp310-manylinux_2_17_x86_64.manylinux2014_x86_64.whl (2.4 MB)\n",
            "\u001b[2K   \u001b[90m━━━━━━━━━━━━━━━━━━━━━━━━━━━━━━━━━━━━━━━━\u001b[0m \u001b[32m2.4/2.4 MB\u001b[0m \u001b[31m58.8 MB/s\u001b[0m eta \u001b[36m0:00:00\u001b[0m\n",
            "\u001b[?25hDownloading tiktoken-0.8.0-cp310-cp310-manylinux_2_17_x86_64.manylinux2014_x86_64.whl (1.2 MB)\n",
            "\u001b[2K   \u001b[90m━━━━━━━━━━━━━━━━━━━━━━━━━━━━━━━━━━━━━━━━\u001b[0m \u001b[32m1.2/1.2 MB\u001b[0m \u001b[31m45.0 MB/s\u001b[0m eta \u001b[36m0:00:00\u001b[0m\n",
            "\u001b[?25hDownloading langchain_community-0.3.2-py3-none-any.whl (2.4 MB)\n",
            "\u001b[2K   \u001b[90m━━━━━━━━━━━━━━━━━━━━━━━━━━━━━━━━━━━━━━━━\u001b[0m \u001b[32m2.4/2.4 MB\u001b[0m \u001b[31m61.9 MB/s\u001b[0m eta \u001b[36m0:00:00\u001b[0m\n",
            "\u001b[?25hDownloading langchain_openai-0.2.2-py3-none-any.whl (49 kB)\n",
            "\u001b[2K   \u001b[90m━━━━━━━━━━━━━━━━━━━━━━━━━━━━━━━━━━━━━━━━\u001b[0m \u001b[32m49.7/49.7 kB\u001b[0m \u001b[31m3.3 MB/s\u001b[0m eta \u001b[36m0:00:00\u001b[0m\n",
            "\u001b[?25hDownloading pypdf-5.0.1-py3-none-any.whl (294 kB)\n",
            "\u001b[2K   \u001b[90m━━━━━━━━━━━━━━━━━━━━━━━━━━━━━━━━━━━━━━━━\u001b[0m \u001b[32m294.5/294.5 kB\u001b[0m \u001b[31m20.7 MB/s\u001b[0m eta \u001b[36m0:00:00\u001b[0m\n",
            "\u001b[?25hDownloading bcrypt-4.2.0-cp39-abi3-manylinux_2_28_x86_64.whl (273 kB)\n",
            "\u001b[2K   \u001b[90m━━━━━━━━━━━━━━━━━━━━━━━━━━━━━━━━━━━━━━━━\u001b[0m \u001b[32m273.8/273.8 kB\u001b[0m \u001b[31m13.8 MB/s\u001b[0m eta \u001b[36m0:00:00\u001b[0m\n",
            "\u001b[?25hDownloading dataclasses_json-0.6.7-py3-none-any.whl (28 kB)\n",
            "Downloading fastapi-0.115.2-py3-none-any.whl (94 kB)\n",
            "\u001b[2K   \u001b[90m━━━━━━━━━━━━━━━━━━━━━━━━━━━━━━━━━━━━━━━━\u001b[0m \u001b[32m94.7/94.7 kB\u001b[0m \u001b[31m2.8 MB/s\u001b[0m eta \u001b[36m0:00:00\u001b[0m\n",
            "\u001b[?25hDownloading httpx-0.27.2-py3-none-any.whl (76 kB)\n",
            "\u001b[2K   \u001b[90m━━━━━━━━━━━━━━━━━━━━━━━━━━━━━━━━━━━━━━━━\u001b[0m \u001b[32m76.4/76.4 kB\u001b[0m \u001b[31m2.4 MB/s\u001b[0m eta \u001b[36m0:00:00\u001b[0m\n",
            "\u001b[?25hDownloading httpcore-1.0.6-py3-none-any.whl (78 kB)\n",
            "\u001b[2K   \u001b[90m━━━━━━━━━━━━━━━━━━━━━━━━━━━━━━━━━━━━━━━━\u001b[0m \u001b[32m78.0/78.0 kB\u001b[0m \u001b[31m3.1 MB/s\u001b[0m eta \u001b[36m0:00:00\u001b[0m\n",
            "\u001b[?25hDownloading jiter-0.6.1-cp310-cp310-manylinux_2_17_x86_64.manylinux2014_x86_64.whl (325 kB)\n",
            "\u001b[2K   \u001b[90m━━━━━━━━━━━━━━━━━━━━━━━━━━━━━━━━━━━━━━━━\u001b[0m \u001b[32m325.2/325.2 kB\u001b[0m \u001b[31m18.7 MB/s\u001b[0m eta \u001b[36m0:00:00\u001b[0m\n",
            "\u001b[?25hDownloading kubernetes-31.0.0-py2.py3-none-any.whl (1.9 MB)\n",
            "\u001b[2K   \u001b[90m━━━━━━━━━━━━━━━━━━━━━━━━━━━━━━━━━━━━━━━━\u001b[0m \u001b[32m1.9/1.9 MB\u001b[0m \u001b[31m48.8 MB/s\u001b[0m eta \u001b[36m0:00:00\u001b[0m\n",
            "\u001b[?25hDownloading langchain_core-0.3.10-py3-none-any.whl (404 kB)\n",
            "\u001b[2K   \u001b[90m━━━━━━━━━━━━━━━━━━━━━━━━━━━━━━━━━━━━━━━━\u001b[0m \u001b[32m404.4/404.4 kB\u001b[0m \u001b[31m20.0 MB/s\u001b[0m eta \u001b[36m0:00:00\u001b[0m\n",
            "\u001b[?25hDownloading langchain_text_splitters-0.3.0-py3-none-any.whl (25 kB)\n",
            "Downloading langsmith-0.1.135-py3-none-any.whl (295 kB)\n",
            "\u001b[2K   \u001b[90m━━━━━━━━━━━━━━━━━━━━━━━━━━━━━━━━━━━━━━━━\u001b[0m \u001b[32m295.8/295.8 kB\u001b[0m \u001b[31m15.6 MB/s\u001b[0m eta \u001b[36m0:00:00\u001b[0m\n",
            "\u001b[?25hDownloading mmh3-5.0.1-cp310-cp310-manylinux_2_5_x86_64.manylinux1_x86_64.manylinux_2_17_x86_64.manylinux2014_x86_64.whl (93 kB)\n",
            "\u001b[2K   \u001b[90m━━━━━━━━━━━━━━━━━━━━━━━━━━━━━━━━━━━━━━━━\u001b[0m \u001b[32m93.2/93.2 kB\u001b[0m \u001b[31m5.5 MB/s\u001b[0m eta \u001b[36m0:00:00\u001b[0m\n",
            "\u001b[?25hDownloading onnxruntime-1.19.2-cp310-cp310-manylinux_2_27_x86_64.manylinux_2_28_x86_64.whl (13.2 MB)\n",
            "\u001b[2K   \u001b[90m━━━━━━━━━━━━━━━━━━━━━━━━━━━━━━━━━━━━━━━━\u001b[0m \u001b[32m13.2/13.2 MB\u001b[0m \u001b[31m65.2 MB/s\u001b[0m eta \u001b[36m0:00:00\u001b[0m\n",
            "\u001b[?25hDownloading opentelemetry_exporter_otlp_proto_grpc-1.27.0-py3-none-any.whl (18 kB)\n",
            "Downloading opentelemetry_exporter_otlp_proto_common-1.27.0-py3-none-any.whl (17 kB)\n",
            "Downloading opentelemetry_proto-1.27.0-py3-none-any.whl (52 kB)\n",
            "\u001b[2K   \u001b[90m━━━━━━━━━━━━━━━━━━━━━━━━━━━━━━━━━━━━━━━━\u001b[0m \u001b[32m52.5/52.5 kB\u001b[0m \u001b[31m4.2 MB/s\u001b[0m eta \u001b[36m0:00:00\u001b[0m\n",
            "\u001b[?25hDownloading opentelemetry_instrumentation_fastapi-0.48b0-py3-none-any.whl (11 kB)\n",
            "Downloading opentelemetry_instrumentation-0.48b0-py3-none-any.whl (29 kB)\n",
            "Downloading opentelemetry_instrumentation_asgi-0.48b0-py3-none-any.whl (15 kB)\n",
            "Downloading opentelemetry_semantic_conventions-0.48b0-py3-none-any.whl (149 kB)\n",
            "\u001b[2K   \u001b[90m━━━━━━━━━━━━━━━━━━━━━━━━━━━━━━━━━━━━━━━━\u001b[0m \u001b[32m149.7/149.7 kB\u001b[0m \u001b[31m9.6 MB/s\u001b[0m eta \u001b[36m0:00:00\u001b[0m\n",
            "\u001b[?25hDownloading opentelemetry_api-1.27.0-py3-none-any.whl (63 kB)\n",
            "\u001b[2K   \u001b[90m━━━━━━━━━━━━━━━━━━━━━━━━━━━━━━━━━━━━━━━━\u001b[0m \u001b[32m64.0/64.0 kB\u001b[0m \u001b[31m4.4 MB/s\u001b[0m eta \u001b[36m0:00:00\u001b[0m\n",
            "\u001b[?25hDownloading opentelemetry_util_http-0.48b0-py3-none-any.whl (6.9 kB)\n",
            "Downloading opentelemetry_sdk-1.27.0-py3-none-any.whl (110 kB)\n",
            "\u001b[2K   \u001b[90m━━━━━━━━━━━━━━━━━━━━━━━━━━━━━━━━━━━━━━━━\u001b[0m \u001b[32m110.5/110.5 kB\u001b[0m \u001b[31m7.8 MB/s\u001b[0m eta \u001b[36m0:00:00\u001b[0m\n",
            "\u001b[?25hDownloading orjson-3.10.7-cp310-cp310-manylinux_2_17_x86_64.manylinux2014_x86_64.whl (141 kB)\n",
            "\u001b[2K   \u001b[90m━━━━━━━━━━━━━━━━━━━━━━━━━━━━━━━━━━━━━━━━\u001b[0m \u001b[32m141.9/141.9 kB\u001b[0m \u001b[31m9.7 MB/s\u001b[0m eta \u001b[36m0:00:00\u001b[0m\n",
            "\u001b[?25hDownloading overrides-7.7.0-py3-none-any.whl (17 kB)\n",
            "Downloading posthog-3.7.0-py2.py3-none-any.whl (54 kB)\n",
            "\u001b[2K   \u001b[90m━━━━━━━━━━━━━━━━━━━━━━━━━━━━━━━━━━━━━━━━\u001b[0m \u001b[32m54.4/54.4 kB\u001b[0m \u001b[31m3.3 MB/s\u001b[0m eta \u001b[36m0:00:00\u001b[0m\n",
            "\u001b[?25hDownloading pydantic_settings-2.5.2-py3-none-any.whl (26 kB)\n",
            "Downloading tenacity-8.5.0-py3-none-any.whl (28 kB)\n",
            "Downloading uvicorn-0.32.0-py3-none-any.whl (63 kB)\n",
            "\u001b[2K   \u001b[90m━━━━━━━━━━━━━━━━━━━━━━━━━━━━━━━━━━━━━━━━\u001b[0m \u001b[32m63.7/63.7 kB\u001b[0m \u001b[31m4.2 MB/s\u001b[0m eta \u001b[36m0:00:00\u001b[0m\n",
            "\u001b[?25hDownloading backoff-2.2.1-py3-none-any.whl (15 kB)\n",
            "Downloading durationpy-0.9-py3-none-any.whl (3.5 kB)\n",
            "Downloading h11-0.14.0-py3-none-any.whl (58 kB)\n",
            "\u001b[2K   \u001b[90m━━━━━━━━━━━━━━━━━━━━━━━━━━━━━━━━━━━━━━━━\u001b[0m \u001b[32m58.3/58.3 kB\u001b[0m \u001b[31m3.8 MB/s\u001b[0m eta \u001b[36m0:00:00\u001b[0m\n",
            "\u001b[?25hDownloading httptools-0.6.2-cp310-cp310-manylinux_2_5_x86_64.manylinux1_x86_64.manylinux_2_17_x86_64.manylinux2014_x86_64.whl (420 kB)\n",
            "\u001b[2K   \u001b[90m━━━━━━━━━━━━━━━━━━━━━━━━━━━━━━━━━━━━━━━━\u001b[0m \u001b[32m420.0/420.0 kB\u001b[0m \u001b[31m26.3 MB/s\u001b[0m eta \u001b[36m0:00:00\u001b[0m\n",
            "\u001b[?25hDownloading importlib_metadata-8.4.0-py3-none-any.whl (26 kB)\n",
            "Downloading jsonpatch-1.33-py2.py3-none-any.whl (12 kB)\n",
            "Downloading marshmallow-3.22.0-py3-none-any.whl (49 kB)\n",
            "\u001b[2K   \u001b[90m━━━━━━━━━━━━━━━━━━━━━━━━━━━━━━━━━━━━━━━━\u001b[0m \u001b[32m49.3/49.3 kB\u001b[0m \u001b[31m2.4 MB/s\u001b[0m eta \u001b[36m0:00:00\u001b[0m\n",
            "\u001b[?25hDownloading monotonic-1.6-py2.py3-none-any.whl (8.2 kB)\n",
            "Downloading python_dotenv-1.0.1-py3-none-any.whl (19 kB)\n",
            "Downloading requests_toolbelt-1.0.0-py2.py3-none-any.whl (54 kB)\n",
            "\u001b[2K   \u001b[90m━━━━━━━━━━━━━━━━━━━━━━━━━━━━━━━━━━━━━━━━\u001b[0m \u001b[32m54.5/54.5 kB\u001b[0m \u001b[31m2.6 MB/s\u001b[0m eta \u001b[36m0:00:00\u001b[0m\n",
            "\u001b[?25hDownloading starlette-0.40.0-py3-none-any.whl (73 kB)\n",
            "\u001b[2K   \u001b[90m━━━━━━━━━━━━━━━━━━━━━━━━━━━━━━━━━━━━━━━━\u001b[0m \u001b[32m73.3/73.3 kB\u001b[0m \u001b[31m4.2 MB/s\u001b[0m eta \u001b[36m0:00:00\u001b[0m\n",
            "\u001b[?25hDownloading typing_inspect-0.9.0-py3-none-any.whl (8.8 kB)\n",
            "Downloading uvloop-0.21.0-cp310-cp310-manylinux_2_17_x86_64.manylinux2014_x86_64.whl (3.8 MB)\n",
            "\u001b[2K   \u001b[90m━━━━━━━━━━━━━━━━━━━━━━━━━━━━━━━━━━━━━━━━\u001b[0m \u001b[32m3.8/3.8 MB\u001b[0m \u001b[31m52.6 MB/s\u001b[0m eta \u001b[36m0:00:00\u001b[0m\n",
            "\u001b[?25hDownloading watchfiles-0.24.0-cp310-cp310-manylinux_2_17_x86_64.manylinux2014_x86_64.whl (425 kB)\n",
            "\u001b[2K   \u001b[90m━━━━━━━━━━━━━━━━━━━━━━━━━━━━━━━━━━━━━━━━\u001b[0m \u001b[32m425.7/425.7 kB\u001b[0m \u001b[31m22.5 MB/s\u001b[0m eta \u001b[36m0:00:00\u001b[0m\n",
            "\u001b[?25hDownloading websockets-13.1-cp310-cp310-manylinux_2_5_x86_64.manylinux1_x86_64.manylinux_2_17_x86_64.manylinux2014_x86_64.whl (164 kB)\n",
            "\u001b[2K   \u001b[90m━━━━━━━━━━━━━━━━━━━━━━━━━━━━━━━━━━━━━━━━\u001b[0m \u001b[32m164.1/164.1 kB\u001b[0m \u001b[31m8.0 MB/s\u001b[0m eta \u001b[36m0:00:00\u001b[0m\n",
            "\u001b[?25hDownloading coloredlogs-15.0.1-py2.py3-none-any.whl (46 kB)\n",
            "\u001b[2K   \u001b[90m━━━━━━━━━━━━━━━━━━━━━━━━━━━━━━━━━━━━━━━━\u001b[0m \u001b[32m46.0/46.0 kB\u001b[0m \u001b[31m2.7 MB/s\u001b[0m eta \u001b[36m0:00:00\u001b[0m\n",
            "\u001b[?25hDownloading asgiref-3.8.1-py3-none-any.whl (23 kB)\n",
            "Downloading humanfriendly-10.0-py2.py3-none-any.whl (86 kB)\n",
            "\u001b[2K   \u001b[90m━━━━━━━━━━━━━━━━━━━━━━━━━━━━━━━━━━━━━━━━\u001b[0m \u001b[32m86.8/86.8 kB\u001b[0m \u001b[31m5.3 MB/s\u001b[0m eta \u001b[36m0:00:00\u001b[0m\n",
            "\u001b[?25hDownloading jsonpointer-3.0.0-py2.py3-none-any.whl (7.6 kB)\n",
            "Downloading mypy_extensions-1.0.0-py3-none-any.whl (4.7 kB)\n",
            "Building wheels for collected packages: pypika\n",
            "  Building wheel for pypika (pyproject.toml) ... \u001b[?25l\u001b[?25hdone\n",
            "  Created wheel for pypika: filename=PyPika-0.48.9-py2.py3-none-any.whl size=53723 sha256=f35fd5efa3b15a6b6377dc9bdbd44fd231d781951fff6cff009ce3d708dbe36d\n",
            "  Stored in directory: /root/.cache/pip/wheels/e1/26/51/d0bffb3d2fd82256676d7ad3003faea3bd6dddc9577af665f4\n",
            "Successfully built pypika\n",
            "Installing collected packages: pypika, monotonic, durationpy, websockets, uvloop, tenacity, python-dotenv, pypdf, overrides, orjson, opentelemetry-util-http, opentelemetry-proto, mypy-extensions, mmh3, marshmallow, jsonpointer, jiter, importlib-metadata, humanfriendly, httptools, h11, chroma-hnswlib, bcrypt, backoff, asgiref, watchfiles, uvicorn, typing-inspect, tiktoken, starlette, requests-toolbelt, posthog, opentelemetry-exporter-otlp-proto-common, opentelemetry-api, jsonpatch, httpcore, coloredlogs, pydantic-settings, opentelemetry-semantic-conventions, opentelemetry-instrumentation, onnxruntime, kubernetes, httpx, fastapi, dataclasses-json, opentelemetry-sdk, opentelemetry-instrumentation-asgi, openai, langsmith, opentelemetry-instrumentation-fastapi, opentelemetry-exporter-otlp-proto-grpc, langchain-core, langchain-text-splitters, langchain-openai, chromadb, langchain, langchain-community\n",
            "  Attempting uninstall: tenacity\n",
            "    Found existing installation: tenacity 9.0.0\n",
            "    Uninstalling tenacity-9.0.0:\n",
            "      Successfully uninstalled tenacity-9.0.0\n",
            "  Attempting uninstall: importlib-metadata\n",
            "    Found existing installation: importlib_metadata 8.5.0\n",
            "    Uninstalling importlib_metadata-8.5.0:\n",
            "      Successfully uninstalled importlib_metadata-8.5.0\n",
            "  Attempting uninstall: opentelemetry-api\n",
            "    Found existing installation: opentelemetry-api 1.16.0\n",
            "    Uninstalling opentelemetry-api-1.16.0:\n",
            "      Successfully uninstalled opentelemetry-api-1.16.0\n",
            "  Attempting uninstall: opentelemetry-semantic-conventions\n",
            "    Found existing installation: opentelemetry-semantic-conventions 0.37b0\n",
            "    Uninstalling opentelemetry-semantic-conventions-0.37b0:\n",
            "      Successfully uninstalled opentelemetry-semantic-conventions-0.37b0\n",
            "  Attempting uninstall: opentelemetry-sdk\n",
            "    Found existing installation: opentelemetry-sdk 1.16.0\n",
            "    Uninstalling opentelemetry-sdk-1.16.0:\n",
            "      Successfully uninstalled opentelemetry-sdk-1.16.0\n",
            "Successfully installed asgiref-3.8.1 backoff-2.2.1 bcrypt-4.2.0 chroma-hnswlib-0.7.6 chromadb-0.5.13 coloredlogs-15.0.1 dataclasses-json-0.6.7 durationpy-0.9 fastapi-0.115.2 h11-0.14.0 httpcore-1.0.6 httptools-0.6.2 httpx-0.27.2 humanfriendly-10.0 importlib-metadata-8.4.0 jiter-0.6.1 jsonpatch-1.33 jsonpointer-3.0.0 kubernetes-31.0.0 langchain-0.3.3 langchain-community-0.3.2 langchain-core-0.3.10 langchain-openai-0.2.2 langchain-text-splitters-0.3.0 langsmith-0.1.135 marshmallow-3.22.0 mmh3-5.0.1 monotonic-1.6 mypy-extensions-1.0.0 onnxruntime-1.19.2 openai-1.51.2 opentelemetry-api-1.27.0 opentelemetry-exporter-otlp-proto-common-1.27.0 opentelemetry-exporter-otlp-proto-grpc-1.27.0 opentelemetry-instrumentation-0.48b0 opentelemetry-instrumentation-asgi-0.48b0 opentelemetry-instrumentation-fastapi-0.48b0 opentelemetry-proto-1.27.0 opentelemetry-sdk-1.27.0 opentelemetry-semantic-conventions-0.48b0 opentelemetry-util-http-0.48b0 orjson-3.10.7 overrides-7.7.0 posthog-3.7.0 pydantic-settings-2.5.2 pypdf-5.0.1 pypika-0.48.9 python-dotenv-1.0.1 requests-toolbelt-1.0.0 starlette-0.40.0 tenacity-8.5.0 tiktoken-0.8.0 typing-inspect-0.9.0 uvicorn-0.32.0 uvloop-0.21.0 watchfiles-0.24.0 websockets-13.1\n"
          ]
        }
      ],
      "source": [
        "!pip install langchain openai chromadb tiktoken langchain-community langchain-openai pypdf"
      ]
    },
    {
      "cell_type": "code",
      "source": [
        "import os\n",
        "from langchain.chat_models import ChatOpenAI  # Updated import for ChatOpenAI"
      ],
      "metadata": {
        "id": "mB7alBc5jaTK"
      },
      "execution_count": 2,
      "outputs": []
    },
    {
      "cell_type": "markdown",
      "metadata": {
        "id": "eG3pc5cgbc72"
      },
      "source": [
        "### Building a Chatbot (no RAG)"
      ]
    },
    {
      "cell_type": "markdown",
      "metadata": {
        "id": "eecLKK98bc72"
      },
      "source": [
        "We'll leverage the LangChain library to seamlessly integrate the various components required for our chatbot. To start, we’ll build a basic chatbot without RAG by initializing a ChatOpenAI object. This sets the foundation before we enhance it with more advanced retrieval mechanisms. You can obtain a key from [OpenAI API key](https://platform.openai.com/account/api-keys). For workshops, you can use the Key shared by us."
      ]
    },
    {
      "cell_type": "code",
      "execution_count": 3,
      "metadata": {
        "id": "4IBbdGIgbc72",
        "colab": {
          "base_uri": "https://localhost:8080/"
        },
        "outputId": "002cd4d4-a0a6-4dc3-beef-941cb79c4f10"
      },
      "outputs": [
        {
          "output_type": "stream",
          "name": "stderr",
          "text": [
            "<ipython-input-3-8c6b69692d1a>:3: LangChainDeprecationWarning: The class `ChatOpenAI` was deprecated in LangChain 0.0.10 and will be removed in 1.0. An updated version of the class exists in the :class:`~langchain-openai package and should be used instead. To use it run `pip install -U :class:`~langchain-openai` and import as `from :class:`~langchain_openai import ChatOpenAI``.\n",
            "  chat = ChatOpenAI(\n"
          ]
        }
      ],
      "source": [
        "os.environ[\"OPENAI_API_KEY\"] = \"\"\n",
        "\n",
        "chat = ChatOpenAI(\n",
        "    openai_api_key=os.environ[\"OPENAI_API_KEY\"],\n",
        "    model='gpt-3.5-turbo',\n",
        "    temperature=0,\n",
        "    max_tokens=None,\n",
        "    timeout=None,\n",
        "    #max_retries=2,\n",
        ")"
      ]
    },
    {
      "cell_type": "markdown",
      "metadata": {
        "id": "ld37yT6abc72"
      },
      "source": [
        "Recalling our last tutorial, Chats with OpenAI's `gpt-3.5-turbo` and `gpt-4` chat models are typically structured (in plain text) like this:\n",
        "\n",
        "```\n",
        "System: You are a helpful tutor.\n",
        "\n",
        "User: Hi AI, how are you today?\n",
        "\n",
        "Assistant: I'm great thank you. How can I help you?\n",
        "\n",
        "User: I'd like to understand predictive analytics.\n",
        "\n",
        "Assistant:\n",
        "```\n",
        "\n",
        "The final `\"Assistant:\"` without a response is what would prompt the model to continue the conversation. In the official OpenAI `ChatCompletion` endpoint these would be passed to the model in a format like:\n",
        "\n",
        "```python\n",
        "[\n",
        "    {\"role\": \"system\", \"content\": \"You are a helpful tutor\"},\n",
        "    {\"role\": \"user\", \"content\": \"Hi AI, how are you today?\"},\n",
        "    {\"role\": \"assistant\", \"content\": \"I'm great thank you. How can I help you?\"}\n",
        "    {\"role\": \"user\", \"content\": \"I'd like to understand predictive analytics.\"}\n",
        "]\n",
        "```\n",
        "\n",
        "In LangChain there is a slightly different format. We use three _message_ objects like so:"
      ]
    },
    {
      "cell_type": "code",
      "execution_count": 4,
      "metadata": {
        "id": "ABla5nkLbc73"
      },
      "outputs": [],
      "source": [
        "from langchain.schema import (\n",
        "    SystemMessage,\n",
        "    HumanMessage,\n",
        "    AIMessage\n",
        ")\n",
        "\n",
        "messages = [\n",
        "    SystemMessage(content=\"You are a helpful tutor.\"),\n",
        "    HumanMessage(content=\"Hi AI, how are you today?\"),\n",
        "    AIMessage(content=\"I'm great thank you. How can I help you?\"),\n",
        "    HumanMessage(content=\"I'd like to understand predictive analytics.\")\n",
        "]"
      ]
    },
    {
      "cell_type": "markdown",
      "metadata": {
        "id": "4waT_ixJbc73"
      },
      "source": [
        "The format is very similar, we're just swapped the role of `\"user\"` for `HumanMessage`, and the role of `\"assistant\"` for `AIMessage`.\n",
        "\n",
        "We generate the next response from the AI by passing these messages to the `ChatOpenAI` object."
      ]
    },
    {
      "cell_type": "code",
      "execution_count": 5,
      "metadata": {
        "id": "vjOcDni8bc73",
        "outputId": "9374be39-d940-4a7a-b192-b3027affadad",
        "colab": {
          "base_uri": "https://localhost:8080/",
          "height": 88
        }
      },
      "outputs": [
        {
          "output_type": "execute_result",
          "data": {
            "text/plain": [
              "'Predictive analytics is a branch of advanced analytics that uses data, statistical algorithms, and machine learning techniques to identify the likelihood of future outcomes based on historical data. It involves analyzing current and historical data to make predictions about future events or trends.\\n\\nPredictive analytics can be used in various industries and applications, such as forecasting sales, predicting customer behavior, optimizing marketing campaigns, detecting fraud, and improving operational efficiency. By leveraging predictive analytics, organizations can make more informed decisions, anticipate future trends, and gain a competitive advantage.\\n\\nThe process of predictive analytics typically involves the following steps:\\n\\n1. Define the problem: Clearly define the business problem or question that you want to address with predictive analytics.\\n\\n2. Data collection: Gather relevant data from various sources, such as databases, spreadsheets, and external sources.\\n\\n3. Data preprocessing: Clean and prepare the data for analysis by handling missing values, outliers, and formatting issues.\\n\\n4. Feature selection and engineering: Identify the most relevant variables (features) that will be used to build the predictive model. You may also create new features based on existing data.\\n\\n5. Model selection: Choose an appropriate predictive modeling technique, such as regression, classification, or clustering, based on the nature of the problem and the type of data.\\n\\n6. Model training: Train the predictive model using historical data to learn the patterns and relationships in the data.\\n\\n7. Model evaluation: Evaluate the performance of the predictive model using metrics such as accuracy, precision, recall, and F1 score.\\n\\n8. Model deployment: Deploy the predictive model to make predictions on new data and integrate it into business processes or applications.\\n\\nOverall, predictive analytics can help organizations make data-driven decisions, optimize processes, and improve outcomes by leveraging the power of data and analytics.'"
            ],
            "application/vnd.google.colaboratory.intrinsic+json": {
              "type": "string"
            }
          },
          "metadata": {},
          "execution_count": 5
        }
      ],
      "source": [
        "res = chat.invoke(messages)\n",
        "res.content"
      ]
    },
    {
      "cell_type": "markdown",
      "metadata": {
        "id": "DaXapaqXbc73"
      },
      "source": [
        "In response we get another AI message object. We can print it more clearly like so:"
      ]
    },
    {
      "cell_type": "markdown",
      "metadata": {
        "id": "isAx9GDzbc73"
      },
      "source": [
        "Because `res` is just another `AIMessage` object, we can append it to `messages`, add another `HumanMessage`, and generate the next response in the conversation."
      ]
    },
    {
      "cell_type": "code",
      "execution_count": 6,
      "metadata": {
        "id": "8DvpgKJhbc73",
        "outputId": "27fbb12d-13d6-4308-9dda-c1a3345c5e0a",
        "colab": {
          "base_uri": "https://localhost:8080/"
        }
      },
      "outputs": [
        {
          "output_type": "stream",
          "name": "stderr",
          "text": [
            "<ipython-input-6-7f6e51416b90>:12: LangChainDeprecationWarning: The method `BaseChatModel.__call__` was deprecated in langchain-core 0.1.7 and will be removed in 1.0. Use :meth:`~invoke` instead.\n",
            "  res = chat(messages)\n"
          ]
        },
        {
          "output_type": "stream",
          "name": "stdout",
          "text": [
            "Researchers believe that predictive analytics can advance decision-making in organizations for several reasons:\n",
            "\n",
            "1. Data-driven insights: Predictive analytics enables organizations to make decisions based on data and evidence rather than intuition or guesswork. By analyzing historical data and identifying patterns and trends, organizations can gain valuable insights that can inform strategic decisions.\n",
            "\n",
            "2. Anticipating future trends: Predictive analytics allows organizations to forecast future outcomes and trends based on historical data and predictive models. By predicting potential scenarios and outcomes, organizations can proactively plan and adapt their strategies to capitalize on opportunities or mitigate risks.\n",
            "\n",
            "3. Improved accuracy and efficiency: Predictive analytics can help organizations make more accurate and reliable predictions, leading to better decision-making. By automating the analysis of large datasets and complex relationships, organizations can make decisions more efficiently and effectively.\n",
            "\n",
            "4. Personalized recommendations: Predictive analytics can be used to personalize customer experiences by predicting individual preferences, behaviors, and needs. By leveraging predictive models, organizations can deliver targeted recommendations, offers, and services to customers, leading to increased customer satisfaction and loyalty.\n",
            "\n",
            "5. Risk mitigation: Predictive analytics can help organizations identify and mitigate risks by predicting potential issues or anomalies before they occur. By analyzing historical data and patterns, organizations can proactively manage risks, prevent fraud, and ensure compliance with regulations.\n",
            "\n",
            "6. Competitive advantage: By leveraging predictive analytics, organizations can gain a competitive advantage by making data-driven decisions, optimizing processes, and improving outcomes. Organizations that effectively use predictive analytics can outperform competitors, drive innovation, and achieve sustainable growth.\n",
            "\n",
            "Overall, researchers believe that predictive analytics can empower organizations to make informed decisions, drive performance improvements, and achieve strategic objectives by harnessing the power of data and analytics.\n"
          ]
        }
      ],
      "source": [
        "# add latest AI response to messages\n",
        "messages.append(res)\n",
        "\n",
        "# now create a new user prompt\n",
        "prompt = HumanMessage(\n",
        "    content=\"Why do researchers believe it can advance the decison making in organisations?\"\n",
        ")\n",
        "# add to messages\n",
        "messages.append(prompt)\n",
        "\n",
        "# send to chat-gpt\n",
        "res = chat(messages)\n",
        "\n",
        "print(res.content)"
      ]
    },
    {
      "cell_type": "markdown",
      "metadata": {
        "id": "cLyKFNmLbc74"
      },
      "source": [
        "### Dealing with Hallucinations"
      ]
    },
    {
      "cell_type": "markdown",
      "metadata": {
        "id": "MB9OZxVobc74"
      },
      "source": [
        "We now have our chatbot, but as mentioned earlier, the knowledge of large language models (LLMs) can be limited. This limitation arises because LLMs acquire all their knowledge during the training phase. Essentially, an LLM compresses the information from its training data into its internal parameters, known as the model’s parametric knowledge.\n",
        "\n",
        "By default, LLMs don't have real-time access to external information.\n",
        "\n",
        "This becomes evident when we ask LLMs about recent events, such as the latest Australia Budget 2024, where they are unable to provide up-to-date insights without external augmentation."
      ]
    },
    {
      "cell_type": "code",
      "execution_count": 7,
      "metadata": {
        "id": "jZ8taJHYbc74"
      },
      "outputs": [],
      "source": [
        "# add latest AI response to messages\n",
        "messages.append(res)\n",
        "\n",
        "# now create a new user prompt\n",
        "prompt = HumanMessage(\n",
        "    content=\"What are the highlights of the Australia Budget 2024?\"\n",
        ")\n",
        "# add to messages\n",
        "messages.append(prompt)\n",
        "\n",
        "# send to OpenAI\n",
        "res = chat(messages)"
      ]
    },
    {
      "cell_type": "code",
      "execution_count": 8,
      "metadata": {
        "id": "qDGZKQSVbc74",
        "outputId": "3fc4fb72-9990-4866-fbd6-3b993b78ccdd",
        "colab": {
          "base_uri": "https://localhost:8080/"
        }
      },
      "outputs": [
        {
          "output_type": "stream",
          "name": "stdout",
          "text": [
            "I'm sorry, but as an AI, I do not have real-time information or the ability to access current news updates. I recommend checking official government websites, news outlets, or financial publications for the latest information on the Australia Budget 2024. Is there anything else I can help you with?\n"
          ]
        }
      ],
      "source": [
        "print(res.content)"
      ]
    },
    {
      "cell_type": "markdown",
      "metadata": {
        "id": "ny_FiwjRbc74"
      },
      "source": [
        "Our chatbot can no longer help us, it doesn't contain the information we need to answer the question. It was very clear from this answer that the LLM doesn't know the informaiton, but sometimes an LLM may respond like it _does_ know the answer — and this can be very hard to detect.\n",
        "\n",
        "OpenAI have since adjusted the behavior for this particular example as we can see below:"
      ]
    },
    {
      "cell_type": "code",
      "execution_count": 9,
      "metadata": {
        "id": "joSAxhwhbc74"
      },
      "outputs": [],
      "source": [
        "# add latest AI response to messages\n",
        "messages.append(res)\n",
        "\n",
        "# now create a new user prompt\n",
        "prompt = HumanMessage(\n",
        "    content=\"Can you tell more about Easing Cost of Living Pressures in Australia Budget 2024?\"\n",
        ")\n",
        "# add to messages\n",
        "messages.append(prompt)\n",
        "\n",
        "# send to OpenAI\n",
        "res = chat(messages)"
      ]
    },
    {
      "cell_type": "code",
      "execution_count": 10,
      "metadata": {
        "id": "4XEYLt-Dbc74",
        "outputId": "aca19670-47c9-4d95-e594-9de6f243a878",
        "colab": {
          "base_uri": "https://localhost:8080/"
        }
      },
      "outputs": [
        {
          "output_type": "stream",
          "name": "stdout",
          "text": [
            "I apologize for the confusion earlier. As an AI, I do not have real-time information on specific budgets or policies. However, I can provide some general strategies that governments may consider to ease cost of living pressures in a budget:\n",
            "\n",
            "1. Tax relief: Governments may provide tax cuts or incentives to lower-income households to reduce their tax burden and increase disposable income.\n",
            "\n",
            "2. Social welfare programs: Increasing funding for social welfare programs such as unemployment benefits, housing assistance, and childcare subsidies can help support vulnerable populations and reduce financial strain.\n",
            "\n",
            "3. Affordable housing initiatives: Implementing policies to increase affordable housing supply, provide rental assistance, or offer first-home buyer incentives can help address housing affordability issues.\n",
            "\n",
            "4. Energy subsidies: Providing subsidies or rebates for energy costs can help lower household expenses and alleviate financial pressure on families.\n",
            "\n",
            "5. Healthcare support: Investing in healthcare services, reducing out-of-pocket expenses for medical care, and expanding access to affordable healthcare can help reduce healthcare costs for individuals and families.\n",
            "\n",
            "6. Education assistance: Offering financial support for education expenses, such as school supplies, uniforms, and fees, can help alleviate the financial burden on families with children.\n",
            "\n",
            "7. Consumer protection measures: Implementing regulations to prevent price gouging, ensure fair competition, and protect consumers from predatory practices can help lower the cost of goods and services.\n",
            "\n",
            "These are just a few examples of strategies that governments may consider to ease cost of living pressures in a budget. For specific details on the Australia Budget 2024 or initiatives aimed at addressing cost of living pressures in Australia, I recommend checking official government sources or news outlets for the most up-to-date information.\n"
          ]
        }
      ],
      "source": [
        "print(res.content)"
      ]
    },
    {
      "cell_type": "markdown",
      "metadata": {
        "id": "fxUcpptYbc75"
      },
      "source": [
        "Another method of providing knowledge to LLMs is through *source knowledge*, which refers to any information supplied via the prompt. This allows the model to work with fresh or specific data that wasn’t part of its training. We can demonstrate this by using the LLMChain in LangChain, pulling a description of the object directly from the LangChain documentation to feed into the model\n",
        "\n",
        "\n"
      ]
    },
    {
      "cell_type": "code",
      "execution_count": 11,
      "metadata": {
        "id": "ylU2GLntbc75"
      },
      "outputs": [],
      "source": [
        "source_knowledge = \"\"\"\n",
        "All 13.6 million Australian taxpayers will get a tax cut, with an average tax cut of $1,888 or\n",
        "$36 a week\n",
        "- $3.5 billion in energy bill relief for all Australian households and one million small businesses\n",
        "- $1.9 billion to increase Commonwealth Rent Assistance by a further 10 per cent, benefiting\n",
        "nearly 1 million households\n",
        "- Cheaper medicines as part of the up to $3 billion agreement with community pharmacies\n",
        "- Waiving $3 billion in student debt for more than 3 million Australians to make student\n",
        "loans fairer\n",
        "- Getting consumers a better deal at the supermarket checkout and through the\n",
        "energy transition\n",
        "- $1.1 billion to pay superannuation on Government-funded Paid Parental Leave\n",
        "- $138 million to boost funding for emergency and food relief and financial support services\n",
        "- Supporting wages growth through submissions to the Fair Work Commission and supporting\n",
        "pay rises for care sector workers\n",
        "- Extending the freeze on deeming rates for 876,000 income support recipients\n",
        "\"\"\""
      ]
    },
    {
      "cell_type": "markdown",
      "metadata": {
        "id": "jm1hwq5rbc75"
      },
      "source": [
        "We can feed this additional knowledge into our prompt with some instructions telling the LLM how we'd like it to use this information alongside our original query."
      ]
    },
    {
      "cell_type": "code",
      "execution_count": 12,
      "metadata": {
        "id": "mAPEhrjIbc75"
      },
      "outputs": [],
      "source": [
        "query = \"Can you tell more about Easing Cost of Living Pressures in Australia Budget 2024?\"\n",
        "\n",
        "augmented_prompt = f\"\"\"Using the contexts below, answer the query.\n",
        "\n",
        "Contexts:\n",
        "{source_knowledge}\n",
        "\n",
        "Query: {query}\"\"\""
      ]
    },
    {
      "cell_type": "code",
      "source": [
        "augmented_prompt"
      ],
      "metadata": {
        "colab": {
          "base_uri": "https://localhost:8080/",
          "height": 88
        },
        "id": "FZvLgsF3AQnk",
        "outputId": "7dbcb875-70ad-4282-95fc-e8d00db133ed"
      },
      "execution_count": 13,
      "outputs": [
        {
          "output_type": "execute_result",
          "data": {
            "text/plain": [
              "'Using the contexts below, answer the query.\\n\\nContexts:\\n\\nAll 13.6 million Australian taxpayers will get a tax cut, with an average tax cut of $1,888 or\\n$36 a week\\n- $3.5 billion in energy bill relief for all Australian households and one million small businesses\\n- $1.9 billion to increase Commonwealth Rent Assistance by a further 10 per cent, benefiting\\nnearly 1 million households\\n- Cheaper medicines as part of the up to $3 billion agreement with community pharmacies\\n- Waiving $3 billion in student debt for more than 3 million Australians to make student\\nloans fairer\\n- Getting consumers a better deal at the supermarket checkout and through the\\nenergy transition\\n- $1.1 billion to pay superannuation on Government-funded Paid Parental Leave\\n- $138 million to boost funding for emergency and food relief and financial support services\\n- Supporting wages growth through submissions to the Fair Work Commission and supporting\\npay rises for care sector workers\\n- Extending the freeze on deeming rates for 876,000 income support recipients\\n\\n\\nQuery: Can you tell more about Easing Cost of Living Pressures in Australia Budget 2024?'"
            ],
            "application/vnd.google.colaboratory.intrinsic+json": {
              "type": "string"
            }
          },
          "metadata": {},
          "execution_count": 13
        }
      ]
    },
    {
      "cell_type": "markdown",
      "metadata": {
        "id": "hPKw-cZBbc75"
      },
      "source": [
        "Now we feed this into our chatbot as we were before."
      ]
    },
    {
      "cell_type": "code",
      "execution_count": 14,
      "metadata": {
        "id": "cM3HtCtwbc75"
      },
      "outputs": [],
      "source": [
        "# create a new user prompt\n",
        "prompt = HumanMessage(\n",
        "    content=augmented_prompt\n",
        ")\n",
        "# add to messages\n",
        "messages.append(prompt)\n",
        "\n",
        "# send to OpenAI\n",
        "res = chat(messages)"
      ]
    },
    {
      "cell_type": "code",
      "execution_count": 15,
      "metadata": {
        "id": "HyNpbh0Ibc75",
        "outputId": "177cf883-1e93-4a10-cbe2-9138bf9677cc",
        "colab": {
          "base_uri": "https://localhost:8080/"
        }
      },
      "outputs": [
        {
          "output_type": "stream",
          "name": "stdout",
          "text": [
            "In the Australia Budget 2024, there are several measures aimed at easing cost of living pressures for Australian households. Here are some key initiatives:\n",
            "\n",
            "1. Tax cuts for all Australian taxpayers: All 13.6 million Australian taxpayers will receive a tax cut, with an average tax cut of $1,888 or $36 a week. This measure aims to provide financial relief to individuals and families by reducing their tax burden.\n",
            "\n",
            "2. Energy bill relief: The budget includes $3.5 billion in energy bill relief for all Australian households and one million small businesses. This initiative is designed to help reduce the cost of energy for households and businesses, thereby easing financial pressures.\n",
            "\n",
            "3. Increase in Commonwealth Rent Assistance: The budget allocates $1.9 billion to increase Commonwealth Rent Assistance by a further 10 per cent, benefiting nearly 1 million households. This measure aims to support renters by providing additional financial assistance for housing costs.\n",
            "\n",
            "4. Cheaper medicines: As part of an agreement with community pharmacies, the budget includes measures to make medicines more affordable, with up to $3 billion allocated for this purpose. This initiative aims to reduce healthcare costs for Australians and improve access to essential medications.\n",
            "\n",
            "5. Waiving student debt: The budget includes a provision to waive $3 billion in student debt for more than 3 million Australians, making student loans fairer and reducing financial burdens on individuals who have taken out student loans.\n",
            "\n",
            "6. Supporting wages growth: The budget includes measures to support wages growth, including submissions to the Fair Work Commission and support for pay rises for care sector workers. These initiatives aim to improve income levels for workers and support economic recovery.\n",
            "\n",
            "Overall, these measures in the Australia Budget 2024 are designed to address key cost of living pressures faced by Australian households, including tax relief, energy bill assistance, housing support, healthcare affordability, student debt relief, and support for wages growth.\n"
          ]
        }
      ],
      "source": [
        "print(res.content)"
      ]
    },
    {
      "cell_type": "markdown",
      "metadata": {
        "id": "ta2qGMAlbc75"
      },
      "source": [
        "The quality of this response is remarkable, made possible by augmenting our query with external knowledge, known as source knowledge. However, there's one challenge — how do we acquire this information in the first place?\n",
        "\n",
        "This is where vector databases come in, as we explored in previous chapters. They can assist us in storing and retrieving relevant information. But before we dive in, we’ll need to start with a dataset."
      ]
    },
    {
      "cell_type": "markdown",
      "metadata": {
        "id": "TadLRDfTbc75"
      },
      "source": [
        "### Importing the Data"
      ]
    },
    {
      "cell_type": "markdown",
      "metadata": {
        "id": "kL7_MmE6bc75"
      },
      "source": [
        "In this task, we’ll import our data manually, using the Australia Budget 2024 document as the external knowledge source. This document will serve as the knowledge base for our chatbot, enabling it to provide accurate and up-to-date responses regarding the latest budget details. This approach will demonstrate how external information can be integrated to improve the chatbot’s capabilities."
      ]
    },
    {
      "cell_type": "code",
      "source": [
        "from langchain.document_loaders import TextLoader\n",
        "from langchain.document_loaders import PyPDFLoader\n",
        "from langchain.text_splitter import CharacterTextSplitter"
      ],
      "metadata": {
        "id": "t9Q55qF7B-3r"
      },
      "execution_count": 16,
      "outputs": []
    },
    {
      "cell_type": "code",
      "source": [
        "# Load the document\n",
        "#loader = TextLoader(\"/content/test.txt\")\n",
        "#documents = loader.load()"
      ],
      "metadata": {
        "id": "Ue2CBtv_ZzPc"
      },
      "execution_count": 17,
      "outputs": []
    },
    {
      "cell_type": "code",
      "execution_count": 20,
      "metadata": {
        "id": "37QRL5Phbc75"
      },
      "outputs": [],
      "source": [
        "loader = PyPDFLoader(\"/content/budget-overview-final.pdf\")\n",
        "documents = loader.load()"
      ]
    },
    {
      "cell_type": "code",
      "source": [
        "#Write code to load all the documentats and check the behavior"
      ],
      "metadata": {
        "id": "RQGegm66gokR"
      },
      "execution_count": null,
      "outputs": []
    },
    {
      "cell_type": "code",
      "source": [
        "# Split the text into chunks\n",
        "text_splitter = CharacterTextSplitter(chunk_size=250, chunk_overlap=0)\n",
        "dataset = text_splitter.split_documents(documents)\n",
        "dataset"
      ],
      "metadata": {
        "colab": {
          "base_uri": "https://localhost:8080/"
        },
        "id": "Xp1q-2kUYfTJ",
        "outputId": "db06b97d-7a48-4750-b6cc-37b9176c4700"
      },
      "execution_count": 21,
      "outputs": [
        {
          "output_type": "execute_result",
          "data": {
            "text/plain": [
              "[Document(metadata={'source': '/content/budget-overview-final.pdf', 'page': 0}, page_content='Cost of living help \\n& a future made  \\nin Australia\\nbudget.gov.au\\nMay 2024'),\n",
              " Document(metadata={'source': '/content/budget-overview-final.pdf', 'page': 1}, page_content='Cost of living help \\n& a future made  \\nin Australia\\nbudget.gov.au\\nMay 2024'),\n",
              " Document(metadata={'source': '/content/budget-overview-final.pdf', 'page': 2}, page_content='© Commonwealth of Australia 2024\\nISBN 978-1-925832-95-2\\nThis publication is available for your use under a Creative Commons Attribution 4.0 International licence, \\nwith the exception of the Commonwealth Coat of Arms, photographs, images, third party content,  \\nand where otherwise stated. The full licence terms are available from  \\nhttps:/ /creativecommons.org/licenses/by/4.0/legalcode .\\nUse of Commonwealth of Australia material under a Creative Commons Attribution 4.0 International \\nlicence requires you to attribute the work (but not in any way that suggests that the Commonwealth of \\nAustralia endorses you or your use of the work).\\nCommonwealth of Australia material used ‘as supplied’\\nProvided you have not modified or transformed Commonwealth of Australia material in any way including, \\nfor example, by changing the Commonwealth of Australia text; calculating percentage changes; graphing \\nor charting data; or deriving new statistics from published Commonwealth of Australia statistics — then \\nCommonwealth of Australia prefers the following attribution:\\n Source: The Commonwealth of Australia\\nDerivative material\\nIf you have modified or transformed Commonwealth of Australia material, or derived new material from \\nthose of the Commonwealth of Australia in any way, then Commonwealth of Australia prefers the following \\nattribution:\\n Based on Commonwealth of Australia data\\nUse of the Coat of Arms\\nThe terms under which the Coat of Arms can be used are set out on the Department of the Prime Minister \\nand Cabinet website (see https:/ /www.pmc.gov.au/honours-and-symbols/commonwealth-coat-arms ).\\nOther uses\\nInquiries regarding this licence and any other use of this document are welcome at:\\nManager  \\nMedia Unit  \\nThe Treasury  \\nLangton Crescent Parkes ACT 2600  \\nEmail: media@treasury.gov.au\\nInternet\\nA copy of this document is available on the central Budget website at: www.budget.gov.au .\\nPrinted by CanPrint Communications Pty Ltd\\nAboriginal and Torres Strait Islander people are advised that this publication may contain images \\nof deceased people.\\nTreasury acknowledges the Traditional Custodians of country throughout Australia and \\ntheir connections to land, sea and community. We pay our respects to their Elders past and \\npresent and extend that respect to all Aboriginal and Torres Strait Islander peoples today.\\nThis illustration has been generated from artwork created by Treasury employees \\nduring NAIDOC Week 2018 in an Indigenous Art workshop run by Linda Huddleston \\nand Lyn Talbot from the Burrunju Aboriginal Corporation in Canberra.\\nThe artwork symbolises the Treasury’s Reconciliation Journey,  \\nNational Sorry Day and Treasury’s head office in Canberra.\\nCost of living help and  a future made in Australia   |   Budget 2024–25'),\n",
              " Document(metadata={'source': '/content/budget-overview-final.pdf', 'page': 3}, page_content=\"Contents\\nCost of living help and a future  \\nmade in Australia   � � � � � � � � � � � � � � � � � � � � � � � � � � � 4\\nKey Budget initiatives � � � � � � � � � � � � � � � � � � � � � � � 5\\nBudget at a glance   � � � � � � � � � � � � � � � � � � � � � � � � � 6\\nResponsible economic management � � � � � � � � � 7\\nGlobal economic outlook � � � � � � � � � � � � � � � � � � � � 8\\nDomestic economic outlook  � � � � � � � � � � � � � � � � � 9\\nEasing cost-of-living pressures  . . . 10\\nTax cuts for every Australian taxpayer � � � � � � � 12\\nNew power bill relief   � � � � � � � � � � � � � � � � � � � � � � � 14\\nSupport for renters � � � � � � � � � � � � � � � � � � � � � � � � � 15\\nCheaper medicines   � � � � � � � � � � � � � � � � � � � � � � � � 16\\nSupporting students � � � � � � � � � � � � � � � � � � � � � � � 17\\nA fair go for consumers   � � � � � � � � � � � � � � � � � � � � 18\\nGrowing wages � � � � � � � � � � � � � � � � � � � � � � � � � � � � 19\\nBuilding more homes  \\nfor Australians  . . . . . . . . . . . . . 20\\nHelp to build, rent and buy   � � � � � � � � � � � � � � � � � 22\\nBetter transport for cities,  \\nregions and suburbs   � � � � � � � � � � � � � � � � � � � � � � � 24\\nInvesting in a Future  \\nMade in Australia  . . . . . . . . . . . 28\\nAttracting investment in key  industries � � � � � � � 30\\nMaking Australia a renewable \\nenergy  superpower   � � � � � � � � � � � � � � � � � � � � � � � � 32\\nAdding value to resources and  \\nstrengthening economic security   � � � � � � � � � � � 34\\nInvesting in digital, science  and  innovation   � �35\\nReforming tertiary education   � � � � � � � � � � � � � � � 36Strengthening our defence  \\nindustry capability � � � � � � � � � � � � � � � � � � � � � � � � � 38\\nSecuring Australia's place in the world � � � � � � � 39\\nSupport for small businesses   � � � � � � � � � � � � � � 40\\nA more resilient Australia � � � � � � � � � � � � � � � � � � � � 41\\nStrengthening Medicare  \\nand the care economy  . . . . . . . . 42\\nHigh-quality health services  \\nthrough Medicare � � � � � � � � � � � � � � � � � � � � � � � � � � 44\\nImproving the aged care system � � � � � � � � � � � � 46\\nReforming the disability sector � � � � � � � � � � � � � � 48\\nDelivering essential services   � � � � � � � � � � � � � � � � 49\\nBroadening opportunity and \\nadvancing equality . . . . . . . . . . . 51\\nProgressing equality, supporting  women   � � � � 52\\nSupport for Aboriginal and  \\nTorres Strait Islander Australians � � � � � � � � � � � � 54\\nSupporting the most vulnerable � � � � � � � � � � � � � 55\\nAppendix A: Budget aggregates � � � � � � � � � � � � 58\\nAppendix B: Revenue and spending   � � � � � � � � 59\\nAppendix C: Major initiatives � � � � � � � � � � � � � � � � 60\\nAppendix D: Major Budget improvements   � � � 61\\nAppendix E: Detailed economic forecasts   � � �62\\nEndnotes and image credits � � � � � � � � � � � � � � � � 64\\n  3 \\nCost of living help and  a future made in Australia   |   Budget 2024–25\"),\n",
              " Document(metadata={'source': '/content/budget-overview-final.pdf', 'page': 4}, page_content=\"Cost of living help and a future \\nmade in Australia\\nEasing pressures today and investing in a better future\\nAustralia is facing an uncertain global economic environment and a changing \\nworld. Global challenges, high but moderating inflation and higher interest \\nrates have contributed to cost-of-living pressures and slower growth. \\nWhile many Australians remain under pressure, our economy is better placed \\nthan most to handle these challenges. This Government's responsible \\neconomic management has helped ease inflationary and budget pressures. \\nThough inflation is still too high, it is now less than half its peak and almost half \\nof what it was around the middle of 2022. Unemployment is near a 50-year \\nlow. Real wages growth has returned. Australia recorded the second strongest \\nbudget balance among G20 countries. And we are uniquely placed to \\nmaximise opportunities from changes in the global economy, including the net \\nzero transformation. \\nThe Budget helps people under pressure today and invests in a Future Made \\nin Australia. It provides responsible cost-of-living relief, helps Australians earn \\nmore and keep more of what they earn, and builds a stronger and more \\nresilient economy. \\nAt the same time, the Budget forecasts a second surplus in 2023–24, \\nrepresenting the first back -to-back surplus in nearly two decades, lower \\ndebt every year over the forward estimates and lower inflation, which is now \\nexpected to be back in the RBA's target band sooner. \\nThis Budget responds to the challenges of today and lays the foundation for \\nfuture prosperity by:\\n• easing cost-of-living pressures\\n• building more homes for Australians\\n• investing in a Future Made in Australia\\n• strengthening Medicare and the care economy\\n• broadening opportunity and advancing equality\\nAll of which is underpinned by responsible economic management. \\nThis Budget strikes the right balance between keeping pressure off inflation, \\ndelivering cost-of-living relief, supporting sustainable economic growth and \\nstrengthening public finances.\\n4  \\nCost of living help and  a future made in Australia   |   Budget 2024–25\"),\n",
              " Document(metadata={'source': '/content/budget-overview-final.pdf', 'page': 5}, page_content=\"Key Budget initiatives \\nEasing cost-of-living pressures\\n ?All 13.6 million Australian taxpayers will get a tax cut, averaging $36 a week\\n ?$3.5 billion for $300 in energy bill relief to all Australian households; plus relief for one million \\nsmall  businesses\\n ?Waiving $3 billion in student debt for more than 3 million Australians \\n ?$1.9 billion to increase Commonwealth Rent Assistance by a further 10 per cent, \\nbenefiting  nearly 1 million households\\n ?Cheaper medicines as part of the up to $3 billion agreement with community pharmacies\\nBuilding more homes for Australians\\n ?New housing investment of $6.2 billion, for a total of $32 billion under this Government\\n ?An additional $1 billion to help states and territories build more homes \\n ?More student accommodation\\n ?$16.5 billion additional funding for infrastructure projects to connect our cities and towns \\nInvesting in a Future Made in Australia\\n ?$22.7 billion to become a renewable energy superpower and strengthen our \\neconomic  resilience \\n ?$1.1 billion to reform higher education and support future productivity\\n ?$466.4 million to advance Australia's quantum computing capabilities\\nStrengthening Medicare and the care economy\\n ?$2.8 billion to strengthen Medicare, including a further 29 Medicare  Urgent Care Clinics\\n ?$3.4 billion for new and amended listings on the Pharmaceutical Benefits Scheme\\n ?$2.2 billion to improve  the aged care system\\n ?$888.1 million to help people get the mental health care they need\\n ?Funding set aside towards increased aged care and child care  wages\\nBroadening opportunity and advancing equality\\n ? $925.2 million for victim-survivors leaving violent intimate partner relationships\\n ?$1.1 billion to pay superannuation on Government-funded Paid Parental Leave\\nUnderpinned by responsible economic management\\n  5 \\nCost of living help and a future made in Australia   |   Budget 2024–25\"),\n",
              " Document(metadata={'source': '/content/budget-overview-final.pdf', 'page': 6}, page_content='Budget at a glance\\nAn inflation‑fighting and future‑making Budget\\nThe Government’s responsible fiscal and economic management has \\nreturned the budget to surplus faster than any major advanced economy. \\nFollowing a $22.1 billion surplus in 2022–23, a $9.3 billion surplus is now forecast \\nfor 2023–24 – the first back-to-back surpluses in nearly two decades. \\nThrough banking tax receipt upgrades and targeting a surplus in 2023–24, \\nthe Government is supporting monetary policy by keeping the pressure off \\ninflation. In this Budget, over 96 per cent of tax upgrades are expected to be \\nreturned in 2023–24. \\nInflation is the primary focus of the Budget in the near term. This Budget \\ncontinues to deliver responsible cost-of-living relief. Energy bill relief and \\nrent assistance are estimated to directly reduce headline inflation by ½ of \\na percentage point in 2024–25 and are not expected to add to broader \\ninflationary pressures. Treasury is forecasting this could see headline inflation \\nreturn to the target band by the end of 2024.\\nThe Government is stabilising and reducing gross debt as a share of the \\neconomy. Gross debt as a share of the economy is lower over the next \\ndecade than at the 2023–24 Mid-Year Economic and Fiscal Outlook \\n(MYEFO). Gross debt is projected to peak at 35.2 per cent of GDP in 2026–27, \\n9.7 percentage points lower than was forecast in 2022 Pre-Election Economic \\nand Fiscal Outlook. \\nActual Estimates\\n2022–23 2023–24 2024–25 2025–26 2026–27 2027–28 Total (a)\\n$b $b $b $b $b $b $b\\nUnderlying cash balance $b 22.1 9.3 -28.3 -42.8 -26.7 -24.3 -112.8\\n% of GDP 0.9 0.3 -1.0 -1.5 -0.9 -0.8\\nGross debt % of GDP 34.7 33.7 33.9 35.1 35.2 34.9\\nNet debt % of GDP 19.2 18.6 20.0 21.5 21.8 21.9\\n(a) Total is equal to the sum of amounts from 2023–24 to 2027–28. \\n6  \\nCost of living help and a future made in Australia   |   Budget 2024–25'),\n",
              " Document(metadata={'source': '/content/budget-overview-final.pdf', 'page': 7}, page_content=\"Responsible economic \\nmanagement\\nDelivering on our Economic and Fiscal Strategy\\nThe Government's fiscal strategy strikes the right balance between getting \\ninflation under control, easing cost-of-living pressures, supporting sustainable \\ngrowth and building fiscal buffers in an uncertain global environment. \\nSince the 2022 Pre-Election Economic and Fiscal Outlook, the Government's \\nresponsible fiscal management has:\\n• Improved the cumulative underlying cash balance by $214.7 billion, reducing \\ncumulative deficits by around two thirds over the six years to 2027–28.\\n• Found $104.8 billion in responsible savings, spending reprioritisations and \\nbudget improvements.\\n• Returned 82 per cent of tax upgrades to the budget over the forward \\nestimates, including 96 per cent in 2023–24 in this Budget.\\n• Lowered the projected peak in gross debt as a share of GDP from \\n44.9 per cent of GDP to 35.2 per cent of GDP – lowering the peak by \\nalmost 10 percentage points of GDP. \\n• Avoided around $80 billion in interest payments over the medium term due \\nto the improvements to the Budget position. \\nThis Budget provides $15.4 billion to address unavoidable spending pressures \\nto ensure Australians don’t see a cut to the programs and services they rely \\non. This includes extending funding of terminating health programs, myGov \\nand frontline services. \\nThe budget continues to face long-term fiscal challenges from interest costs, \\nthe NDIS, defence, health, and aged care. \\nThe Government's responsible approach is delivering lower debt, in line with \\nthe Economic and Fiscal Strategy, and has returned the budget to surplus \\nfaster than any major advanced economy. This is building the buffers required \\nto address these challenges while continuing to deliver the high-quality \\nservices Australians deserve.\\nChart 1. Gross debt to GDP ‑ now vs Pre ‑Election Economic and Fiscal Outlook\\nPer cent of GDP \\n15253545\\n2014-15 2019-20 2024-25 2029-30 2034-352023–24 MYEFO2022 PEFO\\n2024–25 Budget\\n  7 \\nCost of living help and a future made in Australia   |   Budget 2024–25\"),\n",
              " Document(metadata={'source': '/content/budget-overview-final.pdf', 'page': 8}, page_content=\"Global economic outlook\\nA weak and uncertain global economy\\nThe global economic outlook is highly uncertain. Heightened \\ngeopolitical tensions in the Middle East have added to the risks associated with Russia's invasion of Ukraine, growth is slowing in China and weak elsewhere and supply chains are fragmenting.\\nGlobal growth is forecast to remain subdued over the \\nnext  few years and is expected to record the longest stretch \\nof below average growth since the early  1990s. \\nMost advanced economies recorded subdued outcomes \\nduring 2023, with around a third of OECD nations recording a technical recession. The United States has been the notable exception where earlier disinflation and a strong recovery in productivity have contributed to the economy consistently exceeding expectations. \\nGlobal inflation has moderated but remains too high, and \\nthere are risks it will persist. Tackling inflation remains the \\nprimary focus but, as  inflationary pressures abate and labour \\nmarkets soften, the global policy focus will increasingly shift to managing risks to growth.Australia, United States and China \\ngrowth forecasts\\n0246\\n Australia  China2024 2025 2026Per cent\\n United States\\nSource: Treasury.\\nContribution to global GDP growth\\nPercentage points\\n-458\\n1990 1995 2000 2005 2010 2015 2025\\nChina Rest of world Average (1990–2019)2\\n-1\\nSource: IMF, Treasury. \\n8  \\nCost of living help and a future made in Australia   |   Budget 2024–25\"),\n",
              " Document(metadata={'source': '/content/budget-overview-final.pdf', 'page': 9}, page_content='Domestic economic outlook\\nFacing challenges from a position of \\neconomic strength\\nAustralia is not immune from global developments. \\nModerating but high inflation and higher interest rates here have resulted in lower growth over the past year. The Australian economy faces these challenges from a position of economic strength with inflation that is now less than half of its peak, a resilient labour market with unemployment close to 50-year lows, a return to annual real wage growth and a solid pipeline of business investment.\\nThe Government’s targeted cost-of-living measures are \\nexpected to reduce inflation, with energy bill relief and Commonwealth Rent Assistance expected to directly reduce inflation by ½ of a percentage point in 2024–25 and not expected to add to broader inflationary pressures. Treasury is forecasting this could see headline inflation return to the target band by the end of 2024, slightly earlier than expected at MYEFO.\\nThe labour market has been resilient with an unemployment \\nrate near historic lows, workforce participation near its record high, and around 780,000 jobs created since May 2022. Employment is growing faster than any major advanced economy. The unemployment rate is expected to rise modestly but remain below pre-pandemic levels.\\nThe combination of nominal wages growing at their fastest \\nrate in nearly 15 years and the moderation in inflation has resulted in real wages returning to annual growth.\\nThe pipeline of business investment remains strong and \\nthis growth is expected to continue through to 2025–26. \\nIf realised, this would be the longest sustained increase in \\ninvestment since the mining boom. \\nReal GDP is expected to grow by 1¾ per cent in 2023–24 and \\nremain subdued over the period ahead. Real GDP is forecast to grow by 2 per cent in 2024–25 and 2¼ per cent in 2025–26. Moderating inflation, higher wage growth, continuing employment growth and the Government’s cost-of-living tax cuts should support a recovery in household consumption.Real GDP growth\\n-20246\\n 2010-11  2015-16  2020-21  2025-26Per cent\\nSource: ABS National Accounts: National Income, \\nExpenditure and Product and Treasury. \\nHeadline inflation\\n-202468\\nJun-14 Jun-18 Jun-22 Jun-26Per cent\\nBudget 2024-25\\nMYEFO 2023-24\\nSource: ABS Consumer Price Index and Treasury. \\nNote: Grey shading denotes the RBA target band. Forecasts are June quarter through-the-year inflation rates.\\n  9 \\nCost of living help and a future made in Australia   |   Budget 2024–25'),\n",
              " Document(metadata={'source': '/content/budget-overview-final.pdf', 'page': 10}, page_content='Easing  \\ncost-of-living \\npressures'),\n",
              " Document(metadata={'source': '/content/budget-overview-final.pdf', 'page': 11}, page_content='Easing cost ‑of‑living  \\npressures\\n ?All 13.6 million Australian taxpayers will get a tax cut, with an average tax cut of $1,888 or \\n$36 a week\\n ?$3.5 billion in energy bill relief for all Australian households and one million small businesses \\n ?$1.9 billion to increase Commonwealth Rent Assistance by a further 10 per cent, benefiting \\nnearly 1 million households\\n ?Cheaper medicines as part of the up to $3 billion agreement with community pharmacies\\n ?Waiving $3 billion in student debt for more than 3 million Australians to make student \\nloans  fairer\\n ?Getting consumers a better deal at the supermarket checkout and through the \\nenergy  transition \\n ?$1.1 billion to pay superannuation on Government-funded Paid Parental Leave \\n ?$138 million to boost funding for emergency and food relief and financial support services\\n ?Supporting wages growth through submissions to the Fair Work Commission and supporting \\npay rises for care sector workers \\n ?Extending the freeze on deeming rates for 876,000 income support recipients \\nEasing cost-of-living pressures  11 \\nCost of living help and  a future made in Australia   |   Budget 2024–25'),\n",
              " Document(metadata={'source': '/content/budget-overview-final.pdf', 'page': 12}, page_content='Tax cuts for every \\nAustralian  taxpayer\\nAustralians keeping more of what they earn \\nThe Government is delivering tax cuts for all 13.6 million Australian taxpayers \\nfrom 1 July 2024 to ease cost-of-living pressures for middle Australia, return bracket creep, support women and boost labour supply. \\nFrom 1 July this year, the Government will: \\n• Reduce the 19 per  cent tax rate to 16 per  cent\\n• Reduce the 32.5 per  cent tax rate to 30 per  cent\\n• Increase the income threshold above which the 37 per  cent tax rate \\napplies  from $120,000 to $135,000\\n• Increase the income threshold above which the 45 per  cent tax rate \\napplies  from $180,000 to $190,000.\\n$18,201 to \\n$45,000\\n2.9 million taxpayers\\nTax relief of up to $804\\n8.2 million taxpayers\\nTax relief between $804 and $3,729$45,001 to \\n$135,000\\n1.4 million taxpayers\\nTax relief between $3,729 and $4,529$135,001 to \\n$190,000\\n1 million taxpayers\\nTax relief of $4,529>$190,000Taxable incomeTax cuts for every taxpayer\\nResponsible cost-of-living relief for middle Australia\\nAustralians are under pressure and tax cuts will help. The Government’s tax \\nchanges provide bigger tax cuts for more taxpayers, delivering meaningful cost-of-living relief to middle Australia without adding to inflationary pressures.$1,888\\naverage tax cut in 2024–25\\nUp to \\n$804\\ntax relief in 2024–25 for taxpayers earning $45,000 or less\\n$21,915 \\nless tax paid on the average income by \\n2034–35   \\n12 Easing cost-of-living pressures\\nCost of living help and a future made in Australia   |   Budget 2024–25'),\n",
              " Document(metadata={'source': '/content/budget-overview-final.pdf', 'page': 13}, page_content=\"Returning bracket creep\\nThe Government's tax cuts return bracket creep and lower \\naverage tax rates for all taxpayers. The changes provide taxpayers with greater protection against bracket creep, particularly low- to middle-income taxpayers, and support the progressivity of the tax system. \\nBoosting labour supply with more benefits for women\\nThe tax cuts will ensure Australians keep more of what they earn. Increases in take-home pay will reduce disincentives for Australians to take on more hours of work. The tax cuts are expected to increase labour supply by 930,000 hours per week, equivalent to around 25,000 full-time jobs. This increase is driven by women and individuals in the low- to middle-income range, particularly those earning between $25,000 and $75,000. \\nAll 6.5 million women taxpayers will receive a tax cut in \\n2024–25, with an average benefit of around $1,650. This \\nwill increase the financial return from work and  support \\nparticipation.\\n0 50,000 100,000 150,000 200,000 250,000 300,000 350,000Aged and Disability \\nCare Workers$909 average tax cutChildcare workers$811 average tax cutPrimary and Secondary School Teachers$1,802 average tax cut  Registered Nurses$1,571 average tax cutAverage tax cut by occupation\\nWomen\\nMen\\nNo. of taxpayers\\nSource: Treasury (See endnote 1 for details) \\nIncreasing the Medicare levy low-income thresholds\\nThe Government has increased the Medicare levy \\nlow-income thresholds for 2023–24, ensuring more than \\none million low-income taxpayers continue to be exempt \\nfrom the Medicare levy or pay a reduced levy rate. Frances is full time barista earning \\n$50,000 per year �  Frances' tax cut in \\n2024–25 will be $929 � \\nJeremy and Sarah both work full \\ntime, earning $75,292 and $60,000 \\nper annum respectively �  They have \\ntwo children, aged two and three, who both attend a long day care \\ncentre three days a week � \\nUnder the Government’s changes, they will receive a combined tax cut \\nof $2,740 and an additional $2,430 \\nin Child Care Subsidy �  They will also \\nreceive $300 in energy bill relief \\nin 2024–25 �  Their net benefit from \\nthese changes is $5,470, equivalent \\nto a 5 �5 p er cent increase in their \\ndisposable income � \\nEasing cost-of-living pressures  13 \\nCost of living help and a future made in Australia   |   Budget 2024–25\"),\n",
              " Document(metadata={'source': '/content/budget-overview-final.pdf', 'page': 14}, page_content=\"New power bill relief \\nProviding $300 energy rebates to every \\nAustralian household \\nThe Government is providing $3.5 billion in energy bill relief \\nfor all Australian households and around one million small \\nbusinesses. From 1 July 2024, more than 10 million households \\nwill receive a total rebate of $300 and eligible small \\nbusinesses will receive $325 on their electricity bills throughout \\nthe year. This is estimated to directly reduce headline inflation \\nby around 1/2 of a percentage point in 2024–25 and is not \\nexpected to add to broader inflationary pressures.\\nThe Government's current Energy Bill Relief Plan has \\nmoderated electricity price increases. Prices increased by just \\n2 per cent through the year to the March quarter this year. \\nHad this relief not been provided they would have increased \\nby 14.9 per cent. This Budget recognises that households and \\nsmall businesses remain under pressure, and extends and \\nexpands that relief.\\nWholesale electricity prices in the National Electricity Market \\nhave fallen 8 per cent in the first quarter of 2024 compared \\nto the same time last year, as more cheap, renewable \\ngeneration is rolled out to deliver the Government's \\n82 per cent renewable energy target.\\nMerryn lives alone and works \\nfull-time on the national minimum \\nwage ($45,906) � Under the \\nGovernment’s changes, Merryn will \\nreceive a tax cut of $827 as well as \\n$300 in energy bill relief in 2024–25�  \\nHer net benefit from these changes \\nis $1,127, equivalent to a 2 �8 per cent \\nincrease in her disposable income �\\n$3.5 billion \\nof energy bill relief \\n14 Easing cost-of-living pressures\\nCost of living help and a future made in Australia   |   Budget 2024–25\"),\n",
              " Document(metadata={'source': '/content/budget-overview-final.pdf', 'page': 15}, page_content=\"Support for renters\\nFurther boosting Commonwealth Rent \\nAssistance for nearly 1 million households  \\nThe Government is providing $1.9 billion over five years to \\nincrease maximum rates of Commonwealth Rent Assistance \\nby a further 10 per cent. This builds on the 15 per cent \\nincrease in September 2023 and will take maximum rates \\nover 40 per cent higher than in May 2022 – a combined \\nresult of indexation and the actions of our Government. \\nThis is the first back-to-back increase in the maximum rates \\nof Commonwealth Rent Assistance outside of indexation \\nchanges in three decades.\\nFor single parents or couples with one or two children the \\nmaximum rate of Rent Assistance has increased by over $70 \\nper fortnight since May 2022.\\nThe Government's boost to Commonwealth Rent Assistance \\nin last budget directly put downward pressure on rents. Rents \\nincreased 7.8 per cent through the year to the March quarter \\nthis year. Had the Government not boosted Commonwealth \\nRent Assistance, they would have risen by 9.5 per cent.Gillian is a sole parent of a \\nnine-year-old child, pays $400 in \\nrent a week and is not in the labour \\nforce � Under the Government’s \\nchanges, Gillian is now eligible for \\nParenting Payment Single instead \\nof JobSeeker Payment and will \\nnow receive an additional $5,677 \\nin income support � She will also \\nbenefit from an additional $1,215 in \\nCommonwealth Rent Assistance \\nand $300 in energy bill relief in \\n2024–25 � Her net benefit from \\nthese changes is $7,193, equivalent \\nto a 19 �6 per cent increase in her \\ndisposable income � \\nOver $70\\nincreased rent assistance per \\nfortnight  for families with children\\nEasing cost-of-living pressures  15 \\nCost of living help and a future made in Australia   |   Budget 2024–25\"),\n",
              " Document(metadata={'source': '/content/budget-overview-final.pdf', 'page': 16}, page_content='Cheaper medicines\\nSafeguarding health outcomes\\nAccess to affordable medicines is critical to support good health outcomes \\nfor Australians. The Government is working to finalise the new Eighth \\nCommunity Pharmacy Agreement, supported by up to an additional $3  billion \\nin funding, which will deliver cheaper medicines, improve patient health outcomes and secure a strong community pharmacy sector.\\nAs part of the Agreement, instead of rising with inflation, there will be a \\none-year freeze on the maximum Pharmaceutical Benefits Scheme (PBS) patient co-payment for everyone with a Medicare card and a five-year freeze for pensioners and other concession cardholders.\\nAround six out of ten prescriptions on the PBS are issued to pensioners \\nand other concession cardholders. This change means that no pensioner or concession card holder will pay more than $7.70 (plus any applicable manufacturer premiums) for up to five years, even as the aged pension and social security payments rise in line with inflation.$7.70\\nmaximum PBS patient co-payment for pensioner and concession card holders until 2030 \\nUp to \\n$3\\xa0billion\\nin additional funding for the Eighth Community Pharmacy Agreement\\n16 Easing cost-of-living pressures\\nCost of living help and a future made in Australia   |   Budget 2024–25'),\n",
              " Document(metadata={'source': '/content/budget-overview-final.pdf', 'page': 17}, page_content=\"Supporting students \\nDebt relief for students\\nThe Government will cut $3 billion in student debt for more \\nthan 3 million Australians. This will provide relief for everyone \\nwith Higher Education Loan Program (HELP) and other student \\nloan debt, while continuing to protect the integrity and value \\nof the student loan system which has massively expanded \\naccess to tertiary education.\\nIn response to the Australian Universities Accord, the \\nGovernment will cap the HELP indexation rate to be the lower \\nof either the Consumer Price Index (CPI) or the Wage Price \\nIndex (WPI). The Government will backdate this relief to all \\nHELP, VET Student Loan, Australian Apprenticeship Support \\nLoan and other student support loan accounts that existed \\non 1 June 2023.\\nThis will benefit all Australians with a HELP debt, fix last year’s \\nspike and prevent growth in debt from outpacing wages in \\nthe future.Changing the calculation of HELP \\nindexation applied from 1 June 2023 \\nmeans that the indexation rate \\nis reduced from 7 �1 per cent to \\n3�2 per cent in 2023 and from \\n4�7 per cent to around 4 per cent in \\n2024 �\\nJulian had a HELP debt of $26,500 \\nin 2023, which was the average \\noutstanding HELP loan � Following \\nthe Government's changes in \\ncalculation he will receive a credit \\nto his HELP account of $1,190 across \\nthe 2023 and 2024 years, subject to \\nthe passage of legislation � Over the \\nlife of his loan, Julian's debt would \\nbe reduced by around $1,600 �\\nBased on expectations of WPI in the \\nMarch 2024 quarter. \\nEasing cost-of-living pressures  17 \\nCost of living help and a future made in Australia   |   Budget 2024–25\"),\n",
              " Document(metadata={'source': '/content/budget-overview-final.pdf', 'page': 18}, page_content=\"A fair go for consumers \\nBetter outcomes at the checkout\\nThe cost of essential food and grocery items is placing significant pressure \\non family budgets. \\nThe Government is acting to secure fairer prices, with measures to help \\nAustralians with the cost of living and keep the pressure off into the future.\\nThe Government is examining pricing and competition in \\nthe supermarket sector �\\nIn January, the Government appointed Dr Craig Emerson to review the \\nFood and Grocery Code. Dr Emerson's interim report, released in April 2024, \\nrecommended the Code be made mandatory with penalties of up to \\n10 per cent of turnover for major breaches, to improve supplier outcomes.\\nIn February, the Government directed the Australian Competition and \\nConsumer Commission to undertake a 12-month inquiry to investigate pricing \\nand competition in the supermarket sector to ensure Australians are paying a \\nfair price for their groceries.\\nThe Government has also funded CHOICE for three years to produce quarterly \\nprice comparison reports to empower Australian consumers to make informed \\nchoices about food and grocery purchases. The first report will be released at \\nthe end of June.\\nHarnessing the energy transition for consumers\\nThe Government has committed $27.7 million to develop priority reforms to \\nensure that consumer energy resources, including rooftop solar, household \\nbatteries, and electric vehicles, continue to unlock savings and benefits for \\nall energy customers. \\nThe Government has also committed $1.8 million to support a range of energy \\nretail market reforms, including enabling consumers to switch to a better deal \\nwith just ‘one click,’ preventing contracts rolling over to higher-cost deals, \\nensuring people receive the concessions and rebates they are entitled to, \\nand reducing excess fees and charges.$1.1m\\nenhancing \\nsupermarket price \\ntransparency with \\nquarterly reporting by \\nCHOICE\\n18 Easing cost-of-living pressures\\nCost of living help and a future made in Australia   |   Budget 2024–25\"),\n",
              " Document(metadata={'source': '/content/budget-overview-final.pdf', 'page': 19}, page_content=\"Growing wages\\nStanding up for low ‑paid workers\\nThe Government's efforts to get wages moving and bring down inflation \\nhas contributed to three consecutive quarters of real wage growth for the \\nfirst time in more than five years, supporting a return to annual real wage \\ngrowth sooner than expected. The Government's continued focus on gender \\nequality has led to the Fair Work Commission undertaking research to \\nidentify occupations and industries with gender pay inequity and potential \\nundervaluation of work.\\nThe Government has backed real wage growth for low-paid workers in each \\nof the last three Annual Wage Reviews. Record increases were delivered for \\naward wage workers in 2022 and 2023, with full-time workers on the National \\nMinimum Wage earning $110 more a week than when the Government came \\nto office.\\nThe Government has committed to funding the Fair Work Commission \\ndecision to increase award wages for aged care workers, building on \\nthe $11.3 billion already allocated for the interim 15 per cent increase. \\nThe Government has also committed to provide funding towards a wage \\nincrease for the early childhood education and care workforce, with details to \\nbe finalised following the Fair Work Commission processes currently underway.   \\nEnhancing services and supports\\nFinancial wellbeing and capability \\nSupport will be boosted for Australians facing acute and urgent financial \\npressures with $138 million to meet sustained high demand for crisis support \\nincluding emergency relief, food relief and financial support services. \\nFreezing social security deeming rates \\nSocial security recipients will be supported to manage their budgets \\nby continuing the freeze on social security deeming rates for financial \\ninvestments at their current levels until 30 June 2025. This benefits around \\n876,000 income support recipients, including 450,000 Age Pensioners. \\nPaid placements for nurses, teachers and social workers\\nAround 73,000 students will receive $319.50 per week while undertaking \\nmandatory placements.$138 \\nmillion\\nfor emergency \\nrelief, food relief \\nand financial \\nsupport  services\\nEasing cost-of-living pressures  19 \\nCost of living help and a future made in Australia   |   Budget 2024–25\"),\n",
              " Document(metadata={'source': '/content/budget-overview-final.pdf', 'page': 20}, page_content='Building more \\nhomes for \\nAustralians'),\n",
              " Document(metadata={'source': '/content/budget-overview-final.pdf', 'page': 21}, page_content='Building more homes \\nfor Australians\\nHelp to build, rent and buy\\n ?New housing investment of $6.2 billion in this Budget\\n ?An extra $1 billion to states and territories to deliver new housing \\n ?$1.9 billion for a 10 per cent increase in Commonwealth Rent Assistance\\n ?Additional $1.9 billion in concessional finance for social and affordable homes\\n ?An extra $423 million for the National Agreement on Social Housing and Homelessness  \\n ?$88.8 million to deliver 20,000 new fee-free TAFE places, including pre-apprenticeship \\nprograms, in courses relevant to the construction sector\\n ?More student accommodation\\nInfrastructure and transport for more accessible cities and suburbs \\n ?An additional $16.5 billion for new and existing infrastructure projects across Australia \\nover 10 years\\n ?More money for every state: an additional $9.5 billion for projects over the forward estimates\\n ?Future-proofing Western Sydney with $2 billion to improve transport networks and plan and \\nbuild roads supporting housing developments \\n ?$2.2 billion to enhance connectivity and increase accessibility and reliability of South East \\nQueensland transport networks\\nBuilding more homes for Australians 21 \\nCost of living help and  a future made in Australia   |   Budget 2024–25'),\n",
              " Document(metadata={'source': '/content/budget-overview-final.pdf', 'page': 22}, page_content=\"Help to build, rent and buy\\nAddressing housing pressures\\nThe Government has an ambitious and comprehensive housing plan aimed \\nat easing housing shortages and affordability pressures faced across the \\ncountry by:\\n• building more homes sooner\\n• providing more support for renters\\n• providing a pathway to home ownership for low-income Australians. \\nThis Budget invests a further $6.2 billion in specific initiatives, taking the \\nGovernment's total new investment since 2022 to $32 billion. Existing \\ninvestment has been made to directly increase the supply of social and \\naffordable housing, delivering 40,000 social and affordable homes through \\nthe National Housing Accord and the Housing Australia Future Fund. This \\nis in addition to providing $2 billion to the states and territories to deliver \\naround 4,000 new and refurbished social homes through the Social Housing \\nAccelerator.  \\nSupporting  more homes\\nThe Government is making available a further $1 billion to states and territories \\nto deliver new housing – including for connecting essential services such as \\nwater, power, sewerage and roads. This investment expands on the $500 \\nmillion already committed through the Housing Support Program to support \\nenabling infrastructure to unlock more homes. \\nMore help for renters\\nA $1.9 billion investment will increase the maximum rates of Commonwealth \\nRent Assistance by a further 10 per cent to further alleviate rental stress. This \\nbuilds on the 15 per cent increase already made in September 2023, taking \\nthe increase to Commonwealth Rent Assistance maximum rates to over \\n40 per cent since May 2022 including indexation. \\nMore housing for students\\nTo deliver more accommodation for students and to reduce pressure on the \\nprivate rental market, the Government will work with the higher education \\nsector to develop regulations that will require universities to increase their \\nsupply of student accommodation. $6.2 \\nbillion\\nnew investment in \\nhousing this Budget\\n$32 \\nbillion\\ninvested in housing \\nunder this Government\\nNearly \\n1\\xa0million\\nhouseholds receiving \\nthe maximum rate of \\nCommonwealth Rent \\nAssistance, around one \\nquarter of all renters will \\nbe better off\\n22 Building more homes for Australians\\nCost of living help and a future made in Australia   |   Budget 2024–25\"),\n",
              " Document(metadata={'source': '/content/budget-overview-final.pdf', 'page': 23}, page_content='More housing support for vulnerable Australians\\nThe Budget includes funding for a new five-year, $9.3 billion National \\nAgreement on Social Housing and Homelessness with states and territories. \\nThis represents an increase of $423 million. Under the agreement, the \\nCommonwealth will double its dedicated funding for homelessness services to \\n$400 million a year – funding that states and territories must match. \\nThe Government is targeting the $1 billion increase to the National Housing \\nInfrastructure Facility to better support housing for women and children \\nexperiencing domestic violence and for youth. The funding is being \\nrebalanced to provide more up-front grants to support states and territories \\nand community housing providers to deliver more housing for these cohorts. \\nOther measures to support housing\\nThe Government is: \\n• Providing $88.8 million for 20,000 new fee-free TAFE places, including \\nincreased access to pre-apprenticeship programs, in courses relevant to the \\nconstruction sector.\\n• Providing an additional $1.9 billion in concessional loans to community \\nhousing providers and other charities to support delivery of new social and \\naffordable homes under the Housing Australia Future Fund and National \\nHousing Accord. \\n• Making a landmark $4 billion joint investment with the Northern Territory \\nGovernment to improve conditions and address overcrowding in remote \\nhousing in the Northern Territory. \\n• Allowing foreign investors to purchase established Build to Rent \\ndevelopments with a lower foreign investment fee, conditional on the \\nproperty continuing to be operated as a Build to Rent development. \\nBuilding more homes for Australians  23 \\nCost of living help and a future made in Australia   |   Budget 2024–25'),\n",
              " Document(metadata={'source': '/content/budget-overview-final.pdf', 'page': 24}, page_content='Better transport for cities,  \\nregions and suburbs\\nInvesting in infrastructure \\nThe Government is committed to investing in the infrastructure Australia needs by providing \\n$9.5 billion over the forward estimates, and $16.5 billion over 10 years, for projects that \\nimprove productivity, liveability, and sustainability. All while maintaining focus on ensuring the \\ndeliverability of the over $120 billion, ten-year infrastructure investment pipeline. \\nNew South Wales\\nInvestment of\\n$20.8 \\nbillion\\nOver ten years\\n$500 \\nmillion\\nto upgrade Mamre \\nRoad in Western \\nSydney \\n$400 \\nmillion\\nto upgrade \\npriority sections of \\nElizabeth  Drive Victoria\\nInvestment of\\n$19.2 \\nbillion\\nOver ten years\\n$3.3 \\nbillion\\nfor the North \\nEast  Link  \\n \\n$437.3 \\nmillion\\nto upgrade \\nsuburban roads in \\nsouth eastern and \\nnorthern MelbourneQueensland\\nInvestment of\\n$21.6 \\nbillion\\nOver ten years\\n$1.2 \\nbillion\\nfor the Direct \\nSunshine Coast \\nRail Line \\n$467.2 \\nmillion\\nfor the Bruce \\nHighway CorridorSouth Australia\\nInvestment of\\n$9.7 \\nbillion\\nOver ten years\\n$120 \\nmillion\\nto upgrade the \\nMount Barker and \\nVerdun Interchanges \\n$100 \\nmillion\\nto upgrade the \\nSouth Eastern \\nFreeway\\n24 Building more homes for Australians\\nCost of living help and  a future made in Australia   |   Budget 2024–25'),\n",
              " Document(metadata={'source': '/content/budget-overview-final.pdf', 'page': 25}, page_content='Western Australia\\nInvestment of\\n$8.9 \\nbillion\\nOver ten years\\n$1.7 \\nbillion\\nfor METRONET, \\nincluding a new \\nproject and funding \\nfor existing projects \\n$132.8 \\nmillion\\nfor the Great \\nNorthern Highway \\nCorridor Tasmania\\nInvestment of\\n$2.2 \\nbillion\\nOver ten years\\n$80 \\nmillion\\nto upgrade the Lyell \\nHighway between \\nGranton and \\nNew  Norfolk\\n$50 \\nmillion\\nto upgrade the \\nMornington \\nRoundaboutNorthern Territory\\nInvestment of\\n$2.8 \\nbillion\\nOver ten years\\n$237.6 \\nmillion\\nto deliver priority \\nnew projects along \\nthe Stuart, Victoria \\nand Barkley Corridor \\n$176 \\nmillion\\nto deliver three new \\nprojects along the \\nRegional Roads \\nCorridor ACT\\nInvestment of\\n$808.6 \\nmillion\\nOver ten years\\n$50 \\nmillion \\nfor the planning \\nof Stage 2B of the \\nCanberra Light Rail\\n$27.1 \\nmillion \\nfor the William Hovell \\nDrive Duplication\\nBuilding more homes for Australians  25 \\nCost of living help and a future made in Australia   |   Budget 2024–25'),\n",
              " Document(metadata={'source': '/content/budget-overview-final.pdf', 'page': 26}, page_content='Better transport for Western Sydney\\nThe Government is committed to unlocking the potential of Western Sydney, \\ninvesting $2 billion into planning and delivering more efficient regional \\ntransport networks that will transform the way communities live and move  \\nwithin Western Sydney and connect  people to jobs in the region.\\n• $1.9 billion to plan and build roads and rail that will support a growing \\npopulation by improving access to new and future housing developments \\nand emerging economic precincts.\\n• Enhancing public transport connectivity and community liveability through \\n$100 million for rapid bus infrastructure and $20 million additional funding for \\nplanning to extend the rail line from the Aerotropolis to Macarthur.\\nFurther investments will ensure the Western Sydney International (Nancy-Bird \\nWalton) Airport is ready to welcome its first travellers and freight in 2026, \\nincluding $302.6 million to enable operations.\\nMeeting the infrastructure needs of South East Queensland\\nThe Government is investing $2.2 billion in well-planned infrastructure to better \\nintegrate the South East Queensland region, accommodate future growth, \\nand support economic development.\\n• $1.4 billion will enhance rail connectivity between Brisbane and the Sunshine \\nCoast, reduce journey times and unlock future housing development. \\n• $431.7 million additional funding will be provided for the Coomera \\nConnector Stage 1 project and $39.4 million for the relocation of the \\nLoganlea Station to ensure better connectivity for the growing hubs south \\nof Brisbane.\\nThese investments to increase accessibility, capacity and reliability of transport \\nnetworks also help prepare for the 2032 Olympic and Paralympic Games. \\nBetter connections for regional and remote communities\\nA further $101.9 million is committed to upgrade regional airports and remote \\nairstrips, delivering better connections and more resilient infrastructure for \\ncommunities. A further $40 million will be invested to support the roll-out of \\nadditional community wi-fi in remote and regional Australia. \\n26 Building more homes for Australians\\nCost of living help and a future made in Australia   |   Budget 2024–25'),\n",
              " Document(metadata={'source': '/content/budget-overview-final.pdf', 'page': 27}, page_content='Building more homes for Australians  27 \\nCost of living help and a future made in Australia   |   Budget 2024–25'),\n",
              " Document(metadata={'source': '/content/budget-overview-final.pdf', 'page': 28}, page_content='Investing in a \\nFuture Made \\nin Australia'),\n",
              " Document(metadata={'source': '/content/budget-overview-final.pdf', 'page': 29}, page_content=\"Investing in a Future \\nMade in Australia\\nAttracting investment in key industries and making Australia a renewable \\nenergy  superpower\\n ?A new 'front door' for priority projects, and streamlined and strengthened approvals\\n ?$6.7 billion production tax incentive for the production of renewable hydrogen\\n ?$1.7 billion to promote net zero innovation, including for green metals and low-carbon fuels\\n ?$1.5 billion to strengthen battery and solar panel supply chains through production incentives\\nValue adding to our resources and strengthening economic security\\n ?$7 billion production tax incentive for the processing and refining of critical minerals \\n ?$566.1 million to map Australia's geological potential to support net zero transition \\n ?$14 million to build better markets through trade, promoting competitive and fair global markets \\n ?$268 million to support the development of defence industries and skills \\nInvesting in skills for priority industries and higher education\\n ?$1.1 billion to reform higher education and deliver our skilled workforce\\n ?$88.8 million for 20,000 new training places relevant to construction \\n ?$55.6 million to support women's careers in clean energy\\nStrengthening our digital, science and innovation capabilities\\n ?$466.4 million to advance Australia's quantum computing capabilities\\n ?$288.1 million to expand Digital ID into a whole-of-economy service\\n ?$448.7 million for advanced satellite data on climate, agriculture, and natural disasters \\nSupporting small business and our regions\\n ?$290 million to extend the $20,000 instant asset write-off for small businesses\\n ?$10.8 million to support the mental and financial wellbeing of small business owners\\n ?$519.1 million from the Future Drought Fund for farmers and rural communities \\nInvesting in a Future Made in Australia 29 \\nCost of living help and  a future made in Australia   |   Budget 2024–25\"),\n",
              " Document(metadata={'source': '/content/budget-overview-final.pdf', 'page': 30}, page_content=\"Attracting investment in \\nkey industries\\nMaking Australians the beneficiaries of change\\nA Future Made in Australia is about creating new jobs and opportunities for \\nevery part of our country by maximising the economic and industrial benefits \\nof the move to net zero and securing Australia’s place in a changing global \\neconomic and strategic landscape.\\nThe Government’s $22.7 billion Future Made in Australia package will \\nhelp facilitate the private sector investment required for Australia to be \\nan indispensable part of the global economy. It recognises the best \\nopportunities for Australia are at the intersection of industry, clean energy, \\nresources and human capital. It builds a stronger, more diversified and resilient \\neconomy powered by clean energy, in a way that creates secure, well-paid \\njobs in our regions and suburbs; and invests in the people, communities and \\nservices that will drive success. \\nBetter deploying capital in priority areas\\nThe Future Made in Australia package will realise Australia's potential to \\nbecome a renewable energy superpower, value-add to our resources and \\nstrengthen economic security by better attracting and enabling investment in \\npriority areas. The Government will create a Future Made in Australia Act and \\nestablish a National Interest Framework that identifies priority industries and \\nensures investments associated with them are responsible and targeted. \\nThe Framework will have a focus on industries that contribute to the net zero \\ntransformation where Australia has a comparative advantage, and where \\nAustralia has national interest imperatives related to economic resilience \\nand security. It will also allow for the setting of new Community Benefit \\nPrinciples to ensure government investment has flow-on benefits for the \\nbroader community, and will complement the Buy Australian Plan and Secure \\nAustralian Jobs Code.\\nThe Future Made in Australia package is complemented by broader \\ngovernment priorities and initiatives in this Budget, which help make our \\neconomy stronger and more resilient. These include investments in education, \\ndefence capabilities, trade and regional engagement and support for small \\nbusiness, farmers and regions.\\n30 Investing in a Future Made in Australia\\nCost of living help and a future made in Australia   |   Budget 2024–25\"),\n",
              " Document(metadata={'source': '/content/budget-overview-final.pdf', 'page': 31}, page_content=\"Strengthening and streamlining approvals \\nThe Government is making it easier to invest in transformational projects \\nby streamlining approval processes in ways that strengthen standards. \\nThrough smarter use of data, better decision-making processes and \\nappropriate resourcing, this Budget provides a faster pathway to better \\ndecisions on environmental, energy, planning, cultural heritage and foreign \\ninvestment approvals.\\nThis includes:\\n• $134.2 million to better prioritise approvals for renewable energy projects of \\nnational significance, and support faster decisions on environment, cultural \\nheritage and planning approvals. \\n• Working with the states and territories through the Energy and Climate \\nChange Ministerial Council to accelerate electricity grid connections, \\ndelivering an additional 3.2 gigawatts of capacity so far. \\n• $20.7 million to improve engagement with communities impacted by the \\nenergy transition and accelerate the delivery of key energy projects, \\nthrough a bolstered Australian Energy Infrastructure Commissioner and \\nvoluntary national developer standards. \\n• $15.7 million to strengthen scrutiny of high-risk foreign investment proposals, \\nenhance monitoring and enforcement activities and support faster decisions. \\nThe Government's stronger, more streamlined and more transparent approach \\nto foreign investment aims to attract the significant foreign capital flows that \\nAustralia needs. The Government will also encourage foreign investment \\nby providing refunds of 75 per cent of application fees for unsuccessful \\ncompetitive bids. \\nPromoting sustainable finance\\nThe Government is committing $17.3 million to mobilise private sector \\ninvestment in sustainable activities. This includes extending Australia's \\nsustainable finance taxonomy to the agriculture sector and developing \\na labelling regime for financial products marketed as sustainable. The \\nGovernment will also examine opportunities to improve data quality and \\nprovide $1.3 million to develop and issue guidance for best practice transition \\nplans. This builds on the Government's climate disclosure legislation and the \\nissuance of around $7 billion of sovereign green bonds in 2023–24. $134.2 \\nmillion\\nto improve approval \\nprocesses \\nInvesting in a Future Made in Australia  31 \\nCost of living help and a future made in Australia   |   Budget 2024–25\"),\n",
              " Document(metadata={'source': '/content/budget-overview-final.pdf', 'page': 32}, page_content=\"Making Australia a renewable \\nenergy  superpower\\nPowering Australia with cheaper, cleaner, more reliable energy\\nAustralia's potential to produce abundant renewable energy is a powerful \\nsource of comparative advantage. To realise this, the Government is unlocking more than $65 billion of investment in renewable capacity through the Capacity Investment Scheme by 2030. \\nThis Budget helps Australians benefit from cheaper, cleaner energy sooner by \\ninvesting $27.7 million to integrate consumer energy resources like batteries and solar into the grid. \\nThe New Vehicle Efficiency Standard will save Australians around $95 billion at \\nthe bowser by 2050 and reduce transport emissions. \\nUnlocking investment in net zero industries and jobs\\nThe Government is creating new jobs and opportunities for all by maximising the economic and industrial benefits of the transition. This Budget accelerates growth of new industries by establishing the $1.7 billion Future Made in Australia Innovation Fund and delivering a 10-year extension of funding to the Australian Renewable Energy Agency. It also delivers the $44.4 million Energy Industry Jobs Plan and $134.2 million for skills and employment support in key regions. \\nThe Future Made in Australia package establishes time-limited incentives \\nto invest in new industries. The Hydrogen Production Tax Incentive will make Australia's pipeline of hydrogen projects commercial sooner, at an estimated cost of $6.7 billion over the decade. This Budget also expands the Hydrogen Headstart program by $1.3 billion, supporting early movers to invest in the industry's development. \\nGreen metals and low-carbon liquid fuels are also key to the net zero \\ntransformation, and this Budget supports consultation to accelerate investment and incentivise efficient production in these sectors. \\nThese complement incentives that build economic resilience, including the \\n10 per cent production tax incentive for the processing and refining of critical \\nminerals, and  investments in clean energy technology supply chains.$8 \\nbillion \\nover the decade to \\naccelerate investment in renewable hydrogen\\n32 Investing in a Future Made in Australia\\nCost of living help and a future made in Australia   |   Budget 2024–25\"),\n",
              " Document(metadata={'source': '/content/budget-overview-final.pdf', 'page': 33}, page_content=\"Boosting demand for Australia's green exports\\nThe Government is making it easier for businesses and trading partners \\nto source low-emissions products by building better markets and product \\nstandards for green products. \\nThis Budget provides $32.2 million to fast-track the initial phase of the \\nGuarantee of Origin scheme, focused on renewable hydrogen, and bring \\nforward the expansion of the scheme to accredit the emissions content of \\ngreen metals and low-carbon liquid fuels. The Government is also working \\nclosely with trading partners to identify opportunities to drive greater supply \\nchain transparency and better market recognition of high environmental, \\nsocial and governance standards in the critical minerals sector.\\nRealising the opportunities of the net zero transformation\\nAustralia is committed to reaching net zero greenhouse gas emissions \\nby 2050 and is developing six sector plans covering electricity and energy, \\ntransport, industry, resources, agriculture and land, and the built environment.  \\nThis Budget continues the Government's investment in effective emissions \\nabatement, including through $63.8 million to support emissions reduction \\nefforts in the agriculture and land sector. \\nThe Government is also investing $399 million to establish the Net Zero \\nEconomy Authority and support the economy-wide net zero transformation \\nthat is underway by acting as a catalyst for private and public investment, \\nmajor project development, employment transition and skills and community \\ndevelopment. This Budget also strengthens community engagement in \\nand benefits from the transition by investing an additional $48 million in the \\nreforms to the Australian Carbon Credit Unit scheme and $20.7 million to \\nimprove community engagement and realise community benefits for regional \\ncommunities affected by the energy transition.$95 \\nbillion\\nin savings at the fuel \\nbowser by 2050\\nInvesting in a Future Made in Australia  33 \\nCost of living help and a future made in Australia   |   Budget 2024–25\"),\n",
              " Document(metadata={'source': '/content/budget-overview-final.pdf', 'page': 34}, page_content=\"Adding value to resources and \\nstrengthening economic security\\nBacking a strong resources sector \\nThe Government is investing $8.8 billion over the decade to add more value \\nto our resources and strengthen critical minerals supply chains. This Budget establishes a production tax incentive for processing and refining of critical minerals at an estimated cost of $7 billion over the decade. It also commits up to $1.2 billion in strategic critical minerals projects through the Critical Minerals Facility and the Northern Australia Infrastructure Facility, and in pre-feasibility studies for common user precincts. This is in addition to $566.1 million to support Geoscience Australia to map all of Australia's critical minerals, strategic materials, groundwater and other resources essential for the transition to net zero.\\nManufacturing clean energy technologies\\nThe Government is also committing $1.5 billion to manufacturing of clean \\nenergy technologies, including the $1 billion Solar Sunshot and $523.2  million \\nBattery Breakthrough Initiative. These investments will be delivered by ARENA and help scale Australian innovations and strengthen supply chain resilience.\\nStrengthening supply chains \\nTo support the delivery of the 82 per cent renewable energy target, the Government has formed the National Renewable Energy Supply Chain Action Plan with states and territories. The Government will also invest an additional $14.3 million to improve the competitiveness of the Australian economy by working with trade partners to support global rules on unfair trade practices and to negotiate benchmarks for trade in high quality critical minerals.\\n$8.8 \\nbillion\\nover the decade to incentivise onshore refining \\nand processing of \\nour critical minerals\\n34 Investing in a Future Made in Australia\\nCost of living help and a future made in Australia   |   Budget 2024–25\"),\n",
              " Document(metadata={'source': '/content/budget-overview-final.pdf', 'page': 35}, page_content=\"Investing in digital, \\nscience  and innovation\\nScience and research lay the foundations for new industries and productivity \\ngrowth. This Budget invests in the data, technology and capabilities that will underpin future innovations. \\nInvesting in new technologies and capabilities \\nBuilding on Australia's existing strengths in research and applied technology, the Government is investing $466.4 million to partner with PsiQuantum and the Queensland Government to make PsiQuantum the anchor tenant of a quantum precinct located in Brisbane, Australia. They will build the world's first commercial-scale quantum computer, and deliver skills, education, research, and industry commitments. \\nTo grow our core science and innovation capability, the Government will \\nundertake a strategic examination of Australia's research and development (R&D) system to grow investment in R&D and build a more resilient, dynamic \\neconomy. To increase diversity in education and industry, $38.2  million will be \\ninvested in a range of science, technology, engineering, and maths programs.\\nThe Government is providing $448.7 million to partner with the United States \\nin the Landsat Next satellite program to provide access to critical data to monitor the earth’s climate, agricultural production, and natural disasters.\\nModernising and digitising industries\\nThe Government is guiding the safe and responsible development of \\ntechnologies. This Budget $288.1  million is being committed to support \\nthe further delivery and expansion of Australia’s Digital ID System so more Australians can realise the economic, security and privacy benefits of Digital ID. A National Robotics Strategy will also be released to promote the responsible production and adoption of robotics and automation technologies for advanced manufacturing in Australia.  \\n$466.4 \\nmillion\\ninto PsiQuantum to advance Australia's quantum computing capabilities\\nInvesting in a Future Made in Australia  35 \\nCost of living help and a future made in Australia   |   Budget 2024–25\"),\n",
              " Document(metadata={'source': '/content/budget-overview-final.pdf', 'page': 36}, page_content=\"Reforming tertiary \\neducation\\nThe Government is committing $1.6 billion over 5 years, and an \\nadditional $2.7 billion from 2028–29 to 2034–35 to reform our tertiary education system and deliver our future workforce. \\nThis includes $1.1 billion for landmark reforms to university \\nfunding and tertiary system governance, which will drive higher levels of attainment, broaden access and support a more integrated tertiary education system that is responsive and adaptable to skills needs. \\nThe Budget also invests to deliver on immediate skills needs, \\nproviding over $500 million for skills and training in priority industries and to support women's participation in these sectors.\\nThe investments will help more people take advantage of the \\nopportunities that come with higher education. Attaining a bachelor degree is estimated to increase lifetime earnings by 60 per cent relative to having a highest level of education of \\nyear  11 or below. \\nThe Government will set a tertiary \\nattainment target of 80 per  cent of the \\nworking-age population to have a tertiary \\nqualification by 2050 � \\nSupporting students on placements\\nThe Government will establish Commonwealth Prac Payments (CPP) for students undertaking mandatory placements. From 1 July 2025, the payment will provide more than 73,000 eligible students, including teachers, nurses, midwives and social workers with $319.50 per week during their placements.\\nBroadening access to university \\nTo drive growth in tertiary participation, the Government \\nwill reform the university funding model. From January  2026, \\nneeds-based funding will provide per student funding contributions for under-represented students. The Government will also provide $350.3 million to fully fund university enabling courses and increase pathways for prospective students to university. Felicity is a full-time student \\nreceiving Youth Allowance, living by \\nherself �  She is studying a Bachelor \\nof Nursing and must stop paid work during her mandatory prac \\nplacement �  \\nDuring her prac, Felicity receives \\n$712 �0 5 per week from the \\nGovernment including: $319 � 50 of \\nCPP , $285 �55 o f Youth Allowance \\n(YA), $103 �5 0 of Commonwealth \\nRent Assistance (CRA) and $3 �5 0 of \\nEnergy Supplement �  \\nFelicity receives $351 �55 a w eek \\nmore than she would have in 2023 before indexation and the changes \\nto YA, CRA and CPP in the current \\nand 2023–24 Budget �\\nSingle, away from home rate of Youth Allowance \\n(student) \\n36 Investing in a Future Made in Australia\\nCost of living help and a future made in Australia   |   Budget 2024–25\"),\n",
              " Document(metadata={'source': '/content/budget-overview-final.pdf', 'page': 37}, page_content=\"Investing in the skills pipeline for priority industries\\nSkills and training for Future Made in Australia industries\\nThe Government will expand eligibility to the New Energy Apprenticeships \\nProgram to include apprentices with exposure to work in clean energy, \\nincluding in construction and advanced manufacturing. This will provide \\naccess to $10,000 incentive payments and support our target of 10,000 new \\nenergy apprentices. \\nTo further support renewable energy superpower ambitions, the Government \\nwill commit $30 million to turbocharge the VET teaching workforce for clean \\nenergy courses and $50 million to support clean energy training facility \\nupgrades and expansion.\\nDelivering the skills for a Future Made in Australia will require more women \\nworking in male-dominated sectors. The Government will invest $55.6 million \\nto establish the Building Women's Careers program to support women’s \\nparticipation in key industries including clean energy and advanced \\nmanufacturing. The program will help to drive structural change and broaden \\nthe employment opportunities of a Future Made in Australia.\\nSupporting apprentices and building the construction workforce \\nThe Government has committed to maintaining $5,000 support payments to \\napprentices in priority occupations for another 12 months to 1 July 2025, up \\nfrom $3,000 in the absence of any changes. Employers of these apprentices \\nwill receive a $5,000 hiring incentive, up from $4,000 in the absence of \\nchanges. This will provide certainty to apprentices while the Strategic Review \\nof the Apprenticeship Incentive System is underway.\\nThe Government will also invest $88.8 million to deliver 20,000 new fee-free \\nTAFE places including pre-apprenticeships in courses relevant to the \\nconstruction sector. The Government will also provide $1.8 million to deliver \\nstreamlined skills assessments for around 1,900 migrants from comparable \\ncountries to work in Australia’s housing construction industry.$55.6 \\nmillion\\nto support women's \\nparticipation in male \\ndominated industries\\n20,000\\nmore fee-free \\nTAFE  places \\n$10,000 \\napprentice incentive \\npayment for clean \\nenergy sector \\napprenticeships\\nInvesting in a Future Made in Australia  37 \\nCost of living help and a future made in Australia   |   Budget 2024–25\"),\n",
              " Document(metadata={'source': '/content/budget-overview-final.pdf', 'page': 38}, page_content=\"Strengthening our defence \\nindustry capability \\nAn integrated and focused approach \\nto defending  Australia\\nThe Government is investing an additional $50 �3 billion \\nover ten years to implement the 2024 National Defence \\nStrategy to meet Australia’s strategic needs�  \\nOverall funding for Defence will reach $765 billion over the decade. Defence’s \\nIntegrated Investment Program has been rebuilt to create a focused \\nAustralian Defence Force, accelerate delivery of priority capabilities, and \\nprovide certainty to grow Australia's defence industry. This includes funding \\nfor the Royal Australian Navy's surface combatant fleet and establishing a \\nguided weapons and explosive ordnance manufacturing capability earlier \\nin Australia.\\nThe Government is reforming Defence’s budget to maximise value for \\nmoney,  transparency, and assurance to support the National Defence \\nStrategy and delivery of priority capabilities. \\nDeveloping defence industry and skills\\nThe Government will help develop the capable, innovative and competitive \\nsovereign industrial base we need and reform Defence procurement to \\nstreamline tendering processes and speed up capability acquisition. Industry \\ndevelopment grants funding of $165.7 million will also help businesses to \\nscale up and deliver the Sovereign Defence Industrial Priorities, which include \\ncontinuous naval shipbuilding and sustainment, and development and \\nintegration of autonomous systems.\\nThe Government is also providing $101.8 million to attract and retain the skilled \\nindustrial workforce needed to support Australian shipbuilding and delivery of \\nour conventionally-armed, nuclear -powered submarines. This includes a pilot \\napprenticeship program in trades and technologies specific to shipbuilding. \\nInvesting in civil maritime capabilities\\nThe Government is continuing to safeguard Australia's border security by \\nproviding $123.8 million to maintain and enhance civil maritime security \\ncapabilities. This includes $71.2 million to increase the Australian Border \\nForce's on-water response and aerial surveillance capabilities. \\n38 Investing in a Future Made in Australia\\nCost of living help and a future made in Australia   |   Budget 2024–25\"),\n",
              " Document(metadata={'source': '/content/budget-overview-final.pdf', 'page': 39}, page_content=\"Securing Australia's place \\nin the world\\nStrengthening relationships and simplifying trade\\nA stable, prosperous and resilient Pacific region \\nThe Government is delivering over $2 billion in development assistance to the \\nPacific in 2024–25, maintaining Australia's position as one of the region's most \\ncomprehensive development partners. This includes delivery of the historic \\nAustralia-Tuvalu Falepili Union.\\nInvesting in our relationship with Southeast Asia\\nAustralia’s prosperity, security and economic future is intimately tied to our \\nstrong relationships within Southeast Asia. Following the launch of Australia’s \\nSoutheast Asia Economic Strategy to 2040, the Government is committing \\n$505.9 million to deepen ties with the region. \\nAustralia recently celebrated 50 years of partnership with the Association of \\nSoutheast Asian Nations (ASEAN). At the ASEAN-Australia Special Summit, the \\nGovernment announced a range of new and expanded initiatives, including \\na $2 billion Southeast Asia Investment Financing Facility to boost Australian \\ntrade and investment. \\nSimplifying trade\\nFrom 1 July 2024 the Government will abolish 457 nuisance tariffs, \\nstreamlining $8.5 billion in annual trade and eliminating tariffs on goods such \\nas toothbrushes, fridges, dishwashers, clothing, and sanitary products. \\nThe Government will provide $29.9 million to coordinate trade simplification \\nand deliver the Digital Trade Accelerator program, and $10.9 million to \\nenhance the Go Global Toolkit to support exporters.  \\nThe Government is expanding the successful Australia-India Business \\nExchange, diversifying trade and helping even more Australian businesses build \\ncommercial ties with India and across South Asia. There will also be $2 million to \\nsupport Australian agricultural exporters enter the Chinese markets.Over \\n$2\\xa0billion\\nin development \\nassistance to the \\nPacific in 2024–25 \\n$505.9 \\nmillion\\nover five years funding \\nto deepen ties with \\nSoutheast  Asia\\nInvesting in a Future Made in Australia  39 \\nCost of living help and a future made in Australia   |   Budget 2024–25\"),\n",
              " Document(metadata={'source': '/content/budget-overview-final.pdf', 'page': 40}, page_content=\"Support for small businesses \\nHelping small businesses \\nThis Budget's Small Business Statement reaffirms the Government's \\ncommitment to deliver a better deal for small businesses, with $641.4 million \\nin targeted support for small businesses. \\nImproving cash flow\\nThe Government is supporting small business cash flow by providing \\n$290 million to extend the $20,000 instant asset write-off for 12 months, \\n$25.3 million to improve payment times to small businesses and $23.3 million \\nto increase eInvoicing adoption, which will also disrupt payment redirection \\nscams and boost productivity. \\nEasing cost pressures and reducing the administrative burden\\nThis Budget provides $3.5 billion of energy bill relief, including rebates of \\n$325 to around one million small businesses. \\nThe Government is reducing the administrative burden for small business by \\nabolishing 457 nuisance tariffs and delivering $10 million to provide additional \\nsupport for small business employers administering the Paid Parental Leave \\nscheme. \\nSupporting confidence and resilience in the small business sector \\nThis Budget invests a further $10.8 million to deliver tailored, free and \\nconfidential financial and mental wellbeing supports for small business owners. \\nTo help small businesses understand and comply with recent workplace \\nrelations changes, the Government is providing $20.5 million to the Fair Work \\nOmbudsman. \\nThe Government is providing $3 million to implement the Government's \\nresponse to the Review of the Franchising Code of Conduct, including \\nremaking and enhancing the Code, and an additional $2.6 million to support \\nmore small businesses through alternative dispute resolution. $325 \\nfor around one million \\nsmall businesses\\n40 Investing in a Future Made in Australia\\nCost of living help and a future made in Australia   |   Budget 2024–25\"),\n",
              " Document(metadata={'source': '/content/budget-overview-final.pdf', 'page': 41}, page_content=\"A more resilient Australia\\nPreparing for the future\\nThe Government is investing both in preparing for future \\ndroughts and for the heightened risk of natural disasters. \\nDisaster resilience and preparedness\\nThe Government will provide $138.7 million to improve Australia's response and resilience to natural hazards and disasters. Support includes funding for the National Emergency Management Agency to supply communities with vital goods, equipment, and temporary accommodation during an emergency, aerial firefighting capability, and \\nmental health support. This is in addition to the $11.4  billion \\npreviously committed for Disaster Recovery Funding Arrangements for the states and territories. \\nThe Government is establishing a pilot program for Australia's \\nStrategic Fleet. These vessels will improve Australia's capacity to respond and support communities and supply chains during crises.\\nPreparing for drought and climate change \\nThis Budget provides $174.6 million from the National Water \\nGrid Fund to deliver new water infrastructure projects that  will \\nenhance water security, boost agricultural production and \\nhelp drought -p roof regional communities.$510 million\\nin Government spending in 2024–25 to \\nrespond, recover and build resilience \\nto natural disasters\\nThe Government will provide \\n$519�1  million from its Future Drought \\nFund to help farmers and rural \\ncommunities manage climate \\nchange impacts and prepare for \\nfuture droughts �  \\nThis will build the drought resilience \\nof more farmers like Victorian \\ncropper Ed Rickard �  \\nThe Fund supported Ed in developing a better farm business \\nplan, which identified his need \\nfor weather stations and soil \\nmoisture probes �  It also helped him \\nimplement a succession plan that \\nensured his farm’s long-term viability � \\nInvesting in a Future Made in Australia  41 \\nCost of living help and a future made in Australia   |   Budget 2024–25\"),\n",
              " Document(metadata={'source': '/content/budget-overview-final.pdf', 'page': 42}, page_content='Strengthening \\nMedicare and \\nthe\\xa0care economy'),\n",
              " Document(metadata={'source': '/content/budget-overview-final.pdf', 'page': 43}, page_content='Strengthening Medicare \\nand the care economy\\n ?$2.8 billion to strengthen Medicare and boost our world-class health system\\n ?$3.4 billion for new and amended listings on the Pharmaceutical Benefits Scheme\\n ?$825.7 million to continue to test for and vaccinate against COVID-19\\n ?$888.1 million to help people get the mental health care they need\\n ?$2.2 billion to improve aged care\\n ?$468.7 million to support people with disability and get the NDIS back on track \\n ?$227.6 million for a new specialised disability employment program to support approximately \\n270,000 Australians with disability to prepare for and find work \\n ? $1.8 billion to support additional frontline staff at Services Australia \\n ?$630.3 million to sustain, secure and enhance myGov \\n ?$314.1 million to enhance safety and security at Services Australia\\n ?Funding set aside towards increased aged care and early childhood education and \\ncare  wages\\nStrengthening Medicare and the care economy 43 \\nCost of living help and  a future made in Australia   |   Budget 2024–25'),\n",
              " Document(metadata={'source': '/content/budget-overview-final.pdf', 'page': 44}, page_content='High ‑quality health \\nservices through Medicare\\nBoosting access to essential health services \\nBuilding a better system\\nThe Government is investing $2.8 billion to continue its \\ncommitment to strengthen Medicare. This includes the \\n$1.2 billion package to address pressures facing the health \\nsystem, which provides:\\n• $882.2 million to support older Australians avoid hospital \\nadmission, be discharged from hospital earlier and improve \\ntheir transition out of hospital to other appropriate care. \\n• $227 million to deliver a further 29 Medicare Urgent Care \\nClinics and boost support for regional and remote clinics. \\nThis will increase the total number of clinics across Australia \\nto 87. Since commencing last year, existing clinics have \\nalready provided almost 400,000 bulk billed visits.  \\n• $90 million to address health workforce shortages by \\nmaking it simpler and quicker for international health \\npractitioners to work in Australia.\\nImproving health outcomes\\nAlmost half of Australians live with a chronic condition. This \\nBudget will provide $141.1 million for research and services for \\npeople living with chronic conditions, including bowel and \\nskin cancer, diabetes and dementia.\\nTo improve health outcomes, the Government is also providing:\\n• Support for Australians to enjoy healthier, more active \\nlives by investing $132.7 million in sport participation and \\nperformance programs. \\n• $825.7 million to ensure Australians can continue to \\naccess testing for and vaccinations against COVID-19. \\nThe Government is also ensuring continued access to \\noral antiviral medicines on the Pharmaceutical Benefits \\nScheme (PBS).\\n• $41.6 million over two years to continue funding for alcohol \\nand other drug treatment and support services, including \\nthe Good Sports alcohol management program for \\ncommunity sporting clubs. Rohan’s daughter Zoya has been \\noff school with a runny nose and a \\ncough � By 6pm, she is lethargic and \\nhas a fever � Rohan is concerned \\nbecause his regular GP is now \\nclosed � Instead of waiting for hours \\nat the emergency department, he \\ntakes Zoya to a Medicare Urgent \\nCare Clinic , without having to make \\nan appointment � During the bulk \\nbilled visit, Zoya is diagnosed with \\nan infection by the doctor and \\nprescribed appropriate medication � \\nRohan and Zoya leave within an \\nhour of arrival� Zoya makes a full \\nrecovery � \\n44 Strengthening Medicare and the care economy\\nCost of living help and a future made in Australia   |   Budget 2024–25'),\n",
              " Document(metadata={'source': '/content/budget-overview-final.pdf', 'page': 45}, page_content=\"The Government is also allocating an additional $411.6 million (for a total \\n$1.6 billion over 13 years) through the Medical Research Future Fund to \\ncontinue existing research missions and to introduce two new research \\nmissions for low-survival cancers and reducing health inequities.\\nImproving access to medicines\\n• The Government is investing $3.4 billion for new and amended listings to the \\nPBS providing eligible patients with significant savings on treatment costs.\\n• By expanding the Closing the Gap PBS Co-payment Program, eligible \\nFirst Nations patients will have free or cheaper access to all PBS medicines.\\n• Australians will benefit from $141.1 million being provided to support and \\nexpand the National Immunisation Program. \\nMental health support \\nAlmost half of Australians will experience a mental health concern in their \\nlifetime. The Government is committed to creating a system where Australians \\ncan access quality and affordable care when and where they need it. \\nThis Budget continues this commitment by strengthening the mental health \\nsystem and responding to recommendations made in the independent \\nevaluation of the Better Access initiative, which provides Medicare-subsidised \\ntreatment services. \\nThe Government's $888.1 million mental health package over eight years will \\nhelp people get the care they need, while relieving pressure on the Better \\nAccess initiative and making it easier to access services.\\nTo address the gap for people with mild mental health concerns, a new \\nnational, free low-intensity digital service will be established. From 1 January \\n2026, every Australian will be able to access this free service without a referral, \\nproviding timely, high quality mental health support. Once fully established, \\n150,000 people are expected to make use of this service each year.\\nThe Government is also improving access to free mental health services through a \\nnetwork of walk-in Medicare Mental Health Centres, built on the established Head \\nto Health network. The upgraded national network of 61 Medicare Mental Health \\nCentres will be open by 30 June 2026. They will provide clinical services for adults \\nwith moderate to severe mental health needs. \\nFor people who have complex needs, the Government is providing funding \\nfor Primary Health Networks to work in partnerships with GPs to deliver \\nmultidisciplinary wraparound supports and care coordination.$1.2 \\nbillion\\nworking with \\nstates to further \\nstrengthen Medicare, \\nreduce  pressure \\non hospitals and \\ndeliver on the health \\nworkforce \\n$888.1 \\nmillion\\nmental health \\npackage to ensure \\npeople get the \\nsupport they need\\nStrengthening Medicare and the care economy  45 \\nCost of living help and a future made in Australia   |   Budget 2024–25\"),\n",
              " Document(metadata={'source': '/content/budget-overview-final.pdf', 'page': 46}, page_content=\"Improving the  \\naged care system\\nProviding quality care\\nThe Government is committed to supporting older Australians to receive the \\nquality care they need in the later years of their lives. This Budget provides \\n$2.2 billion to deliver key aged care reforms and to continue to implement \\nrecommendations from the Royal Commission into Aged Care Quality and \\nSafety.\\nThe Government's new Aged Care Act will put the rights and needs of older \\npeople at the centre of the aged care system. The new Act will provide the \\nframework for fundamental change within the aged care sector. \\nThe Government has already delivered priority reforms to improve quality of \\nlife for older Australians in aged care including:\\n• 24/7 nurses on-site in aged care homes \\n• Ensuring providers deliver a sector average of 200 care minutes per resident \\nper day\\n• Introducing star ratings to assist older Australians to make informed choices\\n• Increasing transparency in how providers manage their money through \\nDollars to Care.\\nThe Government is continuing to develop and consult on a new Aged Care \\nAct, which will establish a new Support at Home program and improve the \\nstandard of in-home aged care.$2.2 \\nbillion\\nto deliver key \\naged care reforms \\nand to continue \\nto implement \\nrecommendations \\nfrom the Royal \\nCommission into Aged \\nCare Quality and \\nSafety\\n46 Strengthening Medicare and the care economy\\nCost of living help and a future made in Australia   |   Budget 2024–25\"),\n",
              " Document(metadata={'source': '/content/budget-overview-final.pdf', 'page': 47}, page_content='More Home Care Packages\\nMost Australians want to be able to age in place and remain in their homes as \\nlong as they are able. To support older Australians the Government is investing \\n$531.4 million to release an additional 24,100 Home Care Packages in 2024–25 \\nto reduce average wait times and to support people to age at home if that is \\ntheir preference.\\nImproving aged care \\nThe Government wants an aged care system that Australians can trust and \\nhave confidence in. The Government is providing funding of $110.9 million over \\n4 years to increase the regulatory capability of the Aged Care Quality and \\nSafety Commission. \\nThe Government is investing $1.2 billion in critical digital systems to support the \\nintroduction of the new Aged Care Act and deliver a contemporary IT system. \\nThe Government is providing $37 million for the My Aged Care Contact Centre \\nto reduce wait times for people seeking information and access to aged care.\\nHigher wages for aged care workers\\nThe Royal Commission into Aged Care Quality and Safety found that higher \\nwages in aged care are necessary for staff attraction and high-quality care. \\nTo support fair wages for care workers, the Government has committed to \\nfund the Fair Work Commission decision to increase the award wage for direct \\nand indirect aged care workers once the final determination is made. This will \\nbuild on the $11.3 billion already allocated to support the interim 15 per cent \\nwage increase for aged care workers.\\nThe Government is also providing $87.2 million for workforce initiatives to \\nattract nurses and other workers into aged care.\\nStrengthening Medicare and the care economy  47 \\nCost of living help and a future made in Australia   |   Budget 2024–25'),\n",
              " Document(metadata={'source': '/content/budget-overview-final.pdf', 'page': 48}, page_content=\"Reforming the disability sector\\nBetter and more sustainable services\\nGetting the National Disability Insurance Scheme (NDIS) back on track \\nThe Government is committed to improving outcomes for NDIS participants \\nand ensuring every dollar of NDIS funding goes to those who need it most.\\nIn this Budget, the Government is providing a further $468.7 million to \\nsupport people with disability and get the NDIS back on track. Key \\ninvestments include:\\n• $214 million over two years to fight fraud and to co-design NDIS reforms with \\npeople with disability, announced earlier this year\\n• $160.7 million to upgrade the NDIS Quality and Safeguards Commission's \\ninformation technology\\n• $45.5 million to establish a NDIS Evidence Advisory Committee\\n• $20 million to start consultation and design on reforms to help NDIS \\nparticipants and people with disability navigate services.\\nThis builds on $732.9 million provided in the 2023–24 Budget.\\nOn 27 March 2024 the Government introduced the Getting the NDIS Back on \\nTrack Bill to Parliament. The Government’s legislative reforms are aimed at \\ngetting the scheme back on track and securing its future.\\nIn December 2023, National Cabinet agreed to work together to improve the \\nexperience of participants and restore the original intent of the Scheme to \\nsupport people with permanent and significant disability, within a broader \\necosystem of supports. This builds on an earlier decision by National Cabinet \\nto ensure Scheme sustainability and achieve an 8 per cent growth target by \\n1 July 2026, with further moderation as the NDIS matures.\\nImproving employment for people with disability \\n$227.6 million will be invested in a new specialised disability employment \\nprogram to replace the existing Disability Employment Services program \\nby 1 July 2025. This includes investing in a modern digital platform to deliver \\nbetter supports to providers and participants. These reforms will support more \\npeople with disability into sustainable work, through a program with greater \\nflexibility, increased individual supports, and better service quality. Eligibility \\nwill also be expanded to include volunteers outside the income support \\nsystem and those with less than eight hours per week work capacity.$160.7 \\nmillion\\nto better protect \\nthe safety of NDIS \\nparticipants\\n$227.6 \\nmillion\\ninvested in a new \\nspecialised disability \\nemployment program\\n48 Strengthening Medicare and the care economy\\nCost of living help and a future made in Australia   |   Budget 2024–25\"),\n",
              " Document(metadata={'source': '/content/budget-overview-final.pdf', 'page': 49}, page_content=\"Delivering essential services\\nInvesting in reliability and security \\nStrengthening resourcing for Services Australia \\nThe Government is delivering safer and more efficient government services for \\nall Australians.\\nIn this Budget $1.8 billion will be provided to support the delivery of customer \\nand payment services. This includes funding for frontline and service delivery \\nstaff to manage claims, respond to natural disasters and improve the cyber \\nsecurity environment. The Government is also providing $314.1 million over two \\nyears to significantly strengthen safety and security at Services Australia centres.\\nTo ensure that the millions of Australian myGov accounts remain contemporary, \\nsecure, and fit -for-purpose, the Government is investing $580.3 million over \\n4 years and $139.6 million per year ongoing to sustain the myGov platform \\nand identify potential enhancements. A further $50 million will also improve \\nthe usability, safety and security of the myGov platform and ensure Services \\nAustralia can support people to protect their information and privacy. \\nStrengthening the Australian Taxation Office (ATO) against fraud \\n$187.4 million is being provided to better protect taxpayer data and \\nCommonwealth revenue against fraudulent attacks on the tax and \\nsuperannuation systems. Funding will upgrade the ATO's information and \\ncommunications technologies and increase their fraud prevention capabilities. \\nThis will ensure the ATO has dedicated resources to manage increasing risk, \\nprevent revenue loss, and support victims of fraud and cyber crime. \\nLooking after our veterans\\nVeterans' claims processing remains an important priority for the Government \\nwith an additional $186 million investment for staffing resources and \\n$8.4 million to improve case management and protect against cyber risk. \\nHaving successfully eliminated the claims backlog in early 2024, these \\ninvestments will ensure claims processing continues to be appropriately \\nresourced now and systems are improved into the future. The Government will \\nprovide $222 million to harmonise veterans' compensation and rehabilitation \\nlegislation, creating a simpler system so veterans and their families can more \\neasily get the support they are entitled to.\\nA further $48.4 million will be available for Veterans’ Home Care \\nand Community Nursing programs and $10.2 million to provide access to \\nfunded medical treatment for ill and injured veterans while their claims for \\nliability are processed. \\n$2.8 \\nbillion\\nto improve delivery of \\ngovernment services\\nOver  \\n25\\xa0million\\nmyGov accounts will \\nbe maintained and \\nkept  secure\\nStrengthening Medicare and the care economy  49 \\nCost of living help and a future made in Australia   |   Budget 2024–25\"),\n",
              " Document(metadata={'source': '/content/budget-overview-final.pdf', 'page': 50}, page_content='Broadening \\nopportunity and \\nadvancing equality'),\n",
              " Document(metadata={'source': '/content/budget-overview-final.pdf', 'page': 51}, page_content=\"Broadening opportunity \\nand advancing equality \\n ?Delivering $925.2 million for financial assistance and support services for victim -survivors \\nleaving a  violent partner\\n ?$1.1 billion to pay superannuation on Government-funded Paid Parental Leave, benefiting \\n180,000 families each year\\n ?Addressing gender-based violence in higher education\\n ?$56.1 million to support women's sexual and reproductive health initiatives\\n ?$777.4 million to develop local jobs, services and economic opportunities in remote regions\\n ?$111.1 million to improve remote First Nations communities' access to essential services in the \\nNorthern Territory\\n ?$41.2 million in targeted support for JobSeeker Payment recipients with additional \\nbarriers to work\\n ?$68 million to roll out community wi-fi in remote communities and better support \\ndigital literacy\\n ?$53.8 million to establish First Nations language centres and expand learning services\\n ?$29.1 million to partner with First Nations community-controlled peak bodies to improve early \\nchildhood and education  outcomes\\n ?Establishing the $100 million Outcomes Fund and supporting place-based strategies in skills \\nand employment\\nBroadening opportunity and advancing equality  51 \\nCost of living help and  a future made in Australia   |   Budget 2024–25\"),\n",
              " Document(metadata={'source': '/content/budget-overview-final.pdf', 'page': 52}, page_content=\"Progressing equality, \\nsupporting  women\\nStanding up for women's health and safety\\nFinancial assistance for victim-survivors leaving a violent partner\\nThe Government is investing $925.2 million over 5 years from 2023–24 to provide \\nsupport for victim-survivors leaving a violent intimate partner relationship \\nincluding support for migrants, regardless of their visa status. This includes \\ncontinuing existing trials until mid–2025 and then establishing the permanent \\nLeaving Violence Program.\\nUnder the new program, victim-survivors can access up to $5,000 in financial \\nsupport, which will be indexed annually to ensure the payment meets the \\nrising cost of living. Additional support services will also be available through \\nthe program including safety planning, risk assessment and referrals to other \\nservices for up to 12 weeks.\\nAddressing gender-based violence in higher education\\nThe Government is committed to strengthening accountability for systemic \\ngender-based violence issues in higher education by:\\n• establishing an independent National Student Ombudsman to investigate \\nstudent complaints and help to resolve disputes with universities\\n• introducing a National Higher Education Code to Prevent and Respond to \\nGender-based Violence.\\nThese investments, alongside additional efforts to prevent and respond \\nto gender-based violence in this Budget, form part of the Government's \\n$3.4 billion total investment for women's safety and to support the National \\nPlan to End Violence Against Women and Children 2022–2032. This is \\ncomplemented by the actions agreed by governments at the National \\nCabinet on gender-based violence held on 1 May 2024. \\nInvesting in women's health \\nThe Government is investing $56.1 million over 4 years in initiatives that will \\nimprove access to sexual and reproductive healthcare for women across the \\nlife-course. This includes training for GPs to provide better menopause care, \\nand to become qualified in the insertion and removal of long-acting reversible \\ncontraceptives. It also includes the delivery of free period products in rural and \\nremote Aboriginal and Torres Strait Islander communities.$925.2 \\nmillion \\nto provide support \\nto victim-survivors \\nleaving an intimate \\npartner violence \\nrelationship\\nUp to \\n$5,000\\nin financial support \\nfor victim-survivors, \\nindexed to keep pace \\nwith the cost of living \\n52 Broadening opportunity and advancing equality \\nCost of living help and a future made in Australia   |   Budget 2024–25\"),\n",
              " Document(metadata={'source': '/content/budget-overview-final.pdf', 'page': 53}, page_content=\"A national strategy to make sure the Government works \\nfor women \\nThe Government has released Australia's first national \\nstrategy to achieve gender equality. Working for Women: \\nA Strategy for Gender Equality will drive Government action \\non women's safety, sharing and valuing care, economic \\nequality, women's health and women's leadership, \\nrepresentation and decision making. To support Working for \\nWomen, the Government will deliver a regular survey to hear \\ndirectly from women about their concerns and priorities for \\ngender equality.\\nAddressing industry gender segregation, tax cuts, and the \\nnew Commonwealth Prac Payment are among the measures \\nin this Budget that help implement Working for Women.\\nTaking pressure off parents\\nThe Government is recognising the important contribution \\nparents make to society by paying superannuation on \\nGovernment-funded Paid Parental Leave (PPL) for parents \\nof babies born or adopted on or after 1 July 2025. The \\nGovernment will provide $1.1 billion over the forward estimates, \\nwith payments being made annually to individuals’ super \\nfunds from 1 July 2026. This will reduce the impact of career \\nbreaks to care for young children on superannuation balances \\nand support parents to achieve a more dignified retirement. \\nThis initiative builds on the Government's $1.2 billion investment \\nfrom 2022–23 to 2026–27 to enhance the PPL scheme which \\nwill expand by two weeks each year from 1 July 2024 to reach \\na total of 26 weeks by 1 July 2026.Courtney earns around $70,000 \\nper year and takes 22 weeks of PPL \\nafter her child is born in July 2026, \\nwhile her partner takes four weeks \\nof PPL � Based on projected future \\npayment rates, Courtney's family \\nwill receive around an additional \\n$5,790 of Parental Leave Pay due to \\nthe expansion of the PPL scheme to \\na total of 26 weeks by 1 July 2026 �  \\nBoth partners are also entitled \\nto superannuation on their PPL \\npayment � They do not have to \\ndo anything additional to receive \\ntheir super payment � Courtney \\nreceives around $2,500 as a \\ncontribution to her superannuation \\naccount � Courtney will retire with a \\nsuperannuation balance around \\n$4,250 or 1 �15 per cent higher �\\nBroadening opportunity and advancing equality  53 \\nCost of living help and a future made in Australia   |   Budget 2024–25\"),\n",
              " Document(metadata={'source': '/content/budget-overview-final.pdf', 'page': 54}, page_content=\"Support for Aboriginal and  \\nTorres Strait Islander Australians \\nPartnering with First Nations communities \\nThe Budget is investing $2.4 billion over 5 years to create new opportunities \\nand achieve better outcomes for First Nations people, including in the \\npriority areas of jobs, health, education, justice, housing and other essential \\ninfrastructure and services.\\nThe Government is investing in support of a landmark $4 billion partnership \\n(including $839.4 million over five years from 2023–24 in this Budget and \\n$2.1 billion over 10 years) with the Northern Territory Government to improve \\nconditions and address overcrowding in remote housing in the Northern \\nTerritory.\\nInvesting in First Nations economic empowerment and \\nself-determination\\nThe new Remote Jobs and Economic Development Program will create \\nup to 3,000 jobs in remote Australia while building skills and experience \\nand delivering the services communities need. A Community Jobs and \\nBusiness Fund will be established under the Program to identify and pursue \\nprojects that support community development and create local economic \\nopportunities. This $777.4 million investment is the first step to replace the \\nCommunity Development Program with real jobs, proper wages, and decent \\nconditions. The Government also intends to enhance Indigenous Business \\nAustralia’s ability to leverage their capital, enabling greater investment in First \\nNations housing, communities and businesses.\\nSupporting early childhood and education community-controlled sectors \\nThe Government is supporting First Nations students and teachers to thrive in \\nthe education sector. Funding of $29.1 million over four years will be provided \\nto First Nations early childhood and education peak bodies to advise the \\nGovernment on issues including a new national First Nations Education Policy \\nand First Nations Teacher Strategy. \\nImproving remote First Nations communities' access to essential \\nservices in the Northern Territory\\nEssential services in remote Northern Territory communities will receive \\ncontinued support from the Australian Government, with $111.1 invested in \\n2024–25 for critical health, safety, wellbeing, schooling and justice services. $777.4 \\nmillion \\nfor strong First \\nNations workforce \\nparticipation and \\ndeveloping local \\neconomies \\n54 Broadening opportunity and advancing equality \\nCost of living help and a future made in Australia   |   Budget 2024–25\"),\n",
              " Document(metadata={'source': '/content/budget-overview-final.pdf', 'page': 55}, page_content=\"Supporting the most vulnerable\\nSupporting people seeking work with new paid \\nemployment pathways\\nA $54 million investment in two new paid work placement \\nprograms will pilot support for job  seekers with barriers to \\nwork, connecting them with new opportunities in businesses \\nand social enterprises. These pilots will deliver placements paying award or above wages. \\nTargeted support for job seekers with a partial \\ncapacity  to work\\nThe Government is extending eligibility for the existing higher rate of JobSeeker Payment to single recipients with an assessed partial capacity to work between zero and \\n14 hours  per week. \\nCombined with a higher rate of Energy Supplement, eligible recipients will receive an increase to their rate of payment of at least $54.90 per fortnight. The base rate of payment will also be indexed to help keep pace with increases in the \\ncost of living. \\nEmbedding and enhancing place-based approaches\\nThe Government's $100 million Outcomes Fund will be established from 2024–25 to fund projects that support communities experiencing entrenched disadvantage. \\nThe Fund will focus on three areas: improving outcomes for \\nchildren and families; helping those experiencing barriers to employment; and improving access to services for people facing or experiencing homelessness. Payments will be made in return for projects achieving agreed, measurable outcomes. \\nThis Budget continues to invest in place-based strategies \\nacross a range of policy areas, including as part of the net zero transition. The Government will provide $134.2 million for skills and employment support in key regions. This includes developing Regional Workforce Transition Plans, negotiated with governments and reflecting the voices of communities, workers, employers and unions, that will support the delivery of place-based services and supports.Anika is 45 years old and rents \\nby herself in South Australia �  She \\nhas been assessed as having a \\npartial capacity to work of eight to \\n14 hours per week but has not been \\nable to find work � \\nAnika receives $966 �5 0 per fortnight \\nin income support from JobSeeker Payment, Commonwealth Rent \\nAssistance and supplementary \\npayments � \\nFrom 20 September 2024, Anika will \\nbecome eligible for the higher rate \\nof JobSeeker Payment and Energy \\nSupplement and the maximum rate of Commonwealth Rent Assistance \\nwill increase by 10 per  cent � \\nShe will receive at least $1,040 �2 0 \\nper fortnight, including an extra \\n$54�9 0 from JobSeeker Payment \\nand Energy Supplement and \\n$18�80  from Commonwealth Rent \\nAssistance, plus an additional \\nincrease due to regular indexation �  \\nAnika will also receive $300 in Energy Bill Relief in 2024–25 from \\nthe Australian Government in \\naddition to the $250 she already \\nreceived in 2023–24 �\\nBroadening opportunity and advancing equality  55 \\nCost of living help and a future made in Australia   |   Budget 2024–25\"),\n",
              " Document(metadata={'source': '/content/budget-overview-final.pdf', 'page': 56}, page_content='56 Broadening opportunity and advancing equality \\nCost of living help and a future made in Australia   |   Budget 2024–25'),\n",
              " Document(metadata={'source': '/content/budget-overview-final.pdf', 'page': 57}, page_content='Appendices\\nAppendices  57'),\n",
              " Document(metadata={'source': '/content/budget-overview-final.pdf', 'page': 58}, page_content='58 AppendicesAppendix A: Budget aggregates\\nEstimates\\n2023–24  \\n$b2024–25  \\n$b2025–26  \\n$b2026–27  \\n$b2027–28  \\n$bTotal (a) \\n$b\\nCash estimates\\nUnderlying cash balance 9.3 ‑28.3 ‑42.8 ‑26.7 ‑24.3 ‑112.8\\nPer cent of GDP 0.3 -1.0 -1.5 -0.9 -0.8\\nReceipts 692.3 698.4 719.4 760.0 801.8 3,671.9\\nPer cent of GDP 25.8 25.3 25.1 25.1 25.2\\nPayments 683.0 726.7 762.2 786.7 826.2 3,784.8\\nPer cent of GDP 25.4 26.4 26.6 26.0 26.0\\nBalance sheet aggregates\\nGross debt (b) 904.0 934.0 1,007.0 1,064.0 1,112.0\\nPer cent of GDP 33.7 33.9 35.1 35.2 34.9\\nNet debt (c) 499.9 552.5 615.5 660.0 697.5\\nPer cent of GDP 18.6 20.0 21.5 21.8 21.9\\nAccrual estimates\\nRevenue 706.9 711.5 732.7 776.2 819.6 3,747.0\\nPer cent of GDP 26.3 25.8 25.5 25.7 25.8\\nExpenses 691.1 734.5 767.3 793.8 829.8 3,816.4\\nPer cent of GDP 25.7 26.6 26.7 26.3 26.1\\nNet operating balance 15.8 ‑23.0 ‑34.5 ‑17.5 ‑10.1 ‑69.4\\nPer cent of GDP 0.6 -0.8 -1.2 -0.6 -0.3\\nNet capital investment 7.8 6.3 8.1 9.0 11.9 43.0\\nPer cent of GDP 0.3 0.2 0.3 0.3 0.4\\nFiscal balance 8.1 ‑29.3 ‑42.6 ‑26.5 ‑22.0 ‑112.4\\nPer cent of GDP 0.3 -1.1 -1.5 -0.9 -0.7\\nMemorandum:\\nHeadline cash balance 6.5 -47.2 -63.8 -46.8 -42.0 -193.4\\n(a) Total is equal to the sum of amounts from 2023–24 to 2027–28. \\n(b) Gross debt measures the face value of Australian Government Securities (AGS) on issue.\\n(c) Net debt is the sum of interest bearing liabilities (which includes AGS on issue measured at market value) less the sum of selected \\nfinancial assets (cash and deposits, advances paid and investments, loans and placements).\\nCost of living help and  a future made in Australia   |   Budget 2024–25'),\n",
              " Document(metadata={'source': '/content/budget-overview-final.pdf', 'page': 59}, page_content='Appendices  59 Appendix B: Revenue and spending \\nTotal revenue for 2024–25 is expected to be $711.5 billion. Total expenses are expected to be $734.5 billion. \\nWhere revenue comes from (2024–25)\\nFringe Beneﬁts tax\\n$4.1bNon- tax revenue\\n$52. 5b\\nCompany and \\nresources rent taxe s\\n$143. 8b\\nOther taxes$16.3b\\nGoods and services tax$92. 1b\\nExcise and customs duty\\n$47.3bSuperannuation taxes\\n$19.8bIndividual income tax\\n$335. 6b\\nWhere government spending is directed (2024–25)\\nSocial security  \\nand welfare$266.7b\\nOther purpose\\ns\\n$137.8b\\nHealth$112.7bEducation\\n$53.0bDefence\\n$48.0bGeneral public \\nservices$32.4bAll other functions\\n$83.9b\\nCost of living help and a future made in Australia   |   Budget 2024–25'),\n",
              " Document(metadata={'source': '/content/budget-overview-final.pdf', 'page': 60}, page_content='60 AppendicesAppendix C: Major initiatives\\nThis table summarises the major initiatives in the 2024–25 Budget and their impact on the underlying cash \\nbalance. More comprehensive information is provided in Budget paper No. 2, Budget Measures 2024–25.\\nInitiatives(a)2023–24 \\n$m2024–25 \\n$m2025–26 \\n$m2026–27 \\n$m2027–28 \\n$mTotal  \\n$m \\n2024 National Defence Strategy and \\nIntegrated Investment Program0.0 -400.0 -770.0 -730.0 -3,800.0 -5,700.0\\nEnergy Bill Relief Fund – extension \\nand expansion-0.1 -2,617.4 -872.2 0.0 0.0 -3,489.8\\nBuilding a Better Future Through \\nConsidered Infrastructure Investment15.8 -322.9 -645.4 -904.4 -1,003.5 -2,860.5\\nServices Australia – additional \\nresourcing-105.0 -1,200.3 -1,146.5 -152.6 -153.6 -2,758.0\\nImproving Aged Care Support 15.8 -1,467.9 -655.9 -49.9 -19.4 -2,177.2\\nCommonwealth Rent Assistance – \\nincrease the maximum rates-6.2 -384.3 -493.5 -503.2 -518.0 -1,905.1\\nFuture Made in Australia - Making \\nAustralia a Renewable Energy \\nSuperpower(b)28.8 -192.9 -349.2 -358.1 -1,010.4 -1881.9\\nPersonal Income Tax – Cost-of-Living \\nTax Cuts0.0 1,260.0 -1,630.0 -920.0 -10.0 -1,300.0\\nHousing Support -1,000.2 -134.9 -142.4 34.0 10.7 -1,232.8\\nStrengthening Medicare(b)-0.2 -366.3 -252.2 -260.7 -244.8 -1,124.2\\nCommonwealth Government-Funded \\nPaid Parental Leave — \\nenhancement(b)0.0 -12.4 -26.8 -375.0 -499.9 -914.1\\nAustralian Universities Accord – \\ntertiary education system reforms(b)-22.1 -174.2 -204.2 -235.0 -270.7 -906.2\\nThe Leaving Violence Program – \\nfinancial support for victim-survivors \\nof intimate partner violence0.0 -200.1 -186.7 -252.9 -259.1 -898.8\\nRemote Jobs and Economic \\nDevelopment Program-3.9 -129.4 -145.5 -218.6 -255.5 -753.1\\n(a) Impact on underlying cash balance. Figures may not sum due to rounding.\\n(b) Figures presented are net of related receipts. \\nCost of living help and  a future made in Australia   |   Budget 2024–25'),\n",
              " Document(metadata={'source': '/content/budget-overview-final.pdf', 'page': 61}, page_content='Appendices  61 Appendix D: Major Budget improvements\\nThis table summarises the major Budget improvements in the 2024–25 Budget and their impact on the \\nunderlying cash balance. More comprehensive information is provided in Budget paper No. 2, Budget \\nMeasures 2024–25.\\nInitiatives(a)2023–24 \\n$m2024–25 \\n$m2025–26 \\n$m2026–27 \\n$m2027–28 \\n$mTotal  \\n$m \\nNational Disability Insurance Scheme \\n- getting the NDIS back on track(b)0.0 1,902.9 3,729.3 4,061.0 4,413.4 14,106.7\\nStrengthening Tax Compliance – \\nextending the Shadow Economy \\nCompliance Program(c)0.0 0.0 0.0 436.7 829.9 1,266.6\\nStrengthening Tax Compliance \\n– extending the Tax Avoidance \\nTaskforce(c)0.0 0.0 0.0 250.0 1,015.5 1,265.6\\nSavings from External Labour – \\nextension0.0 93.8 93.8 93.8 718.8 1,000.2\\nStrengthening the foreign resident \\ncapital gains tax regime(c)0.0 -0.1 196.7 197.0 198.5 592.0\\nNational Water Grid Fund — \\nresponsible investment in water \\ninfrastructure for the regions42.5 -62.1 112.1 159.2 248.3 500.0\\nChild Care Subsidy Reform - further \\nmeasures for strong and sustainable \\nfoundations0.0 -2.2 137.6 141.4 133.9 410.7\\nMigration – Mobility Arrangement for \\nTalented Early-professionals Scheme \\n(MATES) and extending the validity \\nof the Business Visitor visa for Indian \\nnationals(c)0.0 11.9 73.7 139.3 139.3 364.2\\nStrengthening Tax Compliance - \\nextending the Personal Income Tax \\nCompliance Program(c)0.0 0.0 0.0 0.0 136.0 136.0\\nStrengthening Tax Compliance – \\nAustralian Taxation Office Counter \\nFraud Strategy(c)0.0 -6.7 43.0 55.0 23.5 114.8\\n(a) Impact on underlying cash balance. Figures may not sum due to rounding. \\n(b) The NDIS reforms being undertaken by the government are expected to moderate from 2024-25 the additional growth in NDIS \\nexpenditure projected by the NDIS Actuary based on data up to December 2023. The NDIS will continue to be a demand-driven scheme \\nthat supports Australians who need it. The measure also provides additional funding to support people with disability and get the NDIS \\nback on track. The financial impacts are the net impact of the overall measure.\\n(c) Figures presented are net of related payments. \\nCost of living help and a future made in Australia   |   Budget 2024–25'),\n",
              " Document(metadata={'source': '/content/budget-overview-final.pdf', 'page': 62}, page_content='62 AppendicesAppendix E: Detailed economic forecasts\\nDomestic economy detailed forecasts (a) \\nOutcomes Forecasts\\n2022–23 2023–24 2024–25 2025–26\\nReal gross domestic product 3.1 1 3/4 2 2 1/4\\nHousehold consumption 5.0 1/4 2 2 3/4\\nDwelling investment -3.8 -3 0 6 1/2\\nTotal business investment (b)8.3 5 1/2 1 2\\nBy industry\\nMining investment 1.7 4 1/2 -3 1/2 2\\nNon-mining investment 10.5 5 1/2 2 1/2 2\\nPrivate final demand (b)4.2 1 1 3/4 3\\nPublic final demand (b)2.4 4 1/2 1 1/2 1 1/2\\nChange in inventories (c)-0.1 -1/2 1/4 0\\nGross national expenditure 3.5 1 1/4 1 3/4 2 1/2\\nExports of goods and services 6.7 5 5 2 1/2\\nImports of goods and services 9.3 2 1/2 4 4 1/2\\nNet exports (c)-0.1 3/4 1/2 -1/4\\nNominal gross domestic product 9.9 4 3/4 2 3/4 4\\nPrices and wages\\nConsumer price index (d)6.0 3 1/2 2 3/4 2 3/4\\nWage price index (d)3.7 4 3 1/4 3 1/4\\nGDP deflator 6.5 3 1/2 1 3/4\\nLabour market\\nParticipation rate (per cent) (e)66.6 66 1/2 66 1/2 66 1/4\\nEmployment (d)3.5 2 1/4 3/4 1 1/4\\nUnemployment rate (per  cent) (e)3.6 4 4 1/2 4 1/2\\nBalance of payments\\nTerms of trade (f)-0.5 -3 3/4 -7 3/4 -4\\nCurrent account balance  \\n(per cent of GDP)1.1 1 1/4 -3/4 -2\\nNet overseas migration (g)528,000 395,000 260,000 255,000\\n(a) Percentage change on preceding year unless otherwise indicated.\\n(b) Excluding second-hand asset sales between the public and private sector.\\n(c) Percentage point contribution to growth in GDP.\\n(d) Through-the-year growth rate to the June quarter.\\nCost of living help and  a future made in Australia   |   Budget 2024–25'),\n",
              " Document(metadata={'source': '/content/budget-overview-final.pdf', 'page': 63}, page_content='Appendices  63 (e) Seasonally adjusted rate for the June quarter.\\n(f) Key commodities are assumed to decline from elevated levels over four quarters to \\nthe end of the March quarter of 2025: the iron ore spot price is assumed to decline to \\nUS$60/tonne; the metallurgical coal spot price declines to US$140/tonne; the thermal \\ncoal spot price declines to US$70/tonne; and the LNG spot price converges to US$10/\\nmmBtu. All bulk prices are in free on board (FOB) terms. \\n(g) Net overseas migration is forecast to be 235,000 in 2026–27 and 2027–28.\\nNote: The forecasts for the domestic economy are based on several technical \\nassumptions. The exchange rate is assumed to remain around its recent average level \\n– a trade -weighted index of around 62 and a $US exchange rate of around 65 US cents. \\nInterest rates are informed by the Bloomberg survey of market economists. World oil \\nprices (Malaysian Tapis) are assumed to remain flat around US$94 per barrel.\\nSource: ABS Australian National Accounts: National Income, Expenditure and Product; \\nBalance of Payments and International Investment Position, Australia; National state \\nand territory population; Labour Force Survey, Australia; Wage Price Index, Australia; \\nConsumer Price Index, Australia; unpublished ABS data and Treasury.\\nCost of living help and a future made in Australia   |   Budget 2024–25'),\n",
              " Document(metadata={'source': '/content/budget-overview-final.pdf', 'page': 64}, page_content='64 AppendicesEndnotes and image credits\\nEndnote 1\\nOccupation data based on taxfilers reporting their salary and wage income on \\n2020–21 tax returns.\\nAverage taxable income and tax cut amounts are calculated using taxable income \\nfrom 2020–21 tax return data. \\nThese figures are based on the average taxable income which includes part time \\nworkers and may not be representative of a full-time salary for these occupations. \\nImage credits\\nPage 38 - Department of Defence\\nPage 39 - 2024 ASEAN Australia Special Summit Taskforce\\nPage 41 - Agriculture Victoria\\nCost of living help and  a future made in Australia   |   Budget 2024–25'),\n",
              " Document(metadata={'source': '/content/budget-overview-final.pdf', 'page': 65}, page_content='@Treasury_AU\\nlinkedin.com/company/ commonwealth-treasury\\nfacebook.com/ australiantreasury')]"
            ]
          },
          "metadata": {},
          "execution_count": 21
        }
      ]
    },
    {
      "cell_type": "code",
      "execution_count": 22,
      "metadata": {
        "id": "_9t9xn5rbc75",
        "outputId": "7c92586b-2ffa-487a-846f-0dbcc7413439",
        "colab": {
          "base_uri": "https://localhost:8080/"
        }
      },
      "outputs": [
        {
          "output_type": "stream",
          "name": "stdout",
          "text": [
            "Domestic economic outlook\n",
            "Facing challenges from a position of \n",
            "economic strength\n",
            "Australia is not immune from global developments. \n",
            "Moderating but high inflation and higher interest rates here have resulted in lower growth over the past year. The Australian economy faces these challenges from a position of economic strength with inflation that is now less than half of its peak, a resilient labour market with unemployment close to 50-year lows, a return to annual real wage growth and a solid pipeline of business investment.\n",
            "The Government’s targeted cost-of-living measures are \n",
            "expected to reduce inflation, with energy bill relief and Commonwealth Rent Assistance expected to directly reduce inflation by ½ of a percentage point in 2024–25 and not expected to add to broader inflationary pressures. Treasury is forecasting this could see headline inflation return to the target band by the end of 2024, slightly earlier than expected at MYEFO.\n",
            "The labour market has been resilient with an unemployment \n",
            "rate near historic lows, workforce participation near its record high, and around 780,000 jobs created since May 2022. Employment is growing faster than any major advanced economy. The unemployment rate is expected to rise modestly but remain below pre-pandemic levels.\n",
            "The combination of nominal wages growing at their fastest \n",
            "rate in nearly 15 years and the moderation in inflation has resulted in real wages returning to annual growth.\n",
            "The pipeline of business investment remains strong and \n",
            "this growth is expected to continue through to 2025–26. \n",
            "If realised, this would be the longest sustained increase in \n",
            "investment since the mining boom. \n",
            "Real GDP is expected to grow by 1¾ per cent in 2023–24 and \n",
            "remain subdued over the period ahead. Real GDP is forecast to grow by 2 per cent in 2024–25 and 2¼ per cent in 2025–26. Moderating inflation, higher wage growth, continuing employment growth and the Government’s cost-of-living tax cuts should support a recovery in household consumption.Real GDP growth\n",
            "-20246\n",
            " 2010-11  2015-16  2020-21  2025-26Per cent\n",
            "Source: ABS National Accounts: National Income, \n",
            "Expenditure and Product and Treasury. \n",
            "Headline inflation\n",
            "-202468\n",
            "Jun-14 Jun-18 Jun-22 Jun-26Per cent\n",
            "Budget 2024-25\n",
            "MYEFO 2023-24\n",
            "Source: ABS Consumer Price Index and Treasury. \n",
            "Note: Grey shading denotes the RBA target band. Forecasts are June quarter through-the-year inflation rates.\n",
            "  9 \n",
            "Cost of living help and a future made in Australia   |   Budget 2024–25\n"
          ]
        }
      ],
      "source": [
        "print(dataset[9].page_content)"
      ]
    },
    {
      "cell_type": "markdown",
      "metadata": {
        "id": "M4EMn241bc75"
      },
      "source": [
        "#### Dataset Overview\n",
        "\n",
        "The dataset we are using is sourced from the Australia Budget 2024 document. This document provides the latest details on Australia's fiscal plans and economic strategies. Each entry in our knowledge base represents a \"chunk\" of relevant information extracted from this document.\n",
        "\n",
        "Since most Large Language Models (LLMs) only contain knowledge from their training period, they cannot answer questions about the Australia Budget 2024 — at least not without this external data."
      ]
    },
    {
      "cell_type": "markdown",
      "metadata": {
        "id": "bpWNQiUkbc75"
      },
      "source": [
        "### Building the Knowledge Base"
      ]
    },
    {
      "cell_type": "markdown",
      "metadata": {
        "id": "xXnoSfHFbc76"
      },
      "source": [
        "We now have a dataset that can serve as our chatbot knowledge base. Our next task is to transform that dataset into the knowledge base that our chatbot can use. To do this we must use an embedding model and vector database.\n"
      ]
    },
    {
      "cell_type": "markdown",
      "metadata": {
        "id": "9H1AEZkvbc79"
      },
      "source": [
        "Now we set up our index specification, which allows us to define the configuration for ChromaDB. This setup ensures that our vector data is properly indexed and optimized for retrieval. With ChromaDB being open-source and lightweight, deployment is straightforward without the need for a cloud provider or region specification."
      ]
    },
    {
      "cell_type": "markdown",
      "source": [
        "###  Creation of Vector Database using Embeddings\n",
        "\n",
        "The code snippet initializes the embedding model using LangChain's OpenAIEmbeddings class, which leverages OpenAI's API to convert text data into vector representations (embeddings). These embeddings represent the meaning of the text in a high-dimensional vector space, making it easier for the model to perform similarity searches, clustering, and other tasks on textual data.\n",
        "\n"
      ],
      "metadata": {
        "id": "DN5U0O7Ajsxm"
      }
    },
    {
      "cell_type": "markdown",
      "metadata": {
        "id": "95IdBtlbbc79"
      },
      "source": [
        "Then we initialize the index. We will be using OpenAI's `text-embedding-ada-002` model for creating the embeddings, so we set the `dimension` to `1536`."
      ]
    },
    {
      "cell_type": "markdown",
      "metadata": {
        "id": "ZWIDDKd9bc7-"
      },
      "source": [
        "Using this model we can create embeddings like so:"
      ]
    },
    {
      "cell_type": "code",
      "source": [
        "# Create embeddings\n",
        "from langchain.embeddings import OpenAIEmbeddings\n",
        "embeddings = OpenAIEmbeddings()"
      ],
      "metadata": {
        "colab": {
          "base_uri": "https://localhost:8080/"
        },
        "id": "-vPrUQZ1CqlC",
        "outputId": "f30cc578-2713-4326-d585-23f91e7a6678"
      },
      "execution_count": 23,
      "outputs": [
        {
          "output_type": "stream",
          "name": "stderr",
          "text": [
            "<ipython-input-23-e7b0c2ec947d>:3: LangChainDeprecationWarning: The class `OpenAIEmbeddings` was deprecated in LangChain 0.0.9 and will be removed in 1.0. An updated version of the class exists in the :class:`~langchain-openai package and should be used instead. To use it run `pip install -U :class:`~langchain-openai` and import as `from :class:`~langchain_openai import OpenAIEmbeddings``.\n",
            "  embeddings = OpenAIEmbeddings()\n"
          ]
        }
      ]
    },
    {
      "cell_type": "code",
      "source": [
        "# Create embeddings for a sample text\n",
        "text = \"Australia Budget 2024 focuses on economic growth and sustainability.\"\n",
        "vector = embeddings.embed_query(text)\n",
        "vector"
      ],
      "metadata": {
        "colab": {
          "base_uri": "https://localhost:8080/"
        },
        "id": "5yzWMUfymdHL",
        "outputId": "36cbb4e4-33e1-44ee-a16d-a31ecabfa660"
      },
      "execution_count": 24,
      "outputs": [
        {
          "output_type": "execute_result",
          "data": {
            "text/plain": [
              "[-0.008891760458240928,\n",
              " -0.024347396804634238,\n",
              " 0.0021068640258503925,\n",
              " -0.003949773536354634,\n",
              " -0.007098143989446103,\n",
              " -0.005059653476738426,\n",
              " -0.0028526142983107843,\n",
              " -0.02633182357569756,\n",
              " -0.011181485016785458,\n",
              " -0.008904481393411516,\n",
              " 0.0255431404962824,\n",
              " 0.01006842414411708,\n",
              " 0.012097374653938755,\n",
              " -0.018355952754609925,\n",
              " -0.0052727251827248064,\n",
              " -0.008026753630447404,\n",
              " 0.02573395172987348,\n",
              " -0.025619466107305932,\n",
              " 0.016498731609962156,\n",
              " -0.015633724782168634,\n",
              " -0.015633724782168634,\n",
              " 0.025759393600214654,\n",
              " 0.0031070281122789934,\n",
              " 0.004194646648944902,\n",
              " 0.015926301634479254,\n",
              " 0.019335445204970998,\n",
              " -0.006843729942647247,\n",
              " -0.007835943328178907,\n",
              " 0.012943299613315104,\n",
              " 0.008045835498864578,\n",
              " -0.0053267879930465785,\n",
              " -0.01041188287446489,\n",
              " 0.016053507260894807,\n",
              " -0.004181926179435605,\n",
              " -0.02605196858988011,\n",
              " -0.030453326477226098,\n",
              " -0.013496649583026,\n",
              " -0.0068628113454031305,\n",
              " 0.011194205020633464,\n",
              " -0.005721129532754159,\n",
              " -0.016816750332613956,\n",
              " -0.005791093279208521,\n",
              " 0.005616183913072615,\n",
              " 0.0007274643356063009,\n",
              " -0.018826618974018456,\n",
              " 0.019081032089494725,\n",
              " 0.006109110139215152,\n",
              " -0.010628135047074563,\n",
              " -0.02946111402301702,\n",
              " 0.0033996038004363853,\n",
              " -0.019017428344964366,\n",
              " 0.025021592398836685,\n",
              " -0.03002082399465192,\n",
              " 0.004595348656237776,\n",
              " -0.0022992643285998887,\n",
              " -0.007708736770440772,\n",
              " -0.026039248586032106,\n",
              " 0.005072374411909015,\n",
              " -0.006373064654561303,\n",
              " 0.0033137391178494333,\n",
              " -0.012339066834244437,\n",
              " -0.0017236531880017547,\n",
              " -0.03075862333338472,\n",
              " 0.03729705548855076,\n",
              " -0.008789995770843969,\n",
              " -0.003644477145857299,\n",
              " -0.01593902163832726,\n",
              " 0.019704345805659985,\n",
              " 0.014094522360172664,\n",
              " -0.012421751515869389,\n",
              " 0.039052512877124156,\n",
              " 0.022859076260675456,\n",
              " 0.018343232750761922,\n",
              " -0.0053808508033683505,\n",
              " 0.016804028466120783,\n",
              " -0.011308691574523595,\n",
              " -0.024500044301390966,\n",
              " -0.015048573871515142,\n",
              " 0.0002730972800463812,\n",
              " 0.027553009137686896,\n",
              " 0.008077636439807174,\n",
              " -0.01792344840939058,\n",
              " -0.005158239094495967,\n",
              " 0.003962494471525222,\n",
              " -0.009152534506963786,\n",
              " 0.01632064224286425,\n",
              " -0.012218220278430303,\n",
              " 0.011842960607139899,\n",
              " -0.0009286102230779154,\n",
              " -0.0027635693819311846,\n",
              " -0.006996378370726561,\n",
              " -0.008351131423700621,\n",
              " 0.01006842414411708,\n",
              " 0.033608056932241566,\n",
              " -0.023584155595560256,\n",
              " 0.005151878626910673,\n",
              " 0.0074098008475287315,\n",
              " 0.030097147743030284,\n",
              " 0.014399818285008706,\n",
              " -0.026484472935099455,\n",
              " 0.006233137161652578,\n",
              " 0.0022849536257789453,\n",
              " -0.028901402188736956,\n",
              " -0.018165141521018845,\n",
              " -0.017440064048779215,\n",
              " 0.013038705230110643,\n",
              " -0.003030703898239337,\n",
              " 0.005072374411909015,\n",
              " 0.04235988896625119,\n",
              " -0.002380358776913193,\n",
              " -0.010036623203174486,\n",
              " 0.015366590731521773,\n",
              " 0.00780414192157502,\n",
              " -0.043835491369007135,\n",
              " -0.004967428792227471,\n",
              " 0.0007079857819761366,\n",
              " -0.011772996860685536,\n",
              " 0.016842190340309968,\n",
              " 0.007447962721717914,\n",
              " 0.007517926468172276,\n",
              " 0.02274459063810791,\n",
              " -0.013267677406568321,\n",
              " 0.020493028885075145,\n",
              " -0.007435242252208618,\n",
              " -0.0023930794792531357,\n",
              " -0.011283250635505001,\n",
              " -0.028570665324882318,\n",
              " -0.011715753118079179,\n",
              " 0.0036826392528771274,\n",
              " -0.014590628587277202,\n",
              " -0.006134551543895038,\n",
              " 0.01212917559488135,\n",
              " 0.009826731032488815,\n",
              " 0.017694477164255484,\n",
              " -0.019806111424379526,\n",
              " 0.022884518131016635,\n",
              " -0.041087821526224665,\n",
              " 0.011187845018709461,\n",
              " -0.043835491369007135,\n",
              " -0.02182870006963203,\n",
              " -0.001367473988144649,\n",
              " 0.03012258961337146,\n",
              " -0.03182715953597216,\n",
              " 0.006735604322003702,\n",
              " 0.005371310334821055,\n",
              " 0.010901629099645425,\n",
              " 0.006290379972936352,\n",
              " 0.014641511396636973,\n",
              " 0.019971480787629427,\n",
              " 0.019577138316599265,\n",
              " 0.016295200372523074,\n",
              " -0.0059596421777591314,\n",
              " -0.008764553900502792,\n",
              " 0.02974096900883447,\n",
              " 0.001239472080920044,\n",
              " 0.011327772511618185,\n",
              " -0.001663229910094688,\n",
              " -0.001375424339795621,\n",
              " -0.0028478440640371363,\n",
              " -0.005329968459669872,\n",
              " 0.009839451967659403,\n",
              " -0.02706962477707553,\n",
              " -0.006754685259098294,\n",
              " 0.004856122704960633,\n",
              " 0.0149468082527956,\n",
              " 0.008561022663063708,\n",
              " 0.02709506478477154,\n",
              " 0.006338082781334122,\n",
              " 0.001804747636315059,\n",
              " 0.0019526255972900784,\n",
              " 0.013636577075934724,\n",
              " 0.021561565087662587,\n",
              " -0.017490945926816402,\n",
              " 0.028112720971966963,\n",
              " 0.004484042568970938,\n",
              " 0.05368130333859054,\n",
              " -7.388930752439385e-05,\n",
              " -0.0059437412416265415,\n",
              " -0.026408147324075922,\n",
              " -0.008580103600158298,\n",
              " 0.0032564960737350135,\n",
              " 0.022477455656138463,\n",
              " 0.011276889702258415,\n",
              " 0.00965500166731491,\n",
              " -0.006754685259098294,\n",
              " 0.0005199580969647151,\n",
              " 0.025059754273025866,\n",
              " 0.017185649070657776,\n",
              " 0.02318981312453009,\n",
              " 0.01651145347645533,\n",
              " 0.004325033673306331,\n",
              " 0.01207829278552158,\n",
              " -0.0023612776069879557,\n",
              " 0.0033741623957565,\n",
              " -0.6541486446205692,\n",
              " -0.0063508032508434184,\n",
              " 0.011524942815810684,\n",
              " -0.004643050998974254,\n",
              " 0.006363524186014007,\n",
              " 0.014374377345990112,\n",
              " 0.009317903870213688,\n",
              " 0.026179176078940828,\n",
              " 0.0034791082482686893,\n",
              " 0.006083669200196558,\n",
              " -0.016753146588083596,\n",
              " -0.005129617223192788,\n",
              " -0.008402014233060391,\n",
              " -0.035770573070402795,\n",
              " 0.01713476719262059,\n",
              " -0.01367473988144649,\n",
              " -0.002230890582626527,\n",
              " -0.013420325834647634,\n",
              " 0.022324808159381735,\n",
              " 0.0020162291089897925,\n",
              " -0.02416930743753633,\n",
              " 0.04024825656877232,\n",
              " -0.0037971253411059665,\n",
              " -0.01918279770821427,\n",
              " 0.02092553136764932,\n",
              " 0.006201335289387398,\n",
              " -6.906935663188404e-05,\n",
              " -0.052307468417199306,\n",
              " -0.018826618974018456,\n",
              " 0.001769765763087878,\n",
              " -0.008968085137941876,\n",
              " 0.033938795658741375,\n",
              " 0.00014022570531040435,\n",
              " 0.02325341686906045,\n",
              " 0.03780588544479364,\n",
              " 0.008306609547587437,\n",
              " -0.02806183723128461,\n",
              " 0.010939791905157191,\n",
              " 0.008777274835673381,\n",
              " 0.01315319085267819,\n",
              " -0.011359574383883365,\n",
              " -0.007575169745117342,\n",
              " -0.0014191517977449205,\n",
              " -0.01354753239238577,\n",
              " -0.014018197680471715,\n",
              " 0.01074262066964211,\n",
              " 0.037755001704111286,\n",
              " -0.033353641954120127,\n",
              " 0.004433159759611167,\n",
              " -0.030249795239787013,\n",
              " -0.0052409233104596265,\n",
              " 0.007861385198520086,\n",
              " -0.0064621093381102565,\n",
              " 0.00516459909641997,\n",
              " 0.039637662856455064,\n",
              " -0.0027731098504784803,\n",
              " 0.01872485335529891,\n",
              " -0.021001855116027687,\n",
              " 0.019170075841721097,\n",
              " 0.0065638749568297985,\n",
              " -0.014476142964709655,\n",
              " 0.0027762900842711277,\n",
              " -0.01710932532227941,\n",
              " -0.017516387797157577,\n",
              " -0.027044182906734354,\n",
              " 0.02818904472034533,\n",
              " -0.031242009556641255,\n",
              " 0.04177473898692028,\n",
              " 0.015150339490234683,\n",
              " -0.04256342020369027,\n",
              " -0.01695667782552268,\n",
              " 0.029715527138493292,\n",
              " 0.012797012118482377,\n",
              " -0.019793389557886353,\n",
              " -2.0882300508363945e-05,\n",
              " 0.006404866526826483,\n",
              " 0.029969940253969565,\n",
              " -0.022808192519993102,\n",
              " -0.0015153519491196686,\n",
              " 0.011569465623246452,\n",
              " 0.007422521317038028,\n",
              " -0.014374377345990112,\n",
              " 0.004267790862022557,\n",
              " 0.007352557570583666,\n",
              " 0.010520008495108434,\n",
              " -0.03915427663319853,\n",
              " -0.025377772995677665,\n",
              " -0.00975040728411045,\n",
              " 0.01249171526232375,\n",
              " -0.012377229639756203,\n",
              " 0.020518468892771154,\n",
              " 0.0005056473359361102,\n",
              " 0.00422326852024808,\n",
              " -0.01988243517275789,\n",
              " 0.02233752816322974,\n",
              " 0.013534812388537765,\n",
              " -0.0068628113454031305,\n",
              " -0.0011854091541829486,\n",
              " 0.0071108644589553995,\n",
              " -0.007015459307821152,\n",
              " -0.014298053597611748,\n",
              " 0.007371638507678258,\n",
              " 0.018037935894603296,\n",
              " 0.009495993237311595,\n",
              " 0.026179176078940828,\n",
              " 0.017338298430059674,\n",
              " -0.019831553294720704,\n",
              " -0.008198482995621308,\n",
              " 0.012485355260399749,\n",
              " -0.02284635625682745,\n",
              " -0.002404209948281432,\n",
              " -0.006983657435555972,\n",
              " -0.007129945396049991,\n",
              " 0.0006722088503007936,\n",
              " -0.01685491220680314,\n",
              " -0.030249795239787013,\n",
              " 0.0332009944573634,\n",
              " -0.014094522360172664,\n",
              " 0.003800305574898614,\n",
              " -0.008510139853703937,\n",
              " 0.030377002728847732,\n",
              " 0.010729900665794104,\n",
              " 0.03795853294155037,\n",
              " -0.025225123636275767,\n",
              " -0.017885286535201397,\n",
              " 0.023953056196249243,\n",
              " -0.0100302622699279,\n",
              " -0.016409687857735788,\n",
              " -0.01657505722098569,\n",
              " 0.009629560728296316,\n",
              " -0.02415658557104316,\n",
              " 0.011181485016785458,\n",
              " 0.04584536001041163,\n",
              " 0.01207829278552158,\n",
              " 0.029562877779091393,\n",
              " 0.0020162291089897925,\n",
              " -0.022973561883243003,\n",
              " -0.014323494536630342,\n",
              " -0.017122045326127416,\n",
              " -0.023355182487779996,\n",
              " -0.03126744956433727,\n",
              " -0.008134880182413531,\n",
              " 0.0027206370406377086,\n",
              " -0.030224355232091004,\n",
              " -0.008007672693352811,\n",
              " -0.0053426889291791685,\n",
              " 0.0072380714823548275,\n",
              " 0.0026427228261170516,\n",
              " -0.01717292906680977,\n",
              " -0.008580103600158298,\n",
              " -0.004000656345714405,\n",
              " 0.009591398854107135,\n",
              " -0.014527025774069426,\n",
              " 0.0027762900842711277,\n",
              " 0.011734834986496355,\n",
              " 0.005253644245630215,\n",
              " -0.019131913967531913,\n",
              " -0.008745472963408201,\n",
              " -0.009381507614744048,\n",
              " -0.009515074174406186,\n",
              " 0.025428654873714852,\n",
              " 0.016435127865431796,\n",
              " -0.01956441831275126,\n",
              " -0.005422193144180826,\n",
              " -0.012154617465222528,\n",
              " 0.027196830403491083,\n",
              " -0.015951743504820433,\n",
              " 0.010373721000275707,\n",
              " 0.008249365804981078,\n",
              " -0.015646446648661806,\n",
              " -0.0041914666479829004,\n",
              " -0.02946111402301702,\n",
              " -0.007206269610089648,\n",
              " 0.02438555867882342,\n",
              " -0.0010184500232826921,\n",
              " -0.00978220915637563,\n",
              " -0.025377772995677665,\n",
              " -0.004032458217979585,\n",
              " 0.026866093539636447,\n",
              " -0.009343344809232282,\n",
              " -0.0017665855292952307,\n",
              " 0.02098913511217968,\n",
              " -0.01032919819283994,\n",
              " -0.01909375209334273,\n",
              " 0.024716297405323225,\n",
              " 0.0008737522378926583,\n",
              " 0.011003394718364968,\n",
              " 0.004277331330569852,\n",
              " -0.010939791905157191,\n",
              " 0.016498731609962156,\n",
              " 0.0005223432723092005,\n",
              " 0.0375514704666722,\n",
              " -0.0022452015182781162,\n",
              " -0.009127093567945192,\n",
              " -0.022706428763918728,\n",
              " -0.006722883386833114,\n",
              " -0.020632956377983867,\n",
              " 0.013852829248544397,\n",
              " 0.015582842904131446,\n",
              " -0.019538976442410084,\n",
              " 0.04007016533902924,\n",
              " -0.018864780848207637,\n",
              " 0.022159438796131834,\n",
              " -0.004035638218941586,\n",
              " 0.007791421452065723,\n",
              " 0.00399429587812911,\n",
              " 0.004000656345714405,\n",
              " -0.016994839699711863,\n",
              " 0.009152534506963786,\n",
              " 0.01527754604797282,\n",
              " 0.027858305993845523,\n",
              " -0.048236847393707954,\n",
              " -0.032564960737350136,\n",
              " -0.008809076707938561,\n",
              " -0.012154617465222528,\n",
              " -0.004837041767866043,\n",
              " 0.011194205020633464,\n",
              " 0.01890294272239682,\n",
              " -0.01455246671308802,\n",
              " 0.0012418571980568679,\n",
              " 0.001855630329259507,\n",
              " 0.0010907990032892013,\n",
              " -0.00524728377804492,\n",
              " -0.009877613841848586,\n",
              " -0.02577211360406266,\n",
              " 0.0022118096455319355,\n",
              " -0.028545223454541142,\n",
              " 0.01679130846227278,\n",
              " 0.008885400456316925,\n",
              " -0.01833051088426875,\n",
              " 0.0016115521004944166,\n",
              " 0.008688230152124428,\n",
              " 0.020632956377983867,\n",
              " 0.012879696800107327,\n",
              " -0.0009802880326781867,\n",
              " -0.014476142964709655,\n",
              " 0.008681869218877841,\n",
              " -0.006280839504389056,\n",
              " 0.054648075785103604,\n",
              " 0.0080203936285234,\n",
              " 0.023838568711036526,\n",
              " 0.006481190275204847,\n",
              " 0.028494341576503955,\n",
              " 0.013700180820465084,\n",
              " 0.020683838256021055,\n",
              " -0.017338298430059674,\n",
              " 0.048287731134390305,\n",
              " 0.006595676829094978,\n",
              " -0.0012013099739002157,\n",
              " 0.015506518224430497,\n",
              " -0.001300690359067611,\n",
              " -0.010736260667718107,\n",
              " -0.009375146681497462,\n",
              " 0.011951086227783443,\n",
              " 0.018050655898451298,\n",
              " -0.006958216496537379,\n",
              " -0.001796797168248764,\n",
              " 0.0038289269805405006,\n",
              " 0.020811045745081774,\n",
              " 0.039179720366184875,\n",
              " -0.003825746979578499,\n",
              " 0.00271427680588306,\n",
              " -0.015150339490234683,\n",
              " 0.0027381279772512993,\n",
              " -0.0006964576382046057,\n",
              " 0.006659280107964047,\n",
              " 0.006729243854418409,\n",
              " -0.013318560215928093,\n",
              " -0.013445766773666228,\n",
              " 0.0033519012248692617,\n",
              " -0.02318981312453009,\n",
              " 0.010469125685748664,\n",
              " 0.025912041096971386,\n",
              " -0.030911270830141453,\n",
              " 0.004830681300280748,\n",
              " -0.0009794929160223634,\n",
              " -0.028697872813943037,\n",
              " 0.011187845018709461,\n",
              " -0.006010524987118903,\n",
              " 0.0060009845185716075,\n",
              " -0.018788455237184105,\n",
              " -0.017719919034596663,\n",
              " 0.01754182780485359,\n",
              " 0.026230057956978015,\n",
              " -0.004814780364148158,\n",
              " -0.015506518224430497,\n",
              " -0.002838303595489841,\n",
              " -0.01120056595388005,\n",
              " -0.02205767317741229,\n",
              " 0.011480420939697498,\n",
              " -0.025504978622093215,\n",
              " 0.009648641665390909,\n",
              " -0.018228745265549205,\n",
              " -0.011620348432606223,\n",
              " 0.013394883964306457,\n",
              " -0.01583725601960772,\n",
              " 0.0216760525728753,\n",
              " -0.023965776200097245,\n",
              " -0.01764359342357313,\n",
              " -0.021587006958003762,\n",
              " -0.016078949131235983,\n",
              " -0.017122045326127416,\n",
              " 0.0103928019373703,\n",
              " -0.013662018946275901,\n",
              " 0.00830024861434085,\n",
              " -0.013019624293016053,\n",
              " -0.022223042540662194,\n",
              " -0.007072702584766217,\n",
              " -0.009292462931195095,\n",
              " 0.008402014233060391,\n",
              " 0.00524410377708292,\n",
              " -0.024818063024042766,\n",
              " 0.004096061496848652,\n",
              " 0.0008594414768640534,\n",
              " -0.016206156620296702,\n",
              " 0.005797453281132523,\n",
              " -0.01328039834173891,\n",
              " -0.01723653281134013,\n",
              " 0.0064557493361862535,\n",
              " -0.004197827115568195,\n",
              " -0.005142338158363377,\n",
              " -0.006379425122146597,\n",
              " -0.03653381427947678,\n",
              " 0.012237302146847479,\n",
              " 0.11916740354748663,\n",
              " 0.014323494536630342,\n",
              " 0.01779624278297503,\n",
              " 0.017885286535201397,\n",
              " 0.035439838069193326,\n",
              " 0.014145405169532435,\n",
              " -0.006271299035841761,\n",
              " -0.03350629317616719,\n",
              " -0.007053621647671626,\n",
              " -0.014768718885697692,\n",
              " -0.0077850609844804285,\n",
              " 0.01041188287446489,\n",
              " -0.011842960607139899,\n",
              " -0.010780782543831293,\n",
              " -0.0004452240871328743,\n",
              " 0.0027921910204037176,\n",
              " 0.0026713444645895842,\n",
              " -0.009006247012131059,\n",
              " 0.004792518960430274,\n",
              " 0.005826075152435701,\n",
              " 0.018763015229488096,\n",
              " 0.01577365227507736,\n",
              " 0.00320879349816789,\n",
              " 0.033938795658741375,\n",
              " 0.012758850244293194,\n",
              " 0.001252987783500487,\n",
              " 0.017211090940998954,\n",
              " 0.00251710603602927,\n",
              " -0.015048573871515142,\n",
              " -0.021167224479277588,\n",
              " 0.008656428279859248,\n",
              " 0.02974096900883447,\n",
              " -0.006741964789588997,\n",
              " 0.03841647915711089,\n",
              " -0.002924168045246147,\n",
              " 0.019895155176605894,\n",
              " 0.019551696446258086,\n",
              " -0.003991115877167109,\n",
              " 0.02394033432975607,\n",
              " 0.012313625895225843,\n",
              " 0.029257582785577937,\n",
              " 0.00661475776618957,\n",
              " 0.011652150304871402,\n",
              " -0.013064146169129237,\n",
              " 0.005613003446449322,\n",
              " 0.0009826731498150108,\n",
              " -0.01770719716810349,\n",
              " 0.021218108219959942,\n",
              " -0.02882507844035859,\n",
              " -0.008370212360795212,\n",
              " 0.041672975230845906,\n",
              " 0.0005501697359182484,\n",
              " -0.016282480368675068,\n",
              " 0.010933430971910605,\n",
              " 0.006210875757934694,\n",
              " 0.018216025261701203,\n",
              " -0.01053909036352561,\n",
              " 0.024118423696853977,\n",
              " 0.0035363512923831087,\n",
              " -0.04111326153392067,\n",
              " -0.022261204414851375,\n",
              " -0.01560828384315004,\n",
              " -0.019577138316599265,\n",
              " -0.022172158799979837,\n",
              " -0.0011178304084500873,\n",
              " 0.004410898355893283,\n",
              " -0.01698211783321869,\n",
              " 0.0037335218294062525,\n",
              " -0.03225966574383668,\n",
              " 0.007982231754334218,\n",
              " 0.0056956881280742725,\n",
              " -0.0381111804383071,\n",
              " -0.014577908583429196,\n",
              " 0.009737686348939862,\n",
              " 0.004744816617693796,\n",
              " 0.010685377858358337,\n",
              " 0.009241580121835322,\n",
              " -0.00047662828465481956,\n",
              " 0.001058202247198844,\n",
              " -0.009699524474750679,\n",
              " -0.007524286935757571,\n",
              " -0.00968680353958009,\n",
              " -0.021752376321253663,\n",
              " -0.035032775594315155,\n",
              " -0.025415934869866846,\n",
              " 0.001572594993234088,\n",
              " 0.0003398808800195885,\n",
              " -0.019780669554038347,\n",
              " -0.032615844478032494,\n",
              " 0.012205500274582299,\n",
              " 0.0021259449629449836,\n",
              " -0.004996050197869358,\n",
              " 0.01466695326697815,\n",
              " 0.005606642978864027,\n",
              " -0.013623857072086718,\n",
              " -0.005870597494210178,\n",
              " 0.01581181414926654,\n",
              " -0.0006940725210677819,\n",
              " -0.011391376256148545,\n",
              " -0.0004829886067209602,\n",
              " 0.036304843034341686,\n",
              " -0.01915735583787309,\n",
              " -0.032692168226410856,\n",
              " -0.021370755716716674,\n",
              " 0.016638659102870882,\n",
              " -0.010418243807711476,\n",
              " 0.006010524987118903,\n",
              " -0.0012490125494673395,\n",
              " -0.018165141521018845,\n",
              " -0.0436828438722504,\n",
              " -0.000300526243535179,\n",
              " -0.045082118801337646,\n",
              " 0.0007719867355884391,\n",
              " 0.00017490945344739788,\n",
              " -0.008910842326658102,\n",
              " 0.01625703849833389,\n",
              " 0.014806880759886875,\n",
              " 0.000508032453072934,\n",
              " -3.8603061887857765e-06,\n",
              " 0.0045603667830105945,\n",
              " 0.001479574959236664,\n",
              " -0.034854684364572085,\n",
              " 0.002951199683237679,\n",
              " 0.0101956316331778,\n",
              " 0.01764359342357313,\n",
              " 0.012924218676220513,\n",
              " 0.030733181463043546,\n",
              " 0.000793055406114927,\n",
              " -0.004859302705922635,\n",
              " 0.008090357374977764,\n",
              " -0.011372295319053954,\n",
              " 0.008312969549511438,\n",
              " -0.013929152996922762,\n",
              " -0.013865550183714985,\n",
              " 0.005686147659526977,\n",
              " -0.0022165798798055836,\n",
              " -0.007447962721717914,\n",
              " 0.010004821330909306,\n",
              " -0.016409687857735788,\n",
              " -0.024271073056255872,\n",
              " -0.004299592734287737,\n",
              " 0.00869459015404843,\n",
              " 0.011486780941621502,\n",
              " -0.005829255153397703,\n",
              " 0.004445880229120464,\n",
              " -0.02317709312068209,\n",
              " -0.0023358362023080705,\n",
              " -0.006430307931506368,\n",
              " -0.008586464533404885,\n",
              " 0.028621547202919505,\n",
              " -0.012434472451039976,\n",
              " 0.010004821330909306,\n",
              " -0.015595563839302034,\n",
              " 0.011976528098124621,\n",
              " -0.004143764305246422,\n",
              " -0.01638424598739461,\n",
              " 0.012167338400393116,\n",
              " -0.049737889804159906,\n",
              " 0.008122159247242943,\n",
              " -0.005288626118857396,\n",
              " 0.031114802067580535,\n",
              " -0.010042983205098487,\n",
              " 0.03157274828314106,\n",
              " 0.0012386769642642207,\n",
              " 0.014310773601459752,\n",
              " -0.016842190340309968,\n",
              " -0.0023151652647324787,\n",
              " 0.0016568695589247167,\n",
              " -0.02507247613951904,\n",
              " 0.012269103087790076,\n",
              " 0.007791421452065723,\n",
              " 0.01013202788864744,\n",
              " -0.02910493342617604,\n",
              " -0.015888139760290073,\n",
              " 0.014247170788251978,\n",
              " 0.006379425122146597,\n",
              " 0.0010788733011897588,\n",
              " -0.001420741798225921,\n",
              " -0.038721774150624354,\n",
              " -0.025504978622093215,\n",
              " -0.03762779421505057,\n",
              " -0.01247263432522916,\n",
              " 0.00511371675272149,\n",
              " 0.017579991541687937,\n",
              " -0.022095835051601474,\n",
              " -0.01501041199732596,\n",
              " 0.02299900375358418,\n",
              " 0.044496965096716405,\n",
              " 0.019793389557886353,\n",
              " -0.0052250223743270366,\n",
              " 0.0015869058124703542,\n",
              " 0.002830353127423546,\n",
              " 0.02416930743753633,\n",
              " 0.0005267160064625981,\n",
              " -0.009235219188588736,\n",
              " -0.013496649583026,\n",
              " -0.027756540375125982,\n",
              " -0.015671886656357815,\n",
              " -0.015124897619893506,\n",
              " 0.02907949341848003,\n",
              " 0.008764553900502792,\n",
              " 0.014209007982740211,\n",
              " -0.019068312085646723,\n",
              " 0.0018508600949858594,\n",
              " -0.0007218990428844913,\n",
              " 0.017274694685529314,\n",
              " 0.01685491220680314,\n",
              " -0.006621118233774864,\n",
              " 0.008262086740151667,\n",
              " -0.01651145347645533,\n",
              " 0.01672770471774242,\n",
              " -0.034066003147802094,\n",
              " -0.027807424115808336,\n",
              " -0.034396741874301896,\n",
              " 0.013407604899477047,\n",
              " 0.007136305863635286,\n",
              " -0.027018741036393176,\n",
              " 0.014209007982740211,\n",
              " -0.0012219810278911304,\n",
              " 0.014030918615642304,\n",
              " 0.004347295077024215,\n",
              " 0.01088890909579742,\n",
              " 0.0033391805225293186,\n",
              " 0.011989248101972626,\n",
              " -0.0042296285221720825,\n",
              " 0.014476142964709655,\n",
              " -0.01255531900685411,\n",
              " -0.035159983083375874,\n",
              " 0.011143322211273692,\n",
              " -0.007034540244915743,\n",
              " -0.024970710520799497,\n",
              " 0.01610439100157716,\n",
              " -0.01499769106215537,\n",
              " -0.00932426387213769,\n",
              " -0.030733181463043546,\n",
              " 0.0004237579164861362,\n",
              " 0.053070709626273284,\n",
              " -0.03536351059552463,\n",
              " -0.021141782608936413,\n",
              " 0.004328214139929624,\n",
              " 0.009521435107652772,\n",
              " 0.009464191365046415,\n",
              " -0.011448619067432319,\n",
              " -0.01960258018694044,\n",
              " -0.004531744911707416,\n",
              " 0.018763015229488096,\n",
              " 0.011245087829993235,\n",
              " 0.001625862919730683,\n",
              " -6.390157858223998e-05,\n",
              " -0.02391489245941489,\n",
              " -0.014285332662441159,\n",
              " 0.009432390424103819,\n",
              " -0.007702376302855478,\n",
              " 0.024589089916262505,\n",
              " 0.006945495561366789,\n",
              " -0.03452394563807228,\n",
              " -0.006026425923251493,\n",
              " 0.008535581724045114,\n",
              " 0.015595563839302034,\n",
              " -0.028443457835821598,\n",
              " -0.010469125685748664,\n",
              " 0.023100769372303723,\n",
              " -0.02161244882834494,\n",
              " 0.026128292338258474,\n",
              " -0.019907877043099067,\n",
              " -0.015124897619893506,\n",
              " -0.010736260667718107,\n",
              " -0.00045635467257649343,\n",
              " 0.0132931192769095,\n",
              " 0.019170075841721097,\n",
              " -0.042537980195994265,\n",
              " -0.015760932271229353,\n",
              " 0.006083669200196558,\n",
              " -0.0013022804759639346,\n",
              " 0.006792847133287477,\n",
              " -0.009731326347015859,\n",
              " -0.006280839504389056,\n",
              " -0.012091013720692169,\n",
              " -0.021065458860558047,\n",
              " -0.004045178687488882,\n",
              " 0.003711260658519014,\n",
              " 0.023736803092316985,\n",
              " -0.010901629099645425,\n",
              " -0.012498076195570336,\n",
              " 0.0017172928368317832,\n",
              " -0.0030116229611447456,\n",
              " -0.010583612239638794,\n",
              " 0.007155386800729876,\n",
              " 0.010004821330909306,\n",
              " 0.006293560439559645,\n",
              " 0.0027540289133838893,\n",
              " 0.024767179283360412,\n",
              " -0.0045826277210671874,\n",
              " 0.018699411484957736,\n",
              " -0.0038798097899002716,\n",
              " -0.0016441488565847738,\n",
              " -0.004366376014118806,\n",
              " 0.003790765106351318,\n",
              " -0.0010939791206665255,\n",
              " 0.00836385235887121,\n",
              " 0.03065685771466518,\n",
              " 0.00666564057554934,\n",
              " -0.011060638460971325,\n",
              " 0.004525384909783414,\n",
              " -0.007155386800729876,\n",
              " -0.012816093055576967,\n",
              " 0.008637347342764657,\n",
              " -0.00045595714335241257,\n",
              " -0.018890220855903646,\n",
              " -0.0037049004237643657,\n",
              " 0.002674524698382231,\n",
              " 0.014501583903728249,\n",
              " -0.0006034376042071819,\n",
              " 0.001495475895369254,\n",
              " -0.0033296400539820233,\n",
              " 0.015099456680874913,\n",
              " 0.009909415714113766,\n",
              " -0.007079063052351512,\n",
              " -0.02013684828823416,\n",
              " 0.024182027441384337,\n",
              " 0.014209007982740211,\n",
              " -0.005320427525461284,\n",
              " 0.02946111402301702,\n",
              " -0.01534114979250318,\n",
              " 0.008980806073112465,\n",
              " -0.015760932271229353,\n",
              " 0.006166353416160218,\n",
              " 0.004735276149146501,\n",
              " -0.04256342020369027,\n",
              " -0.009572317917012543,\n",
              " 0.0019764767686583176,\n",
              " 0.033684380680619935,\n",
              " -3.659682296708382e-05,\n",
              " -0.014705115141167333,\n",
              " -0.004859302705922635,\n",
              " -0.025683067989191122,\n",
              " -0.005339508928217167,\n",
              " 0.014018197680471715,\n",
              " 0.025123358017556226,\n",
              " -0.00022559345453938238,\n",
              " 0.013687459885294495,\n",
              " 0.013700180820465084,\n",
              " 0.02359687559940826,\n",
              " -0.0002136678106476014,\n",
              " -0.0070409007125010374,\n",
              " -0.01836867275845793,\n",
              " -0.022413851911608104,\n",
              " -0.004143764305246422,\n",
              " -0.013369443025287864,\n",
              " -0.005298166587404692,\n",
              " -0.001119420525346411,\n",
              " 0.04090973402177192,\n",
              " 0.01045640568190066,\n",
              " -0.010672656923187748,\n",
              " -0.01083802628643765,\n",
              " 0.012262743085866072,\n",
              " -0.02750212725964971,\n",
              " -0.02500887239498868,\n",
              " -0.02180325819929085,\n",
              " 0.02645903106475828,\n",
              " 0.0013507780517715588,\n",
              " 0.026013806715690927,\n",
              " 0.013712901755635672,\n",
              " 0.018750293362994924,\n",
              " 0.00384482791667309,\n",
              " 0.008491058916609345,\n",
              " -0.01083802628643765,\n",
              " -0.0057879128125852275,\n",
              " 0.025950202971160567,\n",
              " -0.011359574383883365,\n",
              " 0.0012203910274101299,\n",
              " -0.0023072147966661837,\n",
              " -0.03790764920086801,\n",
              " 0.021129062605088407,\n",
              " 0.015137618555064096,\n",
              " 0.012071932783597576,\n",
              " 0.003046604834371927,\n",
              " 0.009534156042823361,\n",
              " 0.02110362073474723,\n",
              " -0.020594794503794686,\n",
              " -0.010787143477077878,\n",
              " 0.009286101997948508,\n",
              " 0.013471208644007405,\n",
              " -0.006159992948574923,\n",
              " 0.026077410460221287,\n",
              " -0.02381312684069535,\n",
              " 0.003574513399402937,\n",
              " 0.010450044748654073,\n",
              " 0.005552580168542255,\n",
              " -0.008141240184337534,\n",
              " 0.015035852936344553,\n",
              " 0.012510796199418342,\n",
              " -0.009088931693756009,\n",
              " 0.01764359342357313,\n",
              " -0.009247940123759325,\n",
              " -0.012841533994595561,\n",
              " 0.005765651874528635,\n",
              " -0.01328039834173891,\n",
              " 0.024283793060103878,\n",
              " 0.005651165786299796,\n",
              " 0.024080261822664793,\n",
              " 0.02227392441869938,\n",
              " 0.014234449853081388,\n",
              " -0.02592476110081939,\n",
              " -0.014959529187966189,\n",
              " 0.019106473959835904,\n",
              " -0.026077410460221287,\n",
              " -0.0011591726328472399,\n",
              " 0.013064146169129237,\n",
              " -0.000635636860177289,\n",
              " 0.03752603045897619,\n",
              " -0.018406834632647112,\n",
              " -0.020403983270203607,\n",
              " 0.009082570760509423,\n",
              " -0.016765866591931602,\n",
              " 0.003933872600222044,\n",
              " -0.015799094145418534,\n",
              " -0.007397079912358143,\n",
              " 0.027654774756406438,\n",
              " -0.0039815754086198136,\n",
              " -0.021905023818010395,\n",
              " -0.003460027078343452,\n",
              " -0.017249252815188135,\n",
              " -9.714431238577097e-06,\n",
              " -0.023126211242644898,\n",
              " -0.000126908738238171,\n",
              " 0.0012092604419665107,\n",
              " -0.01745278405262722,\n",
              " -0.0023692280750542507,\n",
              " -0.011226006892898644,\n",
              " -0.021179944483125594,\n",
              " -0.017351018433907676,\n",
              " 0.0018349592752685924,\n",
              " 0.007944069880145036,\n",
              " -0.012809733053652966,\n",
              " 0.026993299166052,\n",
              " 0.22103467798968343,\n",
              " -0.01539203260186295,\n",
              " 0.013382163960458451,\n",
              " 0.0166004972286817,\n",
              " -0.024970710520799497,\n",
              " 0.02246473565229046,\n",
              " 0.05897310806142606,\n",
              " 0.0010725129500197873,\n",
              " -0.006926414624272199,\n",
              " 0.017567269675194768,\n",
              " -0.039815754086198134,\n",
              " 0.029969940253969565,\n",
              " 0.02306260749811454,\n",
              " 0.011683952177136582,\n",
              " -0.0025123358017556225,\n",
              " -0.03701720050273331,\n",
              " -0.04001928532363722,\n",
              " 0.008293888612416847,\n",
              " -0.034854684364572085,\n",
              " 0.032361429499911054,\n",
              " 0.0293339065339563,\n",
              " -0.005447634548860712,\n",
              " 0.017974332150072936,\n",
              " -0.010901629099645425,\n",
              " 0.01994603891728825,\n",
              " -0.011664871240041992,\n",
              " -0.017618153415877122,\n",
              " 0.00648437074182814,\n",
              " -0.0022181698802865844,\n",
              " 0.03317555444966739,\n",
              " -1.761517177207353e-05,\n",
              " -0.006353983717466712,\n",
              " -0.021752376321253663,\n",
              " 0.0047956994270535675,\n",
              " 0.004131043370075834,\n",
              " -0.01289877773720192,\n",
              " 0.005406292208048236,\n",
              " -0.029791850886871658,\n",
              " -0.0012307266126132487,\n",
              " 0.0058578765590395895,\n",
              " 0.01183023967196931,\n",
              " 0.019233679586251457,\n",
              " 0.011881122481329082,\n",
              " -0.006020065455666198,\n",
              " 0.009082570760509423,\n",
              " 0.0016536894415473925,\n",
              " ...]"
            ]
          },
          "metadata": {},
          "execution_count": 24
        }
      ]
    },
    {
      "cell_type": "markdown",
      "source": [
        "### Chroma Vector Database\n",
        "\n",
        "**Chroma**: By default, Chroma is an in-memory vector database that stores embeddings of the documents. It operates in memory unless explicitly configured to persist data to disk or another storage backend.\n",
        "\n",
        "**In-memory storage:** This means that the vector store, which stores the embeddings of the documents, exists in your computer's RAM during runtime. Once you stop the program, the data is lost unless you've configured Chroma to save it.\n",
        "\n",
        "Chroma.from_documents(dataset, embeddings):\n",
        "\n",
        "* dataset: This refers to the documents for which you want to generate and store embeddings.\n",
        "* embeddings: This is the embedding model (like OpenAIEmbeddings), which is used to convert the documents into vector representations (embeddings).\n",
        "\n",
        "Chroma will take the embeddings of the documents and store them in-memory for fast retrieval and similarity search."
      ],
      "metadata": {
        "id": "n7rQSSAnnDcC"
      }
    },
    {
      "cell_type": "code",
      "execution_count": 25,
      "metadata": {
        "id": "gPubtFvrbc79"
      },
      "outputs": [],
      "source": [
        "# Create a vector store\n",
        "from langchain.vectorstores import Chroma\n",
        "vectorstore = Chroma.from_documents(dataset, embeddings)"
      ]
    },
    {
      "cell_type": "markdown",
      "source": [
        "### Creation of Vector Store Retriever\n",
        "\n",
        "**Creating a Retriever:** The retriever is an object that allows us to search through a vector store (which stores embeddings of documents or text chunks) and find the most relevant documents or text based on a given query. The retriever’s job is to return a subset of documents that best match the query based on similarity of their embeddings.\n",
        "\n",
        "**Setting top_k = 5:** The variable top_k is set to 5, which defines the number of results (documents or text chunks) the retriever should return from the vector store. In this case, when you perform a search or query using the retriever, it will return the top 5 most similar documents.\n",
        "\n",
        "**Reason for using k: **In machine learning, k is commonly used to represent the number of nearest neighbors or results that should be returned from a search. When we perform a search in a vector database, the system compares the embedding of the query with the stored document embeddings to find the closest matches.\n",
        "\n",
        "**By specifying k = 5,** we limit the results to only the top 5 most similar embeddings. This is useful because retrieving too many results may introduce noise, while retrieving too few may omit valuable information. The choice of k balances relevance and result quantity, helping to ensure that the top 5 most relevant results are retrieved for the query, offering better performance and accuracy for tasks like question-answering or document search.\n",
        "\n",
        "**vectorstore.as_retriever(search_kwargs={\"k\": top_k}):** This line converts the vector store into a retriever object by passing search_kwargs={\"k\": top_k}. The search_kwargs argument allows you to specify additional search parameters for the retriever—in this case, limiting the number of results to the top 5 using the k value.\n",
        "\n",
        "**Why is k Important?**\n",
        "* **Efficiency**: Limiting the number of retrieved documents improves efficiency. You don't need to process or rank too many results, which could slow down response time.\n",
        "* **Relevance**: Instead of returning all possible matches, we retrieve only the top k (5 in this case) results, ensuring that the returned documents are the most relevant and not overwhelming the system with irrelevant data.\n",
        "* **Performance**: Focusing on a smaller number of high-quality matches makes it easier to integrate with downstream systems like question-answering modules, which can then provide more accurate responses without unnecessary computation.\n",
        "In short, k helps fine-tune the retrieval process, ensuring efficiency and relevance in returning a manageable number of top results."
      ],
      "metadata": {
        "id": "2UM2FpMSkcwH"
      }
    },
    {
      "cell_type": "code",
      "source": [
        "# Create a retriever\n",
        "top_k = 5\n",
        "retriever = vectorstore.as_retriever(search_kwargs={\"k\": top_k})"
      ],
      "metadata": {
        "id": "z3-GZHGRPqUR"
      },
      "execution_count": 26,
      "outputs": []
    },
    {
      "cell_type": "code",
      "source": [
        "query_text= \"Can you tell more about Easing Cost of Living Pressures in Australia Budget 2024?\""
      ],
      "metadata": {
        "id": "0Y2_rLX6OtDy"
      },
      "execution_count": 27,
      "outputs": []
    },
    {
      "cell_type": "code",
      "source": [
        "# Get top 3 relevant chunks based on the query\n",
        "relevant_chunks = retriever.get_relevant_documents(query_text)\n",
        "\n",
        "for idx, chunk in enumerate(relevant_chunks, start=1):\n",
        "    print(f\"Chunk {idx}:\\n{chunk.page_content}\\n\")"
      ],
      "metadata": {
        "colab": {
          "base_uri": "https://localhost:8080/"
        },
        "id": "JmPkuo8NDr8e",
        "outputId": "d52602c4-7542-4a17-ae0a-26fa15d82ba8"
      },
      "execution_count": 28,
      "outputs": [
        {
          "output_type": "stream",
          "name": "stderr",
          "text": [
            "<ipython-input-28-97b943cea3e3>:2: LangChainDeprecationWarning: The method `BaseRetriever.get_relevant_documents` was deprecated in langchain-core 0.1.46 and will be removed in 1.0. Use :meth:`~invoke` instead.\n",
            "  relevant_chunks = retriever.get_relevant_documents(query_text)\n"
          ]
        },
        {
          "output_type": "stream",
          "name": "stdout",
          "text": [
            "Chunk 1:\n",
            "Cost of living help and a future \n",
            "made in Australia\n",
            "Easing pressures today and investing in a better future\n",
            "Australia is facing an uncertain global economic environment and a changing \n",
            "world. Global challenges, high but moderating inflation and higher interest \n",
            "rates have contributed to cost-of-living pressures and slower growth. \n",
            "While many Australians remain under pressure, our economy is better placed \n",
            "than most to handle these challenges. This Government's responsible \n",
            "economic management has helped ease inflationary and budget pressures. \n",
            "Though inflation is still too high, it is now less than half its peak and almost half \n",
            "of what it was around the middle of 2022. Unemployment is near a 50-year \n",
            "low. Real wages growth has returned. Australia recorded the second strongest \n",
            "budget balance among G20 countries. And we are uniquely placed to \n",
            "maximise opportunities from changes in the global economy, including the net \n",
            "zero transformation. \n",
            "The Budget helps people under pressure today and invests in a Future Made \n",
            "in Australia. It provides responsible cost-of-living relief, helps Australians earn \n",
            "more and keep more of what they earn, and builds a stronger and more \n",
            "resilient economy. \n",
            "At the same time, the Budget forecasts a second surplus in 2023–24, \n",
            "representing the first back -to-back surplus in nearly two decades, lower \n",
            "debt every year over the forward estimates and lower inflation, which is now \n",
            "expected to be back in the RBA's target band sooner. \n",
            "This Budget responds to the challenges of today and lays the foundation for \n",
            "future prosperity by:\n",
            "• easing cost-of-living pressures\n",
            "• building more homes for Australians\n",
            "• investing in a Future Made in Australia\n",
            "• strengthening Medicare and the care economy\n",
            "• broadening opportunity and advancing equality\n",
            "All of which is underpinned by responsible economic management. \n",
            "This Budget strikes the right balance between keeping pressure off inflation, \n",
            "delivering cost-of-living relief, supporting sustainable economic growth and \n",
            "strengthening public finances.\n",
            "4  \n",
            "Cost of living help and  a future made in Australia   |   Budget 2024–25\n",
            "\n",
            "Chunk 2:\n",
            "Easing cost ‑of‑living  \n",
            "pressures\n",
            " ?All 13.6 million Australian taxpayers will get a tax cut, with an average tax cut of $1,888 or \n",
            "$36 a week\n",
            " ?$3.5 billion in energy bill relief for all Australian households and one million small businesses \n",
            " ?$1.9 billion to increase Commonwealth Rent Assistance by a further 10 per cent, benefiting \n",
            "nearly 1 million households\n",
            " ?Cheaper medicines as part of the up to $3 billion agreement with community pharmacies\n",
            " ?Waiving $3 billion in student debt for more than 3 million Australians to make student \n",
            "loans  fairer\n",
            " ?Getting consumers a better deal at the supermarket checkout and through the \n",
            "energy  transition \n",
            " ?$1.1 billion to pay superannuation on Government-funded Paid Parental Leave \n",
            " ?$138 million to boost funding for emergency and food relief and financial support services\n",
            " ?Supporting wages growth through submissions to the Fair Work Commission and supporting \n",
            "pay rises for care sector workers \n",
            " ?Extending the freeze on deeming rates for 876,000 income support recipients \n",
            "Easing cost-of-living pressures  11 \n",
            "Cost of living help and  a future made in Australia   |   Budget 2024–25\n",
            "\n",
            "Chunk 3:\n",
            "56 Broadening opportunity and advancing equality \n",
            "Cost of living help and a future made in Australia   |   Budget 2024–25\n",
            "\n",
            "Chunk 4:\n",
            "Cost of living help \n",
            "& a future made  \n",
            "in Australia\n",
            "budget.gov.au\n",
            "May 2024\n",
            "\n",
            "Chunk 5:\n",
            "Cost of living help \n",
            "& a future made  \n",
            "in Australia\n",
            "budget.gov.au\n",
            "May 2024\n",
            "\n"
          ]
        }
      ]
    },
    {
      "cell_type": "markdown",
      "metadata": {
        "id": "WtcSTozebc7-"
      },
      "source": [
        "### Retrieval Augmented Generation"
      ]
    },
    {
      "cell_type": "markdown",
      "metadata": {
        "id": "ZUibp8c0bc7-"
      },
      "source": [
        "We've built a fully-fledged knowledge base. Now it's time to connect that knowledge base to our chatbot. To do that we'll be diving back into LangChain and reusing our template prompt from earlier."
      ]
    },
    {
      "cell_type": "markdown",
      "metadata": {
        "id": "8Z9sXYfobc7-"
      },
      "source": [
        "To use LangChain here we need to load the LangChain abstraction for a vector index, called a `vectorstore`. We pass in our vector `index` to initialize the object."
      ]
    },
    {
      "cell_type": "markdown",
      "metadata": {
        "id": "kM2Pcf_Pbc7_"
      },
      "source": [
        "Using this `vectorstore` we can already query the index and see if we have any relevant information given our question about Australia Budget 2024.\n",
        "\n",
        "vectorstore.similarity_search: This function performs a similarity search on the vector store (created using embeddings) based on the query you provide. It finds the documents that are most similar to the query by comparing their vector embeddings.\n",
        "\n",
        "Going forward, we will use **vectorstore.similarity_search** function which is similar to the retriever we mentioned about.\n",
        "\n",
        "| Feature                          | `vectorstore.similarity_search(query, k=3)`              | `retriever = vectorstore.as_retriever(search_kwargs={\"k\": top_k})`   |\n",
        "| --------------------------------- | ------------------------------------------------------- | ------------------------------------------------------------------- |\n",
        "| **Purpose**                       | Direct similarity search on a query                     | Converts vector store into a retriever for broader pipeline usage   |\n",
        "| **Integration**                   | Standalone search operation                             | Integrates with LangChain workflows (e.g., RAG, LLMChain, etc.)     |\n",
        "| **Usage**                         | For simple retrieval tasks                              | For more flexible or complex retrieval tasks in larger workflows    |\n",
        "| **Output**                        | Returns the top `k` similar documents directly           | Returns a retriever object to use within other processes            |\n",
        "| **Flexibility**                   | Limited to direct searches                              | Highly flexible for use in pipelines or more advanced workflows     |\n",
        "| **Configuration**                 | Specify `k` directly in the function                    | Configure `k` in `search_kwargs`, part of a retriever configuration |\n"
      ]
    },
    {
      "cell_type": "code",
      "execution_count": 29,
      "metadata": {
        "id": "_VLN-0bebc7_",
        "outputId": "af7ce743-1a0e-4f09-b2ba-731acb309758",
        "colab": {
          "base_uri": "https://localhost:8080/"
        }
      },
      "outputs": [
        {
          "output_type": "execute_result",
          "data": {
            "text/plain": [
              "[Document(metadata={'page': 4, 'source': '/content/budget-overview-final.pdf'}, page_content=\"Cost of living help and a future \\nmade in Australia\\nEasing pressures today and investing in a better future\\nAustralia is facing an uncertain global economic environment and a changing \\nworld. Global challenges, high but moderating inflation and higher interest \\nrates have contributed to cost-of-living pressures and slower growth. \\nWhile many Australians remain under pressure, our economy is better placed \\nthan most to handle these challenges. This Government's responsible \\neconomic management has helped ease inflationary and budget pressures. \\nThough inflation is still too high, it is now less than half its peak and almost half \\nof what it was around the middle of 2022. Unemployment is near a 50-year \\nlow. Real wages growth has returned. Australia recorded the second strongest \\nbudget balance among G20 countries. And we are uniquely placed to \\nmaximise opportunities from changes in the global economy, including the net \\nzero transformation. \\nThe Budget helps people under pressure today and invests in a Future Made \\nin Australia. It provides responsible cost-of-living relief, helps Australians earn \\nmore and keep more of what they earn, and builds a stronger and more \\nresilient economy. \\nAt the same time, the Budget forecasts a second surplus in 2023–24, \\nrepresenting the first back -to-back surplus in nearly two decades, lower \\ndebt every year over the forward estimates and lower inflation, which is now \\nexpected to be back in the RBA's target band sooner. \\nThis Budget responds to the challenges of today and lays the foundation for \\nfuture prosperity by:\\n• easing cost-of-living pressures\\n• building more homes for Australians\\n• investing in a Future Made in Australia\\n• strengthening Medicare and the care economy\\n• broadening opportunity and advancing equality\\nAll of which is underpinned by responsible economic management. \\nThis Budget strikes the right balance between keeping pressure off inflation, \\ndelivering cost-of-living relief, supporting sustainable economic growth and \\nstrengthening public finances.\\n4  \\nCost of living help and  a future made in Australia   |   Budget 2024–25\"),\n",
              " Document(metadata={'page': 11, 'source': '/content/budget-overview-final.pdf'}, page_content='Easing cost ‑of‑living  \\npressures\\n ?All 13.6 million Australian taxpayers will get a tax cut, with an average tax cut of $1,888 or \\n$36 a week\\n ?$3.5 billion in energy bill relief for all Australian households and one million small businesses \\n ?$1.9 billion to increase Commonwealth Rent Assistance by a further 10 per cent, benefiting \\nnearly 1 million households\\n ?Cheaper medicines as part of the up to $3 billion agreement with community pharmacies\\n ?Waiving $3 billion in student debt for more than 3 million Australians to make student \\nloans  fairer\\n ?Getting consumers a better deal at the supermarket checkout and through the \\nenergy  transition \\n ?$1.1 billion to pay superannuation on Government-funded Paid Parental Leave \\n ?$138 million to boost funding for emergency and food relief and financial support services\\n ?Supporting wages growth through submissions to the Fair Work Commission and supporting \\npay rises for care sector workers \\n ?Extending the freeze on deeming rates for 876,000 income support recipients \\nEasing cost-of-living pressures  11 \\nCost of living help and  a future made in Australia   |   Budget 2024–25'),\n",
              " Document(metadata={'page': 56, 'source': '/content/budget-overview-final.pdf'}, page_content='56 Broadening opportunity and advancing equality \\nCost of living help and a future made in Australia   |   Budget 2024–25')]"
            ]
          },
          "metadata": {},
          "execution_count": 29
        }
      ],
      "source": [
        "query = \"Can you tell more about Easing Cost of Living Pressures in Australia Budget 2024?\"\n",
        "\n",
        "vectorstore.similarity_search(query, k=3)"
      ]
    },
    {
      "cell_type": "markdown",
      "metadata": {
        "id": "DKVv_NYCbc7_"
      },
      "source": [
        "We return a lot of text here and it's not that clear what we need or what is relevant. Fortunately, our LLM will be able to parse this information much faster than us. All we need is to connect the output from our `vectorstore` to our `chat` chatbot. To do that we can use the same logic as we used earlier."
      ]
    },
    {
      "cell_type": "code",
      "execution_count": 30,
      "metadata": {
        "id": "ilDqdDb_bc7_"
      },
      "outputs": [],
      "source": [
        "def augment_prompt(query: str):\n",
        "    retriever = vectorstore.similarity_search(query, k=3)\n",
        "\n",
        "    # get the text from the results\n",
        "    source_knowledge = \"\\n\".join([x.page_content for x in retriever])\n",
        "    # feed into an augmented prompt\n",
        "    augmented_prompt = f\"\"\"Using the contexts below, answer the query.\n",
        "\n",
        "    Contexts:\n",
        "    {source_knowledge}\n",
        "\n",
        "    Query: {query}\"\"\"\n",
        "    return augmented_prompt"
      ]
    },
    {
      "cell_type": "markdown",
      "metadata": {
        "id": "xq2eeptIbc7_"
      },
      "source": [
        "Using this we produce an augmented prompt:"
      ]
    },
    {
      "cell_type": "code",
      "execution_count": 31,
      "metadata": {
        "id": "qsw3qMI7bc7_",
        "outputId": "19288a55-0648-41b7-c98d-09caef525276",
        "colab": {
          "base_uri": "https://localhost:8080/"
        }
      },
      "outputs": [
        {
          "output_type": "stream",
          "name": "stdout",
          "text": [
            "Using the contexts below, answer the query.\n",
            "\n",
            "    Contexts:\n",
            "    Cost of living help and a future \n",
            "made in Australia\n",
            "Easing pressures today and investing in a better future\n",
            "Australia is facing an uncertain global economic environment and a changing \n",
            "world. Global challenges, high but moderating inflation and higher interest \n",
            "rates have contributed to cost-of-living pressures and slower growth. \n",
            "While many Australians remain under pressure, our economy is better placed \n",
            "than most to handle these challenges. This Government's responsible \n",
            "economic management has helped ease inflationary and budget pressures. \n",
            "Though inflation is still too high, it is now less than half its peak and almost half \n",
            "of what it was around the middle of 2022. Unemployment is near a 50-year \n",
            "low. Real wages growth has returned. Australia recorded the second strongest \n",
            "budget balance among G20 countries. And we are uniquely placed to \n",
            "maximise opportunities from changes in the global economy, including the net \n",
            "zero transformation. \n",
            "The Budget helps people under pressure today and invests in a Future Made \n",
            "in Australia. It provides responsible cost-of-living relief, helps Australians earn \n",
            "more and keep more of what they earn, and builds a stronger and more \n",
            "resilient economy. \n",
            "At the same time, the Budget forecasts a second surplus in 2023–24, \n",
            "representing the first back -to-back surplus in nearly two decades, lower \n",
            "debt every year over the forward estimates and lower inflation, which is now \n",
            "expected to be back in the RBA's target band sooner. \n",
            "This Budget responds to the challenges of today and lays the foundation for \n",
            "future prosperity by:\n",
            "• easing cost-of-living pressures\n",
            "• building more homes for Australians\n",
            "• investing in a Future Made in Australia\n",
            "• strengthening Medicare and the care economy\n",
            "• broadening opportunity and advancing equality\n",
            "All of which is underpinned by responsible economic management. \n",
            "This Budget strikes the right balance between keeping pressure off inflation, \n",
            "delivering cost-of-living relief, supporting sustainable economic growth and \n",
            "strengthening public finances.\n",
            "4  \n",
            "Cost of living help and  a future made in Australia   |   Budget 2024–25\n",
            "Easing cost ‑of‑living  \n",
            "pressures\n",
            " ?All 13.6 million Australian taxpayers will get a tax cut, with an average tax cut of $1,888 or \n",
            "$36 a week\n",
            " ?$3.5 billion in energy bill relief for all Australian households and one million small businesses \n",
            " ?$1.9 billion to increase Commonwealth Rent Assistance by a further 10 per cent, benefiting \n",
            "nearly 1 million households\n",
            " ?Cheaper medicines as part of the up to $3 billion agreement with community pharmacies\n",
            " ?Waiving $3 billion in student debt for more than 3 million Australians to make student \n",
            "loans  fairer\n",
            " ?Getting consumers a better deal at the supermarket checkout and through the \n",
            "energy  transition \n",
            " ?$1.1 billion to pay superannuation on Government-funded Paid Parental Leave \n",
            " ?$138 million to boost funding for emergency and food relief and financial support services\n",
            " ?Supporting wages growth through submissions to the Fair Work Commission and supporting \n",
            "pay rises for care sector workers \n",
            " ?Extending the freeze on deeming rates for 876,000 income support recipients \n",
            "Easing cost-of-living pressures  11 \n",
            "Cost of living help and  a future made in Australia   |   Budget 2024–25\n",
            "56 Broadening opportunity and advancing equality \n",
            "Cost of living help and a future made in Australia   |   Budget 2024–25\n",
            "\n",
            "    Query: Can you tell more about Easing Cost of Living Pressures in Australia Budget 2024?\n"
          ]
        }
      ],
      "source": [
        "print(augment_prompt(query))"
      ]
    },
    {
      "cell_type": "markdown",
      "metadata": {
        "id": "l_YNDXjmbc7_"
      },
      "source": [
        "There is still a lot of text here, so let's pass it onto our chat model to see how it performs."
      ]
    },
    {
      "cell_type": "code",
      "execution_count": 32,
      "metadata": {
        "id": "7fR4JWZobc7_",
        "outputId": "e3dfafb6-121d-4577-c5cb-a8434baa9426",
        "colab": {
          "base_uri": "https://localhost:8080/"
        }
      },
      "outputs": [
        {
          "output_type": "stream",
          "name": "stdout",
          "text": [
            "In the Australia Budget 2024, there are several measures aimed at easing cost-of-living pressures for Australians. Here are some key initiatives outlined in the budget:\n",
            "\n",
            "1. Tax Cuts: All 13.6 million Australian taxpayers will receive a tax cut, with an average tax cut of $1,888 or $36 a week. This measure aims to put more money back into the pockets of taxpayers, providing them with additional financial relief.\n",
            "\n",
            "2. Energy Bill Relief: The budget includes $3.5 billion in energy bill relief for all Australian households and one million small businesses. This initiative is designed to help reduce the financial burden of energy costs on households and businesses.\n",
            "\n",
            "3. Commonwealth Rent Assistance Increase: $1.9 billion has been allocated to increase Commonwealth Rent Assistance by a further 10 per cent, benefiting nearly 1 million households. This increase in rental assistance aims to support individuals and families facing housing affordability challenges.\n",
            "\n",
            "4. Cheaper Medicines: The budget includes measures to provide cheaper medicines as part of an up to $3 billion agreement with community pharmacies. This initiative aims to make essential medications more affordable for Australians.\n",
            "\n",
            "5. Student Debt Waiver: The budget includes the waiving of $3 billion in student debt for more than 3 million Australians to make student loans fairer. This measure aims to alleviate the financial burden on individuals with outstanding student loans.\n",
            "\n",
            "6. Superannuation on Government-funded Paid Parental Leave: $1.1 billion has been allocated to pay superannuation on Government-funded Paid Parental Leave. This initiative aims to support parents by ensuring they receive superannuation contributions during parental leave.\n",
            "\n",
            "7. Emergency and Food Relief Funding: $138 million has been allocated to boost funding for emergency and food relief, as well as financial support services. This funding aims to provide assistance to individuals and families facing financial hardship.\n",
            "\n",
            "8. Supporting Wages Growth: The budget includes measures to support wages growth through submissions to the Fair Work Commission and supporting pay rises for care sector workers. This initiative aims to improve the financial well-being of workers in key sectors.\n",
            "\n",
            "9. Freeze on Deeming Rates: The budget extends the freeze on deeming rates for 876,000 income support recipients. This measure aims to provide additional financial support to individuals receiving income support.\n",
            "\n",
            "Overall, these initiatives in the Australia Budget 2024 are designed to ease cost-of-living pressures, provide financial relief to households and businesses, and support individuals facing economic challenges.\n"
          ]
        }
      ],
      "source": [
        "# create a new user prompt\n",
        "prompt = HumanMessage(\n",
        "    content=augment_prompt(query)\n",
        ")\n",
        "# add to messages\n",
        "messages.append(prompt)\n",
        "\n",
        "res = chat(messages)\n",
        "\n",
        "print(res.content)"
      ]
    },
    {
      "cell_type": "markdown",
      "metadata": {
        "id": "e2UYdOZ3bc7_"
      },
      "source": [
        "We can continue with more Llama 2 questions. Let's try _without_ RAG first:"
      ]
    },
    {
      "cell_type": "code",
      "execution_count": 33,
      "metadata": {
        "id": "dAW8xIRPbc7_",
        "outputId": "b86b81a0-7bb3-40d5-af14-eacde2dc74d0",
        "colab": {
          "base_uri": "https://localhost:8080/"
        }
      },
      "outputs": [
        {
          "output_type": "stream",
          "name": "stdout",
          "text": [
            "The key highlights of the Australia Budget 2024 include:\n",
            "\n",
            "1. Tax cuts for all 13.6 million Australian taxpayers, with an average tax cut of $1,888 or $36 a week.\n",
            "2. $3.5 billion in energy bill relief for all Australian households and one million small businesses.\n",
            "3. $1.9 billion to increase Commonwealth Rent Assistance by a further 10 per cent, benefiting nearly 1 million households.\n",
            "4. Cheaper medicines as part of the up to $3 billion agreement with community pharmacies.\n",
            "5. Waiving $3 billion in student debt for more than 3 million Australians to make student loans fairer.\n",
            "6. Initiatives to get consumers a better deal at the supermarket checkout and through the energy transition.\n",
            "7. $1.1 billion to pay superannuation on Government-funded Paid Parental Leave.\n",
            "8. $138 million to boost funding for emergency and food relief and financial support services.\n",
            "9. Supporting wages growth through submissions to the Fair Work Commission and supporting pay rises for care sector workers.\n",
            "10. Extending the freeze on deeming rates for 876,000 income support recipients.\n",
            "\n",
            "These measures are aimed at easing cost-of-living pressures, providing relief to Australian households and businesses, and supporting economic growth and prosperity in the country.\n"
          ]
        }
      ],
      "source": [
        "prompt = HumanMessage(\n",
        "    content=\"what are the key highlights of the Australia budget 2024\"\n",
        ")\n",
        "\n",
        "res = chat(messages + [prompt])\n",
        "print(res.content)"
      ]
    },
    {
      "cell_type": "markdown",
      "metadata": {
        "id": "HDoYWikVbc7_"
      },
      "source": [
        "The chatbot is able to respond about Llama 2 thanks to it's conversational history stored in `messages`. However, it doesn't know anything about the safety measures themselves as we have not provided it with that information via the RAG pipeline. Let's try again but with RAG."
      ]
    },
    {
      "cell_type": "code",
      "execution_count": 34,
      "metadata": {
        "id": "BSdbG6Gpbc8A",
        "outputId": "ce69af89-4d09-44d6-e02e-de47bf524366",
        "colab": {
          "base_uri": "https://localhost:8080/"
        }
      },
      "outputs": [
        {
          "output_type": "stream",
          "name": "stdout",
          "text": [
            "To strengthen the economy, the Australia Budget 2024 includes several measures aimed at promoting growth, supporting key sectors, and enhancing infrastructure. Some of the key measures taken to strengthen the economy include:\n",
            "\n",
            "1. Strengthening Medicare and the Care Economy:\n",
            "   - Allocating $2.8 billion to strengthen Medicare and enhance the health system.\n",
            "   - Investing $3.4 billion for new and amended listings on the Pharmaceutical Benefits Scheme.\n",
            "   - Allocating $825.7 million for COVID-19 testing and vaccination efforts.\n",
            "   - Providing $888.1 million to improve access to mental health care.\n",
            "   - Investing $2.2 billion to enhance aged care services.\n",
            "   - Allocating $468.7 million to support people with disabilities and improve the National Disability Insurance Scheme (NDIS).\n",
            "   - Introducing a new specialized disability employment program with $227.6 million to help individuals with disabilities find employment.\n",
            "   - Supporting additional frontline staff at Services Australia with $1.8 billion.\n",
            "   - Investing $630.3 million to sustain and enhance myGov services.\n",
            "   - Enhancing safety and security measures at Services Australia with $314.1 million.\n",
            "\n",
            "2. Streamlining Approvals and Infrastructure Investment:\n",
            "   - Allocating $134.2 million to prioritize approvals for renewable energy projects and accelerate decisions on environmental, cultural heritage, and planning approvals.\n",
            "   - Collaborating with states and territories to expedite electricity grid connections and increase capacity.\n",
            "   - Strengthening scrutiny of high-risk foreign investment proposals and enhancing monitoring and enforcement activities.\n",
            "   - Committing $17.3 million to mobilize private sector investment in sustainable activities and develop a sustainable finance taxonomy.\n",
            "   - Issuing sovereign green bonds and promoting sustainable finance practices.\n",
            "\n",
            "These measures aim to support key sectors such as healthcare, aged care, disability services, and sustainable finance, while also streamlining approval processes and promoting private sector investment in sustainable activities to drive economic growth and resilience.\n"
          ]
        }
      ],
      "source": [
        "prompt = HumanMessage(\n",
        "    content=augment_prompt(\n",
        "        \"What measures taken to strenghthen the economy?\"\n",
        "    )\n",
        ")\n",
        "res = chat(messages + [prompt])\n",
        "print(res.content)"
      ]
    },
    {
      "cell_type": "markdown",
      "metadata": {
        "id": "pA-dKw64bc8A"
      },
      "source": [
        "We get a much more informed response that includes several items missing in the previous non-RAG response, such as \"red-teaming\", \"iterative evaluations\", and the intention of the researchers to share this research to help \"improve their safety, promoting responsible development in the field\"."
      ]
    },
    {
      "cell_type": "markdown",
      "metadata": {
        "id": "LsQU9O05bc8A"
      },
      "source": [
        "---"
      ]
    },
    {
      "cell_type": "markdown",
      "source": [
        "### Quick Prototype of a ChatBot\n",
        "\n",
        "\"[Gradio](https://www.gradio.app/guides/creating-a-chatbot-fast)  is a powerful tool that allows you to easily build and share machine learning applications with an intuitive user interface. It enables real-time interaction with your AI models, making it perfect for building live experiences, such as chatbots.\n",
        "\n",
        "In this live demo, we’ve used Gradio to create an interactive interface for our AI chatbot, allowing you to engage in meaningful conversations and see the system retrieve and generate responses instantly.\n",
        "\n",
        "Here’s a quick example of how you can integrate Gradio with a chatbot:"
      ],
      "metadata": {
        "id": "y48u9TxztcB1"
      }
    },
    {
      "cell_type": "code",
      "source": [
        "!pip install gradio"
      ],
      "metadata": {
        "colab": {
          "base_uri": "https://localhost:8080/"
        },
        "id": "5ZcFzjb4dM_q",
        "outputId": "11b8483a-53a4-4828-ec40-5185f1b2d8ad"
      },
      "execution_count": 35,
      "outputs": [
        {
          "output_type": "stream",
          "name": "stdout",
          "text": [
            "Collecting gradio\n",
            "  Downloading gradio-5.1.0-py3-none-any.whl.metadata (15 kB)\n",
            "Collecting aiofiles<24.0,>=22.0 (from gradio)\n",
            "  Downloading aiofiles-23.2.1-py3-none-any.whl.metadata (9.7 kB)\n",
            "Requirement already satisfied: anyio<5.0,>=3.0 in /usr/local/lib/python3.10/dist-packages (from gradio) (3.7.1)\n",
            "Requirement already satisfied: fastapi<1.0 in /usr/local/lib/python3.10/dist-packages (from gradio) (0.115.2)\n",
            "Collecting ffmpy (from gradio)\n",
            "  Downloading ffmpy-0.4.0-py3-none-any.whl.metadata (2.9 kB)\n",
            "Collecting gradio-client==1.4.0 (from gradio)\n",
            "  Downloading gradio_client-1.4.0-py3-none-any.whl.metadata (7.1 kB)\n",
            "Requirement already satisfied: httpx>=0.24.1 in /usr/local/lib/python3.10/dist-packages (from gradio) (0.27.2)\n",
            "Collecting huggingface-hub>=0.25.1 (from gradio)\n",
            "  Downloading huggingface_hub-0.25.2-py3-none-any.whl.metadata (13 kB)\n",
            "Requirement already satisfied: jinja2<4.0 in /usr/local/lib/python3.10/dist-packages (from gradio) (3.1.4)\n",
            "Collecting markupsafe~=2.0 (from gradio)\n",
            "  Downloading MarkupSafe-2.1.5-cp310-cp310-manylinux_2_17_x86_64.manylinux2014_x86_64.whl.metadata (3.0 kB)\n",
            "Requirement already satisfied: numpy<3.0,>=1.0 in /usr/local/lib/python3.10/dist-packages (from gradio) (1.26.4)\n",
            "Requirement already satisfied: orjson~=3.0 in /usr/local/lib/python3.10/dist-packages (from gradio) (3.10.7)\n",
            "Requirement already satisfied: packaging in /usr/local/lib/python3.10/dist-packages (from gradio) (24.1)\n",
            "Requirement already satisfied: pandas<3.0,>=1.0 in /usr/local/lib/python3.10/dist-packages (from gradio) (2.2.2)\n",
            "Requirement already satisfied: pillow<11.0,>=8.0 in /usr/local/lib/python3.10/dist-packages (from gradio) (10.4.0)\n",
            "Requirement already satisfied: pydantic>=2.0 in /usr/local/lib/python3.10/dist-packages (from gradio) (2.9.2)\n",
            "Collecting pydub (from gradio)\n",
            "  Downloading pydub-0.25.1-py2.py3-none-any.whl.metadata (1.4 kB)\n",
            "Collecting python-multipart>=0.0.9 (from gradio)\n",
            "  Downloading python_multipart-0.0.12-py3-none-any.whl.metadata (1.9 kB)\n",
            "Requirement already satisfied: pyyaml<7.0,>=5.0 in /usr/local/lib/python3.10/dist-packages (from gradio) (6.0.2)\n",
            "Collecting ruff>=0.2.2 (from gradio)\n",
            "  Downloading ruff-0.6.9-py3-none-manylinux_2_17_x86_64.manylinux2014_x86_64.whl.metadata (25 kB)\n",
            "Collecting semantic-version~=2.0 (from gradio)\n",
            "  Downloading semantic_version-2.10.0-py2.py3-none-any.whl.metadata (9.7 kB)\n",
            "Collecting tomlkit==0.12.0 (from gradio)\n",
            "  Downloading tomlkit-0.12.0-py3-none-any.whl.metadata (2.7 kB)\n",
            "Requirement already satisfied: typer<1.0,>=0.12 in /usr/local/lib/python3.10/dist-packages (from gradio) (0.12.5)\n",
            "Requirement already satisfied: typing-extensions~=4.0 in /usr/local/lib/python3.10/dist-packages (from gradio) (4.12.2)\n",
            "Requirement already satisfied: uvicorn>=0.14.0 in /usr/local/lib/python3.10/dist-packages (from gradio) (0.32.0)\n",
            "Requirement already satisfied: fsspec in /usr/local/lib/python3.10/dist-packages (from gradio-client==1.4.0->gradio) (2024.6.1)\n",
            "Collecting websockets<13.0,>=10.0 (from gradio-client==1.4.0->gradio)\n",
            "  Downloading websockets-12.0-cp310-cp310-manylinux_2_5_x86_64.manylinux1_x86_64.manylinux_2_17_x86_64.manylinux2014_x86_64.whl.metadata (6.6 kB)\n",
            "Requirement already satisfied: idna>=2.8 in /usr/local/lib/python3.10/dist-packages (from anyio<5.0,>=3.0->gradio) (3.10)\n",
            "Requirement already satisfied: sniffio>=1.1 in /usr/local/lib/python3.10/dist-packages (from anyio<5.0,>=3.0->gradio) (1.3.1)\n",
            "Requirement already satisfied: exceptiongroup in /usr/local/lib/python3.10/dist-packages (from anyio<5.0,>=3.0->gradio) (1.2.2)\n",
            "Requirement already satisfied: starlette<0.41.0,>=0.37.2 in /usr/local/lib/python3.10/dist-packages (from fastapi<1.0->gradio) (0.40.0)\n",
            "Requirement already satisfied: certifi in /usr/local/lib/python3.10/dist-packages (from httpx>=0.24.1->gradio) (2024.8.30)\n",
            "Requirement already satisfied: httpcore==1.* in /usr/local/lib/python3.10/dist-packages (from httpx>=0.24.1->gradio) (1.0.6)\n",
            "Requirement already satisfied: h11<0.15,>=0.13 in /usr/local/lib/python3.10/dist-packages (from httpcore==1.*->httpx>=0.24.1->gradio) (0.14.0)\n",
            "Requirement already satisfied: filelock in /usr/local/lib/python3.10/dist-packages (from huggingface-hub>=0.25.1->gradio) (3.16.1)\n",
            "Requirement already satisfied: requests in /usr/local/lib/python3.10/dist-packages (from huggingface-hub>=0.25.1->gradio) (2.32.3)\n",
            "Requirement already satisfied: tqdm>=4.42.1 in /usr/local/lib/python3.10/dist-packages (from huggingface-hub>=0.25.1->gradio) (4.66.5)\n",
            "Requirement already satisfied: python-dateutil>=2.8.2 in /usr/local/lib/python3.10/dist-packages (from pandas<3.0,>=1.0->gradio) (2.8.2)\n",
            "Requirement already satisfied: pytz>=2020.1 in /usr/local/lib/python3.10/dist-packages (from pandas<3.0,>=1.0->gradio) (2024.2)\n",
            "Requirement already satisfied: tzdata>=2022.7 in /usr/local/lib/python3.10/dist-packages (from pandas<3.0,>=1.0->gradio) (2024.2)\n",
            "Requirement already satisfied: annotated-types>=0.6.0 in /usr/local/lib/python3.10/dist-packages (from pydantic>=2.0->gradio) (0.7.0)\n",
            "Requirement already satisfied: pydantic-core==2.23.4 in /usr/local/lib/python3.10/dist-packages (from pydantic>=2.0->gradio) (2.23.4)\n",
            "Requirement already satisfied: click>=8.0.0 in /usr/local/lib/python3.10/dist-packages (from typer<1.0,>=0.12->gradio) (8.1.7)\n",
            "Requirement already satisfied: shellingham>=1.3.0 in /usr/local/lib/python3.10/dist-packages (from typer<1.0,>=0.12->gradio) (1.5.4)\n",
            "Requirement already satisfied: rich>=10.11.0 in /usr/local/lib/python3.10/dist-packages (from typer<1.0,>=0.12->gradio) (13.9.2)\n",
            "Requirement already satisfied: six>=1.5 in /usr/local/lib/python3.10/dist-packages (from python-dateutil>=2.8.2->pandas<3.0,>=1.0->gradio) (1.16.0)\n",
            "Requirement already satisfied: markdown-it-py>=2.2.0 in /usr/local/lib/python3.10/dist-packages (from rich>=10.11.0->typer<1.0,>=0.12->gradio) (3.0.0)\n",
            "Requirement already satisfied: pygments<3.0.0,>=2.13.0 in /usr/local/lib/python3.10/dist-packages (from rich>=10.11.0->typer<1.0,>=0.12->gradio) (2.18.0)\n",
            "Requirement already satisfied: charset-normalizer<4,>=2 in /usr/local/lib/python3.10/dist-packages (from requests->huggingface-hub>=0.25.1->gradio) (3.4.0)\n",
            "Requirement already satisfied: urllib3<3,>=1.21.1 in /usr/local/lib/python3.10/dist-packages (from requests->huggingface-hub>=0.25.1->gradio) (2.2.3)\n",
            "Requirement already satisfied: mdurl~=0.1 in /usr/local/lib/python3.10/dist-packages (from markdown-it-py>=2.2.0->rich>=10.11.0->typer<1.0,>=0.12->gradio) (0.1.2)\n",
            "Downloading gradio-5.1.0-py3-none-any.whl (42.3 MB)\n",
            "\u001b[2K   \u001b[90m━━━━━━━━━━━━━━━━━━━━━━━━━━━━━━━━━━━━━━━━\u001b[0m \u001b[32m42.3/42.3 MB\u001b[0m \u001b[31m24.4 MB/s\u001b[0m eta \u001b[36m0:00:00\u001b[0m\n",
            "\u001b[?25hDownloading gradio_client-1.4.0-py3-none-any.whl (319 kB)\n",
            "\u001b[2K   \u001b[90m━━━━━━━━━━━━━━━━━━━━━━━━━━━━━━━━━━━━━━━━\u001b[0m \u001b[32m319.8/319.8 kB\u001b[0m \u001b[31m21.9 MB/s\u001b[0m eta \u001b[36m0:00:00\u001b[0m\n",
            "\u001b[?25hDownloading tomlkit-0.12.0-py3-none-any.whl (37 kB)\n",
            "Downloading aiofiles-23.2.1-py3-none-any.whl (15 kB)\n",
            "Downloading huggingface_hub-0.25.2-py3-none-any.whl (436 kB)\n",
            "\u001b[2K   \u001b[90m━━━━━━━━━━━━━━━━━━━━━━━━━━━━━━━━━━━━━━━━\u001b[0m \u001b[32m436.6/436.6 kB\u001b[0m \u001b[31m28.7 MB/s\u001b[0m eta \u001b[36m0:00:00\u001b[0m\n",
            "\u001b[?25hDownloading MarkupSafe-2.1.5-cp310-cp310-manylinux_2_17_x86_64.manylinux2014_x86_64.whl (25 kB)\n",
            "Downloading python_multipart-0.0.12-py3-none-any.whl (23 kB)\n",
            "Downloading ruff-0.6.9-py3-none-manylinux_2_17_x86_64.manylinux2014_x86_64.whl (10.9 MB)\n",
            "\u001b[2K   \u001b[90m━━━━━━━━━━━━━━━━━━━━━━━━━━━━━━━━━━━━━━━━\u001b[0m \u001b[32m10.9/10.9 MB\u001b[0m \u001b[31m96.5 MB/s\u001b[0m eta \u001b[36m0:00:00\u001b[0m\n",
            "\u001b[?25hDownloading semantic_version-2.10.0-py2.py3-none-any.whl (15 kB)\n",
            "Downloading ffmpy-0.4.0-py3-none-any.whl (5.8 kB)\n",
            "Downloading pydub-0.25.1-py2.py3-none-any.whl (32 kB)\n",
            "Downloading websockets-12.0-cp310-cp310-manylinux_2_5_x86_64.manylinux1_x86_64.manylinux_2_17_x86_64.manylinux2014_x86_64.whl (130 kB)\n",
            "\u001b[2K   \u001b[90m━━━━━━━━━━━━━━━━━━━━━━━━━━━━━━━━━━━━━━━━\u001b[0m \u001b[32m130.2/130.2 kB\u001b[0m \u001b[31m10.7 MB/s\u001b[0m eta \u001b[36m0:00:00\u001b[0m\n",
            "\u001b[?25hInstalling collected packages: pydub, websockets, tomlkit, semantic-version, ruff, python-multipart, markupsafe, ffmpy, aiofiles, huggingface-hub, gradio-client, gradio\n",
            "  Attempting uninstall: websockets\n",
            "    Found existing installation: websockets 13.1\n",
            "    Uninstalling websockets-13.1:\n",
            "      Successfully uninstalled websockets-13.1\n",
            "  Attempting uninstall: markupsafe\n",
            "    Found existing installation: MarkupSafe 3.0.1\n",
            "    Uninstalling MarkupSafe-3.0.1:\n",
            "      Successfully uninstalled MarkupSafe-3.0.1\n",
            "  Attempting uninstall: huggingface-hub\n",
            "    Found existing installation: huggingface-hub 0.24.7\n",
            "    Uninstalling huggingface-hub-0.24.7:\n",
            "      Successfully uninstalled huggingface-hub-0.24.7\n",
            "Successfully installed aiofiles-23.2.1 ffmpy-0.4.0 gradio-5.1.0 gradio-client-1.4.0 huggingface-hub-0.25.2 markupsafe-2.1.5 pydub-0.25.1 python-multipart-0.0.12 ruff-0.6.9 semantic-version-2.10.0 tomlkit-0.12.0 websockets-12.0\n"
          ]
        }
      ]
    },
    {
      "cell_type": "code",
      "source": [
        "from langchain.chat_models import ChatOpenAI\n",
        "from langchain.schema import AIMessage, HumanMessage\n",
        "import openai\n",
        "import gradio as gr\n",
        "\n",
        "def predict(message, history):\n",
        "    history_langchain_format = []\n",
        "    for human, ai in history:\n",
        "        history_langchain_format.append(HumanMessage(content=human))\n",
        "        history_langchain_format.append(AIMessage(content=ai))\n",
        "    history_langchain_format.append(HumanMessage(content=message))\n",
        "    gpt_response = chat(history_langchain_format)\n",
        "    return gpt_response.content\n",
        "\n",
        "gr.ChatInterface(predict).launch()"
      ],
      "metadata": {
        "id": "5VZj4qCTsSDS"
      },
      "execution_count": null,
      "outputs": []
    }
  ],
  "metadata": {
    "kernelspec": {
      "display_name": "redacre",
      "language": "python",
      "name": "python3"
    },
    "language_info": {
      "codemirror_mode": {
        "name": "ipython",
        "version": 3
      },
      "file_extension": ".py",
      "mimetype": "text/x-python",
      "name": "python",
      "nbconvert_exporter": "python",
      "pygments_lexer": "ipython3",
      "version": "3.9.12"
    },
    "orig_nbformat": 4,
    "colab": {
      "provenance": []
    }
  },
  "nbformat": 4,
  "nbformat_minor": 0
}