{
  "cells": [
    {
      "cell_type": "markdown",
      "metadata": {
        "id": "I0966i2Jbc7z"
      },
      "source": [
        "[![Open In Colab](https://colab.research.google.com/assets/colab-badge.svg)](https://colab.research.google.com/github/pinecone-io/examples/blob/master/learn/generation/langchain/rag-chatbot.ipynb) [![Open nbviewer](https://raw.githubusercontent.com/pinecone-io/examples/master/assets/nbviewer-shield.svg)](https://nbviewer.org/github/pinecone-io/examples/blob/master/learn/generation/langchain/rag-chatbot.ipynb)"
      ]
    },
    {
      "cell_type": "markdown",
      "metadata": {
        "id": "wXMZ2sRIbc70"
      },
      "source": [
        "# Building RAG Chatbots with LangChain & OpenAI\n"
      ]
    },
    {
      "cell_type": "markdown",
      "metadata": {
        "id": "DjUaUXZbbc70"
      },
      "source": [
        "In this example, we'll guide you through building an AI chatbot from start to finish, using LangChain, OpenAI, and Chroma Vector Database. The chatbot will utilize **Retrieval Augmented Generation (RAG)** to enhance its responses by retrieving relevant information from external sources.\n",
        "\n",
        "We'll work with a sample document as part of the knowledge base.\n",
        "\n",
        "By the end of this tutorial, you'll have a fully functional chatbot integrated with a RAG pipeline, capable of holding meaningful conversations and providing informative responses based on the\n",
        "\n",
        "### Before you begin\n",
        "\n",
        "You'll need to get an [OpenAI API key](https://platform.openai.com/account/api-keys)"
      ]
    },
    {
      "cell_type": "markdown",
      "metadata": {
        "id": "_RpSN29Fbc71"
      },
      "source": [
        "### Prerequisites"
      ]
    },
    {
      "cell_type": "markdown",
      "metadata": {
        "id": "4_vBeVhqbc71"
      },
      "source": [
        "Before we start building our chatbot, we need to install some Python libraries. Here's a brief overview of what each library does:\n",
        "\n",
        "- **langchain**: This is a library for GenAI. We'll use it to chain together different language models and components for our chatbot.\n",
        "- **openai**: This is the official OpenAI Python client. We'll use it to interact with the OpenAI API and generate responses for our chatbot.\n",
        "- **datasets**: This library provides a vast array of datasets for machine learning. We'll use it to load our knowledge base for the chatbot.\n",
        "- **chromadb**:  a fast, open-source vector database for managing embeddings in machine learning applications.\n",
        "\n",
        "You can install these libraries using pip like so:"
      ]
    },
    {
      "cell_type": "code",
      "execution_count": null,
      "metadata": {
        "id": "vaEuI0zXbc71"
      },
      "outputs": [],
      "source": [
        "!pip install langchain openai chromadb tiktoken langchain-community langchain-openai pypdf"
      ]
    },
    {
      "cell_type": "code",
      "source": [
        "import os\n",
        "from langchain.chat_models import ChatOpenAI  # Updated import for ChatOpenAI"
      ],
      "metadata": {
        "id": "mB7alBc5jaTK"
      },
      "execution_count": 2,
      "outputs": []
    },
    {
      "cell_type": "markdown",
      "metadata": {
        "id": "eG3pc5cgbc72"
      },
      "source": [
        "### Building a Chatbot (no RAG)"
      ]
    },
    {
      "cell_type": "markdown",
      "metadata": {
        "id": "eecLKK98bc72"
      },
      "source": [
        "We'll leverage the LangChain library to seamlessly integrate the various components required for our chatbot. To start, we’ll build a basic chatbot without RAG by initializing a ChatOpenAI object. This sets the foundation before we enhance it with more advanced retrieval mechanisms. You can obtain a key from [OpenAI API key](https://platform.openai.com/account/api-keys). For workshops, you can use the Key shared by us."
      ]
    },
    {
      "cell_type": "code",
      "execution_count": 3,
      "metadata": {
        "id": "4IBbdGIgbc72",
        "colab": {
          "base_uri": "https://localhost:8080/"
        },
        "outputId": "62170eb4-466d-4510-919d-e041dcec9050"
      },
      "outputs": [
        {
          "output_type": "stream",
          "name": "stderr",
          "text": [
            "<ipython-input-3-a1d530d725cd>:5: LangChainDeprecationWarning: The class `ChatOpenAI` was deprecated in LangChain 0.0.10 and will be removed in 1.0. An updated version of the class exists in the :class:`~langchain-openai package and should be used instead. To use it run `pip install -U :class:`~langchain-openai` and import as `from :class:`~langchain_openai import ChatOpenAI``.\n",
            "  chat = ChatOpenAI(\n"
          ]
        }
      ],
      "source": [
        "from google.colab import userdata\n",
        "\n",
        "os.environ[\"OPENAI_API_KEY\"] = userdata.get('OpenAI')\n",
        "\n",
        "chat = ChatOpenAI(\n",
        "    openai_api_key=os.environ[\"OPENAI_API_KEY\"],\n",
        "    model='gpt-3.5-turbo',\n",
        "    temperature=0,\n",
        "    max_tokens=None,\n",
        "    timeout=None,\n",
        "    #max_retries=2,\n",
        ")"
      ]
    },
    {
      "cell_type": "markdown",
      "metadata": {
        "id": "ld37yT6abc72"
      },
      "source": [
        "Recalling our last tutorial, Chats with OpenAI's `gpt-3.5-turbo` and `gpt-4` chat models are typically structured (in plain text) like this:\n",
        "\n",
        "```\n",
        "System: You are a helpful tutor.\n",
        "\n",
        "User: Hi AI, how are you today?\n",
        "\n",
        "Assistant: I'm great thank you. How can I help you?\n",
        "\n",
        "User: I'd like to understand predictive analytics.\n",
        "\n",
        "Assistant:\n",
        "```\n",
        "\n",
        "The final `\"Assistant:\"` without a response is what would prompt the model to continue the conversation. In the official OpenAI `ChatCompletion` endpoint these would be passed to the model in a format like:\n",
        "\n",
        "```python\n",
        "[\n",
        "    {\"role\": \"system\", \"content\": \"You are a helpful tutor\"},\n",
        "    {\"role\": \"user\", \"content\": \"Hi AI, how are you today?\"},\n",
        "    {\"role\": \"assistant\", \"content\": \"I'm great thank you. How can I help you?\"}\n",
        "    {\"role\": \"user\", \"content\": \"I'd like to understand predictive analytics.\"}\n",
        "]\n",
        "```\n",
        "\n",
        "In LangChain there is a slightly different format. We use three _message_ objects like so:"
      ]
    },
    {
      "cell_type": "code",
      "execution_count": 4,
      "metadata": {
        "id": "ABla5nkLbc73"
      },
      "outputs": [],
      "source": [
        "from langchain.schema import (\n",
        "    SystemMessage,\n",
        "    HumanMessage,\n",
        "    AIMessage\n",
        ")\n",
        "\n",
        "messages = [\n",
        "    SystemMessage(content=\"You are a helpful tutor.\"),\n",
        "    HumanMessage(content=\"Hi AI, how are you today?\"),\n",
        "    AIMessage(content=\"I'm great thank you. How can I help you?\"),\n",
        "    HumanMessage(content=\"I'd like to understand predictive analytics.\")\n",
        "]"
      ]
    },
    {
      "cell_type": "markdown",
      "metadata": {
        "id": "4waT_ixJbc73"
      },
      "source": [
        "The format is very similar, we're just swapped the role of `\"user\"` for `HumanMessage`, and the role of `\"assistant\"` for `AIMessage`.\n",
        "\n",
        "We generate the next response from the AI by passing these messages to the `ChatOpenAI` object."
      ]
    },
    {
      "cell_type": "code",
      "execution_count": 5,
      "metadata": {
        "id": "vjOcDni8bc73",
        "outputId": "eca44227-8054-45db-f844-cc5107cf5de3",
        "colab": {
          "base_uri": "https://localhost:8080/",
          "height": 145
        }
      },
      "outputs": [
        {
          "output_type": "execute_result",
          "data": {
            "text/plain": [
              "'Predictive analytics is a branch of advanced analytics that uses data, statistical algorithms, and machine learning techniques to identify the likelihood of future outcomes based on historical data. It involves analyzing current and historical data to make predictions about future events or trends.\\n\\nPredictive analytics can be used in various industries and applications, such as forecasting sales, predicting customer behavior, optimizing marketing campaigns, detecting fraud, and improving operational efficiency. By leveraging predictive analytics, organizations can make more informed decisions, anticipate future trends, and gain a competitive advantage.\\n\\nThe process of predictive analytics typically involves the following steps:\\n\\n1. Define the problem: Clearly define the business problem or question that you want to address with predictive analytics.\\n\\n2. Data collection: Gather relevant data from various sources, such as databases, spreadsheets, and external sources.\\n\\n3. Data preprocessing: Clean and prepare the data for analysis by handling missing values, outliers, and formatting issues.\\n\\n4. Feature selection and engineering: Identify the most relevant variables (features) that will be used to build the predictive model. Create new features if needed.\\n\\n5. Model selection: Choose the appropriate predictive modeling technique based on the nature of the problem and the available data. Common techniques include regression analysis, decision trees, neural networks, and support vector machines.\\n\\n6. Model training: Train the selected model on historical data to learn the underlying patterns and relationships.\\n\\n7. Model evaluation: Evaluate the performance of the model using metrics such as accuracy, precision, recall, and F1 score. Adjust the model if necessary.\\n\\n8. Model deployment: Deploy the trained model to make predictions on new data and integrate it into the decision-making process.\\n\\n9. Monitoring and maintenance: Continuously monitor the performance of the predictive model and update it as needed to ensure its accuracy and relevance.\\n\\nOverall, predictive analytics can help organizations leverage data-driven insights to make better decisions, optimize processes, and drive business growth.'"
            ],
            "application/vnd.google.colaboratory.intrinsic+json": {
              "type": "string"
            }
          },
          "metadata": {},
          "execution_count": 5
        }
      ],
      "source": [
        "res = chat.invoke(messages)\n",
        "res.content"
      ]
    },
    {
      "cell_type": "markdown",
      "metadata": {
        "id": "DaXapaqXbc73"
      },
      "source": [
        "In response we get another AI message object. We can print it more clearly like so:"
      ]
    },
    {
      "cell_type": "markdown",
      "metadata": {
        "id": "isAx9GDzbc73"
      },
      "source": [
        "Because `res` is just another `AIMessage` object, we can append it to `messages`, add another `HumanMessage`, and generate the next response in the conversation."
      ]
    },
    {
      "cell_type": "code",
      "execution_count": 6,
      "metadata": {
        "id": "8DvpgKJhbc73",
        "outputId": "dc795208-0e9d-410a-ca00-048c8c2f45c3",
        "colab": {
          "base_uri": "https://localhost:8080/"
        }
      },
      "outputs": [
        {
          "output_type": "stream",
          "name": "stderr",
          "text": [
            "<ipython-input-6-7f6e51416b90>:12: LangChainDeprecationWarning: The method `BaseChatModel.__call__` was deprecated in langchain-core 0.1.7 and will be removed in 1.0. Use :meth:`~invoke` instead.\n",
            "  res = chat(messages)\n"
          ]
        },
        {
          "output_type": "stream",
          "name": "stdout",
          "text": [
            "Researchers believe that predictive analytics can advance decision-making in organizations for several reasons:\n",
            "\n",
            "1. Data-driven insights: Predictive analytics leverages data and statistical algorithms to provide organizations with valuable insights into past trends and future outcomes. By analyzing historical data and identifying patterns, organizations can make more informed decisions based on evidence rather than intuition.\n",
            "\n",
            "2. Anticipating future trends: Predictive analytics enables organizations to forecast future trends and outcomes, allowing them to proactively address potential challenges and opportunities. By predicting customer behavior, market trends, and operational performance, organizations can stay ahead of the competition and adapt to changing circumstances.\n",
            "\n",
            "3. Improved accuracy and efficiency: Predictive analytics can help organizations improve the accuracy and efficiency of their decision-making processes. By using advanced algorithms to analyze data and make predictions, organizations can reduce errors, optimize resource allocation, and streamline operations.\n",
            "\n",
            "4. Personalized recommendations: Predictive analytics can be used to generate personalized recommendations for customers, employees, and other stakeholders. By analyzing individual preferences, behaviors, and characteristics, organizations can tailor their products, services, and communications to meet specific needs and preferences.\n",
            "\n",
            "5. Risk mitigation: Predictive analytics can help organizations identify and mitigate risks before they escalate. By analyzing historical data and predicting potential risks, organizations can take proactive measures to prevent issues such as fraud, security breaches, and operational failures.\n",
            "\n",
            "6. Competitive advantage: By leveraging predictive analytics to make data-driven decisions, organizations can gain a competitive advantage in the marketplace. By using predictive models to optimize pricing strategies, marketing campaigns, and product development, organizations can differentiate themselves from competitors and attract and retain customers.\n",
            "\n",
            "Overall, researchers believe that predictive analytics can empower organizations to make smarter, more strategic decisions by harnessing the power of data and analytics to drive business growth and success.\n"
          ]
        }
      ],
      "source": [
        "# add latest AI response to messages\n",
        "messages.append(res)\n",
        "\n",
        "# now create a new user prompt\n",
        "prompt = HumanMessage(\n",
        "    content=\"Why do researchers believe it can advance the decison making in organisations?\"\n",
        ")\n",
        "# add to messages\n",
        "messages.append(prompt)\n",
        "\n",
        "# send to chat-gpt\n",
        "res = chat(messages)\n",
        "\n",
        "print(res.content)"
      ]
    },
    {
      "cell_type": "markdown",
      "metadata": {
        "id": "cLyKFNmLbc74"
      },
      "source": [
        "### Dealing with Hallucinations"
      ]
    },
    {
      "cell_type": "markdown",
      "metadata": {
        "id": "MB9OZxVobc74"
      },
      "source": [
        "We now have our chatbot, but as mentioned earlier, the knowledge of large language models (LLMs) can be limited. This limitation arises because LLMs acquire all their knowledge during the training phase. Essentially, an LLM compresses the information from its training data into its internal parameters, known as the model’s parametric knowledge.\n",
        "\n",
        "By default, LLMs don't have real-time access to external information.\n",
        "\n",
        "This becomes evident when we ask LLMs about recent events, such as the latest Australia Budget 2025, where they are unable to provide up-to-date insights without external augmentation."
      ]
    },
    {
      "cell_type": "code",
      "execution_count": 7,
      "metadata": {
        "id": "jZ8taJHYbc74"
      },
      "outputs": [],
      "source": [
        "# add latest AI response to messages\n",
        "messages.append(res)\n",
        "\n",
        "# now create a new user prompt\n",
        "prompt = HumanMessage(\n",
        "    content=\"What are the highlights of the Australia Budget 2025?\"\n",
        ")\n",
        "# add to messages\n",
        "messages.append(prompt)\n",
        "\n",
        "# send to OpenAI\n",
        "res = chat(messages)"
      ]
    },
    {
      "cell_type": "code",
      "execution_count": 8,
      "metadata": {
        "id": "qDGZKQSVbc74",
        "outputId": "62ccceba-156e-4886-8497-37780502d2df",
        "colab": {
          "base_uri": "https://localhost:8080/"
        }
      },
      "outputs": [
        {
          "output_type": "stream",
          "name": "stdout",
          "text": [
            "I'm sorry, but as an AI, I do not have real-time information or the ability to access current news updates. I recommend checking the latest news sources or the official government website for Australia to get the most up-to-date information on the Australia Budget for 2025. Is there anything else I can help you with?\n"
          ]
        }
      ],
      "source": [
        "print(res.content)"
      ]
    },
    {
      "cell_type": "markdown",
      "metadata": {
        "id": "ny_FiwjRbc74"
      },
      "source": [
        "Our chatbot can no longer help us, it doesn't contain the information we need to answer the question. It was very clear from this answer that the LLM doesn't know the informaiton, but sometimes an LLM may respond like it _does_ know the answer — and this can be very hard to detect.\n",
        "\n",
        "OpenAI have since adjusted the behavior for this particular example as we can see below:"
      ]
    },
    {
      "cell_type": "code",
      "execution_count": 9,
      "metadata": {
        "id": "joSAxhwhbc74"
      },
      "outputs": [],
      "source": [
        "# add latest AI response to messages\n",
        "messages.append(res)\n",
        "\n",
        "# now create a new user prompt\n",
        "prompt = HumanMessage(\n",
        "    content=\"Can you tell more about Easing Cost of Living Pressures in Australia Budget 2025?\"\n",
        ")\n",
        "# add to messages\n",
        "messages.append(prompt)\n",
        "\n",
        "# send to OpenAI\n",
        "res = chat(messages)"
      ]
    },
    {
      "cell_type": "code",
      "execution_count": 10,
      "metadata": {
        "id": "4XEYLt-Dbc74",
        "outputId": "08ac8361-26f3-4508-8d9f-012e188707fd",
        "colab": {
          "base_uri": "https://localhost:8080/"
        }
      },
      "outputs": [
        {
          "output_type": "stream",
          "name": "stdout",
          "text": [
            "I'm sorry for the confusion, but as an AI, I do not have real-time information or the ability to access specific details about the Australia Budget for 2025. However, I can provide some general strategies that governments may consider to ease the cost of living pressures for citizens:\n",
            "\n",
            "1. Tax relief: Governments may introduce tax cuts or adjustments to reduce the tax burden on individuals and households, allowing them to keep more of their income.\n",
            "\n",
            "2. Social welfare programs: Increasing funding for social welfare programs such as unemployment benefits, housing assistance, and childcare subsidies can help alleviate financial strain on low-income families.\n",
            "\n",
            "3. Affordable housing initiatives: Implementing policies to increase the supply of affordable housing and improve housing affordability can help reduce housing costs for individuals and families.\n",
            "\n",
            "4. Energy cost relief: Introducing measures to reduce energy costs, such as subsidies for renewable energy sources or energy-efficient appliances, can help lower utility bills for households.\n",
            "\n",
            "5. Healthcare subsidies: Providing subsidies for healthcare services, medications, and health insurance premiums can help make healthcare more affordable for individuals and families.\n",
            "\n",
            "6. Education support: Increasing funding for education and training programs, as well as providing financial assistance for students, can help reduce the financial burden of education costs.\n",
            "\n",
            "7. Consumer protection measures: Implementing regulations to prevent price gouging and unfair practices by businesses can help protect consumers from excessive costs.\n",
            "\n",
            "These are just a few examples of strategies that governments may consider to ease the cost of living pressures for citizens. For specific details about the Australia Budget for 2025 and initiatives aimed at easing cost of living pressures, I recommend checking official government sources or news outlets for the most up-to-date information.\n"
          ]
        }
      ],
      "source": [
        "print(res.content)"
      ]
    },
    {
      "cell_type": "markdown",
      "metadata": {
        "id": "fxUcpptYbc75"
      },
      "source": [
        "Another method of providing knowledge to LLMs is through *source knowledge*, which refers to any information supplied via the prompt. This allows the model to work with fresh or specific data that wasn’t part of its training. We can demonstrate this by using the LLMChain in LangChain, pulling a description of the object directly from the LangChain documentation to feed into the model\n",
        "\n",
        "\n"
      ]
    },
    {
      "cell_type": "code",
      "execution_count": 11,
      "metadata": {
        "id": "ylU2GLntbc75"
      },
      "outputs": [],
      "source": [
        "source_knowledge = \"\"\"\n",
        "All 13.6 million Australian taxpayers will get a tax cut, with an average tax cut of $1,888 or\n",
        "$36 a week\n",
        "- $3.5 billion in energy bill relief for all Australian households and one million small businesses\n",
        "- $1.9 billion to increase Commonwealth Rent Assistance by a further 10 per cent, benefiting\n",
        "nearly 1 million households\n",
        "- Cheaper medicines as part of the up to $3 billion agreement with community pharmacies\n",
        "- Waiving $3 billion in student debt for more than 3 million Australians to make student\n",
        "loans fairer\n",
        "- Getting consumers a better deal at the supermarket checkout and through the\n",
        "energy transition\n",
        "- $1.1 billion to pay superannuation on Government-funded Paid Parental Leave\n",
        "- $138 million to boost funding for emergency and food relief and financial support services\n",
        "- Supporting wages growth through submissions to the Fair Work Commission and supporting\n",
        "pay rises for care sector workers\n",
        "- Extending the freeze on deeming rates for 876,000 income support recipients\n",
        "\"\"\""
      ]
    },
    {
      "cell_type": "markdown",
      "metadata": {
        "id": "jm1hwq5rbc75"
      },
      "source": [
        "We can feed this additional knowledge into our prompt with some instructions telling the LLM how we'd like it to use this information alongside our original query."
      ]
    },
    {
      "cell_type": "code",
      "execution_count": 12,
      "metadata": {
        "id": "mAPEhrjIbc75"
      },
      "outputs": [],
      "source": [
        "query = \"Can you tell more about Easing Cost of Living Pressures in Australia Budget 2025?\"\n",
        "\n",
        "augmented_prompt = f\"\"\"Using the context below, answer the query.\n",
        "\n",
        "Context:\n",
        "{source_knowledge}\n",
        "\n",
        "Query: {query}\"\"\""
      ]
    },
    {
      "cell_type": "code",
      "source": [
        "augmented_prompt"
      ],
      "metadata": {
        "colab": {
          "base_uri": "https://localhost:8080/",
          "height": 145
        },
        "id": "FZvLgsF3AQnk",
        "outputId": "34bccc58-dca5-4fb7-8730-5bddc2c931dd"
      },
      "execution_count": 13,
      "outputs": [
        {
          "output_type": "execute_result",
          "data": {
            "text/plain": [
              "'Using the context below, answer the query.\\n\\nContext:\\n\\nAll 13.6 million Australian taxpayers will get a tax cut, with an average tax cut of $1,888 or\\n$36 a week\\n- $3.5 billion in energy bill relief for all Australian households and one million small businesses\\n- $1.9 billion to increase Commonwealth Rent Assistance by a further 10 per cent, benefiting\\nnearly 1 million households\\n- Cheaper medicines as part of the up to $3 billion agreement with community pharmacies\\n- Waiving $3 billion in student debt for more than 3 million Australians to make student\\nloans fairer\\n- Getting consumers a better deal at the supermarket checkout and through the\\nenergy transition\\n- $1.1 billion to pay superannuation on Government-funded Paid Parental Leave\\n- $138 million to boost funding for emergency and food relief and financial support services\\n- Supporting wages growth through submissions to the Fair Work Commission and supporting\\npay rises for care sector workers\\n- Extending the freeze on deeming rates for 876,000 income support recipients\\n\\n\\nQuery: Can you tell more about Easing Cost of Living Pressures in Australia Budget 2025?'"
            ],
            "application/vnd.google.colaboratory.intrinsic+json": {
              "type": "string"
            }
          },
          "metadata": {},
          "execution_count": 13
        }
      ]
    },
    {
      "cell_type": "markdown",
      "metadata": {
        "id": "hPKw-cZBbc75"
      },
      "source": [
        "Now we feed this into our chatbot as we were before."
      ]
    },
    {
      "cell_type": "code",
      "execution_count": 14,
      "metadata": {
        "id": "cM3HtCtwbc75"
      },
      "outputs": [],
      "source": [
        "# create a new user prompt\n",
        "prompt = HumanMessage(\n",
        "    content=augmented_prompt\n",
        ")\n",
        "# add to messages\n",
        "messages.append(prompt)\n",
        "\n",
        "# send to OpenAI\n",
        "res = chat(messages)"
      ]
    },
    {
      "cell_type": "code",
      "execution_count": 15,
      "metadata": {
        "id": "HyNpbh0Ibc75",
        "outputId": "43825eed-0e2f-4fae-f62d-0d52867d1408",
        "colab": {
          "base_uri": "https://localhost:8080/"
        }
      },
      "outputs": [
        {
          "output_type": "stream",
          "name": "stdout",
          "text": [
            "In the Australia Budget 2025, there are several measures aimed at easing cost of living pressures for Australian households. Some of the key initiatives include:\n",
            "\n",
            "1. Tax cuts for all Australian taxpayers: All 13.6 million Australian taxpayers will receive a tax cut, with an average tax cut of $1,888 or $36 a week. This measure aims to put more money back into the pockets of individuals and families to help alleviate financial burdens.\n",
            "\n",
            "2. Energy bill relief: The budget includes $3.5 billion in energy bill relief for all Australian households and one million small businesses. This initiative is designed to reduce the cost of energy bills for consumers and businesses, thereby easing financial strain.\n",
            "\n",
            "3. Increase in Commonwealth Rent Assistance: The budget allocates $1.9 billion to increase Commonwealth Rent Assistance by a further 10 per cent, benefiting nearly 1 million households. This increase in rental assistance aims to help low-income households afford housing and reduce housing cost pressures.\n",
            "\n",
            "4. Cheaper medicines: As part of an up to $3 billion agreement with community pharmacies, the budget includes measures to make medicines more affordable for Australians. This initiative is intended to reduce healthcare costs and improve access to essential medications.\n",
            "\n",
            "5. Waiving student debt: The budget includes waiving $3 billion in student debt for more than 3 million Australians to make student loans fairer. This measure aims to alleviate the financial burden on individuals with student loans and support their financial well-being.\n",
            "\n",
            "6. Supporting wages growth: The budget includes initiatives to support wages growth, such as submissions to the Fair Work Commission and supporting pay rises for care sector workers. These measures aim to improve income levels for workers and support economic recovery.\n",
            "\n",
            "Overall, these initiatives in the Australia Budget 2025 are designed to address cost of living pressures, reduce financial stress for households, and support economic recovery and growth.\n"
          ]
        }
      ],
      "source": [
        "print(res.content)"
      ]
    },
    {
      "cell_type": "markdown",
      "metadata": {
        "id": "ta2qGMAlbc75"
      },
      "source": [
        "The quality of this response is remarkable, made possible by augmenting our query with external knowledge, known as source knowledge. However, there's one challenge — how do we acquire this information in the first place?\n",
        "\n",
        "This is where vector databases come in, as we explored in previous chapters. They can assist us in storing and retrieving relevant information. But before we dive in, we’ll need to start with a dataset."
      ]
    },
    {
      "cell_type": "markdown",
      "metadata": {
        "id": "TadLRDfTbc75"
      },
      "source": [
        "### Importing the Data"
      ]
    },
    {
      "cell_type": "markdown",
      "metadata": {
        "id": "kL7_MmE6bc75"
      },
      "source": [
        "In this task, we’ll import our data manually, using the Australia Budget 2025 document as the external knowledge source. This document will serve as the knowledge base for our chatbot, enabling it to provide accurate and up-to-date responses regarding the latest budget details. This approach will demonstrate how external information can be integrated to improve the chatbot’s capabilities."
      ]
    },
    {
      "cell_type": "code",
      "source": [
        "from langchain.document_loaders import TextLoader\n",
        "from langchain.document_loaders import PyPDFLoader\n",
        "from langchain.text_splitter import CharacterTextSplitter"
      ],
      "metadata": {
        "id": "t9Q55qF7B-3r"
      },
      "execution_count": 16,
      "outputs": []
    },
    {
      "cell_type": "code",
      "source": [
        "# Load the document\n",
        "#loader = TextLoader(\"/content/test.txt\")\n",
        "#documents = loader.load()"
      ],
      "metadata": {
        "id": "Ue2CBtv_ZzPc"
      },
      "execution_count": 17,
      "outputs": []
    },
    {
      "cell_type": "code",
      "execution_count": 18,
      "metadata": {
        "id": "37QRL5Phbc75"
      },
      "outputs": [],
      "source": [
        "loader = PyPDFLoader(\"/content/AusBudget-2025-26.pdf\")\n",
        "documents = loader.load()"
      ]
    },
    {
      "cell_type": "code",
      "source": [
        "# len(documents)"
      ],
      "metadata": {
        "id": "rqpuN-OyWWww"
      },
      "execution_count": 19,
      "outputs": []
    },
    {
      "cell_type": "code",
      "source": [
        "#Write code to load all the documentats and check the behavior"
      ],
      "metadata": {
        "id": "RQGegm66gokR"
      },
      "execution_count": 20,
      "outputs": []
    },
    {
      "cell_type": "code",
      "source": [
        "# Split the text into chunks\n",
        "text_splitter = CharacterTextSplitter(chunk_size=250, chunk_overlap=0)\n",
        "dataset = text_splitter.split_documents(documents)\n"
      ],
      "metadata": {
        "id": "Xp1q-2kUYfTJ"
      },
      "execution_count": 21,
      "outputs": []
    },
    {
      "cell_type": "markdown",
      "source": [
        "Chunk Size is a paramter that you have to tune based on which size of text chunks you allow to be present in the dataset. If this Chunk size is too small, the dataset will contain small text chunks, that will contain partial information. If the Chunk size is too large, you will use up the context window space fast."
      ],
      "metadata": {
        "id": "cm51U28NcLC3"
      }
    },
    {
      "cell_type": "code",
      "source": [
        "from langchain_core.documents import Document\n",
        "\n",
        "text_splitter = CharacterTextSplitter(chunk_size=10, chunk_overlap=0)\n",
        "# text_splitter = CharacterTextSplitter(chunk_size=40, chunk_overlap=0)\n",
        "\n",
        "document1 = Document(\n",
        "            page_content=\"I have a dog \\n\\n His name is Cooper \\n\\n He is fun\",\n",
        "        )\n",
        "\n",
        "text_splitter.split_documents([document1])"
      ],
      "metadata": {
        "id": "pYl3qDmMaqhq",
        "outputId": "a05ae3f8-6001-488f-f692-e6f480f3ece1",
        "colab": {
          "base_uri": "https://localhost:8080/"
        }
      },
      "execution_count": 22,
      "outputs": [
        {
          "output_type": "stream",
          "name": "stderr",
          "text": [
            "WARNING:langchain_text_splitters.base:Created a chunk of size 13, which is longer than the specified 10\n",
            "WARNING:langchain_text_splitters.base:Created a chunk of size 20, which is longer than the specified 10\n"
          ]
        },
        {
          "output_type": "execute_result",
          "data": {
            "text/plain": [
              "[Document(metadata={}, page_content='I have a dog'),\n",
              " Document(metadata={}, page_content='His name is Cooper'),\n",
              " Document(metadata={}, page_content='He is fun')]"
            ]
          },
          "metadata": {},
          "execution_count": 22
        }
      ]
    },
    {
      "cell_type": "code",
      "execution_count": 23,
      "metadata": {
        "id": "_9t9xn5rbc75"
      },
      "outputs": [],
      "source": [
        "# print(dataset[9].page_content)"
      ]
    },
    {
      "cell_type": "markdown",
      "metadata": {
        "id": "M4EMn241bc75"
      },
      "source": [
        "#### Dataset Overview\n",
        "\n",
        "The dataset we are using is sourced from the Australia Budget 2025 document. This document provides the latest details on Australia's fiscal plans and economic strategies. Each entry in our knowledge base represents a \"chunk\" of relevant information extracted from this document.\n",
        "\n",
        "Since most Large Language Models (LLMs) only contain knowledge from their training period, they cannot answer questions about the Australia Budget 2025 — at least not without this external data."
      ]
    },
    {
      "cell_type": "markdown",
      "metadata": {
        "id": "bpWNQiUkbc75"
      },
      "source": [
        "### Building the Knowledge Base"
      ]
    },
    {
      "cell_type": "markdown",
      "metadata": {
        "id": "xXnoSfHFbc76"
      },
      "source": [
        "We now have a dataset that can serve as our chatbot knowledge base. Our next task is to transform that dataset into the knowledge base that our chatbot can use. To do this we must use an embedding model and vector database.\n"
      ]
    },
    {
      "cell_type": "markdown",
      "metadata": {
        "id": "9H1AEZkvbc79"
      },
      "source": [
        "Now we set up our index specification, which allows us to define the configuration for ChromaDB. This setup ensures that our vector data is properly indexed and optimized for retrieval. With ChromaDB being open-source and lightweight, deployment is straightforward without the need for a cloud provider or region specification."
      ]
    },
    {
      "cell_type": "markdown",
      "source": [
        "###  Creation of Vector Database using Embeddings\n",
        "\n",
        "The code snippet initializes the embedding model using LangChain's OpenAIEmbeddings class, which leverages OpenAI's API to convert text data into vector representations (embeddings). These embeddings represent the meaning of the text in a high-dimensional vector space, making it easier for the model to perform similarity searches, clustering, and other tasks on textual data.\n",
        "\n"
      ],
      "metadata": {
        "id": "DN5U0O7Ajsxm"
      }
    },
    {
      "cell_type": "markdown",
      "metadata": {
        "id": "95IdBtlbbc79"
      },
      "source": [
        "Then we initialize the index. We will be using OpenAI's `text-embedding-ada-002` model for creating the embeddings, so we set the `dimension` to `1536`."
      ]
    },
    {
      "cell_type": "markdown",
      "metadata": {
        "id": "ZWIDDKd9bc7-"
      },
      "source": [
        "Using this model we can create embeddings like so:"
      ]
    },
    {
      "cell_type": "code",
      "source": [
        "# Create embeddings\n",
        "from langchain.embeddings import OpenAIEmbeddings\n",
        "embeddings = OpenAIEmbeddings()"
      ],
      "metadata": {
        "id": "-vPrUQZ1CqlC",
        "colab": {
          "base_uri": "https://localhost:8080/"
        },
        "outputId": "c4c2d67e-9d33-444b-b232-b5c45f80193b"
      },
      "execution_count": 24,
      "outputs": [
        {
          "output_type": "stream",
          "name": "stderr",
          "text": [
            "<ipython-input-24-e7b0c2ec947d>:3: LangChainDeprecationWarning: The class `OpenAIEmbeddings` was deprecated in LangChain 0.0.9 and will be removed in 1.0. An updated version of the class exists in the :class:`~langchain-openai package and should be used instead. To use it run `pip install -U :class:`~langchain-openai` and import as `from :class:`~langchain_openai import OpenAIEmbeddings``.\n",
            "  embeddings = OpenAIEmbeddings()\n"
          ]
        }
      ]
    },
    {
      "cell_type": "code",
      "source": [
        "# Create embeddings for a sample text\n",
        "text = \"Australia Budget 2025 focuses on economic growth and sustainability.\"\n",
        "vector = embeddings.embed_query(text)\n",
        "# vector"
      ],
      "metadata": {
        "id": "5yzWMUfymdHL"
      },
      "execution_count": 25,
      "outputs": []
    },
    {
      "cell_type": "markdown",
      "source": [
        "### Chroma Vector Database\n",
        "\n",
        "**Chroma**: By default, Chroma is an in-memory vector database that stores embeddings of the documents. It operates in memory unless explicitly configured to persist data to disk or another storage backend.\n",
        "\n",
        "**In-memory storage:** This means that the vector store, which stores the embeddings of the documents, exists in your computer's RAM during runtime. Once you stop the program, the data is lost unless you've configured Chroma to save it.\n",
        "\n",
        "Chroma.from_documents(dataset, embeddings):\n",
        "\n",
        "* dataset: This refers to the documents for which you want to generate and store embeddings.\n",
        "* embeddings: This is the embedding model (like OpenAIEmbeddings), which is used to convert the documents into vector representations (embeddings).\n",
        "\n",
        "Chroma will take the embeddings of the documents and store them in-memory for fast retrieval and similarity search."
      ],
      "metadata": {
        "id": "n7rQSSAnnDcC"
      }
    },
    {
      "cell_type": "code",
      "execution_count": 26,
      "metadata": {
        "id": "gPubtFvrbc79"
      },
      "outputs": [],
      "source": [
        "# Create a vector store\n",
        "from langchain.vectorstores import Chroma\n",
        "vectorstore = Chroma.from_documents(dataset, embeddings)"
      ]
    },
    {
      "cell_type": "markdown",
      "source": [
        "### Creation of Vector Store Retriever\n",
        "\n",
        "**Creating a Retriever:** The retriever is an object that allows us to search through a vector store (which stores embeddings of documents or text chunks) and find the most relevant documents or text based on a given query. The retriever’s job is to return a subset of documents that best match the query based on similarity of their embeddings.\n",
        "\n",
        "**Setting top_k = 5:** The variable top_k is set to 5, which defines the number of results (documents or text chunks) the retriever should return from the vector store. In this case, when you perform a search or query using the retriever, it will return the top 5 most similar documents.\n",
        "\n",
        "**Reason for using k: **In machine learning, k is commonly used to represent the number of nearest neighbors or results that should be returned from a search. When we perform a search in a vector database, the system compares the embedding of the query with the stored document embeddings to find the closest matches.\n",
        "\n",
        "**By specifying k = 5,** we limit the results to only the top 5 most similar embeddings. This is useful because retrieving too many results may introduce noise, while retrieving too few may omit valuable information. The choice of k balances relevance and result quantity, helping to ensure that the top 5 most relevant results are retrieved for the query, offering better performance and accuracy for tasks like question-answering or document search.\n",
        "\n",
        "**vectorstore.as_retriever(search_kwargs={\"k\": top_k}):** This line converts the vector store into a retriever object by passing search_kwargs={\"k\": top_k}. The search_kwargs argument allows you to specify additional search parameters for the retriever—in this case, limiting the number of results to the top 5 using the k value.\n",
        "\n",
        "**Why is k Important?**\n",
        "* **Efficiency**: Limiting the number of retrieved documents improves efficiency. You don't need to process or rank too many results, which could slow down response time.\n",
        "* **Relevance**: Instead of returning all possible matches, we retrieve only the top k (5 in this case) results, ensuring that the returned documents are the most relevant and not overwhelming the system with irrelevant data.\n",
        "* **Performance**: Focusing on a smaller number of high-quality matches makes it easier to integrate with downstream systems like question-answering modules, which can then provide more accurate responses without unnecessary computation.\n",
        "In short, k helps fine-tune the retrieval process, ensuring efficiency and relevance in returning a manageable number of top results."
      ],
      "metadata": {
        "id": "2UM2FpMSkcwH"
      }
    },
    {
      "cell_type": "code",
      "source": [
        "# Create a retriever\n",
        "top_k = 5\n",
        "retriever = vectorstore.as_retriever(search_kwargs={\"k\": top_k})"
      ],
      "metadata": {
        "id": "z3-GZHGRPqUR"
      },
      "execution_count": 27,
      "outputs": []
    },
    {
      "cell_type": "code",
      "source": [
        "query_text= \"Can you tell more about Easing Cost of Living Pressures in Australia Budget 2025?\""
      ],
      "metadata": {
        "id": "0Y2_rLX6OtDy"
      },
      "execution_count": 28,
      "outputs": []
    },
    {
      "cell_type": "code",
      "source": [
        "# Get top 3 relevant chunks based on the query\n",
        "relevant_chunks = retriever.get_relevant_documents(query_text)\n",
        "\n",
        "for idx, chunk in enumerate(relevant_chunks, start=1):\n",
        "    print(f\"Chunk {idx}:\\n{chunk.page_content}\\n\")"
      ],
      "metadata": {
        "id": "JmPkuo8NDr8e"
      },
      "execution_count": null,
      "outputs": []
    },
    {
      "cell_type": "markdown",
      "metadata": {
        "id": "WtcSTozebc7-"
      },
      "source": [
        "### Retrieval Augmented Generation"
      ]
    },
    {
      "cell_type": "markdown",
      "metadata": {
        "id": "ZUibp8c0bc7-"
      },
      "source": [
        "We've built a fully-fledged knowledge base. Now it's time to connect that knowledge base to our chatbot. To do that we'll be diving back into LangChain and reusing our template prompt from earlier."
      ]
    },
    {
      "cell_type": "markdown",
      "metadata": {
        "id": "8Z9sXYfobc7-"
      },
      "source": [
        "To use LangChain here we need to load the LangChain abstraction for a vector index, called a `vectorstore`. We pass in our vector `index` to initialize the object."
      ]
    },
    {
      "cell_type": "markdown",
      "metadata": {
        "id": "kM2Pcf_Pbc7_"
      },
      "source": [
        "Using this `vectorstore` we can already query the index and see if we have any relevant information given our question about Australia Budget 2025.\n",
        "\n",
        "vectorstore.similarity_search: This function performs a similarity search on the vector store (created using embeddings) based on the query you provide. It finds the documents that are most similar to the query by comparing their vector embeddings.\n",
        "\n",
        "Going forward, we will use **vectorstore.similarity_search** function which is similar to the retriever we mentioned about.\n",
        "\n",
        "| Feature                          | `vectorstore.similarity_search(query, k=3)`              | `retriever = vectorstore.as_retriever(search_kwargs={\"k\": top_k})`   |\n",
        "| --------------------------------- | ------------------------------------------------------- | ------------------------------------------------------------------- |\n",
        "| **Purpose**                       | Direct similarity search on a query                     | Converts vector store into a retriever for broader pipeline usage   |\n",
        "| **Integration**                   | Standalone search operation                             | Integrates with LangChain workflows (e.g., RAG, LLMChain, etc.)     |\n",
        "| **Usage**                         | For simple retrieval tasks                              | For more flexible or complex retrieval tasks in larger workflows    |\n",
        "| **Output**                        | Returns the top `k` similar documents directly           | Returns a retriever object to use within other processes            |\n",
        "| **Flexibility**                   | Limited to direct searches                              | Highly flexible for use in pipelines or more advanced workflows     |\n",
        "| **Configuration**                 | Specify `k` directly in the function                    | Configure `k` in `search_kwargs`, part of a retriever configuration |\n"
      ]
    },
    {
      "cell_type": "code",
      "execution_count": null,
      "metadata": {
        "id": "_VLN-0bebc7_",
        "collapsed": true
      },
      "outputs": [],
      "source": [
        "query = \"Can you tell more about Easing Cost of Living Pressures in Australia Budget 2025?\"\n",
        "\n",
        "vectorstore.similarity_search(query, k=3)"
      ]
    },
    {
      "cell_type": "markdown",
      "metadata": {
        "id": "DKVv_NYCbc7_"
      },
      "source": [
        "We return a lot of text here and it's not that clear what we need or what is relevant. Fortunately, our LLM will be able to parse this information much faster than us. All we need is to connect the output from our `vectorstore` to our `chat` chatbot. To do that we can use the same logic as we used earlier."
      ]
    },
    {
      "cell_type": "code",
      "execution_count": 31,
      "metadata": {
        "id": "ilDqdDb_bc7_"
      },
      "outputs": [],
      "source": [
        "def augment_prompt(query: str):\n",
        "    retriever = vectorstore.similarity_search(query, k=3)\n",
        "\n",
        "    # get the text from the results\n",
        "    source_knowledge = \"\\n\".join([x.page_content for x in retriever])\n",
        "    # feed into an augmented prompt\n",
        "    augmented_prompt = f\"\"\"Using the contexts below, answer the query.\n",
        "\n",
        "    Contexts:\n",
        "    {source_knowledge}\n",
        "\n",
        "    Query: {query}\"\"\"\n",
        "    return augmented_prompt"
      ]
    },
    {
      "cell_type": "markdown",
      "metadata": {
        "id": "xq2eeptIbc7_"
      },
      "source": [
        "Using this we produce an augmented prompt:"
      ]
    },
    {
      "cell_type": "code",
      "execution_count": null,
      "metadata": {
        "id": "qsw3qMI7bc7_",
        "collapsed": true
      },
      "outputs": [],
      "source": [
        "print(augment_prompt(query))"
      ]
    },
    {
      "cell_type": "markdown",
      "metadata": {
        "id": "l_YNDXjmbc7_"
      },
      "source": [
        "There is still a lot of text here, so let's pass it onto our chat model to see how it performs."
      ]
    },
    {
      "cell_type": "code",
      "execution_count": 33,
      "metadata": {
        "id": "7fR4JWZobc7_",
        "colab": {
          "base_uri": "https://localhost:8080/"
        },
        "outputId": "fe1ac9ac-6d00-4218-ed00-8249c3dcca88"
      },
      "outputs": [
        {
          "output_type": "stream",
          "name": "stdout",
          "text": [
            "The Australia Budget 2025 includes several measures aimed at easing cost of living pressures for Australian households. Some of the key initiatives outlined in the budget to provide relief to Australians include:\n",
            "\n",
            "1. Tax cuts for all Australian taxpayers: All 13.6 million Australian taxpayers will receive a tax cut, with an average tax cut of $1,888 or $36 a week. This measure aims to put more money back into the pockets of individuals and families, reducing their financial burden.\n",
            "\n",
            "2. Energy bill relief: The budget allocates $3.5 billion in energy bill relief for all Australian households and one million small businesses. This initiative aims to reduce the cost of energy bills for consumers, providing financial relief to households and businesses.\n",
            "\n",
            "3. Increase in Commonwealth Rent Assistance: The budget includes $1.9 billion to increase Commonwealth Rent Assistance by a further 10%, benefiting nearly 1 million households. This measure aims to help renters cope with rising housing costs and improve housing affordability.\n",
            "\n",
            "4. Cheaper medicines: As part of a $3 billion agreement with community pharmacies, the budget includes measures to make medicines more affordable for Australians. This initiative aims to reduce the financial burden of healthcare costs on individuals and families.\n",
            "\n",
            "5. Waiving student debt: The budget includes a provision to waive $3 billion in student debt for more than 3 million Australians, making student loans fairer and reducing the financial burden on graduates.\n",
            "\n",
            "6. Supporting wages growth: The budget includes measures to support wages growth, including submissions to the Fair Work Commission and supporting pay rises for care sector workers. This initiative aims to improve the financial well-being of workers and boost household incomes.\n",
            "\n",
            "7. Boosting funding for emergency and food relief: The budget allocates $138 million to boost funding for emergency and food relief and financial support services. This measure aims to provide assistance to vulnerable individuals and families facing financial hardship.\n",
            "\n",
            "Overall, these initiatives in the Australia Budget 2025 are designed to alleviate cost of living pressures for Australian households, improve financial security, and enhance the overall well-being of individuals and families.\n"
          ]
        }
      ],
      "source": [
        "# create a new user prompt\n",
        "prompt = HumanMessage(\n",
        "    content=augment_prompt(query)\n",
        ")\n",
        "# add to messages\n",
        "messages.append(prompt)\n",
        "\n",
        "res = chat(messages)\n",
        "\n",
        "print(res.content)"
      ]
    },
    {
      "cell_type": "markdown",
      "metadata": {
        "id": "e2UYdOZ3bc7_"
      },
      "source": [
        "We can continue with more questions. Let's try _without_ RAG first:"
      ]
    },
    {
      "cell_type": "code",
      "execution_count": 34,
      "metadata": {
        "id": "dAW8xIRPbc7_",
        "colab": {
          "base_uri": "https://localhost:8080/"
        },
        "outputId": "a89dfd3c-6a32-4f52-8489-fb9b2ec29b3d"
      },
      "outputs": [
        {
          "output_type": "stream",
          "name": "stdout",
          "text": [
            "Based on the provided context, the key highlights of the Australia Budget 2025 in terms of easing cost of living pressures include:\n",
            "\n",
            "1. Tax Cuts: All 13.6 million Australian taxpayers will receive a tax cut, with an average tax cut of $1,888 or $36 a week. This tax relief aims to reduce the financial burden on individuals and families.\n",
            "\n",
            "2. Energy Bill Relief: The budget includes $3.5 billion in energy bill relief for all Australian households and one million small businesses. This measure is intended to alleviate the rising costs of energy for consumers and businesses.\n",
            "\n",
            "3. Rent Assistance Increase: An allocation of $1.9 billion is designated to increase Commonwealth Rent Assistance by a further 10%, benefiting nearly 1 million households. This increase aims to assist renters in managing their housing costs.\n",
            "\n",
            "4. Cheaper Medicines: The budget includes measures to provide cheaper medicines as part of an agreement with community pharmacies, with an allocation of up to $3 billion. This initiative aims to reduce healthcare costs for individuals and families.\n",
            "\n",
            "5. Student Debt Waiver: The budget includes the waiving of $3 billion in student debt for more than 3 million Australians to make student loans fairer. This measure aims to alleviate the financial burden on individuals with student loans.\n",
            "\n",
            "6. Consumer Benefits: The budget aims to get consumers a better deal at the supermarket checkout and through the energy transition. This initiative is intended to help consumers save money on essential goods and services.\n",
            "\n",
            "7. Superannuation on Paid Parental Leave: An allocation of $1.1 billion is designated to pay superannuation on Government-funded Paid Parental Leave. This measure aims to support parents and improve their financial security.\n",
            "\n",
            "8. Emergency and Food Relief Funding: The budget includes $138 million to boost funding for emergency and food relief, as well as financial support services. This funding aims to assist vulnerable individuals and families facing financial hardship.\n",
            "\n",
            "9. Supporting Wages Growth: The budget includes initiatives to support wages growth through submissions to the Fair Work Commission and supporting pay rises for care sector workers. This measure aims to improve the financial well-being of workers in key sectors.\n",
            "\n",
            "10. Freeze on Deeming Rates: The budget extends the freeze on deeming rates for 876,000 income support recipients. This measure aims to provide financial relief to individuals relying on income support.\n",
            "\n",
            "These highlights demonstrate the government's efforts to address cost of living pressures and provide financial relief to individuals and households in Australia through various targeted initiatives and funding allocations in the Australia Budget 2025.\n"
          ]
        }
      ],
      "source": [
        "prompt = HumanMessage(\n",
        "    content=\"what are the key highlights of the Australia budget 2025\"\n",
        ")\n",
        "\n",
        "res = chat(messages + [prompt])\n",
        "print(res.content)"
      ]
    },
    {
      "cell_type": "markdown",
      "metadata": {
        "id": "HDoYWikVbc7_"
      },
      "source": [
        "The chatbot is able to respond about thanks to it's conversational history stored in `messages`. However, it doesn't know anything about the safety measures themselves as we have not provided it with that information via the RAG pipeline. Let's try again but with RAG."
      ]
    },
    {
      "cell_type": "code",
      "execution_count": 35,
      "metadata": {
        "id": "BSdbG6Gpbc8A",
        "colab": {
          "base_uri": "https://localhost:8080/"
        },
        "outputId": "7b173ae3-c3fa-41f2-8d84-1551521edd6a"
      },
      "outputs": [
        {
          "output_type": "stream",
          "name": "stdout",
          "text": [
            "The measures taken to strengthen the economy as outlined in the contexts include:\n",
            "\n",
            "1. Delivering responsible cost-of-living relief: The government is providing new personal income tax cuts for every Australian taxpayer, extending energy bill relief, advocating for wage increases, banning non-compete clauses for most workers, funding pay rises for aged care workers and early childhood educators, reducing the cost of medicines, and helping consumers get a better deal. These measures aim to ease the financial burden on individuals and households, thereby supporting economic growth.\n",
            "\n",
            "2. Strengthening Medicare: The government is making it easier for Australians to see a doctor for free by expanding eligibility for bulk billing incentives to cover all Australians, investing in hospitals and urgent care clinics, investing in women's health, and training more doctors and nurses. These investments in healthcare infrastructure and services contribute to improving public health outcomes and supporting economic productivity.\n",
            "\n",
            "3. Making it easier to buy and rent a home: The government is focusing on building more homes, investing in social and affordable housing, expanding the Help to Buy scheme, supporting renters, and investing in the construction sector through support for modern methods of construction and apprentices. These initiatives aim to address housing affordability issues, stimulate construction activity, and create jobs in the housing sector.\n",
            "\n",
            "4. Investing in every stage of education: The government is laying the foundations for universal early childhood education and care, supporting public schools, providing debt relief and lower compulsory repayments for students and graduates, and delivering Free TAFE places. These investments in education aim to improve access to quality education, upskill the workforce, and drive innovation and productivity in the economy.\n",
            "\n",
            "5. Building a stronger economy: The government is advancing its productivity agenda through competition reforms, unlocking investment in areas like green metals and manufacturing, supporting infrastructure development, and safeguarding regional banking and small businesses. These measures aim to stimulate economic growth, create employment opportunities, and enhance the competitiveness of Australian industries.\n",
            "\n",
            "Overall, these measures are designed to enhance economic resilience, promote sustainable growth, and improve living standards for all Australians.\n"
          ]
        }
      ],
      "source": [
        "prompt = HumanMessage(\n",
        "    content=augment_prompt(\n",
        "        \"What measures taken to strenghthen the economy?\"\n",
        "    )\n",
        ")\n",
        "res = chat(messages + [prompt])\n",
        "print(res.content)"
      ]
    },
    {
      "cell_type": "markdown",
      "metadata": {
        "id": "pA-dKw64bc8A"
      },
      "source": [
        "We get a much more informed response that includes several items missing in the previous non-RAG response, such as \"red-teaming\", \"iterative evaluations\", and the intention of the researchers to share this research to help \"improve their safety, promoting responsible development in the field\"."
      ]
    },
    {
      "cell_type": "markdown",
      "metadata": {
        "id": "LsQU9O05bc8A"
      },
      "source": [
        "---"
      ]
    },
    {
      "cell_type": "markdown",
      "source": [
        "### Quick Prototype of a ChatBot\n",
        "\n",
        "\"[Gradio](https://www.gradio.app/guides/creating-a-chatbot-fast)  is a powerful tool that allows you to easily build and share machine learning applications with an intuitive user interface. It enables real-time interaction with your AI models, making it perfect for building live experiences, such as chatbots.\n",
        "\n",
        "In this live demo, we’ve used Gradio to create an interactive interface for our AI chatbot, allowing you to engage in meaningful conversations and see the system retrieve and generate responses instantly.\n",
        "\n",
        "Here’s a quick example of how you can integrate Gradio with a chatbot:"
      ],
      "metadata": {
        "id": "y48u9TxztcB1"
      }
    },
    {
      "cell_type": "code",
      "source": [
        "!pip install gradio"
      ],
      "metadata": {
        "id": "5ZcFzjb4dM_q"
      },
      "execution_count": null,
      "outputs": []
    },
    {
      "cell_type": "code",
      "source": [
        "from langchain.chat_models import ChatOpenAI\n",
        "from langchain.schema import AIMessage, HumanMessage\n",
        "import openai\n",
        "import gradio as gr\n",
        "\n",
        "def predict(message, history):\n",
        "    history_langchain_format = []\n",
        "    for human, ai in history:\n",
        "        history_langchain_format.append(HumanMessage(content=human))\n",
        "        history_langchain_format.append(AIMessage(content=ai))\n",
        "    history_langchain_format.append(HumanMessage(content=message))\n",
        "    gpt_response = chat(history_langchain_format)\n",
        "    return gpt_response.content\n",
        "\n",
        "gr.ChatInterface(predict).launch()"
      ],
      "metadata": {
        "id": "5VZj4qCTsSDS"
      },
      "execution_count": null,
      "outputs": []
    }
  ],
  "metadata": {
    "kernelspec": {
      "display_name": "redacre",
      "language": "python",
      "name": "python3"
    },
    "language_info": {
      "codemirror_mode": {
        "name": "ipython",
        "version": 3
      },
      "file_extension": ".py",
      "mimetype": "text/x-python",
      "name": "python",
      "nbconvert_exporter": "python",
      "pygments_lexer": "ipython3",
      "version": "3.9.12"
    },
    "orig_nbformat": 4,
    "colab": {
      "provenance": []
    }
  },
  "nbformat": 4,
  "nbformat_minor": 0
}