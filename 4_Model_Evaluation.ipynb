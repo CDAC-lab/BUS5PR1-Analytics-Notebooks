{
  "nbformat": 4,
  "nbformat_minor": 0,
  "metadata": {
    "colab": {
      "name": "4_Model Evaluation.ipynb",
      "provenance": [],
      "collapsed_sections": [],
      "toc_visible": true
    },
    "kernelspec": {
      "name": "python3",
      "display_name": "Python 3"
    }
  },
  "cells": [
    {
      "cell_type": "markdown",
      "metadata": {
        "id": "frkjIc1lMwjJ",
        "colab_type": "text"
      },
      "source": [
        "# Model Evaluation\n",
        "\n",
        "This workshop will follow through the process of predictive analytics model development.  \n",
        "  \n",
        "First, a predictive model development for Boston housing data.\n",
        "\n",
        "**Regression**\n",
        "1.   Dataset split\n",
        "2.   Model evaluation statistics for regression\n",
        "3.   Evaluate bias and varience\n",
        "4.   Fine tune the model to improve the accuracy\n",
        "\n",
        "Second, a classification model for breast cancer detection.\n",
        "\n",
        "**Classification**\n",
        "1.   Dataset split\n",
        "2.   Model evaluation statistics for classification\n",
        "\n",
        "Thirdly, cross validation analysis for cancer dataset.\n"
      ]
    },
    {
      "cell_type": "code",
      "metadata": {
        "id": "9sG6seN_ntSD",
        "colab_type": "code",
        "colab": {}
      },
      "source": [
        "# Load required libraries\n",
        "import pandas as pd\n",
        "import numpy as np\n",
        "from sklearn.model_selection  import train_test_split\n",
        "\n",
        "# This is to remove warnings provided by the python libraries\n",
        "import warnings\n",
        "warnings.filterwarnings(\"ignore\")"
      ],
      "execution_count": null,
      "outputs": []
    },
    {
      "cell_type": "markdown",
      "metadata": {
        "id": "H4_fsYb903Md",
        "colab_type": "text"
      },
      "source": [
        "## Regression"
      ]
    },
    {
      "cell_type": "markdown",
      "metadata": {
        "id": "_X_gcEyqRtVx",
        "colab_type": "text"
      },
      "source": [
        "Upload Boston House dataset and load it.\n"
      ]
    },
    {
      "cell_type": "code",
      "metadata": {
        "id": "GaHSUuVfwImL",
        "colab_type": "code",
        "colab": {}
      },
      "source": [
        "df = pd.read_csv('tp3_boston_data.csv')  # Load the dataset"
      ],
      "execution_count": null,
      "outputs": []
    },
    {
      "cell_type": "code",
      "metadata": {
        "id": "_SR6fsEkSuOc",
        "colab_type": "code",
        "colab": {}
      },
      "source": [
        "df.info()"
      ],
      "execution_count": null,
      "outputs": []
    },
    {
      "cell_type": "markdown",
      "metadata": {
        "id": "H7_ouPAdtEry",
        "colab_type": "text"
      },
      "source": [
        "###Selecting your dataset split"
      ]
    },
    {
      "cell_type": "code",
      "metadata": {
        "id": "64kAMAtXvs5s",
        "colab_type": "code",
        "colab": {}
      },
      "source": [
        "df_x = df[['crim', 'zn', 'indus', 'chas', 'nox', 'rm', 'age', 'dis', 'rad', 'tax', 'ptratio', 'lstat']]\n",
        "df_y = df[['medv']]"
      ],
      "execution_count": null,
      "outputs": []
    },
    {
      "cell_type": "code",
      "metadata": {
        "id": "Pix6Hh02v-xM",
        "colab_type": "code",
        "colab": {
          "base_uri": "https://localhost:8080/",
          "height": 35
        },
        "outputId": "3eea7d8b-5fb8-4b4a-8104-32ddf83c0ee0"
      },
      "source": [
        "df_x.shape"
      ],
      "execution_count": null,
      "outputs": [
        {
          "output_type": "execute_result",
          "data": {
            "text/plain": [
              "(506, 12)"
            ]
          },
          "metadata": {
            "tags": []
          },
          "execution_count": 7
        }
      ]
    },
    {
      "cell_type": "markdown",
      "metadata": {
        "id": "s7xwaolUwSnE",
        "colab_type": "text"
      },
      "source": [
        "This dataset contains 506 data points. Therefore, we could select data split as train/validation as 70/30 (we will not be using test data split)"
      ]
    },
    {
      "cell_type": "code",
      "metadata": {
        "id": "tplmmkQowQgE",
        "colab_type": "code",
        "colab": {}
      },
      "source": [
        "X_train, X_val, Y_train, Y_val = train_test_split(df_x, df_y, test_size = 0.3, random_state = 5)"
      ],
      "execution_count": null,
      "outputs": []
    },
    {
      "cell_type": "markdown",
      "metadata": {
        "id": "b3jN6_Y69XRk",
        "colab_type": "text"
      },
      "source": [
        "### Modeling"
      ]
    },
    {
      "cell_type": "markdown",
      "metadata": {
        "id": "HMuPNtbAxNOj",
        "colab_type": "text"
      },
      "source": [
        "Train a simple linear regression model"
      ]
    },
    {
      "cell_type": "code",
      "metadata": {
        "id": "jBq2olQAw0a3",
        "colab_type": "code",
        "colab": {
          "base_uri": "https://localhost:8080/",
          "height": 35
        },
        "outputId": "232c0048-3b70-4a5e-fc35-302cea3eaacc"
      },
      "source": [
        "from sklearn import linear_model\n",
        "\n",
        "reg = linear_model.LinearRegression()\n",
        "reg.fit(X_train,Y_train)"
      ],
      "execution_count": null,
      "outputs": [
        {
          "output_type": "execute_result",
          "data": {
            "text/plain": [
              "LinearRegression(copy_X=True, fit_intercept=True, n_jobs=None, normalize=False)"
            ]
          },
          "metadata": {
            "tags": []
          },
          "execution_count": 9
        }
      ]
    },
    {
      "cell_type": "code",
      "metadata": {
        "id": "4pw4OTKuxljS",
        "colab_type": "code",
        "colab": {}
      },
      "source": [
        "# Training accuracy\n",
        "Y_train_predict = reg.predict(X_train)\n",
        "# Validation accuracy\n",
        "Y_val_predict = reg.predict(X_val)"
      ],
      "execution_count": null,
      "outputs": []
    },
    {
      "cell_type": "markdown",
      "metadata": {
        "id": "oBPt0wYA9dCw",
        "colab_type": "text"
      },
      "source": [
        "### Model Evaluation Statistics"
      ]
    },
    {
      "cell_type": "code",
      "metadata": {
        "id": "3Q-AXY22yqHI",
        "colab_type": "code",
        "colab": {}
      },
      "source": [
        "from sklearn.metrics import mean_squared_error, mean_absolute_error, r2_score"
      ],
      "execution_count": null,
      "outputs": []
    },
    {
      "cell_type": "code",
      "metadata": {
        "id": "Qz0qtV_CxR1z",
        "colab_type": "code",
        "colab": {
          "base_uri": "https://localhost:8080/",
          "height": 123
        },
        "outputId": "d5a2f6a3-6f5c-4d96-bb9e-adf72f116e33"
      },
      "source": [
        "# Error calculation \n",
        "error_train = np.sqrt(mean_squared_error(Y_train_predict, Y_train))\n",
        "print('Training Root Mean Squared Error: ' + str(error_train))\n",
        "error_val = np.sqrt(mean_squared_error(Y_val_predict, Y_val))\n",
        "print('Validation Root Mean Squared Error: ' + str(error_val))\n",
        "\n",
        "error_train = mean_absolute_error(Y_train_predict, Y_train)\n",
        "print('Training Mean Absolute Error: ' + str(error_train))\n",
        "error_val = mean_absolute_error(Y_val_predict, Y_val)\n",
        "print('Validation Mean Absolute Error: ' + str(error_val))\n",
        "\n",
        "error_train = r2_score(Y_train_predict, Y_train)\n",
        "print('Training R2 Error: ' + str(error_train))\n",
        "error_val = r2_score(Y_val_predict, Y_val)\n",
        "print('Validation R2 Error: ' + str(error_val))"
      ],
      "execution_count": null,
      "outputs": [
        {
          "output_type": "stream",
          "text": [
            "Training Root Mean Squared Error: 4.477298307360929\n",
            "Validation Root Mean Squared Error: 5.461959116713417\n",
            "Training Mean Absolute Error: 3.2174054306410693\n",
            "Validation Mean Absolute Error: 3.54932131747494\n",
            "Training R2 Error: 0.6647291592059915\n",
            "Validation R2 Error: 0.5481922103844163\n"
          ],
          "name": "stdout"
        }
      ]
    },
    {
      "cell_type": "markdown",
      "metadata": {
        "id": "cIOTmXNe9oVT",
        "colab_type": "text"
      },
      "source": [
        "### Analysis: Bias and Variance"
      ]
    },
    {
      "cell_type": "markdown",
      "metadata": {
        "id": "C3GYU-nUyOI5",
        "colab_type": "text"
      },
      "source": [
        "Based on the evaluation metrices, it can be seen that there is a high bias in the predicted values.  \n",
        "**What options we have to improve the accuracy?**  \n",
        "1.  Making the model complex  \n",
        "2.  ..."
      ]
    },
    {
      "cell_type": "markdown",
      "metadata": {
        "id": "uZGKzxH794kO",
        "colab_type": "text"
      },
      "source": [
        "### Modeling a complex NN model"
      ]
    },
    {
      "cell_type": "code",
      "metadata": {
        "id": "CbTP3xmZyA2-",
        "colab_type": "code",
        "colab": {}
      },
      "source": [
        "from sklearn.neural_network import MLPRegressor"
      ],
      "execution_count": null,
      "outputs": []
    },
    {
      "cell_type": "code",
      "metadata": {
        "id": "i31V8pfpz7Gm",
        "colab_type": "code",
        "colab": {}
      },
      "source": [
        "mlp = MLPRegressor(hidden_layer_sizes=(150), max_iter=1500)"
      ],
      "execution_count": null,
      "outputs": []
    },
    {
      "cell_type": "code",
      "metadata": {
        "id": "xwxPDHyCz841",
        "colab_type": "code",
        "colab": {}
      },
      "source": [
        "mlp.fit(X_train, Y_train)"
      ],
      "execution_count": null,
      "outputs": []
    },
    {
      "cell_type": "code",
      "metadata": {
        "id": "GgBRgqUm0BM3",
        "colab_type": "code",
        "colab": {}
      },
      "source": [
        "# Training accuracy\n",
        "Y_train_predict = mlp.predict(X_train)\n",
        "# Validation accuracy\n",
        "Y_val_predict = mlp.predict(X_val)"
      ],
      "execution_count": null,
      "outputs": []
    },
    {
      "cell_type": "code",
      "metadata": {
        "id": "_OXuuLvg0KmT",
        "colab_type": "code",
        "colab": {
          "base_uri": "https://localhost:8080/",
          "height": 123
        },
        "outputId": "294ddfbe-4e49-4eee-a9bc-734f1e229275"
      },
      "source": [
        "# Error calculation \n",
        "error_train = np.sqrt(mean_squared_error(Y_train_predict, Y_train))\n",
        "print('Training Root Mean Squared Error: ' + str(error_train))\n",
        "error_val = np.sqrt(mean_squared_error(Y_val_predict, Y_val))\n",
        "print('Validation Root Mean Squared Error: ' + str(error_val))\n",
        "\n",
        "error_train = mean_absolute_error(Y_train_predict, Y_train)\n",
        "print('Training Mean Absolute Error: ' + str(error_train))\n",
        "error_val = mean_absolute_error(Y_val_predict, Y_val)\n",
        "print('Validation Mean Absolute Error: ' + str(error_val))\n",
        "\n",
        "error_train = r2_score(Y_train_predict, Y_train)\n",
        "print('Training R2 Error: ' + str(error_train))\n",
        "error_val = r2_score(Y_val_predict, Y_val)\n",
        "print('Validation R2 Error: ' + str(error_val))"
      ],
      "execution_count": null,
      "outputs": [
        {
          "output_type": "stream",
          "text": [
            "Training Root Mean Squared Error: 4.363003583252\n",
            "Validation Root Mean Squared Error: 4.727512242854376\n",
            "Training Mean Absolute Error: 3.304188255674149\n",
            "Validation Mean Absolute Error: 3.6058490111333508\n",
            "Training R2 Error: 0.663494392103787\n",
            "Validation R2 Error: 0.6389173366428582\n"
          ],
          "name": "stdout"
        }
      ]
    },
    {
      "cell_type": "markdown",
      "metadata": {
        "id": "nFtm5a2z1GIz",
        "colab_type": "text"
      },
      "source": [
        "## Classification"
      ]
    },
    {
      "cell_type": "code",
      "metadata": {
        "id": "UQL-5brm1Dnu",
        "colab_type": "code",
        "colab": {}
      },
      "source": [
        "from sklearn.datasets import load_breast_cancer\n",
        "\n",
        "# Load the dataset directly from sklearn sample dataset library\n",
        "cancer = load_breast_cancer()"
      ],
      "execution_count": null,
      "outputs": []
    },
    {
      "cell_type": "code",
      "metadata": {
        "id": "HxCEfRT51Ops",
        "colab_type": "code",
        "colab": {}
      },
      "source": [
        "print(cancer.get('DESCR'))"
      ],
      "execution_count": null,
      "outputs": []
    },
    {
      "cell_type": "code",
      "metadata": {
        "id": "OBTG0_QG1QN9",
        "colab_type": "code",
        "colab": {}
      },
      "source": [
        "df_x = pd.DataFrame(cancer.get('data'),columns=cancer.get('feature_names'))\n",
        "df_y = pd.DataFrame(cancer.get('target'))"
      ],
      "execution_count": null,
      "outputs": []
    },
    {
      "cell_type": "code",
      "metadata": {
        "id": "II7xince1Yaw",
        "colab_type": "code",
        "colab": {
          "base_uri": "https://localhost:8080/",
          "height": 35
        },
        "outputId": "b80b9aff-c7eb-48fc-e34c-d21134d1c956"
      },
      "source": [
        "df_x.shape"
      ],
      "execution_count": null,
      "outputs": [
        {
          "output_type": "execute_result",
          "data": {
            "text/plain": [
              "(569, 30)"
            ]
          },
          "metadata": {
            "tags": []
          },
          "execution_count": 21
        }
      ]
    },
    {
      "cell_type": "code",
      "metadata": {
        "id": "eDPVVZxl1Z_d",
        "colab_type": "code",
        "colab": {}
      },
      "source": [
        "X_train, X_val, Y_train, Y_val = train_test_split(df_x, df_y, test_size = 0.3, random_state = 5)"
      ],
      "execution_count": null,
      "outputs": []
    },
    {
      "cell_type": "markdown",
      "metadata": {
        "id": "Hg-ei9W3-Fgi",
        "colab_type": "text"
      },
      "source": [
        "### Modeling \n",
        "\n",
        "We will model a simple logistic regression as the initial step."
      ]
    },
    {
      "cell_type": "code",
      "metadata": {
        "id": "8atdBEnX1d96",
        "colab_type": "code",
        "colab": {}
      },
      "source": [
        "from sklearn.linear_model import LogisticRegression"
      ],
      "execution_count": null,
      "outputs": []
    },
    {
      "cell_type": "code",
      "metadata": {
        "id": "2lutYUta1sNg",
        "colab_type": "code",
        "colab": {}
      },
      "source": [
        "reg = LogisticRegression()\n",
        "reg.fit(X_train,Y_train)"
      ],
      "execution_count": null,
      "outputs": []
    },
    {
      "cell_type": "code",
      "metadata": {
        "id": "VD6JNwIl11fG",
        "colab_type": "code",
        "colab": {}
      },
      "source": [
        "# Training accuracy\n",
        "Y_train_predict = reg.predict(X_train)\n",
        "# Validation accuracy\n",
        "Y_val_predict = reg.predict(X_val)"
      ],
      "execution_count": null,
      "outputs": []
    },
    {
      "cell_type": "markdown",
      "metadata": {
        "id": "yDV8e3MR-P2A",
        "colab_type": "text"
      },
      "source": [
        "### Evaluation Metrics"
      ]
    },
    {
      "cell_type": "markdown",
      "metadata": {
        "id": "SfgVsPlF-VRw",
        "colab_type": "text"
      },
      "source": [
        "#### Classification Accuracy"
      ]
    },
    {
      "cell_type": "code",
      "metadata": {
        "id": "ZxSQOU3S14_9",
        "colab_type": "code",
        "colab": {
          "base_uri": "https://localhost:8080/",
          "height": 52
        },
        "outputId": "1a6948d5-30a4-462f-87f0-45b1a463f2fc"
      },
      "source": [
        "from sklearn.metrics import accuracy_score\n",
        "\n",
        "# Error calculation \n",
        "error_train = accuracy_score(Y_train_predict, Y_train)\n",
        "print('Training Classif Accuracy: ' + str(error_train))\n",
        "error_val = accuracy_score(Y_val_predict, Y_val)\n",
        "print('Validation Classif Accuracy: ' + str(error_val))"
      ],
      "execution_count": null,
      "outputs": [
        {
          "output_type": "stream",
          "text": [
            "Training Classif Accuracy: 0.9371859296482412\n",
            "Validation Classif Accuracy: 0.9532163742690059\n"
          ],
          "name": "stdout"
        }
      ]
    },
    {
      "cell_type": "markdown",
      "metadata": {
        "id": "joEU6bVO-ZN1",
        "colab_type": "text"
      },
      "source": [
        "#### Confusion Matrix"
      ]
    },
    {
      "cell_type": "code",
      "metadata": {
        "id": "_9gm_7722kKY",
        "colab_type": "code",
        "colab": {
          "base_uri": "https://localhost:8080/",
          "height": 52
        },
        "outputId": "4d7bad3e-ddc4-49a3-d886-f84f24db4215"
      },
      "source": [
        "from sklearn.metrics import confusion_matrix\n",
        "confusion_matrix(Y_train_predict, Y_train)"
      ],
      "execution_count": null,
      "outputs": [
        {
          "output_type": "execute_result",
          "data": {
            "text/plain": [
              "array([[136,  10],\n",
              "       [ 15, 237]])"
            ]
          },
          "metadata": {
            "tags": []
          },
          "execution_count": 27
        }
      ]
    },
    {
      "cell_type": "markdown",
      "metadata": {
        "id": "TjshAmNC-d-X",
        "colab_type": "text"
      },
      "source": [
        "#### F1-Score"
      ]
    },
    {
      "cell_type": "code",
      "metadata": {
        "id": "_hO_DSUq3n2s",
        "colab_type": "code",
        "colab": {
          "base_uri": "https://localhost:8080/",
          "height": 52
        },
        "outputId": "1f9364ad-6bdd-43eb-d81b-a58e31312030"
      },
      "source": [
        "from sklearn.metrics import f1_score\n",
        "\n",
        "# Error calculation \n",
        "error_train = f1_score(Y_train_predict, Y_train)\n",
        "print('Training F1 Score: ' + str(error_train))\n",
        "error_val = f1_score(Y_val_predict, Y_val)\n",
        "print('Validation F1 Score: ' + str(error_val))"
      ],
      "execution_count": null,
      "outputs": [
        {
          "output_type": "stream",
          "text": [
            "Training F1 Score: 0.9498997995991983\n",
            "Validation F1 Score: 0.963963963963964\n"
          ],
          "name": "stdout"
        }
      ]
    },
    {
      "cell_type": "markdown",
      "metadata": {
        "id": "vmpsN2R2-h15",
        "colab_type": "text"
      },
      "source": [
        "#### Classification Report "
      ]
    },
    {
      "cell_type": "code",
      "metadata": {
        "id": "w2XJDKq5MALU",
        "colab_type": "code",
        "colab": {
          "base_uri": "https://localhost:8080/",
          "height": 369
        },
        "outputId": "3227a462-ea5d-4be5-d60c-bcaaad06dbf5"
      },
      "source": [
        "from sklearn.metrics import classification_report\n",
        "\n",
        "report = classification_report(Y_train_predict, Y_train)\n",
        "print('Training report\\n', report)\n",
        "\n",
        "report = classification_report(Y_val_predict, Y_val)\n",
        "print('Validation report\\n', report)"
      ],
      "execution_count": null,
      "outputs": [
        {
          "output_type": "stream",
          "text": [
            "Training report\n",
            "               precision    recall  f1-score   support\n",
            "\n",
            "           0       0.90      0.93      0.92       146\n",
            "           1       0.96      0.94      0.95       252\n",
            "\n",
            "    accuracy                           0.94       398\n",
            "   macro avg       0.93      0.94      0.93       398\n",
            "weighted avg       0.94      0.94      0.94       398\n",
            "\n",
            "Validation report\n",
            "               precision    recall  f1-score   support\n",
            "\n",
            "           0       0.92      0.95      0.93        59\n",
            "           1       0.97      0.96      0.96       112\n",
            "\n",
            "    accuracy                           0.95       171\n",
            "   macro avg       0.95      0.95      0.95       171\n",
            "weighted avg       0.95      0.95      0.95       171\n",
            "\n"
          ],
          "name": "stdout"
        }
      ]
    },
    {
      "cell_type": "markdown",
      "metadata": {
        "id": "OJLP8Sim-lvd",
        "colab_type": "text"
      },
      "source": [
        "#### AUC and ROC Curve"
      ]
    },
    {
      "cell_type": "code",
      "metadata": {
        "id": "uza6cLgx4JRj",
        "colab_type": "code",
        "colab": {
          "base_uri": "https://localhost:8080/",
          "height": 281
        },
        "outputId": "66abee04-278b-4dce-b874-9e36fc48a222"
      },
      "source": [
        "from sklearn.metrics import roc_auc_score, roc_curve\n",
        "import matplotlib.pyplot as plt\n",
        "\n",
        "auc = roc_auc_score(Y_val, Y_val_predict)\n",
        "fpr, tpr, thresholds = roc_curve(Y_val, Y_val_predict, pos_label=1)\n",
        "\n",
        "plt.plot(fpr, tpr)\n",
        "plt.plot([0, 1], [0, 1], '--')\n",
        "plt.xlim(0, 1.01)\n",
        "plt.ylim(0, 1.01)\n",
        "plt.title('AUC: {}'.format(round(auc, 2)))\n",
        "plt.show()"
      ],
      "execution_count": null,
      "outputs": [
        {
          "output_type": "display_data",
          "data": {
            "image/png": "[encoded data removed]",
            "text/plain": [
              "<Figure size 432x288 with 1 Axes>"
            ]
          },
          "metadata": {
            "tags": []
          }
        }
      ]
    },
    {
      "cell_type": "markdown",
      "metadata": {
        "id": "lRW6F4SR6vQh",
        "colab_type": "text"
      },
      "source": [
        "## k-Fold cross validation"
      ]
    },
    {
      "cell_type": "markdown",
      "metadata": {
        "id": "eN0tfKKpHr4U",
        "colab_type": "text"
      },
      "source": [
        "Apply k-fold cross validation for cancer detection dataset."
      ]
    },
    {
      "cell_type": "code",
      "metadata": {
        "id": "SlMTg87s6xul",
        "colab_type": "code",
        "colab": {}
      },
      "source": [
        "# Load the dataset directly\n",
        "cancer = load_breast_cancer()"
      ],
      "execution_count": null,
      "outputs": []
    },
    {
      "cell_type": "code",
      "metadata": {
        "id": "YQo0YPlZ602E",
        "colab_type": "code",
        "colab": {}
      },
      "source": [
        "df_x = pd.DataFrame(cancer.get('data'),columns=cancer.get('feature_names'))\n",
        "df_y = pd.DataFrame(cancer.get('target'))\n",
        "X = df_x.values\n",
        "Y = df_y.values"
      ],
      "execution_count": null,
      "outputs": []
    },
    {
      "cell_type": "code",
      "metadata": {
        "id": "vefu2QDuILhK",
        "colab_type": "code",
        "colab": {}
      },
      "source": [
        "from sklearn import model_selection"
      ],
      "execution_count": null,
      "outputs": []
    },
    {
      "cell_type": "code",
      "metadata": {
        "id": "QcGFQYR1IVaT",
        "colab_type": "code",
        "colab": {
          "base_uri": "https://localhost:8080/",
          "height": 72
        },
        "outputId": "b6ce45fb-8219-4624-c05a-8b3cb201e652"
      },
      "source": [
        "k = 10 # use 10-Fold cross validation with logistic regression\n",
        "kfold = model_selection.KFold(n_splits=k, random_state=2)\n",
        "model = LogisticRegression()"
      ],
      "execution_count": null,
      "outputs": [
        {
          "output_type": "stream",
          "text": [
            "/usr/local/lib/python3.6/dist-packages/sklearn/model_selection/_split.py:296: FutureWarning: Setting a random_state has no effect since shuffle is False. This will raise an error in 0.24. You should leave random_state to its default (None), or set shuffle=True.\n",
            "  FutureWarning\n"
          ],
          "name": "stderr"
        }
      ]
    },
    {
      "cell_type": "code",
      "metadata": {
        "id": "oG1p3HWlJnnU",
        "colab_type": "code",
        "colab": {
          "base_uri": "https://localhost:8080/",
          "height": 35
        },
        "outputId": "20fddaae-9124-45ef-c73f-f956267999b1"
      },
      "source": [
        "# Classification accuracy\n",
        "scoring = 'accuracy'\n",
        "results = model_selection.cross_val_score(model, X, Y, cv=kfold, scoring=scoring)\n",
        "print(\"Accuracy: {:.2f} ({:.2f})\".format(results.mean(), results.std()))"
      ],
      "execution_count": null,
      "outputs": [
        {
          "output_type": "stream",
          "text": [
            "Accuracy: 0.94 (0.04)\n"
          ],
          "name": "stdout"
        }
      ]
    },
    {
      "cell_type": "code",
      "metadata": {
        "id": "ZmiNbrbcLMV7",
        "colab_type": "code",
        "colab": {
          "base_uri": "https://localhost:8080/",
          "height": 35
        },
        "outputId": "858b8637-7586-4ae3-ac22-a1e43c22ef96"
      },
      "source": [
        "scoring = 'roc_auc'\n",
        "results = model_selection.cross_val_score(model, X, Y, cv=kfold, scoring=scoring)\n",
        "print(\"AUC: {:.2f} ({:.2f})\".format(results.mean(), results.std()))"
      ],
      "execution_count": null,
      "outputs": [
        {
          "output_type": "stream",
          "text": [
            "AUC: 0.99 (0.01)\n"
          ],
          "name": "stdout"
        }
      ]
    },
    {
      "cell_type": "markdown",
      "metadata": {
        "id": "4U0VhK9CO352",
        "colab_type": "text"
      },
      "source": [
        "## Exercise: Credit card fraud detection"
      ]
    },
    {
      "cell_type": "markdown",
      "metadata": {
        "id": "up3u5k19PBXV",
        "colab_type": "text"
      },
      "source": [
        "Detect credit card frauds using [this](https://www.kaggle.com/mlg-ulb/creditcardfraud) dataset."
      ]
    }
  ]
}