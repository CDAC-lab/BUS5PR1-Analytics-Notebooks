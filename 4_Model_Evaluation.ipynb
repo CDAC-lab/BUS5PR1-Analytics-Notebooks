{
  "nbformat": 4,
  "nbformat_minor": 0,
  "metadata": {
    "colab": {
      "name": "4_Model_Evaluation.",
      "provenance": [],
      "collapsed_sections": [],
      "toc_visible": true
    },
    "kernelspec": {
      "name": "python3",
      "display_name": "Python 3"
    }
  },
  "cells": [
    {
      "cell_type": "markdown",
      "metadata": {
        "id": "frkjIc1lMwjJ"
      },
      "source": [
        "# Model Evaluation\n",
        "\n",
        "This workshop will follow through the process of predictive analytics model development.  \n",
        "  \n",
        "First, a predictive model development for Boston housing data.\n",
        "\n",
        "**Regression**\n",
        "1.   Dataset split\n",
        "2.   Model evaluation statistics for regression\n",
        "3.   Evaluate bias and varience\n",
        "4.   Fine tune the model to improve the accuracy\n",
        "\n",
        "Second, a classification model for breast cancer detection.\n",
        "\n",
        "**Classification**\n",
        "1.   Dataset split\n",
        "2.   Model evaluation statistics for classification\n",
        "\n",
        "Thirdly, cross validation analysis for cancer dataset.\n"
      ]
    },
    {
      "cell_type": "code",
      "metadata": {
        "id": "9sG6seN_ntSD"
      },
      "source": [
        "# Load required libraries\n",
        "import pandas as pd\n",
        "import numpy as np\n",
        "from sklearn.model_selection  import train_test_split\n",
        "\n",
        "# This is to remove warnings provided by the python libraries\n",
        "import warnings\n",
        "warnings.filterwarnings(\"ignore\")"
      ],
      "execution_count": 1,
      "outputs": []
    },
    {
      "cell_type": "markdown",
      "metadata": {
        "id": "H4_fsYb903Md"
      },
      "source": [
        "## Regression"
      ]
    },
    {
      "cell_type": "markdown",
      "metadata": {
        "id": "_X_gcEyqRtVx"
      },
      "source": [
        "Upload Boston House dataset and load it.\n"
      ]
    },
    {
      "cell_type": "code",
      "metadata": {
        "id": "GaHSUuVfwImL"
      },
      "source": [
        "df = pd.read_csv('tp3_boston_data.csv')  # Load the dataset"
      ],
      "execution_count": 2,
      "outputs": []
    },
    {
      "cell_type": "code",
      "metadata": {
        "id": "_SR6fsEkSuOc"
      },
      "source": [
        "df.info()"
      ],
      "execution_count": null,
      "outputs": []
    },
    {
      "cell_type": "markdown",
      "metadata": {
        "id": "H7_ouPAdtEry"
      },
      "source": [
        "###Selecting your dataset split"
      ]
    },
    {
      "cell_type": "code",
      "metadata": {
        "id": "64kAMAtXvs5s"
      },
      "source": [
        "df_x = df[['crim', 'zn', 'indus', 'chas', 'nox', 'rm', 'age', 'dis', 'rad', 'tax', 'ptratio', 'lstat']]\n",
        "df_y = df[['medv']]"
      ],
      "execution_count": 4,
      "outputs": []
    },
    {
      "cell_type": "code",
      "metadata": {
        "id": "Pix6Hh02v-xM",
        "colab": {
          "base_uri": "https://localhost:8080/"
        },
        "outputId": "287a3046-7859-4535-8f10-28e4e0521b0d"
      },
      "source": [
        "df_x.shape"
      ],
      "execution_count": 5,
      "outputs": [
        {
          "output_type": "execute_result",
          "data": {
            "text/plain": [
              "(506, 12)"
            ]
          },
          "metadata": {
            "tags": []
          },
          "execution_count": 5
        }
      ]
    },
    {
      "cell_type": "markdown",
      "metadata": {
        "id": "s7xwaolUwSnE"
      },
      "source": [
        "This dataset contains 506 data points. Therefore, we could select data split as train/validation as 70/30 (we will not be using test data split)"
      ]
    },
    {
      "cell_type": "code",
      "metadata": {
        "id": "tplmmkQowQgE"
      },
      "source": [
        "X_train, X_val, Y_train, Y_val = train_test_split(df_x, df_y, test_size = 0.3, random_state = 5)"
      ],
      "execution_count": 6,
      "outputs": []
    },
    {
      "cell_type": "markdown",
      "metadata": {
        "id": "b3jN6_Y69XRk"
      },
      "source": [
        "### Modeling"
      ]
    },
    {
      "cell_type": "markdown",
      "metadata": {
        "id": "HMuPNtbAxNOj"
      },
      "source": [
        "Train a simple linear regression model"
      ]
    },
    {
      "cell_type": "code",
      "metadata": {
        "id": "jBq2olQAw0a3",
        "colab": {
          "base_uri": "https://localhost:8080/"
        },
        "outputId": "ad2058a5-5385-4a0e-f1dd-6809f0f0af42"
      },
      "source": [
        "from sklearn import linear_model\n",
        "\n",
        "reg = linear_model.LinearRegression()\n",
        "reg.fit(X_train,Y_train)"
      ],
      "execution_count": 7,
      "outputs": [
        {
          "output_type": "execute_result",
          "data": {
            "text/plain": [
              "LinearRegression(copy_X=True, fit_intercept=True, n_jobs=None, normalize=False)"
            ]
          },
          "metadata": {
            "tags": []
          },
          "execution_count": 7
        }
      ]
    },
    {
      "cell_type": "code",
      "metadata": {
        "id": "4pw4OTKuxljS"
      },
      "source": [
        "# Training accuracy\n",
        "Y_train_predict = reg.predict(X_train)\n",
        "# Validation accuracy\n",
        "Y_val_predict = reg.predict(X_val)"
      ],
      "execution_count": 8,
      "outputs": []
    },
    {
      "cell_type": "markdown",
      "metadata": {
        "id": "oBPt0wYA9dCw"
      },
      "source": [
        "### Model Evaluation Statistics"
      ]
    },
    {
      "cell_type": "code",
      "metadata": {
        "id": "3Q-AXY22yqHI"
      },
      "source": [
        "from sklearn.metrics import mean_squared_error, mean_absolute_error, r2_score"
      ],
      "execution_count": 9,
      "outputs": []
    },
    {
      "cell_type": "code",
      "metadata": {
        "id": "Qz0qtV_CxR1z",
        "colab": {
          "base_uri": "https://localhost:8080/"
        },
        "outputId": "b119eaad-0749-4ca3-c867-25250b5b1781"
      },
      "source": [
        "# Error calculation \n",
        "error_train = np.sqrt(mean_squared_error(Y_train_predict, Y_train))\n",
        "print('Training Root Mean Squared Error: ' + str(error_train))\n",
        "error_val = np.sqrt(mean_squared_error(Y_val_predict, Y_val))\n",
        "print('Validation Root Mean Squared Error: ' + str(error_val))\n",
        "\n",
        "error_train = mean_absolute_error(Y_train_predict, Y_train)\n",
        "print('Training Mean Absolute Error: ' + str(error_train))\n",
        "error_val = mean_absolute_error(Y_val_predict, Y_val)\n",
        "print('Validation Mean Absolute Error: ' + str(error_val))\n",
        "\n",
        "error_train = r2_score(Y_train_predict, Y_train)\n",
        "print('Training R2 Error: ' + str(error_train))\n",
        "error_val = r2_score(Y_val_predict, Y_val)\n",
        "print('Validation R2 Error: ' + str(error_val))"
      ],
      "execution_count": 10,
      "outputs": [
        {
          "output_type": "stream",
          "text": [
            "Training Root Mean Squared Error: 4.477298307360929\n",
            "Validation Root Mean Squared Error: 5.461959116713417\n",
            "Training Mean Absolute Error: 3.2174054306410693\n",
            "Validation Mean Absolute Error: 3.54932131747494\n",
            "Training R2 Error: 0.6647291592059915\n",
            "Validation R2 Error: 0.5481922103844163\n"
          ],
          "name": "stdout"
        }
      ]
    },
    {
      "cell_type": "markdown",
      "metadata": {
        "id": "cIOTmXNe9oVT"
      },
      "source": [
        "### Analysis: Bias and Variance"
      ]
    },
    {
      "cell_type": "markdown",
      "metadata": {
        "id": "C3GYU-nUyOI5"
      },
      "source": [
        "Based on the evaluation metrices, it can be seen that there is a high bias in the predicted values.  \n",
        "**What options we have to improve the accuracy?**  \n",
        "1.  Making the model complex  \n",
        "2.  ..."
      ]
    },
    {
      "cell_type": "markdown",
      "metadata": {
        "id": "uZGKzxH794kO"
      },
      "source": [
        "### Modeling a complex NN model"
      ]
    },
    {
      "cell_type": "code",
      "metadata": {
        "id": "CbTP3xmZyA2-"
      },
      "source": [
        "from sklearn.neural_network import MLPRegressor"
      ],
      "execution_count": 11,
      "outputs": []
    },
    {
      "cell_type": "code",
      "metadata": {
        "id": "i31V8pfpz7Gm"
      },
      "source": [
        "mlp = MLPRegressor(hidden_layer_sizes=(150), max_iter=1500)"
      ],
      "execution_count": 12,
      "outputs": []
    },
    {
      "cell_type": "code",
      "metadata": {
        "id": "xwxPDHyCz841",
        "colab": {
          "base_uri": "https://localhost:8080/"
        },
        "outputId": "3cfada46-0917-444c-c488-e58afaff3a36"
      },
      "source": [
        "mlp.fit(X_train, Y_train)"
      ],
      "execution_count": 13,
      "outputs": [
        {
          "output_type": "execute_result",
          "data": {
            "text/plain": [
              "MLPRegressor(activation='relu', alpha=0.0001, batch_size='auto', beta_1=0.9,\n",
              "             beta_2=0.999, early_stopping=False, epsilon=1e-08,\n",
              "             hidden_layer_sizes=150, learning_rate='constant',\n",
              "             learning_rate_init=0.001, max_fun=15000, max_iter=1500,\n",
              "             momentum=0.9, n_iter_no_change=10, nesterovs_momentum=True,\n",
              "             power_t=0.5, random_state=None, shuffle=True, solver='adam',\n",
              "             tol=0.0001, validation_fraction=0.1, verbose=False,\n",
              "             warm_start=False)"
            ]
          },
          "metadata": {
            "tags": []
          },
          "execution_count": 13
        }
      ]
    },
    {
      "cell_type": "code",
      "metadata": {
        "id": "GgBRgqUm0BM3"
      },
      "source": [
        "# Training accuracy\n",
        "Y_train_predict = mlp.predict(X_train)\n",
        "# Validation accuracy\n",
        "Y_val_predict = mlp.predict(X_val)"
      ],
      "execution_count": 14,
      "outputs": []
    },
    {
      "cell_type": "code",
      "metadata": {
        "id": "_OXuuLvg0KmT",
        "colab": {
          "base_uri": "https://localhost:8080/"
        },
        "outputId": "d5b47145-603d-4578-ea84-c18e2e40b695"
      },
      "source": [
        "# Error calculation \n",
        "error_train = np.sqrt(mean_squared_error(Y_train_predict, Y_train))\n",
        "print('Training Root Mean Squared Error: ' + str(error_train))\n",
        "error_val = np.sqrt(mean_squared_error(Y_val_predict, Y_val))\n",
        "print('Validation Root Mean Squared Error: ' + str(error_val))\n",
        "\n",
        "error_train = mean_absolute_error(Y_train_predict, Y_train)\n",
        "print('Training Mean Absolute Error: ' + str(error_train))\n",
        "error_val = mean_absolute_error(Y_val_predict, Y_val)\n",
        "print('Validation Mean Absolute Error: ' + str(error_val))\n",
        "\n",
        "error_train = r2_score(Y_train_predict, Y_train)\n",
        "print('Training R2 Error: ' + str(error_train))\n",
        "error_val = r2_score(Y_val_predict, Y_val)\n",
        "print('Validation R2 Error: ' + str(error_val))"
      ],
      "execution_count": 15,
      "outputs": [
        {
          "output_type": "stream",
          "text": [
            "Training Root Mean Squared Error: 3.6774632769495157\n",
            "Validation Root Mean Squared Error: 4.376707881809217\n",
            "Training Mean Absolute Error: 2.50880895940493\n",
            "Validation Mean Absolute Error: 2.964011440560225\n",
            "Training R2 Error: 0.7945172381664236\n",
            "Validation R2 Error: 0.7207318236586875\n"
          ],
          "name": "stdout"
        }
      ]
    },
    {
      "cell_type": "markdown",
      "metadata": {
        "id": "nFtm5a2z1GIz"
      },
      "source": [
        "## Classification"
      ]
    },
    {
      "cell_type": "code",
      "metadata": {
        "id": "UQL-5brm1Dnu"
      },
      "source": [
        "from sklearn.datasets import load_breast_cancer\n",
        "\n",
        "# Load the dataset directly from sklearn sample dataset library\n",
        "cancer = load_breast_cancer()"
      ],
      "execution_count": 16,
      "outputs": []
    },
    {
      "cell_type": "code",
      "metadata": {
        "id": "HxCEfRT51Ops"
      },
      "source": [
        "print(cancer.get('DESCR'))"
      ],
      "execution_count": null,
      "outputs": []
    },
    {
      "cell_type": "code",
      "metadata": {
        "id": "OBTG0_QG1QN9"
      },
      "source": [
        "df_x = pd.DataFrame(cancer.get('data'),columns=cancer.get('feature_names'))\n",
        "df_y = pd.DataFrame(cancer.get('target'))"
      ],
      "execution_count": 18,
      "outputs": []
    },
    {
      "cell_type": "code",
      "metadata": {
        "id": "II7xince1Yaw",
        "colab": {
          "base_uri": "https://localhost:8080/"
        },
        "outputId": "1686c105-1097-4be8-aaaa-0dc5c7ee45d9"
      },
      "source": [
        "df_x.shape"
      ],
      "execution_count": 19,
      "outputs": [
        {
          "output_type": "execute_result",
          "data": {
            "text/plain": [
              "(569, 30)"
            ]
          },
          "metadata": {
            "tags": []
          },
          "execution_count": 19
        }
      ]
    },
    {
      "cell_type": "code",
      "metadata": {
        "id": "eDPVVZxl1Z_d"
      },
      "source": [
        "X_train, X_val, Y_train, Y_val = train_test_split(df_x, df_y, test_size = 0.3, random_state = 5)"
      ],
      "execution_count": 20,
      "outputs": []
    },
    {
      "cell_type": "markdown",
      "metadata": {
        "id": "Hg-ei9W3-Fgi"
      },
      "source": [
        "### Modeling \n",
        "\n",
        "We will model a simple logistic regression as the initial step."
      ]
    },
    {
      "cell_type": "code",
      "metadata": {
        "id": "8atdBEnX1d96"
      },
      "source": [
        "from sklearn.linear_model import LogisticRegression"
      ],
      "execution_count": 21,
      "outputs": []
    },
    {
      "cell_type": "code",
      "metadata": {
        "id": "2lutYUta1sNg",
        "colab": {
          "base_uri": "https://localhost:8080/"
        },
        "outputId": "91231e48-f005-4848-c6c7-a9da091c3668"
      },
      "source": [
        "reg = LogisticRegression()\n",
        "reg.fit(X_train,Y_train)"
      ],
      "execution_count": 22,
      "outputs": [
        {
          "output_type": "execute_result",
          "data": {
            "text/plain": [
              "LogisticRegression(C=1.0, class_weight=None, dual=False, fit_intercept=True,\n",
              "                   intercept_scaling=1, l1_ratio=None, max_iter=100,\n",
              "                   multi_class='auto', n_jobs=None, penalty='l2',\n",
              "                   random_state=None, solver='lbfgs', tol=0.0001, verbose=0,\n",
              "                   warm_start=False)"
            ]
          },
          "metadata": {
            "tags": []
          },
          "execution_count": 22
        }
      ]
    },
    {
      "cell_type": "code",
      "metadata": {
        "id": "VD6JNwIl11fG"
      },
      "source": [
        "# Training accuracy\n",
        "Y_train_predict = reg.predict(X_train)\n",
        "# Validation accuracy\n",
        "Y_val_predict = reg.predict(X_val)"
      ],
      "execution_count": 23,
      "outputs": []
    },
    {
      "cell_type": "markdown",
      "metadata": {
        "id": "yDV8e3MR-P2A"
      },
      "source": [
        "### Evaluation Metrics"
      ]
    },
    {
      "cell_type": "markdown",
      "metadata": {
        "id": "SfgVsPlF-VRw"
      },
      "source": [
        "#### Classification Accuracy"
      ]
    },
    {
      "cell_type": "code",
      "metadata": {
        "id": "ZxSQOU3S14_9",
        "colab": {
          "base_uri": "https://localhost:8080/"
        },
        "outputId": "2cd2d0a5-dd06-4cd1-d5ec-6a3327dbaf46"
      },
      "source": [
        "from sklearn.metrics import accuracy_score\n",
        "\n",
        "# Error calculation \n",
        "error_train = accuracy_score(Y_train_predict, Y_train)\n",
        "print('Training Classif Accuracy: ' + str(error_train))\n",
        "error_val = accuracy_score(Y_val_predict, Y_val)\n",
        "print('Validation Classif Accuracy: ' + str(error_val))"
      ],
      "execution_count": 24,
      "outputs": [
        {
          "output_type": "stream",
          "text": [
            "Training Classif Accuracy: 0.9422110552763819\n",
            "Validation Classif Accuracy: 0.9590643274853801\n"
          ],
          "name": "stdout"
        }
      ]
    },
    {
      "cell_type": "markdown",
      "metadata": {
        "id": "joEU6bVO-ZN1"
      },
      "source": [
        "#### Confusion Matrix"
      ]
    },
    {
      "cell_type": "code",
      "metadata": {
        "id": "_9gm_7722kKY",
        "colab": {
          "base_uri": "https://localhost:8080/"
        },
        "outputId": "2c5d9e5b-f9ef-4340-8eab-6ed4f8705323"
      },
      "source": [
        "from sklearn.metrics import confusion_matrix\n",
        "confusion_matrix(Y_train_predict, Y_train)"
      ],
      "execution_count": 25,
      "outputs": [
        {
          "output_type": "execute_result",
          "data": {
            "text/plain": [
              "array([[137,   9],\n",
              "       [ 14, 238]])"
            ]
          },
          "metadata": {
            "tags": []
          },
          "execution_count": 25
        }
      ]
    },
    {
      "cell_type": "markdown",
      "metadata": {
        "id": "TjshAmNC-d-X"
      },
      "source": [
        "#### F1-Score"
      ]
    },
    {
      "cell_type": "code",
      "metadata": {
        "id": "_hO_DSUq3n2s",
        "colab": {
          "base_uri": "https://localhost:8080/"
        },
        "outputId": "914e80bc-4d5f-43e8-a411-ea9679a3cdf3"
      },
      "source": [
        "from sklearn.metrics import f1_score\n",
        "\n",
        "# Error calculation \n",
        "error_train = f1_score(Y_train_predict, Y_train)\n",
        "print('Training F1 Score: ' + str(error_train))\n",
        "error_val = f1_score(Y_val_predict, Y_val)\n",
        "print('Validation F1 Score: ' + str(error_val))"
      ],
      "execution_count": 26,
      "outputs": [
        {
          "output_type": "stream",
          "text": [
            "Training F1 Score: 0.9539078156312625\n",
            "Validation F1 Score: 0.9683257918552037\n"
          ],
          "name": "stdout"
        }
      ]
    },
    {
      "cell_type": "markdown",
      "metadata": {
        "id": "vmpsN2R2-h15"
      },
      "source": [
        "#### Classification Report "
      ]
    },
    {
      "cell_type": "code",
      "metadata": {
        "id": "w2XJDKq5MALU",
        "colab": {
          "base_uri": "https://localhost:8080/"
        },
        "outputId": "ba8f6111-6a8f-4f77-bf87-dfc4d0044032"
      },
      "source": [
        "from sklearn.metrics import classification_report\n",
        "\n",
        "report = classification_report(Y_train_predict, Y_train)\n",
        "print('Training report\\n', report)\n",
        "\n",
        "report = classification_report(Y_val_predict, Y_val)\n",
        "print('Validation report\\n', report)"
      ],
      "execution_count": 27,
      "outputs": [
        {
          "output_type": "stream",
          "text": [
            "Training report\n",
            "               precision    recall  f1-score   support\n",
            "\n",
            "           0       0.91      0.94      0.92       146\n",
            "           1       0.96      0.94      0.95       252\n",
            "\n",
            "    accuracy                           0.94       398\n",
            "   macro avg       0.94      0.94      0.94       398\n",
            "weighted avg       0.94      0.94      0.94       398\n",
            "\n",
            "Validation report\n",
            "               precision    recall  f1-score   support\n",
            "\n",
            "           0       0.93      0.95      0.94        60\n",
            "           1       0.97      0.96      0.97       111\n",
            "\n",
            "    accuracy                           0.96       171\n",
            "   macro avg       0.95      0.96      0.96       171\n",
            "weighted avg       0.96      0.96      0.96       171\n",
            "\n"
          ],
          "name": "stdout"
        }
      ]
    },
    {
      "cell_type": "markdown",
      "metadata": {
        "id": "OJLP8Sim-lvd"
      },
      "source": [
        "#### AUC and ROC Curve"
      ]
    },
    {
      "cell_type": "code",
      "metadata": {
        "id": "uza6cLgx4JRj",
        "colab": {
          "base_uri": "https://localhost:8080/",
          "height": 281
        },
        "outputId": "48732528-2e6b-4552-fcb7-be27ba03b1dc"
      },
      "source": [
        "from sklearn.metrics import roc_auc_score, roc_curve\n",
        "import matplotlib.pyplot as plt\n",
        "\n",
        "auc = roc_auc_score(Y_val, Y_val_predict)\n",
        "fpr, tpr, thresholds = roc_curve(Y_val, Y_val_predict, pos_label=1)\n",
        "\n",
        "plt.plot(fpr, tpr)\n",
        "plt.plot([0, 1], [0, 1], '--')\n",
        "plt.xlim(0, 1.01)\n",
        "plt.ylim(0, 1.01)\n",
        "plt.title('AUC: {}'.format(round(auc, 2)))\n",
        "plt.show()"
      ],
      "execution_count": 28,
      "outputs": [
        {
          "output_type": "display_data",
          "data": {
            "image/png": "[encoded data removed]",
            "text/plain": [
              "<Figure size 432x288 with 1 Axes>"
            ]
          },
          "metadata": {
            "tags": [],
            "needs_background": "light"
          }
        }
      ]
    },
    {
      "cell_type": "markdown",
      "metadata": {
        "id": "lRW6F4SR6vQh"
      },
      "source": [
        "## k-Fold cross validation"
      ]
    },
    {
      "cell_type": "markdown",
      "metadata": {
        "id": "eN0tfKKpHr4U"
      },
      "source": [
        "Apply k-fold cross validation for cancer detection dataset."
      ]
    },
    {
      "cell_type": "code",
      "metadata": {
        "id": "SlMTg87s6xul"
      },
      "source": [
        "# Load the dataset directly\n",
        "cancer = load_breast_cancer()"
      ],
      "execution_count": 29,
      "outputs": []
    },
    {
      "cell_type": "code",
      "metadata": {
        "id": "YQo0YPlZ602E"
      },
      "source": [
        "df_x = pd.DataFrame(cancer.get('data'),columns=cancer.get('feature_names'))\n",
        "df_y = pd.DataFrame(cancer.get('target'))\n",
        "X = df_x.values\n",
        "Y = df_y.values"
      ],
      "execution_count": 30,
      "outputs": []
    },
    {
      "cell_type": "code",
      "metadata": {
        "id": "vefu2QDuILhK"
      },
      "source": [
        "from sklearn import model_selection"
      ],
      "execution_count": 31,
      "outputs": []
    },
    {
      "cell_type": "code",
      "metadata": {
        "id": "QcGFQYR1IVaT"
      },
      "source": [
        "k = 10 # use 10-Fold cross validation with logistic regression\n",
        "kfold = model_selection.KFold(n_splits=k, random_state=2)\n",
        "model = LogisticRegression()"
      ],
      "execution_count": 32,
      "outputs": []
    },
    {
      "cell_type": "code",
      "metadata": {
        "id": "oG1p3HWlJnnU",
        "colab": {
          "base_uri": "https://localhost:8080/"
        },
        "outputId": "d0a04b7d-99d5-4e9b-8100-bb96fada289c"
      },
      "source": [
        "# Classification accuracy\n",
        "scoring = 'accuracy'\n",
        "results = model_selection.cross_val_score(model, X, Y, cv=kfold, scoring=scoring)\n",
        "print(\"Accuracy: {:.2f} ({:.2f})\".format(results.mean(), results.std()))"
      ],
      "execution_count": 33,
      "outputs": [
        {
          "output_type": "stream",
          "text": [
            "Accuracy: 0.94 (0.04)\n"
          ],
          "name": "stdout"
        }
      ]
    },
    {
      "cell_type": "code",
      "metadata": {
        "id": "ZmiNbrbcLMV7",
        "colab": {
          "base_uri": "https://localhost:8080/"
        },
        "outputId": "0beeedad-5331-4da0-d4f9-474edc4a9aa3"
      },
      "source": [
        "scoring = 'roc_auc'\n",
        "results = model_selection.cross_val_score(model, X, Y, cv=kfold, scoring=scoring)\n",
        "print(\"AUC: {:.2f} ({:.2f})\".format(results.mean(), results.std()))"
      ],
      "execution_count": 34,
      "outputs": [
        {
          "output_type": "stream",
          "text": [
            "AUC: 0.99 (0.01)\n"
          ],
          "name": "stdout"
        }
      ]
    },
    {
      "cell_type": "markdown",
      "metadata": {
        "id": "1HE4uQaqnMEZ"
      },
      "source": [
        "## GridSearch based parameter tuning\n",
        "\n",
        "In this section, it's using GridSearch strategy to find the bast parameters"
      ]
    },
    {
      "cell_type": "code",
      "metadata": {
        "colab": {
          "base_uri": "https://localhost:8080/"
        },
        "id": "rjeui5RcTwiY",
        "outputId": "b1959d1a-ba01-450d-fe55-056a07ee817c"
      },
      "source": [
        "from sklearn.tree import DecisionTreeClassifier\n",
        "from sklearn.model_selection import GridSearchCV\n",
        "\n",
        "params = {'max_leaf_nodes': [6, 8, 10, 11, 12], 'min_samples_split': [2, 3, 4]}\n",
        "decision_tree = DecisionTreeClassifier(random_state=5)\n",
        "\n",
        "grid_search_cv = GridSearchCV(decision_tree, params, verbose=1, cv=10)\n",
        "grid_search_cv.fit(X_train, Y_train)"
      ],
      "execution_count": 54,
      "outputs": [
        {
          "output_type": "stream",
          "text": [
            "Fitting 10 folds for each of 15 candidates, totalling 150 fits\n"
          ],
          "name": "stdout"
        },
        {
          "output_type": "stream",
          "text": [
            "[Parallel(n_jobs=1)]: Using backend SequentialBackend with 1 concurrent workers.\n",
            "[Parallel(n_jobs=1)]: Done 150 out of 150 | elapsed:    1.2s finished\n"
          ],
          "name": "stderr"
        },
        {
          "output_type": "execute_result",
          "data": {
            "text/plain": [
              "DecisionTreeClassifier(ccp_alpha=0.0, class_weight=None, criterion='gini',\n",
              "                       max_depth=None, max_features=None, max_leaf_nodes=8,\n",
              "                       min_impurity_decrease=0.0, min_impurity_split=None,\n",
              "                       min_samples_leaf=1, min_samples_split=2,\n",
              "                       min_weight_fraction_leaf=0.0, presort='deprecated',\n",
              "                       random_state=5, splitter='best')"
            ]
          },
          "metadata": {
            "tags": []
          },
          "execution_count": 54
        }
      ]
    },
    {
      "cell_type": "code",
      "metadata": {
        "colab": {
          "base_uri": "https://localhost:8080/"
        },
        "id": "LiIdPiHVm30E",
        "outputId": "8a962ba7-944d-4536-a86c-5f61f6030374"
      },
      "source": [
        "grid_search_cv.best_estimator_"
      ],
      "execution_count": 59,
      "outputs": [
        {
          "output_type": "execute_result",
          "data": {
            "text/plain": [
              "DecisionTreeClassifier(ccp_alpha=0.0, class_weight=None, criterion='gini',\n",
              "                       max_depth=None, max_features=None, max_leaf_nodes=8,\n",
              "                       min_impurity_decrease=0.0, min_impurity_split=None,\n",
              "                       min_samples_leaf=1, min_samples_split=2,\n",
              "                       min_weight_fraction_leaf=0.0, presort='deprecated',\n",
              "                       random_state=5, splitter='best')"
            ]
          },
          "metadata": {
            "tags": []
          },
          "execution_count": 59
        }
      ]
    },
    {
      "cell_type": "code",
      "metadata": {
        "colab": {
          "base_uri": "https://localhost:8080/"
        },
        "id": "ZbW1qHbiUu-A",
        "outputId": "7cfbe75d-b469-4e50-a8e1-7a03ea023fcb"
      },
      "source": [
        "# Using best parameters from GridSearch\n",
        "selection = DecisionTreeClassifier(**grid_search_cv.best_params_)\n",
        "\n",
        "# Using user defined parameters \n",
        "# selection = DecisionTreeClassifier(max_leaf_nodes=6, min_samples_split=2)\n",
        "\n",
        "selection.fit(X_train, Y_train)\n",
        "Y_train_predict = selection.predict(X_train)\n",
        "Y_test_predict = selection.predict(X_val)\n",
        "\n",
        "# Error calculation \n",
        "error_train = f1_score(Y_train_predict, Y_train)\n",
        "print('Training F1 Score: ' + str(error_train))\n",
        "error_val = f1_score(Y_val_predict, Y_val)\n",
        "print('Validation F1 Score: ' + str(error_val))"
      ],
      "execution_count": 58,
      "outputs": [
        {
          "output_type": "stream",
          "text": [
            "Training F1 Score: 0.9798387096774194\n",
            "Validation F1 Score: 0.9683257918552037\n"
          ],
          "name": "stdout"
        }
      ]
    },
    {
      "cell_type": "markdown",
      "metadata": {
        "id": "4U0VhK9CO352"
      },
      "source": [
        "## Exercise: Credit card fraud detection"
      ]
    },
    {
      "cell_type": "markdown",
      "metadata": {
        "id": "up3u5k19PBXV"
      },
      "source": [
        "Detect credit card frauds using [this](https://www.kaggle.com/mlg-ulb/creditcardfraud) dataset."
      ]
    }
  ]
}