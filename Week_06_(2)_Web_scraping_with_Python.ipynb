{
  "nbformat": 4,
  "nbformat_minor": 0,
  "metadata": {
    "colab": {
      "name": "Week 06 (2) Web scraping with Python.ipynb",
      "provenance": [],
      "collapsed_sections": [],
      "toc_visible": true
    },
    "kernelspec": {
      "name": "python3",
      "display_name": "Python 3"
    }
  },
  "cells": [
    {
      "cell_type": "markdown",
      "metadata": {
        "id": "oG7x3e6TUkRX",
        "colab_type": "text"
      },
      "source": [
        "# **Web scraping using beautifulsoup**\n",
        "\n",
        "In this tutorial we will develop a web scraper to extract online review data from an online review site."
      ]
    },
    {
      "cell_type": "markdown",
      "metadata": {
        "id": "xw3anFs2sD4y",
        "colab_type": "text"
      },
      "source": [
        "## Load libraries\n",
        "\n",
        "For this scaper we will use beautifulsoup and requests python packages. Both the packages comes pre-installed with Google Colab, however, if you are using your own environment, you would need to install the both."
      ]
    },
    {
      "cell_type": "code",
      "metadata": {
        "id": "08mP-YSgUXKX",
        "colab_type": "code",
        "colab": {}
      },
      "source": [
        "from bs4 import BeautifulSoup\n",
        "import requests\n",
        "import pandas as pd"
      ],
      "execution_count": 0,
      "outputs": []
    },
    {
      "cell_type": "markdown",
      "metadata": {
        "id": "3NAVBNSpsWBQ",
        "colab_type": "text"
      },
      "source": [
        "## Design the scraper"
      ]
    },
    {
      "cell_type": "markdown",
      "metadata": {
        "id": "0mD8wSEQYNbS",
        "colab_type": "text"
      },
      "source": [
        "Specify the URL you need to scrape data from.\n",
        "The following commands will fetch the web structure of the url and assign it to the object 'soup' which we can use to extract data."
      ]
    },
    {
      "cell_type": "code",
      "metadata": {
        "id": "lsbGD20gVETX",
        "colab_type": "code",
        "colab": {}
      },
      "source": [
        "url = 'https://www.productreview.com.au/listings/nab-national-australia-bank'"
      ],
      "execution_count": 0,
      "outputs": []
    },
    {
      "cell_type": "code",
      "metadata": {
        "id": "dUWkIaXoVBV-",
        "colab_type": "code",
        "colab": {}
      },
      "source": [
        "page = requests.get(url)\n",
        "soup = BeautifulSoup(page.text, \"html.parser\")"
      ],
      "execution_count": 0,
      "outputs": []
    },
    {
      "cell_type": "markdown",
      "metadata": {
        "id": "i8giNwzMYiEA",
        "colab_type": "text"
      },
      "source": [
        "## **Scraping data from html elements**"
      ]
    },
    {
      "cell_type": "markdown",
      "metadata": {
        "id": "K_-k5CPrYq-v",
        "colab_type": "text"
      },
      "source": [
        "We need to extract the reviews from this page. \n",
        "\n",
        "First, find the corresponding html element which contains reviews. \n",
        "Visit the website, right click -> Inspect element -> identify the html element name which contains the review. (Use Google Chrome or Firefox)\n",
        "\n",
        "The command **findAll**  will find all the elements with the given name. In this case, it will fetch all the div elements with the attribute **\"itemprop\": \"review\"** and create a list.\n",
        "We assign this to a variable called **all_reviews**.  \n",
        "\n",
        "How it looks on browser as follows:"
      ]
    },
    {
      "cell_type": "markdown",
      "metadata": {
        "id": "S9qPflAUtOUC",
        "colab_type": "text"
      },
      "source": [
        "![alt text](https://i.ibb.co/WD6W0xF/item-prop.png)"
      ]
    },
    {
      "cell_type": "code",
      "metadata": {
        "id": "oKz3ljYtVKuO",
        "colab_type": "code",
        "colab": {}
      },
      "source": [
        "all_reviews = soup.findAll(\"div\", {\"itemprop\": \"review\"})"
      ],
      "execution_count": 0,
      "outputs": []
    },
    {
      "cell_type": "code",
      "metadata": {
        "id": "G6DzSNmxt0Tp",
        "colab_type": "code",
        "colab": {
          "base_uri": "https://localhost:8080/",
          "height": 34
        },
        "outputId": "02156100-ef80-4cca-ffab-e4c9d67f5730"
      },
      "source": [
        "print('Length of reviews: {}'.format(len(all_reviews)))"
      ],
      "execution_count": 5,
      "outputs": [
        {
          "output_type": "stream",
          "text": [
            "Length of reviews: 20\n"
          ],
          "name": "stdout"
        }
      ]
    },
    {
      "cell_type": "markdown",
      "metadata": {
        "id": "INNAx43RZw0I",
        "colab_type": "text"
      },
      "source": [
        "Observe the structure of one element."
      ]
    },
    {
      "cell_type": "code",
      "metadata": {
        "id": "nTZmXLsjVkYJ",
        "colab_type": "code",
        "colab": {
          "base_uri": "https://localhost:8080/",
          "height": 258
        },
        "outputId": "38411978-ed09-4556-a00c-3f04f8cfa4a3"
      },
      "source": [
        "print(all_reviews[5])"
      ],
      "execution_count": 6,
      "outputs": [
        {
          "output_type": "stream",
          "text": [
            "<div itemprop=\"review\" itemscope=\"\" itemtype=\"http://schema.org/Review\"><div class=\"mb-3_X8n card_364 card-full_37I card-full-md_3Xd\" id=\"review-e80ec924-5c23-455b-89da-55617100a9e9\"><div class=\"px-4_1Cw pt-4_9Zz pb-0_pDB trim-y_LxH bg-transparent_126 rounded-top_1Rx no-border_2Lm card-header_2E7\"><div class=\" media_xhR\"><a href=\"/consumer-profiles/230ea4b0-3858-4bfa-808a-5d04d91606ca\"><div class=\" cursor--pointer_3im relative_2IG d-inline-block_3nd\"><svg class=\" absolute-bottom-right_1bQ\" height=\"20\" viewbox=\"0 0 20 20\" width=\"20\"><use xlink:href=\"#badge-facebook\"></use></svg><img alt=\"Alex A.\" class=\" rounded-circle_RCO\" height=\"48\" src=\"data:image/gif;base64,iVBORw0KGgoAAAANSUhEUgAAAAEAAAABCAQAAAC1HAwCAAAAC0lEQVR42mN8Vw8AAmEBb87E6jIAAAAASUVORK5CYII\" title=\"Alex A.\" width=\"48\"/></div></a><div class=\"ml-3_Jy- align-self-center_1t7 flex-basis-auto_2WS flex-column_1v6 d-flex_oSG overflow-x-hidden__yA media-body_15t\"><h4 class=\"my-0_27D align-items-baseline_kxl flex-column_1v6 d-inline-flex_1j8 text-muted_2v5\"><span class=\"flex-shrink-0_3Zi text-link_1re textDecorationHover--underline_2zc\"><span class=\"align-items-center_3Oi flex-wrap_ATH d-inline-flex_1j8\"><a href=\"/consumer-profiles/230ea4b0-3858-4bfa-808a-5d04d91606ca\"><span class=\" cursor--pointer_3im text-link_1re textDecorationHover--underline_2zc\">Alex A.</span></a></span></span><small class=\"ml-0_odg flex-shrink-0_3Zi d-block_2Ez text-muted_2v5 font-size-sm_E37\"></small></h4></div></div></div><div>\n",
            "<meta content=\"https://www.productreview.com.au/reviews/e80ec924-5c23-455b-89da-55617100a9e9\" itemprop=\"url\"/>\n",
            "<meta content=\"2020-03-22T05:48:02Z\" itemprop=\"datePublished\"/>\n",
            "<meta content=\"en\" itemprop=\"inLanguage\"/>\n",
            "<meta content=\"Pirates are holding funds instead of sending it instantly via osko!\" itemprop=\"name\"/>\n",
            "<div itemprop=\"reviewRating\" itemscope=\"\" itemtype=\"http://schema.org/Rating\">\n",
            "<meta content=\"1\" itemprop=\"ratingValue\"/>\n",
            "</div>\n",
            "<div itemprop=\"author\" itemscope=\"\" itemtype=\"http://schema.org/Person\">\n",
            "<meta content=\"Alex A.\" itemprop=\"name\"/>\n",
            "<meta content=\"https://www.productreview.com.au/consumer-profiles/230ea4b0-3858-4bfa-808a-5d04d91606ca\" itemprop=\"sameAs\"/>\n",
            "</div>\n",
            "</div><div class=\"px-4_1Cw pt-4_9Zz pb-2_1Ex card-body_2iI\"><ul class=\"m-0_1h7 flex-wrap_ATH d-flex_oSG list-unstyled_3a3\"><li class=\"mb-1_1S1 flex-shrink-1_3z8 overflow-hidden_1S8\"><a href=\"/listings/nab-national-australia-bank-online\" title=\"See all Online reviews\"><span class=\" trim-y_LxH d-block_2Ez text-left_1-r text-truncate_1xh text-uppercase_3bu badge__qo badge-secondary_3mX\">Online</span></a></li></ul><h3 class=\"mb-2_3ol\"><span class=\"highlightedText_3Kd\">Pirates are holding funds instead of sending it instantly via osko!</span></h3><div class=\"mb-4_2RH align-items-center_3Oi flex-wrap_ATH d-flex_oSG\"><div class=\"mr-1_3sR flex-shrink-0_3Zi rating_1P_ rating--dark_LyJ rating--10_1tF rating--medium_lUs rating--stars_t7q\" title=\"1 out of 5 stars\"></div><span class=\" text-muted_2v5 font-size-sm_E37\"><span>published <time datetime=\"2020-03-22T05:48:02.000Z\">2 weeks ago</time></span></span></div><div class=\"mb-4_2RH\"><span aria-expanded=\"true\" class=\" break-word_3J1\" itemprop=\"description\"><p><span class=\"highlightedText_3Kd\">I have pay ID sent $2,000 via osko to my friend who also has OSKO and a pay ID so payments should be received instantly yet here we are 1 day later no payment has been received!</span></p><p><span class=\"highlightedText_3Kd\">NAB are holding the funds rather than transfer it instantly as they are supposed for financial gain! They are pirates!!!!!!!</span></p><p class=\"mb-0_2CX\"><span class=\"highlightedText_3Kd\">Note the status on Osko now states “ unavailable “ sneaky nab very sneaky</span></p></span></div><div class=\"mb-4_2RH\"><ul class=\"neg-mr-1_2kr neg-mb-1_1w4 flex-wrap_ATH d-flex_oSG list-unstyled_3a3\"><li class=\"mr-1_3sR mb-1_1S1\"><div class=\" cursor--pointer_3im relative_2IG\"><img class=\" rounded_373 img-cover_1bh\" height=\"64\" src=\"https://cdn.productreview.com.au/resize/review-attachment/b6aecd80-10e8-416f-8279-f86f106b0429?width=64&amp;height=64&amp;cover=\" srcset=\"https://cdn.productreview.com.au/resize/review-attachment/b6aecd80-10e8-416f-8279-f86f106b0429?width=64&amp;height=64&amp;dpr=2&amp;cover= 2x\" width=\"64\"/></div></li></ul></div><div><div class=\" row_3hE gutterX-margin-4_16A gutterY-margin-1_3Tr\"><div class=\" col-12_3eu col-md-6_2qN gutterX-padding-4_Hj5 gutterY-padding-1_3eZ\"><span class=\"flex-column_1v6 d-flex_oSG\"><span class=\"flex-column_1v6 d-flex_oSG font-size-sm_E37\"><span class=\" text-muted_2v5\"> <span class=\" text-nowrap_2ew\">Transparency<!-- --> <svg class=\" cursor--help_3Uq relative_2IG elevation-2_2H-\" height=\"21\" viewbox=\"0 0 18 21\" width=\"18\"><use xlink:href=\"#help\"></use></svg></span></span><div class=\"align-items-center_3Oi flex-wrap_ATH d-flex_oSG\" style=\"height:21px\"><div class=\"mr-1_3sR flex-shrink-0_3Zi rating_1P_ rating--dark_LyJ rating--10_1tF rating--xsmall_21N rating--circles_NMh\" title=\"1/5\"></div></div></span></span></div><div class=\" col-12_3eu col-md-6_2qN gutterX-padding-4_Hj5 gutterY-padding-1_3eZ\"><span class=\"flex-column_1v6 d-flex_oSG\"><span class=\"flex-column_1v6 d-flex_oSG font-size-sm_E37\"><span class=\" text-muted_2v5\">Customer Service</span><div class=\"align-items-center_3Oi flex-wrap_ATH d-flex_oSG\" style=\"height:21px\"><div class=\"mr-1_3sR flex-shrink-0_3Zi rating_1P_ rating--dark_LyJ rating--10_1tF rating--xsmall_21N rating--circles_NMh\" title=\"1/5\"></div></div></span></span></div><div class=\" col-12_3eu col-md-6_2qN gutterX-padding-4_Hj5 gutterY-padding-1_3eZ\"><span class=\"flex-column_1v6 d-flex_oSG\"><span class=\"flex-column_1v6 d-flex_oSG font-size-sm_E37\"><span class=\" text-muted_2v5\">Topic</span>General Transactions</span></span></div></div></div><div class=\"my-4_5Fs justify-content-between_xhG flex-nowrap_3da btn-toolbar_Qgv\" role=\"toolbar\"><div class=\"mr-4_ylL btn-group_lNy\" role=\"group\"><div class=\" cursor--pointer_3im text-muted_2v5 btn_V5i btn-link_1B8 btn-icon-left_2xJ\" title=\"Like\"><svg height=\"24\" viewbox=\"0 0 24 24\" width=\"24\"><use xlink:href=\"#action-like\"></use></svg><span>Like</span></div><div class=\"ml-4_2om cursor--pointer_3im text-muted_2v5 btn_V5i btn-link_1B8 btn-icon-left_2xJ\"><svg height=\"24\" viewbox=\"0 0 24 24\" width=\"24\"><use xlink:href=\"#action-share\"></use></svg>Share</div></div><div class=\" cursor--pointer_3im text-muted_2v5 btn_V5i btn-link_1B8 btn-icon_30Z\"><svg height=\"24\" viewbox=\"0 0 24 24\" width=\"24\"><use xlink:href=\"#action-more\"></use></svg><span class=\" sr-only_3dg\">More</span></div></div><a href=\"/listings/nab-national-australia-bank-online/write-review\"><div class=\" cursor--pointer_3im text-left_1-r btn_V5i btn-link_1B8 btn-block_2PO\"><div class=\" trim-y_LxH\"><p>Similar opinion? Write a review on <strong>ProductReview.com.au</strong>!</p></div></div></a></div></div></div>\n"
          ],
          "name": "stdout"
        }
      ]
    },
    {
      "cell_type": "markdown",
      "metadata": {
        "id": "6ubmAb4haJIQ",
        "colab_type": "text"
      },
      "source": [
        "Now we need to iterate over the **all_reviews** object and process each element.  \n",
        "Identify the html elements corresponding to:\n",
        "\n",
        "*   Title\n",
        "*   Review text\n",
        "*   Date\n",
        "*   Star rating\n",
        "\n",
        "\n",
        "**Note:** Certain values are placed as 'attributes' of a html component. In such scenarios, you have to access the value using a different syntax (Observe the codes for accessing date and review rating)"
      ]
    },
    {
      "cell_type": "code",
      "metadata": {
        "id": "ZpisNTHFAcnz",
        "colab_type": "code",
        "colab": {
          "base_uri": "https://localhost:8080/",
          "height": 54
        },
        "outputId": "25dbfcab-5a8e-4d69-8060-05e8df1f5444"
      },
      "source": [
        "all_reviews[0].find('p', {\"class\": \"mb-0_2CX\"}).text"
      ],
      "execution_count": 15,
      "outputs": [
        {
          "output_type": "execute_result",
          "data": {
            "text/plain": [
              "'Do not bank with the NAB.  They make promises they can’t keep and then they don’t care. And then they tell you that they can’t advise you when the matter will be resolved. Go with another bank with good customer service!'"
            ]
          },
          "metadata": {
            "tags": []
          },
          "execution_count": 15
        }
      ]
    },
    {
      "cell_type": "code",
      "metadata": {
        "id": "qQwnhsHoW4Oy",
        "colab_type": "code",
        "colab": {}
      },
      "source": [
        "reviews = []\n",
        "\n",
        "for reviewBox in all_reviews:\n",
        "\n",
        "    # get review title\n",
        "    review_title = reviewBox.find('h3', {\"class\": \"mb-2_3ol\"}).text\n",
        "    \n",
        "    # get review\n",
        "    review_text = reviewBox.find('p', {\"class\": \"mb-0_2CX\"}).text\n",
        "    \n",
        "    # get date\n",
        "    # date is placed as an attribute of the html element. These are indicated by the word 'attr' in the html structure. You can access them as follows:\n",
        "    review_date = reviewBox.find('meta', {'itemprop': 'datePublished'})['content']\n",
        "\n",
        "    # get star rating\n",
        "    review_stars = reviewBox.find('meta', {'itemprop': 'ratingValue'})['content']\n",
        "    \n",
        "    # append the process review and the title to the reviews list\n",
        "    reviews.append([review_title, review_text, review_date, review_stars])"
      ],
      "execution_count": 0,
      "outputs": []
    },
    {
      "cell_type": "markdown",
      "metadata": {
        "id": "O5JH8rKkUvLk",
        "colab_type": "text"
      },
      "source": [
        "Explore the extracted reviews."
      ]
    },
    {
      "cell_type": "code",
      "metadata": {
        "id": "seDM1ycNUuml",
        "colab_type": "code",
        "colab": {
          "base_uri": "https://localhost:8080/",
          "height": 34
        },
        "outputId": "1e68bcd8-6312-4a13-c73e-0e698d5b56c3"
      },
      "source": [
        "len(reviews)"
      ],
      "execution_count": 17,
      "outputs": [
        {
          "output_type": "execute_result",
          "data": {
            "text/plain": [
              "20"
            ]
          },
          "metadata": {
            "tags": []
          },
          "execution_count": 17
        }
      ]
    },
    {
      "cell_type": "code",
      "metadata": {
        "id": "J6EQmXQkU3MH",
        "colab_type": "code",
        "colab": {}
      },
      "source": [
        "reviews"
      ],
      "execution_count": 0,
      "outputs": []
    },
    {
      "cell_type": "markdown",
      "metadata": {
        "id": "f8OolCEZapeY",
        "colab_type": "text"
      },
      "source": [
        "Compose a dataframe using the review data."
      ]
    },
    {
      "cell_type": "code",
      "metadata": {
        "id": "4VARACcEXRji",
        "colab_type": "code",
        "colab": {}
      },
      "source": [
        "output_column_names = ['title', 'review', 'date', 'stars']\n",
        "data = pd.DataFrame(reviews, columns=output_column_names)"
      ],
      "execution_count": 0,
      "outputs": []
    },
    {
      "cell_type": "markdown",
      "metadata": {
        "id": "Qe8Z-uPlvVJu",
        "colab_type": "text"
      },
      "source": [
        "Write the dataframe to a csv. The dataframe will be saved in Files tab."
      ]
    },
    {
      "cell_type": "code",
      "metadata": {
        "id": "LGqRFEjsvU_3",
        "colab_type": "code",
        "colab": {}
      },
      "source": [
        "data.to_csv('nab_reviews.csv', index=None)"
      ],
      "execution_count": 0,
      "outputs": []
    }
  ]
}