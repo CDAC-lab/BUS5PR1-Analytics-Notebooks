{
  "nbformat": 4,
  "nbformat_minor": 0,
  "metadata": {
    "colab": {
      "name": "Week 06 (1) Scraping Twitter data.ipynb",
      "provenance": [],
      "collapsed_sections": [],
      "toc_visible": true
    },
    "kernelspec": {
      "name": "python3",
      "display_name": "Python 3"
    }
  },
  "cells": [
    {
      "cell_type": "markdown",
      "metadata": {
        "id": "uFNwrV7QLrlh",
        "colab_type": "text"
      },
      "source": [
        "# **Scraping data from Twitter using Python package**\n",
        "\n",
        "This tutorial will follow through the process of scraping tweets from Twitter using Twint python library.  \n",
        "\n",
        "Twint is an advanced Twitter scraping tool written in Python that allows for scraping Tweets from Twitter profiles without using Twitter's API. Twint utilizes Twitter's search operators to let you scrape Tweets from specific users, scrape Tweets relating to certain topics, hashtags & trends.\n",
        "\n",
        "Twint documentation can be found from [this URL](https://github.com/twintproject/twint)."
      ]
    },
    {
      "cell_type": "markdown",
      "metadata": {
        "id": "StpJjsogVeBf",
        "colab_type": "text"
      },
      "source": [
        "## Install and Load Libraries"
      ]
    },
    {
      "cell_type": "markdown",
      "metadata": {
        "id": "RjqmeVAeRpOf",
        "colab_type": "text"
      },
      "source": [
        "**twint** package is not pre-installed in the Colab environment. Therefore run the following command to install it.  \n",
        "If you are working on your own Python environment, you can install twint using Anaconda interactive user interface or running *pip install twint* from your command prompt."
      ]
    },
    {
      "cell_type": "code",
      "metadata": {
        "id": "tilDnFIuLmuW",
        "colab_type": "code",
        "colab": {}
      },
      "source": [
        "!pip install -q twint"
      ],
      "execution_count": 0,
      "outputs": []
    },
    {
      "cell_type": "code",
      "metadata": {
        "id": "vyjO-aGjRvUn",
        "colab_type": "code",
        "colab": {}
      },
      "source": [
        "import twint"
      ],
      "execution_count": 0,
      "outputs": []
    },
    {
      "cell_type": "markdown",
      "metadata": {
        "id": "11eYw4aoWV6d",
        "colab_type": "text"
      },
      "source": [
        "## Design the scaping parameters"
      ]
    },
    {
      "cell_type": "markdown",
      "metadata": {
        "id": "oJJf66ZgMbCm",
        "colab_type": "text"
      },
      "source": [
        "Next you need to design which parameters you need to scrape. The parameters to be customised can be found from Twint API located in [this URL](https://github.com/twintproject/twint/wiki/Configuration).  \n",
        "\n",
        "For this exercise, we will scrape tweets with specific keywords and within a pre-given time period."
      ]
    },
    {
      "cell_type": "code",
      "metadata": {
        "id": "1UnCO28zXdce",
        "colab_type": "code",
        "colab": {}
      },
      "source": [
        "keyword = 'LaTrobeBusiness'"
      ],
      "execution_count": 0,
      "outputs": []
    },
    {
      "cell_type": "code",
      "metadata": {
        "id": "G1B4KTxlXdfN",
        "colab_type": "code",
        "colab": {}
      },
      "source": [
        "since_date = \"2020-03-01 00:00:00\"  # Should be '%Y-%m-%d %H:%M:%S' time format"
      ],
      "execution_count": 0,
      "outputs": []
    },
    {
      "cell_type": "markdown",
      "metadata": {
        "id": "Pb8bC4g7XnI8",
        "colab_type": "text"
      },
      "source": [
        "Set the parameters"
      ]
    },
    {
      "cell_type": "code",
      "metadata": {
        "id": "4tX8qTPPXdiI",
        "colab_type": "code",
        "colab": {}
      },
      "source": [
        "c = twint.Config()\n",
        "c.Search = keyword\n",
        "c.Since = since_date"
      ],
      "execution_count": 0,
      "outputs": []
    },
    {
      "cell_type": "markdown",
      "metadata": {
        "id": "znpZxw73cFPr",
        "colab_type": "text"
      },
      "source": [
        "Output parameters"
      ]
    },
    {
      "cell_type": "code",
      "metadata": {
        "id": "6eg2OLIxcD0T",
        "colab_type": "code",
        "colab": {}
      },
      "source": [
        "c.Location = True\n",
        "c.Lang = \"en\"\n",
        "c.Store_csv = True\n",
        "c.Output = keyword"
      ],
      "execution_count": 0,
      "outputs": []
    },
    {
      "cell_type": "markdown",
      "metadata": {
        "id": "PJcve_ANbZvw",
        "colab_type": "text"
      },
      "source": [
        "Format the output attributes.  \n",
        "Available parameters can be found from [this URL](https://github.com/twintproject/twint/wiki/Tweet-attributes)."
      ]
    },
    {
      "cell_type": "code",
      "metadata": {
        "id": "MaXDJgXtbYn4",
        "colab_type": "code",
        "colab": {}
      },
      "source": [
        "c.Format = \"Tweet id: {id} | Tweet: {tweet} | Likes: {likes_count} | Retweets: {retweets_count} | Date: {date} | Time: {time} | UserID: {user_id} | Username: {username} | Place: {place} | Geo: {geo}\""
      ],
      "execution_count": 0,
      "outputs": []
    },
    {
      "cell_type": "markdown",
      "metadata": {
        "id": "G2AAxKx7XzAu",
        "colab_type": "text"
      },
      "source": [
        "Here we will use exeption handling in order to warn us if there is an error. This is called python exception handling using try-catch block."
      ]
    },
    {
      "cell_type": "code",
      "metadata": {
        "id": "ryE6s7uGXq-o",
        "colab_type": "code",
        "colab": {}
      },
      "source": [
        "try:\n",
        "  # Start search\n",
        "  twint.run.Search(c)\n",
        "except:\n",
        "  print('Error in {}'.format(keyword))"
      ],
      "execution_count": 0,
      "outputs": []
    },
    {
      "cell_type": "markdown",
      "metadata": {
        "id": "9pgnAEiNVPkT",
        "colab_type": "text"
      },
      "source": [
        "The data will be saved in different folders based on the keywords in the **Files** tab.  \n",
        "To download, right click on tweets.csv file, and download."
      ]
    },
    {
      "cell_type": "markdown",
      "metadata": {
        "id": "R29fdD45eXgA",
        "colab_type": "text"
      },
      "source": [
        "### Keyword combinations\n",
        "\n",
        "You can search and scrape tweets using multiple keywords and combinations as documented in [this URL](https://github.com/twintproject/twint/issues/165#issuecomment-399747575)."
      ]
    },
    {
      "cell_type": "code",
      "metadata": {
        "colab_type": "code",
        "id": "J-t7kMz8e1OQ",
        "colab": {}
      },
      "source": [
        "keyword = 'latrobe covid19'\n",
        "since_date = \"2020-03-01 00:00:00\"  # Should be '%Y-%m-%d %H:%M:%S' time format\n",
        "c = twint.Config()\n",
        "c.Search = keyword\n",
        "c.Limit = 40  # (Increments of 20) e.g., If 23, it will scrape 40. If 12, it will scrape 20.\n",
        "c.Since = since_date\n",
        "c.Location = True\n",
        "c.Store_csv = True\n",
        "c.Output = keyword"
      ],
      "execution_count": 0,
      "outputs": []
    },
    {
      "cell_type": "code",
      "metadata": {
        "id": "qI6_JL-CfEzF",
        "colab_type": "code",
        "colab": {}
      },
      "source": [
        "try:\n",
        "  # Start search\n",
        "  twint.run.Search(c)\n",
        "except:\n",
        "  print('Error in {}'.format(keyword))"
      ],
      "execution_count": 0,
      "outputs": []
    },
    {
      "cell_type": "markdown",
      "metadata": {
        "id": "Noa8UV3hghu0",
        "colab_type": "text"
      },
      "source": [
        "### Multiple keywords\n",
        "\n",
        "We can loop to scape multiple keywords."
      ]
    },
    {
      "cell_type": "code",
      "metadata": {
        "id": "Gulilp79fE5d",
        "colab_type": "code",
        "colab": {}
      },
      "source": [
        "Keyword_list = ['LBS', 'data analytics latrobe']"
      ],
      "execution_count": 0,
      "outputs": []
    },
    {
      "cell_type": "code",
      "metadata": {
        "id": "WUp9HUflXAFh",
        "colab_type": "code",
        "colab": {}
      },
      "source": [
        "since_date = \"2020-03-01 00:00:00\"  # Should be '%Y-%m-%d %H:%M:%S' time format"
      ],
      "execution_count": 0,
      "outputs": []
    },
    {
      "cell_type": "code",
      "metadata": {
        "id": "sZjBvd-gNEja",
        "colab_type": "code",
        "colab": {}
      },
      "source": [
        "for key in Keyword_list:\n",
        "\n",
        "  print('Searching Tweets for {}'.format(key))\n",
        "\n",
        "  c = twint.Config()\n",
        "  c.Search = key\n",
        "  c.Limit = 40\n",
        "  c.Since = since_date\n",
        "  c.Location = True\n",
        "  c.Store_csv = True\n",
        "  c.Output = key\n",
        "\n",
        "  try:\n",
        "    # Start search\n",
        "    twint.run.Search(c)\n",
        "  except:\n",
        "    print('Error in {}'.format(key))\n",
        "  continue\n",
        "\n",
        "  print('\\n\\nCompleted {}\\n\\n'.format(key))"
      ],
      "execution_count": 0,
      "outputs": []
    }
  ]
}