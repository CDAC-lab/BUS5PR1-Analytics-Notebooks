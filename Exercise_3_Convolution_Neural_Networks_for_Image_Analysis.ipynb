{
  "nbformat": 4,
  "nbformat_minor": 0,
  "metadata": {
    "colab": {
      "name": "Exercise 3 - Convolution Neural Networks for Image Analysis",
      "provenance": [],
      "collapsed_sections": [],
      "toc_visible": true,
      "include_colab_link": true
    },
    "kernelspec": {
      "name": "python3",
      "display_name": "Python 3"
    },
    "accelerator": "GPU"
  },
  "cells": [
    {
      "cell_type": "markdown",
      "metadata": {
        "id": "view-in-github",
        "colab_type": "text"
      },
      "source": [
        "<a href=\"https://colab.research.google.com/github/CDAC-lab/BUS5PR1-Analytics-Notebooks/blob/master/Exercise_3_Convolution_Neural_Networks_for_Image_Analysis.ipynb\" target=\"_parent\"><img src=\"https://colab.research.google.com/assets/colab-badge.svg\" alt=\"Open In Colab\"/></a>"
      ]
    },
    {
      "cell_type": "markdown",
      "metadata": {
        "id": "DFUsJZSU-wJF"
      },
      "source": [
        "# Exercise 3 - Convolution Neural Networks for Image Analysis"
      ]
    },
    {
      "cell_type": "markdown",
      "metadata": {
        "id": "XusAABHD-58D"
      },
      "source": [
        "In this workshop we will usea CNN to classify images in the  [Fashion MNIST](https://github.com/zalandoresearch/fashion-mnist) dataset. \n",
        "\n",
        "We will classify the fashion products in Fashion MNIST  into 10 classes. The dataset contains 70,000 grayscale images, with resolution of 28x28 pixels.   \n",
        "We will use 60,000 images to train the classification CNN and 10,000 images to evaluate the accuracy of the network. "
      ]
    },
    {
      "cell_type": "markdown",
      "metadata": {
        "id": "NRZEWyM6_fb1"
      },
      "source": [
        "## Load the data"
      ]
    },
    {
      "cell_type": "markdown",
      "metadata": {
        "id": "3A9P3pEB_j13"
      },
      "source": [
        "Generally we have to download the dataset from a repository and upload to use in our application. However, Keras python library provides us access to directly load a limited number of benchmark datasets.   \n",
        "Thus, we can access and load the Fashion-MNIST dataset directly from Keras."
      ]
    },
    {
      "cell_type": "code",
      "metadata": {
        "id": "n7iIFLbF-Acy",
        "colab": {
          "base_uri": "https://localhost:8080/"
        },
        "outputId": "300cdfc2-7626-41e0-b986-a7f84ce2d4b0"
      },
      "source": [
        "# Load Tensorflow library\n",
        "%tensorflow_version 1.x\n",
        "from keras.datasets import fashion_mnist"
      ],
      "execution_count": 1,
      "outputs": [
        {
          "output_type": "stream",
          "text": [
            "TensorFlow 1.x selected.\n"
          ],
          "name": "stdout"
        },
        {
          "output_type": "stream",
          "text": [
            "Using TensorFlow backend.\n"
          ],
          "name": "stderr"
        }
      ]
    },
    {
      "cell_type": "markdown",
      "metadata": {
        "id": "-HWedSm3DPXh"
      },
      "source": [
        "The dataset is already setup as training and testing sets. (60K for training and 10K for testing)"
      ]
    },
    {
      "cell_type": "code",
      "metadata": {
        "id": "6migTJqA_yhW",
        "colab": {
          "base_uri": "https://localhost:8080/"
        },
        "outputId": "a9a5f35d-b9a6-446f-f972-3591a05d9ac7"
      },
      "source": [
        "(X_train, y_train), (X_test, y_test) = fashion_mnist.load_data()"
      ],
      "execution_count": 2,
      "outputs": [
        {
          "output_type": "stream",
          "text": [
            "Downloading data from http://fashion-mnist.s3-website.eu-central-1.amazonaws.com/train-labels-idx1-ubyte.gz\n",
            "32768/29515 [=================================] - 0s 3us/step\n",
            "Downloading data from http://fashion-mnist.s3-website.eu-central-1.amazonaws.com/train-images-idx3-ubyte.gz\n",
            "26427392/26421880 [==============================] - 1s 0us/step\n",
            "Downloading data from http://fashion-mnist.s3-website.eu-central-1.amazonaws.com/t10k-labels-idx1-ubyte.gz\n",
            "8192/5148 [===============================================] - 0s 0us/step\n",
            "Downloading data from http://fashion-mnist.s3-website.eu-central-1.amazonaws.com/t10k-images-idx3-ubyte.gz\n",
            "4423680/4422102 [==============================] - 1s 0us/step\n"
          ],
          "name": "stdout"
        }
      ]
    },
    {
      "cell_type": "code",
      "metadata": {
        "id": "rlpHxpHbAL9f",
        "colab": {
          "base_uri": "https://localhost:8080/"
        },
        "outputId": "9d77f4af-743a-479c-e833-f3b738ee20df"
      },
      "source": [
        "# View the dataset shape\n",
        "print('Train data shape:', X_train.shape)\n",
        "print('Test data shape:', X_test.shape)"
      ],
      "execution_count": 3,
      "outputs": [
        {
          "output_type": "stream",
          "text": [
            "Train data shape: (60000, 28, 28)\n",
            "Test data shape: (10000, 28, 28)\n"
          ],
          "name": "stdout"
        }
      ]
    },
    {
      "cell_type": "markdown",
      "metadata": {
        "id": "kIPjfH5RAXne"
      },
      "source": [
        "X_train contains 60,000 train images with a resolution of 28x28.  \n",
        "The *labels* are an array of integers, ranging from 0 to 9. These correspond to the *class* of clothing the image represents:\n",
        "\n",
        "<table>\n",
        "  <tr>\n",
        "    <th>Label</th>\n",
        "    <th>Class</th> \n",
        "  </tr>\n",
        "  <tr>\n",
        "    <td>0</td>\n",
        "    <td>T-shirt/top</td> \n",
        "  </tr>\n",
        "  <tr>\n",
        "    <td>1</td>\n",
        "    <td>Trouser</td> \n",
        "  </tr>\n",
        "    <tr>\n",
        "    <td>2</td>\n",
        "    <td>Pullover</td> \n",
        "  </tr>\n",
        "    <tr>\n",
        "    <td>3</td>\n",
        "    <td>Dress</td> \n",
        "  </tr>\n",
        "    <tr>\n",
        "    <td>4</td>\n",
        "    <td>Coat</td> \n",
        "  </tr>\n",
        "    <tr>\n",
        "    <td>5</td>\n",
        "    <td>Sandal</td> \n",
        "  </tr>\n",
        "    <tr>\n",
        "    <td>6</td>\n",
        "    <td>Shirt</td> \n",
        "  </tr>\n",
        "    <tr>\n",
        "    <td>7</td>\n",
        "    <td>Sneaker</td> \n",
        "  </tr>\n",
        "    <tr>\n",
        "    <td>8</td>\n",
        "    <td>Bag</td> \n",
        "  </tr>\n",
        "    <tr>\n",
        "    <td>9</td>\n",
        "    <td>Ankle boot</td> \n",
        "  </tr>\n",
        "</table>\n",
        "\n",
        "Each image is mapped to a single label. Since the *class names* are not included with the dataset, store them here to use later when plotting the images:"
      ]
    },
    {
      "cell_type": "code",
      "metadata": {
        "id": "oGMrPcgJAUnf"
      },
      "source": [
        "class_names = ['T-shirt/top', 'Trouser', 'Pullover', 'Dress', 'Coat', \n",
        "               'Sandal', 'Shirt', 'Sneaker', 'Bag', 'Ankle boot']"
      ],
      "execution_count": 4,
      "outputs": []
    },
    {
      "cell_type": "markdown",
      "metadata": {
        "id": "3TjH6DZ7Bj_b"
      },
      "source": [
        "## Explore and pre-process the data"
      ]
    },
    {
      "cell_type": "code",
      "metadata": {
        "id": "uVSDAnwnAlkD"
      },
      "source": [
        "# Load visualization library\n",
        "import matplotlib.pyplot as plt"
      ],
      "execution_count": 5,
      "outputs": []
    },
    {
      "cell_type": "markdown",
      "metadata": {
        "id": "cguV38FYDgSQ"
      },
      "source": [
        "We will plot an image from the dataset to get a feel for the data"
      ]
    },
    {
      "cell_type": "code",
      "metadata": {
        "id": "_jnlp88TBtTS",
        "colab": {
          "base_uri": "https://localhost:8080/",
          "height": 265
        },
        "outputId": "3723010c-d1f7-4ffc-a74a-2ec41fac3b78"
      },
      "source": [
        "image_index = 1\n",
        "plt.figure()\n",
        "plt.imshow(X_train[image_index])\n",
        "plt.colorbar()\n",
        "plt.grid(False)\n",
        "plt.show()"
      ],
      "execution_count": 6,
      "outputs": [
        {
          "output_type": "display_data",
          "data": {
            "image/png": "[encoded data removed]",
            "text/plain": [
              "<Figure size 432x288 with 2 Axes>"
            ]
          },
          "metadata": {
            "tags": [],
            "needs_background": "light"
          }
        }
      ]
    },
    {
      "cell_type": "markdown",
      "metadata": {
        "id": "rYGKlpKUCRcm"
      },
      "source": [
        "Display the first 25 images from the training set and display the class name below each image.   \n",
        "It is important to verify that the data is in the correct format before building the model."
      ]
    },
    {
      "cell_type": "code",
      "metadata": {
        "id": "brodZC5qBvNc",
        "colab": {
          "base_uri": "https://localhost:8080/",
          "height": 589
        },
        "outputId": "1350f304-a088-4b3a-cde0-14c86a89086d"
      },
      "source": [
        "plt.figure(figsize=(10,10))\n",
        "for i in range(25):\n",
        "    plt.subplot(5,5,i+1)\n",
        "    plt.xticks([])\n",
        "    plt.yticks([])\n",
        "    plt.grid(False)\n",
        "    plt.imshow(X_train[i], cmap=plt.cm.binary)\n",
        "    plt.xlabel(class_names[y_train[i]])\n",
        "plt.show()"
      ],
      "execution_count": 7,
      "outputs": [
        {
          "output_type": "display_data",
          "data": {
            "image/png": "[encoded data removed]",
            "text/plain": [
              "<Figure size 720x720 with 25 Axes>"
            ]
          },
          "metadata": {
            "tags": []
          }
        }
      ]
    },
    {
      "cell_type": "markdown",
      "metadata": {
        "id": "Yd-lPPNaCfDQ"
      },
      "source": [
        "A main step of image processing is to scale the data. With this step, we will be able observe  the range of data."
      ]
    },
    {
      "cell_type": "code",
      "metadata": {
        "id": "LPn5SFTjCeI7"
      },
      "source": [
        "# Import numpy library to process matrices\n",
        "import numpy as np"
      ],
      "execution_count": 8,
      "outputs": []
    },
    {
      "cell_type": "code",
      "metadata": {
        "id": "eZk_duGmB3XY",
        "colab": {
          "base_uri": "https://localhost:8080/"
        },
        "outputId": "720fdd9b-8070-411f-c6a4-76c71ad0c967"
      },
      "source": [
        "print('min:', np.min(X_train[image_index]))\n",
        "print('max:', np.max(X_train[image_index]))"
      ],
      "execution_count": 9,
      "outputs": [
        {
          "output_type": "stream",
          "text": [
            "min: 0\n",
            "max: 255\n"
          ],
          "name": "stdout"
        }
      ]
    },
    {
      "cell_type": "markdown",
      "metadata": {
        "id": "MURb0-JMDNjr"
      },
      "source": [
        "It is evident that the data ranges from 0-255.   \n",
        "We scale these values to a range of 0 to 1 before feeding to the neural network model.  \n",
        "For this, we divide the values by 255.   \n",
        "It's important that the training set and the testing set are preprocessed in the same way:"
      ]
    },
    {
      "cell_type": "code",
      "metadata": {
        "id": "gEnN_wVdDLaf"
      },
      "source": [
        "X_train = X_train / 255.0\n",
        "X_test = X_test / 255.0"
      ],
      "execution_count": 10,
      "outputs": []
    },
    {
      "cell_type": "markdown",
      "metadata": {
        "id": "p2U0u1n-L1j3"
      },
      "source": [
        "Prepare for CNN processing by reshaping the image into (# training/testing samples, height, width, 1)"
      ]
    },
    {
      "cell_type": "code",
      "metadata": {
        "id": "xXdZsPpcMCDD"
      },
      "source": [
        "height, width = 28, 28"
      ],
      "execution_count": 11,
      "outputs": []
    },
    {
      "cell_type": "code",
      "metadata": {
        "id": "rrAKyhukL9Bi"
      },
      "source": [
        "X_train = X_train.reshape(X_train.shape[0], height, width, 1)\n",
        "X_test = X_test.reshape(X_test.shape[0], height, width, 1)"
      ],
      "execution_count": 12,
      "outputs": []
    },
    {
      "cell_type": "markdown",
      "metadata": {
        "id": "ClwHrfPUCwQt"
      },
      "source": [
        "## Enable GPU\n",
        "\n",
        "CPUs are designed for more general computing workloads.  GPUs in contrast are less flexible, however GPUs are designed for parallel  computations. Deep Neural Networks (DNN) are structured in a very uniform manner such that at each layer of the network thousands of identical artificial neurons perform the same computation.   Therefore the structure of a DNN fits quite well with the kinds of computation that a GPU can efficiently perform.\n",
        "\n",
        "To enable GPU in Google Colab, \n",
        "\n",
        "\n",
        "1. Click on Runtime menu on the toolbar\n",
        "2. Select change runtime type\n",
        "3. Select GPU for Hardware Acceleration option list.\n",
        "4. Select SAVE.\n",
        "\n"
      ]
    },
    {
      "cell_type": "markdown",
      "metadata": {
        "id": "IyLSG4IyDtbX"
      },
      "source": [
        "## Model Building"
      ]
    },
    {
      "cell_type": "markdown",
      "metadata": {
        "id": "HdCD6-1NDwsq"
      },
      "source": [
        "In this workshop, we will develop 3 deep learning models with increasing complexity to evaluate the classification accuracy.  \n",
        "\n",
        "\n",
        "1.   3 Layer DNN\n",
        "2.   1 Layer CNN\n",
        "3.   3 Layer CNN"
      ]
    },
    {
      "cell_type": "markdown",
      "metadata": {
        "id": "hGno2vDBEvnp"
      },
      "source": [
        "### 3-DNN Model"
      ]
    },
    {
      "cell_type": "markdown",
      "metadata": {
        "id": "-7TX5AmwFIc8"
      },
      "source": [
        "In this DNN model, we flatten the 28x28 image into a 784 input feature vector.  \n",
        "It should be noted that with flattening we will face the inherent problems discussed in the class (i.e., scale, rotation, location, high-demensionality)"
      ]
    },
    {
      "cell_type": "code",
      "metadata": {
        "id": "ud-2924qDfqP"
      },
      "source": [
        "# Import Keras libraries\n",
        "from keras.models import Sequential\n",
        "from keras.layers import Dense, Flatten"
      ],
      "execution_count": 13,
      "outputs": []
    },
    {
      "cell_type": "code",
      "metadata": {
        "id": "ZoTnr8D9E7oQ"
      },
      "source": [
        "dnn3_model = Sequential()"
      ],
      "execution_count": 14,
      "outputs": []
    },
    {
      "cell_type": "code",
      "metadata": {
        "id": "v0_5zNC3FAwx"
      },
      "source": [
        "dnn3_model.add(Flatten(input_shape=(width, height, 1)))  # Add Keras Flatten layer to conver (28x28) image -> 784 feature vector"
      ],
      "execution_count": 15,
      "outputs": []
    },
    {
      "cell_type": "code",
      "metadata": {
        "id": "kKztFDk1FvBs",
        "colab": {
          "base_uri": "https://localhost:8080/"
        },
        "outputId": "4022c4cf-5086-4c17-a09e-a6c2ea0323d7"
      },
      "source": [
        "dnn3_model.add(Dense(128, activation='relu')) \n",
        "dnn3_model.add(Dense(64, activation='relu')) \n",
        "dnn3_model.add(Dense(10, activation='softmax'))  # In the final layer we use softmax activation to classify the input into 10 classes."
      ],
      "execution_count": 16,
      "outputs": [
        {
          "output_type": "stream",
          "text": [
            "WARNING:tensorflow:From /tensorflow-1.15.2/python3.7/tensorflow_core/python/ops/resource_variable_ops.py:1630: calling BaseResourceVariable.__init__ (from tensorflow.python.ops.resource_variable_ops) with constraint is deprecated and will be removed in a future version.\n",
            "Instructions for updating:\n",
            "If using Keras pass *_constraint arguments to layers.\n"
          ],
          "name": "stdout"
        }
      ]
    },
    {
      "cell_type": "markdown",
      "metadata": {
        "id": "vYJr_sT2GRsk"
      },
      "source": [
        "Softmax is an activation function that turns logits into probabilities that sum to one. E.g.,\n",
        "\n",
        "---\n",
        "\n",
        "\n",
        " \n",
        "![alt text](https://cdn-images-1.medium.com/max/906/1*670CdxchunD-yAuUWdI7Bw.png)\n",
        "\n",
        "For a complete understanding of available activation functions, please refer the following resources:  \n",
        "\n",
        "\n",
        "1.   [ML Cheatsheat](https://ml-cheatsheet.readthedocs.io/en/latest/activation_functions.html)\n",
        "2.   [Towards data science](https://towardsdatascience.com/activation-functions-neural-networks-1cbd9f8d91d6)\n",
        "\n",
        "\n"
      ]
    },
    {
      "cell_type": "markdown",
      "metadata": {
        "id": "l0gwey-RIE-r"
      },
      "source": [
        "**Compiling the model**\n",
        "\n",
        "Before the model is ready for training, it needs a few more settings. These are added during the model's compile step:  \n",
        "\n",
        "* Loss function —This measures how accurate the model is during training. We want to minimize this function to \"steer\" the model in the right direction. [Further details](https://keras.io/losses/) \n",
        "* Optimizer —This is how the model is updated based on the data it sees and its loss function. [Further details.](https://keras.io/optimizers/)\n",
        "* Metrics —Used to monitor the training and testing steps. The following example uses accuracy, the fraction of the images that are correctly classified. [Further details.](https://keras.io/metrics/) "
      ]
    },
    {
      "cell_type": "code",
      "metadata": {
        "id": "hAzocclQGQWI"
      },
      "source": [
        "dnn3_model.compile(optimizer='adam', \n",
        "              loss='sparse_categorical_crossentropy',\n",
        "              metrics=['accuracy'])"
      ],
      "execution_count": 17,
      "outputs": []
    },
    {
      "cell_type": "markdown",
      "metadata": {
        "id": "pfXpA1jNEjvg"
      },
      "source": [
        "Initially, we will train the model with 10 learning epochs. Based on the learning curve, visualized below, you could update this hyper-parameter to best fit the training data."
      ]
    },
    {
      "cell_type": "code",
      "metadata": {
        "id": "NYNDvwNrIWRO",
        "colab": {
          "base_uri": "https://localhost:8080/"
        },
        "outputId": "593bca8f-e3e7-4a76-e985-816a007d19cf"
      },
      "source": [
        "# Train the model\n",
        "epochs = 10\n",
        "batch_size = 32\n",
        "validation_split = 0.1\n",
        "history = dnn3_model.fit(X_train, y_train, epochs=epochs, batch_size=batch_size, validation_split = validation_split)"
      ],
      "execution_count": 18,
      "outputs": [
        {
          "output_type": "stream",
          "text": [
            "WARNING:tensorflow:From /tensorflow-1.15.2/python3.7/keras/backend/tensorflow_backend.py:422: The name tf.global_variables is deprecated. Please use tf.compat.v1.global_variables instead.\n",
            "\n",
            "Train on 54000 samples, validate on 6000 samples\n",
            "Epoch 1/10\n",
            "54000/54000 [==============================] - 6s 113us/step - loss: 0.4977 - accuracy: 0.8220 - val_loss: 0.4144 - val_accuracy: 0.8423\n",
            "Epoch 2/10\n",
            "54000/54000 [==============================] - 4s 80us/step - loss: 0.3731 - accuracy: 0.8639 - val_loss: 0.3430 - val_accuracy: 0.8735\n",
            "Epoch 3/10\n",
            "54000/54000 [==============================] - 4s 82us/step - loss: 0.3382 - accuracy: 0.8755 - val_loss: 0.3513 - val_accuracy: 0.8715\n",
            "Epoch 4/10\n",
            "54000/54000 [==============================] - 4s 80us/step - loss: 0.3133 - accuracy: 0.8839 - val_loss: 0.3655 - val_accuracy: 0.8698\n",
            "Epoch 5/10\n",
            "54000/54000 [==============================] - 4s 81us/step - loss: 0.2977 - accuracy: 0.8901 - val_loss: 0.3496 - val_accuracy: 0.8748\n",
            "Epoch 6/10\n",
            "54000/54000 [==============================] - 4s 81us/step - loss: 0.2798 - accuracy: 0.8964 - val_loss: 0.3401 - val_accuracy: 0.8757\n",
            "Epoch 7/10\n",
            "54000/54000 [==============================] - 4s 82us/step - loss: 0.2702 - accuracy: 0.8999 - val_loss: 0.3232 - val_accuracy: 0.8810\n",
            "Epoch 8/10\n",
            "54000/54000 [==============================] - 4s 80us/step - loss: 0.2575 - accuracy: 0.9047 - val_loss: 0.3541 - val_accuracy: 0.8817\n",
            "Epoch 9/10\n",
            "54000/54000 [==============================] - 4s 80us/step - loss: 0.2493 - accuracy: 0.9064 - val_loss: 0.3303 - val_accuracy: 0.8808\n",
            "Epoch 10/10\n",
            "54000/54000 [==============================] - 4s 80us/step - loss: 0.2402 - accuracy: 0.9102 - val_loss: 0.3261 - val_accuracy: 0.8835\n"
          ],
          "name": "stdout"
        }
      ]
    },
    {
      "cell_type": "code",
      "metadata": {
        "id": "I2huim_yJjO3",
        "colab": {
          "base_uri": "https://localhost:8080/",
          "height": 295
        },
        "outputId": "88c7163d-bdf9-4dc8-fcf7-124f365baeba"
      },
      "source": [
        "# Visualize the training curve\n",
        "plt.plot(history.history['loss'])\n",
        "plt.plot(history.history['val_loss'])\n",
        "plt.title('model loss')\n",
        "plt.ylabel('loss')\n",
        "plt.xlabel('epoch')\n",
        "plt.legend(['train', 'validation'], loc='upper right')\n",
        "plt.show()"
      ],
      "execution_count": 19,
      "outputs": [
        {
          "output_type": "display_data",
          "data": {
            "image/png": "[encoded data removed]",
            "text/plain": [
              "<Figure size 432x288 with 1 Axes>"
            ]
          },
          "metadata": {
            "tags": [],
            "needs_background": "light"
          }
        }
      ]
    },
    {
      "cell_type": "code",
      "metadata": {
        "id": "NeftI0WOJDcm",
        "colab": {
          "base_uri": "https://localhost:8080/",
          "height": 295
        },
        "outputId": "85fb07cf-b685-406e-bd6d-3c9daae7abfe"
      },
      "source": [
        "# Visualize accuracy (mean squared error)\n",
        "plt.plot(history.history['accuracy'])\n",
        "plt.plot(history.history['val_accuracy'])\n",
        "plt.title('model accuracy')\n",
        "plt.ylabel('accuracy')\n",
        "plt.xlabel('epoch')\n",
        "plt.legend(['train', 'validation'], loc='upper right')\n",
        "plt.show()"
      ],
      "execution_count": 20,
      "outputs": [
        {
          "output_type": "display_data",
          "data": {
            "image/png": "[encoded data removed]",
            "text/plain": [
              "<Figure size 432x288 with 1 Axes>"
            ]
          },
          "metadata": {
            "tags": [],
            "needs_background": "light"
          }
        }
      ]
    },
    {
      "cell_type": "code",
      "metadata": {
        "id": "8NhftIe4J1Ya",
        "colab": {
          "base_uri": "https://localhost:8080/"
        },
        "outputId": "e78561ee-89db-4bdb-f92c-38578279a6c5"
      },
      "source": [
        "test_loss, test_acc = dnn3_model.evaluate(X_test, y_test)\n",
        "print('Test accuracy:', test_acc)"
      ],
      "execution_count": 21,
      "outputs": [
        {
          "output_type": "stream",
          "text": [
            "10000/10000 [==============================] - 0s 43us/step\n",
            "Test accuracy: 0.8774999976158142\n"
          ],
          "name": "stdout"
        }
      ]
    },
    {
      "cell_type": "markdown",
      "metadata": {
        "id": "NAOA4U3yKvw8"
      },
      "source": [
        "### 1-CNN"
      ]
    },
    {
      "cell_type": "markdown",
      "metadata": {
        "id": "7ikjZvn-LLv4"
      },
      "source": [
        "As discussed in the lecture, CNN is specifically designed to process two-dimensional data spaces (focusing on image data).  \n",
        "First, we will design a single layer CNN. This will include one convolutional layer, one max pooling layer and two fully connected layers."
      ]
    },
    {
      "cell_type": "code",
      "metadata": {
        "id": "pxLaLrbeKxWX"
      },
      "source": [
        "# Import required libraries\n",
        "from keras.models import Sequential\n",
        "from keras.layers import Dense, Flatten, Conv2D, MaxPooling2D"
      ],
      "execution_count": 22,
      "outputs": []
    },
    {
      "cell_type": "code",
      "metadata": {
        "id": "Mim4gnhxMmzF"
      },
      "source": [
        "# Set input shape\n",
        "input_shape = (width, height, 1)"
      ],
      "execution_count": 23,
      "outputs": []
    },
    {
      "cell_type": "markdown",
      "metadata": {
        "id": "VpdMjo2nZGfU"
      },
      "source": [
        "Construct the CNN model."
      ]
    },
    {
      "cell_type": "code",
      "metadata": {
        "id": "9KIAwoYwLdmD"
      },
      "source": [
        "cnn1_model = Sequential()"
      ],
      "execution_count": 24,
      "outputs": []
    },
    {
      "cell_type": "markdown",
      "metadata": {
        "id": "62awqnJ5ZKHE"
      },
      "source": [
        "Here we will use 3x3 filters (or kernals) to learn."
      ]
    },
    {
      "cell_type": "code",
      "metadata": {
        "id": "lxUzzQMtLj5A",
        "colab": {
          "base_uri": "https://localhost:8080/"
        },
        "outputId": "962e0453-4227-434d-ab28-49772d4ce579"
      },
      "source": [
        "cnn1_model.add(Conv2D(32, kernel_size=(3, 3), activation='relu', input_shape=input_shape))   # We will use 32 of 3x3 kernals to learn\n",
        "cnn1_model.add(MaxPooling2D(pool_size=(2, 2)))   # We use 2x2 max pooling"
      ],
      "execution_count": 25,
      "outputs": [
        {
          "output_type": "stream",
          "text": [
            "WARNING:tensorflow:From /tensorflow-1.15.2/python3.7/keras/backend/tensorflow_backend.py:4070: The name tf.nn.max_pool is deprecated. Please use tf.nn.max_pool2d instead.\n",
            "\n"
          ],
          "name": "stdout"
        }
      ]
    },
    {
      "cell_type": "markdown",
      "metadata": {
        "id": "XtQM_8QDZRRM"
      },
      "source": [
        "Flattent the previous output before sending to fully connected layers."
      ]
    },
    {
      "cell_type": "code",
      "metadata": {
        "id": "HKyeW1uZMz7w"
      },
      "source": [
        "cnn1_model.add(Flatten())"
      ],
      "execution_count": 26,
      "outputs": []
    },
    {
      "cell_type": "markdown",
      "metadata": {
        "id": "7wgKQuLgZhq7"
      },
      "source": [
        "We will use one fully connected (FC) layer with 128 nodes."
      ]
    },
    {
      "cell_type": "code",
      "metadata": {
        "id": "Tgert5CQM-BE"
      },
      "source": [
        "cnn1_model.add(Dense(64, activation='relu'))\n",
        "cnn1_model.add(Dense(10, activation='softmax'))"
      ],
      "execution_count": 27,
      "outputs": []
    },
    {
      "cell_type": "code",
      "metadata": {
        "id": "Tj7fxj6VNA9R"
      },
      "source": [
        "# Compile the model\n",
        "cnn1_model.compile(optimizer='adam', \n",
        "              loss='sparse_categorical_crossentropy',\n",
        "              metrics=['accuracy'])"
      ],
      "execution_count": 28,
      "outputs": []
    },
    {
      "cell_type": "markdown",
      "metadata": {
        "id": "TMy-8xdfZo2U"
      },
      "source": [
        "As before, initially we will train the model for 10 epochs to evaluate the performance.  \n",
        "Then, based on the accuracy/learning curve we will refine the hyper-parameters."
      ]
    },
    {
      "cell_type": "code",
      "metadata": {
        "id": "4RkPsb3rNIxG",
        "colab": {
          "base_uri": "https://localhost:8080/"
        },
        "outputId": "b0b4d657-62b2-430b-d38a-88b3fb7abc94"
      },
      "source": [
        "# Train the model\n",
        "epochs = 10\n",
        "batch_size = 32\n",
        "validation_split = 0.1\n",
        "history_1 = cnn1_model.fit(X_train, y_train, epochs=epochs, batch_size=batch_size, validation_split = validation_split)"
      ],
      "execution_count": 29,
      "outputs": [
        {
          "output_type": "stream",
          "text": [
            "Train on 54000 samples, validate on 6000 samples\n",
            "Epoch 1/10\n",
            "54000/54000 [==============================] - 10s 193us/step - loss: 0.4265 - accuracy: 0.8515 - val_loss: 0.3345 - val_accuracy: 0.8820\n",
            "Epoch 2/10\n",
            "54000/54000 [==============================] - 5s 96us/step - loss: 0.2964 - accuracy: 0.8953 - val_loss: 0.3022 - val_accuracy: 0.8875\n",
            "Epoch 3/10\n",
            "54000/54000 [==============================] - 5s 96us/step - loss: 0.2522 - accuracy: 0.9089 - val_loss: 0.2651 - val_accuracy: 0.9018\n",
            "Epoch 4/10\n",
            "54000/54000 [==============================] - 5s 97us/step - loss: 0.2208 - accuracy: 0.9190 - val_loss: 0.2523 - val_accuracy: 0.9073\n",
            "Epoch 5/10\n",
            "54000/54000 [==============================] - 5s 95us/step - loss: 0.1964 - accuracy: 0.9282 - val_loss: 0.2578 - val_accuracy: 0.9085\n",
            "Epoch 6/10\n",
            "54000/54000 [==============================] - 5s 96us/step - loss: 0.1756 - accuracy: 0.9356 - val_loss: 0.2612 - val_accuracy: 0.9075\n",
            "Epoch 7/10\n",
            "54000/54000 [==============================] - 5s 95us/step - loss: 0.1567 - accuracy: 0.9424 - val_loss: 0.2588 - val_accuracy: 0.9118\n",
            "Epoch 8/10\n",
            "54000/54000 [==============================] - 5s 96us/step - loss: 0.1406 - accuracy: 0.9486 - val_loss: 0.2606 - val_accuracy: 0.9135\n",
            "Epoch 9/10\n",
            "54000/54000 [==============================] - 5s 95us/step - loss: 0.1241 - accuracy: 0.9549 - val_loss: 0.2901 - val_accuracy: 0.9103\n",
            "Epoch 10/10\n",
            "54000/54000 [==============================] - 5s 99us/step - loss: 0.1099 - accuracy: 0.9602 - val_loss: 0.2906 - val_accuracy: 0.9122\n"
          ],
          "name": "stdout"
        }
      ]
    },
    {
      "cell_type": "code",
      "metadata": {
        "id": "XKxLPmfENX5w",
        "colab": {
          "base_uri": "https://localhost:8080/"
        },
        "outputId": "501c0528-7bab-45c0-d2aa-d923624f8ee0"
      },
      "source": [
        "cnn1_score = cnn1_model.evaluate(X_test, y_test)\n",
        "print('Test loss:', cnn1_score[0])\n",
        "print('Test accuracy:', cnn1_score[1])"
      ],
      "execution_count": 30,
      "outputs": [
        {
          "output_type": "stream",
          "text": [
            "10000/10000 [==============================] - 0s 49us/step\n",
            "Test loss: 0.3076860413849354\n",
            "Test accuracy: 0.9086999893188477\n"
          ],
          "name": "stdout"
        }
      ]
    },
    {
      "cell_type": "code",
      "metadata": {
        "id": "yj0trFTsNljB",
        "colab": {
          "base_uri": "https://localhost:8080/",
          "height": 295
        },
        "outputId": "d8909b4f-7a4b-442c-c3e2-cc96a3b3005f"
      },
      "source": [
        "# Visualize the training curve\n",
        "plt.plot(history_1.history['loss'])\n",
        "plt.plot(history_1.history['val_loss'])\n",
        "plt.title('model loss')\n",
        "plt.ylabel('loss')\n",
        "plt.xlabel('epoch')\n",
        "plt.legend(['train', 'validation'], loc='upper right')\n",
        "plt.show()"
      ],
      "execution_count": 31,
      "outputs": [
        {
          "output_type": "display_data",
          "data": {
            "image/png": "[encoded data removed]",
            "text/plain": [
              "<Figure size 432x288 with 1 Axes>"
            ]
          },
          "metadata": {
            "tags": [],
            "needs_background": "light"
          }
        }
      ]
    },
    {
      "cell_type": "markdown",
      "metadata": {
        "id": "yR-gHsmLnzZH"
      },
      "source": [
        "By analyzing the learning curve, you should be able to identify whether training the model longer would provide better results."
      ]
    },
    {
      "cell_type": "markdown",
      "metadata": {
        "id": "KfgXh5cgj7NH"
      },
      "source": [
        "### 3-CNN"
      ]
    },
    {
      "cell_type": "markdown",
      "metadata": {
        "id": "HXKbUov0j7NM"
      },
      "source": [
        "In this step, we will design a complex three layer CNN intending an improvement in the accuracy."
      ]
    },
    {
      "cell_type": "code",
      "metadata": {
        "id": "tubeQl30j7NQ"
      },
      "source": [
        "# Import required libraries\n",
        "from keras.models import Sequential\n",
        "from keras.layers import Dense, Flatten, Conv2D, MaxPooling2D"
      ],
      "execution_count": 32,
      "outputs": []
    },
    {
      "cell_type": "code",
      "metadata": {
        "id": "YKRi5t1Lj7Nb"
      },
      "source": [
        "# Set input shape\n",
        "input_shape = (width, height, 1)"
      ],
      "execution_count": 33,
      "outputs": []
    },
    {
      "cell_type": "code",
      "metadata": {
        "id": "Uk433vWAj7Ng"
      },
      "source": [
        "cnn3_model = Sequential()"
      ],
      "execution_count": 34,
      "outputs": []
    },
    {
      "cell_type": "code",
      "metadata": {
        "id": "msnxlKZoj7Nk"
      },
      "source": [
        "# CNN Layer 1\n",
        "cnn3_model.add(Conv2D(32, kernel_size=(3, 3), activation='relu', input_shape=input_shape))\n",
        "cnn3_model.add(MaxPooling2D((2, 2)))\n",
        "\n",
        "# CNN Layer 2\n",
        "cnn3_model.add(Conv2D(64, kernel_size=(3, 3), activation='relu'))\n",
        "cnn3_model.add(MaxPooling2D(pool_size=(2, 2)))\n",
        "\n",
        "# CNN Layer 3\n",
        "cnn3_model.add(Conv2D(128, kernel_size=(3, 3), activation='relu'))"
      ],
      "execution_count": 35,
      "outputs": []
    },
    {
      "cell_type": "code",
      "metadata": {
        "id": "vTvTcnfOj7No"
      },
      "source": [
        "cnn3_model.add(Flatten())  # Flatten the previous output before sending to fully connected layers"
      ],
      "execution_count": 36,
      "outputs": []
    },
    {
      "cell_type": "code",
      "metadata": {
        "id": "iLdtzybmj7Nr"
      },
      "source": [
        "cnn3_model.add(Dense(128, activation='relu'))\n",
        "cnn3_model.add(Dense(10, activation='softmax'))"
      ],
      "execution_count": 37,
      "outputs": []
    },
    {
      "cell_type": "code",
      "metadata": {
        "id": "zcuHfQn5j7Nv"
      },
      "source": [
        "# Compile the model\n",
        "cnn3_model.compile(optimizer='adam', \n",
        "              loss='sparse_categorical_crossentropy',\n",
        "              metrics=['accuracy'])"
      ],
      "execution_count": 38,
      "outputs": []
    },
    {
      "cell_type": "code",
      "metadata": {
        "id": "ROuuFRIvj7N0",
        "colab": {
          "base_uri": "https://localhost:8080/"
        },
        "outputId": "6652957b-3db8-4e95-8421-2f248e2695cd"
      },
      "source": [
        "# Train the model\n",
        "epochs = 10\n",
        "batch_size = 32\n",
        "validation_split = 0.1\n",
        "history_3 = cnn3_model.fit(X_train, y_train, epochs=epochs, batch_size=batch_size, validation_split = validation_split)"
      ],
      "execution_count": 39,
      "outputs": [
        {
          "output_type": "stream",
          "text": [
            "Train on 54000 samples, validate on 6000 samples\n",
            "Epoch 1/10\n",
            "54000/54000 [==============================] - 7s 129us/step - loss: 0.4761 - accuracy: 0.8250 - val_loss: 0.3294 - val_accuracy: 0.8783\n",
            "Epoch 2/10\n",
            "54000/54000 [==============================] - 6s 120us/step - loss: 0.3062 - accuracy: 0.8881 - val_loss: 0.2843 - val_accuracy: 0.8972\n",
            "Epoch 3/10\n",
            "54000/54000 [==============================] - 7s 121us/step - loss: 0.2602 - accuracy: 0.9045 - val_loss: 0.2660 - val_accuracy: 0.9035\n",
            "Epoch 4/10\n",
            "54000/54000 [==============================] - 7s 122us/step - loss: 0.2286 - accuracy: 0.9152 - val_loss: 0.2556 - val_accuracy: 0.9035\n",
            "Epoch 5/10\n",
            "54000/54000 [==============================] - 7s 121us/step - loss: 0.2034 - accuracy: 0.9245 - val_loss: 0.2641 - val_accuracy: 0.9103\n",
            "Epoch 6/10\n",
            "54000/54000 [==============================] - 6s 120us/step - loss: 0.1804 - accuracy: 0.9331 - val_loss: 0.2562 - val_accuracy: 0.9105\n",
            "Epoch 7/10\n",
            "54000/54000 [==============================] - 7s 121us/step - loss: 0.1600 - accuracy: 0.9388 - val_loss: 0.2824 - val_accuracy: 0.9052\n",
            "Epoch 8/10\n",
            "54000/54000 [==============================] - 6s 120us/step - loss: 0.1430 - accuracy: 0.9455 - val_loss: 0.2618 - val_accuracy: 0.9088\n",
            "Epoch 9/10\n",
            "54000/54000 [==============================] - 7s 121us/step - loss: 0.1257 - accuracy: 0.9519 - val_loss: 0.2744 - val_accuracy: 0.9085\n",
            "Epoch 10/10\n",
            "54000/54000 [==============================] - 7s 121us/step - loss: 0.1099 - accuracy: 0.9583 - val_loss: 0.2850 - val_accuracy: 0.9145\n"
          ],
          "name": "stdout"
        }
      ]
    },
    {
      "cell_type": "code",
      "metadata": {
        "id": "_C_rWaxUj7N5",
        "colab": {
          "base_uri": "https://localhost:8080/"
        },
        "outputId": "855bfe03-31b4-458a-ce9c-75a864653b89"
      },
      "source": [
        "cnn3_score = cnn3_model.evaluate(X_test, y_test)\n",
        "print('Test loss:', cnn3_score[0])\n",
        "print('Test accuracy:', cnn3_score[1])"
      ],
      "execution_count": 40,
      "outputs": [
        {
          "output_type": "stream",
          "text": [
            "10000/10000 [==============================] - 1s 53us/step\n",
            "Test loss: 0.2923012498781085\n",
            "Test accuracy: 0.9093999862670898\n"
          ],
          "name": "stdout"
        }
      ]
    },
    {
      "cell_type": "code",
      "metadata": {
        "id": "RUeiwKS7oEez",
        "colab": {
          "base_uri": "https://localhost:8080/",
          "height": 295
        },
        "outputId": "b22a451b-d22f-479a-ba7b-b6203c804fa3"
      },
      "source": [
        "# Visualize the training curve\n",
        "plt.plot(history_3.history['loss'])\n",
        "plt.plot(history_3.history['val_loss'])\n",
        "plt.title('model loss')\n",
        "plt.ylabel('loss')\n",
        "plt.xlabel('epoch')\n",
        "plt.legend(['train', 'validation'], loc='upper right')\n",
        "plt.show()"
      ],
      "execution_count": 41,
      "outputs": [
        {
          "output_type": "display_data",
          "data": {
            "image/png": "[encoded data removed]",
            "text/plain": [
              "<Figure size 432x288 with 1 Axes>"
            ]
          },
          "metadata": {
            "tags": [],
            "needs_background": "light"
          }
        }
      ]
    },
    {
      "cell_type": "markdown",
      "metadata": {
        "id": "hvzA59d2o9CT"
      },
      "source": [
        "Based on the leanring curve, it seems after first epoch the model starts to overfit.  \n",
        "In such scenarios, **dropout** is used to mitigate the effect of overfitting. "
      ]
    },
    {
      "cell_type": "markdown",
      "metadata": {
        "id": "FRUZXaROpRza"
      },
      "source": [
        "### 3-CNN with Dropout"
      ]
    },
    {
      "cell_type": "markdown",
      "metadata": {
        "id": "uH-eSJlMpVZZ"
      },
      "source": [
        "Dropout aims to solve the significant challenge of overfitting. It is one of the biggest advancements in deep learning proposed in recent years.\n",
        "\n",
        "The idea is very simple though, it is to randomly drop units in a deep neural network.\n",
        "\n",
        "Learning the relationship between the inputs and the outputs of a dataset is a very complicated procedure. If you have a very small dataset, the relationship maybe a result of noise in the input sample.\n",
        "\n",
        "Dropout refers to randomly and temporary removing a unit, either in a hidden or a visible layer, and all of its incoming and outgoing connections.\n",
        "\n",
        "Further reading on dropout: \n",
        "\n",
        "\n",
        "*   [Machine Learning Mastery](https://machinelearningmastery.com/dropout-for-regularizing-deep-neural-networks/)\n",
        "*   [Marko Jerkic](https://markojerkic.com/what-is-dropout-deep-learning/)\n",
        "\n",
        "![alt text](https://i1.wp.com/cdn-images-1.medium.com/max/800/1*iWQzxhVlvadk6VAJjsgXgg.png?resize=800%2C398&ssl=1)\n",
        "\n"
      ]
    },
    {
      "cell_type": "markdown",
      "metadata": {
        "id": "901wJ7o3p9qF"
      },
      "source": [
        "Let's now attempt the same 3-CNN model with **dropout**."
      ]
    },
    {
      "cell_type": "code",
      "metadata": {
        "id": "SZcyXqU8qfqK"
      },
      "source": [
        "# Load dropout from keras library\n",
        "from keras.layers import Dropout"
      ],
      "execution_count": 42,
      "outputs": []
    },
    {
      "cell_type": "code",
      "metadata": {
        "id": "cNxRpV75oqtR"
      },
      "source": [
        "# Updated model layers\n",
        "cnn3_dp_model = Sequential()"
      ],
      "execution_count": 43,
      "outputs": []
    },
    {
      "cell_type": "markdown",
      "metadata": {
        "id": "3_VjK_zla_39"
      },
      "source": [
        "Now in each layer, we will add a dropout. The dropout rate is a hyper-parameter we could select based on our model requirements."
      ]
    },
    {
      "cell_type": "code",
      "metadata": {
        "id": "6IdzgRgBqOJD"
      },
      "source": [
        "# CNN Layer 1\n",
        "cnn3_dp_model.add(Conv2D(32, kernel_size=(3, 3), activation='relu', input_shape=input_shape))\n",
        "cnn3_dp_model.add(MaxPooling2D((2, 2)))\n",
        "cnn3_dp_model.add(Dropout(0.3))\n",
        "\n",
        "# CNN Layer 2\n",
        "cnn3_dp_model.add(Conv2D(64, kernel_size=(3, 3), activation='relu'))\n",
        "cnn3_dp_model.add(MaxPooling2D(pool_size=(2, 2)))\n",
        "cnn3_dp_model.add(Dropout(0.3))\n",
        "\n",
        "# CNN Layer 3\n",
        "cnn3_dp_model.add(Conv2D(128, kernel_size=(3, 3), activation='relu'))\n",
        "cnn3_dp_model.add(Dropout(0.3))"
      ],
      "execution_count": 44,
      "outputs": []
    },
    {
      "cell_type": "code",
      "metadata": {
        "id": "H_ce3upTqOJH"
      },
      "source": [
        "cnn3_dp_model.add(Flatten())  # Flatten the previous output before sending to fully connected layers"
      ],
      "execution_count": 45,
      "outputs": []
    },
    {
      "cell_type": "code",
      "metadata": {
        "id": "98D6ImkWqOJJ"
      },
      "source": [
        "cnn3_dp_model.add(Dense(64, activation='relu'))\n",
        "cnn3_dp_model.add(Dropout(0.3))\n",
        "cnn3_dp_model.add(Dense(10, activation='softmax'))"
      ],
      "execution_count": 46,
      "outputs": []
    },
    {
      "cell_type": "code",
      "metadata": {
        "id": "iG4s4WqkqOJM"
      },
      "source": [
        "# Compile the model\n",
        "cnn3_dp_model.compile(optimizer='adam', \n",
        "              loss='sparse_categorical_crossentropy',\n",
        "              metrics=['accuracy'])"
      ],
      "execution_count": 47,
      "outputs": []
    },
    {
      "cell_type": "code",
      "metadata": {
        "id": "NUOt0HYGqOJQ",
        "colab": {
          "base_uri": "https://localhost:8080/"
        },
        "outputId": "0f9d0dc2-2471-4230-9b80-eeb2343ac596"
      },
      "source": [
        "# Train the model\n",
        "epochs = 15\n",
        "batch_size = 32\n",
        "validation_split = 0.1\n",
        "history_3_dp = cnn3_dp_model.fit(X_train, y_train, epochs=epochs, batch_size=batch_size, validation_split = validation_split)"
      ],
      "execution_count": 48,
      "outputs": [
        {
          "output_type": "stream",
          "text": [
            "Train on 54000 samples, validate on 6000 samples\n",
            "Epoch 1/15\n",
            "54000/54000 [==============================] - 8s 144us/step - loss: 0.6621 - accuracy: 0.7546 - val_loss: 0.4245 - val_accuracy: 0.8420\n",
            "Epoch 2/15\n",
            "54000/54000 [==============================] - 7s 138us/step - loss: 0.4390 - accuracy: 0.8399 - val_loss: 0.3307 - val_accuracy: 0.8755\n",
            "Epoch 3/15\n",
            "54000/54000 [==============================] - 8s 139us/step - loss: 0.3814 - accuracy: 0.8627 - val_loss: 0.3178 - val_accuracy: 0.8825\n",
            "Epoch 4/15\n",
            "54000/54000 [==============================] - 7s 138us/step - loss: 0.3535 - accuracy: 0.8725 - val_loss: 0.2902 - val_accuracy: 0.8922\n",
            "Epoch 5/15\n",
            "54000/54000 [==============================] - 7s 139us/step - loss: 0.3332 - accuracy: 0.8798 - val_loss: 0.2714 - val_accuracy: 0.8970\n",
            "Epoch 6/15\n",
            "54000/54000 [==============================] - 7s 137us/step - loss: 0.3172 - accuracy: 0.8836 - val_loss: 0.2705 - val_accuracy: 0.8945\n",
            "Epoch 7/15\n",
            "54000/54000 [==============================] - 7s 139us/step - loss: 0.3105 - accuracy: 0.8874 - val_loss: 0.2581 - val_accuracy: 0.9045\n",
            "Epoch 8/15\n",
            "54000/54000 [==============================] - 7s 139us/step - loss: 0.3045 - accuracy: 0.8885 - val_loss: 0.2516 - val_accuracy: 0.9042\n",
            "Epoch 9/15\n",
            "54000/54000 [==============================] - 8s 140us/step - loss: 0.2957 - accuracy: 0.8904 - val_loss: 0.2522 - val_accuracy: 0.9052\n",
            "Epoch 10/15\n",
            "54000/54000 [==============================] - 7s 138us/step - loss: 0.2915 - accuracy: 0.8930 - val_loss: 0.2534 - val_accuracy: 0.9023\n",
            "Epoch 11/15\n",
            "54000/54000 [==============================] - 7s 138us/step - loss: 0.2845 - accuracy: 0.8940 - val_loss: 0.2439 - val_accuracy: 0.9065\n",
            "Epoch 12/15\n",
            "54000/54000 [==============================] - 7s 138us/step - loss: 0.2783 - accuracy: 0.8984 - val_loss: 0.2492 - val_accuracy: 0.9050\n",
            "Epoch 13/15\n",
            "54000/54000 [==============================] - 7s 138us/step - loss: 0.2788 - accuracy: 0.8968 - val_loss: 0.2403 - val_accuracy: 0.9068\n",
            "Epoch 14/15\n",
            "54000/54000 [==============================] - 7s 139us/step - loss: 0.2749 - accuracy: 0.8977 - val_loss: 0.2419 - val_accuracy: 0.9057\n",
            "Epoch 15/15\n",
            "54000/54000 [==============================] - 7s 139us/step - loss: 0.2702 - accuracy: 0.8997 - val_loss: 0.2437 - val_accuracy: 0.9090\n"
          ],
          "name": "stdout"
        }
      ]
    },
    {
      "cell_type": "code",
      "metadata": {
        "id": "Q7Vln5efqOJU",
        "colab": {
          "base_uri": "https://localhost:8080/"
        },
        "outputId": "d1f7bced-49bc-4bd9-a088-1fb240e1e7bd"
      },
      "source": [
        "cnn3_dp_score = cnn3_dp_model.evaluate(X_test, y_test)\n",
        "print('Test loss:', cnn3_dp_score[0])\n",
        "print('Test accuracy:', cnn3_dp_score[1])"
      ],
      "execution_count": 49,
      "outputs": [
        {
          "output_type": "stream",
          "text": [
            "10000/10000 [==============================] - 1s 58us/step\n",
            "Test loss: 0.2576680428147316\n",
            "Test accuracy: 0.9053999781608582\n"
          ],
          "name": "stdout"
        }
      ]
    },
    {
      "cell_type": "code",
      "metadata": {
        "id": "p9aGtsRuqOJY",
        "colab": {
          "base_uri": "https://localhost:8080/",
          "height": 295
        },
        "outputId": "6ab4f16f-7883-449c-9693-356b6882f7a6"
      },
      "source": [
        "# Visualize the training curve\n",
        "plt.plot(history_3_dp.history['loss'])\n",
        "plt.plot(history_3_dp.history['val_loss'])\n",
        "plt.title('model loss')\n",
        "plt.ylabel('loss')\n",
        "plt.xlabel('epoch')\n",
        "plt.legend(['train', 'validation'], loc='upper right')\n",
        "plt.show()"
      ],
      "execution_count": 50,
      "outputs": [
        {
          "output_type": "display_data",
          "data": {
            "image/png": "[encoded data removed]",
            "text/plain": [
              "<Figure size 432x288 with 1 Axes>"
            ]
          },
          "metadata": {
            "tags": [],
            "needs_background": "light"
          }
        }
      ]
    },
    {
      "cell_type": "code",
      "metadata": {
        "id": "t4Jyfotz9B_8",
        "colab": {
          "base_uri": "https://localhost:8080/",
          "height": 295
        },
        "outputId": "140c7197-422c-4ed5-aa6a-fc37bb62f6b9"
      },
      "source": [
        "plt.plot(history_3_dp.history['accuracy'])\n",
        "plt.plot(history_3_dp.history['val_accuracy'])\n",
        "plt.title('model accuracy')\n",
        "plt.ylabel('accuracy')\n",
        "plt.xlabel('epoch')\n",
        "plt.legend(['train', 'validation'], loc='upper right')\n",
        "plt.show()"
      ],
      "execution_count": 51,
      "outputs": [
        {
          "output_type": "display_data",
          "data": {
            "image/png": "[encoded data removed]",
            "text/plain": [
              "<Figure size 432x288 with 1 Axes>"
            ]
          },
          "metadata": {
            "tags": [],
            "needs_background": "light"
          }
        }
      ]
    },
    {
      "cell_type": "markdown",
      "metadata": {
        "id": "dhPwcElqt1Df"
      },
      "source": [
        "We can now see the overfitting problem has been solved by adding dropout.  \n",
        "In order to improve accuracy, we could train the model for longer - more epochs (Hint: Try 20, 30, 40, 50, etc.)"
      ]
    }
  ]
}