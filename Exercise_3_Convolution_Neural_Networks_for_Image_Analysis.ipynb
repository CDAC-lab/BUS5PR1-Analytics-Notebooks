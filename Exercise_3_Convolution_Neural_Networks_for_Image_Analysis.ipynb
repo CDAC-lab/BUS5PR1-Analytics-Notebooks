{
  "nbformat": 4,
  "nbformat_minor": 0,
  "metadata": {
    "colab": {
      "name": "Exercise 3 - Convolution Neural Networks for Image Analysis",
      "provenance": [],
      "collapsed_sections": [],
      "toc_visible": true
    },
    "kernelspec": {
      "name": "python3",
      "display_name": "Python 3"
    },
    "accelerator": "GPU"
  },
  "cells": [
    {
      "cell_type": "markdown",
      "metadata": {
        "id": "DFUsJZSU-wJF"
      },
      "source": [
        "# Exercise 3 - Convolution Neural Networks for Image Analysis"
      ]
    },
    {
      "cell_type": "markdown",
      "metadata": {
        "id": "XusAABHD-58D"
      },
      "source": [
        "In this workshop we will usea CNN to classify images in the  [Fashion MNIST](https://github.com/zalandoresearch/fashion-mnist) dataset. \n",
        "\n",
        "We will classify the fashion products in Fashion MNIST  into 10 classes. The dataset contains 70,000 grayscale images, with resolution of 28x28 pixels.   \n",
        "We will use 60,000 images to train the classification CNN and 10,000 images to evaluate the accuracy of the network. "
      ]
    },
    {
      "cell_type": "markdown",
      "metadata": {
        "id": "NRZEWyM6_fb1"
      },
      "source": [
        "## Load the data"
      ]
    },
    {
      "cell_type": "markdown",
      "metadata": {
        "id": "3A9P3pEB_j13"
      },
      "source": [
        "Generally we have to download the dataset from a repository and upload to use in our application. However, Keras python library provides us access to directly load a limited number of benchmark datasets.   \n",
        "Thus, we can access and load the Fashion-MNIST dataset directly from Keras."
      ]
    },
    {
      "cell_type": "code",
      "metadata": {
        "id": "n7iIFLbF-Acy"
      },
      "source": [
        "# Load Tensorflow library\n",
        "from keras.datasets import fashion_mnist"
      ],
      "execution_count": 1,
      "outputs": []
    },
    {
      "cell_type": "markdown",
      "metadata": {
        "id": "-HWedSm3DPXh"
      },
      "source": [
        "The dataset is already setup as training and testing sets. (60K for training and 10K for testing)"
      ]
    },
    {
      "cell_type": "code",
      "metadata": {
        "id": "6migTJqA_yhW",
        "colab": {
          "base_uri": "https://localhost:8080/"
        },
        "outputId": "494bd36e-2a19-44a5-b559-d74280a0bd46"
      },
      "source": [
        "(X_train, y_train), (X_test, y_test) = fashion_mnist.load_data()"
      ],
      "execution_count": 2,
      "outputs": [
        {
          "output_type": "stream",
          "name": "stdout",
          "text": [
            "Downloading data from https://storage.googleapis.com/tensorflow/tf-keras-datasets/train-labels-idx1-ubyte.gz\n",
            "32768/29515 [=================================] - 0s 0us/step\n",
            "40960/29515 [=========================================] - 0s 0us/step\n",
            "Downloading data from https://storage.googleapis.com/tensorflow/tf-keras-datasets/train-images-idx3-ubyte.gz\n",
            "26427392/26421880 [==============================] - 0s 0us/step\n",
            "26435584/26421880 [==============================] - 0s 0us/step\n",
            "Downloading data from https://storage.googleapis.com/tensorflow/tf-keras-datasets/t10k-labels-idx1-ubyte.gz\n",
            "16384/5148 [===============================================================================================] - 0s 0us/step\n",
            "Downloading data from https://storage.googleapis.com/tensorflow/tf-keras-datasets/t10k-images-idx3-ubyte.gz\n",
            "4423680/4422102 [==============================] - 0s 0us/step\n",
            "4431872/4422102 [==============================] - 0s 0us/step\n"
          ]
        }
      ]
    },
    {
      "cell_type": "code",
      "metadata": {
        "id": "rlpHxpHbAL9f",
        "colab": {
          "base_uri": "https://localhost:8080/"
        },
        "outputId": "f26aeea4-7a7a-44d4-f34e-45f80a5de1ea"
      },
      "source": [
        "# View the dataset shape\n",
        "print('Train data shape:', X_train.shape)\n",
        "print('Test data shape:', X_test.shape)"
      ],
      "execution_count": 3,
      "outputs": [
        {
          "output_type": "stream",
          "name": "stdout",
          "text": [
            "Train data shape: (60000, 28, 28)\n",
            "Test data shape: (10000, 28, 28)\n"
          ]
        }
      ]
    },
    {
      "cell_type": "markdown",
      "metadata": {
        "id": "kIPjfH5RAXne"
      },
      "source": [
        "X_train contains 60,000 train images with a resolution of 28x28.  \n",
        "The *labels* are an array of integers, ranging from 0 to 9. These correspond to the *class* of clothing the image represents:\n",
        "\n",
        "<table>\n",
        "  <tr>\n",
        "    <th>Label</th>\n",
        "    <th>Class</th> \n",
        "  </tr>\n",
        "  <tr>\n",
        "    <td>0</td>\n",
        "    <td>T-shirt/top</td> \n",
        "  </tr>\n",
        "  <tr>\n",
        "    <td>1</td>\n",
        "    <td>Trouser</td> \n",
        "  </tr>\n",
        "    <tr>\n",
        "    <td>2</td>\n",
        "    <td>Pullover</td> \n",
        "  </tr>\n",
        "    <tr>\n",
        "    <td>3</td>\n",
        "    <td>Dress</td> \n",
        "  </tr>\n",
        "    <tr>\n",
        "    <td>4</td>\n",
        "    <td>Coat</td> \n",
        "  </tr>\n",
        "    <tr>\n",
        "    <td>5</td>\n",
        "    <td>Sandal</td> \n",
        "  </tr>\n",
        "    <tr>\n",
        "    <td>6</td>\n",
        "    <td>Shirt</td> \n",
        "  </tr>\n",
        "    <tr>\n",
        "    <td>7</td>\n",
        "    <td>Sneaker</td> \n",
        "  </tr>\n",
        "    <tr>\n",
        "    <td>8</td>\n",
        "    <td>Bag</td> \n",
        "  </tr>\n",
        "    <tr>\n",
        "    <td>9</td>\n",
        "    <td>Ankle boot</td> \n",
        "  </tr>\n",
        "</table>\n",
        "\n",
        "Each image is mapped to a single label. Since the *class names* are not included with the dataset, store them here to use later when plotting the images:"
      ]
    },
    {
      "cell_type": "code",
      "metadata": {
        "id": "oGMrPcgJAUnf"
      },
      "source": [
        "class_names = ['T-shirt/top', 'Trouser', 'Pullover', 'Dress', 'Coat', \n",
        "               'Sandal', 'Shirt', 'Sneaker', 'Bag', 'Ankle boot']"
      ],
      "execution_count": 4,
      "outputs": []
    },
    {
      "cell_type": "markdown",
      "metadata": {
        "id": "3TjH6DZ7Bj_b"
      },
      "source": [
        "## Explore and pre-process the data"
      ]
    },
    {
      "cell_type": "code",
      "metadata": {
        "id": "uVSDAnwnAlkD"
      },
      "source": [
        "# Load visualization library\n",
        "import matplotlib.pyplot as plt"
      ],
      "execution_count": 5,
      "outputs": []
    },
    {
      "cell_type": "markdown",
      "metadata": {
        "id": "cguV38FYDgSQ"
      },
      "source": [
        "We will plot an image from the dataset to get a feel for the data"
      ]
    },
    {
      "cell_type": "code",
      "metadata": {
        "id": "_jnlp88TBtTS",
        "colab": {
          "base_uri": "https://localhost:8080/",
          "height": 265
        },
        "outputId": "5edc006d-0b1d-4b57-d2b1-48a1553691ee"
      },
      "source": [
        "image_index = 1\n",
        "plt.figure()\n",
        "plt.imshow(X_train[image_index])\n",
        "plt.colorbar()\n",
        "plt.grid(False)\n",
        "plt.show()"
      ],
      "execution_count": 6,
      "outputs": [
        {
          "output_type": "display_data",
          "data": {
            "text/plain": [
              "<Figure size 432x288 with 2 Axes>"
            ],
            "image/png": "[encoded data removed]"
          },
          "metadata": {
            "needs_background": "light"
          }
        }
      ]
    },
    {
      "cell_type": "markdown",
      "metadata": {
        "id": "rYGKlpKUCRcm"
      },
      "source": [
        "Display the first 25 images from the training set and display the class name below each image.   \n",
        "It is important to verify that the data is in the correct format before building the model."
      ]
    },
    {
      "cell_type": "code",
      "metadata": {
        "id": "brodZC5qBvNc",
        "colab": {
          "base_uri": "https://localhost:8080/",
          "height": 589
        },
        "outputId": "dcb1031b-0459-4cc6-e095-41f49006ef31"
      },
      "source": [
        "plt.figure(figsize=(10,10))\n",
        "for i in range(25):\n",
        "    plt.subplot(5,5,i+1)\n",
        "    plt.xticks([])\n",
        "    plt.yticks([])\n",
        "    plt.grid(False)\n",
        "    plt.imshow(X_train[i], cmap=plt.cm.binary)\n",
        "    plt.xlabel(class_names[y_train[i]])\n",
        "plt.show()"
      ],
      "execution_count": 7,
      "outputs": [
        {
          "output_type": "display_data",
          "data": {
            "text/plain": [
              "<Figure size 720x720 with 25 Axes>"
            ],
            "image/png": "[encoded data removed]"
          },
          "metadata": {}
        }
      ]
    },
    {
      "cell_type": "markdown",
      "metadata": {
        "id": "Yd-lPPNaCfDQ"
      },
      "source": [
        "A main step of image processing is to scale the data. With this step, we will be able observe  the range of data."
      ]
    },
    {
      "cell_type": "code",
      "metadata": {
        "id": "LPn5SFTjCeI7"
      },
      "source": [
        "# Import numpy library to process matrices\n",
        "import numpy as np"
      ],
      "execution_count": 8,
      "outputs": []
    },
    {
      "cell_type": "code",
      "metadata": {
        "id": "eZk_duGmB3XY",
        "colab": {
          "base_uri": "https://localhost:8080/"
        },
        "outputId": "2565d4f0-1936-48f5-e859-fb157fa45db6"
      },
      "source": [
        "print('min:', np.min(X_train[image_index]))\n",
        "print('max:', np.max(X_train[image_index]))"
      ],
      "execution_count": 9,
      "outputs": [
        {
          "output_type": "stream",
          "name": "stdout",
          "text": [
            "min: 0\n",
            "max: 255\n"
          ]
        }
      ]
    },
    {
      "cell_type": "markdown",
      "metadata": {
        "id": "MURb0-JMDNjr"
      },
      "source": [
        "It is evident that the data ranges from 0-255.   \n",
        "We scale these values to a range of 0 to 1 before feeding to the neural network model.  \n",
        "For this, we divide the values by 255.   \n",
        "It's important that the training set and the testing set are preprocessed in the same way:"
      ]
    },
    {
      "cell_type": "code",
      "metadata": {
        "id": "gEnN_wVdDLaf"
      },
      "source": [
        "X_train = X_train / 255.0\n",
        "X_test = X_test / 255.0"
      ],
      "execution_count": 10,
      "outputs": []
    },
    {
      "cell_type": "markdown",
      "metadata": {
        "id": "p2U0u1n-L1j3"
      },
      "source": [
        "Prepare for CNN processing by reshaping the image into (# training/testing samples, height, width, 1)"
      ]
    },
    {
      "cell_type": "code",
      "metadata": {
        "id": "xXdZsPpcMCDD"
      },
      "source": [
        "height, width = 28, 28"
      ],
      "execution_count": 11,
      "outputs": []
    },
    {
      "cell_type": "code",
      "metadata": {
        "id": "rrAKyhukL9Bi"
      },
      "source": [
        "X_train = X_train.reshape(X_train.shape[0], height, width, 1)\n",
        "X_test = X_test.reshape(X_test.shape[0], height, width, 1)"
      ],
      "execution_count": 12,
      "outputs": []
    },
    {
      "cell_type": "markdown",
      "metadata": {
        "id": "ClwHrfPUCwQt"
      },
      "source": [
        "## Enable GPU\n",
        "\n",
        "CPUs are designed for more general computing workloads.  GPUs in contrast are less flexible, however GPUs are designed for parallel  computations. Deep Neural Networks (DNN) are structured in a very uniform manner such that at each layer of the network thousands of identical artificial neurons perform the same computation.   Therefore the structure of a DNN fits quite well with the kinds of computation that a GPU can efficiently perform.\n",
        "\n",
        "To enable GPU in Google Colab, \n",
        "\n",
        "\n",
        "1. Click on Runtime menu on the toolbar\n",
        "2. Select change runtime type\n",
        "3. Select GPU for Hardware Acceleration option list.\n",
        "4. Select SAVE.\n",
        "\n"
      ]
    },
    {
      "cell_type": "markdown",
      "metadata": {
        "id": "IyLSG4IyDtbX"
      },
      "source": [
        "## Model Building"
      ]
    },
    {
      "cell_type": "markdown",
      "metadata": {
        "id": "HdCD6-1NDwsq"
      },
      "source": [
        "In this workshop, we will develop 3 deep learning models with increasing complexity to evaluate the classification accuracy.  \n",
        "\n",
        "\n",
        "1.   3 Layer DNN\n",
        "2.   1 Layer CNN\n",
        "3.   3 Layer CNN"
      ]
    },
    {
      "cell_type": "markdown",
      "metadata": {
        "id": "hGno2vDBEvnp"
      },
      "source": [
        "### 3-DNN Model"
      ]
    },
    {
      "cell_type": "markdown",
      "metadata": {
        "id": "-7TX5AmwFIc8"
      },
      "source": [
        "In this DNN model, we flatten the 28x28 image into a 784 input feature vector.  \n",
        "It should be noted that with flattening we will face the inherent problems discussed in the class (i.e., scale, rotation, location, high-demensionality)"
      ]
    },
    {
      "cell_type": "code",
      "metadata": {
        "id": "ud-2924qDfqP"
      },
      "source": [
        "# Import Keras libraries\n",
        "from keras.models import Sequential\n",
        "from keras.layers import Dense, Flatten"
      ],
      "execution_count": 13,
      "outputs": []
    },
    {
      "cell_type": "code",
      "metadata": {
        "id": "ZoTnr8D9E7oQ"
      },
      "source": [
        "dnn3_model = Sequential()"
      ],
      "execution_count": 14,
      "outputs": []
    },
    {
      "cell_type": "code",
      "metadata": {
        "id": "v0_5zNC3FAwx"
      },
      "source": [
        "dnn3_model.add(Flatten(input_shape=(width, height, 1)))  # Add Keras Flatten layer to conver (28x28) image -> 784 feature vector"
      ],
      "execution_count": 15,
      "outputs": []
    },
    {
      "cell_type": "code",
      "metadata": {
        "id": "kKztFDk1FvBs"
      },
      "source": [
        "dnn3_model.add(Dense(128, activation='relu')) \n",
        "dnn3_model.add(Dense(64, activation='relu')) \n",
        "dnn3_model.add(Dense(10, activation='softmax'))  # In the final layer we use softmax activation to classify the input into 10 classes."
      ],
      "execution_count": 16,
      "outputs": []
    },
    {
      "cell_type": "markdown",
      "metadata": {
        "id": "vYJr_sT2GRsk"
      },
      "source": [
        "Softmax is an activation function that turns logits into probabilities that sum to one. E.g.,\n",
        "\n",
        "---\n",
        "\n",
        "\n",
        " \n",
        "![alt text](https://cdn-images-1.medium.com/max/906/1*670CdxchunD-yAuUWdI7Bw.png)\n",
        "\n",
        "For a complete understanding of available activation functions, please refer the following resources:  \n",
        "\n",
        "\n",
        "1.   [ML Cheatsheat](https://ml-cheatsheet.readthedocs.io/en/latest/activation_functions.html)\n",
        "2.   [Towards data science](https://towardsdatascience.com/activation-functions-neural-networks-1cbd9f8d91d6)\n",
        "\n",
        "\n"
      ]
    },
    {
      "cell_type": "markdown",
      "metadata": {
        "id": "l0gwey-RIE-r"
      },
      "source": [
        "**Compiling the model**\n",
        "\n",
        "Before the model is ready for training, it needs a few more settings. These are added during the model's compile step:  \n",
        "\n",
        "* Loss function —This measures how accurate the model is during training. We want to minimize this function to \"steer\" the model in the right direction. [Further details](https://keras.io/losses/) \n",
        "* Optimizer —This is how the model is updated based on the data it sees and its loss function. [Further details.](https://keras.io/optimizers/)\n",
        "* Metrics —Used to monitor the training and testing steps. The following example uses accuracy, the fraction of the images that are correctly classified. [Further details.](https://keras.io/metrics/) "
      ]
    },
    {
      "cell_type": "code",
      "metadata": {
        "id": "hAzocclQGQWI"
      },
      "source": [
        "dnn3_model.compile(optimizer='adam', \n",
        "              loss='sparse_categorical_crossentropy',\n",
        "              metrics=['accuracy'])"
      ],
      "execution_count": 17,
      "outputs": []
    },
    {
      "cell_type": "markdown",
      "metadata": {
        "id": "pfXpA1jNEjvg"
      },
      "source": [
        "Initially, we will train the model with 10 learning epochs. Based on the learning curve, visualized below, you could update this hyper-parameter to best fit the training data."
      ]
    },
    {
      "cell_type": "code",
      "metadata": {
        "id": "NYNDvwNrIWRO",
        "colab": {
          "base_uri": "https://localhost:8080/"
        },
        "outputId": "8489dcf8-9473-4476-c876-6bba59593217"
      },
      "source": [
        "# Train the model\n",
        "epochs = 10\n",
        "batch_size = 32\n",
        "validation_split = 0.1\n",
        "history = dnn3_model.fit(X_train, y_train, epochs=epochs, batch_size=batch_size, validation_split = validation_split)"
      ],
      "execution_count": 18,
      "outputs": [
        {
          "output_type": "stream",
          "name": "stdout",
          "text": [
            "Epoch 1/10\n",
            "1688/1688 [==============================] - 8s 3ms/step - loss: 0.5029 - accuracy: 0.8215 - val_loss: 0.3863 - val_accuracy: 0.8565\n",
            "Epoch 2/10\n",
            "1688/1688 [==============================] - 5s 3ms/step - loss: 0.3704 - accuracy: 0.8635 - val_loss: 0.3695 - val_accuracy: 0.8648\n",
            "Epoch 3/10\n",
            "1688/1688 [==============================] - 5s 3ms/step - loss: 0.3336 - accuracy: 0.8768 - val_loss: 0.3664 - val_accuracy: 0.8663\n",
            "Epoch 4/10\n",
            "1688/1688 [==============================] - 5s 3ms/step - loss: 0.3115 - accuracy: 0.8838 - val_loss: 0.3295 - val_accuracy: 0.8793\n",
            "Epoch 5/10\n",
            "1688/1688 [==============================] - 5s 3ms/step - loss: 0.2949 - accuracy: 0.8899 - val_loss: 0.3855 - val_accuracy: 0.8638\n",
            "Epoch 6/10\n",
            "1688/1688 [==============================] - 5s 3ms/step - loss: 0.2765 - accuracy: 0.8986 - val_loss: 0.3403 - val_accuracy: 0.8842\n",
            "Epoch 7/10\n",
            "1688/1688 [==============================] - 5s 3ms/step - loss: 0.2658 - accuracy: 0.8996 - val_loss: 0.3153 - val_accuracy: 0.8853\n",
            "Epoch 8/10\n",
            "1688/1688 [==============================] - 5s 3ms/step - loss: 0.2535 - accuracy: 0.9055 - val_loss: 0.3284 - val_accuracy: 0.8810\n",
            "Epoch 9/10\n",
            "1688/1688 [==============================] - 5s 3ms/step - loss: 0.2461 - accuracy: 0.9069 - val_loss: 0.3108 - val_accuracy: 0.8903\n",
            "Epoch 10/10\n",
            "1688/1688 [==============================] - 5s 3ms/step - loss: 0.2348 - accuracy: 0.9116 - val_loss: 0.3182 - val_accuracy: 0.8868\n"
          ]
        }
      ]
    },
    {
      "cell_type": "code",
      "metadata": {
        "id": "I2huim_yJjO3",
        "colab": {
          "base_uri": "https://localhost:8080/",
          "height": 295
        },
        "outputId": "dcfcad03-b52f-4603-85bf-c00d5ee9f97f"
      },
      "source": [
        "# Visualize the training curve\n",
        "plt.plot(history.history['loss'])\n",
        "plt.plot(history.history['val_loss'])\n",
        "plt.title('model loss')\n",
        "plt.ylabel('loss')\n",
        "plt.xlabel('epoch')\n",
        "plt.legend(['train', 'validation'], loc='upper right')\n",
        "plt.show()"
      ],
      "execution_count": 19,
      "outputs": [
        {
          "output_type": "display_data",
          "data": {
            "text/plain": [
              "<Figure size 432x288 with 1 Axes>"
            ],
            "image/png": "[encoded data removed]"
          },
          "metadata": {
            "needs_background": "light"
          }
        }
      ]
    },
    {
      "cell_type": "code",
      "metadata": {
        "id": "NeftI0WOJDcm",
        "colab": {
          "base_uri": "https://localhost:8080/",
          "height": 295
        },
        "outputId": "9d4a6da2-6f06-49c0-c2f5-121decab6e92"
      },
      "source": [
        "# Visualize accuracy (mean squared error)\n",
        "plt.plot(history.history['accuracy'])\n",
        "plt.plot(history.history['val_accuracy'])\n",
        "plt.title('model accuracy')\n",
        "plt.ylabel('accuracy')\n",
        "plt.xlabel('epoch')\n",
        "plt.legend(['train', 'validation'], loc='upper right')\n",
        "plt.show()"
      ],
      "execution_count": 20,
      "outputs": [
        {
          "output_type": "display_data",
          "data": {
            "text/plain": [
              "<Figure size 432x288 with 1 Axes>"
            ],
            "image/png": "[encoded data removed]"
          },
          "metadata": {
            "needs_background": "light"
          }
        }
      ]
    },
    {
      "cell_type": "code",
      "metadata": {
        "id": "8NhftIe4J1Ya",
        "colab": {
          "base_uri": "https://localhost:8080/"
        },
        "outputId": "5ee60d53-87f5-46ec-9cad-696af80ad809"
      },
      "source": [
        "test_loss, test_acc = dnn3_model.evaluate(X_test, y_test)\n",
        "print('Test accuracy:', test_acc)"
      ],
      "execution_count": 21,
      "outputs": [
        {
          "output_type": "stream",
          "name": "stdout",
          "text": [
            "313/313 [==============================] - 1s 2ms/step - loss: 0.3317 - accuracy: 0.8851\n",
            "Test accuracy: 0.8851000070571899\n"
          ]
        }
      ]
    },
    {
      "cell_type": "markdown",
      "metadata": {
        "id": "NAOA4U3yKvw8"
      },
      "source": [
        "### 1-CNN"
      ]
    },
    {
      "cell_type": "markdown",
      "metadata": {
        "id": "7ikjZvn-LLv4"
      },
      "source": [
        "As discussed in the lecture, CNN is specifically designed to process two-dimensional data spaces (focusing on image data).  \n",
        "First, we will design a single layer CNN. This will include one convolutional layer, one max pooling layer and two fully connected layers."
      ]
    },
    {
      "cell_type": "code",
      "metadata": {
        "id": "pxLaLrbeKxWX"
      },
      "source": [
        "# Import required libraries\n",
        "from keras.models import Sequential\n",
        "from keras.layers import Dense, Flatten, Conv2D, MaxPooling2D"
      ],
      "execution_count": 22,
      "outputs": []
    },
    {
      "cell_type": "code",
      "metadata": {
        "id": "Mim4gnhxMmzF"
      },
      "source": [
        "# Set input shape\n",
        "input_shape = (width, height, 1)"
      ],
      "execution_count": 23,
      "outputs": []
    },
    {
      "cell_type": "markdown",
      "metadata": {
        "id": "VpdMjo2nZGfU"
      },
      "source": [
        "Construct the CNN model."
      ]
    },
    {
      "cell_type": "code",
      "metadata": {
        "id": "9KIAwoYwLdmD"
      },
      "source": [
        "cnn1_model = Sequential()"
      ],
      "execution_count": 24,
      "outputs": []
    },
    {
      "cell_type": "markdown",
      "metadata": {
        "id": "62awqnJ5ZKHE"
      },
      "source": [
        "Here we will use 3x3 filters (or kernals) to learn."
      ]
    },
    {
      "cell_type": "code",
      "metadata": {
        "id": "lxUzzQMtLj5A"
      },
      "source": [
        "cnn1_model.add(Conv2D(32, kernel_size=(3, 3), activation='relu', input_shape=input_shape))   # We will use 32 of 3x3 kernals to learn\n",
        "cnn1_model.add(MaxPooling2D(pool_size=(2, 2)))   # We use 2x2 max pooling"
      ],
      "execution_count": 25,
      "outputs": []
    },
    {
      "cell_type": "markdown",
      "metadata": {
        "id": "XtQM_8QDZRRM"
      },
      "source": [
        "Flattent the previous output before sending to fully connected layers."
      ]
    },
    {
      "cell_type": "code",
      "metadata": {
        "id": "HKyeW1uZMz7w"
      },
      "source": [
        "cnn1_model.add(Flatten())"
      ],
      "execution_count": 26,
      "outputs": []
    },
    {
      "cell_type": "markdown",
      "metadata": {
        "id": "7wgKQuLgZhq7"
      },
      "source": [
        "We will use one fully connected (FC) layer with 128 nodes."
      ]
    },
    {
      "cell_type": "code",
      "metadata": {
        "id": "Tgert5CQM-BE"
      },
      "source": [
        "cnn1_model.add(Dense(64, activation='relu'))\n",
        "cnn1_model.add(Dense(10, activation='softmax'))"
      ],
      "execution_count": 27,
      "outputs": []
    },
    {
      "cell_type": "code",
      "metadata": {
        "id": "Tj7fxj6VNA9R"
      },
      "source": [
        "# Compile the model\n",
        "cnn1_model.compile(optimizer='adam', \n",
        "              loss='sparse_categorical_crossentropy',\n",
        "              metrics=['accuracy'])"
      ],
      "execution_count": 28,
      "outputs": []
    },
    {
      "cell_type": "markdown",
      "metadata": {
        "id": "TMy-8xdfZo2U"
      },
      "source": [
        "As before, initially we will train the model for 10 epochs to evaluate the performance.  \n",
        "Then, based on the accuracy/learning curve we will refine the hyper-parameters."
      ]
    },
    {
      "cell_type": "code",
      "metadata": {
        "id": "4RkPsb3rNIxG",
        "colab": {
          "base_uri": "https://localhost:8080/"
        },
        "outputId": "985431eb-c3b1-4788-fd97-65987030fb8b"
      },
      "source": [
        "# Train the model\n",
        "epochs = 10\n",
        "batch_size = 32\n",
        "validation_split = 0.1\n",
        "history_1 = cnn1_model.fit(X_train, y_train, epochs=epochs, batch_size=batch_size, validation_split = validation_split)"
      ],
      "execution_count": 29,
      "outputs": [
        {
          "output_type": "stream",
          "name": "stdout",
          "text": [
            "Epoch 1/10\n",
            "1688/1688 [==============================] - 15s 4ms/step - loss: 0.4234 - accuracy: 0.8514 - val_loss: 0.3309 - val_accuracy: 0.8810\n",
            "Epoch 2/10\n",
            "1688/1688 [==============================] - 9s 6ms/step - loss: 0.2859 - accuracy: 0.8967 - val_loss: 0.2731 - val_accuracy: 0.9003\n",
            "Epoch 3/10\n",
            "1688/1688 [==============================] - 6s 4ms/step - loss: 0.2415 - accuracy: 0.9109 - val_loss: 0.2678 - val_accuracy: 0.9022\n",
            "Epoch 4/10\n",
            "1688/1688 [==============================] - 6s 3ms/step - loss: 0.2097 - accuracy: 0.9229 - val_loss: 0.2655 - val_accuracy: 0.9018\n",
            "Epoch 5/10\n",
            "1688/1688 [==============================] - 6s 3ms/step - loss: 0.1847 - accuracy: 0.9321 - val_loss: 0.2448 - val_accuracy: 0.9135\n",
            "Epoch 6/10\n",
            "1688/1688 [==============================] - 6s 3ms/step - loss: 0.1654 - accuracy: 0.9383 - val_loss: 0.2690 - val_accuracy: 0.9070\n",
            "Epoch 7/10\n",
            "1688/1688 [==============================] - 6s 3ms/step - loss: 0.1461 - accuracy: 0.9456 - val_loss: 0.2552 - val_accuracy: 0.9137\n",
            "Epoch 8/10\n",
            "1688/1688 [==============================] - 6s 4ms/step - loss: 0.1288 - accuracy: 0.9530 - val_loss: 0.2772 - val_accuracy: 0.9100\n",
            "Epoch 9/10\n",
            "1688/1688 [==============================] - 6s 4ms/step - loss: 0.1142 - accuracy: 0.9581 - val_loss: 0.2750 - val_accuracy: 0.9145\n",
            "Epoch 10/10\n",
            "1688/1688 [==============================] - 6s 3ms/step - loss: 0.1035 - accuracy: 0.9614 - val_loss: 0.3061 - val_accuracy: 0.9087\n"
          ]
        }
      ]
    },
    {
      "cell_type": "code",
      "metadata": {
        "id": "XKxLPmfENX5w",
        "colab": {
          "base_uri": "https://localhost:8080/"
        },
        "outputId": "9151c10e-2f44-4335-c6af-b67d5d8e63e9"
      },
      "source": [
        "cnn1_score = cnn1_model.evaluate(X_test, y_test)\n",
        "print('Test loss:', cnn1_score[0])\n",
        "print('Test accuracy:', cnn1_score[1])"
      ],
      "execution_count": 30,
      "outputs": [
        {
          "output_type": "stream",
          "name": "stdout",
          "text": [
            "313/313 [==============================] - 1s 3ms/step - loss: 0.3271 - accuracy: 0.9023\n",
            "Test loss: 0.3270799219608307\n",
            "Test accuracy: 0.9023000001907349\n"
          ]
        }
      ]
    },
    {
      "cell_type": "code",
      "metadata": {
        "id": "yj0trFTsNljB",
        "colab": {
          "base_uri": "https://localhost:8080/",
          "height": 295
        },
        "outputId": "d86b66da-3a3f-49c5-a80f-5e45524f0960"
      },
      "source": [
        "# Visualize the training curve\n",
        "plt.plot(history_1.history['loss'])\n",
        "plt.plot(history_1.history['val_loss'])\n",
        "plt.title('model loss')\n",
        "plt.ylabel('loss')\n",
        "plt.xlabel('epoch')\n",
        "plt.legend(['train', 'validation'], loc='upper right')\n",
        "plt.show()"
      ],
      "execution_count": 31,
      "outputs": [
        {
          "output_type": "display_data",
          "data": {
            "text/plain": [
              "<Figure size 432x288 with 1 Axes>"
            ],
            "image/png": "[encoded data removed]"
          },
          "metadata": {
            "needs_background": "light"
          }
        }
      ]
    },
    {
      "cell_type": "markdown",
      "metadata": {
        "id": "yR-gHsmLnzZH"
      },
      "source": [
        "By analyzing the learning curve, you should be able to identify whether training the model longer would provide better results."
      ]
    },
    {
      "cell_type": "markdown",
      "metadata": {
        "id": "KfgXh5cgj7NH"
      },
      "source": [
        "### 3-CNN"
      ]
    },
    {
      "cell_type": "markdown",
      "metadata": {
        "id": "HXKbUov0j7NM"
      },
      "source": [
        "In this step, we will design a complex three layer CNN intending an improvement in the accuracy."
      ]
    },
    {
      "cell_type": "code",
      "metadata": {
        "id": "tubeQl30j7NQ"
      },
      "source": [
        "# Import required libraries\n",
        "from keras.models import Sequential\n",
        "from keras.layers import Dense, Flatten, Conv2D, MaxPooling2D"
      ],
      "execution_count": 32,
      "outputs": []
    },
    {
      "cell_type": "code",
      "metadata": {
        "id": "YKRi5t1Lj7Nb"
      },
      "source": [
        "# Set input shape\n",
        "input_shape = (width, height, 1)"
      ],
      "execution_count": 33,
      "outputs": []
    },
    {
      "cell_type": "code",
      "metadata": {
        "id": "Uk433vWAj7Ng"
      },
      "source": [
        "cnn3_model = Sequential()"
      ],
      "execution_count": 34,
      "outputs": []
    },
    {
      "cell_type": "code",
      "metadata": {
        "id": "msnxlKZoj7Nk"
      },
      "source": [
        "# CNN Layer 1\n",
        "cnn3_model.add(Conv2D(32, kernel_size=(3, 3), activation='relu', input_shape=input_shape))\n",
        "cnn3_model.add(MaxPooling2D((2, 2)))\n",
        "\n",
        "# CNN Layer 2\n",
        "cnn3_model.add(Conv2D(64, kernel_size=(3, 3), activation='relu'))\n",
        "cnn3_model.add(MaxPooling2D(pool_size=(2, 2)))\n",
        "\n",
        "# CNN Layer 3\n",
        "cnn3_model.add(Conv2D(128, kernel_size=(3, 3), activation='relu'))"
      ],
      "execution_count": 35,
      "outputs": []
    },
    {
      "cell_type": "code",
      "metadata": {
        "id": "vTvTcnfOj7No"
      },
      "source": [
        "cnn3_model.add(Flatten())  # Flatten the previous output before sending to fully connected layers"
      ],
      "execution_count": 36,
      "outputs": []
    },
    {
      "cell_type": "code",
      "metadata": {
        "id": "iLdtzybmj7Nr"
      },
      "source": [
        "cnn3_model.add(Dense(128, activation='relu'))\n",
        "cnn3_model.add(Dense(10, activation='softmax'))"
      ],
      "execution_count": 37,
      "outputs": []
    },
    {
      "cell_type": "code",
      "metadata": {
        "id": "zcuHfQn5j7Nv"
      },
      "source": [
        "# Compile the model\n",
        "cnn3_model.compile(optimizer='adam', \n",
        "              loss='sparse_categorical_crossentropy',\n",
        "              metrics=['accuracy'])"
      ],
      "execution_count": 38,
      "outputs": []
    },
    {
      "cell_type": "code",
      "metadata": {
        "id": "ROuuFRIvj7N0",
        "colab": {
          "base_uri": "https://localhost:8080/"
        },
        "outputId": "53e6c880-38b5-4e3d-cf2a-08e319fabda4"
      },
      "source": [
        "# Train the model\n",
        "epochs = 10\n",
        "batch_size = 32\n",
        "validation_split = 0.1\n",
        "history_3 = cnn3_model.fit(X_train, y_train, epochs=epochs, batch_size=batch_size, validation_split = validation_split)"
      ],
      "execution_count": 39,
      "outputs": [
        {
          "output_type": "stream",
          "name": "stdout",
          "text": [
            "Epoch 1/10\n",
            "1688/1688 [==============================] - 8s 4ms/step - loss: 0.4818 - accuracy: 0.8236 - val_loss: 0.3524 - val_accuracy: 0.8688\n",
            "Epoch 2/10\n",
            "1688/1688 [==============================] - 7s 4ms/step - loss: 0.3096 - accuracy: 0.8865 - val_loss: 0.2896 - val_accuracy: 0.8958\n",
            "Epoch 3/10\n",
            "1688/1688 [==============================] - 8s 5ms/step - loss: 0.2621 - accuracy: 0.9035 - val_loss: 0.2682 - val_accuracy: 0.9012\n",
            "Epoch 4/10\n",
            "1688/1688 [==============================] - 7s 4ms/step - loss: 0.2307 - accuracy: 0.9137 - val_loss: 0.2586 - val_accuracy: 0.9030\n",
            "Epoch 5/10\n",
            "1688/1688 [==============================] - 7s 4ms/step - loss: 0.2030 - accuracy: 0.9251 - val_loss: 0.2437 - val_accuracy: 0.9112\n",
            "Epoch 6/10\n",
            "1688/1688 [==============================] - 7s 4ms/step - loss: 0.1805 - accuracy: 0.9325 - val_loss: 0.2469 - val_accuracy: 0.9107\n",
            "Epoch 7/10\n",
            "1688/1688 [==============================] - 7s 4ms/step - loss: 0.1583 - accuracy: 0.9404 - val_loss: 0.2562 - val_accuracy: 0.9072\n",
            "Epoch 8/10\n",
            "1688/1688 [==============================] - 7s 4ms/step - loss: 0.1433 - accuracy: 0.9449 - val_loss: 0.2533 - val_accuracy: 0.9093\n",
            "Epoch 9/10\n",
            "1688/1688 [==============================] - 7s 4ms/step - loss: 0.1252 - accuracy: 0.9522 - val_loss: 0.2658 - val_accuracy: 0.9118\n",
            "Epoch 10/10\n",
            "1688/1688 [==============================] - 7s 4ms/step - loss: 0.1113 - accuracy: 0.9576 - val_loss: 0.2849 - val_accuracy: 0.9133\n"
          ]
        }
      ]
    },
    {
      "cell_type": "code",
      "metadata": {
        "id": "_C_rWaxUj7N5",
        "colab": {
          "base_uri": "https://localhost:8080/"
        },
        "outputId": "d5ce1345-9321-4648-e471-78209fb6572f"
      },
      "source": [
        "cnn3_score = cnn3_model.evaluate(X_test, y_test)\n",
        "print('Test loss:', cnn3_score[0])\n",
        "print('Test accuracy:', cnn3_score[1])"
      ],
      "execution_count": 40,
      "outputs": [
        {
          "output_type": "stream",
          "name": "stdout",
          "text": [
            "313/313 [==============================] - 1s 3ms/step - loss: 0.2879 - accuracy: 0.9108\n",
            "Test loss: 0.28788453340530396\n",
            "Test accuracy: 0.9107999801635742\n"
          ]
        }
      ]
    },
    {
      "cell_type": "code",
      "metadata": {
        "id": "RUeiwKS7oEez",
        "colab": {
          "base_uri": "https://localhost:8080/",
          "height": 295
        },
        "outputId": "ad69a3cf-80c5-4342-b9d2-60ff0ae4238a"
      },
      "source": [
        "# Visualize the training curve\n",
        "plt.plot(history_3.history['loss'])\n",
        "plt.plot(history_3.history['val_loss'])\n",
        "plt.title('model loss')\n",
        "plt.ylabel('loss')\n",
        "plt.xlabel('epoch')\n",
        "plt.legend(['train', 'validation'], loc='upper right')\n",
        "plt.show()"
      ],
      "execution_count": 41,
      "outputs": [
        {
          "output_type": "display_data",
          "data": {
            "text/plain": [
              "<Figure size 432x288 with 1 Axes>"
            ],
            "image/png": "[encoded data removed]"
          },
          "metadata": {
            "needs_background": "light"
          }
        }
      ]
    },
    {
      "cell_type": "markdown",
      "metadata": {
        "id": "hvzA59d2o9CT"
      },
      "source": [
        "Based on the leanring curve, it seems after first epoch the model starts to overfit.  \n",
        "In such scenarios, **dropout** is used to mitigate the effect of overfitting. "
      ]
    },
    {
      "cell_type": "markdown",
      "metadata": {
        "id": "FRUZXaROpRza"
      },
      "source": [
        "### 3-CNN with Dropout"
      ]
    },
    {
      "cell_type": "markdown",
      "metadata": {
        "id": "uH-eSJlMpVZZ"
      },
      "source": [
        "Dropout aims to solve the significant challenge of overfitting. It is one of the biggest advancements in deep learning proposed in recent years.\n",
        "\n",
        "The idea is very simple though, it is to randomly drop units in a deep neural network.\n",
        "\n",
        "Learning the relationship between the inputs and the outputs of a dataset is a very complicated procedure. If you have a very small dataset, the relationship maybe a result of noise in the input sample.\n",
        "\n",
        "Dropout refers to randomly and temporary removing a unit, either in a hidden or a visible layer, and all of its incoming and outgoing connections.\n",
        "\n",
        "Further reading on dropout: \n",
        "\n",
        "\n",
        "*   [Machine Learning Mastery](https://machinelearningmastery.com/dropout-for-regularizing-deep-neural-networks/)\n",
        "*   [Marko Jerkic](https://markojerkic.com/what-is-dropout-deep-learning/)\n",
        "\n",
        "![alt text](https://i1.wp.com/cdn-images-1.medium.com/max/800/1*iWQzxhVlvadk6VAJjsgXgg.png?resize=800%2C398&ssl=1)\n",
        "\n"
      ]
    },
    {
      "cell_type": "markdown",
      "metadata": {
        "id": "901wJ7o3p9qF"
      },
      "source": [
        "Let's now attempt the same 3-CNN model with **dropout**."
      ]
    },
    {
      "cell_type": "code",
      "metadata": {
        "id": "SZcyXqU8qfqK"
      },
      "source": [
        "# Load dropout from keras library\n",
        "from keras.layers import Dropout"
      ],
      "execution_count": 42,
      "outputs": []
    },
    {
      "cell_type": "code",
      "metadata": {
        "id": "cNxRpV75oqtR"
      },
      "source": [
        "# Updated model layers\n",
        "cnn3_dp_model = Sequential()"
      ],
      "execution_count": 43,
      "outputs": []
    },
    {
      "cell_type": "markdown",
      "metadata": {
        "id": "3_VjK_zla_39"
      },
      "source": [
        "Now in each layer, we will add a dropout. The dropout rate is a hyper-parameter we could select based on our model requirements."
      ]
    },
    {
      "cell_type": "code",
      "metadata": {
        "id": "6IdzgRgBqOJD"
      },
      "source": [
        "# CNN Layer 1\n",
        "cnn3_dp_model.add(Conv2D(32, kernel_size=(3, 3), activation='relu', input_shape=input_shape))\n",
        "cnn3_dp_model.add(MaxPooling2D((2, 2)))\n",
        "cnn3_dp_model.add(Dropout(0.3))\n",
        "\n",
        "# CNN Layer 2\n",
        "cnn3_dp_model.add(Conv2D(64, kernel_size=(3, 3), activation='relu'))\n",
        "cnn3_dp_model.add(MaxPooling2D(pool_size=(2, 2)))\n",
        "cnn3_dp_model.add(Dropout(0.3))\n",
        "\n",
        "# CNN Layer 3\n",
        "cnn3_dp_model.add(Conv2D(128, kernel_size=(3, 3), activation='relu'))\n",
        "cnn3_dp_model.add(Dropout(0.3))"
      ],
      "execution_count": 44,
      "outputs": []
    },
    {
      "cell_type": "code",
      "metadata": {
        "id": "H_ce3upTqOJH"
      },
      "source": [
        "cnn3_dp_model.add(Flatten())  # Flatten the previous output before sending to fully connected layers"
      ],
      "execution_count": 45,
      "outputs": []
    },
    {
      "cell_type": "code",
      "metadata": {
        "id": "98D6ImkWqOJJ"
      },
      "source": [
        "cnn3_dp_model.add(Dense(64, activation='relu'))\n",
        "cnn3_dp_model.add(Dropout(0.3))\n",
        "cnn3_dp_model.add(Dense(10, activation='softmax'))"
      ],
      "execution_count": 46,
      "outputs": []
    },
    {
      "cell_type": "code",
      "metadata": {
        "id": "iG4s4WqkqOJM"
      },
      "source": [
        "# Compile the model\n",
        "cnn3_dp_model.compile(optimizer='adam', \n",
        "              loss='sparse_categorical_crossentropy',\n",
        "              metrics=['accuracy'])"
      ],
      "execution_count": 47,
      "outputs": []
    },
    {
      "cell_type": "code",
      "metadata": {
        "id": "NUOt0HYGqOJQ",
        "colab": {
          "base_uri": "https://localhost:8080/"
        },
        "outputId": "f1ba227e-a563-4a38-c2c3-f2c93eb893d3"
      },
      "source": [
        "# Train the model\n",
        "epochs = 15\n",
        "batch_size = 32\n",
        "validation_split = 0.1\n",
        "history_3_dp = cnn3_dp_model.fit(X_train, y_train, epochs=epochs, batch_size=batch_size, validation_split = validation_split)"
      ],
      "execution_count": 48,
      "outputs": [
        {
          "output_type": "stream",
          "name": "stdout",
          "text": [
            "Epoch 1/15\n",
            "1688/1688 [==============================] - 8s 5ms/step - loss: 0.6514 - accuracy: 0.7583 - val_loss: 0.3920 - val_accuracy: 0.8477\n",
            "Epoch 2/15\n",
            "1688/1688 [==============================] - 7s 4ms/step - loss: 0.4387 - accuracy: 0.8380 - val_loss: 0.3444 - val_accuracy: 0.8692\n",
            "Epoch 3/15\n",
            "1688/1688 [==============================] - 8s 4ms/step - loss: 0.3828 - accuracy: 0.8597 - val_loss: 0.3115 - val_accuracy: 0.8805\n",
            "Epoch 4/15\n",
            "1688/1688 [==============================] - 7s 4ms/step - loss: 0.3530 - accuracy: 0.8714 - val_loss: 0.2802 - val_accuracy: 0.8968\n",
            "Epoch 5/15\n",
            "1688/1688 [==============================] - 7s 4ms/step - loss: 0.3343 - accuracy: 0.8772 - val_loss: 0.2741 - val_accuracy: 0.8975\n",
            "Epoch 6/15\n",
            "1688/1688 [==============================] - 8s 5ms/step - loss: 0.3206 - accuracy: 0.8829 - val_loss: 0.2657 - val_accuracy: 0.9017\n",
            "Epoch 7/15\n",
            "1688/1688 [==============================] - 7s 4ms/step - loss: 0.3099 - accuracy: 0.8856 - val_loss: 0.2605 - val_accuracy: 0.9035\n",
            "Epoch 8/15\n",
            "1688/1688 [==============================] - 7s 4ms/step - loss: 0.3006 - accuracy: 0.8906 - val_loss: 0.2531 - val_accuracy: 0.9037\n",
            "Epoch 9/15\n",
            "1688/1688 [==============================] - 8s 4ms/step - loss: 0.2974 - accuracy: 0.8920 - val_loss: 0.2507 - val_accuracy: 0.9087\n",
            "Epoch 10/15\n",
            "1688/1688 [==============================] - 8s 5ms/step - loss: 0.2912 - accuracy: 0.8926 - val_loss: 0.2548 - val_accuracy: 0.9068\n",
            "Epoch 11/15\n",
            "1688/1688 [==============================] - 7s 4ms/step - loss: 0.2851 - accuracy: 0.8944 - val_loss: 0.2493 - val_accuracy: 0.9060\n",
            "Epoch 12/15\n",
            "1688/1688 [==============================] - 8s 5ms/step - loss: 0.2823 - accuracy: 0.8953 - val_loss: 0.2574 - val_accuracy: 0.9013\n",
            "Epoch 13/15\n",
            "1688/1688 [==============================] - 7s 4ms/step - loss: 0.2788 - accuracy: 0.8966 - val_loss: 0.2440 - val_accuracy: 0.9082\n",
            "Epoch 14/15\n",
            "1688/1688 [==============================] - 8s 4ms/step - loss: 0.2737 - accuracy: 0.8994 - val_loss: 0.2368 - val_accuracy: 0.9130\n",
            "Epoch 15/15\n",
            "1688/1688 [==============================] - 8s 5ms/step - loss: 0.2724 - accuracy: 0.8992 - val_loss: 0.2476 - val_accuracy: 0.9065\n"
          ]
        }
      ]
    },
    {
      "cell_type": "code",
      "metadata": {
        "id": "Q7Vln5efqOJU",
        "colab": {
          "base_uri": "https://localhost:8080/"
        },
        "outputId": "87962dbe-42e8-4653-b085-562b5c98450a"
      },
      "source": [
        "cnn3_dp_score = cnn3_dp_model.evaluate(X_test, y_test)\n",
        "print('Test loss:', cnn3_dp_score[0])\n",
        "print('Test accuracy:', cnn3_dp_score[1])"
      ],
      "execution_count": 49,
      "outputs": [
        {
          "output_type": "stream",
          "name": "stdout",
          "text": [
            "313/313 [==============================] - 1s 3ms/step - loss: 0.2607 - accuracy: 0.9041\n",
            "Test loss: 0.2607325315475464\n",
            "Test accuracy: 0.9041000008583069\n"
          ]
        }
      ]
    },
    {
      "cell_type": "code",
      "metadata": {
        "id": "p9aGtsRuqOJY",
        "colab": {
          "base_uri": "https://localhost:8080/",
          "height": 295
        },
        "outputId": "56ef8e68-7a77-413a-ae26-8559468a96a9"
      },
      "source": [
        "# Visualize the training curve\n",
        "plt.plot(history_3_dp.history['loss'])\n",
        "plt.plot(history_3_dp.history['val_loss'])\n",
        "plt.title('model loss')\n",
        "plt.ylabel('loss')\n",
        "plt.xlabel('epoch')\n",
        "plt.legend(['train', 'validation'], loc='upper right')\n",
        "plt.show()"
      ],
      "execution_count": 50,
      "outputs": [
        {
          "output_type": "display_data",
          "data": {
            "text/plain": [
              "<Figure size 432x288 with 1 Axes>"
            ],
            "image/png": "[encoded data removed]"
          },
          "metadata": {
            "needs_background": "light"
          }
        }
      ]
    },
    {
      "cell_type": "code",
      "metadata": {
        "id": "t4Jyfotz9B_8",
        "colab": {
          "base_uri": "https://localhost:8080/",
          "height": 295
        },
        "outputId": "209eb406-92c7-4441-a699-7ab360cef288"
      },
      "source": [
        "plt.plot(history_3_dp.history['accuracy'])\n",
        "plt.plot(history_3_dp.history['val_accuracy'])\n",
        "plt.title('model accuracy')\n",
        "plt.ylabel('accuracy')\n",
        "plt.xlabel('epoch')\n",
        "plt.legend(['train', 'validation'], loc='upper right')\n",
        "plt.show()"
      ],
      "execution_count": 51,
      "outputs": [
        {
          "output_type": "display_data",
          "data": {
            "text/plain": [
              "<Figure size 432x288 with 1 Axes>"
            ],
            "image/png": "[encoded data removed]"
          },
          "metadata": {
            "needs_background": "light"
          }
        }
      ]
    },
    {
      "cell_type": "markdown",
      "metadata": {
        "id": "dhPwcElqt1Df"
      },
      "source": [
        "We can now see the overfitting problem has been solved by adding dropout.  \n",
        "In order to improve accuracy, we could train the model for longer - more epochs (Hint: Try 20, 30, 40, 50, etc.)"
      ]
    }
  ]
}