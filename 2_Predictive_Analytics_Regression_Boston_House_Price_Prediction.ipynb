{
  "nbformat": 4,
  "nbformat_minor": 0,
  "metadata": {
    "colab": {
      "name": "2_Predictive Analytics Regression - Boston House Price Prediction.ipynb",
      "provenance": [],
      "collapsed_sections": [],
      "toc_visible": true
    },
    "kernelspec": {
      "name": "python3",
      "display_name": "Python 3"
    }
  },
  "cells": [
    {
      "cell_type": "markdown",
      "metadata": {
        "colab_type": "text",
        "id": "UAcxFlqAzByp"
      },
      "source": [
        "# Predictive Modeling - Regression"
      ]
    },
    {
      "cell_type": "markdown",
      "metadata": {
        "id": "wc3aoVBl-Wo0",
        "colab_type": "text"
      },
      "source": [
        "This workshop contains predictive analytics for house price prediction using Boston dataset.  \n",
        "\n",
        "Step 1: Predict house prices directly from the dataset using linear regression   \n",
        "1.  Load the Boston dataset.  \n",
        "2.  Check for missing values.  \n",
        "3.  Run Linear Regression Model without any data preprocessing.  \n",
        "  \n",
        "Step 2:  Pre-process data for improving accuracy of the predictive model    \n",
        "1. Explore the dataset using boxplots.   \n",
        "2. Standardize features due to findings from boxplots.  \n",
        "3. Run Linear regression model  \n",
        "4. Explore the dataset using correlation plots.  \n",
        "\n",
        "Step 3:   Neural Network Regression using pre-processed data    \n",
        "1. Run Neural Network to predict house price.  "
      ]
    },
    {
      "cell_type": "markdown",
      "metadata": {
        "id": "cBWer2oZz6N1",
        "colab_type": "text"
      },
      "source": [
        "## Step 1: Predict house prices using linear regression"
      ]
    },
    {
      "cell_type": "code",
      "metadata": {
        "id": "AW7QMtZb-eaq",
        "colab_type": "code",
        "colab": {}
      },
      "source": [
        "# Data Manipulation libraries\n",
        "import pandas as pd\n",
        "import numpy as np\n",
        "\n",
        "# Visualization libraries\n",
        "import matplotlib as mpl\n",
        "import matplotlib.pyplot as plt\n",
        "import seaborn as sns\n",
        "%matplotlib inline\n",
        "\n",
        "# Predictive Analytics models\n",
        "import sklearn\n",
        "from sklearn import linear_model\n",
        "from sklearn.metrics import mean_squared_error\n",
        "from sklearn.model_selection  import train_test_split"
      ],
      "execution_count": 0,
      "outputs": []
    },
    {
      "cell_type": "markdown",
      "metadata": {
        "id": "yDtDnejjUrWI",
        "colab_type": "text"
      },
      "source": [
        "Most common libraries are pre-installed in Google Colab environment. However, sometimes you would need libraries that are not installed. You can use \"!pip install (libname)\" to install such libraries."
      ]
    },
    {
      "cell_type": "code",
      "metadata": {
        "id": "fptNXxPoUnui",
        "colab_type": "code",
        "colab": {
          "base_uri": "https://localhost:8080/",
          "height": 51
        },
        "outputId": "39910ed6-7da5-4ec3-f02c-3738adef56a5"
      },
      "source": [
        "!pip install scipy"
      ],
      "execution_count": 2,
      "outputs": [
        {
          "output_type": "stream",
          "text": [
            "Requirement already satisfied: scipy in /usr/local/lib/python3.6/dist-packages (1.4.1)\n",
            "Requirement already satisfied: numpy>=1.13.3 in /usr/local/lib/python3.6/dist-packages (from scipy) (1.17.5)\n"
          ],
          "name": "stdout"
        }
      ]
    },
    {
      "cell_type": "markdown",
      "metadata": {
        "id": "kCNaGig_0now",
        "colab_type": "text"
      },
      "source": [
        "### Load the dataset"
      ]
    },
    {
      "cell_type": "code",
      "metadata": {
        "id": "dod-h3sF-ihE",
        "colab_type": "code",
        "colab": {}
      },
      "source": [
        "df = pd.read_csv('tp3_boston_data.csv')  # Load the dataset"
      ],
      "execution_count": 0,
      "outputs": []
    },
    {
      "cell_type": "code",
      "metadata": {
        "id": "_XgmlTQg-z9s",
        "colab_type": "code",
        "colab": {
          "base_uri": "https://localhost:8080/",
          "height": 68
        },
        "outputId": "676abfa6-fb7b-4c02-bc0e-57e3d9983fb1"
      },
      "source": [
        "print(df.keys())  # We print the value of the boston_dataset to understand what it contains. print(boston_dataset.keys()) gives"
      ],
      "execution_count": 4,
      "outputs": [
        {
          "output_type": "stream",
          "text": [
            "Index(['crim', 'zn', 'indus', 'chas', 'nox', 'rm', 'age', 'dis', 'rad', 'tax',\n",
            "       'ptratio', 'lstat', 'medv'],\n",
            "      dtype='object')\n"
          ],
          "name": "stdout"
        }
      ]
    },
    {
      "cell_type": "markdown",
      "metadata": {
        "id": "6RiFFtg8rLGk",
        "colab_type": "text"
      },
      "source": [
        "**Description of the dataset:**  \n",
        "CRIM - per capita crime rate by town  \n",
        "ZN - proportion of residential land zoned for lots over 25,000 sq.ft.  \n",
        "INDUS - proportion of non-retail business acres per town.  \n",
        "CHAS - Charles River dummy variable (1 if tract bounds river; 0 otherwise)  \n",
        "NOX - nitric oxides concentration (parts per 10 million)  \n",
        "RM - average number of rooms per dwelling  \n",
        "AGE - proportion of owner-occupied units built prior to 1940  \n",
        "DIS - weighted distances to five Boston employment centres  \n",
        "RAD - index of accessibility to radial highways  \n",
        "TAX - full-value property-tax rate per 10,000 dollars  \n",
        "PTRATIO - pupil-teacher ratio by town  \n",
        "LSTAT - % lower status of the population  \n",
        "MEDV - Median value of owner-occupied homes in $1000's (target)   "
      ]
    },
    {
      "cell_type": "code",
      "metadata": {
        "id": "O63NMQVw-3hV",
        "colab_type": "code",
        "colab": {}
      },
      "source": [
        "# split the dataset into predictors (df_x) and target variable (df_y)\n",
        "df_x = df[['crim', 'zn', 'indus', 'chas', 'nox', 'rm', 'age', 'dis', 'rad', 'tax', 'ptratio', 'lstat']]\n",
        "df_y = df[['medv']]"
      ],
      "execution_count": 0,
      "outputs": []
    },
    {
      "cell_type": "markdown",
      "metadata": {
        "id": "sHr3EF2i06MM",
        "colab_type": "text"
      },
      "source": [
        "### Check for missing values"
      ]
    },
    {
      "cell_type": "code",
      "metadata": {
        "id": "5aqxT0vb08uE",
        "colab_type": "code",
        "colab": {
          "base_uri": "https://localhost:8080/",
          "height": 238
        },
        "outputId": "56491697-16af-4958-be79-22d6cd3399e1"
      },
      "source": [
        "# Check for missing values\n",
        "df_x.isnull().sum()"
      ],
      "execution_count": 6,
      "outputs": [
        {
          "output_type": "execute_result",
          "data": {
            "text/plain": [
              "crim       0\n",
              "zn         0\n",
              "indus      0\n",
              "chas       0\n",
              "nox        0\n",
              "rm         0\n",
              "age        0\n",
              "dis        0\n",
              "rad        0\n",
              "tax        0\n",
              "ptratio    0\n",
              "lstat      0\n",
              "dtype: int64"
            ]
          },
          "metadata": {
            "tags": []
          },
          "execution_count": 6
        }
      ]
    },
    {
      "cell_type": "markdown",
      "metadata": {
        "id": "dPYnTwQ5SUsb",
        "colab_type": "text"
      },
      "source": [
        "No missing values for predictors."
      ]
    },
    {
      "cell_type": "code",
      "metadata": {
        "id": "ekb_n3hp1GmF",
        "colab_type": "code",
        "colab": {
          "base_uri": "https://localhost:8080/",
          "height": 51
        },
        "outputId": "1f393268-573b-42a8-dee0-684eeb03076b"
      },
      "source": [
        "df_y.isnull().sum()"
      ],
      "execution_count": 7,
      "outputs": [
        {
          "output_type": "execute_result",
          "data": {
            "text/plain": [
              "medv    0\n",
              "dtype: int64"
            ]
          },
          "metadata": {
            "tags": []
          },
          "execution_count": 7
        }
      ]
    },
    {
      "cell_type": "markdown",
      "metadata": {
        "id": "-GHQFOVX1KEC",
        "colab_type": "text"
      },
      "source": [
        "No missing values.  "
      ]
    },
    {
      "cell_type": "code",
      "metadata": {
        "id": "rfnfHqZv_PJs",
        "colab_type": "code",
        "colab": {
          "base_uri": "https://localhost:8080/",
          "height": 204
        },
        "outputId": "eede3d28-2e19-41a4-85cc-21e698b8b0b7"
      },
      "source": [
        "# Have a look at the predictors\n",
        "df_x.head()"
      ],
      "execution_count": 8,
      "outputs": [
        {
          "output_type": "execute_result",
          "data": {
            "text/html": [
              "<div>\n",
              "<style scoped>\n",
              "    .dataframe tbody tr th:only-of-type {\n",
              "        vertical-align: middle;\n",
              "    }\n",
              "\n",
              "    .dataframe tbody tr th {\n",
              "        vertical-align: top;\n",
              "    }\n",
              "\n",
              "    .dataframe thead th {\n",
              "        text-align: right;\n",
              "    }\n",
              "</style>\n",
              "<table border=\"1\" class=\"dataframe\">\n",
              "  <thead>\n",
              "    <tr style=\"text-align: right;\">\n",
              "      <th></th>\n",
              "      <th>crim</th>\n",
              "      <th>zn</th>\n",
              "      <th>indus</th>\n",
              "      <th>chas</th>\n",
              "      <th>nox</th>\n",
              "      <th>rm</th>\n",
              "      <th>age</th>\n",
              "      <th>dis</th>\n",
              "      <th>rad</th>\n",
              "      <th>tax</th>\n",
              "      <th>ptratio</th>\n",
              "      <th>lstat</th>\n",
              "    </tr>\n",
              "  </thead>\n",
              "  <tbody>\n",
              "    <tr>\n",
              "      <th>0</th>\n",
              "      <td>0.00632</td>\n",
              "      <td>18.0</td>\n",
              "      <td>2.31</td>\n",
              "      <td>0</td>\n",
              "      <td>0.538</td>\n",
              "      <td>6.575</td>\n",
              "      <td>65.2</td>\n",
              "      <td>4.0900</td>\n",
              "      <td>1</td>\n",
              "      <td>296</td>\n",
              "      <td>15.3</td>\n",
              "      <td>4.98</td>\n",
              "    </tr>\n",
              "    <tr>\n",
              "      <th>1</th>\n",
              "      <td>0.02731</td>\n",
              "      <td>0.0</td>\n",
              "      <td>7.07</td>\n",
              "      <td>0</td>\n",
              "      <td>0.469</td>\n",
              "      <td>6.421</td>\n",
              "      <td>78.9</td>\n",
              "      <td>4.9671</td>\n",
              "      <td>2</td>\n",
              "      <td>242</td>\n",
              "      <td>17.8</td>\n",
              "      <td>9.14</td>\n",
              "    </tr>\n",
              "    <tr>\n",
              "      <th>2</th>\n",
              "      <td>0.02729</td>\n",
              "      <td>0.0</td>\n",
              "      <td>7.07</td>\n",
              "      <td>0</td>\n",
              "      <td>0.469</td>\n",
              "      <td>7.185</td>\n",
              "      <td>61.1</td>\n",
              "      <td>4.9671</td>\n",
              "      <td>2</td>\n",
              "      <td>242</td>\n",
              "      <td>17.8</td>\n",
              "      <td>4.03</td>\n",
              "    </tr>\n",
              "    <tr>\n",
              "      <th>3</th>\n",
              "      <td>0.03237</td>\n",
              "      <td>0.0</td>\n",
              "      <td>2.18</td>\n",
              "      <td>0</td>\n",
              "      <td>0.458</td>\n",
              "      <td>6.998</td>\n",
              "      <td>45.8</td>\n",
              "      <td>6.0622</td>\n",
              "      <td>3</td>\n",
              "      <td>222</td>\n",
              "      <td>18.7</td>\n",
              "      <td>2.94</td>\n",
              "    </tr>\n",
              "    <tr>\n",
              "      <th>4</th>\n",
              "      <td>0.06905</td>\n",
              "      <td>0.0</td>\n",
              "      <td>2.18</td>\n",
              "      <td>0</td>\n",
              "      <td>0.458</td>\n",
              "      <td>7.147</td>\n",
              "      <td>54.2</td>\n",
              "      <td>6.0622</td>\n",
              "      <td>3</td>\n",
              "      <td>222</td>\n",
              "      <td>18.7</td>\n",
              "      <td>5.33</td>\n",
              "    </tr>\n",
              "  </tbody>\n",
              "</table>\n",
              "</div>"
            ],
            "text/plain": [
              "      crim    zn  indus  chas    nox  ...     dis  rad  tax  ptratio  lstat\n",
              "0  0.00632  18.0   2.31     0  0.538  ...  4.0900    1  296     15.3   4.98\n",
              "1  0.02731   0.0   7.07     0  0.469  ...  4.9671    2  242     17.8   9.14\n",
              "2  0.02729   0.0   7.07     0  0.469  ...  4.9671    2  242     17.8   4.03\n",
              "3  0.03237   0.0   2.18     0  0.458  ...  6.0622    3  222     18.7   2.94\n",
              "4  0.06905   0.0   2.18     0  0.458  ...  6.0622    3  222     18.7   5.33\n",
              "\n",
              "[5 rows x 12 columns]"
            ]
          },
          "metadata": {
            "tags": []
          },
          "execution_count": 8
        }
      ]
    },
    {
      "cell_type": "code",
      "metadata": {
        "id": "lt-lfnTEb6-E",
        "colab_type": "code",
        "colab": {
          "base_uri": "https://localhost:8080/",
          "height": 306
        },
        "outputId": "b340a9f9-dcc9-4007-a76e-48a99aa48e5f"
      },
      "source": [
        "df_x.info()"
      ],
      "execution_count": 9,
      "outputs": [
        {
          "output_type": "stream",
          "text": [
            "<class 'pandas.core.frame.DataFrame'>\n",
            "RangeIndex: 506 entries, 0 to 505\n",
            "Data columns (total 12 columns):\n",
            "crim       506 non-null float64\n",
            "zn         506 non-null float64\n",
            "indus      506 non-null float64\n",
            "chas       506 non-null int64\n",
            "nox        506 non-null float64\n",
            "rm         506 non-null float64\n",
            "age        506 non-null float64\n",
            "dis        506 non-null float64\n",
            "rad        506 non-null int64\n",
            "tax        506 non-null int64\n",
            "ptratio    506 non-null float64\n",
            "lstat      506 non-null float64\n",
            "dtypes: float64(9), int64(3)\n",
            "memory usage: 47.6 KB\n"
          ],
          "name": "stdout"
        }
      ]
    },
    {
      "cell_type": "markdown",
      "metadata": {
        "id": "pXs6RfGe1Uyo",
        "colab_type": "text"
      },
      "source": [
        "### Split the data"
      ]
    },
    {
      "cell_type": "code",
      "metadata": {
        "id": "x_WYOR8h_QWd",
        "colab_type": "code",
        "colab": {}
      },
      "source": [
        "X_train, X_test, Y_train, Y_test = train_test_split(df_x, df_y, test_size = 0.33, random_state = 5)"
      ],
      "execution_count": 0,
      "outputs": []
    },
    {
      "cell_type": "markdown",
      "metadata": {
        "id": "V_hr87CD1Zlh",
        "colab_type": "text"
      },
      "source": [
        "### Linear regression modeling"
      ]
    },
    {
      "cell_type": "markdown",
      "metadata": {
        "id": "KyXFJXYwo4DD",
        "colab_type": "text"
      },
      "source": [
        "Method API: https://scikit-learn.org/stable/modules/generated/sklearn.linear_model.LinearRegression.html"
      ]
    },
    {
      "cell_type": "code",
      "metadata": {
        "id": "yThjltzP_Wo9",
        "colab_type": "code",
        "colab": {}
      },
      "source": [
        "reg = linear_model.LinearRegression()\n",
        "reg.fit(X_train,Y_train)\n",
        "Y_predict = reg.predict(X_test)"
      ],
      "execution_count": 0,
      "outputs": []
    },
    {
      "cell_type": "code",
      "metadata": {
        "id": "hgmjZF0W_bME",
        "colab_type": "code",
        "colab": {
          "base_uri": "https://localhost:8080/",
          "height": 295
        },
        "outputId": "94ee5ef5-6065-43d2-eed6-0b918d482f6c"
      },
      "source": [
        "plt.scatter(Y_test, Y_predict, color='blue')\n",
        "plt.xlabel(\"Prices\")\n",
        "plt.ylabel(\"Predicted prices\")\n",
        "plt.title(\"Prices vs Predicted prices\")\n",
        "plt.show()"
      ],
      "execution_count": 12,
      "outputs": [
        {
          "output_type": "display_data",
          "data": {
            "image/png": "[encoded data removed]",
            "text/plain": [
              "<Figure size 432x288 with 1 Axes>"
            ]
          },
          "metadata": {
            "tags": []
          }
        }
      ]
    },
    {
      "cell_type": "code",
      "metadata": {
        "id": "adPMWCTY_gP0",
        "colab_type": "code",
        "colab": {
          "base_uri": "https://localhost:8080/",
          "height": 51
        },
        "outputId": "de5bdb54-180f-4da2-d1ca-b6617916b4b3"
      },
      "source": [
        "# Calculate \n",
        "error = np.sqrt(np.mean((Y_predict - Y_test)**2))\n",
        "print('Root Mean Squared Error: ' + str(error))"
      ],
      "execution_count": 13,
      "outputs": [
        {
          "output_type": "stream",
          "text": [
            "Root Mean Squared Error: medv    5.309472\n",
            "dtype: float64\n"
          ],
          "name": "stdout"
        }
      ]
    },
    {
      "cell_type": "code",
      "metadata": {
        "id": "B8Mg50bJ_kH1",
        "colab_type": "code",
        "colab": {
          "base_uri": "https://localhost:8080/",
          "height": 34
        },
        "outputId": "0c9ee0ac-b361-4c41-d036-b89642f7f92a"
      },
      "source": [
        "error_1 = np.sqrt(mean_squared_error(Y_test, Y_predict))\n",
        "print('Root Mean Squared Error: ' + str(error_1))"
      ],
      "execution_count": 14,
      "outputs": [
        {
          "output_type": "stream",
          "text": [
            "Root Mean Squared Error: 5.309471828719486\n"
          ],
          "name": "stdout"
        }
      ]
    },
    {
      "cell_type": "markdown",
      "metadata": {
        "id": "7hRykIz71gAf",
        "colab_type": "text"
      },
      "source": [
        "## Step 2: Pre-process data"
      ]
    },
    {
      "cell_type": "markdown",
      "metadata": {
        "id": "vTpX1vNW10Do",
        "colab_type": "text"
      },
      "source": [
        "### Box plot analysis"
      ]
    },
    {
      "cell_type": "code",
      "metadata": {
        "id": "8jQJeGIReqO_",
        "colab_type": "code",
        "colab": {
          "base_uri": "https://localhost:8080/",
          "height": 282
        },
        "outputId": "1c9c60cd-2717-4328-f5ae-dd359daedc59"
      },
      "source": [
        "# Box plot analysis\n",
        "df_x.boxplot()"
      ],
      "execution_count": 15,
      "outputs": [
        {
          "output_type": "execute_result",
          "data": {
            "text/plain": [
              "<matplotlib.axes._subplots.AxesSubplot at 0x7f77ded82550>"
            ]
          },
          "metadata": {
            "tags": []
          },
          "execution_count": 15
        },
        {
          "output_type": "display_data",
          "data": {
            "image/png": "[encoded data removed]",
            "text/plain": [
              "<Figure size 432x288 with 1 Axes>"
            ]
          },
          "metadata": {
            "tags": []
          }
        }
      ]
    },
    {
      "cell_type": "markdown",
      "metadata": {
        "id": "bgWI1CFYgmdS",
        "colab_type": "text"
      },
      "source": [
        "Data dispersion is extremely different among different features. Thus, scaling/standardization is required."
      ]
    },
    {
      "cell_type": "markdown",
      "metadata": {
        "id": "Yezu8Dng13Dp",
        "colab_type": "text"
      },
      "source": [
        "### Data Standardization"
      ]
    },
    {
      "cell_type": "code",
      "metadata": {
        "id": "0hEglTmGflZG",
        "colab_type": "code",
        "outputId": "9a7b9f8e-8b4c-4a47-abc7-0ccf50fcf587",
        "colab": {
          "base_uri": "https://localhost:8080/",
          "height": 34
        }
      },
      "source": [
        "# Use standard scaling from sklearn library\n",
        "from sklearn.preprocessing import StandardScaler\n",
        "scaler = StandardScaler()\n",
        "scaler.fit(df_x)"
      ],
      "execution_count": 16,
      "outputs": [
        {
          "output_type": "execute_result",
          "data": {
            "text/plain": [
              "StandardScaler(copy=True, with_mean=True, with_std=True)"
            ]
          },
          "metadata": {
            "tags": []
          },
          "execution_count": 16
        }
      ]
    },
    {
      "cell_type": "code",
      "metadata": {
        "id": "4AP375gGg_44",
        "colab_type": "code",
        "colab": {}
      },
      "source": [
        "df_x_scaled = scaler.transform(df_x)\n",
        "df_x_scaled = pd.DataFrame(df_x_scaled, columns=df_x.columns)"
      ],
      "execution_count": 0,
      "outputs": []
    },
    {
      "cell_type": "code",
      "metadata": {
        "id": "-d0KaBibhKpM",
        "colab_type": "code",
        "colab": {
          "base_uri": "https://localhost:8080/",
          "height": 282
        },
        "outputId": "a3d04fa1-e9cc-4e12-a666-95dd0ac65d2d"
      },
      "source": [
        "# Show boxplot for scaled predictors\n",
        "df_x_scaled.boxplot()"
      ],
      "execution_count": 18,
      "outputs": [
        {
          "output_type": "execute_result",
          "data": {
            "text/plain": [
              "<matplotlib.axes._subplots.AxesSubplot at 0x7f77dac71550>"
            ]
          },
          "metadata": {
            "tags": []
          },
          "execution_count": 18
        },
        {
          "output_type": "display_data",
          "data": {
            "image/png": "[encoded data removed]",
            "text/plain": [
              "<Figure size 432x288 with 1 Axes>"
            ]
          },
          "metadata": {
            "tags": []
          }
        }
      ]
    },
    {
      "cell_type": "markdown",
      "metadata": {
        "id": "l9Lsh0Wj186C",
        "colab_type": "text"
      },
      "source": [
        "### Regression Modeling"
      ]
    },
    {
      "cell_type": "code",
      "metadata": {
        "id": "eH9X1xlSihV9",
        "colab_type": "code",
        "colab": {}
      },
      "source": [
        "# Run the predictive model to see whether accuracy has improved.\n",
        "X_train, X_test, Y_train, Y_test = train_test_split(df_x_scaled, df_y, test_size = 0.33, random_state = 5)"
      ],
      "execution_count": 0,
      "outputs": []
    },
    {
      "cell_type": "code",
      "metadata": {
        "id": "90GHM-cCisEO",
        "colab_type": "code",
        "colab": {}
      },
      "source": [
        "reg = linear_model.LinearRegression()\n",
        "reg.fit(X_train,Y_train)\n",
        "Y_predict = reg.predict(X_test)"
      ],
      "execution_count": 0,
      "outputs": []
    },
    {
      "cell_type": "code",
      "metadata": {
        "id": "7sfbrg3DivVm",
        "colab_type": "code",
        "colab": {
          "base_uri": "https://localhost:8080/",
          "height": 295
        },
        "outputId": "4e7037c5-d623-4dfd-cd57-f56aeecf53f4"
      },
      "source": [
        "plt.scatter(Y_test, Y_predict, color='blue')\n",
        "plt.xlabel(\"Prices\")\n",
        "plt.ylabel(\"Predicted prices\")\n",
        "plt.title(\"Prices vs Predicted prices\")\n",
        "plt.show()"
      ],
      "execution_count": 21,
      "outputs": [
        {
          "output_type": "display_data",
          "data": {
            "image/png": "[encoded data removed]",
            "text/plain": [
              "<Figure size 432x288 with 1 Axes>"
            ]
          },
          "metadata": {
            "tags": []
          }
        }
      ]
    },
    {
      "cell_type": "code",
      "metadata": {
        "id": "23VX1P2xivnj",
        "colab_type": "code",
        "colab": {
          "base_uri": "https://localhost:8080/",
          "height": 34
        },
        "outputId": "390fc684-7469-408c-a535-e346e337bad5"
      },
      "source": [
        "error_2 = np.sqrt(mean_squared_error(Y_test, Y_predict))\n",
        "print('Root Mean Squared Error: ' + str(error_2))"
      ],
      "execution_count": 22,
      "outputs": [
        {
          "output_type": "stream",
          "text": [
            "Root Mean Squared Error: 5.309471828719491\n"
          ],
          "name": "stdout"
        }
      ]
    },
    {
      "cell_type": "markdown",
      "metadata": {
        "id": "F8Iqoe9CjR3_",
        "colab_type": "text"
      },
      "source": [
        "Attempt 1 (original data) RMSE: 5.309471828719486    \n",
        "Attempt 2 (with scaling) RMSE: 5.309471828719491  \n",
        "We do not see any difference in scaling in this case."
      ]
    },
    {
      "cell_type": "markdown",
      "metadata": {
        "id": "IM0MLFfK2AVA",
        "colab_type": "text"
      },
      "source": [
        "### Correlation Analaysis"
      ]
    },
    {
      "cell_type": "code",
      "metadata": {
        "colab_type": "code",
        "id": "GUMNFzWeX5Om",
        "colab": {
          "base_uri": "https://localhost:8080/",
          "height": 294
        },
        "outputId": "39d49f15-10c8-43f7-afcd-91a01d2c9b5f"
      },
      "source": [
        "# Correlation plot\n",
        "corr = df_x_scaled.corr()\n",
        "fig = plt.figure()\n",
        "ax = fig.add_subplot(111)\n",
        "cax = ax.matshow(corr,cmap='coolwarm', vmin=-1, vmax=1)\n",
        "fig.colorbar(cax)\n",
        "ticks = np.arange(0,len(df_x_scaled.columns),1)\n",
        "ax.set_xticks(ticks)\n",
        "plt.xticks(rotation=90)\n",
        "ax.set_yticks(ticks)\n",
        "ax.set_xticklabels(df_x_scaled.columns)\n",
        "ax.set_yticklabels(df_x_scaled.columns)\n",
        "plt.show()"
      ],
      "execution_count": 23,
      "outputs": [
        {
          "output_type": "display_data",
          "data": {
            "image/png": "[encoded data removed]",
            "text/plain": [
              "<Figure size 432x288 with 2 Axes>"
            ]
          },
          "metadata": {
            "tags": []
          }
        }
      ]
    },
    {
      "cell_type": "markdown",
      "metadata": {
        "id": "cuEC-n542GTK",
        "colab_type": "text"
      },
      "source": [
        "## Step 3: Neural Networks"
      ]
    },
    {
      "cell_type": "markdown",
      "metadata": {
        "id": "ulJPc0xaTcU4",
        "colab_type": "text"
      },
      "source": [
        "Model an advanced predictive model using standard neural network."
      ]
    },
    {
      "cell_type": "code",
      "metadata": {
        "id": "tUykC1ynjrm4",
        "colab_type": "code",
        "colab": {}
      },
      "source": [
        "from sklearn.neural_network import MLPRegressor"
      ],
      "execution_count": 0,
      "outputs": []
    },
    {
      "cell_type": "markdown",
      "metadata": {
        "id": "FETgZhpPkDjS",
        "colab_type": "text"
      },
      "source": [
        "Method API: https://scikit-learn.org/stable/modules/generated/sklearn.neural_network.MLPRegressor.html"
      ]
    },
    {
      "cell_type": "code",
      "metadata": {
        "id": "vQAgbKxUkFui",
        "colab_type": "code",
        "colab": {}
      },
      "source": [
        "mlp = MLPRegressor(hidden_layer_sizes=(60), max_iter=1000)"
      ],
      "execution_count": 0,
      "outputs": []
    },
    {
      "cell_type": "code",
      "metadata": {
        "id": "KCYJ-EzQT-vO",
        "colab_type": "code",
        "colab": {}
      },
      "source": [
        "mlp.fit(X_train, Y_train)"
      ],
      "execution_count": 0,
      "outputs": []
    },
    {
      "cell_type": "code",
      "metadata": {
        "id": "kiDm74PIklhz",
        "colab_type": "code",
        "colab": {}
      },
      "source": [
        "Y_predict = mlp.predict(X_test)"
      ],
      "execution_count": 0,
      "outputs": []
    },
    {
      "cell_type": "code",
      "metadata": {
        "id": "NCapva4mlKdt",
        "colab_type": "code",
        "colab": {
          "base_uri": "https://localhost:8080/",
          "height": 295
        },
        "outputId": "a6e446dd-ca09-40b2-be19-58895942b792"
      },
      "source": [
        "# Plot the predicted values\n",
        "plt.scatter(Y_test, Y_predict, color='blue')\n",
        "plt.xlabel(\"Prices\")\n",
        "plt.ylabel(\"Predicted prices\")\n",
        "plt.title(\"Prices vs Predicted prices\")\n",
        "plt.show()"
      ],
      "execution_count": 28,
      "outputs": [
        {
          "output_type": "display_data",
          "data": {
            "image/png": "[encoded data removed]",
            "text/plain": [
              "<Figure size 432x288 with 1 Axes>"
            ]
          },
          "metadata": {
            "tags": []
          }
        }
      ]
    },
    {
      "cell_type": "code",
      "metadata": {
        "id": "JGCh5QDqmfXl",
        "colab_type": "code",
        "colab": {
          "base_uri": "https://localhost:8080/",
          "height": 34
        },
        "outputId": "8118dfee-55f0-45b5-f77d-6f75f96bcb32"
      },
      "source": [
        "error_3 = np.sqrt(mean_squared_error(Y_test, Y_predict))\n",
        "print('Root Mean Squared Error: ' + str(error_3))"
      ],
      "execution_count": 29,
      "outputs": [
        {
          "output_type": "stream",
          "text": [
            "Root Mean Squared Error: 3.6198115586834243\n"
          ],
          "name": "stdout"
        }
      ]
    },
    {
      "cell_type": "code",
      "metadata": {
        "id": "hsAVZVmSnmNe",
        "colab_type": "code",
        "colab": {
          "base_uri": "https://localhost:8080/",
          "height": 281
        },
        "outputId": "d33f61c6-a298-41c1-ffc5-128b77e78681"
      },
      "source": [
        "models = ['LR1', 'LR2', 'ANN']\n",
        "y_pos = np.arange(len(models))\n",
        "performance = [error_1, error_2, error_3]\n",
        " \n",
        "plt.bar(y_pos, performance, align='center', alpha=0.5)\n",
        "plt.xticks(y_pos, models)\n",
        "plt.ylabel('RMSE (Error)')\n",
        "plt.title('Evaluation for house price prediction')\n",
        " \n",
        "plt.show()"
      ],
      "execution_count": 30,
      "outputs": [
        {
          "output_type": "display_data",
          "data": {
            "image/png": "[encoded data removed]",
            "text/plain": [
              "<Figure size 432x288 with 1 Axes>"
            ]
          },
          "metadata": {
            "tags": []
          }
        }
      ]
    },
    {
      "cell_type": "markdown",
      "metadata": {
        "id": "QAYeMKDZWOlm",
        "colab_type": "text"
      },
      "source": [
        "## Exercise  \n",
        "We can improve the accuracy by focusing on the data pre-processing and feature engineering. On approach is to transform skewed data (as you already exposed in Predictive Analytics).  \n",
        "Therefore, as an expercise you can attempt to visualize the data skewness of the dataset, and transform the data accordingly (e.g., log or square transformation.)  \n",
        "An example can be found from this medium article on [Transforming Skewed Data for Machine Learning](https://medium.com/@ODSC/transforming-skewed-data-for-machine-learning-90e6cc364b0).  \n",
        "Inition few steps are as follows:\n"
      ]
    },
    {
      "cell_type": "code",
      "metadata": {
        "id": "KUfyAK4EWSaG",
        "colab_type": "code",
        "colab": {
          "base_uri": "https://localhost:8080/",
          "height": 502
        },
        "outputId": "e8b7ba65-f513-4713-f168-8850ec8d2f37"
      },
      "source": [
        "# Visualize the data discribtion using pandas dataframe:\n",
        "df_x.hist()"
      ],
      "execution_count": 31,
      "outputs": [
        {
          "output_type": "execute_result",
          "data": {
            "text/plain": [
              "array([[<matplotlib.axes._subplots.AxesSubplot object at 0x7f77da8cf160>,\n",
              "        <matplotlib.axes._subplots.AxesSubplot object at 0x7f77da851240>,\n",
              "        <matplotlib.axes._subplots.AxesSubplot object at 0x7f77da8017b8>],\n",
              "       [<matplotlib.axes._subplots.AxesSubplot object at 0x7f77da833d68>,\n",
              "        <matplotlib.axes._subplots.AxesSubplot object at 0x7f77da7f1358>,\n",
              "        <matplotlib.axes._subplots.AxesSubplot object at 0x7f77da7a1908>],\n",
              "       [<matplotlib.axes._subplots.AxesSubplot object at 0x7f77da89bfd0>,\n",
              "        <matplotlib.axes._subplots.AxesSubplot object at 0x7f77da90fe10>,\n",
              "        <matplotlib.axes._subplots.AxesSubplot object at 0x7f77da90fe48>],\n",
              "       [<matplotlib.axes._subplots.AxesSubplot object at 0x7f77dc0682e8>,\n",
              "        <matplotlib.axes._subplots.AxesSubplot object at 0x7f77dc072320>,\n",
              "        <matplotlib.axes._subplots.AxesSubplot object at 0x7f77ded24358>]],\n",
              "      dtype=object)"
            ]
          },
          "metadata": {
            "tags": []
          },
          "execution_count": 31
        },
        {
          "output_type": "display_data",
          "data": {
            "image/png": "[encoded data removed]",
            "text/plain": [
              "<Figure size 432x288 with 12 Axes>"
            ]
          },
          "metadata": {
            "tags": []
          }
        }
      ]
    },
    {
      "cell_type": "markdown",
      "metadata": {
        "id": "I9XGweG1Ydjh",
        "colab_type": "text"
      },
      "source": [
        "Calculate skewness for all the continous variables."
      ]
    },
    {
      "cell_type": "code",
      "metadata": {
        "id": "3n9Hlg24XS6P",
        "colab_type": "code",
        "colab": {
          "base_uri": "https://localhost:8080/",
          "height": 238
        },
        "outputId": "9c83dcf8-f86e-4ffb-ba54-bfc893e59566"
      },
      "source": [
        "# determine index for continouse variables\n",
        "cts_vars = df_x.dtypes[df_x.dtypes != 'object'].index\n",
        "\n",
        "# Calculate the skewness and then sort\n",
        "skew_vars = df_x[cts_vars].skew().sort_values(ascending=False)\n",
        "print(skew_vars)"
      ],
      "execution_count": 32,
      "outputs": [
        {
          "output_type": "stream",
          "text": [
            "crim       5.223149\n",
            "chas       3.405904\n",
            "zn         2.225666\n",
            "dis        1.011781\n",
            "rad        1.004815\n",
            "lstat      0.906460\n",
            "nox        0.729308\n",
            "tax        0.669956\n",
            "rm         0.403612\n",
            "indus      0.295022\n",
            "age       -0.598963\n",
            "ptratio   -0.802325\n",
            "dtype: float64\n"
          ],
          "name": "stdout"
        }
      ]
    },
    {
      "cell_type": "markdown",
      "metadata": {
        "id": "z9AthMjWZTI-",
        "colab_type": "text"
      },
      "source": [
        "We can address skewed variables by transforming them (i.e. applying the same function to each value). Common transformations include square root (sqrt(x)), logarithmic (log(x)), and reciprocal (1/x)."
      ]
    },
    {
      "cell_type": "code",
      "metadata": {
        "id": "UqWmNnY-ZDfl",
        "colab_type": "code",
        "colab": {
          "base_uri": "https://localhost:8080/",
          "height": 296
        },
        "outputId": "8c8ae700-961d-4334-f8c4-97d027564bec"
      },
      "source": [
        "sns.distplot(df_x['crim'])"
      ],
      "execution_count": 33,
      "outputs": [
        {
          "output_type": "execute_result",
          "data": {
            "text/plain": [
              "<matplotlib.axes._subplots.AxesSubplot at 0x7f77da5f5a20>"
            ]
          },
          "metadata": {
            "tags": []
          },
          "execution_count": 33
        },
        {
          "output_type": "display_data",
          "data": {
            "image/png": "[encoded data removed]",
            "text/plain": [
              "<Figure size 432x288 with 1 Axes>"
            ]
          },
          "metadata": {
            "tags": []
          }
        }
      ]
    },
    {
      "cell_type": "code",
      "metadata": {
        "id": "z_aTvQpCZmOV",
        "colab_type": "code",
        "colab": {}
      },
      "source": [
        "crim_var = df_x['crim']"
      ],
      "execution_count": 0,
      "outputs": []
    },
    {
      "cell_type": "markdown",
      "metadata": {
        "id": "u5QTgkImaKeH",
        "colab_type": "text"
      },
      "source": [
        "**Square root transformation.**"
      ]
    },
    {
      "cell_type": "code",
      "metadata": {
        "id": "gMcz4PJnZyC6",
        "colab_type": "code",
        "colab": {}
      },
      "source": [
        "sqrt_crim = crim_var ** (1/2)"
      ],
      "execution_count": 0,
      "outputs": []
    },
    {
      "cell_type": "code",
      "metadata": {
        "id": "qoYzHxedZ5n_",
        "colab_type": "code",
        "colab": {
          "base_uri": "https://localhost:8080/",
          "height": 296
        },
        "outputId": "e204824e-a8ef-4808-d75e-a2076e601cab"
      },
      "source": [
        "sns.distplot(sqrt_crim)"
      ],
      "execution_count": 36,
      "outputs": [
        {
          "output_type": "execute_result",
          "data": {
            "text/plain": [
              "<matplotlib.axes._subplots.AxesSubplot at 0x7f77da486f98>"
            ]
          },
          "metadata": {
            "tags": []
          },
          "execution_count": 36
        },
        {
          "output_type": "display_data",
          "data": {
            "image/png": "[encoded data removed]",
            "text/plain": [
              "<Figure size 432x288 with 1 Axes>"
            ]
          },
          "metadata": {
            "tags": []
          }
        }
      ]
    },
    {
      "cell_type": "markdown",
      "metadata": {
        "id": "7GkRhcD5aNvm",
        "colab_type": "text"
      },
      "source": [
        "**Log Transformation.**"
      ]
    },
    {
      "cell_type": "code",
      "metadata": {
        "id": "fMWd7LbZZ9mV",
        "colab_type": "code",
        "colab": {}
      },
      "source": [
        "log_crim = np.log(crim_var)"
      ],
      "execution_count": 0,
      "outputs": []
    },
    {
      "cell_type": "code",
      "metadata": {
        "id": "xOocagOyaWsw",
        "colab_type": "code",
        "colab": {
          "base_uri": "https://localhost:8080/",
          "height": 296
        },
        "outputId": "a4280e26-dcd1-4c5e-824c-60a2804dfc33"
      },
      "source": [
        "sns.distplot(log_crim)"
      ],
      "execution_count": 38,
      "outputs": [
        {
          "output_type": "execute_result",
          "data": {
            "text/plain": [
              "<matplotlib.axes._subplots.AxesSubplot at 0x7f77da3d2da0>"
            ]
          },
          "metadata": {
            "tags": []
          },
          "execution_count": 38
        },
        {
          "output_type": "display_data",
          "data": {
            "image/png": "[encoded data removed]",
            "text/plain": [
              "<Figure size 432x288 with 1 Axes>"
            ]
          },
          "metadata": {
            "tags": []
          }
        }
      ]
    },
    {
      "cell_type": "markdown",
      "metadata": {
        "id": "U-U74Sp1adTT",
        "colab_type": "text"
      },
      "source": [
        "The log transformation seems to have de-skewed, as the distribution of transformed crime is the most symmetrical. \n",
        "\n",
        "Therefore, we can construct the new variable (i.e., log_crim) instead of crim.\n"
      ]
    },
    {
      "cell_type": "code",
      "metadata": {
        "id": "3ef0c7SoaZPN",
        "colab_type": "code",
        "colab": {}
      },
      "source": [
        "# create a new varaiable for log_crim\n",
        "df_x['log_crim'] = log_crim"
      ],
      "execution_count": 0,
      "outputs": []
    },
    {
      "cell_type": "markdown",
      "metadata": {
        "id": "ACWUDRMlbADT",
        "colab_type": "text"
      },
      "source": [
        "Important: Once you create the new variable, make sure delete the original variable when using the dataframe as a predictor. (Discuss why?)"
      ]
    },
    {
      "cell_type": "code",
      "metadata": {
        "id": "vtiMXkSGa_y4",
        "colab_type": "code",
        "colab": {}
      },
      "source": [
        "del df_x['crim']"
      ],
      "execution_count": 0,
      "outputs": []
    },
    {
      "cell_type": "code",
      "metadata": {
        "id": "B3CYc2ZQa55S",
        "colab_type": "code",
        "colab": {
          "base_uri": "https://localhost:8080/",
          "height": 68
        },
        "outputId": "9a2caa52-d52d-47c7-f501-c565bb0eb88d"
      },
      "source": [
        "df_x.keys()"
      ],
      "execution_count": 41,
      "outputs": [
        {
          "output_type": "execute_result",
          "data": {
            "text/plain": [
              "Index(['zn', 'indus', 'chas', 'nox', 'rm', 'age', 'dis', 'rad', 'tax',\n",
              "       'ptratio', 'lstat', 'log_crim'],\n",
              "      dtype='object')"
            ]
          },
          "metadata": {
            "tags": []
          },
          "execution_count": 41
        }
      ]
    }
  ]
}