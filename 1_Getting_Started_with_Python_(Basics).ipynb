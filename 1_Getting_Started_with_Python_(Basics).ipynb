{
  "nbformat": 4,
  "nbformat_minor": 0,
  "metadata": {
    "colab": {
      "name": "1_Getting Started with Python (Basics).ipynb",
      "provenance": [],
      "collapsed_sections": [],
      "toc_visible": true
    },
    "kernelspec": {
      "name": "python3",
      "display_name": "Python 3"
    }
  },
  "cells": [
    {
      "cell_type": "markdown",
      "metadata": {
        "id": "yEPIrKRwwfgE",
        "colab_type": "text"
      },
      "source": [
        "# Getting Started with Python\n"
      ]
    },
    {
      "cell_type": "markdown",
      "metadata": {
        "id": "tB5Z_ffFym-G",
        "colab_type": "text"
      },
      "source": [
        "Welcome to Python Basics. \n",
        "\n",
        "\n",
        "Instruction: Click on Run (Play icon) or press [Shift key] + [Enter key] together to execute the command."
      ]
    },
    {
      "cell_type": "code",
      "metadata": {
        "id": "yG7gUje3xcGp",
        "colab_type": "code",
        "colab": {}
      },
      "source": [
        "print(\"Hello, Business Analytics with Python!\")"
      ],
      "execution_count": 0,
      "outputs": []
    },
    {
      "cell_type": "code",
      "metadata": {
        "id": "6Loed1mfy0DI",
        "colab_type": "code",
        "colab": {}
      },
      "source": [
        "# This is a comment"
      ],
      "execution_count": 0,
      "outputs": []
    },
    {
      "cell_type": "markdown",
      "metadata": {
        "id": "C8cPLUeSwo7z",
        "colab_type": "text"
      },
      "source": [
        "## Variables"
      ]
    },
    {
      "cell_type": "markdown",
      "metadata": {
        "id": "PDHUCGe1zUDN",
        "colab_type": "text"
      },
      "source": [
        "A variable can have a short name (like x and y) or a more descriptive name (age, carname, total_volume).   \n",
        "Rules for Python variables:  \n",
        "1. A variable name must start with a letter or the underscore character  \n",
        "2. A variable name cannot start with a number  \n",
        "3. A variable name can only contain alpha-numeric characters and underscores (A-z, 0-9, and _ )  \n",
        "4. Variable names are case-sensitive (age, Age and AGE are three different variables)  "
      ]
    },
    {
      "cell_type": "code",
      "metadata": {
        "id": "OaBMpjN-y_M8",
        "colab_type": "code",
        "colab": {}
      },
      "source": [
        "# Creating Variables\n",
        "x = 5\n",
        "y = 'John and Jane Doe'\n",
        "z = 9.792\n",
        "print(x, y, z)\n",
        "print(type(x), type(y), type(z))"
      ],
      "execution_count": 0,
      "outputs": []
    },
    {
      "cell_type": "code",
      "metadata": {
        "id": "pkfYTCfWzSev",
        "colab_type": "code",
        "colab": {}
      },
      "source": [
        "# Casting / Changing variable type\n",
        "x = float(5)\n",
        "y = int(\"45\")\n",
        "z = int(9.785)\n",
        "a = str(5)\n",
        "print(x, y, z, a)\n",
        "print(type(x), type(y), type(z), type(a))"
      ],
      "execution_count": 0,
      "outputs": []
    },
    {
      "cell_type": "code",
      "metadata": {
        "id": "f26GuyS9z8SK",
        "colab_type": "code",
        "colab": {}
      },
      "source": [
        "# String operations\n",
        "\n",
        "a = \"Hello, World!\"\n",
        "print(a[1])\n",
        "\n",
        "b = \"Hello, World!\"\n",
        "print(b[2:5])  # indexing starts with 0\n",
        "\n",
        "c = \"   Hello, World!   \" # string with head and tail whitespaces\n",
        "print(c.strip())\n",
        "\n",
        "a = \"Hello, World!\"\n",
        "print('Length:', len(a))\n",
        "\n",
        "a = \"Hello, World!\"\n",
        "print(a.lower())\n",
        "\n",
        "a = \"Hello, World!\"\n",
        "print(a.upper())\n",
        "\n",
        "a = \"Hello, World!\"\n",
        "print(a.replace(\"H\", \"J\"))\n",
        "\n",
        "a = \"Hello, World!\"\n",
        "print(a.split(\",\")) # returns ['Hello', ' World!']"
      ],
      "execution_count": 0,
      "outputs": []
    },
    {
      "cell_type": "markdown",
      "metadata": {
        "id": "CEjQBR4PwuT1",
        "colab_type": "text"
      },
      "source": [
        "## Python Operators"
      ]
    },
    {
      "cell_type": "markdown",
      "metadata": {
        "id": "4qsx2B0t1Gw-",
        "colab_type": "text"
      },
      "source": [
        "1. Arithmetic operators"
      ]
    },
    {
      "cell_type": "code",
      "metadata": {
        "id": "lcdprWP80Z27",
        "colab_type": "code",
        "colab": {}
      },
      "source": [
        "x = 29\n",
        "y = 6"
      ],
      "execution_count": 0,
      "outputs": []
    },
    {
      "cell_type": "code",
      "metadata": {
        "id": "xLyQoGJp1VDF",
        "colab_type": "code",
        "colab": {}
      },
      "source": [
        "# Addition\n",
        "z = x + y\n",
        "print(z)"
      ],
      "execution_count": 0,
      "outputs": []
    },
    {
      "cell_type": "code",
      "metadata": {
        "id": "ILRg9ONF1cKM",
        "colab_type": "code",
        "colab": {}
      },
      "source": [
        "# Substraction\n",
        "z = x - y\n",
        "print(z)"
      ],
      "execution_count": 0,
      "outputs": []
    },
    {
      "cell_type": "code",
      "metadata": {
        "id": "kSMsYpsx1fWy",
        "colab_type": "code",
        "colab": {}
      },
      "source": [
        "# Multiplication\n",
        "z = x * y\n",
        "print(z)"
      ],
      "execution_count": 0,
      "outputs": []
    },
    {
      "cell_type": "code",
      "metadata": {
        "id": "pkP_ReZu1txW",
        "colab_type": "code",
        "colab": {}
      },
      "source": [
        "# Division\n",
        "z = x / y\n",
        "print(z)"
      ],
      "execution_count": 0,
      "outputs": []
    },
    {
      "cell_type": "code",
      "metadata": {
        "id": "DBVjGy0-1x53",
        "colab_type": "code",
        "colab": {}
      },
      "source": [
        "# Modules\n",
        "z = 10 % 3\n",
        "print(z)"
      ],
      "execution_count": 0,
      "outputs": []
    },
    {
      "cell_type": "code",
      "metadata": {
        "id": "p63EQhzU150f",
        "colab_type": "code",
        "colab": {}
      },
      "source": [
        "# Exponentiation\n",
        "z = 4 ** 2\n",
        "print(z)"
      ],
      "execution_count": 0,
      "outputs": []
    },
    {
      "cell_type": "markdown",
      "metadata": {
        "id": "82fccz1f2Gjj",
        "colab_type": "text"
      },
      "source": [
        "2. Comparison Operators"
      ]
    },
    {
      "cell_type": "code",
      "metadata": {
        "id": "m6tJmid62BCK",
        "colab_type": "code",
        "colab": {}
      },
      "source": [
        "4 == 4"
      ],
      "execution_count": 0,
      "outputs": []
    },
    {
      "cell_type": "code",
      "metadata": {
        "id": "hjaP34tg2OON",
        "colab_type": "code",
        "colab": {}
      },
      "source": [
        "8 != 9"
      ],
      "execution_count": 0,
      "outputs": []
    },
    {
      "cell_type": "code",
      "metadata": {
        "id": "2SXyaQWN2Qys",
        "colab_type": "code",
        "colab": {}
      },
      "source": [
        "4 > 3 and 7 < 9"
      ],
      "execution_count": 0,
      "outputs": []
    },
    {
      "cell_type": "code",
      "metadata": {
        "id": "HFxMIGl-2aVn",
        "colab_type": "code",
        "colab": {}
      },
      "source": [
        "3 > 4 and 7 < 9"
      ],
      "execution_count": 0,
      "outputs": []
    },
    {
      "cell_type": "code",
      "metadata": {
        "id": "Xdt1iBOh2d56",
        "colab_type": "code",
        "colab": {}
      },
      "source": [
        "3 > 4 or 7 < 9"
      ],
      "execution_count": 0,
      "outputs": []
    },
    {
      "cell_type": "markdown",
      "metadata": {
        "id": "fyNvKs_kxTiY",
        "colab_type": "text"
      },
      "source": [
        "## Python Conditions"
      ]
    },
    {
      "cell_type": "code",
      "metadata": {
        "id": "QqTxaAKV4Gq4",
        "colab_type": "code",
        "colab": {}
      },
      "source": [
        "a = 200\n",
        "b = 33\n",
        "if b > a:\n",
        "  print(\"b is greater than a\")\n",
        "elif a == b:\n",
        "  print(\"a and b are equal\")\n",
        "else:\n",
        "  print(\"a is greater than b\")"
      ],
      "execution_count": 0,
      "outputs": []
    },
    {
      "cell_type": "markdown",
      "metadata": {
        "id": "PEJ0UELpw1Zu",
        "colab_type": "text"
      },
      "source": [
        "## Lists and Dictionaries"
      ]
    },
    {
      "cell_type": "code",
      "metadata": {
        "id": "dWYILIUA2zMI",
        "colab_type": "code",
        "colab": {}
      },
      "source": [
        "thislist = [\"apple\", \"banana\", \"cherry\"]  # This is a list\n",
        "print(len(thislist))  # Length of the list"
      ],
      "execution_count": 0,
      "outputs": []
    },
    {
      "cell_type": "code",
      "metadata": {
        "id": "5exyO6Ws20sE",
        "colab_type": "code",
        "colab": {}
      },
      "source": [
        "thislist = [\"apple\", \"banana\", \"cherry\"]\n",
        "thislist.append(\"orange\")   # Add an item to the end of the list\n",
        "print(thislist)"
      ],
      "execution_count": 0,
      "outputs": []
    },
    {
      "cell_type": "code",
      "metadata": {
        "id": "WurJEe4N22me",
        "colab_type": "code",
        "colab": {}
      },
      "source": [
        "thislist = [\"apple\", \"banana\", \"cherry\"]\n",
        "thislist.insert(1, \"orange\")   # Add an item to a specific location in the list\n",
        "print(thislist)"
      ],
      "execution_count": 0,
      "outputs": []
    },
    {
      "cell_type": "code",
      "metadata": {
        "id": "BIUcHWMH25T-",
        "colab_type": "code",
        "colab": {}
      },
      "source": [
        "thislist = [\"apple\", \"banana\", \"cherry\"]\n",
        "del thislist[0]   # Delete a selected item from the list\n",
        "print(thislist)"
      ],
      "execution_count": 0,
      "outputs": []
    },
    {
      "cell_type": "code",
      "metadata": {
        "id": "Ehg_n-nO27Za",
        "colab_type": "code",
        "colab": {}
      },
      "source": [
        "# Sort a list\n",
        "cars = ['Ford', 'BMW', 'Volvo']\n",
        "cars = sorted(cars, reverse=False)\n",
        "print(cars)"
      ],
      "execution_count": 0,
      "outputs": []
    },
    {
      "cell_type": "code",
      "metadata": {
        "id": "H7Qp5wnP3Eiy",
        "colab_type": "code",
        "colab": {}
      },
      "source": [
        "# Loop through a list\n",
        "fruit = [\"apple\", \"banana\", \"cherry\"]\n",
        "for x in fruit:\n",
        "  print(x)"
      ],
      "execution_count": 0,
      "outputs": []
    },
    {
      "cell_type": "code",
      "metadata": {
        "id": "6c8Q6sFa3eri",
        "colab_type": "code",
        "colab": {}
      },
      "source": [
        "fruit = [\"apple\", \"banana\", \"cherry\"]\n",
        "\n",
        "# Check if an element is in the list\n",
        "if \"apple\" in fruit:\n",
        "  print(\"Yes, 'apple' is in the fruit list\")"
      ],
      "execution_count": 0,
      "outputs": []
    },
    {
      "cell_type": "code",
      "metadata": {
        "id": "uNRGl83S3je5",
        "colab_type": "code",
        "colab": {}
      },
      "source": [
        "thisdict =\t{\n",
        "  \"brand\": \"Ford\",\n",
        "  \"model\": \"Mustang\",\n",
        "  \"year\": 1964\n",
        "}\n",
        "print(thisdict)"
      ],
      "execution_count": 0,
      "outputs": []
    },
    {
      "cell_type": "code",
      "metadata": {
        "id": "50_GLFKt3yUx",
        "colab_type": "code",
        "colab": {}
      },
      "source": [
        "x = thisdict[\"model\"]\n",
        "x"
      ],
      "execution_count": 0,
      "outputs": []
    },
    {
      "cell_type": "code",
      "metadata": {
        "id": "i5Jx1_rd30bK",
        "colab_type": "code",
        "colab": {}
      },
      "source": [
        "# Change the value of a dictionary\n",
        "thisdict =\t{\n",
        "  \"brand\": \"Ford\",\n",
        "  \"model\": \"Mustang\",\n",
        "  \"year\": 1964\n",
        "}\n",
        "thisdict[\"year\"] = 2018\n",
        "print(thisdict)"
      ],
      "execution_count": 0,
      "outputs": []
    },
    {
      "cell_type": "code",
      "metadata": {
        "id": "wRMu05Av34Pl",
        "colab_type": "code",
        "colab": {}
      },
      "source": [
        "for key, value in thisdict.items():\n",
        "  print(key, value)"
      ],
      "execution_count": 0,
      "outputs": []
    },
    {
      "cell_type": "code",
      "metadata": {
        "id": "VX7NRx4X3-2R",
        "colab_type": "code",
        "colab": {}
      },
      "source": [
        "# Adding an item to a dictionary\n",
        "thisdict =\t{\n",
        "  \"brand\": \"Ford\",\n",
        "  \"model\": \"Mustang\",\n",
        "  \"year\": 1964\n",
        "}\n",
        "thisdict[\"color\"] = \"red\"\n",
        "print(thisdict)"
      ],
      "execution_count": 0,
      "outputs": []
    },
    {
      "cell_type": "markdown",
      "metadata": {
        "id": "1i_akla9xXhO",
        "colab_type": "text"
      },
      "source": [
        "## Python Loops"
      ]
    },
    {
      "cell_type": "code",
      "metadata": {
        "id": "7nev7na74gGH",
        "colab_type": "code",
        "colab": {}
      },
      "source": [
        "for x in range(6):  # Range(): range(start, stop, step)\n",
        "  print(x)"
      ],
      "execution_count": 0,
      "outputs": []
    },
    {
      "cell_type": "code",
      "metadata": {
        "id": "ZTEqvLzO4wTD",
        "colab_type": "code",
        "colab": {}
      },
      "source": [
        "for x in range(2, 30, 3):\n",
        "  print(x)"
      ],
      "execution_count": 0,
      "outputs": []
    },
    {
      "cell_type": "markdown",
      "metadata": {
        "id": "Rztfy9W3xdGG",
        "colab_type": "text"
      },
      "source": [
        "## Python Functions"
      ]
    },
    {
      "cell_type": "markdown",
      "metadata": {
        "id": "_z_7mFuG5Gx4",
        "colab_type": "text"
      },
      "source": [
        "For a detailed list of python builtin functions: [Visit this link](https://www.w3schools.com/python/python_ref_functions.asp)"
      ]
    },
    {
      "cell_type": "code",
      "metadata": {
        "id": "eKkEvGy_4_cO",
        "colab_type": "code",
        "colab": {}
      },
      "source": [
        "def my_function():\n",
        "  print(\"Hello from a function\")\n",
        "\n",
        "my_function()"
      ],
      "execution_count": 0,
      "outputs": []
    },
    {
      "cell_type": "code",
      "metadata": {
        "id": "8D3ehynd5JZz",
        "colab_type": "code",
        "colab": {}
      },
      "source": [
        "def my_function(fname):\n",
        "  print('Welcome' + fname)\n",
        "\n",
        "my_function(\"Emil\")"
      ],
      "execution_count": 0,
      "outputs": []
    },
    {
      "cell_type": "code",
      "metadata": {
        "id": "StEYxMSw5NPL",
        "colab_type": "code",
        "colab": {}
      },
      "source": [
        "def my_function(country = \"Australia\"):\n",
        "  print(\"I am from \" + country)\n",
        "\n",
        "my_function()\n",
        "my_function(\"Sweden\")"
      ],
      "execution_count": 0,
      "outputs": []
    },
    {
      "cell_type": "code",
      "metadata": {
        "id": "F_eD_Fp85SYX",
        "colab_type": "code",
        "colab": {}
      },
      "source": [
        "def my_function(x):\n",
        "  return 5 * x\n",
        "\n",
        "my_function(3)"
      ],
      "execution_count": 0,
      "outputs": []
    },
    {
      "cell_type": "markdown",
      "metadata": {
        "id": "Bn82lFRt4uZa",
        "colab_type": "text"
      },
      "source": [
        "### Lambda functions\n",
        "\n",
        "A lambda function is a straightforward anonymous function. A lambda function can take any number of arguments, but can only have one expression."
      ]
    },
    {
      "cell_type": "code",
      "metadata": {
        "id": "rBEZxhebA_mA",
        "colab_type": "code",
        "colab": {}
      },
      "source": [
        "# Take this function\n",
        "def f(a):\n",
        "  return a + 10\n",
        "print(f(19))"
      ],
      "execution_count": 0,
      "outputs": []
    },
    {
      "cell_type": "code",
      "metadata": {
        "id": "GM-de3nb4qUQ",
        "colab_type": "code",
        "colab": {}
      },
      "source": [
        "# Above function is similar to following;\n",
        "f = lambda a : a + 10\n",
        "print(f(19))"
      ],
      "execution_count": 0,
      "outputs": []
    },
    {
      "cell_type": "code",
      "metadata": {
        "id": "4tr1C9QU4-IZ",
        "colab_type": "code",
        "colab": {}
      },
      "source": [
        "# Following lambda function is similar to;\n",
        "# def z(a, b):\n",
        "#   return a+b\n",
        "\n",
        "z = lambda a, b : a + b\n",
        "print(z(3, 8))"
      ],
      "execution_count": 0,
      "outputs": []
    },
    {
      "cell_type": "markdown",
      "metadata": {
        "id": "gPROVgSYxhWJ",
        "colab_type": "text"
      },
      "source": [
        "## Importing Libraries"
      ]
    },
    {
      "cell_type": "code",
      "metadata": {
        "id": "ClNGU_gR5xTJ",
        "colab_type": "code",
        "colab": {}
      },
      "source": [
        "import numpy as np  # Import numpy library (as a given short name) / Here we import the entire library (called alias)\n",
        "import pandas as pd  "
      ],
      "execution_count": 0,
      "outputs": []
    },
    {
      "cell_type": "markdown",
      "metadata": {
        "id": "GlIrXaA6xqt5",
        "colab_type": "text"
      },
      "source": [
        "## Wrangling with Datasets"
      ]
    },
    {
      "cell_type": "markdown",
      "metadata": {
        "id": "so75UC82NaIe",
        "colab_type": "text"
      },
      "source": [
        "**Loading a dataset from a csv file**\n",
        "\n",
        "Dataset:\n",
        "\n",
        "1. You need to upload the boston dataset to Google Colab.\n",
        "2. You should click on the '>' icon to the left (below the title bar), expand the left menu.\n",
        "3. Select Files tab from the laft menu.\n",
        "4. Click upload to upload the dataset - boston.csv.   \n",
        "\n",
        "Note: You need to upload these datasets everytime you reconnect to the notebook."
      ]
    },
    {
      "cell_type": "code",
      "metadata": {
        "id": "fAsN-brH5Ydm",
        "colab_type": "code",
        "colab": {}
      },
      "source": [
        "boston_dataset = pd.read_csv('boston.csv')  # Load the dataset"
      ],
      "execution_count": 0,
      "outputs": []
    },
    {
      "cell_type": "code",
      "metadata": {
        "id": "zp6tTcdeM0pX",
        "colab_type": "code",
        "colab": {}
      },
      "source": [
        "print(boston_dataset.keys())  # We print the value of the boston_dataset to understand what it contains. print(boston_dataset.keys()) gives"
      ],
      "execution_count": 0,
      "outputs": []
    },
    {
      "cell_type": "code",
      "metadata": {
        "id": "bwZmrMvZNOcJ",
        "colab_type": "code",
        "colab": {}
      },
      "source": [
        "df = boston_dataset"
      ],
      "execution_count": 0,
      "outputs": []
    },
    {
      "cell_type": "code",
      "metadata": {
        "id": "wL2pxjEm9d6X",
        "colab_type": "code",
        "colab": {}
      },
      "source": [
        "# Check for missing values\n",
        "df.isnull().sum()"
      ],
      "execution_count": 0,
      "outputs": []
    },
    {
      "cell_type": "markdown",
      "metadata": {
        "id": "3mTc8OeJ9rKh",
        "colab_type": "text"
      },
      "source": [
        "**Exercise**\n",
        "1. Read the first 10, 20, 50 records\n",
        "2. View the last 5 records (Hint: Google search for \"pandas read last n rows\")"
      ]
    },
    {
      "cell_type": "code",
      "metadata": {
        "id": "U3Q9IMHM9lnX",
        "colab_type": "code",
        "colab": {}
      },
      "source": [
        "# Check for data types\n",
        "df.dtypes"
      ],
      "execution_count": 0,
      "outputs": []
    },
    {
      "cell_type": "markdown",
      "metadata": {
        "id": "jRCtRGs2-bQh",
        "colab_type": "text"
      },
      "source": [
        "General data types in Pandas  \n",
        "\n",
        "\n",
        "*   object (string)\n",
        "*   int64 (int)\n",
        "*   float64 (float)\n",
        "\n"
      ]
    },
    {
      "cell_type": "markdown",
      "metadata": {
        "id": "nXaKg3mW-vLr",
        "colab_type": "text"
      },
      "source": [
        "**Pandas dataframe attibutes (df.attribute)  **  \n",
        "\n",
        "*   dtypes\t- list the types of the columns\n",
        "*   columns\t\t- list the column names\n",
        "*   axes\t- \tlist the row labels and column names\n",
        "*   ndim\t- \tnumber of dimensions\n",
        "*   size\t\t- number of elements \n",
        "*   shape\t\t- return a tuple representing the dimensionality \n",
        "*   values\t- \tnumpy representation of the data"
      ]
    },
    {
      "cell_type": "markdown",
      "metadata": {
        "id": "9G2Le5wl_SB1",
        "colab_type": "text"
      },
      "source": [
        "**Exercise**\n",
        "\n",
        "1. Find how many records are in this data frame?\n",
        "2. How many columns?     \n",
        "3. What are the column names?\n",
        "4. What types of columns are in this data frame?\n"
      ]
    },
    {
      "cell_type": "markdown",
      "metadata": {
        "id": "ZzVexlAi_34C",
        "colab_type": "text"
      },
      "source": [
        "**Dataframe methods (df.method())**\n",
        "\n",
        "*   head( [n] ), tail( [n] ) - first/last n rows\n",
        "*   describe() - \tgenerate descriptive statistics (for numeric columns only)\n",
        "*   max(), min()\t - return max/min values for all numeric columns\n",
        "*   mean(), median() - \treturn mean/median values for all numeric columns\n",
        "*   std() - \tstandard deviation\n",
        "*   sample([n])\t - returns a random sample of the data frame\n",
        "*   dropna() - \tdrop all the records with missing values\n"
      ]
    },
    {
      "cell_type": "markdown",
      "metadata": {
        "id": "3F2mne7fATHw",
        "colab_type": "text"
      },
      "source": [
        "**Exercise**\n",
        "\n",
        "1. Provide a  summary of the numeric columns in the dataset\n",
        "2. Calculate standard deviation for all numeric columns;\n",
        "3. What are the mean values of the first 50 records in the dataset?   (Hint: use head() method to subset the first 50 records and then calculate the mean)"
      ]
    },
    {
      "cell_type": "code",
      "metadata": {
        "id": "JybPD5YI-VD2",
        "colab_type": "code",
        "colab": {}
      },
      "source": [
        "# Selecting a column in a dataframe\n",
        "df['CRIM']"
      ],
      "execution_count": 0,
      "outputs": []
    },
    {
      "cell_type": "markdown",
      "metadata": {
        "id": "W_twLiwOAv0a",
        "colab_type": "text"
      },
      "source": [
        "**Exercise**\n",
        "\n",
        "1. Calculate the basic statistics for the salary column\n",
        "2. Find how many values in the salary column (use count method)\n",
        "3. Calculate the average salary\n"
      ]
    },
    {
      "cell_type": "markdown",
      "metadata": {
        "id": "2Li0lbvGBycX",
        "colab_type": "text"
      },
      "source": [
        "**Wrangling with a dataset**\n",
        "\n",
        "Dataset:\n",
        "\n",
        "1. You need to upload the titanic train and test datasets to Google Colab.\n",
        "2. You should click on the '>' icon to the left (below the title bar), expand the left menu.\n",
        "3. Select Files tab from the laft menu.\n",
        "4. Click upload to upload the 2 datasets. Titanic_train and Titanic_test.   \n",
        "\n",
        "Note: You need to upload these datasets everytime you reconnect to the notebook."
      ]
    },
    {
      "cell_type": "code",
      "metadata": {
        "id": "P7soWdrvAaNZ",
        "colab_type": "code",
        "colab": {}
      },
      "source": [
        "df = pd.read_csv('titanic_train.csv')"
      ],
      "execution_count": 0,
      "outputs": []
    },
    {
      "cell_type": "code",
      "metadata": {
        "id": "TJqxd5jDBai2",
        "colab_type": "code",
        "colab": {}
      },
      "source": [
        "df.head()"
      ],
      "execution_count": 0,
      "outputs": []
    },
    {
      "cell_type": "markdown",
      "metadata": {
        "id": "nRZ-63MxyE37",
        "colab_type": "text"
      },
      "source": [
        "## Advance exploration with Pandas Dataframes"
      ]
    },
    {
      "cell_type": "markdown",
      "metadata": {
        "id": "3E41WccmCS3T",
        "colab_type": "text"
      },
      "source": [
        "**groupby method**\n",
        "\n",
        " Using \"group by\" method we can:\n",
        "*  Split the data into groups based on some criteria\n",
        "*  Calculate statistics (or apply a function) to each group\n",
        "*  Similar to dplyr() function in R\n"
      ]
    },
    {
      "cell_type": "code",
      "metadata": {
        "id": "WDjIU3ktCO8z",
        "colab_type": "code",
        "colab": {}
      },
      "source": [
        "#Group data using sex\n",
        "df_sex = df.groupby(['Sex'])\n",
        "df_sex.mean()"
      ],
      "execution_count": 0,
      "outputs": []
    },
    {
      "cell_type": "code",
      "metadata": {
        "id": "iNuYNE6ICvt1",
        "colab_type": "code",
        "colab": {}
      },
      "source": [
        "#Calculate mean age and mean fare for each passenger based on sex:\n",
        "df.groupby(['Sex'])[['Age', 'Fare']].mean()"
      ],
      "execution_count": 0,
      "outputs": []
    },
    {
      "cell_type": "markdown",
      "metadata": {
        "id": "UWpUrCssDjVX",
        "colab_type": "text"
      },
      "source": [
        "**Filter dataframe**"
      ]
    },
    {
      "cell_type": "code",
      "metadata": {
        "id": "6iLR9tWEDGWM",
        "colab_type": "code",
        "colab": {}
      },
      "source": [
        "# Filter only the passengers above 20 years old.\n",
        "df_sub = df[ df['Age'] > 20 ]\n",
        "df_sub.head()"
      ],
      "execution_count": 0,
      "outputs": []
    },
    {
      "cell_type": "code",
      "metadata": {
        "id": "7ESEZopjDtH3",
        "colab_type": "code",
        "colab": {}
      },
      "source": [
        "# Filter only the female passengers.\n",
        "df_sub = df[ df['Sex'] == 'female' ]\n",
        "df_sub.head()"
      ],
      "execution_count": 0,
      "outputs": []
    },
    {
      "cell_type": "code",
      "metadata": {
        "id": "_WRkbL2XD4fe",
        "colab_type": "code",
        "colab": {}
      },
      "source": [
        "# Filter only the female passengers who are above 30 yrs.\n",
        "df_sub = df[(df['Sex'] == 'female') & (df['Age'] > 30)]  # Boolean operators '&' for AND, '|' for OR\n",
        "df_sub.head()"
      ],
      "execution_count": 0,
      "outputs": []
    },
    {
      "cell_type": "markdown",
      "metadata": {
        "id": "0Xj6RK4fEVM0",
        "colab_type": "text"
      },
      "source": [
        "**Dataframe Slicing and Indexing**"
      ]
    },
    {
      "cell_type": "code",
      "metadata": {
        "id": "-AlTFcBYEBpj",
        "colab_type": "code",
        "colab": {}
      },
      "source": [
        "#Select column salary:\n",
        "df['Age']"
      ],
      "execution_count": 0,
      "outputs": []
    },
    {
      "cell_type": "code",
      "metadata": {
        "id": "5vrcW_vpEfCh",
        "colab_type": "code",
        "colab": {}
      },
      "source": [
        "# Create a new dataframe with only 2 columns\n",
        "df[['Age','Fare']]\n"
      ],
      "execution_count": 0,
      "outputs": []
    },
    {
      "cell_type": "code",
      "metadata": {
        "id": "Z_j9gB_fEka1",
        "colab_type": "code",
        "colab": {}
      },
      "source": [
        "# Select only 10th to 20th rows\n",
        "df[10:20]"
      ],
      "execution_count": 0,
      "outputs": []
    },
    {
      "cell_type": "code",
      "metadata": {
        "id": "s2Oa8C1sE0qZ",
        "colab_type": "code",
        "colab": {}
      },
      "source": [
        "# select a range of rows, using their labels we can use method loc method\n",
        "df.loc[10:20, ['Age','Fare']]"
      ],
      "execution_count": 0,
      "outputs": []
    },
    {
      "cell_type": "code",
      "metadata": {
        "id": "ge1vRSSbFGE1",
        "colab_type": "code",
        "colab": {}
      },
      "source": [
        "# select a range of rows and/or columns, using their positions we can use method iloc\n",
        "df.iloc[10:20, [0, 2, 4]]"
      ],
      "execution_count": 0,
      "outputs": []
    },
    {
      "cell_type": "markdown",
      "metadata": {
        "id": "rvgpWY27F4A1",
        "colab_type": "text"
      },
      "source": [
        "**Exercise**\n",
        "\n",
        "*  df.iloc[0]  # First row of a data frame\n",
        "*  df.iloc[-1] # Last row \n",
        "*  df.iloc[:, 0]  # First column\n",
        "*  df.iloc[:, -1] # Last column \n",
        "*  df.iloc[0:7]       #First 7 rows \n",
        "*  df.iloc[:, 0:2]    #First 2 columns\n",
        "*  df.iloc[1:3, 0:2]  #Second through third rows and first 2 columns\n",
        "*  df.iloc[[0,5], [1,3]]  #1st and 6th rows and 2nd and 4th columns\n"
      ]
    },
    {
      "cell_type": "markdown",
      "metadata": {
        "id": "If1y-XmYGHhp",
        "colab_type": "text"
      },
      "source": [
        "**Sorting**"
      ]
    },
    {
      "cell_type": "code",
      "metadata": {
        "id": "TjtLFgvfFs5c",
        "colab_type": "code",
        "colab": {}
      },
      "source": [
        "# Create a new data frame from the original sorted by the column Age\n",
        "df_sorted = df.sort_values( by ='Age')\n",
        "df_sorted.head()"
      ],
      "execution_count": 0,
      "outputs": []
    },
    {
      "cell_type": "code",
      "metadata": {
        "id": "cGtBiskIGNDx",
        "colab_type": "code",
        "colab": {}
      },
      "source": [
        "df_sorted = df.sort_values( by =['Age', 'Fare'], ascending = [False, True])\n",
        "df_sorted.head(5)"
      ],
      "execution_count": 0,
      "outputs": []
    },
    {
      "cell_type": "markdown",
      "metadata": {
        "id": "dmlgo3FIyNQI",
        "colab_type": "text"
      },
      "source": [
        "## Handling missing values"
      ]
    },
    {
      "cell_type": "markdown",
      "metadata": {
        "id": "ylgMB1tFGdXF",
        "colab_type": "text"
      },
      "source": [
        "df.method()\n",
        "\n",
        "*  dropna() - Drop missing observations\n",
        "*  dropna(how='all')- \tDrop observations where all cells is NA\n",
        "*  dropna(axis=1, how='all')- \tDrop column if all the values are missing\n",
        "*  dropna(thresh = 5)- \tDrop rows that contain less than 5 non-missing values\n",
        "*  fillna(0)\t- Replace missing values with zeros\n",
        "*  isnull()\t- returns True if the value is missing\n",
        "*  notnull()\t- Returns True for non-missing values"
      ]
    },
    {
      "cell_type": "code",
      "metadata": {
        "id": "tUHUbt7jGW0y",
        "colab_type": "code",
        "colab": {}
      },
      "source": [
        "# Select the rows that have at least one missing value\n",
        "df[df.isnull().any(axis=1)].head()"
      ],
      "execution_count": 0,
      "outputs": []
    },
    {
      "cell_type": "markdown",
      "metadata": {
        "id": "mwhJuvzVHpgz",
        "colab_type": "text"
      },
      "source": [
        "**Aggregation Functions in Pandas**  \n",
        "agg() method are useful when multiple statistics are computed per column"
      ]
    },
    {
      "cell_type": "code",
      "metadata": {
        "id": "U-WgjB9bGim8",
        "colab_type": "code",
        "colab": {}
      },
      "source": [
        "df[['Age','Fare']].agg(['min','mean','max'])"
      ],
      "execution_count": 0,
      "outputs": []
    },
    {
      "cell_type": "markdown",
      "metadata": {
        "id": "gtC7qwDhIBLx",
        "colab_type": "text"
      },
      "source": [
        "**Basic Descriptive Statistics**  \n",
        "\n",
        "*  describe -\tBasic statistics (count, mean, std, min, quantiles, max)\n",
        "*  min, max -\t\tMinimum and maximum values\n",
        "*  mean, median, mode -\t\tArithmetic average, median and mode\n",
        "*  var, std -\t\tVariance and standard deviation\n",
        "*  sem\t -\tStandard error of mean\n",
        "*  skew\t -\tSample skewness\n",
        "*  kurt -\t\tkurtosis"
      ]
    },
    {
      "cell_type": "markdown",
      "metadata": {
        "id": "06UXGQ8syVe2",
        "colab_type": "text"
      },
      "source": [
        "## Visualization and plotting"
      ]
    },
    {
      "cell_type": "code",
      "metadata": {
        "id": "sUsj0E7DIEUD",
        "colab_type": "code",
        "colab": {}
      },
      "source": [
        "import matplotlib.pyplot as plt \n",
        "import seaborn as sns "
      ],
      "execution_count": 0,
      "outputs": []
    },
    {
      "cell_type": "code",
      "metadata": {
        "id": "LICWSqHDIcGi",
        "colab_type": "code",
        "colab": {}
      },
      "source": [
        "# Reuse the boston dataset loaded previously\n",
        "boston = pd.DataFrame(boston_dataset.data, columns=boston_dataset.feature_names)\n",
        "boston['MEDV'] = boston_dataset.target\n",
        "boston.head()"
      ],
      "execution_count": 0,
      "outputs": []
    },
    {
      "cell_type": "code",
      "metadata": {
        "id": "y77z74I1Ipe6",
        "colab_type": "code",
        "colab": {}
      },
      "source": [
        "# Let’s first plot the distribution of the target variable MEDV. We will use the distplot function from the seaborn library.\n",
        "sns.distplot(boston['MEDV'], bins=30)  #Histogram of MEDV by binning to 30 bins\n",
        "plt.show()"
      ],
      "execution_count": 0,
      "outputs": []
    },
    {
      "cell_type": "code",
      "metadata": {
        "id": "OCv8zesGKLhr",
        "colab_type": "code",
        "colab": {}
      },
      "source": [
        "# Create box plots\n",
        "boston.boxplot()"
      ],
      "execution_count": 0,
      "outputs": []
    },
    {
      "cell_type": "code",
      "metadata": {
        "id": "wgJyQ3xWIwzo",
        "colab_type": "code",
        "colab": {}
      },
      "source": [
        "# create a correlation matrix that measures the linear relationships between the variables. \n",
        "# The correlation matrix can be formed by using the corr function from the pandas dataframe library. \n",
        "# We will use the heatmap function from the seaborn library to plot the correlation matrix.\n",
        "correlation_matrix = boston.corr().round(2)\n",
        "sns.heatmap(data=correlation_matrix, annot=True)\n",
        "plt.show()"
      ],
      "execution_count": 0,
      "outputs": []
    },
    {
      "cell_type": "markdown",
      "metadata": {
        "id": "WH5qRki9Je16",
        "colab_type": "text"
      },
      "source": [
        "Observations:\n",
        "*  To fit a linear regression model, we select those features which have a high correlation with our target variable MEDV. By looking at the correlation matrix we can see that RM has a strong positive correlation with MEDV (0.7) where as LSTAT has a high negative correlation with MEDV(-0.74).\n",
        "*  An important point in selecting features for a linear regression model is to check for multi-co-linearity. The features RAD, TAX have a correlation of 0.91. These feature pairs are strongly correlated to each other. We should not select both these features together for training the model. Same goes for the features DIS and AGE which have a correlation of -0.75."
      ]
    },
    {
      "cell_type": "code",
      "metadata": {
        "id": "z8GDyzkHJDRp",
        "colab_type": "code",
        "colab": {}
      },
      "source": [
        "# Based on the above observations we will RM and LSTAT as our features. Using a scatter plot let’s see how these features vary with MEDV.\n",
        "features = ['LSTAT', 'RM']\n",
        "target = boston['MEDV']\n",
        "\n",
        "for i, col in enumerate(features):\n",
        "    plt.subplot(1, len(features) , i+1)\n",
        "    x = boston[col]\n",
        "    y = target\n",
        "    plt.scatter(x, y, marker='o')\n",
        "    plt.title(col)\n",
        "    plt.xlabel(col)\n",
        "    plt.ylabel('MEDV')\n",
        "\n",
        "plt.show()"
      ],
      "execution_count": 0,
      "outputs": []
    },
    {
      "cell_type": "code",
      "metadata": {
        "id": "2QX8FhVqJ5K7",
        "colab_type": "code",
        "colab": {}
      },
      "source": [
        ""
      ],
      "execution_count": 0,
      "outputs": []
    }
  ]
}