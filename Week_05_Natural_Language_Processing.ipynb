{
  "nbformat": 4,
  "nbformat_minor": 0,
  "metadata": {
    "colab": {
      "name": "Week_05_Natural_Language_Processing.ipynb",
      "provenance": []
    },
    "kernelspec": {
      "name": "python3",
      "display_name": "Python 3"
    }
  },
  "cells": [
    {
      "cell_type": "markdown",
      "metadata": {
        "id": "L8opw2UZFaQv"
      },
      "source": [
        "# Natural Language Processing with Python\n",
        "\n",
        "In this workshop we will use the [Sentiment Labelled Sentences Data Set](https://archive.ics.uci.edu/ml/datasets/Sentiment+Labelled+Sentences)  that contains 500 positive and 500 negative sentences from imdb.com, amazon.com and yelp.com.  \n",
        "\n",
        "* First, we will explore preliminary text analytics and text pre-processing .  \n",
        "* Second, we will evaluate different feature extraction mechanisms for text.  \n",
        "* Third, we will evaluate a simple text classification for Amazon review dataset, and an advanced deep neural network for classification accuracy improvement.\n"
      ]
    },
    {
      "cell_type": "markdown",
      "metadata": {
        "id": "4_z-LSYHJVxx"
      },
      "source": [
        "## Load the data\n",
        "\n",
        "Load the reviews.csv file downloaded from LMS to the Google Colab file repository."
      ]
    },
    {
      "cell_type": "code",
      "metadata": {
        "id": "4XCT8rJKJv0j"
      },
      "source": [
        "import pandas as pd"
      ],
      "execution_count": 50,
      "outputs": []
    },
    {
      "cell_type": "code",
      "metadata": {
        "id": "MWP9fyKaNRkN"
      },
      "source": [
        "# Dataset reveiws.csv MUST be uploaded to Google Colab before executing this line\n",
        "df = pd.read_csv('tp6_reviews.csv')"
      ],
      "execution_count": 51,
      "outputs": []
    },
    {
      "cell_type": "markdown",
      "metadata": {
        "id": "KblPiHu6ZfT1"
      },
      "source": [
        "View a summary of the dataset."
      ]
    },
    {
      "cell_type": "code",
      "metadata": {
        "id": "qlFws42RNS3Q",
        "outputId": "e48f83fd-4200-443c-d226-83c94f0f68c6",
        "colab": {
          "base_uri": "https://localhost:8080/"
        }
      },
      "source": [
        "df.info()"
      ],
      "execution_count": 52,
      "outputs": [
        {
          "output_type": "stream",
          "name": "stdout",
          "text": [
            "<class 'pandas.core.frame.DataFrame'>\n",
            "RangeIndex: 2748 entries, 0 to 2747\n",
            "Data columns (total 3 columns):\n",
            " #   Column    Non-Null Count  Dtype \n",
            "---  ------    --------------  ----- \n",
            " 0   sentence  2748 non-null   object\n",
            " 1   label     2748 non-null   int64 \n",
            " 2   source    2748 non-null   object\n",
            "dtypes: int64(1), object(2)\n",
            "memory usage: 64.5+ KB\n"
          ]
        }
      ]
    },
    {
      "cell_type": "code",
      "metadata": {
        "id": "uroM_ht8N9Xt",
        "outputId": "e3da5797-3be8-4f40-e241-591eb7e620ae",
        "colab": {
          "base_uri": "https://localhost:8080/",
          "height": 206
        }
      },
      "source": [
        "df.head()"
      ],
      "execution_count": 53,
      "outputs": [
        {
          "output_type": "execute_result",
          "data": {
            "text/plain": [
              "                                            sentence  label source\n",
              "0                           Wow... Loved this place.      1   yelp\n",
              "1                                 Crust is not good.      0   yelp\n",
              "2          Not tasty and the texture was just nasty.      0   yelp\n",
              "3  Stopped by during the late May bank holiday of...      1   yelp\n",
              "4  The selection on the menu was great and so wer...      1   yelp"
            ],
            "text/html": [
              "\n",
              "  <div id=\"df-b06e2f05-f4ab-44bb-8b5c-2fdc99ab7683\">\n",
              "    <div class=\"colab-df-container\">\n",
              "      <div>\n",
              "<style scoped>\n",
              "    .dataframe tbody tr th:only-of-type {\n",
              "        vertical-align: middle;\n",
              "    }\n",
              "\n",
              "    .dataframe tbody tr th {\n",
              "        vertical-align: top;\n",
              "    }\n",
              "\n",
              "    .dataframe thead th {\n",
              "        text-align: right;\n",
              "    }\n",
              "</style>\n",
              "<table border=\"1\" class=\"dataframe\">\n",
              "  <thead>\n",
              "    <tr style=\"text-align: right;\">\n",
              "      <th></th>\n",
              "      <th>sentence</th>\n",
              "      <th>label</th>\n",
              "      <th>source</th>\n",
              "    </tr>\n",
              "  </thead>\n",
              "  <tbody>\n",
              "    <tr>\n",
              "      <th>0</th>\n",
              "      <td>Wow... Loved this place.</td>\n",
              "      <td>1</td>\n",
              "      <td>yelp</td>\n",
              "    </tr>\n",
              "    <tr>\n",
              "      <th>1</th>\n",
              "      <td>Crust is not good.</td>\n",
              "      <td>0</td>\n",
              "      <td>yelp</td>\n",
              "    </tr>\n",
              "    <tr>\n",
              "      <th>2</th>\n",
              "      <td>Not tasty and the texture was just nasty.</td>\n",
              "      <td>0</td>\n",
              "      <td>yelp</td>\n",
              "    </tr>\n",
              "    <tr>\n",
              "      <th>3</th>\n",
              "      <td>Stopped by during the late May bank holiday of...</td>\n",
              "      <td>1</td>\n",
              "      <td>yelp</td>\n",
              "    </tr>\n",
              "    <tr>\n",
              "      <th>4</th>\n",
              "      <td>The selection on the menu was great and so wer...</td>\n",
              "      <td>1</td>\n",
              "      <td>yelp</td>\n",
              "    </tr>\n",
              "  </tbody>\n",
              "</table>\n",
              "</div>\n",
              "      <button class=\"colab-df-convert\" onclick=\"convertToInteractive('df-b06e2f05-f4ab-44bb-8b5c-2fdc99ab7683')\"\n",
              "              title=\"Convert this dataframe to an interactive table.\"\n",
              "              style=\"display:none;\">\n",
              "        \n",
              "  <svg xmlns=\"http://www.w3.org/2000/svg\" height=\"24px\"viewBox=\"0 0 24 24\"\n",
              "       width=\"24px\">\n",
              "    <path d=\"M0 0h24v24H0V0z\" fill=\"none\"/>\n",
              "    <path d=\"M18.56 5.44l.94 2.06.94-2.06 2.06-.94-2.06-.94-.94-2.06-.94 2.06-2.06.94zm-11 1L8.5 8.5l.94-2.06 2.06-.94-2.06-.94L8.5 2.5l-.94 2.06-2.06.94zm10 10l.94 2.06.94-2.06 2.06-.94-2.06-.94-.94-2.06-.94 2.06-2.06.94z\"/><path d=\"M17.41 7.96l-1.37-1.37c-.4-.4-.92-.59-1.43-.59-.52 0-1.04.2-1.43.59L10.3 9.45l-7.72 7.72c-.78.78-.78 2.05 0 2.83L4 21.41c.39.39.9.59 1.41.59.51 0 1.02-.2 1.41-.59l7.78-7.78 2.81-2.81c.8-.78.8-2.07 0-2.86zM5.41 20L4 18.59l7.72-7.72 1.47 1.35L5.41 20z\"/>\n",
              "  </svg>\n",
              "      </button>\n",
              "      \n",
              "  <style>\n",
              "    .colab-df-container {\n",
              "      display:flex;\n",
              "      flex-wrap:wrap;\n",
              "      gap: 12px;\n",
              "    }\n",
              "\n",
              "    .colab-df-convert {\n",
              "      background-color: #E8F0FE;\n",
              "      border: none;\n",
              "      border-radius: 50%;\n",
              "      cursor: pointer;\n",
              "      display: none;\n",
              "      fill: #1967D2;\n",
              "      height: 32px;\n",
              "      padding: 0 0 0 0;\n",
              "      width: 32px;\n",
              "    }\n",
              "\n",
              "    .colab-df-convert:hover {\n",
              "      background-color: #E2EBFA;\n",
              "      box-shadow: 0px 1px 2px rgba(60, 64, 67, 0.3), 0px 1px 3px 1px rgba(60, 64, 67, 0.15);\n",
              "      fill: #174EA6;\n",
              "    }\n",
              "\n",
              "    [theme=dark] .colab-df-convert {\n",
              "      background-color: #3B4455;\n",
              "      fill: #D2E3FC;\n",
              "    }\n",
              "\n",
              "    [theme=dark] .colab-df-convert:hover {\n",
              "      background-color: #434B5C;\n",
              "      box-shadow: 0px 1px 3px 1px rgba(0, 0, 0, 0.15);\n",
              "      filter: drop-shadow(0px 1px 2px rgba(0, 0, 0, 0.3));\n",
              "      fill: #FFFFFF;\n",
              "    }\n",
              "  </style>\n",
              "\n",
              "      <script>\n",
              "        const buttonEl =\n",
              "          document.querySelector('#df-b06e2f05-f4ab-44bb-8b5c-2fdc99ab7683 button.colab-df-convert');\n",
              "        buttonEl.style.display =\n",
              "          google.colab.kernel.accessAllowed ? 'block' : 'none';\n",
              "\n",
              "        async function convertToInteractive(key) {\n",
              "          const element = document.querySelector('#df-b06e2f05-f4ab-44bb-8b5c-2fdc99ab7683');\n",
              "          const dataTable =\n",
              "            await google.colab.kernel.invokeFunction('convertToInteractive',\n",
              "                                                     [key], {});\n",
              "          if (!dataTable) return;\n",
              "\n",
              "          const docLinkHtml = 'Like what you see? Visit the ' +\n",
              "            '<a target=\"_blank\" href=https://colab.research.google.com/notebooks/data_table.ipynb>data table notebook</a>'\n",
              "            + ' to learn more about interactive tables.';\n",
              "          element.innerHTML = '';\n",
              "          dataTable['output_type'] = 'display_data';\n",
              "          await google.colab.output.renderOutput(dataTable, element);\n",
              "          const docLink = document.createElement('div');\n",
              "          docLink.innerHTML = docLinkHtml;\n",
              "          element.appendChild(docLink);\n",
              "        }\n",
              "      </script>\n",
              "    </div>\n",
              "  </div>\n",
              "  "
            ]
          },
          "metadata": {},
          "execution_count": 53
        }
      ]
    },
    {
      "cell_type": "markdown",
      "metadata": {
        "id": "3FlpqeMJ4dyW"
      },
      "source": [
        "Check what are the sources of data available in the dataset."
      ]
    },
    {
      "cell_type": "code",
      "metadata": {
        "id": "sqjbA0GZ4Zlc",
        "outputId": "0bccfefe-c4d8-4f7a-c888-343ccb60241e",
        "colab": {
          "base_uri": "https://localhost:8080/"
        }
      },
      "source": [
        "df['source'].unique()"
      ],
      "execution_count": 54,
      "outputs": [
        {
          "output_type": "execute_result",
          "data": {
            "text/plain": [
              "array(['yelp', 'amazon', 'imdb'], dtype=object)"
            ]
          },
          "metadata": {},
          "execution_count": 54
        }
      ]
    },
    {
      "cell_type": "markdown",
      "metadata": {
        "id": "kFPeBYVw3gDz"
      },
      "source": [
        "## Preliminary analysis"
      ]
    },
    {
      "cell_type": "markdown",
      "metadata": {
        "id": "O3xamOU23qJ0"
      },
      "source": [
        "***Pandas dataframe's df.apply() function***  \n",
        "* This allow the users to pass a function and apply it on every single value of the Pandas series, i.e., column. [API documentation.](https://pandas.pydata.org/pandas-docs/stable/reference/api/pandas.DataFrame.apply.html)\n",
        "*  Efficient way to update values in a dataframe column\n",
        "\n",
        "In the following example, \n",
        "\n",
        "\n",
        "*   Count the number of words in each sentence\n",
        "*   Assign the word count to a new attribute  named 'word_count'\n",
        "\n"
      ]
    },
    {
      "cell_type": "code",
      "metadata": {
        "id": "fEYoC-bJ6Uj5"
      },
      "source": [
        "def word_counter(document):\n",
        "  split_word = str(document).split(\" \") # split by white space\n",
        "  word_count = len(split_word) # count the words\n",
        "  return word_count\n",
        "\n",
        "df['word_count_function'] = df['sentence'].apply(word_counter)"
      ],
      "execution_count": 55,
      "outputs": []
    },
    {
      "cell_type": "code",
      "metadata": {
        "id": "cIyW2QaG6pbS",
        "outputId": "76eecdd7-b1c1-4cdd-9410-8db424074469",
        "colab": {
          "base_uri": "https://localhost:8080/",
          "height": 206
        }
      },
      "source": [
        "df.head(5)"
      ],
      "execution_count": 56,
      "outputs": [
        {
          "output_type": "execute_result",
          "data": {
            "text/plain": [
              "                                            sentence  label source  \\\n",
              "0                           Wow... Loved this place.      1   yelp   \n",
              "1                                 Crust is not good.      0   yelp   \n",
              "2          Not tasty and the texture was just nasty.      0   yelp   \n",
              "3  Stopped by during the late May bank holiday of...      1   yelp   \n",
              "4  The selection on the menu was great and so wer...      1   yelp   \n",
              "\n",
              "   word_count_function  \n",
              "0                    4  \n",
              "1                    4  \n",
              "2                    8  \n",
              "3                   15  \n",
              "4                   12  "
            ],
            "text/html": [
              "\n",
              "  <div id=\"df-afaf50c3-7170-4834-8be1-a3bddbf922cc\">\n",
              "    <div class=\"colab-df-container\">\n",
              "      <div>\n",
              "<style scoped>\n",
              "    .dataframe tbody tr th:only-of-type {\n",
              "        vertical-align: middle;\n",
              "    }\n",
              "\n",
              "    .dataframe tbody tr th {\n",
              "        vertical-align: top;\n",
              "    }\n",
              "\n",
              "    .dataframe thead th {\n",
              "        text-align: right;\n",
              "    }\n",
              "</style>\n",
              "<table border=\"1\" class=\"dataframe\">\n",
              "  <thead>\n",
              "    <tr style=\"text-align: right;\">\n",
              "      <th></th>\n",
              "      <th>sentence</th>\n",
              "      <th>label</th>\n",
              "      <th>source</th>\n",
              "      <th>word_count_function</th>\n",
              "    </tr>\n",
              "  </thead>\n",
              "  <tbody>\n",
              "    <tr>\n",
              "      <th>0</th>\n",
              "      <td>Wow... Loved this place.</td>\n",
              "      <td>1</td>\n",
              "      <td>yelp</td>\n",
              "      <td>4</td>\n",
              "    </tr>\n",
              "    <tr>\n",
              "      <th>1</th>\n",
              "      <td>Crust is not good.</td>\n",
              "      <td>0</td>\n",
              "      <td>yelp</td>\n",
              "      <td>4</td>\n",
              "    </tr>\n",
              "    <tr>\n",
              "      <th>2</th>\n",
              "      <td>Not tasty and the texture was just nasty.</td>\n",
              "      <td>0</td>\n",
              "      <td>yelp</td>\n",
              "      <td>8</td>\n",
              "    </tr>\n",
              "    <tr>\n",
              "      <th>3</th>\n",
              "      <td>Stopped by during the late May bank holiday of...</td>\n",
              "      <td>1</td>\n",
              "      <td>yelp</td>\n",
              "      <td>15</td>\n",
              "    </tr>\n",
              "    <tr>\n",
              "      <th>4</th>\n",
              "      <td>The selection on the menu was great and so wer...</td>\n",
              "      <td>1</td>\n",
              "      <td>yelp</td>\n",
              "      <td>12</td>\n",
              "    </tr>\n",
              "  </tbody>\n",
              "</table>\n",
              "</div>\n",
              "      <button class=\"colab-df-convert\" onclick=\"convertToInteractive('df-afaf50c3-7170-4834-8be1-a3bddbf922cc')\"\n",
              "              title=\"Convert this dataframe to an interactive table.\"\n",
              "              style=\"display:none;\">\n",
              "        \n",
              "  <svg xmlns=\"http://www.w3.org/2000/svg\" height=\"24px\"viewBox=\"0 0 24 24\"\n",
              "       width=\"24px\">\n",
              "    <path d=\"M0 0h24v24H0V0z\" fill=\"none\"/>\n",
              "    <path d=\"M18.56 5.44l.94 2.06.94-2.06 2.06-.94-2.06-.94-.94-2.06-.94 2.06-2.06.94zm-11 1L8.5 8.5l.94-2.06 2.06-.94-2.06-.94L8.5 2.5l-.94 2.06-2.06.94zm10 10l.94 2.06.94-2.06 2.06-.94-2.06-.94-.94-2.06-.94 2.06-2.06.94z\"/><path d=\"M17.41 7.96l-1.37-1.37c-.4-.4-.92-.59-1.43-.59-.52 0-1.04.2-1.43.59L10.3 9.45l-7.72 7.72c-.78.78-.78 2.05 0 2.83L4 21.41c.39.39.9.59 1.41.59.51 0 1.02-.2 1.41-.59l7.78-7.78 2.81-2.81c.8-.78.8-2.07 0-2.86zM5.41 20L4 18.59l7.72-7.72 1.47 1.35L5.41 20z\"/>\n",
              "  </svg>\n",
              "      </button>\n",
              "      \n",
              "  <style>\n",
              "    .colab-df-container {\n",
              "      display:flex;\n",
              "      flex-wrap:wrap;\n",
              "      gap: 12px;\n",
              "    }\n",
              "\n",
              "    .colab-df-convert {\n",
              "      background-color: #E8F0FE;\n",
              "      border: none;\n",
              "      border-radius: 50%;\n",
              "      cursor: pointer;\n",
              "      display: none;\n",
              "      fill: #1967D2;\n",
              "      height: 32px;\n",
              "      padding: 0 0 0 0;\n",
              "      width: 32px;\n",
              "    }\n",
              "\n",
              "    .colab-df-convert:hover {\n",
              "      background-color: #E2EBFA;\n",
              "      box-shadow: 0px 1px 2px rgba(60, 64, 67, 0.3), 0px 1px 3px 1px rgba(60, 64, 67, 0.15);\n",
              "      fill: #174EA6;\n",
              "    }\n",
              "\n",
              "    [theme=dark] .colab-df-convert {\n",
              "      background-color: #3B4455;\n",
              "      fill: #D2E3FC;\n",
              "    }\n",
              "\n",
              "    [theme=dark] .colab-df-convert:hover {\n",
              "      background-color: #434B5C;\n",
              "      box-shadow: 0px 1px 3px 1px rgba(0, 0, 0, 0.15);\n",
              "      filter: drop-shadow(0px 1px 2px rgba(0, 0, 0, 0.3));\n",
              "      fill: #FFFFFF;\n",
              "    }\n",
              "  </style>\n",
              "\n",
              "      <script>\n",
              "        const buttonEl =\n",
              "          document.querySelector('#df-afaf50c3-7170-4834-8be1-a3bddbf922cc button.colab-df-convert');\n",
              "        buttonEl.style.display =\n",
              "          google.colab.kernel.accessAllowed ? 'block' : 'none';\n",
              "\n",
              "        async function convertToInteractive(key) {\n",
              "          const element = document.querySelector('#df-afaf50c3-7170-4834-8be1-a3bddbf922cc');\n",
              "          const dataTable =\n",
              "            await google.colab.kernel.invokeFunction('convertToInteractive',\n",
              "                                                     [key], {});\n",
              "          if (!dataTable) return;\n",
              "\n",
              "          const docLinkHtml = 'Like what you see? Visit the ' +\n",
              "            '<a target=\"_blank\" href=https://colab.research.google.com/notebooks/data_table.ipynb>data table notebook</a>'\n",
              "            + ' to learn more about interactive tables.';\n",
              "          element.innerHTML = '';\n",
              "          dataTable['output_type'] = 'display_data';\n",
              "          await google.colab.output.renderOutput(dataTable, element);\n",
              "          const docLink = document.createElement('div');\n",
              "          docLink.innerHTML = docLinkHtml;\n",
              "          element.appendChild(docLink);\n",
              "        }\n",
              "      </script>\n",
              "    </div>\n",
              "  </div>\n",
              "  "
            ]
          },
          "metadata": {},
          "execution_count": 56
        }
      ]
    },
    {
      "cell_type": "markdown",
      "metadata": {
        "id": "ZNKXacvx60GL"
      },
      "source": [
        "Same above function can be achieved through a simple lambda function."
      ]
    },
    {
      "cell_type": "code",
      "metadata": {
        "id": "6767ZK4ZOAhd",
        "outputId": "770f8130-fbe4-4c6f-94e0-712c0fdf93f1",
        "colab": {
          "base_uri": "https://localhost:8080/",
          "height": 206
        }
      },
      "source": [
        "df['word_count'] = df['sentence'].apply(lambda x: len(str(x).split(\" \")))\n",
        "df.head(5)"
      ],
      "execution_count": 57,
      "outputs": [
        {
          "output_type": "execute_result",
          "data": {
            "text/plain": [
              "                                            sentence  label source  \\\n",
              "0                           Wow... Loved this place.      1   yelp   \n",
              "1                                 Crust is not good.      0   yelp   \n",
              "2          Not tasty and the texture was just nasty.      0   yelp   \n",
              "3  Stopped by during the late May bank holiday of...      1   yelp   \n",
              "4  The selection on the menu was great and so wer...      1   yelp   \n",
              "\n",
              "   word_count_function  word_count  \n",
              "0                    4           4  \n",
              "1                    4           4  \n",
              "2                    8           8  \n",
              "3                   15          15  \n",
              "4                   12          12  "
            ],
            "text/html": [
              "\n",
              "  <div id=\"df-50cfb9ce-13d3-4a33-a4b2-2659d0a18325\">\n",
              "    <div class=\"colab-df-container\">\n",
              "      <div>\n",
              "<style scoped>\n",
              "    .dataframe tbody tr th:only-of-type {\n",
              "        vertical-align: middle;\n",
              "    }\n",
              "\n",
              "    .dataframe tbody tr th {\n",
              "        vertical-align: top;\n",
              "    }\n",
              "\n",
              "    .dataframe thead th {\n",
              "        text-align: right;\n",
              "    }\n",
              "</style>\n",
              "<table border=\"1\" class=\"dataframe\">\n",
              "  <thead>\n",
              "    <tr style=\"text-align: right;\">\n",
              "      <th></th>\n",
              "      <th>sentence</th>\n",
              "      <th>label</th>\n",
              "      <th>source</th>\n",
              "      <th>word_count_function</th>\n",
              "      <th>word_count</th>\n",
              "    </tr>\n",
              "  </thead>\n",
              "  <tbody>\n",
              "    <tr>\n",
              "      <th>0</th>\n",
              "      <td>Wow... Loved this place.</td>\n",
              "      <td>1</td>\n",
              "      <td>yelp</td>\n",
              "      <td>4</td>\n",
              "      <td>4</td>\n",
              "    </tr>\n",
              "    <tr>\n",
              "      <th>1</th>\n",
              "      <td>Crust is not good.</td>\n",
              "      <td>0</td>\n",
              "      <td>yelp</td>\n",
              "      <td>4</td>\n",
              "      <td>4</td>\n",
              "    </tr>\n",
              "    <tr>\n",
              "      <th>2</th>\n",
              "      <td>Not tasty and the texture was just nasty.</td>\n",
              "      <td>0</td>\n",
              "      <td>yelp</td>\n",
              "      <td>8</td>\n",
              "      <td>8</td>\n",
              "    </tr>\n",
              "    <tr>\n",
              "      <th>3</th>\n",
              "      <td>Stopped by during the late May bank holiday of...</td>\n",
              "      <td>1</td>\n",
              "      <td>yelp</td>\n",
              "      <td>15</td>\n",
              "      <td>15</td>\n",
              "    </tr>\n",
              "    <tr>\n",
              "      <th>4</th>\n",
              "      <td>The selection on the menu was great and so wer...</td>\n",
              "      <td>1</td>\n",
              "      <td>yelp</td>\n",
              "      <td>12</td>\n",
              "      <td>12</td>\n",
              "    </tr>\n",
              "  </tbody>\n",
              "</table>\n",
              "</div>\n",
              "      <button class=\"colab-df-convert\" onclick=\"convertToInteractive('df-50cfb9ce-13d3-4a33-a4b2-2659d0a18325')\"\n",
              "              title=\"Convert this dataframe to an interactive table.\"\n",
              "              style=\"display:none;\">\n",
              "        \n",
              "  <svg xmlns=\"http://www.w3.org/2000/svg\" height=\"24px\"viewBox=\"0 0 24 24\"\n",
              "       width=\"24px\">\n",
              "    <path d=\"M0 0h24v24H0V0z\" fill=\"none\"/>\n",
              "    <path d=\"M18.56 5.44l.94 2.06.94-2.06 2.06-.94-2.06-.94-.94-2.06-.94 2.06-2.06.94zm-11 1L8.5 8.5l.94-2.06 2.06-.94-2.06-.94L8.5 2.5l-.94 2.06-2.06.94zm10 10l.94 2.06.94-2.06 2.06-.94-2.06-.94-.94-2.06-.94 2.06-2.06.94z\"/><path d=\"M17.41 7.96l-1.37-1.37c-.4-.4-.92-.59-1.43-.59-.52 0-1.04.2-1.43.59L10.3 9.45l-7.72 7.72c-.78.78-.78 2.05 0 2.83L4 21.41c.39.39.9.59 1.41.59.51 0 1.02-.2 1.41-.59l7.78-7.78 2.81-2.81c.8-.78.8-2.07 0-2.86zM5.41 20L4 18.59l7.72-7.72 1.47 1.35L5.41 20z\"/>\n",
              "  </svg>\n",
              "      </button>\n",
              "      \n",
              "  <style>\n",
              "    .colab-df-container {\n",
              "      display:flex;\n",
              "      flex-wrap:wrap;\n",
              "      gap: 12px;\n",
              "    }\n",
              "\n",
              "    .colab-df-convert {\n",
              "      background-color: #E8F0FE;\n",
              "      border: none;\n",
              "      border-radius: 50%;\n",
              "      cursor: pointer;\n",
              "      display: none;\n",
              "      fill: #1967D2;\n",
              "      height: 32px;\n",
              "      padding: 0 0 0 0;\n",
              "      width: 32px;\n",
              "    }\n",
              "\n",
              "    .colab-df-convert:hover {\n",
              "      background-color: #E2EBFA;\n",
              "      box-shadow: 0px 1px 2px rgba(60, 64, 67, 0.3), 0px 1px 3px 1px rgba(60, 64, 67, 0.15);\n",
              "      fill: #174EA6;\n",
              "    }\n",
              "\n",
              "    [theme=dark] .colab-df-convert {\n",
              "      background-color: #3B4455;\n",
              "      fill: #D2E3FC;\n",
              "    }\n",
              "\n",
              "    [theme=dark] .colab-df-convert:hover {\n",
              "      background-color: #434B5C;\n",
              "      box-shadow: 0px 1px 3px 1px rgba(0, 0, 0, 0.15);\n",
              "      filter: drop-shadow(0px 1px 2px rgba(0, 0, 0, 0.3));\n",
              "      fill: #FFFFFF;\n",
              "    }\n",
              "  </style>\n",
              "\n",
              "      <script>\n",
              "        const buttonEl =\n",
              "          document.querySelector('#df-50cfb9ce-13d3-4a33-a4b2-2659d0a18325 button.colab-df-convert');\n",
              "        buttonEl.style.display =\n",
              "          google.colab.kernel.accessAllowed ? 'block' : 'none';\n",
              "\n",
              "        async function convertToInteractive(key) {\n",
              "          const element = document.querySelector('#df-50cfb9ce-13d3-4a33-a4b2-2659d0a18325');\n",
              "          const dataTable =\n",
              "            await google.colab.kernel.invokeFunction('convertToInteractive',\n",
              "                                                     [key], {});\n",
              "          if (!dataTable) return;\n",
              "\n",
              "          const docLinkHtml = 'Like what you see? Visit the ' +\n",
              "            '<a target=\"_blank\" href=https://colab.research.google.com/notebooks/data_table.ipynb>data table notebook</a>'\n",
              "            + ' to learn more about interactive tables.';\n",
              "          element.innerHTML = '';\n",
              "          dataTable['output_type'] = 'display_data';\n",
              "          await google.colab.output.renderOutput(dataTable, element);\n",
              "          const docLink = document.createElement('div');\n",
              "          docLink.innerHTML = docLinkHtml;\n",
              "          element.appendChild(docLink);\n",
              "        }\n",
              "      </script>\n",
              "    </div>\n",
              "  </div>\n",
              "  "
            ]
          },
          "metadata": {},
          "execution_count": 57
        }
      ]
    },
    {
      "cell_type": "markdown",
      "metadata": {
        "id": "5RYDf5StaS5s"
      },
      "source": [
        "Similarly, count the number of characters of each sentence"
      ]
    },
    {
      "cell_type": "code",
      "metadata": {
        "id": "PrT9GLxt5RgZ",
        "outputId": "b3286c70-42e6-4a44-b102-067994a2b02a",
        "colab": {
          "base_uri": "https://localhost:8080/",
          "height": 206
        }
      },
      "source": [
        "df['char_count'] = df['sentence'].str.len()  # Includes the spaces\n",
        "df.head(5)"
      ],
      "execution_count": 58,
      "outputs": [
        {
          "output_type": "execute_result",
          "data": {
            "text/plain": [
              "                                            sentence  label source  \\\n",
              "0                           Wow... Loved this place.      1   yelp   \n",
              "1                                 Crust is not good.      0   yelp   \n",
              "2          Not tasty and the texture was just nasty.      0   yelp   \n",
              "3  Stopped by during the late May bank holiday of...      1   yelp   \n",
              "4  The selection on the menu was great and so wer...      1   yelp   \n",
              "\n",
              "   word_count_function  word_count  char_count  \n",
              "0                    4           4          24  \n",
              "1                    4           4          18  \n",
              "2                    8           8          41  \n",
              "3                   15          15          87  \n",
              "4                   12          12          59  "
            ],
            "text/html": [
              "\n",
              "  <div id=\"df-e47c0d7c-982a-4cf6-b88d-91b42c6a5ff0\">\n",
              "    <div class=\"colab-df-container\">\n",
              "      <div>\n",
              "<style scoped>\n",
              "    .dataframe tbody tr th:only-of-type {\n",
              "        vertical-align: middle;\n",
              "    }\n",
              "\n",
              "    .dataframe tbody tr th {\n",
              "        vertical-align: top;\n",
              "    }\n",
              "\n",
              "    .dataframe thead th {\n",
              "        text-align: right;\n",
              "    }\n",
              "</style>\n",
              "<table border=\"1\" class=\"dataframe\">\n",
              "  <thead>\n",
              "    <tr style=\"text-align: right;\">\n",
              "      <th></th>\n",
              "      <th>sentence</th>\n",
              "      <th>label</th>\n",
              "      <th>source</th>\n",
              "      <th>word_count_function</th>\n",
              "      <th>word_count</th>\n",
              "      <th>char_count</th>\n",
              "    </tr>\n",
              "  </thead>\n",
              "  <tbody>\n",
              "    <tr>\n",
              "      <th>0</th>\n",
              "      <td>Wow... Loved this place.</td>\n",
              "      <td>1</td>\n",
              "      <td>yelp</td>\n",
              "      <td>4</td>\n",
              "      <td>4</td>\n",
              "      <td>24</td>\n",
              "    </tr>\n",
              "    <tr>\n",
              "      <th>1</th>\n",
              "      <td>Crust is not good.</td>\n",
              "      <td>0</td>\n",
              "      <td>yelp</td>\n",
              "      <td>4</td>\n",
              "      <td>4</td>\n",
              "      <td>18</td>\n",
              "    </tr>\n",
              "    <tr>\n",
              "      <th>2</th>\n",
              "      <td>Not tasty and the texture was just nasty.</td>\n",
              "      <td>0</td>\n",
              "      <td>yelp</td>\n",
              "      <td>8</td>\n",
              "      <td>8</td>\n",
              "      <td>41</td>\n",
              "    </tr>\n",
              "    <tr>\n",
              "      <th>3</th>\n",
              "      <td>Stopped by during the late May bank holiday of...</td>\n",
              "      <td>1</td>\n",
              "      <td>yelp</td>\n",
              "      <td>15</td>\n",
              "      <td>15</td>\n",
              "      <td>87</td>\n",
              "    </tr>\n",
              "    <tr>\n",
              "      <th>4</th>\n",
              "      <td>The selection on the menu was great and so wer...</td>\n",
              "      <td>1</td>\n",
              "      <td>yelp</td>\n",
              "      <td>12</td>\n",
              "      <td>12</td>\n",
              "      <td>59</td>\n",
              "    </tr>\n",
              "  </tbody>\n",
              "</table>\n",
              "</div>\n",
              "      <button class=\"colab-df-convert\" onclick=\"convertToInteractive('df-e47c0d7c-982a-4cf6-b88d-91b42c6a5ff0')\"\n",
              "              title=\"Convert this dataframe to an interactive table.\"\n",
              "              style=\"display:none;\">\n",
              "        \n",
              "  <svg xmlns=\"http://www.w3.org/2000/svg\" height=\"24px\"viewBox=\"0 0 24 24\"\n",
              "       width=\"24px\">\n",
              "    <path d=\"M0 0h24v24H0V0z\" fill=\"none\"/>\n",
              "    <path d=\"M18.56 5.44l.94 2.06.94-2.06 2.06-.94-2.06-.94-.94-2.06-.94 2.06-2.06.94zm-11 1L8.5 8.5l.94-2.06 2.06-.94-2.06-.94L8.5 2.5l-.94 2.06-2.06.94zm10 10l.94 2.06.94-2.06 2.06-.94-2.06-.94-.94-2.06-.94 2.06-2.06.94z\"/><path d=\"M17.41 7.96l-1.37-1.37c-.4-.4-.92-.59-1.43-.59-.52 0-1.04.2-1.43.59L10.3 9.45l-7.72 7.72c-.78.78-.78 2.05 0 2.83L4 21.41c.39.39.9.59 1.41.59.51 0 1.02-.2 1.41-.59l7.78-7.78 2.81-2.81c.8-.78.8-2.07 0-2.86zM5.41 20L4 18.59l7.72-7.72 1.47 1.35L5.41 20z\"/>\n",
              "  </svg>\n",
              "      </button>\n",
              "      \n",
              "  <style>\n",
              "    .colab-df-container {\n",
              "      display:flex;\n",
              "      flex-wrap:wrap;\n",
              "      gap: 12px;\n",
              "    }\n",
              "\n",
              "    .colab-df-convert {\n",
              "      background-color: #E8F0FE;\n",
              "      border: none;\n",
              "      border-radius: 50%;\n",
              "      cursor: pointer;\n",
              "      display: none;\n",
              "      fill: #1967D2;\n",
              "      height: 32px;\n",
              "      padding: 0 0 0 0;\n",
              "      width: 32px;\n",
              "    }\n",
              "\n",
              "    .colab-df-convert:hover {\n",
              "      background-color: #E2EBFA;\n",
              "      box-shadow: 0px 1px 2px rgba(60, 64, 67, 0.3), 0px 1px 3px 1px rgba(60, 64, 67, 0.15);\n",
              "      fill: #174EA6;\n",
              "    }\n",
              "\n",
              "    [theme=dark] .colab-df-convert {\n",
              "      background-color: #3B4455;\n",
              "      fill: #D2E3FC;\n",
              "    }\n",
              "\n",
              "    [theme=dark] .colab-df-convert:hover {\n",
              "      background-color: #434B5C;\n",
              "      box-shadow: 0px 1px 3px 1px rgba(0, 0, 0, 0.15);\n",
              "      filter: drop-shadow(0px 1px 2px rgba(0, 0, 0, 0.3));\n",
              "      fill: #FFFFFF;\n",
              "    }\n",
              "  </style>\n",
              "\n",
              "      <script>\n",
              "        const buttonEl =\n",
              "          document.querySelector('#df-e47c0d7c-982a-4cf6-b88d-91b42c6a5ff0 button.colab-df-convert');\n",
              "        buttonEl.style.display =\n",
              "          google.colab.kernel.accessAllowed ? 'block' : 'none';\n",
              "\n",
              "        async function convertToInteractive(key) {\n",
              "          const element = document.querySelector('#df-e47c0d7c-982a-4cf6-b88d-91b42c6a5ff0');\n",
              "          const dataTable =\n",
              "            await google.colab.kernel.invokeFunction('convertToInteractive',\n",
              "                                                     [key], {});\n",
              "          if (!dataTable) return;\n",
              "\n",
              "          const docLinkHtml = 'Like what you see? Visit the ' +\n",
              "            '<a target=\"_blank\" href=https://colab.research.google.com/notebooks/data_table.ipynb>data table notebook</a>'\n",
              "            + ' to learn more about interactive tables.';\n",
              "          element.innerHTML = '';\n",
              "          dataTable['output_type'] = 'display_data';\n",
              "          await google.colab.output.renderOutput(dataTable, element);\n",
              "          const docLink = document.createElement('div');\n",
              "          docLink.innerHTML = docLinkHtml;\n",
              "          element.appendChild(docLink);\n",
              "        }\n",
              "      </script>\n",
              "    </div>\n",
              "  </div>\n",
              "  "
            ]
          },
          "metadata": {},
          "execution_count": 58
        }
      ]
    },
    {
      "cell_type": "markdown",
      "metadata": {
        "id": "LmygJjvfabcd"
      },
      "source": [
        "Calculate the average word length for each sentence.\n",
        "\n",
        "*   First, construct a method (avg_word()) which takes a sentence, split the sentence to words, then calculate the average word length.\n",
        "*   Using pandas dataframe apply() function and avg_word() method, calculate the average word length\n",
        "*  Assign the value to new column names 'avg_word'\n",
        "\n"
      ]
    },
    {
      "cell_type": "code",
      "metadata": {
        "id": "Z-FyuyvnbMS3",
        "outputId": "988ffced-5cf0-4701-e4d8-c79fc4a5e53f",
        "colab": {
          "base_uri": "https://localhost:8080/",
          "height": 206
        }
      },
      "source": [
        "def avg_word(sentence):\n",
        "  words = sentence.split() # split the sentence into words\n",
        "  avg_of_words = (sum(len(word) for word in words)/len(words))\n",
        "  return avg_of_words\n",
        "\n",
        "df['avg_word'] = df['sentence'].apply(avg_word)\n",
        "df.head(5)"
      ],
      "execution_count": 59,
      "outputs": [
        {
          "output_type": "execute_result",
          "data": {
            "text/plain": [
              "                                            sentence  label source  \\\n",
              "0                           Wow... Loved this place.      1   yelp   \n",
              "1                                 Crust is not good.      0   yelp   \n",
              "2          Not tasty and the texture was just nasty.      0   yelp   \n",
              "3  Stopped by during the late May bank holiday of...      1   yelp   \n",
              "4  The selection on the menu was great and so wer...      1   yelp   \n",
              "\n",
              "   word_count_function  word_count  char_count  avg_word  \n",
              "0                    4           4          24  5.250000  \n",
              "1                    4           4          18  3.750000  \n",
              "2                    8           8          41  4.250000  \n",
              "3                   15          15          87  4.866667  \n",
              "4                   12          12          59  4.000000  "
            ],
            "text/html": [
              "\n",
              "  <div id=\"df-4943dcf5-a7cb-436b-b9ad-eb44c17adc5b\">\n",
              "    <div class=\"colab-df-container\">\n",
              "      <div>\n",
              "<style scoped>\n",
              "    .dataframe tbody tr th:only-of-type {\n",
              "        vertical-align: middle;\n",
              "    }\n",
              "\n",
              "    .dataframe tbody tr th {\n",
              "        vertical-align: top;\n",
              "    }\n",
              "\n",
              "    .dataframe thead th {\n",
              "        text-align: right;\n",
              "    }\n",
              "</style>\n",
              "<table border=\"1\" class=\"dataframe\">\n",
              "  <thead>\n",
              "    <tr style=\"text-align: right;\">\n",
              "      <th></th>\n",
              "      <th>sentence</th>\n",
              "      <th>label</th>\n",
              "      <th>source</th>\n",
              "      <th>word_count_function</th>\n",
              "      <th>word_count</th>\n",
              "      <th>char_count</th>\n",
              "      <th>avg_word</th>\n",
              "    </tr>\n",
              "  </thead>\n",
              "  <tbody>\n",
              "    <tr>\n",
              "      <th>0</th>\n",
              "      <td>Wow... Loved this place.</td>\n",
              "      <td>1</td>\n",
              "      <td>yelp</td>\n",
              "      <td>4</td>\n",
              "      <td>4</td>\n",
              "      <td>24</td>\n",
              "      <td>5.250000</td>\n",
              "    </tr>\n",
              "    <tr>\n",
              "      <th>1</th>\n",
              "      <td>Crust is not good.</td>\n",
              "      <td>0</td>\n",
              "      <td>yelp</td>\n",
              "      <td>4</td>\n",
              "      <td>4</td>\n",
              "      <td>18</td>\n",
              "      <td>3.750000</td>\n",
              "    </tr>\n",
              "    <tr>\n",
              "      <th>2</th>\n",
              "      <td>Not tasty and the texture was just nasty.</td>\n",
              "      <td>0</td>\n",
              "      <td>yelp</td>\n",
              "      <td>8</td>\n",
              "      <td>8</td>\n",
              "      <td>41</td>\n",
              "      <td>4.250000</td>\n",
              "    </tr>\n",
              "    <tr>\n",
              "      <th>3</th>\n",
              "      <td>Stopped by during the late May bank holiday of...</td>\n",
              "      <td>1</td>\n",
              "      <td>yelp</td>\n",
              "      <td>15</td>\n",
              "      <td>15</td>\n",
              "      <td>87</td>\n",
              "      <td>4.866667</td>\n",
              "    </tr>\n",
              "    <tr>\n",
              "      <th>4</th>\n",
              "      <td>The selection on the menu was great and so wer...</td>\n",
              "      <td>1</td>\n",
              "      <td>yelp</td>\n",
              "      <td>12</td>\n",
              "      <td>12</td>\n",
              "      <td>59</td>\n",
              "      <td>4.000000</td>\n",
              "    </tr>\n",
              "  </tbody>\n",
              "</table>\n",
              "</div>\n",
              "      <button class=\"colab-df-convert\" onclick=\"convertToInteractive('df-4943dcf5-a7cb-436b-b9ad-eb44c17adc5b')\"\n",
              "              title=\"Convert this dataframe to an interactive table.\"\n",
              "              style=\"display:none;\">\n",
              "        \n",
              "  <svg xmlns=\"http://www.w3.org/2000/svg\" height=\"24px\"viewBox=\"0 0 24 24\"\n",
              "       width=\"24px\">\n",
              "    <path d=\"M0 0h24v24H0V0z\" fill=\"none\"/>\n",
              "    <path d=\"M18.56 5.44l.94 2.06.94-2.06 2.06-.94-2.06-.94-.94-2.06-.94 2.06-2.06.94zm-11 1L8.5 8.5l.94-2.06 2.06-.94-2.06-.94L8.5 2.5l-.94 2.06-2.06.94zm10 10l.94 2.06.94-2.06 2.06-.94-2.06-.94-.94-2.06-.94 2.06-2.06.94z\"/><path d=\"M17.41 7.96l-1.37-1.37c-.4-.4-.92-.59-1.43-.59-.52 0-1.04.2-1.43.59L10.3 9.45l-7.72 7.72c-.78.78-.78 2.05 0 2.83L4 21.41c.39.39.9.59 1.41.59.51 0 1.02-.2 1.41-.59l7.78-7.78 2.81-2.81c.8-.78.8-2.07 0-2.86zM5.41 20L4 18.59l7.72-7.72 1.47 1.35L5.41 20z\"/>\n",
              "  </svg>\n",
              "      </button>\n",
              "      \n",
              "  <style>\n",
              "    .colab-df-container {\n",
              "      display:flex;\n",
              "      flex-wrap:wrap;\n",
              "      gap: 12px;\n",
              "    }\n",
              "\n",
              "    .colab-df-convert {\n",
              "      background-color: #E8F0FE;\n",
              "      border: none;\n",
              "      border-radius: 50%;\n",
              "      cursor: pointer;\n",
              "      display: none;\n",
              "      fill: #1967D2;\n",
              "      height: 32px;\n",
              "      padding: 0 0 0 0;\n",
              "      width: 32px;\n",
              "    }\n",
              "\n",
              "    .colab-df-convert:hover {\n",
              "      background-color: #E2EBFA;\n",
              "      box-shadow: 0px 1px 2px rgba(60, 64, 67, 0.3), 0px 1px 3px 1px rgba(60, 64, 67, 0.15);\n",
              "      fill: #174EA6;\n",
              "    }\n",
              "\n",
              "    [theme=dark] .colab-df-convert {\n",
              "      background-color: #3B4455;\n",
              "      fill: #D2E3FC;\n",
              "    }\n",
              "\n",
              "    [theme=dark] .colab-df-convert:hover {\n",
              "      background-color: #434B5C;\n",
              "      box-shadow: 0px 1px 3px 1px rgba(0, 0, 0, 0.15);\n",
              "      filter: drop-shadow(0px 1px 2px rgba(0, 0, 0, 0.3));\n",
              "      fill: #FFFFFF;\n",
              "    }\n",
              "  </style>\n",
              "\n",
              "      <script>\n",
              "        const buttonEl =\n",
              "          document.querySelector('#df-4943dcf5-a7cb-436b-b9ad-eb44c17adc5b button.colab-df-convert');\n",
              "        buttonEl.style.display =\n",
              "          google.colab.kernel.accessAllowed ? 'block' : 'none';\n",
              "\n",
              "        async function convertToInteractive(key) {\n",
              "          const element = document.querySelector('#df-4943dcf5-a7cb-436b-b9ad-eb44c17adc5b');\n",
              "          const dataTable =\n",
              "            await google.colab.kernel.invokeFunction('convertToInteractive',\n",
              "                                                     [key], {});\n",
              "          if (!dataTable) return;\n",
              "\n",
              "          const docLinkHtml = 'Like what you see? Visit the ' +\n",
              "            '<a target=\"_blank\" href=https://colab.research.google.com/notebooks/data_table.ipynb>data table notebook</a>'\n",
              "            + ' to learn more about interactive tables.';\n",
              "          element.innerHTML = '';\n",
              "          dataTable['output_type'] = 'display_data';\n",
              "          await google.colab.output.renderOutput(dataTable, element);\n",
              "          const docLink = document.createElement('div');\n",
              "          docLink.innerHTML = docLinkHtml;\n",
              "          element.appendChild(docLink);\n",
              "        }\n",
              "      </script>\n",
              "    </div>\n",
              "  </div>\n",
              "  "
            ]
          },
          "metadata": {},
          "execution_count": 59
        }
      ]
    },
    {
      "cell_type": "markdown",
      "metadata": {
        "id": "c7NajYVd8t-r"
      },
      "source": [
        "## Text pre-processing\n",
        "\n",
        "Pre-processing is mandatory for most text analytics tasks, as text in its raw format is unstructured and noisy. \n",
        "\n",
        "In the following snippets you will run several pre-processing steps.  \n",
        "\n",
        "**Please note that pre-processing is to be used with clear understanding of the expected outcome of text analytics, as each pre-processing step is not relevant or applicable to every NLP task.**"
      ]
    },
    {
      "cell_type": "markdown",
      "metadata": {
        "id": "mZ56xCM0dxLy"
      },
      "source": [
        "Uppercase and lowercase characters are used for clarity in human communication. However, for a machine such distinction would create unnecessary complexities. Therefore, we transform all characters to lowercase."
      ]
    },
    {
      "cell_type": "code",
      "metadata": {
        "id": "gowXmkYk50h_",
        "outputId": "ddf514c1-6579-44e5-b315-f92828ef0cb1",
        "colab": {
          "base_uri": "https://localhost:8080/",
          "height": 206
        }
      },
      "source": [
        "df['sentence'] = df['sentence'].str.lower()\n",
        "df.head()"
      ],
      "execution_count": 60,
      "outputs": [
        {
          "output_type": "execute_result",
          "data": {
            "text/plain": [
              "                                            sentence  label source  \\\n",
              "0                           wow... loved this place.      1   yelp   \n",
              "1                                 crust is not good.      0   yelp   \n",
              "2          not tasty and the texture was just nasty.      0   yelp   \n",
              "3  stopped by during the late may bank holiday of...      1   yelp   \n",
              "4  the selection on the menu was great and so wer...      1   yelp   \n",
              "\n",
              "   word_count_function  word_count  char_count  avg_word  \n",
              "0                    4           4          24  5.250000  \n",
              "1                    4           4          18  3.750000  \n",
              "2                    8           8          41  4.250000  \n",
              "3                   15          15          87  4.866667  \n",
              "4                   12          12          59  4.000000  "
            ],
            "text/html": [
              "\n",
              "  <div id=\"df-f30ca887-713c-459f-9a05-ad2b54fe0e09\">\n",
              "    <div class=\"colab-df-container\">\n",
              "      <div>\n",
              "<style scoped>\n",
              "    .dataframe tbody tr th:only-of-type {\n",
              "        vertical-align: middle;\n",
              "    }\n",
              "\n",
              "    .dataframe tbody tr th {\n",
              "        vertical-align: top;\n",
              "    }\n",
              "\n",
              "    .dataframe thead th {\n",
              "        text-align: right;\n",
              "    }\n",
              "</style>\n",
              "<table border=\"1\" class=\"dataframe\">\n",
              "  <thead>\n",
              "    <tr style=\"text-align: right;\">\n",
              "      <th></th>\n",
              "      <th>sentence</th>\n",
              "      <th>label</th>\n",
              "      <th>source</th>\n",
              "      <th>word_count_function</th>\n",
              "      <th>word_count</th>\n",
              "      <th>char_count</th>\n",
              "      <th>avg_word</th>\n",
              "    </tr>\n",
              "  </thead>\n",
              "  <tbody>\n",
              "    <tr>\n",
              "      <th>0</th>\n",
              "      <td>wow... loved this place.</td>\n",
              "      <td>1</td>\n",
              "      <td>yelp</td>\n",
              "      <td>4</td>\n",
              "      <td>4</td>\n",
              "      <td>24</td>\n",
              "      <td>5.250000</td>\n",
              "    </tr>\n",
              "    <tr>\n",
              "      <th>1</th>\n",
              "      <td>crust is not good.</td>\n",
              "      <td>0</td>\n",
              "      <td>yelp</td>\n",
              "      <td>4</td>\n",
              "      <td>4</td>\n",
              "      <td>18</td>\n",
              "      <td>3.750000</td>\n",
              "    </tr>\n",
              "    <tr>\n",
              "      <th>2</th>\n",
              "      <td>not tasty and the texture was just nasty.</td>\n",
              "      <td>0</td>\n",
              "      <td>yelp</td>\n",
              "      <td>8</td>\n",
              "      <td>8</td>\n",
              "      <td>41</td>\n",
              "      <td>4.250000</td>\n",
              "    </tr>\n",
              "    <tr>\n",
              "      <th>3</th>\n",
              "      <td>stopped by during the late may bank holiday of...</td>\n",
              "      <td>1</td>\n",
              "      <td>yelp</td>\n",
              "      <td>15</td>\n",
              "      <td>15</td>\n",
              "      <td>87</td>\n",
              "      <td>4.866667</td>\n",
              "    </tr>\n",
              "    <tr>\n",
              "      <th>4</th>\n",
              "      <td>the selection on the menu was great and so wer...</td>\n",
              "      <td>1</td>\n",
              "      <td>yelp</td>\n",
              "      <td>12</td>\n",
              "      <td>12</td>\n",
              "      <td>59</td>\n",
              "      <td>4.000000</td>\n",
              "    </tr>\n",
              "  </tbody>\n",
              "</table>\n",
              "</div>\n",
              "      <button class=\"colab-df-convert\" onclick=\"convertToInteractive('df-f30ca887-713c-459f-9a05-ad2b54fe0e09')\"\n",
              "              title=\"Convert this dataframe to an interactive table.\"\n",
              "              style=\"display:none;\">\n",
              "        \n",
              "  <svg xmlns=\"http://www.w3.org/2000/svg\" height=\"24px\"viewBox=\"0 0 24 24\"\n",
              "       width=\"24px\">\n",
              "    <path d=\"M0 0h24v24H0V0z\" fill=\"none\"/>\n",
              "    <path d=\"M18.56 5.44l.94 2.06.94-2.06 2.06-.94-2.06-.94-.94-2.06-.94 2.06-2.06.94zm-11 1L8.5 8.5l.94-2.06 2.06-.94-2.06-.94L8.5 2.5l-.94 2.06-2.06.94zm10 10l.94 2.06.94-2.06 2.06-.94-2.06-.94-.94-2.06-.94 2.06-2.06.94z\"/><path d=\"M17.41 7.96l-1.37-1.37c-.4-.4-.92-.59-1.43-.59-.52 0-1.04.2-1.43.59L10.3 9.45l-7.72 7.72c-.78.78-.78 2.05 0 2.83L4 21.41c.39.39.9.59 1.41.59.51 0 1.02-.2 1.41-.59l7.78-7.78 2.81-2.81c.8-.78.8-2.07 0-2.86zM5.41 20L4 18.59l7.72-7.72 1.47 1.35L5.41 20z\"/>\n",
              "  </svg>\n",
              "      </button>\n",
              "      \n",
              "  <style>\n",
              "    .colab-df-container {\n",
              "      display:flex;\n",
              "      flex-wrap:wrap;\n",
              "      gap: 12px;\n",
              "    }\n",
              "\n",
              "    .colab-df-convert {\n",
              "      background-color: #E8F0FE;\n",
              "      border: none;\n",
              "      border-radius: 50%;\n",
              "      cursor: pointer;\n",
              "      display: none;\n",
              "      fill: #1967D2;\n",
              "      height: 32px;\n",
              "      padding: 0 0 0 0;\n",
              "      width: 32px;\n",
              "    }\n",
              "\n",
              "    .colab-df-convert:hover {\n",
              "      background-color: #E2EBFA;\n",
              "      box-shadow: 0px 1px 2px rgba(60, 64, 67, 0.3), 0px 1px 3px 1px rgba(60, 64, 67, 0.15);\n",
              "      fill: #174EA6;\n",
              "    }\n",
              "\n",
              "    [theme=dark] .colab-df-convert {\n",
              "      background-color: #3B4455;\n",
              "      fill: #D2E3FC;\n",
              "    }\n",
              "\n",
              "    [theme=dark] .colab-df-convert:hover {\n",
              "      background-color: #434B5C;\n",
              "      box-shadow: 0px 1px 3px 1px rgba(0, 0, 0, 0.15);\n",
              "      filter: drop-shadow(0px 1px 2px rgba(0, 0, 0, 0.3));\n",
              "      fill: #FFFFFF;\n",
              "    }\n",
              "  </style>\n",
              "\n",
              "      <script>\n",
              "        const buttonEl =\n",
              "          document.querySelector('#df-f30ca887-713c-459f-9a05-ad2b54fe0e09 button.colab-df-convert');\n",
              "        buttonEl.style.display =\n",
              "          google.colab.kernel.accessAllowed ? 'block' : 'none';\n",
              "\n",
              "        async function convertToInteractive(key) {\n",
              "          const element = document.querySelector('#df-f30ca887-713c-459f-9a05-ad2b54fe0e09');\n",
              "          const dataTable =\n",
              "            await google.colab.kernel.invokeFunction('convertToInteractive',\n",
              "                                                     [key], {});\n",
              "          if (!dataTable) return;\n",
              "\n",
              "          const docLinkHtml = 'Like what you see? Visit the ' +\n",
              "            '<a target=\"_blank\" href=https://colab.research.google.com/notebooks/data_table.ipynb>data table notebook</a>'\n",
              "            + ' to learn more about interactive tables.';\n",
              "          element.innerHTML = '';\n",
              "          dataTable['output_type'] = 'display_data';\n",
              "          await google.colab.output.renderOutput(dataTable, element);\n",
              "          const docLink = document.createElement('div');\n",
              "          docLink.innerHTML = docLinkHtml;\n",
              "          element.appendChild(docLink);\n",
              "        }\n",
              "      </script>\n",
              "    </div>\n",
              "  </div>\n",
              "  "
            ]
          },
          "metadata": {},
          "execution_count": 60
        }
      ]
    },
    {
      "cell_type": "markdown",
      "metadata": {
        "id": "iXvngUDDelRX"
      },
      "source": [
        "Same with punctuation marks, we remove all using [regular expressions](https://www.w3schools.com/python/python_regex.asp) .  \n",
        "**Regular Expressions** - A regular expression is a special sequence of characters that helps you match or find other strings or sets of strings. "
      ]
    },
    {
      "cell_type": "code",
      "metadata": {
        "id": "WHsiGbbY9Hqg",
        "outputId": "8753ec83-b4a2-46a8-aac9-3590c3bc128a",
        "colab": {
          "base_uri": "https://localhost:8080/",
          "height": 242
        }
      },
      "source": [
        "# This regular expression only keeps words and characters\n",
        "df['sentence'] = df['sentence'].str.replace('[^\\w\\s]','')\n",
        "df.head()"
      ],
      "execution_count": 61,
      "outputs": [
        {
          "output_type": "stream",
          "name": "stderr",
          "text": [
            "<ipython-input-61-26646ab05ffb>:2: FutureWarning: The default value of regex will change from True to False in a future version.\n",
            "  df['sentence'] = df['sentence'].str.replace('[^\\w\\s]','')\n"
          ]
        },
        {
          "output_type": "execute_result",
          "data": {
            "text/plain": [
              "                                            sentence  label source  \\\n",
              "0                               wow loved this place      1   yelp   \n",
              "1                                  crust is not good      0   yelp   \n",
              "2           not tasty and the texture was just nasty      0   yelp   \n",
              "3  stopped by during the late may bank holiday of...      1   yelp   \n",
              "4  the selection on the menu was great and so wer...      1   yelp   \n",
              "\n",
              "   word_count_function  word_count  char_count  avg_word  \n",
              "0                    4           4          24  5.250000  \n",
              "1                    4           4          18  3.750000  \n",
              "2                    8           8          41  4.250000  \n",
              "3                   15          15          87  4.866667  \n",
              "4                   12          12          59  4.000000  "
            ],
            "text/html": [
              "\n",
              "  <div id=\"df-8503a897-3353-47e1-9a7b-e07e1c664e11\">\n",
              "    <div class=\"colab-df-container\">\n",
              "      <div>\n",
              "<style scoped>\n",
              "    .dataframe tbody tr th:only-of-type {\n",
              "        vertical-align: middle;\n",
              "    }\n",
              "\n",
              "    .dataframe tbody tr th {\n",
              "        vertical-align: top;\n",
              "    }\n",
              "\n",
              "    .dataframe thead th {\n",
              "        text-align: right;\n",
              "    }\n",
              "</style>\n",
              "<table border=\"1\" class=\"dataframe\">\n",
              "  <thead>\n",
              "    <tr style=\"text-align: right;\">\n",
              "      <th></th>\n",
              "      <th>sentence</th>\n",
              "      <th>label</th>\n",
              "      <th>source</th>\n",
              "      <th>word_count_function</th>\n",
              "      <th>word_count</th>\n",
              "      <th>char_count</th>\n",
              "      <th>avg_word</th>\n",
              "    </tr>\n",
              "  </thead>\n",
              "  <tbody>\n",
              "    <tr>\n",
              "      <th>0</th>\n",
              "      <td>wow loved this place</td>\n",
              "      <td>1</td>\n",
              "      <td>yelp</td>\n",
              "      <td>4</td>\n",
              "      <td>4</td>\n",
              "      <td>24</td>\n",
              "      <td>5.250000</td>\n",
              "    </tr>\n",
              "    <tr>\n",
              "      <th>1</th>\n",
              "      <td>crust is not good</td>\n",
              "      <td>0</td>\n",
              "      <td>yelp</td>\n",
              "      <td>4</td>\n",
              "      <td>4</td>\n",
              "      <td>18</td>\n",
              "      <td>3.750000</td>\n",
              "    </tr>\n",
              "    <tr>\n",
              "      <th>2</th>\n",
              "      <td>not tasty and the texture was just nasty</td>\n",
              "      <td>0</td>\n",
              "      <td>yelp</td>\n",
              "      <td>8</td>\n",
              "      <td>8</td>\n",
              "      <td>41</td>\n",
              "      <td>4.250000</td>\n",
              "    </tr>\n",
              "    <tr>\n",
              "      <th>3</th>\n",
              "      <td>stopped by during the late may bank holiday of...</td>\n",
              "      <td>1</td>\n",
              "      <td>yelp</td>\n",
              "      <td>15</td>\n",
              "      <td>15</td>\n",
              "      <td>87</td>\n",
              "      <td>4.866667</td>\n",
              "    </tr>\n",
              "    <tr>\n",
              "      <th>4</th>\n",
              "      <td>the selection on the menu was great and so wer...</td>\n",
              "      <td>1</td>\n",
              "      <td>yelp</td>\n",
              "      <td>12</td>\n",
              "      <td>12</td>\n",
              "      <td>59</td>\n",
              "      <td>4.000000</td>\n",
              "    </tr>\n",
              "  </tbody>\n",
              "</table>\n",
              "</div>\n",
              "      <button class=\"colab-df-convert\" onclick=\"convertToInteractive('df-8503a897-3353-47e1-9a7b-e07e1c664e11')\"\n",
              "              title=\"Convert this dataframe to an interactive table.\"\n",
              "              style=\"display:none;\">\n",
              "        \n",
              "  <svg xmlns=\"http://www.w3.org/2000/svg\" height=\"24px\"viewBox=\"0 0 24 24\"\n",
              "       width=\"24px\">\n",
              "    <path d=\"M0 0h24v24H0V0z\" fill=\"none\"/>\n",
              "    <path d=\"M18.56 5.44l.94 2.06.94-2.06 2.06-.94-2.06-.94-.94-2.06-.94 2.06-2.06.94zm-11 1L8.5 8.5l.94-2.06 2.06-.94-2.06-.94L8.5 2.5l-.94 2.06-2.06.94zm10 10l.94 2.06.94-2.06 2.06-.94-2.06-.94-.94-2.06-.94 2.06-2.06.94z\"/><path d=\"M17.41 7.96l-1.37-1.37c-.4-.4-.92-.59-1.43-.59-.52 0-1.04.2-1.43.59L10.3 9.45l-7.72 7.72c-.78.78-.78 2.05 0 2.83L4 21.41c.39.39.9.59 1.41.59.51 0 1.02-.2 1.41-.59l7.78-7.78 2.81-2.81c.8-.78.8-2.07 0-2.86zM5.41 20L4 18.59l7.72-7.72 1.47 1.35L5.41 20z\"/>\n",
              "  </svg>\n",
              "      </button>\n",
              "      \n",
              "  <style>\n",
              "    .colab-df-container {\n",
              "      display:flex;\n",
              "      flex-wrap:wrap;\n",
              "      gap: 12px;\n",
              "    }\n",
              "\n",
              "    .colab-df-convert {\n",
              "      background-color: #E8F0FE;\n",
              "      border: none;\n",
              "      border-radius: 50%;\n",
              "      cursor: pointer;\n",
              "      display: none;\n",
              "      fill: #1967D2;\n",
              "      height: 32px;\n",
              "      padding: 0 0 0 0;\n",
              "      width: 32px;\n",
              "    }\n",
              "\n",
              "    .colab-df-convert:hover {\n",
              "      background-color: #E2EBFA;\n",
              "      box-shadow: 0px 1px 2px rgba(60, 64, 67, 0.3), 0px 1px 3px 1px rgba(60, 64, 67, 0.15);\n",
              "      fill: #174EA6;\n",
              "    }\n",
              "\n",
              "    [theme=dark] .colab-df-convert {\n",
              "      background-color: #3B4455;\n",
              "      fill: #D2E3FC;\n",
              "    }\n",
              "\n",
              "    [theme=dark] .colab-df-convert:hover {\n",
              "      background-color: #434B5C;\n",
              "      box-shadow: 0px 1px 3px 1px rgba(0, 0, 0, 0.15);\n",
              "      filter: drop-shadow(0px 1px 2px rgba(0, 0, 0, 0.3));\n",
              "      fill: #FFFFFF;\n",
              "    }\n",
              "  </style>\n",
              "\n",
              "      <script>\n",
              "        const buttonEl =\n",
              "          document.querySelector('#df-8503a897-3353-47e1-9a7b-e07e1c664e11 button.colab-df-convert');\n",
              "        buttonEl.style.display =\n",
              "          google.colab.kernel.accessAllowed ? 'block' : 'none';\n",
              "\n",
              "        async function convertToInteractive(key) {\n",
              "          const element = document.querySelector('#df-8503a897-3353-47e1-9a7b-e07e1c664e11');\n",
              "          const dataTable =\n",
              "            await google.colab.kernel.invokeFunction('convertToInteractive',\n",
              "                                                     [key], {});\n",
              "          if (!dataTable) return;\n",
              "\n",
              "          const docLinkHtml = 'Like what you see? Visit the ' +\n",
              "            '<a target=\"_blank\" href=https://colab.research.google.com/notebooks/data_table.ipynb>data table notebook</a>'\n",
              "            + ' to learn more about interactive tables.';\n",
              "          element.innerHTML = '';\n",
              "          dataTable['output_type'] = 'display_data';\n",
              "          await google.colab.output.renderOutput(dataTable, element);\n",
              "          const docLink = document.createElement('div');\n",
              "          docLink.innerHTML = docLinkHtml;\n",
              "          element.appendChild(docLink);\n",
              "        }\n",
              "      </script>\n",
              "    </div>\n",
              "  </div>\n",
              "  "
            ]
          },
          "metadata": {},
          "execution_count": 61
        }
      ]
    },
    {
      "cell_type": "markdown",
      "metadata": {
        "id": "YbhTrjC6lD1D"
      },
      "source": [
        "### Remove digits"
      ]
    },
    {
      "cell_type": "markdown",
      "metadata": {
        "id": "k-PafqgZe7x7"
      },
      "source": [
        "For a sentiment analytics task, numbers or digits are not needed. Thus, we remove digits from the text dataset. \n",
        "\n",
        "However, for other tasks, numbers may be needed. "
      ]
    },
    {
      "cell_type": "code",
      "metadata": {
        "id": "RKRv9btDlLNz",
        "outputId": "0d0e1b63-e1f1-47bd-9f63-fbd478df280a",
        "colab": {
          "base_uri": "https://localhost:8080/",
          "height": 206
        }
      },
      "source": [
        "def remove_digits(sent):\n",
        "  return \" \".join(w for w in sent.split() if not w.isdigit())\n",
        "\n",
        "df['sentence'] = df['sentence'].apply(remove_digits)\n",
        "df.head()"
      ],
      "execution_count": 62,
      "outputs": [
        {
          "output_type": "execute_result",
          "data": {
            "text/plain": [
              "                                            sentence  label source  \\\n",
              "0                               wow loved this place      1   yelp   \n",
              "1                                  crust is not good      0   yelp   \n",
              "2           not tasty and the texture was just nasty      0   yelp   \n",
              "3  stopped by during the late may bank holiday of...      1   yelp   \n",
              "4  the selection on the menu was great and so wer...      1   yelp   \n",
              "\n",
              "   word_count_function  word_count  char_count  avg_word  \n",
              "0                    4           4          24  5.250000  \n",
              "1                    4           4          18  3.750000  \n",
              "2                    8           8          41  4.250000  \n",
              "3                   15          15          87  4.866667  \n",
              "4                   12          12          59  4.000000  "
            ],
            "text/html": [
              "\n",
              "  <div id=\"df-7be3a971-ae7c-4132-be7d-f3ef6a6151ea\">\n",
              "    <div class=\"colab-df-container\">\n",
              "      <div>\n",
              "<style scoped>\n",
              "    .dataframe tbody tr th:only-of-type {\n",
              "        vertical-align: middle;\n",
              "    }\n",
              "\n",
              "    .dataframe tbody tr th {\n",
              "        vertical-align: top;\n",
              "    }\n",
              "\n",
              "    .dataframe thead th {\n",
              "        text-align: right;\n",
              "    }\n",
              "</style>\n",
              "<table border=\"1\" class=\"dataframe\">\n",
              "  <thead>\n",
              "    <tr style=\"text-align: right;\">\n",
              "      <th></th>\n",
              "      <th>sentence</th>\n",
              "      <th>label</th>\n",
              "      <th>source</th>\n",
              "      <th>word_count_function</th>\n",
              "      <th>word_count</th>\n",
              "      <th>char_count</th>\n",
              "      <th>avg_word</th>\n",
              "    </tr>\n",
              "  </thead>\n",
              "  <tbody>\n",
              "    <tr>\n",
              "      <th>0</th>\n",
              "      <td>wow loved this place</td>\n",
              "      <td>1</td>\n",
              "      <td>yelp</td>\n",
              "      <td>4</td>\n",
              "      <td>4</td>\n",
              "      <td>24</td>\n",
              "      <td>5.250000</td>\n",
              "    </tr>\n",
              "    <tr>\n",
              "      <th>1</th>\n",
              "      <td>crust is not good</td>\n",
              "      <td>0</td>\n",
              "      <td>yelp</td>\n",
              "      <td>4</td>\n",
              "      <td>4</td>\n",
              "      <td>18</td>\n",
              "      <td>3.750000</td>\n",
              "    </tr>\n",
              "    <tr>\n",
              "      <th>2</th>\n",
              "      <td>not tasty and the texture was just nasty</td>\n",
              "      <td>0</td>\n",
              "      <td>yelp</td>\n",
              "      <td>8</td>\n",
              "      <td>8</td>\n",
              "      <td>41</td>\n",
              "      <td>4.250000</td>\n",
              "    </tr>\n",
              "    <tr>\n",
              "      <th>3</th>\n",
              "      <td>stopped by during the late may bank holiday of...</td>\n",
              "      <td>1</td>\n",
              "      <td>yelp</td>\n",
              "      <td>15</td>\n",
              "      <td>15</td>\n",
              "      <td>87</td>\n",
              "      <td>4.866667</td>\n",
              "    </tr>\n",
              "    <tr>\n",
              "      <th>4</th>\n",
              "      <td>the selection on the menu was great and so wer...</td>\n",
              "      <td>1</td>\n",
              "      <td>yelp</td>\n",
              "      <td>12</td>\n",
              "      <td>12</td>\n",
              "      <td>59</td>\n",
              "      <td>4.000000</td>\n",
              "    </tr>\n",
              "  </tbody>\n",
              "</table>\n",
              "</div>\n",
              "      <button class=\"colab-df-convert\" onclick=\"convertToInteractive('df-7be3a971-ae7c-4132-be7d-f3ef6a6151ea')\"\n",
              "              title=\"Convert this dataframe to an interactive table.\"\n",
              "              style=\"display:none;\">\n",
              "        \n",
              "  <svg xmlns=\"http://www.w3.org/2000/svg\" height=\"24px\"viewBox=\"0 0 24 24\"\n",
              "       width=\"24px\">\n",
              "    <path d=\"M0 0h24v24H0V0z\" fill=\"none\"/>\n",
              "    <path d=\"M18.56 5.44l.94 2.06.94-2.06 2.06-.94-2.06-.94-.94-2.06-.94 2.06-2.06.94zm-11 1L8.5 8.5l.94-2.06 2.06-.94-2.06-.94L8.5 2.5l-.94 2.06-2.06.94zm10 10l.94 2.06.94-2.06 2.06-.94-2.06-.94-.94-2.06-.94 2.06-2.06.94z\"/><path d=\"M17.41 7.96l-1.37-1.37c-.4-.4-.92-.59-1.43-.59-.52 0-1.04.2-1.43.59L10.3 9.45l-7.72 7.72c-.78.78-.78 2.05 0 2.83L4 21.41c.39.39.9.59 1.41.59.51 0 1.02-.2 1.41-.59l7.78-7.78 2.81-2.81c.8-.78.8-2.07 0-2.86zM5.41 20L4 18.59l7.72-7.72 1.47 1.35L5.41 20z\"/>\n",
              "  </svg>\n",
              "      </button>\n",
              "      \n",
              "  <style>\n",
              "    .colab-df-container {\n",
              "      display:flex;\n",
              "      flex-wrap:wrap;\n",
              "      gap: 12px;\n",
              "    }\n",
              "\n",
              "    .colab-df-convert {\n",
              "      background-color: #E8F0FE;\n",
              "      border: none;\n",
              "      border-radius: 50%;\n",
              "      cursor: pointer;\n",
              "      display: none;\n",
              "      fill: #1967D2;\n",
              "      height: 32px;\n",
              "      padding: 0 0 0 0;\n",
              "      width: 32px;\n",
              "    }\n",
              "\n",
              "    .colab-df-convert:hover {\n",
              "      background-color: #E2EBFA;\n",
              "      box-shadow: 0px 1px 2px rgba(60, 64, 67, 0.3), 0px 1px 3px 1px rgba(60, 64, 67, 0.15);\n",
              "      fill: #174EA6;\n",
              "    }\n",
              "\n",
              "    [theme=dark] .colab-df-convert {\n",
              "      background-color: #3B4455;\n",
              "      fill: #D2E3FC;\n",
              "    }\n",
              "\n",
              "    [theme=dark] .colab-df-convert:hover {\n",
              "      background-color: #434B5C;\n",
              "      box-shadow: 0px 1px 3px 1px rgba(0, 0, 0, 0.15);\n",
              "      filter: drop-shadow(0px 1px 2px rgba(0, 0, 0, 0.3));\n",
              "      fill: #FFFFFF;\n",
              "    }\n",
              "  </style>\n",
              "\n",
              "      <script>\n",
              "        const buttonEl =\n",
              "          document.querySelector('#df-7be3a971-ae7c-4132-be7d-f3ef6a6151ea button.colab-df-convert');\n",
              "        buttonEl.style.display =\n",
              "          google.colab.kernel.accessAllowed ? 'block' : 'none';\n",
              "\n",
              "        async function convertToInteractive(key) {\n",
              "          const element = document.querySelector('#df-7be3a971-ae7c-4132-be7d-f3ef6a6151ea');\n",
              "          const dataTable =\n",
              "            await google.colab.kernel.invokeFunction('convertToInteractive',\n",
              "                                                     [key], {});\n",
              "          if (!dataTable) return;\n",
              "\n",
              "          const docLinkHtml = 'Like what you see? Visit the ' +\n",
              "            '<a target=\"_blank\" href=https://colab.research.google.com/notebooks/data_table.ipynb>data table notebook</a>'\n",
              "            + ' to learn more about interactive tables.';\n",
              "          element.innerHTML = '';\n",
              "          dataTable['output_type'] = 'display_data';\n",
              "          await google.colab.output.renderOutput(dataTable, element);\n",
              "          const docLink = document.createElement('div');\n",
              "          docLink.innerHTML = docLinkHtml;\n",
              "          element.appendChild(docLink);\n",
              "        }\n",
              "      </script>\n",
              "    </div>\n",
              "  </div>\n",
              "  "
            ]
          },
          "metadata": {},
          "execution_count": 62
        }
      ]
    },
    {
      "cell_type": "markdown",
      "metadata": {
        "id": "f_xppk798hrz"
      },
      "source": [
        "Demonstrate of the remove digit function"
      ]
    },
    {
      "cell_type": "code",
      "metadata": {
        "id": "ntqhwksm8T9M",
        "outputId": "7e299dd9-a7db-48e4-f5cc-3b1da642a616",
        "colab": {
          "base_uri": "https://localhost:8080/"
        }
      },
      "source": [
        "sample_text = 'Covid 19 is spreading fast'\n",
        "print(remove_digits(sample_text))"
      ],
      "execution_count": 63,
      "outputs": [
        {
          "output_type": "stream",
          "name": "stdout",
          "text": [
            "Covid is spreading fast\n"
          ]
        }
      ]
    },
    {
      "cell_type": "markdown",
      "metadata": {
        "id": "GlxTKunt8lyT"
      },
      "source": [
        "What does \"\".join() means?"
      ]
    },
    {
      "cell_type": "code",
      "metadata": {
        "id": "f2kfwcVk8oyi",
        "outputId": "3eaf31b7-8a76-4e37-bb1c-111e63de28e3",
        "colab": {
          "base_uri": "https://localhost:8080/"
        }
      },
      "source": [
        "word_list = [\"Covid\", \"is\", \"spreading\", \"fast\"]\n",
        "sentence = \"     \".join(word_list)\n",
        "print(sentence)"
      ],
      "execution_count": 64,
      "outputs": [
        {
          "output_type": "stream",
          "name": "stdout",
          "text": [
            "Covid     is     spreading     fast\n"
          ]
        }
      ]
    },
    {
      "cell_type": "markdown",
      "metadata": {
        "id": "uwh1imSm-BC3"
      },
      "source": [
        "### Remove Stopwords\n",
        "\n",
        "[Stopwords](https://en.wikipedia.org/wiki/Stop_words) are deemed irrelevant for NLP purposes because they occur frequently in the language. Therefore, we will omit the stopwords as a pre-processing step. For this, we will use [NLTK](https://www.nltk.org/) library here.\n",
        "\n",
        "**NLTK, is a suite of libraries and programs for symbolic and statistical natural language processing (NLP) specifically for the English language written in  Python.**"
      ]
    },
    {
      "cell_type": "code",
      "metadata": {
        "id": "u1J6fC9491k7",
        "outputId": "c1ddeb93-3930-4ac5-a683-b4b18bccfb4d",
        "colab": {
          "base_uri": "https://localhost:8080/"
        }
      },
      "source": [
        "# Load NLTK library\n",
        "import nltk\n",
        "\n",
        "# Download the stopwords to the nltk library\n",
        "nltk.download('stopwords')\n",
        "\n",
        "# Load the stopwords\n",
        "from nltk.corpus import stopwords"
      ],
      "execution_count": 65,
      "outputs": [
        {
          "output_type": "stream",
          "name": "stderr",
          "text": [
            "[nltk_data] Downloading package stopwords to /root/nltk_data...\n",
            "[nltk_data]   Package stopwords is already up-to-date!\n"
          ]
        }
      ]
    },
    {
      "cell_type": "markdown",
      "metadata": {
        "id": "ecLfjQgmgYpk"
      },
      "source": [
        "Have a look at the stopwords indexed in the NLTK library."
      ]
    },
    {
      "cell_type": "code",
      "metadata": {
        "id": "BkpvQNV5-N2g",
        "outputId": "a157b4ef-7476-4401-b655-c99e04964833",
        "colab": {
          "base_uri": "https://localhost:8080/"
        }
      },
      "source": [
        "stop = stopwords.words('english')\n",
        "print(stop)"
      ],
      "execution_count": 66,
      "outputs": [
        {
          "output_type": "stream",
          "name": "stdout",
          "text": [
            "['i', 'me', 'my', 'myself', 'we', 'our', 'ours', 'ourselves', 'you', \"you're\", \"you've\", \"you'll\", \"you'd\", 'your', 'yours', 'yourself', 'yourselves', 'he', 'him', 'his', 'himself', 'she', \"she's\", 'her', 'hers', 'herself', 'it', \"it's\", 'its', 'itself', 'they', 'them', 'their', 'theirs', 'themselves', 'what', 'which', 'who', 'whom', 'this', 'that', \"that'll\", 'these', 'those', 'am', 'is', 'are', 'was', 'were', 'be', 'been', 'being', 'have', 'has', 'had', 'having', 'do', 'does', 'did', 'doing', 'a', 'an', 'the', 'and', 'but', 'if', 'or', 'because', 'as', 'until', 'while', 'of', 'at', 'by', 'for', 'with', 'about', 'against', 'between', 'into', 'through', 'during', 'before', 'after', 'above', 'below', 'to', 'from', 'up', 'down', 'in', 'out', 'on', 'off', 'over', 'under', 'again', 'further', 'then', 'once', 'here', 'there', 'when', 'where', 'why', 'how', 'all', 'any', 'both', 'each', 'few', 'more', 'most', 'other', 'some', 'such', 'no', 'nor', 'not', 'only', 'own', 'same', 'so', 'than', 'too', 'very', 's', 't', 'can', 'will', 'just', 'don', \"don't\", 'should', \"should've\", 'now', 'd', 'll', 'm', 'o', 're', 've', 'y', 'ain', 'aren', \"aren't\", 'couldn', \"couldn't\", 'didn', \"didn't\", 'doesn', \"doesn't\", 'hadn', \"hadn't\", 'hasn', \"hasn't\", 'haven', \"haven't\", 'isn', \"isn't\", 'ma', 'mightn', \"mightn't\", 'mustn', \"mustn't\", 'needn', \"needn't\", 'shan', \"shan't\", 'shouldn', \"shouldn't\", 'wasn', \"wasn't\", 'weren', \"weren't\", 'won', \"won't\", 'wouldn', \"wouldn't\"]\n"
          ]
        }
      ]
    },
    {
      "cell_type": "markdown",
      "metadata": {
        "id": "H73Xr48-cHAS"
      },
      "source": [
        "Remove unwanted stop words from the NLTK stop word list."
      ]
    },
    {
      "cell_type": "code",
      "metadata": {
        "id": "rPVzEQ_8O0UR"
      },
      "source": [
        "stop.remove('not')"
      ],
      "execution_count": 67,
      "outputs": []
    },
    {
      "cell_type": "code",
      "metadata": {
        "id": "fO8HTTOXPYyy"
      },
      "source": [
        "all_words_i_want = ['had', \"has\"]\n",
        "for w in all_words_i_want:\n",
        "  stop.remove(w)"
      ],
      "execution_count": 68,
      "outputs": []
    },
    {
      "cell_type": "markdown",
      "metadata": {
        "id": "zPugCcb3gzMj"
      },
      "source": [
        "Remove stopwords from the sentences."
      ]
    },
    {
      "cell_type": "code",
      "metadata": {
        "id": "S_HwAnis-Ut1",
        "outputId": "2856a5e6-3557-4040-e0a5-1e3fe041440f",
        "colab": {
          "base_uri": "https://localhost:8080/",
          "height": 206
        }
      },
      "source": [
        "df['sentence'] = df['sentence'].apply(lambda x: \" \".join(x for x in x.split() if x not in stop))\n",
        "df.head(5)"
      ],
      "execution_count": 69,
      "outputs": [
        {
          "output_type": "execute_result",
          "data": {
            "text/plain": [
              "                                            sentence  label source  \\\n",
              "0                                    wow loved place      1   yelp   \n",
              "1                                     crust not good      0   yelp   \n",
              "2                            not tasty texture nasty      0   yelp   \n",
              "3  stopped late may bank holiday rick steve recom...      1   yelp   \n",
              "4                        selection menu great prices      1   yelp   \n",
              "\n",
              "   word_count_function  word_count  char_count  avg_word  \n",
              "0                    4           4          24  5.250000  \n",
              "1                    4           4          18  3.750000  \n",
              "2                    8           8          41  4.250000  \n",
              "3                   15          15          87  4.866667  \n",
              "4                   12          12          59  4.000000  "
            ],
            "text/html": [
              "\n",
              "  <div id=\"df-b3804497-b66e-4fc4-be93-818770d44cf4\">\n",
              "    <div class=\"colab-df-container\">\n",
              "      <div>\n",
              "<style scoped>\n",
              "    .dataframe tbody tr th:only-of-type {\n",
              "        vertical-align: middle;\n",
              "    }\n",
              "\n",
              "    .dataframe tbody tr th {\n",
              "        vertical-align: top;\n",
              "    }\n",
              "\n",
              "    .dataframe thead th {\n",
              "        text-align: right;\n",
              "    }\n",
              "</style>\n",
              "<table border=\"1\" class=\"dataframe\">\n",
              "  <thead>\n",
              "    <tr style=\"text-align: right;\">\n",
              "      <th></th>\n",
              "      <th>sentence</th>\n",
              "      <th>label</th>\n",
              "      <th>source</th>\n",
              "      <th>word_count_function</th>\n",
              "      <th>word_count</th>\n",
              "      <th>char_count</th>\n",
              "      <th>avg_word</th>\n",
              "    </tr>\n",
              "  </thead>\n",
              "  <tbody>\n",
              "    <tr>\n",
              "      <th>0</th>\n",
              "      <td>wow loved place</td>\n",
              "      <td>1</td>\n",
              "      <td>yelp</td>\n",
              "      <td>4</td>\n",
              "      <td>4</td>\n",
              "      <td>24</td>\n",
              "      <td>5.250000</td>\n",
              "    </tr>\n",
              "    <tr>\n",
              "      <th>1</th>\n",
              "      <td>crust not good</td>\n",
              "      <td>0</td>\n",
              "      <td>yelp</td>\n",
              "      <td>4</td>\n",
              "      <td>4</td>\n",
              "      <td>18</td>\n",
              "      <td>3.750000</td>\n",
              "    </tr>\n",
              "    <tr>\n",
              "      <th>2</th>\n",
              "      <td>not tasty texture nasty</td>\n",
              "      <td>0</td>\n",
              "      <td>yelp</td>\n",
              "      <td>8</td>\n",
              "      <td>8</td>\n",
              "      <td>41</td>\n",
              "      <td>4.250000</td>\n",
              "    </tr>\n",
              "    <tr>\n",
              "      <th>3</th>\n",
              "      <td>stopped late may bank holiday rick steve recom...</td>\n",
              "      <td>1</td>\n",
              "      <td>yelp</td>\n",
              "      <td>15</td>\n",
              "      <td>15</td>\n",
              "      <td>87</td>\n",
              "      <td>4.866667</td>\n",
              "    </tr>\n",
              "    <tr>\n",
              "      <th>4</th>\n",
              "      <td>selection menu great prices</td>\n",
              "      <td>1</td>\n",
              "      <td>yelp</td>\n",
              "      <td>12</td>\n",
              "      <td>12</td>\n",
              "      <td>59</td>\n",
              "      <td>4.000000</td>\n",
              "    </tr>\n",
              "  </tbody>\n",
              "</table>\n",
              "</div>\n",
              "      <button class=\"colab-df-convert\" onclick=\"convertToInteractive('df-b3804497-b66e-4fc4-be93-818770d44cf4')\"\n",
              "              title=\"Convert this dataframe to an interactive table.\"\n",
              "              style=\"display:none;\">\n",
              "        \n",
              "  <svg xmlns=\"http://www.w3.org/2000/svg\" height=\"24px\"viewBox=\"0 0 24 24\"\n",
              "       width=\"24px\">\n",
              "    <path d=\"M0 0h24v24H0V0z\" fill=\"none\"/>\n",
              "    <path d=\"M18.56 5.44l.94 2.06.94-2.06 2.06-.94-2.06-.94-.94-2.06-.94 2.06-2.06.94zm-11 1L8.5 8.5l.94-2.06 2.06-.94-2.06-.94L8.5 2.5l-.94 2.06-2.06.94zm10 10l.94 2.06.94-2.06 2.06-.94-2.06-.94-.94-2.06-.94 2.06-2.06.94z\"/><path d=\"M17.41 7.96l-1.37-1.37c-.4-.4-.92-.59-1.43-.59-.52 0-1.04.2-1.43.59L10.3 9.45l-7.72 7.72c-.78.78-.78 2.05 0 2.83L4 21.41c.39.39.9.59 1.41.59.51 0 1.02-.2 1.41-.59l7.78-7.78 2.81-2.81c.8-.78.8-2.07 0-2.86zM5.41 20L4 18.59l7.72-7.72 1.47 1.35L5.41 20z\"/>\n",
              "  </svg>\n",
              "      </button>\n",
              "      \n",
              "  <style>\n",
              "    .colab-df-container {\n",
              "      display:flex;\n",
              "      flex-wrap:wrap;\n",
              "      gap: 12px;\n",
              "    }\n",
              "\n",
              "    .colab-df-convert {\n",
              "      background-color: #E8F0FE;\n",
              "      border: none;\n",
              "      border-radius: 50%;\n",
              "      cursor: pointer;\n",
              "      display: none;\n",
              "      fill: #1967D2;\n",
              "      height: 32px;\n",
              "      padding: 0 0 0 0;\n",
              "      width: 32px;\n",
              "    }\n",
              "\n",
              "    .colab-df-convert:hover {\n",
              "      background-color: #E2EBFA;\n",
              "      box-shadow: 0px 1px 2px rgba(60, 64, 67, 0.3), 0px 1px 3px 1px rgba(60, 64, 67, 0.15);\n",
              "      fill: #174EA6;\n",
              "    }\n",
              "\n",
              "    [theme=dark] .colab-df-convert {\n",
              "      background-color: #3B4455;\n",
              "      fill: #D2E3FC;\n",
              "    }\n",
              "\n",
              "    [theme=dark] .colab-df-convert:hover {\n",
              "      background-color: #434B5C;\n",
              "      box-shadow: 0px 1px 3px 1px rgba(0, 0, 0, 0.15);\n",
              "      filter: drop-shadow(0px 1px 2px rgba(0, 0, 0, 0.3));\n",
              "      fill: #FFFFFF;\n",
              "    }\n",
              "  </style>\n",
              "\n",
              "      <script>\n",
              "        const buttonEl =\n",
              "          document.querySelector('#df-b3804497-b66e-4fc4-be93-818770d44cf4 button.colab-df-convert');\n",
              "        buttonEl.style.display =\n",
              "          google.colab.kernel.accessAllowed ? 'block' : 'none';\n",
              "\n",
              "        async function convertToInteractive(key) {\n",
              "          const element = document.querySelector('#df-b3804497-b66e-4fc4-be93-818770d44cf4');\n",
              "          const dataTable =\n",
              "            await google.colab.kernel.invokeFunction('convertToInteractive',\n",
              "                                                     [key], {});\n",
              "          if (!dataTable) return;\n",
              "\n",
              "          const docLinkHtml = 'Like what you see? Visit the ' +\n",
              "            '<a target=\"_blank\" href=https://colab.research.google.com/notebooks/data_table.ipynb>data table notebook</a>'\n",
              "            + ' to learn more about interactive tables.';\n",
              "          element.innerHTML = '';\n",
              "          dataTable['output_type'] = 'display_data';\n",
              "          await google.colab.output.renderOutput(dataTable, element);\n",
              "          const docLink = document.createElement('div');\n",
              "          docLink.innerHTML = docLinkHtml;\n",
              "          element.appendChild(docLink);\n",
              "        }\n",
              "      </script>\n",
              "    </div>\n",
              "  </div>\n",
              "  "
            ]
          },
          "metadata": {},
          "execution_count": 69
        }
      ]
    },
    {
      "cell_type": "markdown",
      "metadata": {
        "id": "XUol6pfo_MEL"
      },
      "source": [
        "### Common and rare word analysis\n",
        "\n",
        "Aside from stopwords, some words appear rarely (only once or twice) in an entire body of text. \n",
        "Based on the analytics requirement, you can decide whether to keep or remove, and at what intensity/scale to remove."
      ]
    },
    {
      "cell_type": "markdown",
      "metadata": {
        "id": "6iyA7bBDg_hB"
      },
      "source": [
        "In order to do this, first we have to construct a word frequency dictionary."
      ]
    },
    {
      "cell_type": "code",
      "metadata": {
        "id": "XHCEJC3V-wG0"
      },
      "source": [
        "word_frequency = pd.Series(' '.join(df['sentence']).split()).value_counts()"
      ],
      "execution_count": 70,
      "outputs": []
    },
    {
      "cell_type": "markdown",
      "metadata": {
        "id": "3Tsu7TJOhGGK"
      },
      "source": [
        "List the top 10 common words."
      ]
    },
    {
      "cell_type": "code",
      "metadata": {
        "id": "QP6ids9d_ldS",
        "outputId": "b3c56ebf-eb6b-4074-a7fc-428a29de7ed5",
        "colab": {
          "base_uri": "https://localhost:8080/"
        }
      },
      "source": [
        "# Top common words\n",
        "word_frequency[:10]  # get top 10"
      ],
      "execution_count": 71,
      "outputs": [
        {
          "output_type": "execute_result",
          "data": {
            "text/plain": [
              "not      305\n",
              "good     225\n",
              "great    207\n",
              "movie    177\n",
              "phone    162\n",
              "film     155\n",
              "one      143\n",
              "had      138\n",
              "food     123\n",
              "like     123\n",
              "dtype: int64"
            ]
          },
          "metadata": {},
          "execution_count": 71
        }
      ]
    },
    {
      "cell_type": "markdown",
      "metadata": {
        "id": "rEIsBYCGhLlY"
      },
      "source": [
        "List the top 10 rare words."
      ]
    },
    {
      "cell_type": "code",
      "metadata": {
        "id": "nvUQt5hRAM13",
        "outputId": "616a2c2f-2aa3-47e0-f052-f29f266b7d91",
        "colab": {
          "base_uri": "https://localhost:8080/"
        }
      },
      "source": [
        "# least common words\n",
        "word_frequency[-10:]  # get top 10"
      ],
      "execution_count": 72,
      "outputs": [
        {
          "output_type": "execute_result",
          "data": {
            "text/plain": [
              "ps3              1\n",
              "cheapy           1\n",
              "shouting         1\n",
              "strike           1\n",
              "jerk             1\n",
              "topic            1\n",
              "shiny            1\n",
              "grtting          1\n",
              "v3c              1\n",
              "exceptionally    1\n",
              "dtype: int64"
            ]
          },
          "metadata": {},
          "execution_count": 72
        }
      ]
    },
    {
      "cell_type": "markdown",
      "metadata": {
        "id": "l7hd1zK8AXSl"
      },
      "source": [
        "### Spelling correction\n",
        "\n",
        "To correct misspelt words, we will use [textblob library](https://textblob.readthedocs.io/en/dev/) library. Keep in mind that corrections are always bound by the dictionary that you would use, and it may not account for context (their vs there).\n",
        "\n",
        "Due to the time complexity of spell-checking an entire corpus, in this exercise, we will use spell-check for just one example. "
      ]
    },
    {
      "cell_type": "code",
      "metadata": {
        "id": "iH_MOO58iity"
      },
      "source": [
        "from textblob import TextBlob"
      ],
      "execution_count": 73,
      "outputs": []
    },
    {
      "cell_type": "code",
      "metadata": {
        "id": "jf9rFrJpARWH"
      },
      "source": [
        "# Do not run this line of code.\n",
        "# Following line of code will correct spellings of all the sentences in the dataset.\n",
        "# df['sentence'] = df['sentence'].apply(lambda x: str(TextBlob(x).correct()))   # This will take a long time. Thus, we will show an seperate example"
      ],
      "execution_count": 74,
      "outputs": []
    },
    {
      "cell_type": "markdown",
      "metadata": {
        "id": "A6ERDidUivTx"
      },
      "source": [
        "Spelling correction example"
      ]
    },
    {
      "cell_type": "code",
      "metadata": {
        "id": "J2U3yRK5QqkA",
        "outputId": "f41b48aa-48b3-4776-90b2-657aad149e50",
        "colab": {
          "base_uri": "https://localhost:8080/"
        }
      },
      "source": [
        "def correct_word(word):\n",
        "  return str(TextBlob(word).correct())\n",
        "\n",
        "print(correct_word('bisness'))"
      ],
      "execution_count": 75,
      "outputs": [
        {
          "output_type": "stream",
          "name": "stdout",
          "text": [
            "business\n"
          ]
        }
      ]
    },
    {
      "cell_type": "code",
      "metadata": {
        "id": "k6D1dM55A_5l",
        "outputId": "f429c7d3-7b02-4f11-d6c4-b01bb5eea2f7",
        "colab": {
          "base_uri": "https://localhost:8080/"
        }
      },
      "source": [
        "incorrect_text = 'bisness anlytis is an itant skil seit for any organizaton'\n",
        "\n",
        "func = lambda x: str(TextBlob(x).correct())\n",
        "print(incorrect_text)\n",
        "print(str(TextBlob(incorrect_text).correct()))"
      ],
      "execution_count": 76,
      "outputs": [
        {
          "output_type": "stream",
          "name": "stdout",
          "text": [
            "bisness anlytis is an itant skil seit for any organizaton\n",
            "business analysis is an want skin set for any organization\n"
          ]
        }
      ]
    },
    {
      "cell_type": "markdown",
      "metadata": {
        "id": "5F_w641sCItw"
      },
      "source": [
        "### Stemming\n",
        "\n",
        "[Stemming](https://en.wikipedia.org/wiki/Stemming) is the removal of prefix, suffix etc, to derive the base form of a word. We will use the NLTK library."
      ]
    },
    {
      "cell_type": "code",
      "metadata": {
        "id": "3MxoI8j4Bf93",
        "outputId": "a135d8fc-89f9-409a-e818-c147475bab4a",
        "colab": {
          "base_uri": "https://localhost:8080/",
          "height": 267
        }
      },
      "source": [
        "from nltk.stem import PorterStemmer\n",
        "\n",
        "stemmer = PorterStemmer()\n",
        "\n",
        "def stemming_function(sent):\n",
        "  word_list = sent.split()\n",
        "  stemmed_word_list = [stemmer.stem(word) for word in word_list]\n",
        "  stemmed_sentence = \" \".join(stemmed_word_list)\n",
        "  return stemmed_sentence\n",
        "\n",
        "df['sentence_stemmed'] = df['sentence'].apply(stemming_function)\n",
        "\n",
        "df.head()"
      ],
      "execution_count": 77,
      "outputs": [
        {
          "output_type": "execute_result",
          "data": {
            "text/plain": [
              "                                            sentence  label source  \\\n",
              "0                                    wow loved place      1   yelp   \n",
              "1                                     crust not good      0   yelp   \n",
              "2                            not tasty texture nasty      0   yelp   \n",
              "3  stopped late may bank holiday rick steve recom...      1   yelp   \n",
              "4                        selection menu great prices      1   yelp   \n",
              "\n",
              "   word_count_function  word_count  char_count  avg_word  \\\n",
              "0                    4           4          24  5.250000   \n",
              "1                    4           4          18  3.750000   \n",
              "2                    8           8          41  4.250000   \n",
              "3                   15          15          87  4.866667   \n",
              "4                   12          12          59  4.000000   \n",
              "\n",
              "                                    sentence_stemmed  \n",
              "0                                     wow love place  \n",
              "1                                     crust not good  \n",
              "2                             not tasti textur nasti  \n",
              "3  stop late may bank holiday rick steve recommen...  \n",
              "4                            select menu great price  "
            ],
            "text/html": [
              "\n",
              "  <div id=\"df-9d33ff76-ca73-41bd-8af3-567037ce5b82\">\n",
              "    <div class=\"colab-df-container\">\n",
              "      <div>\n",
              "<style scoped>\n",
              "    .dataframe tbody tr th:only-of-type {\n",
              "        vertical-align: middle;\n",
              "    }\n",
              "\n",
              "    .dataframe tbody tr th {\n",
              "        vertical-align: top;\n",
              "    }\n",
              "\n",
              "    .dataframe thead th {\n",
              "        text-align: right;\n",
              "    }\n",
              "</style>\n",
              "<table border=\"1\" class=\"dataframe\">\n",
              "  <thead>\n",
              "    <tr style=\"text-align: right;\">\n",
              "      <th></th>\n",
              "      <th>sentence</th>\n",
              "      <th>label</th>\n",
              "      <th>source</th>\n",
              "      <th>word_count_function</th>\n",
              "      <th>word_count</th>\n",
              "      <th>char_count</th>\n",
              "      <th>avg_word</th>\n",
              "      <th>sentence_stemmed</th>\n",
              "    </tr>\n",
              "  </thead>\n",
              "  <tbody>\n",
              "    <tr>\n",
              "      <th>0</th>\n",
              "      <td>wow loved place</td>\n",
              "      <td>1</td>\n",
              "      <td>yelp</td>\n",
              "      <td>4</td>\n",
              "      <td>4</td>\n",
              "      <td>24</td>\n",
              "      <td>5.250000</td>\n",
              "      <td>wow love place</td>\n",
              "    </tr>\n",
              "    <tr>\n",
              "      <th>1</th>\n",
              "      <td>crust not good</td>\n",
              "      <td>0</td>\n",
              "      <td>yelp</td>\n",
              "      <td>4</td>\n",
              "      <td>4</td>\n",
              "      <td>18</td>\n",
              "      <td>3.750000</td>\n",
              "      <td>crust not good</td>\n",
              "    </tr>\n",
              "    <tr>\n",
              "      <th>2</th>\n",
              "      <td>not tasty texture nasty</td>\n",
              "      <td>0</td>\n",
              "      <td>yelp</td>\n",
              "      <td>8</td>\n",
              "      <td>8</td>\n",
              "      <td>41</td>\n",
              "      <td>4.250000</td>\n",
              "      <td>not tasti textur nasti</td>\n",
              "    </tr>\n",
              "    <tr>\n",
              "      <th>3</th>\n",
              "      <td>stopped late may bank holiday rick steve recom...</td>\n",
              "      <td>1</td>\n",
              "      <td>yelp</td>\n",
              "      <td>15</td>\n",
              "      <td>15</td>\n",
              "      <td>87</td>\n",
              "      <td>4.866667</td>\n",
              "      <td>stop late may bank holiday rick steve recommen...</td>\n",
              "    </tr>\n",
              "    <tr>\n",
              "      <th>4</th>\n",
              "      <td>selection menu great prices</td>\n",
              "      <td>1</td>\n",
              "      <td>yelp</td>\n",
              "      <td>12</td>\n",
              "      <td>12</td>\n",
              "      <td>59</td>\n",
              "      <td>4.000000</td>\n",
              "      <td>select menu great price</td>\n",
              "    </tr>\n",
              "  </tbody>\n",
              "</table>\n",
              "</div>\n",
              "      <button class=\"colab-df-convert\" onclick=\"convertToInteractive('df-9d33ff76-ca73-41bd-8af3-567037ce5b82')\"\n",
              "              title=\"Convert this dataframe to an interactive table.\"\n",
              "              style=\"display:none;\">\n",
              "        \n",
              "  <svg xmlns=\"http://www.w3.org/2000/svg\" height=\"24px\"viewBox=\"0 0 24 24\"\n",
              "       width=\"24px\">\n",
              "    <path d=\"M0 0h24v24H0V0z\" fill=\"none\"/>\n",
              "    <path d=\"M18.56 5.44l.94 2.06.94-2.06 2.06-.94-2.06-.94-.94-2.06-.94 2.06-2.06.94zm-11 1L8.5 8.5l.94-2.06 2.06-.94-2.06-.94L8.5 2.5l-.94 2.06-2.06.94zm10 10l.94 2.06.94-2.06 2.06-.94-2.06-.94-.94-2.06-.94 2.06-2.06.94z\"/><path d=\"M17.41 7.96l-1.37-1.37c-.4-.4-.92-.59-1.43-.59-.52 0-1.04.2-1.43.59L10.3 9.45l-7.72 7.72c-.78.78-.78 2.05 0 2.83L4 21.41c.39.39.9.59 1.41.59.51 0 1.02-.2 1.41-.59l7.78-7.78 2.81-2.81c.8-.78.8-2.07 0-2.86zM5.41 20L4 18.59l7.72-7.72 1.47 1.35L5.41 20z\"/>\n",
              "  </svg>\n",
              "      </button>\n",
              "      \n",
              "  <style>\n",
              "    .colab-df-container {\n",
              "      display:flex;\n",
              "      flex-wrap:wrap;\n",
              "      gap: 12px;\n",
              "    }\n",
              "\n",
              "    .colab-df-convert {\n",
              "      background-color: #E8F0FE;\n",
              "      border: none;\n",
              "      border-radius: 50%;\n",
              "      cursor: pointer;\n",
              "      display: none;\n",
              "      fill: #1967D2;\n",
              "      height: 32px;\n",
              "      padding: 0 0 0 0;\n",
              "      width: 32px;\n",
              "    }\n",
              "\n",
              "    .colab-df-convert:hover {\n",
              "      background-color: #E2EBFA;\n",
              "      box-shadow: 0px 1px 2px rgba(60, 64, 67, 0.3), 0px 1px 3px 1px rgba(60, 64, 67, 0.15);\n",
              "      fill: #174EA6;\n",
              "    }\n",
              "\n",
              "    [theme=dark] .colab-df-convert {\n",
              "      background-color: #3B4455;\n",
              "      fill: #D2E3FC;\n",
              "    }\n",
              "\n",
              "    [theme=dark] .colab-df-convert:hover {\n",
              "      background-color: #434B5C;\n",
              "      box-shadow: 0px 1px 3px 1px rgba(0, 0, 0, 0.15);\n",
              "      filter: drop-shadow(0px 1px 2px rgba(0, 0, 0, 0.3));\n",
              "      fill: #FFFFFF;\n",
              "    }\n",
              "  </style>\n",
              "\n",
              "      <script>\n",
              "        const buttonEl =\n",
              "          document.querySelector('#df-9d33ff76-ca73-41bd-8af3-567037ce5b82 button.colab-df-convert');\n",
              "        buttonEl.style.display =\n",
              "          google.colab.kernel.accessAllowed ? 'block' : 'none';\n",
              "\n",
              "        async function convertToInteractive(key) {\n",
              "          const element = document.querySelector('#df-9d33ff76-ca73-41bd-8af3-567037ce5b82');\n",
              "          const dataTable =\n",
              "            await google.colab.kernel.invokeFunction('convertToInteractive',\n",
              "                                                     [key], {});\n",
              "          if (!dataTable) return;\n",
              "\n",
              "          const docLinkHtml = 'Like what you see? Visit the ' +\n",
              "            '<a target=\"_blank\" href=https://colab.research.google.com/notebooks/data_table.ipynb>data table notebook</a>'\n",
              "            + ' to learn more about interactive tables.';\n",
              "          element.innerHTML = '';\n",
              "          dataTable['output_type'] = 'display_data';\n",
              "          await google.colab.output.renderOutput(dataTable, element);\n",
              "          const docLink = document.createElement('div');\n",
              "          docLink.innerHTML = docLinkHtml;\n",
              "          element.appendChild(docLink);\n",
              "        }\n",
              "      </script>\n",
              "    </div>\n",
              "  </div>\n",
              "  "
            ]
          },
          "metadata": {},
          "execution_count": 77
        }
      ]
    },
    {
      "cell_type": "markdown",
      "metadata": {
        "id": "PuZ8AVKvDKQG"
      },
      "source": [
        "### Lemmatization\n",
        "\n",
        "[Lemmatization](https://nlp.stanford.edu/IR-book/html/htmledition/stemming-and-lemmatization-1.html), unlike Stemming, reduces the inflected words properly ensuring that the root word belongs to the language. In Lemmatization root word is called lemma. A lemma (plural lemmas or lemmata) is the canonical form, dictionary form, or citation form of a set of words.  \n",
        "  \n",
        "We will use  Wordnet for the lemmatization. Thus, we need to download Wordnet to the nltk library.\n",
        "\n",
        "WordNet is a lexical database for the English language. It groups English words into sets of synonyms called synsets, provides short definitions and usage\n"
      ]
    },
    {
      "cell_type": "code",
      "metadata": {
        "id": "v8qJOjLwDhzB",
        "outputId": "7391c5d8-d243-413c-d0f3-275af18aa803",
        "colab": {
          "base_uri": "https://localhost:8080/"
        }
      },
      "source": [
        "# Download wordnet\n",
        "nltk.download('wordnet')\n",
        "nltk.download('omw-1.4')"
      ],
      "execution_count": 78,
      "outputs": [
        {
          "output_type": "stream",
          "name": "stderr",
          "text": [
            "[nltk_data] Downloading package wordnet to /root/nltk_data...\n",
            "[nltk_data]   Package wordnet is already up-to-date!\n",
            "[nltk_data] Downloading package omw-1.4 to /root/nltk_data...\n",
            "[nltk_data]   Package omw-1.4 is already up-to-date!\n"
          ]
        },
        {
          "output_type": "execute_result",
          "data": {
            "text/plain": [
              "True"
            ]
          },
          "metadata": {},
          "execution_count": 78
        }
      ]
    },
    {
      "cell_type": "code",
      "metadata": {
        "id": "qjCuPX1zjrWD"
      },
      "source": [
        "from nltk.stem import WordNetLemmatizer\n",
        "\n",
        "lemmtizer = WordNetLemmatizer()"
      ],
      "execution_count": 79,
      "outputs": []
    },
    {
      "cell_type": "code",
      "metadata": {
        "id": "bRdYHVNQCiB9"
      },
      "source": [
        "def lemmatize_function(sent):\n",
        "  word_list = sent.split()\n",
        "  lemma_word_list = [lemmtizer.lemmatize(word) for word in word_list]\n",
        "  lemma_sentence = \" \".join(lemma_word_list)\n",
        "  return lemma_sentence\n",
        "\n",
        "df['sentence_lemmatized'] = df['sentence'].apply(lemmatize_function)"
      ],
      "execution_count": 80,
      "outputs": []
    },
    {
      "cell_type": "markdown",
      "metadata": {
        "id": "TKCDAK0PkCeW"
      },
      "source": [
        "Display original pre-processed sentence, stemmed sentence and lemmatized sentence."
      ]
    },
    {
      "cell_type": "code",
      "metadata": {
        "id": "XbfKn2OnkDgl",
        "outputId": "fed4b3d9-c3f7-4deb-dbeb-e167d5205fc7",
        "colab": {
          "base_uri": "https://localhost:8080/",
          "height": 363
        }
      },
      "source": [
        "df[['sentence', 'sentence_stemmed', 'sentence_lemmatized']].head(10)"
      ],
      "execution_count": 81,
      "outputs": [
        {
          "output_type": "execute_result",
          "data": {
            "text/plain": [
              "                                            sentence  \\\n",
              "0                                    wow loved place   \n",
              "1                                     crust not good   \n",
              "2                            not tasty texture nasty   \n",
              "3  stopped late may bank holiday rick steve recom...   \n",
              "4                        selection menu great prices   \n",
              "5                        getting angry want damn pho   \n",
              "6                         honeslty didnt taste fresh   \n",
              "7  potatoes like rubber could tell had made ahead...   \n",
              "8                                        fries great   \n",
              "9                                        great touch   \n",
              "\n",
              "                                    sentence_stemmed  \\\n",
              "0                                     wow love place   \n",
              "1                                     crust not good   \n",
              "2                             not tasti textur nasti   \n",
              "3  stop late may bank holiday rick steve recommen...   \n",
              "4                            select menu great price   \n",
              "5                            get angri want damn pho   \n",
              "6                          honeslti didnt tast fresh   \n",
              "7  potato like rubber could tell had made ahead t...   \n",
              "8                                          fri great   \n",
              "9                                        great touch   \n",
              "\n",
              "                                 sentence_lemmatized  \n",
              "0                                    wow loved place  \n",
              "1                                     crust not good  \n",
              "2                            not tasty texture nasty  \n",
              "3  stopped late may bank holiday rick steve recom...  \n",
              "4                         selection menu great price  \n",
              "5                        getting angry want damn pho  \n",
              "6                         honeslty didnt taste fresh  \n",
              "7  potato like rubber could tell had made ahead t...  \n",
              "8                                          fry great  \n",
              "9                                        great touch  "
            ],
            "text/html": [
              "\n",
              "  <div id=\"df-fdeed701-1090-40fd-9c21-d025ef08bd5f\">\n",
              "    <div class=\"colab-df-container\">\n",
              "      <div>\n",
              "<style scoped>\n",
              "    .dataframe tbody tr th:only-of-type {\n",
              "        vertical-align: middle;\n",
              "    }\n",
              "\n",
              "    .dataframe tbody tr th {\n",
              "        vertical-align: top;\n",
              "    }\n",
              "\n",
              "    .dataframe thead th {\n",
              "        text-align: right;\n",
              "    }\n",
              "</style>\n",
              "<table border=\"1\" class=\"dataframe\">\n",
              "  <thead>\n",
              "    <tr style=\"text-align: right;\">\n",
              "      <th></th>\n",
              "      <th>sentence</th>\n",
              "      <th>sentence_stemmed</th>\n",
              "      <th>sentence_lemmatized</th>\n",
              "    </tr>\n",
              "  </thead>\n",
              "  <tbody>\n",
              "    <tr>\n",
              "      <th>0</th>\n",
              "      <td>wow loved place</td>\n",
              "      <td>wow love place</td>\n",
              "      <td>wow loved place</td>\n",
              "    </tr>\n",
              "    <tr>\n",
              "      <th>1</th>\n",
              "      <td>crust not good</td>\n",
              "      <td>crust not good</td>\n",
              "      <td>crust not good</td>\n",
              "    </tr>\n",
              "    <tr>\n",
              "      <th>2</th>\n",
              "      <td>not tasty texture nasty</td>\n",
              "      <td>not tasti textur nasti</td>\n",
              "      <td>not tasty texture nasty</td>\n",
              "    </tr>\n",
              "    <tr>\n",
              "      <th>3</th>\n",
              "      <td>stopped late may bank holiday rick steve recom...</td>\n",
              "      <td>stop late may bank holiday rick steve recommen...</td>\n",
              "      <td>stopped late may bank holiday rick steve recom...</td>\n",
              "    </tr>\n",
              "    <tr>\n",
              "      <th>4</th>\n",
              "      <td>selection menu great prices</td>\n",
              "      <td>select menu great price</td>\n",
              "      <td>selection menu great price</td>\n",
              "    </tr>\n",
              "    <tr>\n",
              "      <th>5</th>\n",
              "      <td>getting angry want damn pho</td>\n",
              "      <td>get angri want damn pho</td>\n",
              "      <td>getting angry want damn pho</td>\n",
              "    </tr>\n",
              "    <tr>\n",
              "      <th>6</th>\n",
              "      <td>honeslty didnt taste fresh</td>\n",
              "      <td>honeslti didnt tast fresh</td>\n",
              "      <td>honeslty didnt taste fresh</td>\n",
              "    </tr>\n",
              "    <tr>\n",
              "      <th>7</th>\n",
              "      <td>potatoes like rubber could tell had made ahead...</td>\n",
              "      <td>potato like rubber could tell had made ahead t...</td>\n",
              "      <td>potato like rubber could tell had made ahead t...</td>\n",
              "    </tr>\n",
              "    <tr>\n",
              "      <th>8</th>\n",
              "      <td>fries great</td>\n",
              "      <td>fri great</td>\n",
              "      <td>fry great</td>\n",
              "    </tr>\n",
              "    <tr>\n",
              "      <th>9</th>\n",
              "      <td>great touch</td>\n",
              "      <td>great touch</td>\n",
              "      <td>great touch</td>\n",
              "    </tr>\n",
              "  </tbody>\n",
              "</table>\n",
              "</div>\n",
              "      <button class=\"colab-df-convert\" onclick=\"convertToInteractive('df-fdeed701-1090-40fd-9c21-d025ef08bd5f')\"\n",
              "              title=\"Convert this dataframe to an interactive table.\"\n",
              "              style=\"display:none;\">\n",
              "        \n",
              "  <svg xmlns=\"http://www.w3.org/2000/svg\" height=\"24px\"viewBox=\"0 0 24 24\"\n",
              "       width=\"24px\">\n",
              "    <path d=\"M0 0h24v24H0V0z\" fill=\"none\"/>\n",
              "    <path d=\"M18.56 5.44l.94 2.06.94-2.06 2.06-.94-2.06-.94-.94-2.06-.94 2.06-2.06.94zm-11 1L8.5 8.5l.94-2.06 2.06-.94-2.06-.94L8.5 2.5l-.94 2.06-2.06.94zm10 10l.94 2.06.94-2.06 2.06-.94-2.06-.94-.94-2.06-.94 2.06-2.06.94z\"/><path d=\"M17.41 7.96l-1.37-1.37c-.4-.4-.92-.59-1.43-.59-.52 0-1.04.2-1.43.59L10.3 9.45l-7.72 7.72c-.78.78-.78 2.05 0 2.83L4 21.41c.39.39.9.59 1.41.59.51 0 1.02-.2 1.41-.59l7.78-7.78 2.81-2.81c.8-.78.8-2.07 0-2.86zM5.41 20L4 18.59l7.72-7.72 1.47 1.35L5.41 20z\"/>\n",
              "  </svg>\n",
              "      </button>\n",
              "      \n",
              "  <style>\n",
              "    .colab-df-container {\n",
              "      display:flex;\n",
              "      flex-wrap:wrap;\n",
              "      gap: 12px;\n",
              "    }\n",
              "\n",
              "    .colab-df-convert {\n",
              "      background-color: #E8F0FE;\n",
              "      border: none;\n",
              "      border-radius: 50%;\n",
              "      cursor: pointer;\n",
              "      display: none;\n",
              "      fill: #1967D2;\n",
              "      height: 32px;\n",
              "      padding: 0 0 0 0;\n",
              "      width: 32px;\n",
              "    }\n",
              "\n",
              "    .colab-df-convert:hover {\n",
              "      background-color: #E2EBFA;\n",
              "      box-shadow: 0px 1px 2px rgba(60, 64, 67, 0.3), 0px 1px 3px 1px rgba(60, 64, 67, 0.15);\n",
              "      fill: #174EA6;\n",
              "    }\n",
              "\n",
              "    [theme=dark] .colab-df-convert {\n",
              "      background-color: #3B4455;\n",
              "      fill: #D2E3FC;\n",
              "    }\n",
              "\n",
              "    [theme=dark] .colab-df-convert:hover {\n",
              "      background-color: #434B5C;\n",
              "      box-shadow: 0px 1px 3px 1px rgba(0, 0, 0, 0.15);\n",
              "      filter: drop-shadow(0px 1px 2px rgba(0, 0, 0, 0.3));\n",
              "      fill: #FFFFFF;\n",
              "    }\n",
              "  </style>\n",
              "\n",
              "      <script>\n",
              "        const buttonEl =\n",
              "          document.querySelector('#df-fdeed701-1090-40fd-9c21-d025ef08bd5f button.colab-df-convert');\n",
              "        buttonEl.style.display =\n",
              "          google.colab.kernel.accessAllowed ? 'block' : 'none';\n",
              "\n",
              "        async function convertToInteractive(key) {\n",
              "          const element = document.querySelector('#df-fdeed701-1090-40fd-9c21-d025ef08bd5f');\n",
              "          const dataTable =\n",
              "            await google.colab.kernel.invokeFunction('convertToInteractive',\n",
              "                                                     [key], {});\n",
              "          if (!dataTable) return;\n",
              "\n",
              "          const docLinkHtml = 'Like what you see? Visit the ' +\n",
              "            '<a target=\"_blank\" href=https://colab.research.google.com/notebooks/data_table.ipynb>data table notebook</a>'\n",
              "            + ' to learn more about interactive tables.';\n",
              "          element.innerHTML = '';\n",
              "          dataTable['output_type'] = 'display_data';\n",
              "          await google.colab.output.renderOutput(dataTable, element);\n",
              "          const docLink = document.createElement('div');\n",
              "          docLink.innerHTML = docLinkHtml;\n",
              "          element.appendChild(docLink);\n",
              "        }\n",
              "      </script>\n",
              "    </div>\n",
              "  </div>\n",
              "  "
            ]
          },
          "metadata": {},
          "execution_count": 81
        }
      ]
    },
    {
      "cell_type": "markdown",
      "metadata": {
        "id": "e6RTwgzzwsJg"
      },
      "source": [
        "Stemmed algorithm seems to be working better in this case when compared to the lemmatization. It is recommended to observe the results after pre-processing tasks to understand the performance of the third party libraries we are using in pre-processing."
      ]
    },
    {
      "cell_type": "markdown",
      "metadata": {
        "id": "ILB7exVHEY1y"
      },
      "source": [
        "## Text Feature Extraction\n",
        "\n",
        "In a numeric dataset (e.g., house price dataset, titanic survival dataset, dungaree dataset), we had numeric and categorical variables, which we transformed to numeric values for predictive analytics. Those numeric variables are called numeric features in the datasets. Similarly, for NLP, we need to derive features from text data in numerical format because machines can only understand numeric representations."
      ]
    },
    {
      "cell_type": "markdown",
      "metadata": {
        "id": "7FlXXX-cfHZa"
      },
      "source": [
        "### N-Grams\n",
        "\n",
        "An [n-gram](https://en.wikipedia.org/wiki/N-gram) is a contiguous sequence of n items from a given sample of text or speech. They are basically a set of co-occuring words within a given window. When computing the n-grams, the shift is one-step forward (although you can move X words forward in more advanced scenarios). For example, for the sentence \"The cow jumps over the moon\". If N=2 (known as bigrams), then the ngrams would be:\n",
        "* the cow\n",
        "* cow jumps\n",
        "* jumps over\n",
        "* over the\n",
        "* the moon\n",
        " \n",
        "We will use NLTK ngrams and word_tokenizer libraries for n-gram feature extraction.\n",
        "\n",
        "Note: Need to download punkt resource for nltk for work tokenization"
      ]
    },
    {
      "cell_type": "code",
      "metadata": {
        "id": "inAc6aR2lwEg",
        "outputId": "51021262-b3ba-45a8-980a-ab6b3ba76fd9",
        "colab": {
          "base_uri": "https://localhost:8080/"
        }
      },
      "source": [
        "from nltk.tokenize import word_tokenize\n",
        "from nltk.util import ngrams\n",
        "\n",
        "nltk.download('punkt')"
      ],
      "execution_count": 82,
      "outputs": [
        {
          "output_type": "stream",
          "name": "stderr",
          "text": [
            "[nltk_data] Downloading package punkt to /root/nltk_data...\n",
            "[nltk_data]   Package punkt is already up-to-date!\n"
          ]
        },
        {
          "output_type": "execute_result",
          "data": {
            "text/plain": [
              "True"
            ]
          },
          "metadata": {},
          "execution_count": 82
        }
      ]
    },
    {
      "cell_type": "markdown",
      "metadata": {
        "id": "WJYeiIrClzp7"
      },
      "source": [
        "First we define the value for *n*, in n-gram representation."
      ]
    },
    {
      "cell_type": "code",
      "metadata": {
        "id": "wb18qzswl-Bq"
      },
      "source": [
        "n = 3"
      ],
      "execution_count": 83,
      "outputs": []
    },
    {
      "cell_type": "markdown",
      "metadata": {
        "id": "jX6iMftbmDPO"
      },
      "source": [
        "Following n_grams() method will take a sentence and construct a list of n-grams."
      ]
    },
    {
      "cell_type": "code",
      "metadata": {
        "id": "LKPsz4T_l_ZU"
      },
      "source": [
        "def n_grams(text):\n",
        "  if len(word_tokenize(text)) < 3:\n",
        "    return []\n",
        "  n_grams = ngrams(word_tokenize(text), n)\n",
        "  return [' '.join(grams) for grams in n_grams]"
      ],
      "execution_count": 84,
      "outputs": []
    },
    {
      "cell_type": "code",
      "metadata": {
        "id": "8zQdw-4pS8ws",
        "outputId": "03e0a29d-4bf6-416d-f288-dbb19650fd3d",
        "colab": {
          "base_uri": "https://localhost:8080/"
        }
      },
      "source": [
        "txt = \"you want to exclude some stop word being getting ignored\"\n",
        "print(n_grams(txt))"
      ],
      "execution_count": 85,
      "outputs": [
        {
          "output_type": "stream",
          "name": "stdout",
          "text": [
            "['you want to', 'want to exclude', 'to exclude some', 'exclude some stop', 'some stop word', 'stop word being', 'word being getting', 'being getting ignored']\n"
          ]
        }
      ]
    },
    {
      "cell_type": "markdown",
      "metadata": {
        "id": "n2EEAEptmPrn"
      },
      "source": [
        "Derive n-grams (n=3) for our dataset."
      ]
    },
    {
      "cell_type": "code",
      "metadata": {
        "id": "qj2gxPH7DY84"
      },
      "source": [
        "df['3_grams'] = df['sentence'].apply(lambda x: n_grams(x))"
      ],
      "execution_count": 86,
      "outputs": []
    },
    {
      "cell_type": "markdown",
      "metadata": {
        "id": "9XniThjwmV-r"
      },
      "source": [
        "Display original sentence and n-grams."
      ]
    },
    {
      "cell_type": "code",
      "metadata": {
        "id": "ZQUU-YcdmNTD",
        "outputId": "0091347f-dae5-4e2e-cf3f-ace8af5e36c5",
        "colab": {
          "base_uri": "https://localhost:8080/",
          "height": 676
        }
      },
      "source": [
        "df[['sentence', '3_grams']].head(20)"
      ],
      "execution_count": 87,
      "outputs": [
        {
          "output_type": "execute_result",
          "data": {
            "text/plain": [
              "                                             sentence  \\\n",
              "0                                     wow loved place   \n",
              "1                                      crust not good   \n",
              "2                             not tasty texture nasty   \n",
              "3   stopped late may bank holiday rick steve recom...   \n",
              "4                         selection menu great prices   \n",
              "5                         getting angry want damn pho   \n",
              "6                          honeslty didnt taste fresh   \n",
              "7   potatoes like rubber could tell had made ahead...   \n",
              "8                                         fries great   \n",
              "9                                         great touch   \n",
              "10                                     service prompt   \n",
              "11                                  would not go back   \n",
              "12  cashier had care ever had say still ended wayy...   \n",
              "13    tried cape cod ravoli chickenwith cranberrymmmm   \n",
              "14                   disgusted pretty sure human hair   \n",
              "15                        shocked signs indicate cash   \n",
              "16                                 highly recommended   \n",
              "17                       waitress little slow service   \n",
              "18               place not worth time let alone vegas   \n",
              "19                                           not like   \n",
              "\n",
              "                                              3_grams  \n",
              "0                                   [wow loved place]  \n",
              "1                                    [crust not good]  \n",
              "2            [not tasty texture, tasty texture nasty]  \n",
              "3   [stopped late may, late may bank, may bank hol...  \n",
              "4           [selection menu great, menu great prices]  \n",
              "5   [getting angry want, angry want damn, want dam...  \n",
              "6           [honeslty didnt taste, didnt taste fresh]  \n",
              "7   [potatoes like rubber, like rubber could, rubb...  \n",
              "8                                                  []  \n",
              "9                                                  []  \n",
              "10                                                 []  \n",
              "11                        [would not go, not go back]  \n",
              "12  [cashier had care, had care ever, care ever ha...  \n",
              "13  [tried cape cod, cape cod ravoli, cod ravoli c...  \n",
              "14  [disgusted pretty sure, pretty sure human, sur...  \n",
              "15      [shocked signs indicate, signs indicate cash]  \n",
              "16                                                 []  \n",
              "17        [waitress little slow, little slow service]  \n",
              "18  [place not worth, not worth time, worth time l...  \n",
              "19                                                 []  "
            ],
            "text/html": [
              "\n",
              "  <div id=\"df-6c292257-85af-438a-aa23-09d2eee3c319\">\n",
              "    <div class=\"colab-df-container\">\n",
              "      <div>\n",
              "<style scoped>\n",
              "    .dataframe tbody tr th:only-of-type {\n",
              "        vertical-align: middle;\n",
              "    }\n",
              "\n",
              "    .dataframe tbody tr th {\n",
              "        vertical-align: top;\n",
              "    }\n",
              "\n",
              "    .dataframe thead th {\n",
              "        text-align: right;\n",
              "    }\n",
              "</style>\n",
              "<table border=\"1\" class=\"dataframe\">\n",
              "  <thead>\n",
              "    <tr style=\"text-align: right;\">\n",
              "      <th></th>\n",
              "      <th>sentence</th>\n",
              "      <th>3_grams</th>\n",
              "    </tr>\n",
              "  </thead>\n",
              "  <tbody>\n",
              "    <tr>\n",
              "      <th>0</th>\n",
              "      <td>wow loved place</td>\n",
              "      <td>[wow loved place]</td>\n",
              "    </tr>\n",
              "    <tr>\n",
              "      <th>1</th>\n",
              "      <td>crust not good</td>\n",
              "      <td>[crust not good]</td>\n",
              "    </tr>\n",
              "    <tr>\n",
              "      <th>2</th>\n",
              "      <td>not tasty texture nasty</td>\n",
              "      <td>[not tasty texture, tasty texture nasty]</td>\n",
              "    </tr>\n",
              "    <tr>\n",
              "      <th>3</th>\n",
              "      <td>stopped late may bank holiday rick steve recom...</td>\n",
              "      <td>[stopped late may, late may bank, may bank hol...</td>\n",
              "    </tr>\n",
              "    <tr>\n",
              "      <th>4</th>\n",
              "      <td>selection menu great prices</td>\n",
              "      <td>[selection menu great, menu great prices]</td>\n",
              "    </tr>\n",
              "    <tr>\n",
              "      <th>5</th>\n",
              "      <td>getting angry want damn pho</td>\n",
              "      <td>[getting angry want, angry want damn, want dam...</td>\n",
              "    </tr>\n",
              "    <tr>\n",
              "      <th>6</th>\n",
              "      <td>honeslty didnt taste fresh</td>\n",
              "      <td>[honeslty didnt taste, didnt taste fresh]</td>\n",
              "    </tr>\n",
              "    <tr>\n",
              "      <th>7</th>\n",
              "      <td>potatoes like rubber could tell had made ahead...</td>\n",
              "      <td>[potatoes like rubber, like rubber could, rubb...</td>\n",
              "    </tr>\n",
              "    <tr>\n",
              "      <th>8</th>\n",
              "      <td>fries great</td>\n",
              "      <td>[]</td>\n",
              "    </tr>\n",
              "    <tr>\n",
              "      <th>9</th>\n",
              "      <td>great touch</td>\n",
              "      <td>[]</td>\n",
              "    </tr>\n",
              "    <tr>\n",
              "      <th>10</th>\n",
              "      <td>service prompt</td>\n",
              "      <td>[]</td>\n",
              "    </tr>\n",
              "    <tr>\n",
              "      <th>11</th>\n",
              "      <td>would not go back</td>\n",
              "      <td>[would not go, not go back]</td>\n",
              "    </tr>\n",
              "    <tr>\n",
              "      <th>12</th>\n",
              "      <td>cashier had care ever had say still ended wayy...</td>\n",
              "      <td>[cashier had care, had care ever, care ever ha...</td>\n",
              "    </tr>\n",
              "    <tr>\n",
              "      <th>13</th>\n",
              "      <td>tried cape cod ravoli chickenwith cranberrymmmm</td>\n",
              "      <td>[tried cape cod, cape cod ravoli, cod ravoli c...</td>\n",
              "    </tr>\n",
              "    <tr>\n",
              "      <th>14</th>\n",
              "      <td>disgusted pretty sure human hair</td>\n",
              "      <td>[disgusted pretty sure, pretty sure human, sur...</td>\n",
              "    </tr>\n",
              "    <tr>\n",
              "      <th>15</th>\n",
              "      <td>shocked signs indicate cash</td>\n",
              "      <td>[shocked signs indicate, signs indicate cash]</td>\n",
              "    </tr>\n",
              "    <tr>\n",
              "      <th>16</th>\n",
              "      <td>highly recommended</td>\n",
              "      <td>[]</td>\n",
              "    </tr>\n",
              "    <tr>\n",
              "      <th>17</th>\n",
              "      <td>waitress little slow service</td>\n",
              "      <td>[waitress little slow, little slow service]</td>\n",
              "    </tr>\n",
              "    <tr>\n",
              "      <th>18</th>\n",
              "      <td>place not worth time let alone vegas</td>\n",
              "      <td>[place not worth, not worth time, worth time l...</td>\n",
              "    </tr>\n",
              "    <tr>\n",
              "      <th>19</th>\n",
              "      <td>not like</td>\n",
              "      <td>[]</td>\n",
              "    </tr>\n",
              "  </tbody>\n",
              "</table>\n",
              "</div>\n",
              "      <button class=\"colab-df-convert\" onclick=\"convertToInteractive('df-6c292257-85af-438a-aa23-09d2eee3c319')\"\n",
              "              title=\"Convert this dataframe to an interactive table.\"\n",
              "              style=\"display:none;\">\n",
              "        \n",
              "  <svg xmlns=\"http://www.w3.org/2000/svg\" height=\"24px\"viewBox=\"0 0 24 24\"\n",
              "       width=\"24px\">\n",
              "    <path d=\"M0 0h24v24H0V0z\" fill=\"none\"/>\n",
              "    <path d=\"M18.56 5.44l.94 2.06.94-2.06 2.06-.94-2.06-.94-.94-2.06-.94 2.06-2.06.94zm-11 1L8.5 8.5l.94-2.06 2.06-.94-2.06-.94L8.5 2.5l-.94 2.06-2.06.94zm10 10l.94 2.06.94-2.06 2.06-.94-2.06-.94-.94-2.06-.94 2.06-2.06.94z\"/><path d=\"M17.41 7.96l-1.37-1.37c-.4-.4-.92-.59-1.43-.59-.52 0-1.04.2-1.43.59L10.3 9.45l-7.72 7.72c-.78.78-.78 2.05 0 2.83L4 21.41c.39.39.9.59 1.41.59.51 0 1.02-.2 1.41-.59l7.78-7.78 2.81-2.81c.8-.78.8-2.07 0-2.86zM5.41 20L4 18.59l7.72-7.72 1.47 1.35L5.41 20z\"/>\n",
              "  </svg>\n",
              "      </button>\n",
              "      \n",
              "  <style>\n",
              "    .colab-df-container {\n",
              "      display:flex;\n",
              "      flex-wrap:wrap;\n",
              "      gap: 12px;\n",
              "    }\n",
              "\n",
              "    .colab-df-convert {\n",
              "      background-color: #E8F0FE;\n",
              "      border: none;\n",
              "      border-radius: 50%;\n",
              "      cursor: pointer;\n",
              "      display: none;\n",
              "      fill: #1967D2;\n",
              "      height: 32px;\n",
              "      padding: 0 0 0 0;\n",
              "      width: 32px;\n",
              "    }\n",
              "\n",
              "    .colab-df-convert:hover {\n",
              "      background-color: #E2EBFA;\n",
              "      box-shadow: 0px 1px 2px rgba(60, 64, 67, 0.3), 0px 1px 3px 1px rgba(60, 64, 67, 0.15);\n",
              "      fill: #174EA6;\n",
              "    }\n",
              "\n",
              "    [theme=dark] .colab-df-convert {\n",
              "      background-color: #3B4455;\n",
              "      fill: #D2E3FC;\n",
              "    }\n",
              "\n",
              "    [theme=dark] .colab-df-convert:hover {\n",
              "      background-color: #434B5C;\n",
              "      box-shadow: 0px 1px 3px 1px rgba(0, 0, 0, 0.15);\n",
              "      filter: drop-shadow(0px 1px 2px rgba(0, 0, 0, 0.3));\n",
              "      fill: #FFFFFF;\n",
              "    }\n",
              "  </style>\n",
              "\n",
              "      <script>\n",
              "        const buttonEl =\n",
              "          document.querySelector('#df-6c292257-85af-438a-aa23-09d2eee3c319 button.colab-df-convert');\n",
              "        buttonEl.style.display =\n",
              "          google.colab.kernel.accessAllowed ? 'block' : 'none';\n",
              "\n",
              "        async function convertToInteractive(key) {\n",
              "          const element = document.querySelector('#df-6c292257-85af-438a-aa23-09d2eee3c319');\n",
              "          const dataTable =\n",
              "            await google.colab.kernel.invokeFunction('convertToInteractive',\n",
              "                                                     [key], {});\n",
              "          if (!dataTable) return;\n",
              "\n",
              "          const docLinkHtml = 'Like what you see? Visit the ' +\n",
              "            '<a target=\"_blank\" href=https://colab.research.google.com/notebooks/data_table.ipynb>data table notebook</a>'\n",
              "            + ' to learn more about interactive tables.';\n",
              "          element.innerHTML = '';\n",
              "          dataTable['output_type'] = 'display_data';\n",
              "          await google.colab.output.renderOutput(dataTable, element);\n",
              "          const docLink = document.createElement('div');\n",
              "          docLink.innerHTML = docLinkHtml;\n",
              "          element.appendChild(docLink);\n",
              "        }\n",
              "      </script>\n",
              "    </div>\n",
              "  </div>\n",
              "  "
            ]
          },
          "metadata": {},
          "execution_count": 87
        }
      ]
    },
    {
      "cell_type": "markdown",
      "metadata": {
        "id": "7RJBlyLjh0Zq"
      },
      "source": [
        "Based on above results (e.g., record 16) you can see that if there are only 2 words, the 3-grams would result no n-grams.  \n",
        "Thus, you may try to derive n-grams with *n=2*."
      ]
    },
    {
      "cell_type": "markdown",
      "metadata": {
        "id": "xhlvf58tqq3C"
      },
      "source": [
        "### Bag of words\n",
        "\n",
        "[Bag of words](https://machinelearningmastery.com/gentle-introduction-bag-words-model/) is a simple text feature extraction mechanism.   \n",
        "A bag-of-words is a representation of text that describes the occurrence of words within a document. It involves two things:\n",
        "* A vocabulary of known words.  \n",
        "* A measure of the presence of known words.  \n",
        "\n",
        "We will use [CountVectorizer library](https://scikit-learn.org/stable/modules/generated/sklearn.feature_extraction.text.CountVectorizer.html) on sklearn for bag-of-words model creation."
      ]
    },
    {
      "cell_type": "code",
      "metadata": {
        "id": "vDsvQka_oJGI"
      },
      "source": [
        "from sklearn.feature_extraction.text import CountVectorizer"
      ],
      "execution_count": 88,
      "outputs": []
    },
    {
      "cell_type": "markdown",
      "metadata": {
        "id": "qBazktNpoPpH"
      },
      "source": [
        "You may refer to [CountVectorizer](https://scikit-learn.org/stable/modules/generated/sklearn.feature_extraction.text.CountVectorizer.html) API for detailed description about the parameters."
      ]
    },
    {
      "cell_type": "code",
      "metadata": {
        "id": "HKuTRNfYmqV0"
      },
      "source": [
        "bow = CountVectorizer(max_features=1000, lowercase=True, ngram_range=(1,1), analyzer = \"word\")"
      ],
      "execution_count": 89,
      "outputs": []
    },
    {
      "cell_type": "markdown",
      "metadata": {
        "id": "frDRiREJokx8"
      },
      "source": [
        "Transform lemmatized senteces into bag-of-words model."
      ]
    },
    {
      "cell_type": "markdown",
      "metadata": {
        "id": "m8_sv_6eeZEJ"
      },
      "source": []
    },
    {
      "cell_type": "code",
      "metadata": {
        "id": "q1NwVXryrEj2"
      },
      "source": [
        "X_bow = bow.fit_transform(df['sentence_stemmed'])"
      ],
      "execution_count": 90,
      "outputs": []
    },
    {
      "cell_type": "markdown",
      "metadata": {
        "id": "VLyqMA4CoxhA"
      },
      "source": [
        "The X_bow would result in a term-document matrix.  \n",
        "e.g., Output format:  (sentence_id, vocabulary_dictionary_id) count\n",
        "* sentence_id - sentence id in the dataframe\n",
        "* vocabulary_dictionary_id - id of the particular word in the bag of words model dictionary\n",
        "* count - count of words"
      ]
    },
    {
      "cell_type": "code",
      "metadata": {
        "id": "ZTedh3MhT6MT",
        "outputId": "ac3e11c6-a781-4821-a7ae-759d29610634",
        "colab": {
          "base_uri": "https://localhost:8080/"
        }
      },
      "source": [
        "df['sentence_stemmed'].head()"
      ],
      "execution_count": 91,
      "outputs": [
        {
          "output_type": "execute_result",
          "data": {
            "text/plain": [
              "0                                       wow love place\n",
              "1                                       crust not good\n",
              "2                               not tasti textur nasti\n",
              "3    stop late may bank holiday rick steve recommen...\n",
              "4                              select menu great price\n",
              "Name: sentence_stemmed, dtype: object"
            ]
          },
          "metadata": {},
          "execution_count": 91
        }
      ]
    },
    {
      "cell_type": "code",
      "metadata": {
        "id": "imw2JQaYrM73",
        "outputId": "2da85ca4-3acf-480b-946c-92403086c9f7",
        "colab": {
          "base_uri": "https://localhost:8080/"
        }
      },
      "source": [
        "print(X_bow)"
      ],
      "execution_count": 92,
      "outputs": [
        {
          "output_type": "stream",
          "name": "stdout",
          "text": [
            "  (0, 985)\t1\n",
            "  (0, 517)\t1\n",
            "  (0, 638)\t1\n",
            "  (1, 582)\t1\n",
            "  (1, 380)\t1\n",
            "  (2, 582)\t1\n",
            "  (2, 858)\t1\n",
            "  (2, 567)\t1\n",
            "  (3, 517)\t1\n",
            "  (3, 825)\t1\n",
            "  (3, 484)\t1\n",
            "  (3, 532)\t1\n",
            "  (3, 704)\t1\n",
            "  (4, 758)\t1\n",
            "  (4, 542)\t1\n",
            "  (4, 384)\t1\n",
            "  (4, 669)\t1\n",
            "  (5, 371)\t1\n",
            "  (5, 944)\t1\n",
            "  (5, 205)\t1\n",
            "  (5, 632)\t1\n",
            "  (6, 234)\t1\n",
            "  (6, 856)\t1\n",
            "  (6, 352)\t1\n",
            "  (7, 659)\t1\n",
            "  :\t:\n",
            "  (2741, 973)\t1\n",
            "  (2741, 827)\t1\n",
            "  (2742, 573)\t1\n",
            "  (2742, 942)\t1\n",
            "  (2742, 560)\t1\n",
            "  (2743, 381)\t1\n",
            "  (2743, 950)\t1\n",
            "  (2743, 852)\t1\n",
            "  (2743, 98)\t1\n",
            "  (2744, 917)\t1\n",
            "  (2744, 976)\t1\n",
            "  (2744, 514)\t1\n",
            "  (2744, 673)\t1\n",
            "  (2744, 329)\t1\n",
            "  (2744, 750)\t1\n",
            "  (2745, 975)\t1\n",
            "  (2745, 278)\t1\n",
            "  (2746, 65)\t1\n",
            "  (2746, 300)\t1\n",
            "  (2747, 595)\t1\n",
            "  (2747, 432)\t1\n",
            "  (2747, 949)\t1\n",
            "  (2747, 453)\t1\n",
            "  (2747, 554)\t1\n",
            "  (2747, 454)\t1\n"
          ]
        }
      ]
    },
    {
      "cell_type": "markdown",
      "metadata": {
        "id": "d4Fxf1C1iPN3"
      },
      "source": [
        "### Term Frequency - Inverse Document Frequecy (TF-IDF)\n",
        "\n",
        "[Term frequency–inverse document frequency](https://www.kdnuggets.com/2018/08/wtf-tf-idf.html), is a numerical statistic that is intended to reflect how important a word is to a document in a collection. The tf–idf value increases proportionally to the number of times a word appears in the document and is offset by the number of documents in the corpus that contain the word, which helps to adjust for the fact that some words appear more frequently in general.\n",
        "\n",
        "We will use [feature extraction module](https://scikit-learn.org/stable/modules/generated/sklearn.feature_extraction.text.TfidfVectorizer.html) of the sklearn library for this."
      ]
    },
    {
      "cell_type": "code",
      "metadata": {
        "id": "YFR61d5ehktG"
      },
      "source": [
        "from sklearn.feature_extraction.text import TfidfVectorizer\n",
        "\n",
        "vectorizer = TfidfVectorizer()"
      ],
      "execution_count": 93,
      "outputs": []
    },
    {
      "cell_type": "markdown",
      "metadata": {
        "id": "UzNi0OmbqSs7"
      },
      "source": [
        "Construct TF-IDF using the lemmatized senteces."
      ]
    },
    {
      "cell_type": "code",
      "metadata": {
        "id": "leDbV3eVjLUK"
      },
      "source": [
        "tf_idf = vectorizer.fit_transform(df['sentence_stemmed'])  # as the text data, we will use lemmatized sentences"
      ],
      "execution_count": 94,
      "outputs": []
    },
    {
      "cell_type": "markdown",
      "metadata": {
        "id": "_kX79IoAqbdb"
      },
      "source": [
        "Display the list of all the words."
      ]
    },
    {
      "cell_type": "code",
      "metadata": {
        "id": "XzBSDPTKktzH",
        "outputId": "c34883d5-be35-49e0-bef6-888743973e44",
        "colab": {
          "base_uri": "https://localhost:8080/"
        }
      },
      "source": [
        "print(vectorizer.get_feature_names_out())"
      ],
      "execution_count": 95,
      "outputs": [
        {
          "output_type": "stream",
          "name": "stdout",
          "text": [
            "['10oct' '15lb' '18th' ... 'zombi' 'zombiestud' 'zombiez']\n"
          ]
        }
      ]
    },
    {
      "cell_type": "markdown",
      "metadata": {
        "id": "_8oekEhSlt4r"
      },
      "source": [
        "Here you see there are quite many text that includes a number (digit).  \n",
        "In one of the pre-processing steps, we removed all the words/text that are only digits, but not combined.  \n",
        "You might want to remove these as well...  "
      ]
    },
    {
      "cell_type": "markdown",
      "metadata": {
        "id": "LSgn4DPGqtEz"
      },
      "source": [
        "A comparison of TF-IDF values with respect to lemmatized sentences."
      ]
    },
    {
      "cell_type": "code",
      "metadata": {
        "id": "_vUTSbDdk0wL",
        "outputId": "a9f38bc7-b68b-415f-8a12-b4f2cb0c7b68",
        "colab": {
          "base_uri": "https://localhost:8080/"
        }
      },
      "source": [
        "print(df['sentence_lemmatized'].head())"
      ],
      "execution_count": 96,
      "outputs": [
        {
          "output_type": "stream",
          "name": "stdout",
          "text": [
            "0                                      wow loved place\n",
            "1                                       crust not good\n",
            "2                              not tasty texture nasty\n",
            "3    stopped late may bank holiday rick steve recom...\n",
            "4                           selection menu great price\n",
            "Name: sentence_lemmatized, dtype: object\n"
          ]
        }
      ]
    },
    {
      "cell_type": "code",
      "metadata": {
        "id": "fb7xxL-LlIul",
        "outputId": "63f79e87-dc4b-4927-8cef-c23ab3a58394",
        "colab": {
          "base_uri": "https://localhost:8080/"
        }
      },
      "source": [
        "print(tf_idf[:5])"
      ],
      "execution_count": 97,
      "outputs": [
        {
          "output_type": "stream",
          "name": "stdout",
          "text": [
            "  (0, 2658)\t0.4446105115838819\n",
            "  (0, 2120)\t0.4820990062440302\n",
            "  (0, 4062)\t0.7549185659179652\n",
            "  (1, 1545)\t0.38960493279428215\n",
            "  (1, 2428)\t0.3582623419841641\n",
            "  (1, 862)\t0.8484433337933565\n",
            "  (2, 2361)\t0.5734558286240188\n",
            "  (2, 3573)\t0.5909620896136903\n",
            "  (2, 3538)\t0.5047727584023991\n",
            "  (2, 2428)\t0.2590688781606039\n",
            "  (3, 2876)\t0.2266571773812376\n",
            "  (3, 3393)\t0.357493916424124\n",
            "  (3, 2966)\t0.39038995129203263\n",
            "  (3, 1716)\t0.39038995129203263\n",
            "  (3, 281)\t0.39038995129203263\n",
            "  (3, 2197)\t0.3053549347360731\n",
            "  (3, 2014)\t0.34690375858974987\n",
            "  (3, 3404)\t0.32459788155621533\n",
            "  (3, 2120)\t0.21133869226853622\n",
            "  (4, 2744)\t0.45928504705724965\n",
            "  (4, 1575)\t0.34385606899646176\n",
            "  (4, 2234)\t0.563731151739016\n",
            "  (4, 3114)\t0.594161121180882\n"
          ]
        }
      ]
    },
    {
      "cell_type": "markdown",
      "metadata": {
        "id": "3kE8A2SBmxdf"
      },
      "source": [
        "In the feature vector row (e.g., (0, 4843)), the first digit refers to the sentence row (i.e., first datarow).  \n",
        "The second digit is the index of alphebitically ordered word list."
      ]
    },
    {
      "cell_type": "markdown",
      "metadata": {
        "id": "0eNVD0_wGYoP"
      },
      "source": [
        "### Sentiment Analysis\n",
        "\n",
        "Sentiment analysis is basically the process of determining the attitude or the emotion of the writer, i.e., whether it is positive or negative or neutral.\n",
        "\n",
        "We will use the Textblob library. The sentiment function of textblob returns the polarity of the sentence, i.e., a float value which lies in the range of [-1,1] where 1 means positive statement and -1 means a negative statement."
      ]
    },
    {
      "cell_type": "code",
      "metadata": {
        "id": "p7Y1RR38HFs3"
      },
      "source": [
        "from textblob import TextBlob"
      ],
      "execution_count": 98,
      "outputs": []
    },
    {
      "cell_type": "code",
      "metadata": {
        "id": "MPElhKYqU2-r",
        "outputId": "5f6b516a-1999-43a9-91e0-93ea57325817",
        "colab": {
          "base_uri": "https://localhost:8080/"
        }
      },
      "source": [
        "doc1 = \"wow\"\n",
        "TextBlob(doc1).sentiment.polarity"
      ],
      "execution_count": 99,
      "outputs": [
        {
          "output_type": "execute_result",
          "data": {
            "text/plain": [
              "0.1"
            ]
          },
          "metadata": {},
          "execution_count": 99
        }
      ]
    },
    {
      "cell_type": "markdown",
      "metadata": {
        "id": "QTyI82q-rRZM"
      },
      "source": [
        "Derive sentiment of each sentence."
      ]
    },
    {
      "cell_type": "code",
      "metadata": {
        "id": "MB_i-p0QG8WT"
      },
      "source": [
        "df['sentiment'] = df['sentence_lemmatized'].apply(lambda x: TextBlob(x).sentiment.polarity)"
      ],
      "execution_count": 100,
      "outputs": []
    },
    {
      "cell_type": "markdown",
      "metadata": {
        "id": "QxndvXWrrbdK"
      },
      "source": [
        "Display original sentece with respect to its sentiment."
      ]
    },
    {
      "cell_type": "code",
      "metadata": {
        "id": "EBZ-FeKdG8c2",
        "outputId": "a8c5d520-4f96-4998-cbfd-6a96c78115c6",
        "colab": {
          "base_uri": "https://localhost:8080/"
        }
      },
      "source": [
        "print(df[['sentence_lemmatized', 'sentiment']][:40])"
      ],
      "execution_count": 101,
      "outputs": [
        {
          "output_type": "stream",
          "name": "stdout",
          "text": [
            "                                  sentence_lemmatized  sentiment\n",
            "0                                     wow loved place   0.400000\n",
            "1                                      crust not good  -0.350000\n",
            "2                             not tasty texture nasty  -1.000000\n",
            "3   stopped late may bank holiday rick steve recom...   0.200000\n",
            "4                          selection menu great price   0.800000\n",
            "5                         getting angry want damn pho  -0.500000\n",
            "6                          honeslty didnt taste fresh   0.300000\n",
            "7   potato like rubber could tell had made ahead t...   0.000000\n",
            "8                                           fry great   0.800000\n",
            "9                                         great touch   0.800000\n",
            "10                                     service prompt   0.000000\n",
            "11                                  would not go back   0.000000\n",
            "12  cashier had care ever had say still ended wayy...   0.000000\n",
            "13    tried cape cod ravoli chickenwith cranberrymmmm   0.000000\n",
            "14                   disgusted pretty sure human hair  -0.062500\n",
            "15                         shocked sign indicate cash  -0.700000\n",
            "16                                 highly recommended   0.160000\n",
            "17                       waitress little slow service  -0.243750\n",
            "18                place not worth time let alone vega  -0.150000\n",
            "19                                           not like   0.000000\n",
            "20                                     burrittos blah   0.000000\n",
            "21                                       food amazing   0.600000\n",
            "22                                  service also cute   0.500000\n",
            "23                   could care le interior beautiful   0.850000\n",
            "24                                          performed   0.000000\n",
            "25      thats rightthe red velvet cakeohhh stuff good   0.350000\n",
            "26                                               name   0.000000\n",
            "27  hole wall ha great mexican street taco friendl...   0.391667\n",
            "28  took hour get food table restaurant food luke ...   0.300000\n",
            "29                               worst salmon sashimi  -1.000000\n",
            "30        also combo like burger fry beer decent deal   0.166667\n",
            "31                                    like final blow   0.000000\n",
            "32             found place accident could not happier   0.000000\n",
            "33  seems like good quick place grab bite familiar...   0.469444\n",
            "34                             overall like place lot   0.000000\n",
            "35           redeeming quality restaurant inexpensive   0.500000\n",
            "36                           ample portion good price   0.700000\n",
            "37  poor service waiter made feel like stupid ever...  -0.600000\n",
            "38                           first visit hiro delight   0.250000\n",
            "39                                       service suck   0.000000\n"
          ]
        }
      ]
    },
    {
      "cell_type": "markdown",
      "metadata": {
        "id": "acrCV8JVVjdx"
      },
      "source": [
        "## Text Classification\n",
        "\n",
        "We will explore few text classification approaches to classify the review data as either positive (1) or negative (0).  \n",
        "Here we will only use the amazon reviews (1000 reviews) for the workshop. (You may use yelp and imdb review data seperately evaluate the approaches.)"
      ]
    },
    {
      "cell_type": "markdown",
      "metadata": {
        "id": "FSsjUBYZrl-y"
      },
      "source": [
        "Previously, we conducted all the pre-processing steps to the entire 3 datasets (amazon, yelp and imdb). This for text classification we will filter only the reviews from amazon."
      ]
    },
    {
      "cell_type": "code",
      "metadata": {
        "id": "Sl8comQ3V0zJ"
      },
      "source": [
        "df_amazon = df.loc[df['source'] == 'amazon']"
      ],
      "execution_count": 102,
      "outputs": []
    },
    {
      "cell_type": "markdown",
      "metadata": {
        "id": "qm2-8QfKb90u"
      },
      "source": []
    },
    {
      "cell_type": "code",
      "metadata": {
        "id": "dBIhvHkmWdku",
        "outputId": "3fadbe4a-8141-4eb6-e083-fd594ca9e8af",
        "colab": {
          "base_uri": "https://localhost:8080/",
          "height": 443
        }
      },
      "source": [
        "df_amazon.head()"
      ],
      "execution_count": 103,
      "outputs": [
        {
          "output_type": "execute_result",
          "data": {
            "text/plain": [
              "                                               sentence  label  source  \\\n",
              "1000                    way plug us unless go converter      0  amazon   \n",
              "1001                          good case excellent value      1  amazon   \n",
              "1002                                      great jawbone      1  amazon   \n",
              "1003  tied charger conversations lasting minutesmajo...      0  amazon   \n",
              "1004                                          mic great      1  amazon   \n",
              "\n",
              "      word_count_function  word_count  char_count  avg_word  \\\n",
              "1000                   21          21          82  2.952381   \n",
              "1001                    4           4          27  6.000000   \n",
              "1002                    4           4          22  4.750000   \n",
              "1003                   11          11          79  6.272727   \n",
              "1004                    4           4          17  3.500000   \n",
              "\n",
              "                                   sentence_stemmed  \\\n",
              "1000                  way plug us unless go convert   \n",
              "1001                           good case excel valu   \n",
              "1002                                   great jawbon   \n",
              "1003  tie charger convers last minutesmajor problem   \n",
              "1004                                      mic great   \n",
              "\n",
              "                                    sentence_lemmatized  \\\n",
              "1000                     way plug u unless go converter   \n",
              "1001                          good case excellent value   \n",
              "1002                                      great jawbone   \n",
              "1003  tied charger conversation lasting minutesmajor...   \n",
              "1004                                          mic great   \n",
              "\n",
              "                                                3_grams  sentiment  \n",
              "1000  [way plug us, plug us unless, us unless go, un...       0.00  \n",
              "1001        [good case excellent, case excellent value]       0.85  \n",
              "1002                                                 []       0.80  \n",
              "1003  [tied charger conversations, charger conversat...       0.00  \n",
              "1004                                                 []       0.80  "
            ],
            "text/html": [
              "\n",
              "  <div id=\"df-9164831f-eddd-4671-8606-487fe0174e44\">\n",
              "    <div class=\"colab-df-container\">\n",
              "      <div>\n",
              "<style scoped>\n",
              "    .dataframe tbody tr th:only-of-type {\n",
              "        vertical-align: middle;\n",
              "    }\n",
              "\n",
              "    .dataframe tbody tr th {\n",
              "        vertical-align: top;\n",
              "    }\n",
              "\n",
              "    .dataframe thead th {\n",
              "        text-align: right;\n",
              "    }\n",
              "</style>\n",
              "<table border=\"1\" class=\"dataframe\">\n",
              "  <thead>\n",
              "    <tr style=\"text-align: right;\">\n",
              "      <th></th>\n",
              "      <th>sentence</th>\n",
              "      <th>label</th>\n",
              "      <th>source</th>\n",
              "      <th>word_count_function</th>\n",
              "      <th>word_count</th>\n",
              "      <th>char_count</th>\n",
              "      <th>avg_word</th>\n",
              "      <th>sentence_stemmed</th>\n",
              "      <th>sentence_lemmatized</th>\n",
              "      <th>3_grams</th>\n",
              "      <th>sentiment</th>\n",
              "    </tr>\n",
              "  </thead>\n",
              "  <tbody>\n",
              "    <tr>\n",
              "      <th>1000</th>\n",
              "      <td>way plug us unless go converter</td>\n",
              "      <td>0</td>\n",
              "      <td>amazon</td>\n",
              "      <td>21</td>\n",
              "      <td>21</td>\n",
              "      <td>82</td>\n",
              "      <td>2.952381</td>\n",
              "      <td>way plug us unless go convert</td>\n",
              "      <td>way plug u unless go converter</td>\n",
              "      <td>[way plug us, plug us unless, us unless go, un...</td>\n",
              "      <td>0.00</td>\n",
              "    </tr>\n",
              "    <tr>\n",
              "      <th>1001</th>\n",
              "      <td>good case excellent value</td>\n",
              "      <td>1</td>\n",
              "      <td>amazon</td>\n",
              "      <td>4</td>\n",
              "      <td>4</td>\n",
              "      <td>27</td>\n",
              "      <td>6.000000</td>\n",
              "      <td>good case excel valu</td>\n",
              "      <td>good case excellent value</td>\n",
              "      <td>[good case excellent, case excellent value]</td>\n",
              "      <td>0.85</td>\n",
              "    </tr>\n",
              "    <tr>\n",
              "      <th>1002</th>\n",
              "      <td>great jawbone</td>\n",
              "      <td>1</td>\n",
              "      <td>amazon</td>\n",
              "      <td>4</td>\n",
              "      <td>4</td>\n",
              "      <td>22</td>\n",
              "      <td>4.750000</td>\n",
              "      <td>great jawbon</td>\n",
              "      <td>great jawbone</td>\n",
              "      <td>[]</td>\n",
              "      <td>0.80</td>\n",
              "    </tr>\n",
              "    <tr>\n",
              "      <th>1003</th>\n",
              "      <td>tied charger conversations lasting minutesmajo...</td>\n",
              "      <td>0</td>\n",
              "      <td>amazon</td>\n",
              "      <td>11</td>\n",
              "      <td>11</td>\n",
              "      <td>79</td>\n",
              "      <td>6.272727</td>\n",
              "      <td>tie charger convers last minutesmajor problem</td>\n",
              "      <td>tied charger conversation lasting minutesmajor...</td>\n",
              "      <td>[tied charger conversations, charger conversat...</td>\n",
              "      <td>0.00</td>\n",
              "    </tr>\n",
              "    <tr>\n",
              "      <th>1004</th>\n",
              "      <td>mic great</td>\n",
              "      <td>1</td>\n",
              "      <td>amazon</td>\n",
              "      <td>4</td>\n",
              "      <td>4</td>\n",
              "      <td>17</td>\n",
              "      <td>3.500000</td>\n",
              "      <td>mic great</td>\n",
              "      <td>mic great</td>\n",
              "      <td>[]</td>\n",
              "      <td>0.80</td>\n",
              "    </tr>\n",
              "  </tbody>\n",
              "</table>\n",
              "</div>\n",
              "      <button class=\"colab-df-convert\" onclick=\"convertToInteractive('df-9164831f-eddd-4671-8606-487fe0174e44')\"\n",
              "              title=\"Convert this dataframe to an interactive table.\"\n",
              "              style=\"display:none;\">\n",
              "        \n",
              "  <svg xmlns=\"http://www.w3.org/2000/svg\" height=\"24px\"viewBox=\"0 0 24 24\"\n",
              "       width=\"24px\">\n",
              "    <path d=\"M0 0h24v24H0V0z\" fill=\"none\"/>\n",
              "    <path d=\"M18.56 5.44l.94 2.06.94-2.06 2.06-.94-2.06-.94-.94-2.06-.94 2.06-2.06.94zm-11 1L8.5 8.5l.94-2.06 2.06-.94-2.06-.94L8.5 2.5l-.94 2.06-2.06.94zm10 10l.94 2.06.94-2.06 2.06-.94-2.06-.94-.94-2.06-.94 2.06-2.06.94z\"/><path d=\"M17.41 7.96l-1.37-1.37c-.4-.4-.92-.59-1.43-.59-.52 0-1.04.2-1.43.59L10.3 9.45l-7.72 7.72c-.78.78-.78 2.05 0 2.83L4 21.41c.39.39.9.59 1.41.59.51 0 1.02-.2 1.41-.59l7.78-7.78 2.81-2.81c.8-.78.8-2.07 0-2.86zM5.41 20L4 18.59l7.72-7.72 1.47 1.35L5.41 20z\"/>\n",
              "  </svg>\n",
              "      </button>\n",
              "      \n",
              "  <style>\n",
              "    .colab-df-container {\n",
              "      display:flex;\n",
              "      flex-wrap:wrap;\n",
              "      gap: 12px;\n",
              "    }\n",
              "\n",
              "    .colab-df-convert {\n",
              "      background-color: #E8F0FE;\n",
              "      border: none;\n",
              "      border-radius: 50%;\n",
              "      cursor: pointer;\n",
              "      display: none;\n",
              "      fill: #1967D2;\n",
              "      height: 32px;\n",
              "      padding: 0 0 0 0;\n",
              "      width: 32px;\n",
              "    }\n",
              "\n",
              "    .colab-df-convert:hover {\n",
              "      background-color: #E2EBFA;\n",
              "      box-shadow: 0px 1px 2px rgba(60, 64, 67, 0.3), 0px 1px 3px 1px rgba(60, 64, 67, 0.15);\n",
              "      fill: #174EA6;\n",
              "    }\n",
              "\n",
              "    [theme=dark] .colab-df-convert {\n",
              "      background-color: #3B4455;\n",
              "      fill: #D2E3FC;\n",
              "    }\n",
              "\n",
              "    [theme=dark] .colab-df-convert:hover {\n",
              "      background-color: #434B5C;\n",
              "      box-shadow: 0px 1px 3px 1px rgba(0, 0, 0, 0.15);\n",
              "      filter: drop-shadow(0px 1px 2px rgba(0, 0, 0, 0.3));\n",
              "      fill: #FFFFFF;\n",
              "    }\n",
              "  </style>\n",
              "\n",
              "      <script>\n",
              "        const buttonEl =\n",
              "          document.querySelector('#df-9164831f-eddd-4671-8606-487fe0174e44 button.colab-df-convert');\n",
              "        buttonEl.style.display =\n",
              "          google.colab.kernel.accessAllowed ? 'block' : 'none';\n",
              "\n",
              "        async function convertToInteractive(key) {\n",
              "          const element = document.querySelector('#df-9164831f-eddd-4671-8606-487fe0174e44');\n",
              "          const dataTable =\n",
              "            await google.colab.kernel.invokeFunction('convertToInteractive',\n",
              "                                                     [key], {});\n",
              "          if (!dataTable) return;\n",
              "\n",
              "          const docLinkHtml = 'Like what you see? Visit the ' +\n",
              "            '<a target=\"_blank\" href=https://colab.research.google.com/notebooks/data_table.ipynb>data table notebook</a>'\n",
              "            + ' to learn more about interactive tables.';\n",
              "          element.innerHTML = '';\n",
              "          dataTable['output_type'] = 'display_data';\n",
              "          await google.colab.output.renderOutput(dataTable, element);\n",
              "          const docLink = document.createElement('div');\n",
              "          docLink.innerHTML = docLinkHtml;\n",
              "          element.appendChild(docLink);\n",
              "        }\n",
              "      </script>\n",
              "    </div>\n",
              "  </div>\n",
              "  "
            ]
          },
          "metadata": {},
          "execution_count": 103
        }
      ]
    },
    {
      "cell_type": "markdown",
      "metadata": {
        "id": "F0JIXz4gr4A0"
      },
      "source": [
        "Split train/validation data\n"
      ]
    },
    {
      "cell_type": "code",
      "metadata": {
        "id": "0hNVAhPGXmSi"
      },
      "source": [
        "from sklearn.model_selection import train_test_split\n",
        "\n",
        "sentences_train, sentences_test, y_train, y_test = train_test_split(df_amazon['sentence_lemmatized'], df_amazon['label'], test_size=0.3, random_state=2)"
      ],
      "execution_count": 104,
      "outputs": []
    },
    {
      "cell_type": "markdown",
      "metadata": {
        "id": "19jv2X2kZV3B"
      },
      "source": [
        "### Logistic Regression"
      ]
    },
    {
      "cell_type": "markdown",
      "metadata": {
        "id": "1kPqYktYsOxS"
      },
      "source": [
        "We will use the Bag of Words model as text features."
      ]
    },
    {
      "cell_type": "code",
      "metadata": {
        "id": "EOLyQxTqWfWB"
      },
      "source": [
        "from sklearn.feature_extraction.text import CountVectorizer"
      ],
      "execution_count": 105,
      "outputs": []
    },
    {
      "cell_type": "markdown",
      "metadata": {
        "id": "_aw3BCr0sYLQ"
      },
      "source": [
        "Construct the bag of words model."
      ]
    },
    {
      "cell_type": "code",
      "metadata": {
        "id": "kgvIlfHhsYby",
        "outputId": "ee8bcee6-0ffe-4b5d-b6f6-2886f848d9f8",
        "colab": {
          "base_uri": "https://localhost:8080/",
          "height": 74
        }
      },
      "source": [
        "bow = CountVectorizer(min_df=0, lowercase=False)\n",
        "bow.fit(sentences_train)"
      ],
      "execution_count": 106,
      "outputs": [
        {
          "output_type": "execute_result",
          "data": {
            "text/plain": [
              "CountVectorizer(lowercase=False, min_df=0)"
            ],
            "text/html": [
              "<style>#sk-container-id-1 {color: black;background-color: white;}#sk-container-id-1 pre{padding: 0;}#sk-container-id-1 div.sk-toggleable {background-color: white;}#sk-container-id-1 label.sk-toggleable__label {cursor: pointer;display: block;width: 100%;margin-bottom: 0;padding: 0.3em;box-sizing: border-box;text-align: center;}#sk-container-id-1 label.sk-toggleable__label-arrow:before {content: \"▸\";float: left;margin-right: 0.25em;color: #696969;}#sk-container-id-1 label.sk-toggleable__label-arrow:hover:before {color: black;}#sk-container-id-1 div.sk-estimator:hover label.sk-toggleable__label-arrow:before {color: black;}#sk-container-id-1 div.sk-toggleable__content {max-height: 0;max-width: 0;overflow: hidden;text-align: left;background-color: #f0f8ff;}#sk-container-id-1 div.sk-toggleable__content pre {margin: 0.2em;color: black;border-radius: 0.25em;background-color: #f0f8ff;}#sk-container-id-1 input.sk-toggleable__control:checked~div.sk-toggleable__content {max-height: 200px;max-width: 100%;overflow: auto;}#sk-container-id-1 input.sk-toggleable__control:checked~label.sk-toggleable__label-arrow:before {content: \"▾\";}#sk-container-id-1 div.sk-estimator input.sk-toggleable__control:checked~label.sk-toggleable__label {background-color: #d4ebff;}#sk-container-id-1 div.sk-label input.sk-toggleable__control:checked~label.sk-toggleable__label {background-color: #d4ebff;}#sk-container-id-1 input.sk-hidden--visually {border: 0;clip: rect(1px 1px 1px 1px);clip: rect(1px, 1px, 1px, 1px);height: 1px;margin: -1px;overflow: hidden;padding: 0;position: absolute;width: 1px;}#sk-container-id-1 div.sk-estimator {font-family: monospace;background-color: #f0f8ff;border: 1px dotted black;border-radius: 0.25em;box-sizing: border-box;margin-bottom: 0.5em;}#sk-container-id-1 div.sk-estimator:hover {background-color: #d4ebff;}#sk-container-id-1 div.sk-parallel-item::after {content: \"\";width: 100%;border-bottom: 1px solid gray;flex-grow: 1;}#sk-container-id-1 div.sk-label:hover label.sk-toggleable__label {background-color: #d4ebff;}#sk-container-id-1 div.sk-serial::before {content: \"\";position: absolute;border-left: 1px solid gray;box-sizing: border-box;top: 0;bottom: 0;left: 50%;z-index: 0;}#sk-container-id-1 div.sk-serial {display: flex;flex-direction: column;align-items: center;background-color: white;padding-right: 0.2em;padding-left: 0.2em;position: relative;}#sk-container-id-1 div.sk-item {position: relative;z-index: 1;}#sk-container-id-1 div.sk-parallel {display: flex;align-items: stretch;justify-content: center;background-color: white;position: relative;}#sk-container-id-1 div.sk-item::before, #sk-container-id-1 div.sk-parallel-item::before {content: \"\";position: absolute;border-left: 1px solid gray;box-sizing: border-box;top: 0;bottom: 0;left: 50%;z-index: -1;}#sk-container-id-1 div.sk-parallel-item {display: flex;flex-direction: column;z-index: 1;position: relative;background-color: white;}#sk-container-id-1 div.sk-parallel-item:first-child::after {align-self: flex-end;width: 50%;}#sk-container-id-1 div.sk-parallel-item:last-child::after {align-self: flex-start;width: 50%;}#sk-container-id-1 div.sk-parallel-item:only-child::after {width: 0;}#sk-container-id-1 div.sk-dashed-wrapped {border: 1px dashed gray;margin: 0 0.4em 0.5em 0.4em;box-sizing: border-box;padding-bottom: 0.4em;background-color: white;}#sk-container-id-1 div.sk-label label {font-family: monospace;font-weight: bold;display: inline-block;line-height: 1.2em;}#sk-container-id-1 div.sk-label-container {text-align: center;}#sk-container-id-1 div.sk-container {/* jupyter's `normalize.less` sets `[hidden] { display: none; }` but bootstrap.min.css set `[hidden] { display: none !important; }` so we also need the `!important` here to be able to override the default hidden behavior on the sphinx rendered scikit-learn.org. See: https://github.com/scikit-learn/scikit-learn/issues/21755 */display: inline-block !important;position: relative;}#sk-container-id-1 div.sk-text-repr-fallback {display: none;}</style><div id=\"sk-container-id-1\" class=\"sk-top-container\"><div class=\"sk-text-repr-fallback\"><pre>CountVectorizer(lowercase=False, min_df=0)</pre><b>In a Jupyter environment, please rerun this cell to show the HTML representation or trust the notebook. <br />On GitHub, the HTML representation is unable to render, please try loading this page with nbviewer.org.</b></div><div class=\"sk-container\" hidden><div class=\"sk-item\"><div class=\"sk-estimator sk-toggleable\"><input class=\"sk-toggleable__control sk-hidden--visually\" id=\"sk-estimator-id-1\" type=\"checkbox\" checked><label for=\"sk-estimator-id-1\" class=\"sk-toggleable__label sk-toggleable__label-arrow\">CountVectorizer</label><div class=\"sk-toggleable__content\"><pre>CountVectorizer(lowercase=False, min_df=0)</pre></div></div></div></div></div>"
            ]
          },
          "metadata": {},
          "execution_count": 106
        }
      ]
    },
    {
      "cell_type": "markdown",
      "metadata": {
        "id": "3mj1IC8CsgTW"
      },
      "source": [
        "Fit the train and test sentences to transform them to bag-of-word features."
      ]
    },
    {
      "cell_type": "code",
      "metadata": {
        "id": "xNZIJTzdXCbE"
      },
      "source": [
        "X_train = bow.transform(sentences_train)\n",
        "X_test  = bow.transform(sentences_test)"
      ],
      "execution_count": 107,
      "outputs": []
    },
    {
      "cell_type": "markdown",
      "metadata": {
        "id": "KJ3_5XCOspgD"
      },
      "source": [
        "Use a logistic regression model for classification."
      ]
    },
    {
      "cell_type": "code",
      "metadata": {
        "id": "1Xqy_u4hYT2i",
        "outputId": "1405a071-976d-4b42-9e97-bdff325817dd",
        "colab": {
          "base_uri": "https://localhost:8080/",
          "height": 74
        }
      },
      "source": [
        "from sklearn.linear_model import LogisticRegression\n",
        "\n",
        "classifier = LogisticRegression()\n",
        "classifier.fit(X_train, y_train)"
      ],
      "execution_count": 108,
      "outputs": [
        {
          "output_type": "execute_result",
          "data": {
            "text/plain": [
              "LogisticRegression()"
            ],
            "text/html": [
              "<style>#sk-container-id-2 {color: black;background-color: white;}#sk-container-id-2 pre{padding: 0;}#sk-container-id-2 div.sk-toggleable {background-color: white;}#sk-container-id-2 label.sk-toggleable__label {cursor: pointer;display: block;width: 100%;margin-bottom: 0;padding: 0.3em;box-sizing: border-box;text-align: center;}#sk-container-id-2 label.sk-toggleable__label-arrow:before {content: \"▸\";float: left;margin-right: 0.25em;color: #696969;}#sk-container-id-2 label.sk-toggleable__label-arrow:hover:before {color: black;}#sk-container-id-2 div.sk-estimator:hover label.sk-toggleable__label-arrow:before {color: black;}#sk-container-id-2 div.sk-toggleable__content {max-height: 0;max-width: 0;overflow: hidden;text-align: left;background-color: #f0f8ff;}#sk-container-id-2 div.sk-toggleable__content pre {margin: 0.2em;color: black;border-radius: 0.25em;background-color: #f0f8ff;}#sk-container-id-2 input.sk-toggleable__control:checked~div.sk-toggleable__content {max-height: 200px;max-width: 100%;overflow: auto;}#sk-container-id-2 input.sk-toggleable__control:checked~label.sk-toggleable__label-arrow:before {content: \"▾\";}#sk-container-id-2 div.sk-estimator input.sk-toggleable__control:checked~label.sk-toggleable__label {background-color: #d4ebff;}#sk-container-id-2 div.sk-label input.sk-toggleable__control:checked~label.sk-toggleable__label {background-color: #d4ebff;}#sk-container-id-2 input.sk-hidden--visually {border: 0;clip: rect(1px 1px 1px 1px);clip: rect(1px, 1px, 1px, 1px);height: 1px;margin: -1px;overflow: hidden;padding: 0;position: absolute;width: 1px;}#sk-container-id-2 div.sk-estimator {font-family: monospace;background-color: #f0f8ff;border: 1px dotted black;border-radius: 0.25em;box-sizing: border-box;margin-bottom: 0.5em;}#sk-container-id-2 div.sk-estimator:hover {background-color: #d4ebff;}#sk-container-id-2 div.sk-parallel-item::after {content: \"\";width: 100%;border-bottom: 1px solid gray;flex-grow: 1;}#sk-container-id-2 div.sk-label:hover label.sk-toggleable__label {background-color: #d4ebff;}#sk-container-id-2 div.sk-serial::before {content: \"\";position: absolute;border-left: 1px solid gray;box-sizing: border-box;top: 0;bottom: 0;left: 50%;z-index: 0;}#sk-container-id-2 div.sk-serial {display: flex;flex-direction: column;align-items: center;background-color: white;padding-right: 0.2em;padding-left: 0.2em;position: relative;}#sk-container-id-2 div.sk-item {position: relative;z-index: 1;}#sk-container-id-2 div.sk-parallel {display: flex;align-items: stretch;justify-content: center;background-color: white;position: relative;}#sk-container-id-2 div.sk-item::before, #sk-container-id-2 div.sk-parallel-item::before {content: \"\";position: absolute;border-left: 1px solid gray;box-sizing: border-box;top: 0;bottom: 0;left: 50%;z-index: -1;}#sk-container-id-2 div.sk-parallel-item {display: flex;flex-direction: column;z-index: 1;position: relative;background-color: white;}#sk-container-id-2 div.sk-parallel-item:first-child::after {align-self: flex-end;width: 50%;}#sk-container-id-2 div.sk-parallel-item:last-child::after {align-self: flex-start;width: 50%;}#sk-container-id-2 div.sk-parallel-item:only-child::after {width: 0;}#sk-container-id-2 div.sk-dashed-wrapped {border: 1px dashed gray;margin: 0 0.4em 0.5em 0.4em;box-sizing: border-box;padding-bottom: 0.4em;background-color: white;}#sk-container-id-2 div.sk-label label {font-family: monospace;font-weight: bold;display: inline-block;line-height: 1.2em;}#sk-container-id-2 div.sk-label-container {text-align: center;}#sk-container-id-2 div.sk-container {/* jupyter's `normalize.less` sets `[hidden] { display: none; }` but bootstrap.min.css set `[hidden] { display: none !important; }` so we also need the `!important` here to be able to override the default hidden behavior on the sphinx rendered scikit-learn.org. See: https://github.com/scikit-learn/scikit-learn/issues/21755 */display: inline-block !important;position: relative;}#sk-container-id-2 div.sk-text-repr-fallback {display: none;}</style><div id=\"sk-container-id-2\" class=\"sk-top-container\"><div class=\"sk-text-repr-fallback\"><pre>LogisticRegression()</pre><b>In a Jupyter environment, please rerun this cell to show the HTML representation or trust the notebook. <br />On GitHub, the HTML representation is unable to render, please try loading this page with nbviewer.org.</b></div><div class=\"sk-container\" hidden><div class=\"sk-item\"><div class=\"sk-estimator sk-toggleable\"><input class=\"sk-toggleable__control sk-hidden--visually\" id=\"sk-estimator-id-2\" type=\"checkbox\" checked><label for=\"sk-estimator-id-2\" class=\"sk-toggleable__label sk-toggleable__label-arrow\">LogisticRegression</label><div class=\"sk-toggleable__content\"><pre>LogisticRegression()</pre></div></div></div></div></div>"
            ]
          },
          "metadata": {},
          "execution_count": 108
        }
      ]
    },
    {
      "cell_type": "markdown",
      "metadata": {
        "id": "kvhA_f2FtDeU"
      },
      "source": [
        "Evaluate the model."
      ]
    },
    {
      "cell_type": "code",
      "metadata": {
        "id": "PhqBSmAfYg6I",
        "outputId": "af8fd22c-b2ba-47dc-a4c1-b6b1d46849b8",
        "colab": {
          "base_uri": "https://localhost:8080/"
        }
      },
      "source": [
        "score_train = classifier.score(X_train, y_train)\n",
        "score_test = classifier.score(X_test, y_test)\n",
        "print('Train accuracy: {:.2f}%'.format(score_train*100))\n",
        "print('Test accuracy: {:.2f}%'.format(score_test*100))"
      ],
      "execution_count": 109,
      "outputs": [
        {
          "output_type": "stream",
          "name": "stdout",
          "text": [
            "Train accuracy: 98.43%\n",
            "Test accuracy: 81.00%\n"
          ]
        }
      ]
    },
    {
      "cell_type": "markdown",
      "metadata": {
        "id": "geKjAtjGtJ6g"
      },
      "source": [
        "What can you say about bias and variance of this model?  \n",
        "- Low bias and high variance"
      ]
    },
    {
      "cell_type": "markdown",
      "metadata": {
        "id": "Gq_TLlEUKQeC"
      },
      "source": [
        "Try few examples"
      ]
    },
    {
      "cell_type": "code",
      "metadata": {
        "id": "riamqEZjGhrj",
        "colab": {
          "base_uri": "https://localhost:8080/"
        },
        "outputId": "2cb43dff-607a-4cba-a37e-91b78e1f515d"
      },
      "source": [
        "testing = \"happy customer\"\n",
        "vector_representation = bow.transform([testing])\n",
        "prediction = classifier.predict(vector_representation)[0]\n",
        "\n",
        "if prediction == 1:\n",
        "   print(\"Positive Review\")\n",
        "else:\n",
        "   print(\"Negative Review\")"
      ],
      "execution_count": 110,
      "outputs": [
        {
          "output_type": "stream",
          "name": "stdout",
          "text": [
            "Positive Review\n"
          ]
        }
      ]
    },
    {
      "cell_type": "markdown",
      "metadata": {
        "id": "shvn4nHzhIRr"
      },
      "source": [
        "## Exercise\n",
        "\n",
        "You may conduct similar classification exercises for yelp and imdb datasets."
      ]
    }
  ]
}