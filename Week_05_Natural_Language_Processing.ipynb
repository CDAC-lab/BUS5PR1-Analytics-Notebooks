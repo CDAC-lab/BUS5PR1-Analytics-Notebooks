{
  "nbformat": 4,
  "nbformat_minor": 0,
  "metadata": {
    "colab": {
      "name": "Week 05 Natural Language Processing.ipynb",
      "provenance": [],
      "collapsed_sections": [],
      "toc_visible": true
    },
    "kernelspec": {
      "name": "python3",
      "display_name": "Python 3"
    }
  },
  "cells": [
    {
      "cell_type": "markdown",
      "metadata": {
        "id": "L8opw2UZFaQv",
        "colab_type": "text"
      },
      "source": [
        "# Natural Language Processing with Python\n",
        "\n",
        "In this workshop we will use the [Sentiment Labelled Sentences Data Set](https://archive.ics.uci.edu/ml/datasets/Sentiment+Labelled+Sentences)  that contains 500 positive and 500 negative sentences from imdb.com, amazon.com and yelp.com.  \n",
        "\n",
        "* First, we will explore preliminary text analytics and text pre-processing .  \n",
        "* Second, we will evaluate different feature extraction mechanisms for text.  \n",
        "* Third, we will evaluate a simple text classification for Amazon review dataset, and an advanced deep neural network for classification accuracy improvement.\n"
      ]
    },
    {
      "cell_type": "markdown",
      "metadata": {
        "id": "4_z-LSYHJVxx",
        "colab_type": "text"
      },
      "source": [
        "## Load the data\n",
        "\n",
        "Load the reviews.csv file downloaded from LMS to the Google Colab file repository."
      ]
    },
    {
      "cell_type": "code",
      "metadata": {
        "id": "4XCT8rJKJv0j",
        "colab_type": "code",
        "colab": {}
      },
      "source": [
        "import pandas as pd"
      ],
      "execution_count": 0,
      "outputs": []
    },
    {
      "cell_type": "code",
      "metadata": {
        "id": "MWP9fyKaNRkN",
        "colab_type": "code",
        "colab": {}
      },
      "source": [
        "# Dataset reveiws.csv MUST be uploaded to Google Colab before executing this line\n",
        "df = pd.read_csv('tp6_reviews.csv')"
      ],
      "execution_count": 0,
      "outputs": []
    },
    {
      "cell_type": "markdown",
      "metadata": {
        "id": "KblPiHu6ZfT1",
        "colab_type": "text"
      },
      "source": [
        "View a summary of the dataset."
      ]
    },
    {
      "cell_type": "code",
      "metadata": {
        "id": "qlFws42RNS3Q",
        "colab_type": "code",
        "colab": {}
      },
      "source": [
        "df.info()"
      ],
      "execution_count": 0,
      "outputs": []
    },
    {
      "cell_type": "code",
      "metadata": {
        "id": "uroM_ht8N9Xt",
        "colab_type": "code",
        "colab": {}
      },
      "source": [
        "df.head()"
      ],
      "execution_count": 0,
      "outputs": []
    },
    {
      "cell_type": "markdown",
      "metadata": {
        "id": "3FlpqeMJ4dyW",
        "colab_type": "text"
      },
      "source": [
        "Check what are the sources of data available in the dataset."
      ]
    },
    {
      "cell_type": "code",
      "metadata": {
        "id": "sqjbA0GZ4Zlc",
        "colab_type": "code",
        "colab": {}
      },
      "source": [
        "df['source'].unique()"
      ],
      "execution_count": 0,
      "outputs": []
    },
    {
      "cell_type": "markdown",
      "metadata": {
        "id": "kFPeBYVw3gDz",
        "colab_type": "text"
      },
      "source": [
        "## Preliminary analysis"
      ]
    },
    {
      "cell_type": "markdown",
      "metadata": {
        "id": "O3xamOU23qJ0",
        "colab_type": "text"
      },
      "source": [
        "***Pandas dataframe's df.apply() function***  \n",
        "* This allow the users to pass a function and apply it on every single value of the Pandas series, i.e., column. [API documentation.](https://pandas.pydata.org/pandas-docs/stable/reference/api/pandas.DataFrame.apply.html)\n",
        "*  Efficient way to update values in a dataframe column\n",
        "\n",
        "In the following example, \n",
        "\n",
        "\n",
        "*   Count the number of words in each sentence\n",
        "*   Assign the word count to a new attribute  named 'word_count'\n",
        "\n"
      ]
    },
    {
      "cell_type": "code",
      "metadata": {
        "id": "fEYoC-bJ6Uj5",
        "colab_type": "code",
        "colab": {}
      },
      "source": [
        "def word_counter(document):\n",
        "  split_word = str(document).split(\" \") # split by white space\n",
        "  word_count = len(split_word) # count the words\n",
        "  return word_count\n",
        "\n",
        "df['word_count_function'] = df['sentence'].apply(word_counter)"
      ],
      "execution_count": 0,
      "outputs": []
    },
    {
      "cell_type": "code",
      "metadata": {
        "id": "cIyW2QaG6pbS",
        "colab_type": "code",
        "colab": {}
      },
      "source": [
        "df.head(5)"
      ],
      "execution_count": 0,
      "outputs": []
    },
    {
      "cell_type": "markdown",
      "metadata": {
        "id": "ZNKXacvx60GL",
        "colab_type": "text"
      },
      "source": [
        "Same above function can be achieved through a simple lambda function."
      ]
    },
    {
      "cell_type": "code",
      "metadata": {
        "id": "6767ZK4ZOAhd",
        "colab_type": "code",
        "colab": {}
      },
      "source": [
        "df['word_count'] = df['sentence'].apply(lambda x: len(str(x).split(\" \")))\n",
        "df.head(5)"
      ],
      "execution_count": 0,
      "outputs": []
    },
    {
      "cell_type": "markdown",
      "metadata": {
        "id": "5RYDf5StaS5s",
        "colab_type": "text"
      },
      "source": [
        "Similarly, count the number of characters of each sentence"
      ]
    },
    {
      "cell_type": "code",
      "metadata": {
        "id": "PrT9GLxt5RgZ",
        "colab_type": "code",
        "colab": {}
      },
      "source": [
        "df['char_count'] = df['sentence'].str.len()  # Includes the spaces\n",
        "df.head(5)"
      ],
      "execution_count": 0,
      "outputs": []
    },
    {
      "cell_type": "markdown",
      "metadata": {
        "id": "LmygJjvfabcd",
        "colab_type": "text"
      },
      "source": [
        "Calculate the average word length for each sentence.\n",
        "\n",
        "*   First, construct a method (avg_word()) which takes a sentence, split the sentence to words, then calculate the average word length.\n",
        "*   Using pandas dataframe apply() function and avg_word() method, calculate the average word length\n",
        "*  Assign the value to new column names 'avg_word'\n",
        "\n"
      ]
    },
    {
      "cell_type": "code",
      "metadata": {
        "id": "Z-FyuyvnbMS3",
        "colab_type": "code",
        "colab": {}
      },
      "source": [
        "def avg_word(sentence):\n",
        "  words = sentence.split() # split the sentence into words\n",
        "  avg_of_words = (sum(len(word) for word in words)/len(words))\n",
        "  return avg_of_words\n",
        "\n",
        "df['avg_word'] = df['sentence'].apply(avg_word)\n",
        "df.head(5)"
      ],
      "execution_count": 0,
      "outputs": []
    },
    {
      "cell_type": "markdown",
      "metadata": {
        "id": "c7NajYVd8t-r",
        "colab_type": "text"
      },
      "source": [
        "## Text pre-processing\n",
        "\n",
        "Pre-processing is mandatory for most text analytics tasks, as text in its raw format is unstructured and noisy. \n",
        "\n",
        "In the following snippets you will run several pre-processing steps.  \n",
        "\n",
        "**Please note that pre-processing is to be used with clear understanding of the expected outcome of text analytics, as each pre-processing step is not relevant or applicable to every NLP task.**"
      ]
    },
    {
      "cell_type": "markdown",
      "metadata": {
        "id": "mZ56xCM0dxLy",
        "colab_type": "text"
      },
      "source": [
        "Uppercase and lowercase characters are used for clarity in human communication. However, for a machine such distinction would create unnecessary complexities. Therefore, we transform all characters to lowercase."
      ]
    },
    {
      "cell_type": "code",
      "metadata": {
        "id": "gowXmkYk50h_",
        "colab_type": "code",
        "colab": {}
      },
      "source": [
        "df['sentence'] = df['sentence'].str.lower()\n",
        "df.head()"
      ],
      "execution_count": 0,
      "outputs": []
    },
    {
      "cell_type": "markdown",
      "metadata": {
        "id": "iXvngUDDelRX",
        "colab_type": "text"
      },
      "source": [
        "Same with punctuation marks, we remove all using [regular expressions](https://www.w3schools.com/python/python_regex.asp) .  \n",
        "**Regular Expressions** - A regular expression is a special sequence of characters that helps you match or find other strings or sets of strings. "
      ]
    },
    {
      "cell_type": "code",
      "metadata": {
        "id": "WHsiGbbY9Hqg",
        "colab_type": "code",
        "colab": {}
      },
      "source": [
        "# This regular expression only keeps words and characters\n",
        "df['sentence'] = df['sentence'].str.replace('[^\\w\\s]','')\n",
        "df.head()"
      ],
      "execution_count": 0,
      "outputs": []
    },
    {
      "cell_type": "markdown",
      "metadata": {
        "id": "YbhTrjC6lD1D",
        "colab_type": "text"
      },
      "source": [
        "### Remove digits"
      ]
    },
    {
      "cell_type": "markdown",
      "metadata": {
        "id": "k-PafqgZe7x7",
        "colab_type": "text"
      },
      "source": [
        "For a sentiment analytics task, numbers or digits are not needed. Thus, we remove digits from the text dataset. \n",
        "\n",
        "However, for other tasks, numbers may be needed. "
      ]
    },
    {
      "cell_type": "code",
      "metadata": {
        "id": "RKRv9btDlLNz",
        "colab_type": "code",
        "colab": {}
      },
      "source": [
        "def remove_digits(sent):\n",
        "  return \" \".join(w for w in sent.split() if not w.isdigit())\n",
        "\n",
        "df['sentence'] = df['sentence'].apply(remove_digits)\n",
        "df.head()"
      ],
      "execution_count": 0,
      "outputs": []
    },
    {
      "cell_type": "markdown",
      "metadata": {
        "id": "f_xppk798hrz",
        "colab_type": "text"
      },
      "source": [
        "Demonstrate of the remove digit function"
      ]
    },
    {
      "cell_type": "code",
      "metadata": {
        "id": "ntqhwksm8T9M",
        "colab_type": "code",
        "colab": {}
      },
      "source": [
        "sample_text = 'Covid 19 is spreading fast'\n",
        "print(remove_digits(sample_text))"
      ],
      "execution_count": 0,
      "outputs": []
    },
    {
      "cell_type": "markdown",
      "metadata": {
        "id": "GlxTKunt8lyT",
        "colab_type": "text"
      },
      "source": [
        "What does \"\".join() means?"
      ]
    },
    {
      "cell_type": "code",
      "metadata": {
        "id": "f2kfwcVk8oyi",
        "colab_type": "code",
        "colab": {}
      },
      "source": [
        "word_list = [\"Covid\", \"is\", \"spreading\", \"fast\"]\n",
        "sentence = \"     \".join(word_list)\n",
        "print(sentence)"
      ],
      "execution_count": 0,
      "outputs": []
    },
    {
      "cell_type": "markdown",
      "metadata": {
        "id": "uwh1imSm-BC3",
        "colab_type": "text"
      },
      "source": [
        "### Remove Stopwords\n",
        "\n",
        "[Stopwords](https://en.wikipedia.org/wiki/Stop_words) are deemed irrelevant for NLP purposes because they occur frequently in the language. Therefore, we will omit the stopwords as a pre-processing step. For this, we will use [NLTK](https://www.nltk.org/) library here.\n",
        "\n",
        "**NLTK, is a suite of libraries and programs for symbolic and statistical natural language processing (NLP) specifically for the English language written in  Python.**"
      ]
    },
    {
      "cell_type": "code",
      "metadata": {
        "id": "u1J6fC9491k7",
        "colab_type": "code",
        "colab": {}
      },
      "source": [
        "# Load NLTK library\n",
        "import nltk\n",
        "\n",
        "# Download the stopwords to the nltk library\n",
        "nltk.download('stopwords')\n",
        "\n",
        "# Load the stopwords\n",
        "from nltk.corpus import stopwords"
      ],
      "execution_count": 0,
      "outputs": []
    },
    {
      "cell_type": "markdown",
      "metadata": {
        "id": "ecLfjQgmgYpk",
        "colab_type": "text"
      },
      "source": [
        "Have a look at the stopwords indexed in the NLTK library."
      ]
    },
    {
      "cell_type": "code",
      "metadata": {
        "id": "BkpvQNV5-N2g",
        "colab_type": "code",
        "colab": {}
      },
      "source": [
        "stop = stopwords.words('english')\n",
        "print(stop)"
      ],
      "execution_count": 0,
      "outputs": []
    },
    {
      "cell_type": "markdown",
      "metadata": {
        "id": "H73Xr48-cHAS",
        "colab_type": "text"
      },
      "source": [
        "Remove unwanted stop words from the NLTK stop word list."
      ]
    },
    {
      "cell_type": "code",
      "metadata": {
        "id": "rPVzEQ_8O0UR",
        "colab_type": "code",
        "colab": {}
      },
      "source": [
        "stop.remove('not')"
      ],
      "execution_count": 0,
      "outputs": []
    },
    {
      "cell_type": "code",
      "metadata": {
        "id": "fO8HTTOXPYyy",
        "colab_type": "code",
        "colab": {}
      },
      "source": [
        "all_words_i_want = ['had', \"has\"]\n",
        "for w in all_words_i_want:\n",
        "  stop.remove(w)"
      ],
      "execution_count": 0,
      "outputs": []
    },
    {
      "cell_type": "markdown",
      "metadata": {
        "id": "zPugCcb3gzMj",
        "colab_type": "text"
      },
      "source": [
        "Remove stopwords from the sentences."
      ]
    },
    {
      "cell_type": "code",
      "metadata": {
        "id": "S_HwAnis-Ut1",
        "colab_type": "code",
        "colab": {}
      },
      "source": [
        "df['sentence'] = df['sentence'].apply(lambda x: \" \".join(x for x in x.split() if x not in stop))\n",
        "df.head(5)"
      ],
      "execution_count": 0,
      "outputs": []
    },
    {
      "cell_type": "markdown",
      "metadata": {
        "id": "XUol6pfo_MEL",
        "colab_type": "text"
      },
      "source": [
        "### Common and rare word analysis\n",
        "\n",
        "Aside from stopwords, some words appear rarely (only once or twice) in an entire body of text. \n",
        "Based on the analytics requirement, you can decide whether to keep or remove, and at what intensity/scale to remove."
      ]
    },
    {
      "cell_type": "markdown",
      "metadata": {
        "id": "6iyA7bBDg_hB",
        "colab_type": "text"
      },
      "source": [
        "In order to do this, first we have to construct a word frequency dictionary."
      ]
    },
    {
      "cell_type": "code",
      "metadata": {
        "id": "XHCEJC3V-wG0",
        "colab_type": "code",
        "colab": {}
      },
      "source": [
        "word_frequency = pd.Series(' '.join(df['sentence']).split()).value_counts()"
      ],
      "execution_count": 0,
      "outputs": []
    },
    {
      "cell_type": "markdown",
      "metadata": {
        "id": "3Tsu7TJOhGGK",
        "colab_type": "text"
      },
      "source": [
        "List the top 10 common words."
      ]
    },
    {
      "cell_type": "code",
      "metadata": {
        "id": "QP6ids9d_ldS",
        "colab_type": "code",
        "colab": {}
      },
      "source": [
        "# Top common words\n",
        "word_frequency[:10]  # get top 10"
      ],
      "execution_count": 0,
      "outputs": []
    },
    {
      "cell_type": "markdown",
      "metadata": {
        "id": "rEIsBYCGhLlY",
        "colab_type": "text"
      },
      "source": [
        "List the top 10 rare words."
      ]
    },
    {
      "cell_type": "code",
      "metadata": {
        "id": "nvUQt5hRAM13",
        "colab_type": "code",
        "colab": {}
      },
      "source": [
        "# least common words\n",
        "word_frequency[-10:]  # get top 10"
      ],
      "execution_count": 0,
      "outputs": []
    },
    {
      "cell_type": "markdown",
      "metadata": {
        "id": "l7hd1zK8AXSl",
        "colab_type": "text"
      },
      "source": [
        "### Spelling correction\n",
        "\n",
        "To correct misspelt words, we will use [textblob library](https://textblob.readthedocs.io/en/dev/) library. Keep in mind that corrections are always bound by the dictionary that you would use, and it may not account for context (their vs there).\n",
        "\n",
        "Due to the time complexity of spell-checking an entire corpus, in this exercise, we will use spell-check for just one example. "
      ]
    },
    {
      "cell_type": "code",
      "metadata": {
        "id": "iH_MOO58iity",
        "colab_type": "code",
        "colab": {}
      },
      "source": [
        "from textblob import TextBlob"
      ],
      "execution_count": 0,
      "outputs": []
    },
    {
      "cell_type": "code",
      "metadata": {
        "id": "jf9rFrJpARWH",
        "colab_type": "code",
        "colab": {}
      },
      "source": [
        "# Do not run this line of code.\n",
        "# Following line of code will correct spellings of all the sentences in the dataset.\n",
        "# df['sentence'] = df['sentence'].apply(lambda x: str(TextBlob(x).correct()))   # This will take a long time. Thus, we will show an seperate example"
      ],
      "execution_count": 0,
      "outputs": []
    },
    {
      "cell_type": "markdown",
      "metadata": {
        "id": "A6ERDidUivTx",
        "colab_type": "text"
      },
      "source": [
        "Spelling correction example"
      ]
    },
    {
      "cell_type": "code",
      "metadata": {
        "id": "J2U3yRK5QqkA",
        "colab_type": "code",
        "colab": {}
      },
      "source": [
        "def correct_word(word):\n",
        "  return str(TextBlob(word).correct())\n",
        "\n",
        "print(correct_word('bisness'))"
      ],
      "execution_count": 0,
      "outputs": []
    },
    {
      "cell_type": "code",
      "metadata": {
        "id": "k6D1dM55A_5l",
        "colab_type": "code",
        "colab": {}
      },
      "source": [
        "incorrect_text = 'bisness anlytis is an itant skil seit for any organizaton'\n",
        "\n",
        "func = lambda x: str(TextBlob(x).correct())\n",
        "print(incorrect_text)\n",
        "print(str(TextBlob(incorrect_text).correct()))"
      ],
      "execution_count": 0,
      "outputs": []
    },
    {
      "cell_type": "markdown",
      "metadata": {
        "id": "5F_w641sCItw",
        "colab_type": "text"
      },
      "source": [
        "### Stemming\n",
        "\n",
        "[Stemming](https://en.wikipedia.org/wiki/Stemming) is the removal of prefix, suffix etc, to derive the base form of a word. We will use the NLTK library."
      ]
    },
    {
      "cell_type": "code",
      "metadata": {
        "id": "3MxoI8j4Bf93",
        "colab_type": "code",
        "colab": {}
      },
      "source": [
        "from nltk.stem import PorterStemmer\n",
        "\n",
        "stemmer = PorterStemmer()\n",
        "\n",
        "def stemming_function(sent):\n",
        "  word_list = sent.split()\n",
        "  stemmed_word_list = [stemmer.stem(word) for word in word_list]\n",
        "  stemmed_sentence = \" \".join(stemmed_word_list)\n",
        "  return stemmed_sentence\n",
        "\n",
        "df['sentence_stemmed'] = df['sentence'].apply(stemming_function)\n",
        "\n",
        "df.head()"
      ],
      "execution_count": 0,
      "outputs": []
    },
    {
      "cell_type": "markdown",
      "metadata": {
        "id": "PuZ8AVKvDKQG",
        "colab_type": "text"
      },
      "source": [
        "### Lemmatization\n",
        "\n",
        "[Lemmatization](https://nlp.stanford.edu/IR-book/html/htmledition/stemming-and-lemmatization-1.html), unlike Stemming, reduces the inflected words properly ensuring that the root word belongs to the language. In Lemmatization root word is called lemma. A lemma (plural lemmas or lemmata) is the canonical form, dictionary form, or citation form of a set of words.  \n",
        "  \n",
        "We will use  Wordnet for the lemmatization. Thus, we need to download Wordnet to the nltk library.\n",
        "\n",
        "WordNet is a lexical database for the English language. It groups English words into sets of synonyms called synsets, provides short definitions and usage\n"
      ]
    },
    {
      "cell_type": "code",
      "metadata": {
        "id": "v8qJOjLwDhzB",
        "colab_type": "code",
        "colab": {}
      },
      "source": [
        "# Download wordnet\n",
        "nltk.download('wordnet')"
      ],
      "execution_count": 0,
      "outputs": []
    },
    {
      "cell_type": "code",
      "metadata": {
        "id": "qjCuPX1zjrWD",
        "colab_type": "code",
        "colab": {}
      },
      "source": [
        "from nltk.stem import WordNetLemmatizer\n",
        "\n",
        "lemmtizer = WordNetLemmatizer()"
      ],
      "execution_count": 0,
      "outputs": []
    },
    {
      "cell_type": "code",
      "metadata": {
        "id": "bRdYHVNQCiB9",
        "colab_type": "code",
        "colab": {}
      },
      "source": [
        "def lemmatize_function(sent):\n",
        "  word_list = sent.split()\n",
        "  lemma_word_list = [lemmtizer.lemmatize(word) for word in word_list]\n",
        "  lemma_sentence = \" \".join(lemma_word_list)\n",
        "  return lemma_sentence\n",
        "\n",
        "df['sentence_lemmatized'] = df['sentence'].apply(lemmatize_function)"
      ],
      "execution_count": 0,
      "outputs": []
    },
    {
      "cell_type": "markdown",
      "metadata": {
        "id": "TKCDAK0PkCeW",
        "colab_type": "text"
      },
      "source": [
        "Display original pre-processed sentence, stemmed sentence and lemmatized sentence."
      ]
    },
    {
      "cell_type": "code",
      "metadata": {
        "id": "XbfKn2OnkDgl",
        "colab_type": "code",
        "colab": {}
      },
      "source": [
        "df[['sentence', 'sentence_stemmed', 'sentence_lemmatized']].head(10)"
      ],
      "execution_count": 0,
      "outputs": []
    },
    {
      "cell_type": "markdown",
      "metadata": {
        "id": "e6RTwgzzwsJg",
        "colab_type": "text"
      },
      "source": [
        "Stemmed algorithm seems to be working better in this case when compared to the lemmatization. It is recommended to observe the results after pre-processing tasks to understand the performance of the third party libraries we are using in pre-processing."
      ]
    },
    {
      "cell_type": "markdown",
      "metadata": {
        "id": "ILB7exVHEY1y",
        "colab_type": "text"
      },
      "source": [
        "## Text Feature Extraction\n",
        "\n",
        "In a numeric dataset (e.g., house price dataset, titanic survival dataset, dungaree dataset), we had numeric and categorical variables, which we transformed to numeric values for predictive analytics. Those numeric variables are called numeric features in the datasets. Similarly, for NLP, we need to derive features from text data in numerical format because machines can only understand numeric representations."
      ]
    },
    {
      "cell_type": "markdown",
      "metadata": {
        "id": "7FlXXX-cfHZa",
        "colab_type": "text"
      },
      "source": [
        "### N-Grams\n",
        "\n",
        "An [n-gram](https://en.wikipedia.org/wiki/N-gram) is a contiguous sequence of n items from a given sample of text or speech. They are basically a set of co-occuring words within a given window. When computing the n-grams, the shift is one-step forward (although you can move X words forward in more advanced scenarios). For example, for the sentence \"The cow jumps over the moon\". If N=2 (known as bigrams), then the ngrams would be:\n",
        "* the cow\n",
        "* cow jumps\n",
        "* jumps over\n",
        "* over the\n",
        "* the moon\n",
        " \n",
        "We will use NLTK ngrams and word_tokenizer libraries for n-gram feature extraction.\n",
        "\n",
        "Note: Need to download punkt resource for nltk for work tokenization"
      ]
    },
    {
      "cell_type": "code",
      "metadata": {
        "id": "inAc6aR2lwEg",
        "colab_type": "code",
        "colab": {}
      },
      "source": [
        "from nltk.tokenize import word_tokenize\n",
        "from nltk.util import ngrams\n",
        "\n",
        "nltk.download('punkt')"
      ],
      "execution_count": 0,
      "outputs": []
    },
    {
      "cell_type": "markdown",
      "metadata": {
        "id": "WJYeiIrClzp7",
        "colab_type": "text"
      },
      "source": [
        "First we define the value for *n*, in n-gram representation."
      ]
    },
    {
      "cell_type": "code",
      "metadata": {
        "id": "wb18qzswl-Bq",
        "colab_type": "code",
        "colab": {}
      },
      "source": [
        "n = 3"
      ],
      "execution_count": 0,
      "outputs": []
    },
    {
      "cell_type": "markdown",
      "metadata": {
        "id": "jX6iMftbmDPO",
        "colab_type": "text"
      },
      "source": [
        "Following n_grams() method will take a sentence and construct a list of n-grams."
      ]
    },
    {
      "cell_type": "code",
      "metadata": {
        "id": "LKPsz4T_l_ZU",
        "colab_type": "code",
        "colab": {}
      },
      "source": [
        "def n_grams(text):\n",
        "  n_grams = ngrams(word_tokenize(text), n)\n",
        "  return [' '.join(grams) for grams in n_grams]"
      ],
      "execution_count": 0,
      "outputs": []
    },
    {
      "cell_type": "code",
      "metadata": {
        "id": "8zQdw-4pS8ws",
        "colab_type": "code",
        "colab": {}
      },
      "source": [
        "txt = \"you want to exclude some stop word being getting ignored\"\n",
        "print(n_grams(txt))"
      ],
      "execution_count": 0,
      "outputs": []
    },
    {
      "cell_type": "markdown",
      "metadata": {
        "id": "n2EEAEptmPrn",
        "colab_type": "text"
      },
      "source": [
        "Derive n-grams (n=3) for our dataset."
      ]
    },
    {
      "cell_type": "code",
      "metadata": {
        "id": "qj2gxPH7DY84",
        "colab_type": "code",
        "colab": {}
      },
      "source": [
        "df['3_grams'] = df['sentence'].apply(lambda x: n_grams(x))"
      ],
      "execution_count": 0,
      "outputs": []
    },
    {
      "cell_type": "markdown",
      "metadata": {
        "id": "9XniThjwmV-r",
        "colab_type": "text"
      },
      "source": [
        "Display original sentence and n-grams."
      ]
    },
    {
      "cell_type": "code",
      "metadata": {
        "id": "ZQUU-YcdmNTD",
        "colab_type": "code",
        "colab": {}
      },
      "source": [
        "df[['sentence', '3_grams']].head(20)"
      ],
      "execution_count": 0,
      "outputs": []
    },
    {
      "cell_type": "markdown",
      "metadata": {
        "id": "7RJBlyLjh0Zq",
        "colab_type": "text"
      },
      "source": [
        "Based on above results (e.g., record 16) you can see that if there are only 2 words, the 3-grams would result no n-grams.  \n",
        "Thus, you may try to derive n-grams with *n=2*."
      ]
    },
    {
      "cell_type": "markdown",
      "metadata": {
        "id": "xhlvf58tqq3C",
        "colab_type": "text"
      },
      "source": [
        "### Bag of words\n",
        "\n",
        "[Bag of words](https://machinelearningmastery.com/gentle-introduction-bag-words-model/) is a simple text feature extraction mechanism.   \n",
        "A bag-of-words is a representation of text that describes the occurrence of words within a document. It involves two things:\n",
        "* A vocabulary of known words.  \n",
        "* A measure of the presence of known words.  \n",
        "\n",
        "We will use [CountVectorizer library](https://scikit-learn.org/stable/modules/generated/sklearn.feature_extraction.text.CountVectorizer.html) on sklearn for bag-of-words model creation."
      ]
    },
    {
      "cell_type": "code",
      "metadata": {
        "id": "vDsvQka_oJGI",
        "colab_type": "code",
        "colab": {}
      },
      "source": [
        "from sklearn.feature_extraction.text import CountVectorizer"
      ],
      "execution_count": 0,
      "outputs": []
    },
    {
      "cell_type": "markdown",
      "metadata": {
        "id": "qBazktNpoPpH",
        "colab_type": "text"
      },
      "source": [
        "You may refer to [CountVectorizer](https://scikit-learn.org/stable/modules/generated/sklearn.feature_extraction.text.CountVectorizer.html) API for detailed description about the parameters."
      ]
    },
    {
      "cell_type": "code",
      "metadata": {
        "id": "HKuTRNfYmqV0",
        "colab_type": "code",
        "colab": {}
      },
      "source": [
        "bow = CountVectorizer(max_features=1000, lowercase=True, ngram_range=(1,1), analyzer = \"word\")"
      ],
      "execution_count": 0,
      "outputs": []
    },
    {
      "cell_type": "markdown",
      "metadata": {
        "id": "frDRiREJokx8",
        "colab_type": "text"
      },
      "source": [
        "Transform lemmatized senteces into bag-of-words model."
      ]
    },
    {
      "cell_type": "markdown",
      "metadata": {
        "id": "m8_sv_6eeZEJ",
        "colab_type": "text"
      },
      "source": [
        ""
      ]
    },
    {
      "cell_type": "code",
      "metadata": {
        "id": "q1NwVXryrEj2",
        "colab_type": "code",
        "colab": {}
      },
      "source": [
        "X_bow = bow.fit_transform(df['sentence_stemmed'])"
      ],
      "execution_count": 0,
      "outputs": []
    },
    {
      "cell_type": "markdown",
      "metadata": {
        "id": "VLyqMA4CoxhA",
        "colab_type": "text"
      },
      "source": [
        "The X_bow would result in a term-document matrix.  \n",
        "e.g., Output format:  (sentence_id, vocabulary_dictionary_id) count\n",
        "* sentence_id - sentence id in the dataframe\n",
        "* vocabulary_dictionary_id - id of the particular word in the bag of words model dictionary\n",
        "* count - count of words"
      ]
    },
    {
      "cell_type": "code",
      "metadata": {
        "id": "ZTedh3MhT6MT",
        "colab_type": "code",
        "colab": {}
      },
      "source": [
        "df['sentence_stemmed'].head()"
      ],
      "execution_count": 0,
      "outputs": []
    },
    {
      "cell_type": "code",
      "metadata": {
        "id": "imw2JQaYrM73",
        "colab_type": "code",
        "colab": {}
      },
      "source": [
        "print(X_bow)"
      ],
      "execution_count": 0,
      "outputs": []
    },
    {
      "cell_type": "markdown",
      "metadata": {
        "id": "d4Fxf1C1iPN3",
        "colab_type": "text"
      },
      "source": [
        "### Term Frequency - Inverse Document Frequecy (TF-IDF)\n",
        "\n",
        "[Term frequency–inverse document frequency](https://www.kdnuggets.com/2018/08/wtf-tf-idf.html), is a numerical statistic that is intended to reflect how important a word is to a document in a collection. The tf–idf value increases proportionally to the number of times a word appears in the document and is offset by the number of documents in the corpus that contain the word, which helps to adjust for the fact that some words appear more frequently in general.\n",
        "\n",
        "We will use [feature extraction module](https://scikit-learn.org/stable/modules/generated/sklearn.feature_extraction.text.TfidfVectorizer.html) of the sklearn library for this."
      ]
    },
    {
      "cell_type": "code",
      "metadata": {
        "id": "YFR61d5ehktG",
        "colab_type": "code",
        "colab": {}
      },
      "source": [
        "from sklearn.feature_extraction.text import TfidfVectorizer\n",
        "\n",
        "vectorizer = TfidfVectorizer()"
      ],
      "execution_count": 0,
      "outputs": []
    },
    {
      "cell_type": "markdown",
      "metadata": {
        "id": "UzNi0OmbqSs7",
        "colab_type": "text"
      },
      "source": [
        "Construct TF-IDF using the lemmatized senteces."
      ]
    },
    {
      "cell_type": "code",
      "metadata": {
        "id": "leDbV3eVjLUK",
        "colab_type": "code",
        "colab": {}
      },
      "source": [
        "tf_idf = vectorizer.fit_transform(df['sentence_stemmed'])  # as the text data, we will use lemmatized sentences"
      ],
      "execution_count": 0,
      "outputs": []
    },
    {
      "cell_type": "markdown",
      "metadata": {
        "id": "_kX79IoAqbdb",
        "colab_type": "text"
      },
      "source": [
        "Display the list of all the words."
      ]
    },
    {
      "cell_type": "code",
      "metadata": {
        "id": "XzBSDPTKktzH",
        "colab_type": "code",
        "colab": {}
      },
      "source": [
        "print(vectorizer.get_feature_names())"
      ],
      "execution_count": 0,
      "outputs": []
    },
    {
      "cell_type": "markdown",
      "metadata": {
        "id": "_8oekEhSlt4r",
        "colab_type": "text"
      },
      "source": [
        "Here you see there are quite many text that includes a number (digit).  \n",
        "In one of the pre-processing steps, we removed all the words/text that are only digits, but not combined.  \n",
        "You might want to remove these as well...  "
      ]
    },
    {
      "cell_type": "markdown",
      "metadata": {
        "id": "LSgn4DPGqtEz",
        "colab_type": "text"
      },
      "source": [
        "A comparison of TF-IDF values with respect to lemmatized sentences."
      ]
    },
    {
      "cell_type": "code",
      "metadata": {
        "id": "_vUTSbDdk0wL",
        "colab_type": "code",
        "colab": {}
      },
      "source": [
        "print(df['sentence_lemmatized'].head())"
      ],
      "execution_count": 0,
      "outputs": []
    },
    {
      "cell_type": "code",
      "metadata": {
        "id": "fb7xxL-LlIul",
        "colab_type": "code",
        "colab": {}
      },
      "source": [
        "print(tf_idf[:5])"
      ],
      "execution_count": 0,
      "outputs": []
    },
    {
      "cell_type": "markdown",
      "metadata": {
        "id": "3kE8A2SBmxdf",
        "colab_type": "text"
      },
      "source": [
        "In the feature vector row (e.g., (0, 4843)), the first digit refers to the sentence row (i.e., first datarow).  \n",
        "The second digit is the index of alphebitically ordered word list."
      ]
    },
    {
      "cell_type": "markdown",
      "metadata": {
        "id": "0eNVD0_wGYoP",
        "colab_type": "text"
      },
      "source": [
        "### Sentiment Analysis\n",
        "\n",
        "Sentiment analysis is basically the process of determining the attitude or the emotion of the writer, i.e., whether it is positive or negative or neutral.\n",
        "\n",
        "We will use the Textblob library. The sentiment function of textblob returns the polarity of the sentence, i.e., a float value which lies in the range of [-1,1] where 1 means positive statement and -1 means a negative statement."
      ]
    },
    {
      "cell_type": "code",
      "metadata": {
        "id": "p7Y1RR38HFs3",
        "colab_type": "code",
        "colab": {}
      },
      "source": [
        "from textblob import TextBlob"
      ],
      "execution_count": 0,
      "outputs": []
    },
    {
      "cell_type": "code",
      "metadata": {
        "id": "MPElhKYqU2-r",
        "colab_type": "code",
        "colab": {}
      },
      "source": [
        "doc1 = \"wow\"\n",
        "TextBlob(doc1).sentiment.polarity"
      ],
      "execution_count": 0,
      "outputs": []
    },
    {
      "cell_type": "markdown",
      "metadata": {
        "id": "QTyI82q-rRZM",
        "colab_type": "text"
      },
      "source": [
        "Derive sentiment of each sentence."
      ]
    },
    {
      "cell_type": "code",
      "metadata": {
        "id": "MB_i-p0QG8WT",
        "colab_type": "code",
        "colab": {}
      },
      "source": [
        "df['sentiment'] = df['sentence_lemmatized'].apply(lambda x: TextBlob(x).sentiment.polarity)"
      ],
      "execution_count": 0,
      "outputs": []
    },
    {
      "cell_type": "markdown",
      "metadata": {
        "id": "QxndvXWrrbdK",
        "colab_type": "text"
      },
      "source": [
        "Display original sentece with respect to its sentiment."
      ]
    },
    {
      "cell_type": "code",
      "metadata": {
        "id": "EBZ-FeKdG8c2",
        "colab_type": "code",
        "colab": {}
      },
      "source": [
        "print(df[['sentence_lemmatized', 'sentiment']][:40])"
      ],
      "execution_count": 0,
      "outputs": []
    },
    {
      "cell_type": "markdown",
      "metadata": {
        "id": "acrCV8JVVjdx",
        "colab_type": "text"
      },
      "source": [
        "## Text Classification\n",
        "\n",
        "We will explore few text classification approaches to classify the review data as either positive (1) or negative (0).  \n",
        "Here we will only use the amazon reviews (1000 reviews) for the workshop. (You may use yelp and imdb review data seperately evaluate the approaches.)"
      ]
    },
    {
      "cell_type": "markdown",
      "metadata": {
        "id": "FSsjUBYZrl-y",
        "colab_type": "text"
      },
      "source": [
        "Previously, we conducted all the pre-processing steps to the entire 3 datasets (amazon, yelp and imdb). This for text classification we will filter only the reviews from amazon."
      ]
    },
    {
      "cell_type": "code",
      "metadata": {
        "id": "Sl8comQ3V0zJ",
        "colab_type": "code",
        "colab": {}
      },
      "source": [
        "df_amazon = df.loc[df['source'] == 'amazon']"
      ],
      "execution_count": 0,
      "outputs": []
    },
    {
      "cell_type": "markdown",
      "metadata": {
        "id": "qm2-8QfKb90u",
        "colab_type": "text"
      },
      "source": [
        ""
      ]
    },
    {
      "cell_type": "code",
      "metadata": {
        "id": "dBIhvHkmWdku",
        "colab_type": "code",
        "colab": {}
      },
      "source": [
        "df_amazon.head()"
      ],
      "execution_count": 0,
      "outputs": []
    },
    {
      "cell_type": "markdown",
      "metadata": {
        "id": "F0JIXz4gr4A0",
        "colab_type": "text"
      },
      "source": [
        "Split train/validation data\n"
      ]
    },
    {
      "cell_type": "code",
      "metadata": {
        "id": "0hNVAhPGXmSi",
        "colab_type": "code",
        "colab": {}
      },
      "source": [
        "from sklearn.model_selection import train_test_split\n",
        "\n",
        "sentences_train, sentences_test, y_train, y_test = train_test_split(df_amazon['sentence_lemmatized'], df_amazon['label'], test_size=0.3, random_state=2)"
      ],
      "execution_count": 0,
      "outputs": []
    },
    {
      "cell_type": "markdown",
      "metadata": {
        "id": "19jv2X2kZV3B",
        "colab_type": "text"
      },
      "source": [
        "### Logistic Regression"
      ]
    },
    {
      "cell_type": "markdown",
      "metadata": {
        "id": "1kPqYktYsOxS",
        "colab_type": "text"
      },
      "source": [
        "We will use the Bag of Words model as text features."
      ]
    },
    {
      "cell_type": "code",
      "metadata": {
        "id": "EOLyQxTqWfWB",
        "colab_type": "code",
        "colab": {}
      },
      "source": [
        "from sklearn.feature_extraction.text import CountVectorizer"
      ],
      "execution_count": 0,
      "outputs": []
    },
    {
      "cell_type": "markdown",
      "metadata": {
        "id": "_aw3BCr0sYLQ",
        "colab_type": "text"
      },
      "source": [
        "Construct the bag of words model."
      ]
    },
    {
      "cell_type": "code",
      "metadata": {
        "id": "kgvIlfHhsYby",
        "colab_type": "code",
        "colab": {}
      },
      "source": [
        "bow = CountVectorizer(min_df=0, lowercase=False)\n",
        "bow.fit(sentences_train)"
      ],
      "execution_count": 0,
      "outputs": []
    },
    {
      "cell_type": "markdown",
      "metadata": {
        "id": "3mj1IC8CsgTW",
        "colab_type": "text"
      },
      "source": [
        "Fit the train and test sentences to transform them to bag-of-word features."
      ]
    },
    {
      "cell_type": "code",
      "metadata": {
        "id": "xNZIJTzdXCbE",
        "colab_type": "code",
        "colab": {}
      },
      "source": [
        "X_train = bow.transform(sentences_train)\n",
        "X_test  = bow.transform(sentences_test)"
      ],
      "execution_count": 0,
      "outputs": []
    },
    {
      "cell_type": "markdown",
      "metadata": {
        "id": "KJ3_5XCOspgD",
        "colab_type": "text"
      },
      "source": [
        "Use a logistic regression model for classification."
      ]
    },
    {
      "cell_type": "code",
      "metadata": {
        "id": "1Xqy_u4hYT2i",
        "colab_type": "code",
        "colab": {}
      },
      "source": [
        "from sklearn.linear_model import LogisticRegression\n",
        "\n",
        "classifier = LogisticRegression()\n",
        "classifier.fit(X_train, y_train)"
      ],
      "execution_count": 0,
      "outputs": []
    },
    {
      "cell_type": "markdown",
      "metadata": {
        "id": "kvhA_f2FtDeU",
        "colab_type": "text"
      },
      "source": [
        "Evaluate the model."
      ]
    },
    {
      "cell_type": "code",
      "metadata": {
        "id": "PhqBSmAfYg6I",
        "colab_type": "code",
        "colab": {}
      },
      "source": [
        "score_train = classifier.score(X_train, y_train)\n",
        "score_test = classifier.score(X_test, y_test)\n",
        "print('Train accuracy: {:.2f}%'.format(score_train*100))\n",
        "print('Test accuracy: {:.2f}%'.format(score_test*100))"
      ],
      "execution_count": 0,
      "outputs": []
    },
    {
      "cell_type": "markdown",
      "metadata": {
        "id": "geKjAtjGtJ6g",
        "colab_type": "text"
      },
      "source": [
        "What can you say about bias and variance of this model?  \n",
        "- Low bias and high variance"
      ]
    },
    {
      "cell_type": "markdown",
      "metadata": {
        "id": "shvn4nHzhIRr",
        "colab_type": "text"
      },
      "source": [
        "## Exercise\n",
        "\n",
        "You may conduct similar classification exercises for yelp and imdb datasets."
      ]
    }
  ]
}